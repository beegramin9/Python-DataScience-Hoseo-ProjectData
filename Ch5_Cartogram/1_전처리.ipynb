{
 "cells": [
  {
   "cell_type": "markdown",
   "metadata": {},
   "source": [
    "# 우리나라 인구 소멸 위기 지역 분석\n",
    "- 인구 소멸 위험 지역 : 65세 이상 노인 인구와 20 ~ 39세 여성 인구를 비교하여,\n",
    "20 ~ 39세 여성/65세 이상 노인 인구 < 0.5 인 지역 <br>\n",
    "- '국가통계포털 인구 가구' > 인구부문 > 총조사 인구 총괄 > 총조사인구 > 성 연령 및 세대구성별 인구\n"
   ]
  },
  {
   "cell_type": "code",
   "execution_count": 39,
   "metadata": {},
   "outputs": [],
   "source": [
    "import pandas as pd\n",
    "import numpy as np"
   ]
  },
  {
   "cell_type": "code",
   "execution_count": 40,
   "metadata": {},
   "outputs": [
    {
     "output_type": "execute_result",
     "data": {
      "text/plain": [
       "  광역시도   시군구  행정구  구분       합계   15세미만  15~19세  20~24세  25~29세  30~34세  ...  \\\n",
       "0   서울    소계  NaN   계  9096901  983091  402343  548245  768413  687804  ...   \n",
       "1   서울    소계  NaN  남자  4386287  505543  201751  233761  377349  341858  ...   \n",
       "2   서울    소계  NaN  여자  4710614  477548  200592  314484  391064  345946  ...   \n",
       "3   서울   종로구  NaN   계   136649   12204    5801    9816   11972    9459  ...   \n",
       "4   서울   종로구  NaN  남자    65594    6183    2803    4230    6167    4747  ...   \n",
       "\n",
       "   40~44세  45~49세  50~54세  55~59세  60~64세  65~69세  70~74세  75~79세  80~84세  \\\n",
       "0  677660  782455  731258  728273  664875  465250  370242  280007  163363   \n",
       "1  335606  385491  354886  349208  313417  218378  170303  126711   66754   \n",
       "2  342054  396964  376372  379065  351458  246872  199939  153296   96609   \n",
       "3    9034   11784   11462   11781   10125    7057    5960    5277    3341   \n",
       "4    4341    5709    5511    5773    5021    3369    2659    2290    1387   \n",
       "\n",
       "   85세이상  \n",
       "0  96792  \n",
       "1  30757  \n",
       "2  66035  \n",
       "3   2065  \n",
       "4    747  \n",
       "\n",
       "[5 rows x 21 columns]"
      ],
      "text/html": "<div>\n<style scoped>\n    .dataframe tbody tr th:only-of-type {\n        vertical-align: middle;\n    }\n\n    .dataframe tbody tr th {\n        vertical-align: top;\n    }\n\n    .dataframe thead th {\n        text-align: right;\n    }\n</style>\n<table border=\"1\" class=\"dataframe\">\n  <thead>\n    <tr style=\"text-align: right;\">\n      <th></th>\n      <th>광역시도</th>\n      <th>시군구</th>\n      <th>행정구</th>\n      <th>구분</th>\n      <th>합계</th>\n      <th>15세미만</th>\n      <th>15~19세</th>\n      <th>20~24세</th>\n      <th>25~29세</th>\n      <th>30~34세</th>\n      <th>...</th>\n      <th>40~44세</th>\n      <th>45~49세</th>\n      <th>50~54세</th>\n      <th>55~59세</th>\n      <th>60~64세</th>\n      <th>65~69세</th>\n      <th>70~74세</th>\n      <th>75~79세</th>\n      <th>80~84세</th>\n      <th>85세이상</th>\n    </tr>\n  </thead>\n  <tbody>\n    <tr>\n      <th>0</th>\n      <td>서울</td>\n      <td>소계</td>\n      <td>NaN</td>\n      <td>계</td>\n      <td>9096901</td>\n      <td>983091</td>\n      <td>402343</td>\n      <td>548245</td>\n      <td>768413</td>\n      <td>687804</td>\n      <td>...</td>\n      <td>677660</td>\n      <td>782455</td>\n      <td>731258</td>\n      <td>728273</td>\n      <td>664875</td>\n      <td>465250</td>\n      <td>370242</td>\n      <td>280007</td>\n      <td>163363</td>\n      <td>96792</td>\n    </tr>\n    <tr>\n      <th>1</th>\n      <td>서울</td>\n      <td>소계</td>\n      <td>NaN</td>\n      <td>남자</td>\n      <td>4386287</td>\n      <td>505543</td>\n      <td>201751</td>\n      <td>233761</td>\n      <td>377349</td>\n      <td>341858</td>\n      <td>...</td>\n      <td>335606</td>\n      <td>385491</td>\n      <td>354886</td>\n      <td>349208</td>\n      <td>313417</td>\n      <td>218378</td>\n      <td>170303</td>\n      <td>126711</td>\n      <td>66754</td>\n      <td>30757</td>\n    </tr>\n    <tr>\n      <th>2</th>\n      <td>서울</td>\n      <td>소계</td>\n      <td>NaN</td>\n      <td>여자</td>\n      <td>4710614</td>\n      <td>477548</td>\n      <td>200592</td>\n      <td>314484</td>\n      <td>391064</td>\n      <td>345946</td>\n      <td>...</td>\n      <td>342054</td>\n      <td>396964</td>\n      <td>376372</td>\n      <td>379065</td>\n      <td>351458</td>\n      <td>246872</td>\n      <td>199939</td>\n      <td>153296</td>\n      <td>96609</td>\n      <td>66035</td>\n    </tr>\n    <tr>\n      <th>3</th>\n      <td>서울</td>\n      <td>종로구</td>\n      <td>NaN</td>\n      <td>계</td>\n      <td>136649</td>\n      <td>12204</td>\n      <td>5801</td>\n      <td>9816</td>\n      <td>11972</td>\n      <td>9459</td>\n      <td>...</td>\n      <td>9034</td>\n      <td>11784</td>\n      <td>11462</td>\n      <td>11781</td>\n      <td>10125</td>\n      <td>7057</td>\n      <td>5960</td>\n      <td>5277</td>\n      <td>3341</td>\n      <td>2065</td>\n    </tr>\n    <tr>\n      <th>4</th>\n      <td>서울</td>\n      <td>종로구</td>\n      <td>NaN</td>\n      <td>남자</td>\n      <td>65594</td>\n      <td>6183</td>\n      <td>2803</td>\n      <td>4230</td>\n      <td>6167</td>\n      <td>4747</td>\n      <td>...</td>\n      <td>4341</td>\n      <td>5709</td>\n      <td>5511</td>\n      <td>5773</td>\n      <td>5021</td>\n      <td>3369</td>\n      <td>2659</td>\n      <td>2290</td>\n      <td>1387</td>\n      <td>747</td>\n    </tr>\n  </tbody>\n</table>\n<p>5 rows × 21 columns</p>\n</div>"
     },
     "metadata": {},
     "execution_count": 40
    }
   ],
   "source": [
    "pop = pd.read_csv('./source/성별, 연령별 인구 - 시군구(2019).csv', sep = ',', encoding='euc-kr')\n",
    "pop.head()"
   ]
  },
  {
   "source": [
    "## 서울처럼 시군구만 있고 행정구가 없어 NaN이 되는 경우, 경기도처럼 행정구도 있는 경우\n",
    "\n",
    "즉 NaN을 같은 열의 바로 앞 인덱스(한칸 위)로 채움 <br>\n",
    "- df.fillna(method = 'pad', inplace = True)"
   ],
   "cell_type": "markdown",
   "metadata": {}
  },
  {
   "cell_type": "code",
   "execution_count": 41,
   "metadata": {},
   "outputs": [
    {
     "output_type": "execute_result",
     "data": {
      "text/plain": [
       "    광역시도   시군구   행정구  구분        합계    15세미만  15~19세  20~24세  25~29세  30~34세  \\\n",
       "249   경기    소계   NaN   계  12437493  1780295  618620  670267  853024  809456   \n",
       "250   경기    소계   NaN  남자   6186317   912898  314381  312258  445138  414592   \n",
       "251   경기    소계   NaN  여자   6251176   867397  304239  358009  407886  394864   \n",
       "252   경기   수원시    소계   계   1135358   158249   59415   70240   93957   82625   \n",
       "253   경기   수원시    소계  남자    565728    81490   30411   32716   49813   43088   \n",
       "254   경기   수원시    소계  여자    569630    76759   29004   37524   44144   39537   \n",
       "255   경기   수원시   장안구   계    262957    33148   14970   17775   20325   14990   \n",
       "\n",
       "     ...   40~44세   45~49세   50~54세   55~59세  60~64세  65~69세  70~74세  75~79세  \\\n",
       "249  ...  1027268  1161425  1087603  1024664  819471  511765  394666  310540   \n",
       "250  ...   518975   585812   542592   517387  408870  247975  184317  134215   \n",
       "251  ...   508293   575613   545011   507277  410601  263790  210349  176325   \n",
       "252  ...    94055   104614    99866    90931   66430   40277   30043   22987   \n",
       "253  ...    47371    52198    48749    45974   33130   19354   13960    9697   \n",
       "254  ...    46684    52416    51117    44957   33300   20923   16083   13290   \n",
       "255  ...    20450    25477    25346    22674   16863   10534    8217    6633   \n",
       "\n",
       "     80~84세   85세이상  \n",
       "249  200400  121659  \n",
       "250   77861   37784  \n",
       "251  122539   83875  \n",
       "252   14744    9389  \n",
       "253    5490    2743  \n",
       "254    9254    6646  \n",
       "255    4422    2768  \n",
       "\n",
       "[7 rows x 21 columns]"
      ],
      "text/html": "<div>\n<style scoped>\n    .dataframe tbody tr th:only-of-type {\n        vertical-align: middle;\n    }\n\n    .dataframe tbody tr th {\n        vertical-align: top;\n    }\n\n    .dataframe thead th {\n        text-align: right;\n    }\n</style>\n<table border=\"1\" class=\"dataframe\">\n  <thead>\n    <tr style=\"text-align: right;\">\n      <th></th>\n      <th>광역시도</th>\n      <th>시군구</th>\n      <th>행정구</th>\n      <th>구분</th>\n      <th>합계</th>\n      <th>15세미만</th>\n      <th>15~19세</th>\n      <th>20~24세</th>\n      <th>25~29세</th>\n      <th>30~34세</th>\n      <th>...</th>\n      <th>40~44세</th>\n      <th>45~49세</th>\n      <th>50~54세</th>\n      <th>55~59세</th>\n      <th>60~64세</th>\n      <th>65~69세</th>\n      <th>70~74세</th>\n      <th>75~79세</th>\n      <th>80~84세</th>\n      <th>85세이상</th>\n    </tr>\n  </thead>\n  <tbody>\n    <tr>\n      <th>249</th>\n      <td>경기</td>\n      <td>소계</td>\n      <td>NaN</td>\n      <td>계</td>\n      <td>12437493</td>\n      <td>1780295</td>\n      <td>618620</td>\n      <td>670267</td>\n      <td>853024</td>\n      <td>809456</td>\n      <td>...</td>\n      <td>1027268</td>\n      <td>1161425</td>\n      <td>1087603</td>\n      <td>1024664</td>\n      <td>819471</td>\n      <td>511765</td>\n      <td>394666</td>\n      <td>310540</td>\n      <td>200400</td>\n      <td>121659</td>\n    </tr>\n    <tr>\n      <th>250</th>\n      <td>경기</td>\n      <td>소계</td>\n      <td>NaN</td>\n      <td>남자</td>\n      <td>6186317</td>\n      <td>912898</td>\n      <td>314381</td>\n      <td>312258</td>\n      <td>445138</td>\n      <td>414592</td>\n      <td>...</td>\n      <td>518975</td>\n      <td>585812</td>\n      <td>542592</td>\n      <td>517387</td>\n      <td>408870</td>\n      <td>247975</td>\n      <td>184317</td>\n      <td>134215</td>\n      <td>77861</td>\n      <td>37784</td>\n    </tr>\n    <tr>\n      <th>251</th>\n      <td>경기</td>\n      <td>소계</td>\n      <td>NaN</td>\n      <td>여자</td>\n      <td>6251176</td>\n      <td>867397</td>\n      <td>304239</td>\n      <td>358009</td>\n      <td>407886</td>\n      <td>394864</td>\n      <td>...</td>\n      <td>508293</td>\n      <td>575613</td>\n      <td>545011</td>\n      <td>507277</td>\n      <td>410601</td>\n      <td>263790</td>\n      <td>210349</td>\n      <td>176325</td>\n      <td>122539</td>\n      <td>83875</td>\n    </tr>\n    <tr>\n      <th>252</th>\n      <td>경기</td>\n      <td>수원시</td>\n      <td>소계</td>\n      <td>계</td>\n      <td>1135358</td>\n      <td>158249</td>\n      <td>59415</td>\n      <td>70240</td>\n      <td>93957</td>\n      <td>82625</td>\n      <td>...</td>\n      <td>94055</td>\n      <td>104614</td>\n      <td>99866</td>\n      <td>90931</td>\n      <td>66430</td>\n      <td>40277</td>\n      <td>30043</td>\n      <td>22987</td>\n      <td>14744</td>\n      <td>9389</td>\n    </tr>\n    <tr>\n      <th>253</th>\n      <td>경기</td>\n      <td>수원시</td>\n      <td>소계</td>\n      <td>남자</td>\n      <td>565728</td>\n      <td>81490</td>\n      <td>30411</td>\n      <td>32716</td>\n      <td>49813</td>\n      <td>43088</td>\n      <td>...</td>\n      <td>47371</td>\n      <td>52198</td>\n      <td>48749</td>\n      <td>45974</td>\n      <td>33130</td>\n      <td>19354</td>\n      <td>13960</td>\n      <td>9697</td>\n      <td>5490</td>\n      <td>2743</td>\n    </tr>\n    <tr>\n      <th>254</th>\n      <td>경기</td>\n      <td>수원시</td>\n      <td>소계</td>\n      <td>여자</td>\n      <td>569630</td>\n      <td>76759</td>\n      <td>29004</td>\n      <td>37524</td>\n      <td>44144</td>\n      <td>39537</td>\n      <td>...</td>\n      <td>46684</td>\n      <td>52416</td>\n      <td>51117</td>\n      <td>44957</td>\n      <td>33300</td>\n      <td>20923</td>\n      <td>16083</td>\n      <td>13290</td>\n      <td>9254</td>\n      <td>6646</td>\n    </tr>\n    <tr>\n      <th>255</th>\n      <td>경기</td>\n      <td>수원시</td>\n      <td>장안구</td>\n      <td>계</td>\n      <td>262957</td>\n      <td>33148</td>\n      <td>14970</td>\n      <td>17775</td>\n      <td>20325</td>\n      <td>14990</td>\n      <td>...</td>\n      <td>20450</td>\n      <td>25477</td>\n      <td>25346</td>\n      <td>22674</td>\n      <td>16863</td>\n      <td>10534</td>\n      <td>8217</td>\n      <td>6633</td>\n      <td>4422</td>\n      <td>2768</td>\n    </tr>\n  </tbody>\n</table>\n<p>7 rows × 21 columns</p>\n</div>"
     },
     "metadata": {},
     "execution_count": 41
    }
   ],
   "source": [
    "pop.fillna(method='pad', inplace = True)\n",
    "pop[pop['광역시도']=='경기'].head(7)"
   ]
  },
  {
   "cell_type": "code",
   "execution_count": 42,
   "metadata": {},
   "outputs": [
    {
     "output_type": "execute_result",
     "data": {
      "text/plain": [
       "  광역시도    시도  행정구  구분      인구수   15세미만  15~19세  20~24세  25~29세  30~34세  ...  \\\n",
       "0   서울    소계  NaN   계  9096901  983091  402343  548245  768413  687804  ...   \n",
       "1   서울    소계  NaN  남자  4386287  505543  201751  233761  377349  341858  ...   \n",
       "2   서울    소계  NaN  여자  4710614  477548  200592  314484  391064  345946  ...   \n",
       "3   서울   종로구  NaN   계   136649   12204    5801    9816   11972    9459  ...   \n",
       "4   서울   종로구  NaN  남자    65594    6183    2803    4230    6167    4747  ...   \n",
       "\n",
       "   40~44세  45~49세  50~54세  55~59세  60~64세  65~69세  70~74세  75~79세  80~84세  \\\n",
       "0  677660  782455  731258  728273  664875  465250  370242  280007  163363   \n",
       "1  335606  385491  354886  349208  313417  218378  170303  126711   66754   \n",
       "2  342054  396964  376372  379065  351458  246872  199939  153296   96609   \n",
       "3    9034   11784   11462   11781   10125    7057    5960    5277    3341   \n",
       "4    4341    5709    5511    5773    5021    3369    2659    2290    1387   \n",
       "\n",
       "   85세이상  \n",
       "0  96792  \n",
       "1  30757  \n",
       "2  66035  \n",
       "3   2065  \n",
       "4    747  \n",
       "\n",
       "[5 rows x 21 columns]"
      ],
      "text/html": "<div>\n<style scoped>\n    .dataframe tbody tr th:only-of-type {\n        vertical-align: middle;\n    }\n\n    .dataframe tbody tr th {\n        vertical-align: top;\n    }\n\n    .dataframe thead th {\n        text-align: right;\n    }\n</style>\n<table border=\"1\" class=\"dataframe\">\n  <thead>\n    <tr style=\"text-align: right;\">\n      <th></th>\n      <th>광역시도</th>\n      <th>시도</th>\n      <th>행정구</th>\n      <th>구분</th>\n      <th>인구수</th>\n      <th>15세미만</th>\n      <th>15~19세</th>\n      <th>20~24세</th>\n      <th>25~29세</th>\n      <th>30~34세</th>\n      <th>...</th>\n      <th>40~44세</th>\n      <th>45~49세</th>\n      <th>50~54세</th>\n      <th>55~59세</th>\n      <th>60~64세</th>\n      <th>65~69세</th>\n      <th>70~74세</th>\n      <th>75~79세</th>\n      <th>80~84세</th>\n      <th>85세이상</th>\n    </tr>\n  </thead>\n  <tbody>\n    <tr>\n      <th>0</th>\n      <td>서울</td>\n      <td>소계</td>\n      <td>NaN</td>\n      <td>계</td>\n      <td>9096901</td>\n      <td>983091</td>\n      <td>402343</td>\n      <td>548245</td>\n      <td>768413</td>\n      <td>687804</td>\n      <td>...</td>\n      <td>677660</td>\n      <td>782455</td>\n      <td>731258</td>\n      <td>728273</td>\n      <td>664875</td>\n      <td>465250</td>\n      <td>370242</td>\n      <td>280007</td>\n      <td>163363</td>\n      <td>96792</td>\n    </tr>\n    <tr>\n      <th>1</th>\n      <td>서울</td>\n      <td>소계</td>\n      <td>NaN</td>\n      <td>남자</td>\n      <td>4386287</td>\n      <td>505543</td>\n      <td>201751</td>\n      <td>233761</td>\n      <td>377349</td>\n      <td>341858</td>\n      <td>...</td>\n      <td>335606</td>\n      <td>385491</td>\n      <td>354886</td>\n      <td>349208</td>\n      <td>313417</td>\n      <td>218378</td>\n      <td>170303</td>\n      <td>126711</td>\n      <td>66754</td>\n      <td>30757</td>\n    </tr>\n    <tr>\n      <th>2</th>\n      <td>서울</td>\n      <td>소계</td>\n      <td>NaN</td>\n      <td>여자</td>\n      <td>4710614</td>\n      <td>477548</td>\n      <td>200592</td>\n      <td>314484</td>\n      <td>391064</td>\n      <td>345946</td>\n      <td>...</td>\n      <td>342054</td>\n      <td>396964</td>\n      <td>376372</td>\n      <td>379065</td>\n      <td>351458</td>\n      <td>246872</td>\n      <td>199939</td>\n      <td>153296</td>\n      <td>96609</td>\n      <td>66035</td>\n    </tr>\n    <tr>\n      <th>3</th>\n      <td>서울</td>\n      <td>종로구</td>\n      <td>NaN</td>\n      <td>계</td>\n      <td>136649</td>\n      <td>12204</td>\n      <td>5801</td>\n      <td>9816</td>\n      <td>11972</td>\n      <td>9459</td>\n      <td>...</td>\n      <td>9034</td>\n      <td>11784</td>\n      <td>11462</td>\n      <td>11781</td>\n      <td>10125</td>\n      <td>7057</td>\n      <td>5960</td>\n      <td>5277</td>\n      <td>3341</td>\n      <td>2065</td>\n    </tr>\n    <tr>\n      <th>4</th>\n      <td>서울</td>\n      <td>종로구</td>\n      <td>NaN</td>\n      <td>남자</td>\n      <td>65594</td>\n      <td>6183</td>\n      <td>2803</td>\n      <td>4230</td>\n      <td>6167</td>\n      <td>4747</td>\n      <td>...</td>\n      <td>4341</td>\n      <td>5709</td>\n      <td>5511</td>\n      <td>5773</td>\n      <td>5021</td>\n      <td>3369</td>\n      <td>2659</td>\n      <td>2290</td>\n      <td>1387</td>\n      <td>747</td>\n    </tr>\n  </tbody>\n</table>\n<p>5 rows × 21 columns</p>\n</div>"
     },
     "metadata": {},
     "execution_count": 42
    }
   ],
   "source": [
    "pop.rename(columns={\n",
    "    '시군구':'시도',\n",
    "    '합계':'인구수'\n",
    "},inplace=True)\n",
    "pop.head()"
   ]
  },
  {
   "source": [
    "## 시도가 소계(=합계)라고 나온 행은 전국, 시 전체 인구를 합친 값. 성별과 연령을 쪼갠 데이터가 아니라 쓸모 없음. \n",
    "- 밑에 어짜피 시도로 구분되어 나와있음 <br>\n",
    "특정 행 제거"
   ],
   "cell_type": "markdown",
   "metadata": {}
  },
  {
   "cell_type": "code",
   "execution_count": 43,
   "metadata": {},
   "outputs": [
    {
     "output_type": "execute_result",
     "data": {
      "text/plain": [
       "  광역시도    시도  행정구  구분     인구수  15세미만  15~19세  20~24세  25~29세  30~34세  ...  \\\n",
       "3   서울   종로구  NaN   계  136649  12204    5801    9816   11972    9459  ...   \n",
       "4   서울   종로구  NaN  남자   65594   6183    2803    4230    6167    4747  ...   \n",
       "5   서울   종로구  NaN  여자   71055   6021    2998    5586    5805    4712  ...   \n",
       "6   서울    중구  NaN   계  115665   9839    3896    7511   10304    9636  ...   \n",
       "7   서울    중구  NaN  남자   55820   4988    1896    3103    5115    4790  ...   \n",
       "\n",
       "   40~44세  45~49세  50~54세  55~59세  60~64세  65~69세  70~74세  75~79세  80~84세  \\\n",
       "3    9034   11784   11462   11781   10125    7057    5960    5277    3341   \n",
       "4    4341    5709    5511    5773    5021    3369    2659    2290    1387   \n",
       "5    4693    6075    5951    6008    5104    3688    3301    2987    1954   \n",
       "6    7836    8903    9313    9786    9002    6211    5077    4201    2581   \n",
       "7    4054    4423    4587    4830    4430    2998    2295    1795    1003   \n",
       "\n",
       "   85세이상  \n",
       "3   2065  \n",
       "4    747  \n",
       "5   1318  \n",
       "6   1695  \n",
       "7    523  \n",
       "\n",
       "[5 rows x 21 columns]"
      ],
      "text/html": "<div>\n<style scoped>\n    .dataframe tbody tr th:only-of-type {\n        vertical-align: middle;\n    }\n\n    .dataframe tbody tr th {\n        vertical-align: top;\n    }\n\n    .dataframe thead th {\n        text-align: right;\n    }\n</style>\n<table border=\"1\" class=\"dataframe\">\n  <thead>\n    <tr style=\"text-align: right;\">\n      <th></th>\n      <th>광역시도</th>\n      <th>시도</th>\n      <th>행정구</th>\n      <th>구분</th>\n      <th>인구수</th>\n      <th>15세미만</th>\n      <th>15~19세</th>\n      <th>20~24세</th>\n      <th>25~29세</th>\n      <th>30~34세</th>\n      <th>...</th>\n      <th>40~44세</th>\n      <th>45~49세</th>\n      <th>50~54세</th>\n      <th>55~59세</th>\n      <th>60~64세</th>\n      <th>65~69세</th>\n      <th>70~74세</th>\n      <th>75~79세</th>\n      <th>80~84세</th>\n      <th>85세이상</th>\n    </tr>\n  </thead>\n  <tbody>\n    <tr>\n      <th>3</th>\n      <td>서울</td>\n      <td>종로구</td>\n      <td>NaN</td>\n      <td>계</td>\n      <td>136649</td>\n      <td>12204</td>\n      <td>5801</td>\n      <td>9816</td>\n      <td>11972</td>\n      <td>9459</td>\n      <td>...</td>\n      <td>9034</td>\n      <td>11784</td>\n      <td>11462</td>\n      <td>11781</td>\n      <td>10125</td>\n      <td>7057</td>\n      <td>5960</td>\n      <td>5277</td>\n      <td>3341</td>\n      <td>2065</td>\n    </tr>\n    <tr>\n      <th>4</th>\n      <td>서울</td>\n      <td>종로구</td>\n      <td>NaN</td>\n      <td>남자</td>\n      <td>65594</td>\n      <td>6183</td>\n      <td>2803</td>\n      <td>4230</td>\n      <td>6167</td>\n      <td>4747</td>\n      <td>...</td>\n      <td>4341</td>\n      <td>5709</td>\n      <td>5511</td>\n      <td>5773</td>\n      <td>5021</td>\n      <td>3369</td>\n      <td>2659</td>\n      <td>2290</td>\n      <td>1387</td>\n      <td>747</td>\n    </tr>\n    <tr>\n      <th>5</th>\n      <td>서울</td>\n      <td>종로구</td>\n      <td>NaN</td>\n      <td>여자</td>\n      <td>71055</td>\n      <td>6021</td>\n      <td>2998</td>\n      <td>5586</td>\n      <td>5805</td>\n      <td>4712</td>\n      <td>...</td>\n      <td>4693</td>\n      <td>6075</td>\n      <td>5951</td>\n      <td>6008</td>\n      <td>5104</td>\n      <td>3688</td>\n      <td>3301</td>\n      <td>2987</td>\n      <td>1954</td>\n      <td>1318</td>\n    </tr>\n    <tr>\n      <th>6</th>\n      <td>서울</td>\n      <td>중구</td>\n      <td>NaN</td>\n      <td>계</td>\n      <td>115665</td>\n      <td>9839</td>\n      <td>3896</td>\n      <td>7511</td>\n      <td>10304</td>\n      <td>9636</td>\n      <td>...</td>\n      <td>7836</td>\n      <td>8903</td>\n      <td>9313</td>\n      <td>9786</td>\n      <td>9002</td>\n      <td>6211</td>\n      <td>5077</td>\n      <td>4201</td>\n      <td>2581</td>\n      <td>1695</td>\n    </tr>\n    <tr>\n      <th>7</th>\n      <td>서울</td>\n      <td>중구</td>\n      <td>NaN</td>\n      <td>남자</td>\n      <td>55820</td>\n      <td>4988</td>\n      <td>1896</td>\n      <td>3103</td>\n      <td>5115</td>\n      <td>4790</td>\n      <td>...</td>\n      <td>4054</td>\n      <td>4423</td>\n      <td>4587</td>\n      <td>4830</td>\n      <td>4430</td>\n      <td>2998</td>\n      <td>2295</td>\n      <td>1795</td>\n      <td>1003</td>\n      <td>523</td>\n    </tr>\n  </tbody>\n</table>\n<p>5 rows × 21 columns</p>\n</div>"
     },
     "metadata": {},
     "execution_count": 43
    }
   ],
   "source": [
    "# '시도' 열이 '소계'가 아닌 행만 남김, 다시 말해 '소계' 인 행만 제거\n",
    "pop = pop[pop['시도'] != '소계']\n",
    "pop.head()"
   ]
  },
  {
   "cell_type": "markdown",
   "metadata": {},
   "source": [
    "# 기준에 따라 20 ~ 39, 65세 이상으로 표 정리하기"
   ]
  },
  {
   "cell_type": "code",
   "execution_count": 44,
   "metadata": {},
   "outputs": [
    {
     "output_type": "execute_result",
     "data": {
      "text/plain": [
       "  광역시도    시도  행정구  구분     인구수  15세미만  15~19세  20~24세  25~29세  30~34세  ...  \\\n",
       "3   서울   종로구  NaN   계  136649  12204    5801    9816   11972    9459  ...   \n",
       "4   서울   종로구  NaN  남자   65594   6183    2803    4230    6167    4747  ...   \n",
       "5   서울   종로구  NaN  여자   71055   6021    2998    5586    5805    4712  ...   \n",
       "6   서울    중구  NaN   계  115665   9839    3896    7511   10304    9636  ...   \n",
       "7   서울    중구  NaN  남자   55820   4988    1896    3103    5115    4790  ...   \n",
       "\n",
       "   50~54세  55~59세  60~64세  65~69세  70~74세  75~79세  80~84세  85세이상  20~39세  \\\n",
       "3   11462   11781   10125    7057    5960    5277    3341   2065   40758   \n",
       "4    5511    5773    5021    3369    2659    2290    1387    747   19801   \n",
       "5    5951    6008    5104    3688    3301    2987    1954   1318   20957   \n",
       "6    9313    9786    9002    6211    5077    4201    2581   1695   37325   \n",
       "7    4587    4830    4430    2998    2295    1795    1003    523   17998   \n",
       "\n",
       "   65세 이상  \n",
       "3   23700  \n",
       "4   10452  \n",
       "5   13248  \n",
       "6   19765  \n",
       "7    8614  \n",
       "\n",
       "[5 rows x 23 columns]"
      ],
      "text/html": "<div>\n<style scoped>\n    .dataframe tbody tr th:only-of-type {\n        vertical-align: middle;\n    }\n\n    .dataframe tbody tr th {\n        vertical-align: top;\n    }\n\n    .dataframe thead th {\n        text-align: right;\n    }\n</style>\n<table border=\"1\" class=\"dataframe\">\n  <thead>\n    <tr style=\"text-align: right;\">\n      <th></th>\n      <th>광역시도</th>\n      <th>시도</th>\n      <th>행정구</th>\n      <th>구분</th>\n      <th>인구수</th>\n      <th>15세미만</th>\n      <th>15~19세</th>\n      <th>20~24세</th>\n      <th>25~29세</th>\n      <th>30~34세</th>\n      <th>...</th>\n      <th>50~54세</th>\n      <th>55~59세</th>\n      <th>60~64세</th>\n      <th>65~69세</th>\n      <th>70~74세</th>\n      <th>75~79세</th>\n      <th>80~84세</th>\n      <th>85세이상</th>\n      <th>20~39세</th>\n      <th>65세 이상</th>\n    </tr>\n  </thead>\n  <tbody>\n    <tr>\n      <th>3</th>\n      <td>서울</td>\n      <td>종로구</td>\n      <td>NaN</td>\n      <td>계</td>\n      <td>136649</td>\n      <td>12204</td>\n      <td>5801</td>\n      <td>9816</td>\n      <td>11972</td>\n      <td>9459</td>\n      <td>...</td>\n      <td>11462</td>\n      <td>11781</td>\n      <td>10125</td>\n      <td>7057</td>\n      <td>5960</td>\n      <td>5277</td>\n      <td>3341</td>\n      <td>2065</td>\n      <td>40758</td>\n      <td>23700</td>\n    </tr>\n    <tr>\n      <th>4</th>\n      <td>서울</td>\n      <td>종로구</td>\n      <td>NaN</td>\n      <td>남자</td>\n      <td>65594</td>\n      <td>6183</td>\n      <td>2803</td>\n      <td>4230</td>\n      <td>6167</td>\n      <td>4747</td>\n      <td>...</td>\n      <td>5511</td>\n      <td>5773</td>\n      <td>5021</td>\n      <td>3369</td>\n      <td>2659</td>\n      <td>2290</td>\n      <td>1387</td>\n      <td>747</td>\n      <td>19801</td>\n      <td>10452</td>\n    </tr>\n    <tr>\n      <th>5</th>\n      <td>서울</td>\n      <td>종로구</td>\n      <td>NaN</td>\n      <td>여자</td>\n      <td>71055</td>\n      <td>6021</td>\n      <td>2998</td>\n      <td>5586</td>\n      <td>5805</td>\n      <td>4712</td>\n      <td>...</td>\n      <td>5951</td>\n      <td>6008</td>\n      <td>5104</td>\n      <td>3688</td>\n      <td>3301</td>\n      <td>2987</td>\n      <td>1954</td>\n      <td>1318</td>\n      <td>20957</td>\n      <td>13248</td>\n    </tr>\n    <tr>\n      <th>6</th>\n      <td>서울</td>\n      <td>중구</td>\n      <td>NaN</td>\n      <td>계</td>\n      <td>115665</td>\n      <td>9839</td>\n      <td>3896</td>\n      <td>7511</td>\n      <td>10304</td>\n      <td>9636</td>\n      <td>...</td>\n      <td>9313</td>\n      <td>9786</td>\n      <td>9002</td>\n      <td>6211</td>\n      <td>5077</td>\n      <td>4201</td>\n      <td>2581</td>\n      <td>1695</td>\n      <td>37325</td>\n      <td>19765</td>\n    </tr>\n    <tr>\n      <th>7</th>\n      <td>서울</td>\n      <td>중구</td>\n      <td>NaN</td>\n      <td>남자</td>\n      <td>55820</td>\n      <td>4988</td>\n      <td>1896</td>\n      <td>3103</td>\n      <td>5115</td>\n      <td>4790</td>\n      <td>...</td>\n      <td>4587</td>\n      <td>4830</td>\n      <td>4430</td>\n      <td>2998</td>\n      <td>2295</td>\n      <td>1795</td>\n      <td>1003</td>\n      <td>523</td>\n      <td>17998</td>\n      <td>8614</td>\n    </tr>\n  </tbody>\n</table>\n<p>5 rows × 23 columns</p>\n</div>"
     },
     "metadata": {},
     "execution_count": 44
    }
   ],
   "source": [
    "pop['20~39세'] = pop['20~24세'] + pop['25~29세'] + pop['30~34세'] + pop['35~39세']\n",
    "pop['65세 이상'] = pop['65~69세'] + pop['70~74세'] + pop['75~79세'] + pop['80~84세'] + pop['85세이상']\n",
    "pop.head()"
   ]
  },
  {
   "cell_type": "markdown",
   "metadata": {},
   "source": [
    "## Pivot_table 메소드로 필요한 열(인구수,20~39세, 65세 이상)만 가져오기\n",
    "※ Pivot으로 못하는 일을 Pivot_table으로는 다 할 수 있으니, Pivot_table만 기억하면 됨"
   ]
  },
  {
   "cell_type": "code",
   "execution_count": 48,
   "metadata": {},
   "outputs": [
    {
     "output_type": "execute_result",
     "data": {
      "text/plain": [
       "          20~39세               65세 이상                   인구수                \n",
       "구분             계     남자     여자      계     남자     여자       계      남자      여자\n",
       "광역시도 시도                                                                    \n",
       "강원    강릉시  46008  25015  20993  40497  17378  23119  203057  101154  101903\n",
       "      고성군   4006   2307   1699   7005   2957   4048   23621   11933   11688\n",
       "      동해시  16311   8801   7510  16152   7075   9077   83888   42093   41795\n",
       "      삼척시  12428   7148   5280  14953   6314   8639   61833   31630   30203\n",
       "      속초시  15928   8517   7411  14010   5866   8144   76302   37488   38814"
      ],
      "text/html": "<div>\n<style scoped>\n    .dataframe tbody tr th:only-of-type {\n        vertical-align: middle;\n    }\n\n    .dataframe tbody tr th {\n        vertical-align: top;\n    }\n\n    .dataframe thead tr th {\n        text-align: left;\n    }\n\n    .dataframe thead tr:last-of-type th {\n        text-align: right;\n    }\n</style>\n<table border=\"1\" class=\"dataframe\">\n  <thead>\n    <tr>\n      <th></th>\n      <th></th>\n      <th colspan=\"3\" halign=\"left\">20~39세</th>\n      <th colspan=\"3\" halign=\"left\">65세 이상</th>\n      <th colspan=\"3\" halign=\"left\">인구수</th>\n    </tr>\n    <tr>\n      <th></th>\n      <th>구분</th>\n      <th>계</th>\n      <th>남자</th>\n      <th>여자</th>\n      <th>계</th>\n      <th>남자</th>\n      <th>여자</th>\n      <th>계</th>\n      <th>남자</th>\n      <th>여자</th>\n    </tr>\n    <tr>\n      <th>광역시도</th>\n      <th>시도</th>\n      <th></th>\n      <th></th>\n      <th></th>\n      <th></th>\n      <th></th>\n      <th></th>\n      <th></th>\n      <th></th>\n      <th></th>\n    </tr>\n  </thead>\n  <tbody>\n    <tr>\n      <th rowspan=\"5\" valign=\"top\">강원</th>\n      <th>강릉시</th>\n      <td>46008</td>\n      <td>25015</td>\n      <td>20993</td>\n      <td>40497</td>\n      <td>17378</td>\n      <td>23119</td>\n      <td>203057</td>\n      <td>101154</td>\n      <td>101903</td>\n    </tr>\n    <tr>\n      <th>고성군</th>\n      <td>4006</td>\n      <td>2307</td>\n      <td>1699</td>\n      <td>7005</td>\n      <td>2957</td>\n      <td>4048</td>\n      <td>23621</td>\n      <td>11933</td>\n      <td>11688</td>\n    </tr>\n    <tr>\n      <th>동해시</th>\n      <td>16311</td>\n      <td>8801</td>\n      <td>7510</td>\n      <td>16152</td>\n      <td>7075</td>\n      <td>9077</td>\n      <td>83888</td>\n      <td>42093</td>\n      <td>41795</td>\n    </tr>\n    <tr>\n      <th>삼척시</th>\n      <td>12428</td>\n      <td>7148</td>\n      <td>5280</td>\n      <td>14953</td>\n      <td>6314</td>\n      <td>8639</td>\n      <td>61833</td>\n      <td>31630</td>\n      <td>30203</td>\n    </tr>\n    <tr>\n      <th>속초시</th>\n      <td>15928</td>\n      <td>8517</td>\n      <td>7411</td>\n      <td>14010</td>\n      <td>5866</td>\n      <td>8144</td>\n      <td>76302</td>\n      <td>37488</td>\n      <td>38814</td>\n    </tr>\n  </tbody>\n</table>\n</div>"
     },
     "metadata": {},
     "execution_count": 48
    }
   ],
   "source": [
    "pop = pd.pivot_table(data   = pop, # 데이터프레임\n",
    "                     index  = ['광역시도','시도'], # 행 위치에 들어갈 열\n",
    "                     values = ['인구수', '20~39세', '65세 이상'], # 데이터로 사용할 열\n",
    "                     columns= ['구분'], # 열 위치에 들어갈 열, values를 세분화하게 됨\n",
    "                     aggfunc= 'sum' # 데이터 집계함수\n",
    "                     )\n",
    "pop.head()"
   ]
  },
  {
   "cell_type": "code",
   "execution_count": 49,
   "metadata": {},
   "outputs": [],
   "source": [
    "pop['소멸 비율'] = pop['20~39세','여자'] / pop['65세 이상','계'] "
   ]
  },
  {
   "cell_type": "code",
   "execution_count": 50,
   "metadata": {},
   "outputs": [
    {
     "output_type": "execute_result",
     "data": {
      "text/plain": [
       "          20~39세               65세 이상                   인구수                  \\\n",
       "구분             계     남자     여자      계     남자     여자       계      남자      여자   \n",
       "광역시도 시도                                                                       \n",
       "강원    강릉시  46008  25015  20993  40497  17378  23119  203057  101154  101903   \n",
       "      고성군   4006   2307   1699   7005   2957   4048   23621   11933   11688   \n",
       "      동해시  16311   8801   7510  16152   7075   9077   83888   42093   41795   \n",
       "      삼척시  12428   7148   5280  14953   6314   8639   61833   31630   30203   \n",
       "      속초시  15928   8517   7411  14010   5866   8144   76302   37488   38814   \n",
       "\n",
       "              소멸 비율 소멸 위기 지역  \n",
       "구분                            \n",
       "광역시도 시도                       \n",
       "강원    강릉시  0.518384    False  \n",
       "      고성군  0.242541     True  \n",
       "      동해시  0.464958     True  \n",
       "      삼척시  0.353106     True  \n",
       "      속초시  0.528979    False  "
      ],
      "text/html": "<div>\n<style scoped>\n    .dataframe tbody tr th:only-of-type {\n        vertical-align: middle;\n    }\n\n    .dataframe tbody tr th {\n        vertical-align: top;\n    }\n\n    .dataframe thead tr th {\n        text-align: left;\n    }\n\n    .dataframe thead tr:last-of-type th {\n        text-align: right;\n    }\n</style>\n<table border=\"1\" class=\"dataframe\">\n  <thead>\n    <tr>\n      <th></th>\n      <th></th>\n      <th colspan=\"3\" halign=\"left\">20~39세</th>\n      <th colspan=\"3\" halign=\"left\">65세 이상</th>\n      <th colspan=\"3\" halign=\"left\">인구수</th>\n      <th>소멸 비율</th>\n      <th>소멸 위기 지역</th>\n    </tr>\n    <tr>\n      <th></th>\n      <th>구분</th>\n      <th>계</th>\n      <th>남자</th>\n      <th>여자</th>\n      <th>계</th>\n      <th>남자</th>\n      <th>여자</th>\n      <th>계</th>\n      <th>남자</th>\n      <th>여자</th>\n      <th></th>\n      <th></th>\n    </tr>\n    <tr>\n      <th>광역시도</th>\n      <th>시도</th>\n      <th></th>\n      <th></th>\n      <th></th>\n      <th></th>\n      <th></th>\n      <th></th>\n      <th></th>\n      <th></th>\n      <th></th>\n      <th></th>\n      <th></th>\n    </tr>\n  </thead>\n  <tbody>\n    <tr>\n      <th rowspan=\"5\" valign=\"top\">강원</th>\n      <th>강릉시</th>\n      <td>46008</td>\n      <td>25015</td>\n      <td>20993</td>\n      <td>40497</td>\n      <td>17378</td>\n      <td>23119</td>\n      <td>203057</td>\n      <td>101154</td>\n      <td>101903</td>\n      <td>0.518384</td>\n      <td>False</td>\n    </tr>\n    <tr>\n      <th>고성군</th>\n      <td>4006</td>\n      <td>2307</td>\n      <td>1699</td>\n      <td>7005</td>\n      <td>2957</td>\n      <td>4048</td>\n      <td>23621</td>\n      <td>11933</td>\n      <td>11688</td>\n      <td>0.242541</td>\n      <td>True</td>\n    </tr>\n    <tr>\n      <th>동해시</th>\n      <td>16311</td>\n      <td>8801</td>\n      <td>7510</td>\n      <td>16152</td>\n      <td>7075</td>\n      <td>9077</td>\n      <td>83888</td>\n      <td>42093</td>\n      <td>41795</td>\n      <td>0.464958</td>\n      <td>True</td>\n    </tr>\n    <tr>\n      <th>삼척시</th>\n      <td>12428</td>\n      <td>7148</td>\n      <td>5280</td>\n      <td>14953</td>\n      <td>6314</td>\n      <td>8639</td>\n      <td>61833</td>\n      <td>31630</td>\n      <td>30203</td>\n      <td>0.353106</td>\n      <td>True</td>\n    </tr>\n    <tr>\n      <th>속초시</th>\n      <td>15928</td>\n      <td>8517</td>\n      <td>7411</td>\n      <td>14010</td>\n      <td>5866</td>\n      <td>8144</td>\n      <td>76302</td>\n      <td>37488</td>\n      <td>38814</td>\n      <td>0.528979</td>\n      <td>False</td>\n    </tr>\n  </tbody>\n</table>\n</div>"
     },
     "metadata": {},
     "execution_count": 50
    }
   ],
   "source": [
    "pop['소멸 위기 지역'] = pop['소멸 비율'] < 0.5\n",
    "pop.head()"
   ]
  },
  {
   "source": [
    "## Pivot_table 할 때 행 인덱스를 '광역시도', '시도' 멀티인덱스로 설정\n",
    "- 때문에 '시도'만 보고 싶다면 꺼낼 때 get_level_values() 사용해야 함"
   ],
   "cell_type": "markdown",
   "metadata": {}
  },
  {
   "cell_type": "code",
   "execution_count": 51,
   "metadata": {},
   "outputs": [
    {
     "output_type": "execute_result",
     "data": {
      "text/plain": [
       "          20~39세             65세 이상                인구수                \\\n",
       "구분             계    남자    여자      계    남자    여자      계     남자     여자   \n",
       "광역시도 시도                                                                \n",
       "강원    고성군   4006  2307  1699   7005  2957  4048  23621  11933  11688   \n",
       "      동해시  16311  8801  7510  16152  7075  9077  83888  42093  41795   \n",
       "      삼척시  12428  7148  5280  14953  6314  8639  61833  31630  30203   \n",
       "      양구군   4656  2640  2016   4123  1784  2339  19900  10272   9628   \n",
       "      양양군   4020  2210  1810   7405  3240  4165  25125  12599  12526   \n",
       "\n",
       "              소멸 비율 소멸 위기 지역  \n",
       "구분                            \n",
       "광역시도 시도                       \n",
       "강원    고성군  0.242541     True  \n",
       "      동해시  0.464958     True  \n",
       "      삼척시  0.353106     True  \n",
       "      양구군  0.488964     True  \n",
       "      양양군  0.244429     True  "
      ],
      "text/html": "<div>\n<style scoped>\n    .dataframe tbody tr th:only-of-type {\n        vertical-align: middle;\n    }\n\n    .dataframe tbody tr th {\n        vertical-align: top;\n    }\n\n    .dataframe thead tr th {\n        text-align: left;\n    }\n\n    .dataframe thead tr:last-of-type th {\n        text-align: right;\n    }\n</style>\n<table border=\"1\" class=\"dataframe\">\n  <thead>\n    <tr>\n      <th></th>\n      <th></th>\n      <th colspan=\"3\" halign=\"left\">20~39세</th>\n      <th colspan=\"3\" halign=\"left\">65세 이상</th>\n      <th colspan=\"3\" halign=\"left\">인구수</th>\n      <th>소멸 비율</th>\n      <th>소멸 위기 지역</th>\n    </tr>\n    <tr>\n      <th></th>\n      <th>구분</th>\n      <th>계</th>\n      <th>남자</th>\n      <th>여자</th>\n      <th>계</th>\n      <th>남자</th>\n      <th>여자</th>\n      <th>계</th>\n      <th>남자</th>\n      <th>여자</th>\n      <th></th>\n      <th></th>\n    </tr>\n    <tr>\n      <th>광역시도</th>\n      <th>시도</th>\n      <th></th>\n      <th></th>\n      <th></th>\n      <th></th>\n      <th></th>\n      <th></th>\n      <th></th>\n      <th></th>\n      <th></th>\n      <th></th>\n      <th></th>\n    </tr>\n  </thead>\n  <tbody>\n    <tr>\n      <th rowspan=\"5\" valign=\"top\">강원</th>\n      <th>고성군</th>\n      <td>4006</td>\n      <td>2307</td>\n      <td>1699</td>\n      <td>7005</td>\n      <td>2957</td>\n      <td>4048</td>\n      <td>23621</td>\n      <td>11933</td>\n      <td>11688</td>\n      <td>0.242541</td>\n      <td>True</td>\n    </tr>\n    <tr>\n      <th>동해시</th>\n      <td>16311</td>\n      <td>8801</td>\n      <td>7510</td>\n      <td>16152</td>\n      <td>7075</td>\n      <td>9077</td>\n      <td>83888</td>\n      <td>42093</td>\n      <td>41795</td>\n      <td>0.464958</td>\n      <td>True</td>\n    </tr>\n    <tr>\n      <th>삼척시</th>\n      <td>12428</td>\n      <td>7148</td>\n      <td>5280</td>\n      <td>14953</td>\n      <td>6314</td>\n      <td>8639</td>\n      <td>61833</td>\n      <td>31630</td>\n      <td>30203</td>\n      <td>0.353106</td>\n      <td>True</td>\n    </tr>\n    <tr>\n      <th>양구군</th>\n      <td>4656</td>\n      <td>2640</td>\n      <td>2016</td>\n      <td>4123</td>\n      <td>1784</td>\n      <td>2339</td>\n      <td>19900</td>\n      <td>10272</td>\n      <td>9628</td>\n      <td>0.488964</td>\n      <td>True</td>\n    </tr>\n    <tr>\n      <th>양양군</th>\n      <td>4020</td>\n      <td>2210</td>\n      <td>1810</td>\n      <td>7405</td>\n      <td>3240</td>\n      <td>4165</td>\n      <td>25125</td>\n      <td>12599</td>\n      <td>12526</td>\n      <td>0.244429</td>\n      <td>True</td>\n    </tr>\n  </tbody>\n</table>\n</div>"
     },
     "metadata": {},
     "execution_count": 51
    }
   ],
   "source": [
    "pop[pop['소멸 위기 지역'] == True].head()"
   ]
  },
  {
   "cell_type": "code",
   "execution_count": 52,
   "metadata": {},
   "outputs": [
    {
     "output_type": "execute_result",
     "data": {
      "text/plain": [
       "array([' 강릉시', ' 고성군', ' 동해시', ' 삼척시', ' 속초시', ' 양구군', ' 양양군', ' 영월군',\n",
       "       ' 원주시', ' 인제군'], dtype=object)"
      ]
     },
     "metadata": {},
     "execution_count": 52
    }
   ],
   "source": [
    "pop.index.get_level_values(1).to_numpy()[:10]"
   ]
  },
  {
   "cell_type": "markdown",
   "metadata": {},
   "source": [
    "## Pivot_table로 깔끔하게 정리는 됐지만 멀티컬럼즈가 되어버림\n",
    "- 시각화를 위해 다시 단일컬럼즈로 초기화하는 작업"
   ]
  },
  {
   "cell_type": "code",
   "execution_count": 55,
   "metadata": {},
   "outputs": [
    {
     "output_type": "execute_result",
     "data": {
      "text/plain": [
       "(Index(['20~39세', '20~39세', '20~39세', '65세 이상', '65세 이상', '65세 이상', '인구수',\n",
       "        '인구수', '인구수', '소멸 비율', '소멸 위기 지역'],\n",
       "       dtype='object'),\n",
       " Index(['계', '남자', '여자', '계', '남자', '여자', '계', '남자', '여자', '', ''], dtype='object', name='구분'))"
      ]
     },
     "metadata": {},
     "execution_count": 55
    }
   ],
   "source": [
    "pop.columns.get_level_values(0), \\\n",
    "pop.columns.get_level_values(1)"
   ]
  },
  {
   "cell_type": "code",
   "execution_count": 59,
   "metadata": {},
   "outputs": [
    {
     "output_type": "execute_result",
     "data": {
      "text/plain": [
       "           20~39세계  20~39세남자  20~39세여자  65세 이상계  65세 이상남자  65세 이상여자    인구수계  \\\n",
       "광역시도 시도                                                                       \n",
       "강원    강릉시    46008     25015     20993    40497     17378     23119  203057   \n",
       "      고성군     4006      2307      1699     7005      2957      4048   23621   \n",
       "      동해시    16311      8801      7510    16152      7075      9077   83888   \n",
       "      삼척시    12428      7148      5280    14953      6314      8639   61833   \n",
       "      속초시    15928      8517      7411    14010      5866      8144   76302   \n",
       "\n",
       "            인구수남자   인구수여자     소멸 비율  소멸 위기 지역  \n",
       "광역시도 시도                                        \n",
       "강원    강릉시  101154  101903  0.518384     False  \n",
       "      고성군   11933   11688  0.242541      True  \n",
       "      동해시   42093   41795  0.464958      True  \n",
       "      삼척시   31630   30203  0.353106      True  \n",
       "      속초시   37488   38814  0.528979     False  "
      ],
      "text/html": "<div>\n<style scoped>\n    .dataframe tbody tr th:only-of-type {\n        vertical-align: middle;\n    }\n\n    .dataframe tbody tr th {\n        vertical-align: top;\n    }\n\n    .dataframe thead th {\n        text-align: right;\n    }\n</style>\n<table border=\"1\" class=\"dataframe\">\n  <thead>\n    <tr style=\"text-align: right;\">\n      <th></th>\n      <th></th>\n      <th>20~39세계</th>\n      <th>20~39세남자</th>\n      <th>20~39세여자</th>\n      <th>65세 이상계</th>\n      <th>65세 이상남자</th>\n      <th>65세 이상여자</th>\n      <th>인구수계</th>\n      <th>인구수남자</th>\n      <th>인구수여자</th>\n      <th>소멸 비율</th>\n      <th>소멸 위기 지역</th>\n    </tr>\n    <tr>\n      <th>광역시도</th>\n      <th>시도</th>\n      <th></th>\n      <th></th>\n      <th></th>\n      <th></th>\n      <th></th>\n      <th></th>\n      <th></th>\n      <th></th>\n      <th></th>\n      <th></th>\n      <th></th>\n    </tr>\n  </thead>\n  <tbody>\n    <tr>\n      <th rowspan=\"5\" valign=\"top\">강원</th>\n      <th>강릉시</th>\n      <td>46008</td>\n      <td>25015</td>\n      <td>20993</td>\n      <td>40497</td>\n      <td>17378</td>\n      <td>23119</td>\n      <td>203057</td>\n      <td>101154</td>\n      <td>101903</td>\n      <td>0.518384</td>\n      <td>False</td>\n    </tr>\n    <tr>\n      <th>고성군</th>\n      <td>4006</td>\n      <td>2307</td>\n      <td>1699</td>\n      <td>7005</td>\n      <td>2957</td>\n      <td>4048</td>\n      <td>23621</td>\n      <td>11933</td>\n      <td>11688</td>\n      <td>0.242541</td>\n      <td>True</td>\n    </tr>\n    <tr>\n      <th>동해시</th>\n      <td>16311</td>\n      <td>8801</td>\n      <td>7510</td>\n      <td>16152</td>\n      <td>7075</td>\n      <td>9077</td>\n      <td>83888</td>\n      <td>42093</td>\n      <td>41795</td>\n      <td>0.464958</td>\n      <td>True</td>\n    </tr>\n    <tr>\n      <th>삼척시</th>\n      <td>12428</td>\n      <td>7148</td>\n      <td>5280</td>\n      <td>14953</td>\n      <td>6314</td>\n      <td>8639</td>\n      <td>61833</td>\n      <td>31630</td>\n      <td>30203</td>\n      <td>0.353106</td>\n      <td>True</td>\n    </tr>\n    <tr>\n      <th>속초시</th>\n      <td>15928</td>\n      <td>8517</td>\n      <td>7411</td>\n      <td>14010</td>\n      <td>5866</td>\n      <td>8144</td>\n      <td>76302</td>\n      <td>37488</td>\n      <td>38814</td>\n      <td>0.528979</td>\n      <td>False</td>\n    </tr>\n  </tbody>\n</table>\n</div>"
     },
     "metadata": {},
     "execution_count": 59
    }
   ],
   "source": [
    "tmp_columns = [ pop.columns.get_level_values(0)[n] + pop.columns.get_level_values(1)[n] for n in range(len (pop.columns.get_level_values(0) ) )]\n",
    "pop.columns = tmp_columns\n",
    "pop.head()"
   ]
  },
  {
   "cell_type": "code",
   "execution_count": 61,
   "metadata": {},
   "outputs": [],
   "source": [
    "pop.to_csv('./result/성별, 연령별 인구 - 시도(2019).csv', sep = ',', encoding = 'utf-8')"
   ]
  }
 ],
 "metadata": {
  "kernelspec": {
   "display_name": "Python 3.8.1 32-bit",
   "language": "python",
   "name": "python38132bit243e625a994649b0a7927380da95a17b"
  },
  "language_info": {
   "codemirror_mode": {
    "name": "ipython",
    "version": 3
   },
   "file_extension": ".py",
   "mimetype": "text/x-python",
   "name": "python",
   "nbconvert_exporter": "python",
   "pygments_lexer": "ipython3",
   "version": "3.8.1-final"
  }
 },
 "nbformat": 4,
 "nbformat_minor": 2
}