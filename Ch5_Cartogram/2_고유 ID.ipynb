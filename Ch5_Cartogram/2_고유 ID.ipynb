{
 "cells": [
  {
   "cell_type": "markdown",
   "metadata": {},
   "source": [
    "# 대한민국 도시 고유 ID 주기\n",
    "## Json파일을 이용해서 Folium으로 그리든, Cartogram으로 표현하든 두 방법 다 각 지역을 대표하는 고유 ID를 만들어줘야 한다."
   ]
  },
  {
   "cell_type": "code",
   "execution_count": 83,
   "metadata": {},
   "outputs": [],
   "source": [
    "import pandas as pd\n",
    "import numpy as np"
   ]
  },
  {
   "cell_type": "code",
   "execution_count": 84,
   "metadata": {},
   "outputs": [
    {
     "output_type": "execute_result",
     "data": {
      "text/plain": [
       "  광역시도    시도  20~39세계  20~39세남자  20~39세여자  65세 이상계  65세 이상남자  65세 이상여자  \\\n",
       "0   강원   강릉시    46008     25015     20993    40497     17378     23119   \n",
       "1   강원   고성군     4006      2307      1699     7005      2957      4048   \n",
       "2   강원   동해시    16311      8801      7510    16152      7075      9077   \n",
       "3   강원   삼척시    12428      7148      5280    14953      6314      8639   \n",
       "4   강원   속초시    15928      8517      7411    14010      5866      8144   \n",
       "\n",
       "     인구수계   인구수남자   인구수여자     소멸 비율  소멸 위기 지역  \n",
       "0  203057  101154  101903  0.518384     False  \n",
       "1   23621   11933   11688  0.242541      True  \n",
       "2   83888   42093   41795  0.464958      True  \n",
       "3   61833   31630   30203  0.353106      True  \n",
       "4   76302   37488   38814  0.528979     False  "
      ],
      "text/html": "<div>\n<style scoped>\n    .dataframe tbody tr th:only-of-type {\n        vertical-align: middle;\n    }\n\n    .dataframe tbody tr th {\n        vertical-align: top;\n    }\n\n    .dataframe thead th {\n        text-align: right;\n    }\n</style>\n<table border=\"1\" class=\"dataframe\">\n  <thead>\n    <tr style=\"text-align: right;\">\n      <th></th>\n      <th>광역시도</th>\n      <th>시도</th>\n      <th>20~39세계</th>\n      <th>20~39세남자</th>\n      <th>20~39세여자</th>\n      <th>65세 이상계</th>\n      <th>65세 이상남자</th>\n      <th>65세 이상여자</th>\n      <th>인구수계</th>\n      <th>인구수남자</th>\n      <th>인구수여자</th>\n      <th>소멸 비율</th>\n      <th>소멸 위기 지역</th>\n    </tr>\n  </thead>\n  <tbody>\n    <tr>\n      <th>0</th>\n      <td>강원</td>\n      <td>강릉시</td>\n      <td>46008</td>\n      <td>25015</td>\n      <td>20993</td>\n      <td>40497</td>\n      <td>17378</td>\n      <td>23119</td>\n      <td>203057</td>\n      <td>101154</td>\n      <td>101903</td>\n      <td>0.518384</td>\n      <td>False</td>\n    </tr>\n    <tr>\n      <th>1</th>\n      <td>강원</td>\n      <td>고성군</td>\n      <td>4006</td>\n      <td>2307</td>\n      <td>1699</td>\n      <td>7005</td>\n      <td>2957</td>\n      <td>4048</td>\n      <td>23621</td>\n      <td>11933</td>\n      <td>11688</td>\n      <td>0.242541</td>\n      <td>True</td>\n    </tr>\n    <tr>\n      <th>2</th>\n      <td>강원</td>\n      <td>동해시</td>\n      <td>16311</td>\n      <td>8801</td>\n      <td>7510</td>\n      <td>16152</td>\n      <td>7075</td>\n      <td>9077</td>\n      <td>83888</td>\n      <td>42093</td>\n      <td>41795</td>\n      <td>0.464958</td>\n      <td>True</td>\n    </tr>\n    <tr>\n      <th>3</th>\n      <td>강원</td>\n      <td>삼척시</td>\n      <td>12428</td>\n      <td>7148</td>\n      <td>5280</td>\n      <td>14953</td>\n      <td>6314</td>\n      <td>8639</td>\n      <td>61833</td>\n      <td>31630</td>\n      <td>30203</td>\n      <td>0.353106</td>\n      <td>True</td>\n    </tr>\n    <tr>\n      <th>4</th>\n      <td>강원</td>\n      <td>속초시</td>\n      <td>15928</td>\n      <td>8517</td>\n      <td>7411</td>\n      <td>14010</td>\n      <td>5866</td>\n      <td>8144</td>\n      <td>76302</td>\n      <td>37488</td>\n      <td>38814</td>\n      <td>0.528979</td>\n      <td>False</td>\n    </tr>\n  </tbody>\n</table>\n</div>"
     },
     "metadata": {},
     "execution_count": 84
    }
   ],
   "source": [
    "pop = pd.read_csv('./result/성별, 연령별 인구 - 시도(2019).csv')\n",
    "pop.head()"
   ]
  },
  {
   "source": [
    "## 각 지역 고유 ID를 만들기 전에 지역 이름이 겹치는 게 있는지 먼저 확인"
   ],
   "cell_type": "markdown",
   "metadata": {}
  },
  {
   "cell_type": "code",
   "execution_count": 85,
   "metadata": {},
   "outputs": [
    {
     "output_type": "execute_result",
     "data": {
      "text/plain": [
       "array([' 강릉시', ' 고성군', ' 동해시', ' 삼척시', ' 속초시', ' 양구군', ' 양양군', ' 영월군',\n",
       "       ' 원주시', ' 인제군', ' 정선군', ' 철원군', ' 춘천시', ' 태백시', ' 평창군', ' 홍천군',\n",
       "       ' 화천군', ' 횡성군', ' 가평군', ' 고양시', ' 과천시', ' 광명시', ' 광주시', ' 구리시',\n",
       "       ' 군포시', ' 김포시', ' 남양주시', ' 동두천시', ' 부천시', ' 성남시', ' 수원시', ' 시흥시',\n",
       "       ' 안산시', ' 안성시', ' 안양시', ' 양주시', ' 양평군', ' 여주시', ' 연천군', ' 오산시',\n",
       "       ' 용인시', ' 의왕시', ' 의정부시', ' 이천시', ' 파주시', ' 평택시', ' 포천시', ' 하남시',\n",
       "       ' 화성시', ' 거제시', ' 거창군', ' 김해시', ' 남해군', ' 밀양시', ' 사천시', ' 산청군',\n",
       "       ' 양산시', ' 의령군', ' 진주시', ' 창녕군', ' 창원시', ' 통영시', ' 하동군', ' 함안군',\n",
       "       ' 함양군', ' 합천군', ' 경산시', ' 경주시', ' 고령군', ' 구미시', ' 군위군', ' 김천시',\n",
       "       ' 문경시', ' 봉화군', ' 상주시', ' 성주군', ' 안동시', ' 영덕군', ' 영양군', ' 영주시',\n",
       "       ' 영천시', ' 예천군', ' 울릉군', ' 울진군', ' 의성군', ' 청도군', ' 청송군', ' 칠곡군',\n",
       "       ' 포항시', ' 광산구', ' 남구', ' 동구', ' 북구', ' 서구', ' 달서구', ' 달성군', ' 수성구',\n",
       "       ' 중구', ' 대덕구', ' 유성구', ' 강서구', ' 금정구', ' 기장군', ' 동래구', ' 부산진구',\n",
       "       ' 사상구', ' 사하구', ' 수영구', ' 연제구', ' 영도구', ' 해운대구', ' 강남구', ' 강동구',\n",
       "       ' 강북구', ' 관악구', ' 광진구', ' 구로구', ' 금천구', ' 노원구', ' 도봉구', ' 동대문구',\n",
       "       ' 동작구', ' 마포구', ' 서대문구', ' 서초구', ' 성동구', ' 성북구', ' 송파구', ' 양천구',\n",
       "       ' 영등포구', ' 용산구', ' 은평구', ' 종로구', ' 중랑구', ' 세종시', ' 울주군', ' 강화군',\n",
       "       ' 계양구', ' 남동구', ' 미추홀구', ' 부평구', ' 연수구', ' 옹진군', ' 강진군', ' 고흥군',\n",
       "       ' 곡성군', ' 광양시', ' 구례군', ' 나주시', ' 담양군', ' 목포시', ' 무안군', ' 보성군',\n",
       "       ' 순천시', ' 신안군', ' 여수시', ' 영광군', ' 영암군', ' 완도군', ' 장성군', ' 장흥군',\n",
       "       ' 진도군', ' 함평군', ' 해남군', ' 화순군', ' 고창군', ' 군산시', ' 김제시', ' 남원시',\n",
       "       ' 무주군', ' 부안군', ' 순창군', ' 완주군', ' 익산시', ' 임실군', ' 장수군', ' 전주시',\n",
       "       ' 정읍시', ' 진안군', ' 서귀포시', ' 제주시', ' 계룡시', ' 공주시', ' 금산군', ' 논산시',\n",
       "       ' 당진시', ' 보령시', ' 부여군', ' 서산시', ' 서천군', ' 아산시', ' 예산군', ' 천안시',\n",
       "       ' 청양군', ' 태안군', ' 홍성군', ' 괴산군', ' 단양군', ' 보은군', ' 영동군', ' 옥천군',\n",
       "       ' 음성군', ' 제천시', ' 증평군', ' 진천군', ' 청주시', ' 충주시'], dtype=object)"
      ]
     },
     "metadata": {},
     "execution_count": 85
    }
   ],
   "source": [
    "pop['시도'].unique()"
   ]
  },
  {
   "cell_type": "markdown",
   "metadata": {},
   "source": [
    "## '광역시도' 값과 '시도' 값을 합치면 고유 ID (서울 강남, 인천 부평)을 만들 수 있다.\n",
    "- 인천, 부산 등 광역시의 구(자치구) 도 있으나, 안양시나 수원시에 있는 구(행정구) 도 있다.\n",
    "- 광역시도의 자치구는 '서울 중구' 처럼 나오긴 하지만, 행정구의 경우는 '안양시 동안구'가 되지 않고 '경기도 동안구'가 됨. 이걸 어떻게 해결할 수 있을까?"
   ]
  },
  {
   "cell_type": "markdown",
   "metadata": {},
   "source": [
    "## 먼저 광역시가 아니면서 구를 가지고 있는 시와 그 행정구를 Dictionary로 만듦"
   ]
  },
  {
   "cell_type": "code",
   "execution_count": 86,
   "metadata": {},
   "outputs": [
    {
     "output_type": "execute_result",
     "data": {
      "text/plain": [
       "[None, None, None, None, None]"
      ]
     },
     "metadata": {},
     "execution_count": 86
    }
   ],
   "source": [
    "si_name = [None] * len(pop) # 264\n",
    "si_name[:5]"
   ]
  },
  {
   "cell_type": "code",
   "execution_count": 87,
   "metadata": {},
   "outputs": [],
   "source": [
    "tmp_gu_dict = {'수원':['장안구', '권선구', '팔달구', '영통구'], \n",
    "               '성남':['수정구', '중원구', '분당구'], \n",
    "               '안양':['만안구', '동안구'], \n",
    "               '안산':['상록구', '단원구'], \n",
    "               '고양':['덕양구', '일산동구', '일산서구'], \n",
    "               '용인':['처인구', '기흥구', '수지구'], \n",
    "               '청주':['상당구', '서원구', '흥덕구', '청원구'], \n",
    "               '천안':['동남구', '서북구'], \n",
    "               '전주':['완산구', '덕진구'], \n",
    "               '포항':['남구', '북구'], \n",
    "               '창원':['의창구', '성산구', '진해구', '마산합포구', '마산회원구']}"
   ]
  },
  {
   "cell_type": "code",
   "execution_count": 88,
   "metadata": {},
   "outputs": [
    {
     "output_type": "execute_result",
     "data": {
      "text/plain": [
       "array(['강원', '경기', '경남', '경북', '광주', '대구', '대전', '부산', '서울', '세종', '울산',\n",
       "       '인천', '전남', '전북', '제주', '충남', '충북'], dtype=object)"
      ]
     },
     "metadata": {},
     "execution_count": 88
    }
   ],
   "source": [
    "pop['광역시도'].unique()"
   ]
  },
  {
   "source": [
    "1. 광역시도에 있는 이름의 끝 세자가 '광역시','특별시','자치시'로 끝나지 않으면 일반 시 혹은 군으로 처리\n",
    "2. 강원도 고성군과 경상남도 고성군 처리\n",
    "3. 세종특별자치시는 세종으로\n",
    "4. 광역시도에서 앞 두 글자(서울특별시 => 서울), 나머지는 광역시도에서 앞 두 글자(서울특별시)와 시도에서 두 글자인 경우 모두, 아니면 앞 두 글자만 선택하며 고유 ID를 만듦"
   ],
   "cell_type": "markdown",
   "metadata": {}
  },
  {
   "cell_type": "code",
   "execution_count": 89,
   "metadata": {},
   "outputs": [
    {
     "output_type": "execute_result",
     "data": {
      "text/plain": [
       "  광역시도    시도  20~39세계  20~39세남자  20~39세여자  65세 이상계  65세 이상남자  65세 이상여자  \\\n",
       "0   강원   강릉시    46008     25015     20993    40497     17378     23119   \n",
       "1   강원   고성군     4006      2307      1699     7005      2957      4048   \n",
       "2   강원   동해시    16311      8801      7510    16152      7075      9077   \n",
       "3   강원   삼척시    12428      7148      5280    14953      6314      8639   \n",
       "4   강원   속초시    15928      8517      7411    14010      5866      8144   \n",
       "\n",
       "     인구수계   인구수남자   인구수여자     소멸 비율  소멸 위기 지역  \n",
       "0  203057  101154  101903  0.518384     False  \n",
       "1   23621   11933   11688  0.242541      True  \n",
       "2   83888   42093   41795  0.464958      True  \n",
       "3   61833   31630   30203  0.353106      True  \n",
       "4   76302   37488   38814  0.528979     False  "
      ],
      "text/html": "<div>\n<style scoped>\n    .dataframe tbody tr th:only-of-type {\n        vertical-align: middle;\n    }\n\n    .dataframe tbody tr th {\n        vertical-align: top;\n    }\n\n    .dataframe thead th {\n        text-align: right;\n    }\n</style>\n<table border=\"1\" class=\"dataframe\">\n  <thead>\n    <tr style=\"text-align: right;\">\n      <th></th>\n      <th>광역시도</th>\n      <th>시도</th>\n      <th>20~39세계</th>\n      <th>20~39세남자</th>\n      <th>20~39세여자</th>\n      <th>65세 이상계</th>\n      <th>65세 이상남자</th>\n      <th>65세 이상여자</th>\n      <th>인구수계</th>\n      <th>인구수남자</th>\n      <th>인구수여자</th>\n      <th>소멸 비율</th>\n      <th>소멸 위기 지역</th>\n    </tr>\n  </thead>\n  <tbody>\n    <tr>\n      <th>0</th>\n      <td>강원</td>\n      <td>강릉시</td>\n      <td>46008</td>\n      <td>25015</td>\n      <td>20993</td>\n      <td>40497</td>\n      <td>17378</td>\n      <td>23119</td>\n      <td>203057</td>\n      <td>101154</td>\n      <td>101903</td>\n      <td>0.518384</td>\n      <td>False</td>\n    </tr>\n    <tr>\n      <th>1</th>\n      <td>강원</td>\n      <td>고성군</td>\n      <td>4006</td>\n      <td>2307</td>\n      <td>1699</td>\n      <td>7005</td>\n      <td>2957</td>\n      <td>4048</td>\n      <td>23621</td>\n      <td>11933</td>\n      <td>11688</td>\n      <td>0.242541</td>\n      <td>True</td>\n    </tr>\n    <tr>\n      <th>2</th>\n      <td>강원</td>\n      <td>동해시</td>\n      <td>16311</td>\n      <td>8801</td>\n      <td>7510</td>\n      <td>16152</td>\n      <td>7075</td>\n      <td>9077</td>\n      <td>83888</td>\n      <td>42093</td>\n      <td>41795</td>\n      <td>0.464958</td>\n      <td>True</td>\n    </tr>\n    <tr>\n      <th>3</th>\n      <td>강원</td>\n      <td>삼척시</td>\n      <td>12428</td>\n      <td>7148</td>\n      <td>5280</td>\n      <td>14953</td>\n      <td>6314</td>\n      <td>8639</td>\n      <td>61833</td>\n      <td>31630</td>\n      <td>30203</td>\n      <td>0.353106</td>\n      <td>True</td>\n    </tr>\n    <tr>\n      <th>4</th>\n      <td>강원</td>\n      <td>속초시</td>\n      <td>15928</td>\n      <td>8517</td>\n      <td>7411</td>\n      <td>14010</td>\n      <td>5866</td>\n      <td>8144</td>\n      <td>76302</td>\n      <td>37488</td>\n      <td>38814</td>\n      <td>0.528979</td>\n      <td>False</td>\n    </tr>\n  </tbody>\n</table>\n</div>"
     },
     "metadata": {},
     "execution_count": 89
    }
   ],
   "source": [
    "pop.head()"
   ]
  },
  {
   "cell_type": "code",
   "execution_count": 96,
   "metadata": {},
   "outputs": [],
   "source": [
    "for i in pop.index:\n",
    "    for keys, values in tmp_gu_dict.items():\n",
    "        if pop['시도'][i] in values:\n",
    "            if len(pop['시도'][i]) == 2:\n",
    "                si_name[i] = keys + ' ' + pop['시도'][i]\n",
    "            elif pop['시도'][i] in ['마산합포구', '마산회원구']:\n",
    "                si_name[i] = keys + ' ' + pop['시도'][i][2:-1]\n",
    "            else:\n",
    "                si_name[i] = keys + ' ' + pop['시도'][i][:-1]\n",
    "    \n",
    "\n",
    "    if pop['광역시도'][i] not in ['서울','부산','대구','인천','광주','대전','울산']:\n",
    "        if pop['시도'][i][1:-1] == '고성' and pop['광역시도'][i] == '강원':\n",
    "            si_name[i] = '고성(강원)'\n",
    "        elif pop['시도'][i][:-1] == '고성' and pop['광역시도'][i] == '경남':\n",
    "                si_name[i] = '고성(경남)'\n",
    "        else:\n",
    "            si_name[i] = pop['시도'][i][1:-1]        \n",
    "\n",
    "\n",
    "    else:\n",
    "        if len(pop['시도'][i]) == 3:\n",
    "            si_name[i] = pop['광역시도'][i] + ' ' + pop['시도'][i][1:]\n",
    "        else:\n",
    "            si_name[i] = pop['광역시도'][i] + ' ' + pop['시도'][i][1:-1]\n"
   ]
  },
  {
   "cell_type": "code",
   "execution_count": 97,
   "metadata": {},
   "outputs": [
    {
     "output_type": "execute_result",
     "data": {
      "text/plain": [
       "['강릉', '고성(강원)', '동해', '삼척', '속초', '양구', '양양', '영월', '원주', '인제']"
      ]
     },
     "metadata": {},
     "execution_count": 97
    }
   ],
   "source": [
    "si_name[:10]"
   ]
  },
  {
   "cell_type": "code",
   "execution_count": 98,
   "metadata": {},
   "outputs": [],
   "source": [
    "pop['ID'] = si_name"
   ]
  },
  {
   "cell_type": "code",
   "execution_count": 93,
   "metadata": {},
   "outputs": [],
   "source": [
    "del pop['20~39세남자']\n",
    "del pop['65세 이상남자']\n",
    "del pop['65세 이상여자']"
   ]
  },
  {
   "cell_type": "code",
   "execution_count": 99,
   "metadata": {},
   "outputs": [
    {
     "output_type": "execute_result",
     "data": {
      "text/plain": [
       "  광역시도    시도  20~39세계  20~39세여자  65세 이상계    인구수계   인구수남자   인구수여자     소멸 비율  \\\n",
       "0   강원   강릉시    46008     20993    40497  203057  101154  101903  0.518384   \n",
       "1   강원   고성군     4006      1699     7005   23621   11933   11688  0.242541   \n",
       "2   강원   동해시    16311      7510    16152   83888   42093   41795  0.464958   \n",
       "3   강원   삼척시    12428      5280    14953   61833   31630   30203  0.353106   \n",
       "4   강원   속초시    15928      7411    14010   76302   37488   38814  0.528979   \n",
       "\n",
       "   소멸 위기 지역      ID  \n",
       "0     False      강릉  \n",
       "1      True  고성(강원)  \n",
       "2      True      동해  \n",
       "3      True      삼척  \n",
       "4     False      속초  "
      ],
      "text/html": "<div>\n<style scoped>\n    .dataframe tbody tr th:only-of-type {\n        vertical-align: middle;\n    }\n\n    .dataframe tbody tr th {\n        vertical-align: top;\n    }\n\n    .dataframe thead th {\n        text-align: right;\n    }\n</style>\n<table border=\"1\" class=\"dataframe\">\n  <thead>\n    <tr style=\"text-align: right;\">\n      <th></th>\n      <th>광역시도</th>\n      <th>시도</th>\n      <th>20~39세계</th>\n      <th>20~39세여자</th>\n      <th>65세 이상계</th>\n      <th>인구수계</th>\n      <th>인구수남자</th>\n      <th>인구수여자</th>\n      <th>소멸 비율</th>\n      <th>소멸 위기 지역</th>\n      <th>ID</th>\n    </tr>\n  </thead>\n  <tbody>\n    <tr>\n      <th>0</th>\n      <td>강원</td>\n      <td>강릉시</td>\n      <td>46008</td>\n      <td>20993</td>\n      <td>40497</td>\n      <td>203057</td>\n      <td>101154</td>\n      <td>101903</td>\n      <td>0.518384</td>\n      <td>False</td>\n      <td>강릉</td>\n    </tr>\n    <tr>\n      <th>1</th>\n      <td>강원</td>\n      <td>고성군</td>\n      <td>4006</td>\n      <td>1699</td>\n      <td>7005</td>\n      <td>23621</td>\n      <td>11933</td>\n      <td>11688</td>\n      <td>0.242541</td>\n      <td>True</td>\n      <td>고성(강원)</td>\n    </tr>\n    <tr>\n      <th>2</th>\n      <td>강원</td>\n      <td>동해시</td>\n      <td>16311</td>\n      <td>7510</td>\n      <td>16152</td>\n      <td>83888</td>\n      <td>42093</td>\n      <td>41795</td>\n      <td>0.464958</td>\n      <td>True</td>\n      <td>동해</td>\n    </tr>\n    <tr>\n      <th>3</th>\n      <td>강원</td>\n      <td>삼척시</td>\n      <td>12428</td>\n      <td>5280</td>\n      <td>14953</td>\n      <td>61833</td>\n      <td>31630</td>\n      <td>30203</td>\n      <td>0.353106</td>\n      <td>True</td>\n      <td>삼척</td>\n    </tr>\n    <tr>\n      <th>4</th>\n      <td>강원</td>\n      <td>속초시</td>\n      <td>15928</td>\n      <td>7411</td>\n      <td>14010</td>\n      <td>76302</td>\n      <td>37488</td>\n      <td>38814</td>\n      <td>0.528979</td>\n      <td>False</td>\n      <td>속초</td>\n    </tr>\n  </tbody>\n</table>\n</div>"
     },
     "metadata": {},
     "execution_count": 99
    }
   ],
   "source": [
    "pop.head()"
   ]
  },
  {
   "cell_type": "code",
   "execution_count": 100,
   "metadata": {},
   "outputs": [],
   "source": [
    "pop.to_csv('./result/소멸 위기 지역.csv', sep=',', encoding = 'utf-8')"
   ]
  }
 ],
 "metadata": {
  "kernelspec": {
   "display_name": "Python 3.8.1 32-bit",
   "language": "python",
   "name": "python38132bit243e625a994649b0a7927380da95a17b"
  },
  "language_info": {
   "codemirror_mode": {
    "name": "ipython",
    "version": 3
   },
   "file_extension": ".py",
   "mimetype": "text/x-python",
   "name": "python",
   "nbconvert_exporter": "python",
   "pygments_lexer": "ipython3",
   "version": "3.8.1-final"
  }
 },
 "nbformat": 4,
 "nbformat_minor": 2
}