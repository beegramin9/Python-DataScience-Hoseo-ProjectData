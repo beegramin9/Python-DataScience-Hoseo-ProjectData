{
 "cells": [
  {
   "cell_type": "markdown",
   "metadata": {},
   "source": [
    "# 대한민국 도시 고유 ID 주기\n",
    "## Json파일을 이용해서 Folium으로 그리든, Cartogram으로 표현하든 두 방법 다 각 지역을 대표하는 고유 ID를 만들어줘야 한다."
   ]
  },
  {
   "cell_type": "code",
   "execution_count": 2,
   "metadata": {},
   "outputs": [],
   "source": [
    "import pandas as pd\n",
    "import numpy as np"
   ]
  },
  {
   "cell_type": "code",
   "execution_count": 3,
   "metadata": {},
   "outputs": [
    {
     "output_type": "execute_result",
     "data": {
      "text/plain": [
       "  광역시도   시도  20~39세계  20~39세남자  20~39세여자  65세 이상계  65세 이상남자  65세 이상여자    인구수계  \\\n",
       "0   강원  강릉시    46008     25015     20993    40497     17378     23119  203057   \n",
       "1   강원  고성군     4006      2307      1699     7005      2957      4048   23621   \n",
       "2   강원  동해시    16311      8801      7510    16152      7075      9077   83888   \n",
       "3   강원  삼척시    12428      7148      5280    14953      6314      8639   61833   \n",
       "4   강원  속초시    15928      8517      7411    14010      5866      8144   76302   \n",
       "\n",
       "    인구수남자   인구수여자     소멸 비율  소멸 위기 지역  \n",
       "0  101154  101903  0.518384     False  \n",
       "1   11933   11688  0.242541      True  \n",
       "2   42093   41795  0.464958      True  \n",
       "3   31630   30203  0.353106      True  \n",
       "4   37488   38814  0.528979     False  "
      ],
      "text/html": "<div>\n<style scoped>\n    .dataframe tbody tr th:only-of-type {\n        vertical-align: middle;\n    }\n\n    .dataframe tbody tr th {\n        vertical-align: top;\n    }\n\n    .dataframe thead th {\n        text-align: right;\n    }\n</style>\n<table border=\"1\" class=\"dataframe\">\n  <thead>\n    <tr style=\"text-align: right;\">\n      <th></th>\n      <th>광역시도</th>\n      <th>시도</th>\n      <th>20~39세계</th>\n      <th>20~39세남자</th>\n      <th>20~39세여자</th>\n      <th>65세 이상계</th>\n      <th>65세 이상남자</th>\n      <th>65세 이상여자</th>\n      <th>인구수계</th>\n      <th>인구수남자</th>\n      <th>인구수여자</th>\n      <th>소멸 비율</th>\n      <th>소멸 위기 지역</th>\n    </tr>\n  </thead>\n  <tbody>\n    <tr>\n      <th>0</th>\n      <td>강원</td>\n      <td>강릉시</td>\n      <td>46008</td>\n      <td>25015</td>\n      <td>20993</td>\n      <td>40497</td>\n      <td>17378</td>\n      <td>23119</td>\n      <td>203057</td>\n      <td>101154</td>\n      <td>101903</td>\n      <td>0.518384</td>\n      <td>False</td>\n    </tr>\n    <tr>\n      <th>1</th>\n      <td>강원</td>\n      <td>고성군</td>\n      <td>4006</td>\n      <td>2307</td>\n      <td>1699</td>\n      <td>7005</td>\n      <td>2957</td>\n      <td>4048</td>\n      <td>23621</td>\n      <td>11933</td>\n      <td>11688</td>\n      <td>0.242541</td>\n      <td>True</td>\n    </tr>\n    <tr>\n      <th>2</th>\n      <td>강원</td>\n      <td>동해시</td>\n      <td>16311</td>\n      <td>8801</td>\n      <td>7510</td>\n      <td>16152</td>\n      <td>7075</td>\n      <td>9077</td>\n      <td>83888</td>\n      <td>42093</td>\n      <td>41795</td>\n      <td>0.464958</td>\n      <td>True</td>\n    </tr>\n    <tr>\n      <th>3</th>\n      <td>강원</td>\n      <td>삼척시</td>\n      <td>12428</td>\n      <td>7148</td>\n      <td>5280</td>\n      <td>14953</td>\n      <td>6314</td>\n      <td>8639</td>\n      <td>61833</td>\n      <td>31630</td>\n      <td>30203</td>\n      <td>0.353106</td>\n      <td>True</td>\n    </tr>\n    <tr>\n      <th>4</th>\n      <td>강원</td>\n      <td>속초시</td>\n      <td>15928</td>\n      <td>8517</td>\n      <td>7411</td>\n      <td>14010</td>\n      <td>5866</td>\n      <td>8144</td>\n      <td>76302</td>\n      <td>37488</td>\n      <td>38814</td>\n      <td>0.528979</td>\n      <td>False</td>\n    </tr>\n  </tbody>\n</table>\n</div>"
     },
     "metadata": {},
     "execution_count": 3
    }
   ],
   "source": [
    "pop = pd.read_csv('./result/성별, 연령별 인구 - 시도(2019).csv',sep=',',encoding='utf8')\n",
    "pop.head()"
   ]
  },
  {
   "cell_type": "code",
   "execution_count": 18,
   "metadata": {},
   "outputs": [
    {
     "output_type": "execute_result",
     "data": {
      "text/plain": [
       "array(['강원', '경기', '경남', '경북', '고양시', '광주', '대구', '대전', '부산', '서울', '성남시',\n",
       "       '세종', '수원시', '안산시', '안양시', '용인시', '울산', '인천', '전남', '전북', '전주시',\n",
       "       '제주', '창원시', '천안시', '청주시', '충남', '충북', '포항시'], dtype=object)"
      ]
     },
     "metadata": {},
     "execution_count": 18
    }
   ],
   "source": [
    "pop['광역시도'].unique()"
   ]
  },
  {
   "cell_type": "code",
   "execution_count": null,
   "metadata": {},
   "outputs": [],
   "source": []
  },
  {
   "source": [
    "## 각 지역 고유 ID를 만들기 전에 지역 이름이 겹치는 게 있는지 먼저 확인\n",
    "- pop\\['시도'\\].unique() 는 인천 서구, 부산 서구 처럼 겹치는 게 있어서 250으로 안 나옴"
   ],
   "cell_type": "markdown",
   "metadata": {}
  },
  {
   "cell_type": "code",
   "execution_count": 4,
   "metadata": {},
   "outputs": [
    {
     "output_type": "execute_result",
     "data": {
      "text/plain": [
       "250"
      ]
     },
     "metadata": {},
     "execution_count": 4
    }
   ],
   "source": [
    "len(pop['시도'])"
   ]
  },
  {
   "cell_type": "code",
   "execution_count": 5,
   "metadata": {},
   "outputs": [
    {
     "output_type": "execute_result",
     "data": {
      "text/plain": [
       "Series([], Name: 시도, dtype: object)"
      ]
     },
     "metadata": {},
     "execution_count": 5
    }
   ],
   "source": [
    "pop['시도'][pop['시도'].str.find('분당') > 0 ]"
   ]
  },
  {
   "cell_type": "markdown",
   "metadata": {},
   "source": [
    "## '광역시도' 값과 '시도' 값을 합치면 고유 ID (서울 강남, 인천 부평)을 만들 수 있다.\n",
    "- 인천, 부산 등 광역시의 구(자치구) 도 있으나, 안양시나 수원시에 있는 구(행정구) 도 있다.\n",
    "- 광역시도의 자치구는 '서울 중구' 처럼 나오긴 하지만, 행정구의 경우는 '안양시 동안구'가 되지 않고 '경기도 동안구'가 됨. 이걸 어떻게 해결할 수 있을까?"
   ]
  },
  {
   "cell_type": "markdown",
   "metadata": {},
   "source": [
    "## 먼저 광역시가 아니면서 구를 가지고 있는 시와 그 행정구를 Dictionary로 만듦"
   ]
  },
  {
   "cell_type": "code",
   "execution_count": 6,
   "metadata": {},
   "outputs": [
    {
     "output_type": "execute_result",
     "data": {
      "text/plain": [
       "[None, None, None, None, None]"
      ]
     },
     "metadata": {},
     "execution_count": 6
    }
   ],
   "source": [
    "si_name = [None] * len(pop) # 250\n",
    "si_name[:5]"
   ]
  },
  {
   "cell_type": "code",
   "execution_count": 7,
   "metadata": {},
   "outputs": [],
   "source": [
    "# 요게 제대로 안 들어감\n",
    "tmp_gu_dict = {\n",
    "    '수원':['장안구', '권선구', '팔달구', '영통구'], \n",
    "    '성남':['수정구', '중원구', '분당구'], \n",
    "    '안양':['만안구', '동안구'], \n",
    "    '안산':['상록구', '단원구'], \n",
    "    '고양':['덕양구', '일산동구', '일산서구'], \n",
    "    '용인':['처인구', '기흥구', '수지구'], \n",
    "    '청주':['상당구', '서원구', '흥덕구', '청원구'], \n",
    "    '천안':['동남구', '서북구'], \n",
    "    '전주':['완산구', '덕진구'], \n",
    "    '포항':['남구', '북구'], \n",
    "    '창원':['의창구', '성산구', '진해구', '마산합포구', '마산회원구']\n",
    "}"
   ]
  },
  {
   "cell_type": "code",
   "execution_count": 8,
   "metadata": {},
   "outputs": [
    {
     "output_type": "execute_result",
     "data": {
      "text/plain": [
       "32"
      ]
     },
     "metadata": {},
     "execution_count": 8
    }
   ],
   "source": [
    "length = 0\n",
    "for values in tmp_gu_dict.values():\n",
    "    for elm in values:\n",
    "        length += 1\n",
    "length"
   ]
  },
  {
   "source": [
    "1. 광역시도에 있는 이름의 끝 세자가 '광역시','특별시','자치시'로 끝나지 않으면 일반 시 혹은 군으로 처리\n",
    "2. 강원도 고성군과 경상남도 고성군 처리\n",
    "3. 세종특별자치시는 세종으로\n",
    "4. 광역시도에서 앞 두 글자(서울특별시 => 서울), 나머지는 광역시도에서 앞 두 글자(서울특별시)와 시도에서 두 글자인 경우 모두, 아니면 앞 두 글자만 선택하며 고유 ID를 만듦"
   ],
   "cell_type": "markdown",
   "metadata": {}
  },
  {
   "cell_type": "code",
   "execution_count": 9,
   "metadata": {},
   "outputs": [
    {
     "output_type": "execute_result",
     "data": {
      "text/plain": [
       "\" for i in pop.index:\\n    if pop['광역시도'][i] in ['서울','부산','대구','인천','광주','대전','울산']:\\n        if len(pop['시도'][i]) == 3:\\n            si_name[i] = pop['광역시도'][i] + ' ' + pop['시도'][i][1:]\\n        else:\\n            si_name[i] = pop['광역시도'][i] + ' ' + pop['시도'][i][1:-1]\\n\\n\\n    else:\\n        if pop['시도'][i][1:-1] == '고성' and pop['광역시도'][i] == '강원':\\n            si_name[i] = '고성(강원)'\\n        elif pop['시도'][i][:-1] == '고성' and pop['광역시도'][i] == '경남':\\n                si_name[i] = '고성(경남)'\\n        else:\\n            si_name[i] = pop['시도'][i][1:-1]        \\n        \\n            for keys, values in tmp_gu_dict.items():\\n                if pop['시도'][i] in values:\\n                    if len(pop['시도'][i]) == 2:\\n                        si_name[i] = keys + ' ' + pop['시도'][i]\\n                    elif pop['시도'][i] in ['마산합포구', '마산회원구']:\\n                        si_name[i] = keys + ' ' + pop['시도'][i][2:-1]\\n                    else:\\n                        si_name[i] = keys + ' ' + pop['시도'][i][:-1] \""
      ]
     },
     "metadata": {},
     "execution_count": 9
    }
   ],
   "source": [
    "\"\"\" for i in pop.index:\n",
    "    if pop['광역시도'][i] in ['서울','부산','대구','인천','광주','대전','울산']:\n",
    "        if len(pop['시도'][i]) == 3:\n",
    "            si_name[i] = pop['광역시도'][i] + ' ' + pop['시도'][i][1:]\n",
    "        else:\n",
    "            si_name[i] = pop['광역시도'][i] + ' ' + pop['시도'][i][1:-1]\n",
    "\n",
    "\n",
    "    else:\n",
    "        if pop['시도'][i][1:-1] == '고성' and pop['광역시도'][i] == '강원':\n",
    "            si_name[i] = '고성(강원)'\n",
    "        elif pop['시도'][i][:-1] == '고성' and pop['광역시도'][i] == '경남':\n",
    "                si_name[i] = '고성(경남)'\n",
    "        else:\n",
    "            si_name[i] = pop['시도'][i][1:-1]        \n",
    "        \n",
    "            for keys, values in tmp_gu_dict.items():\n",
    "                if pop['시도'][i] in values:\n",
    "                    if len(pop['시도'][i]) == 2:\n",
    "                        si_name[i] = keys + ' ' + pop['시도'][i]\n",
    "                    elif pop['시도'][i] in ['마산합포구', '마산회원구']:\n",
    "                        si_name[i] = keys + ' ' + pop['시도'][i][2:-1]\n",
    "                    else:\n",
    "                        si_name[i] = keys + ' ' + pop['시도'][i][:-1] \"\"\""
   ]
  },
  {
   "source": [
    "# 구 이름에 앞에 띄어쓰기가 들어가 있어서 안 됐던거임. 어이없게...\n",
    "# 앞으로 시작할 때 DF 전체에 strip()을 걸 수 있는 방법이 없나?"
   ],
   "cell_type": "markdown",
   "metadata": {}
  },
  {
   "cell_type": "code",
   "execution_count": 10,
   "metadata": {
    "tags": []
   },
   "outputs": [
    {
     "output_type": "stream",
     "name": "stdout",
     "text": [
      "2 창원 합포\n2 창원 회원\n"
     ]
    }
   ],
   "source": [
    "metro_list = ['서울', '부산', '대구', '인천', '대전', '광주', '울산']\n",
    "\n",
    "for i in pop.index:\n",
    "    if pop['광역시도'][i] in metro_list:\n",
    "        if len(pop['시도'][i]) == 2:\n",
    "            si_name[i] = pop['광역시도'][i] + ' ' + pop['시도'][i]\n",
    "        else:\n",
    "            si_name[i] = pop['광역시도'][i] + ' ' + pop['시도'][i][:-1]\n",
    "    else:\n",
    "        if pop['시도'][i][:-1] == '고성':\n",
    "            if pop['광역시도'][i] == '강원':\n",
    "                si_name[i] = '고성(강원)'\n",
    "            else:\n",
    "                si_name[i] = '고성(경남)'\n",
    "        else:\n",
    "            si_name[i] = pop['시도'][i][:-1]\n",
    "\n",
    "        for key, values in tmp_gu_dict.items():\n",
    "            if pop['시도'][i] in values:\n",
    "                if len(pop['시도'][i]) == 2:\n",
    "                    si_name[i] = key + ' ' + pop['시도'][i]\n",
    "                elif pop['시도'][i] in ['마산합포구', '마산회원구']:\n",
    "                    print(2, key, pop['시도'][i][2:-1])\n",
    "                    si_name[i] = key + ' ' + pop['시도'][i][2:-1]\n",
    "                else:\n",
    "                    si_name[i] = key + ' ' + pop['시도'][i][:-1]"
   ]
  },
  {
   "cell_type": "code",
   "execution_count": 11,
   "metadata": {},
   "outputs": [
    {
     "output_type": "execute_result",
     "data": {
      "text/plain": [
       "250"
      ]
     },
     "metadata": {},
     "execution_count": 11
    }
   ],
   "source": [
    "len(si_name)"
   ]
  },
  {
   "cell_type": "code",
   "execution_count": 12,
   "metadata": {},
   "outputs": [
    {
     "output_type": "execute_result",
     "data": {
      "text/plain": [
       "['강릉',\n",
       " '고성(강원)',\n",
       " '동해',\n",
       " '삼척',\n",
       " '속초',\n",
       " '양구',\n",
       " '양양',\n",
       " '영월',\n",
       " '원주',\n",
       " '인제',\n",
       " '정선',\n",
       " '철원',\n",
       " '춘천',\n",
       " '태백',\n",
       " '평창',\n",
       " '홍천',\n",
       " '화천',\n",
       " '횡성',\n",
       " '가평',\n",
       " '과천',\n",
       " '광명',\n",
       " '광주',\n",
       " '구리',\n",
       " '군포',\n",
       " '김포',\n",
       " '남양주',\n",
       " '동두천',\n",
       " '부천',\n",
       " '시흥',\n",
       " '안성',\n",
       " '양주',\n",
       " '양평',\n",
       " '여주',\n",
       " '연천',\n",
       " '오산',\n",
       " '의왕',\n",
       " '의정부',\n",
       " '이천',\n",
       " '파주',\n",
       " '평택',\n",
       " '포천',\n",
       " '하남',\n",
       " '화성',\n",
       " '거제',\n",
       " '거창',\n",
       " '고성(경남)',\n",
       " '김해',\n",
       " '남해',\n",
       " '밀양',\n",
       " '사천',\n",
       " '산청',\n",
       " '양산',\n",
       " '의령',\n",
       " '진주',\n",
       " '창녕',\n",
       " '통영',\n",
       " '하동',\n",
       " '함안',\n",
       " '함양',\n",
       " '합천',\n",
       " '경산',\n",
       " '경주',\n",
       " '고령',\n",
       " '구미',\n",
       " '군위',\n",
       " '김천',\n",
       " '문경',\n",
       " '봉화',\n",
       " '상주',\n",
       " '성주',\n",
       " '안동',\n",
       " '영덕',\n",
       " '영양',\n",
       " '영주',\n",
       " '영천',\n",
       " '예천',\n",
       " '울릉',\n",
       " '울진',\n",
       " '의성',\n",
       " '청도',\n",
       " '청송',\n",
       " '칠곡',\n",
       " '고양 덕양',\n",
       " '고양 일산동',\n",
       " '고양 일산서',\n",
       " '광주 광산',\n",
       " '광주 남구',\n",
       " '광주 동구',\n",
       " '광주 북구',\n",
       " '광주 서구',\n",
       " '대구 남구',\n",
       " '대구 달서',\n",
       " '대구 달성',\n",
       " '대구 동구',\n",
       " '대구 북구',\n",
       " '대구 서구',\n",
       " '대구 수성',\n",
       " '대구 중구',\n",
       " '대전 대덕',\n",
       " '대전 동구',\n",
       " '대전 서구',\n",
       " '대전 유성',\n",
       " '대전 중구',\n",
       " '부산 강서',\n",
       " '부산 금정',\n",
       " '부산 기장',\n",
       " '부산 남구',\n",
       " '부산 동구',\n",
       " '부산 동래',\n",
       " '부산 부산진',\n",
       " '부산 북구',\n",
       " '부산 사상',\n",
       " '부산 사하',\n",
       " '부산 서구',\n",
       " '부산 수영',\n",
       " '부산 연제',\n",
       " '부산 영도',\n",
       " '부산 중구',\n",
       " '부산 해운대',\n",
       " '서울 강남',\n",
       " '서울 강동',\n",
       " '서울 강북',\n",
       " '서울 강서',\n",
       " '서울 관악',\n",
       " '서울 광진',\n",
       " '서울 구로',\n",
       " '서울 금천',\n",
       " '서울 노원',\n",
       " '서울 도봉',\n",
       " '서울 동대문',\n",
       " '서울 동작',\n",
       " '서울 마포',\n",
       " '서울 서대문',\n",
       " '서울 서초',\n",
       " '서울 성동',\n",
       " '서울 성북',\n",
       " '서울 송파',\n",
       " '서울 양천',\n",
       " '서울 영등포',\n",
       " '서울 용산',\n",
       " '서울 은평',\n",
       " '서울 종로',\n",
       " '서울 중구',\n",
       " '서울 중랑',\n",
       " '성남 분당',\n",
       " '성남 수정',\n",
       " '성남 중원',\n",
       " '세종',\n",
       " '수원 권선',\n",
       " '수원 영통',\n",
       " '수원 장안',\n",
       " '수원 팔달',\n",
       " '안산 단원',\n",
       " '안산 상록',\n",
       " '안양 동안',\n",
       " '안양 만안',\n",
       " '용인 기흥',\n",
       " '용인 수지',\n",
       " '용인 처인',\n",
       " '울산 남구',\n",
       " '울산 동구',\n",
       " '울산 북구',\n",
       " '울산 울주',\n",
       " '울산 중구',\n",
       " '인천 강화',\n",
       " '인천 계양',\n",
       " '인천 남동',\n",
       " '인천 동구',\n",
       " '인천 미추홀',\n",
       " '인천 부평',\n",
       " '인천 서구',\n",
       " '인천 연수',\n",
       " '인천 옹진',\n",
       " '인천 중구',\n",
       " '강진',\n",
       " '고흥',\n",
       " '곡성',\n",
       " '광양',\n",
       " '구례',\n",
       " '나주',\n",
       " '담양',\n",
       " '목포',\n",
       " '무안',\n",
       " '보성',\n",
       " '순천',\n",
       " '신안',\n",
       " '여수',\n",
       " '영광',\n",
       " '영암',\n",
       " '완도',\n",
       " '장성',\n",
       " '장흥',\n",
       " '진도',\n",
       " '함평',\n",
       " '해남',\n",
       " '화순',\n",
       " '고창',\n",
       " '군산',\n",
       " '김제',\n",
       " '남원',\n",
       " '무주',\n",
       " '부안',\n",
       " '순창',\n",
       " '완주',\n",
       " '익산',\n",
       " '임실',\n",
       " '장수',\n",
       " '정읍',\n",
       " '진안',\n",
       " '전주 덕진',\n",
       " '전주 완산',\n",
       " '서귀포',\n",
       " '제주',\n",
       " '창원 합포',\n",
       " '창원 회원',\n",
       " '창원 성산',\n",
       " '창원 의창',\n",
       " '창원 진해',\n",
       " '천안 동남',\n",
       " '천안 서북',\n",
       " '청주 상당',\n",
       " '청주 서원',\n",
       " '청주 청원',\n",
       " '청주 흥덕',\n",
       " '계룡',\n",
       " '공주',\n",
       " '금산',\n",
       " '논산',\n",
       " '당진',\n",
       " '보령',\n",
       " '부여',\n",
       " '서산',\n",
       " '서천',\n",
       " '아산',\n",
       " '예산',\n",
       " '청양',\n",
       " '태안',\n",
       " '홍성',\n",
       " '괴산',\n",
       " '단양',\n",
       " '보은',\n",
       " '영동',\n",
       " '옥천',\n",
       " '음성',\n",
       " '제천',\n",
       " '증평',\n",
       " '진천',\n",
       " '충주',\n",
       " '포항 남구',\n",
       " '포항 북구']"
      ]
     },
     "metadata": {},
     "execution_count": 12
    }
   ],
   "source": [
    "si_name"
   ]
  },
  {
   "cell_type": "code",
   "execution_count": 13,
   "metadata": {},
   "outputs": [
    {
     "output_type": "execute_result",
     "data": {
      "text/plain": [
       "144    성남 분당\n",
       "dtype: object"
      ]
     },
     "metadata": {},
     "execution_count": 13
    }
   ],
   "source": [
    "si_name = pd.Series(si_name)\n",
    "# 분당이 3번째에 있는데 왜 여긴 안 나오지?\n",
    "si_name[si_name.str.find( sub = '분당') > 0]"
   ]
  },
  {
   "cell_type": "code",
   "execution_count": 14,
   "metadata": {},
   "outputs": [],
   "source": [
    "pop['ID'] = si_name"
   ]
  },
  {
   "cell_type": "code",
   "execution_count": 15,
   "metadata": {},
   "outputs": [],
   "source": [
    "del pop['65세 이상남자']\n",
    "del pop['65세 이상여자']\n",
    "del pop['20~39세남자']"
   ]
  },
  {
   "cell_type": "code",
   "execution_count": 16,
   "metadata": {},
   "outputs": [
    {
     "output_type": "execute_result",
     "data": {
      "text/plain": [
       "  광역시도   시도  20~39세계  20~39세여자  65세 이상계    인구수계   인구수남자   인구수여자     소멸 비율  \\\n",
       "0   강원  강릉시    46008     20993    40497  203057  101154  101903  0.518384   \n",
       "1   강원  고성군     4006      1699     7005   23621   11933   11688  0.242541   \n",
       "2   강원  동해시    16311      7510    16152   83888   42093   41795  0.464958   \n",
       "3   강원  삼척시    12428      5280    14953   61833   31630   30203  0.353106   \n",
       "4   강원  속초시    15928      7411    14010   76302   37488   38814  0.528979   \n",
       "\n",
       "   소멸 위기 지역      ID  \n",
       "0     False      강릉  \n",
       "1      True  고성(강원)  \n",
       "2      True      동해  \n",
       "3      True      삼척  \n",
       "4     False      속초  "
      ],
      "text/html": "<div>\n<style scoped>\n    .dataframe tbody tr th:only-of-type {\n        vertical-align: middle;\n    }\n\n    .dataframe tbody tr th {\n        vertical-align: top;\n    }\n\n    .dataframe thead th {\n        text-align: right;\n    }\n</style>\n<table border=\"1\" class=\"dataframe\">\n  <thead>\n    <tr style=\"text-align: right;\">\n      <th></th>\n      <th>광역시도</th>\n      <th>시도</th>\n      <th>20~39세계</th>\n      <th>20~39세여자</th>\n      <th>65세 이상계</th>\n      <th>인구수계</th>\n      <th>인구수남자</th>\n      <th>인구수여자</th>\n      <th>소멸 비율</th>\n      <th>소멸 위기 지역</th>\n      <th>ID</th>\n    </tr>\n  </thead>\n  <tbody>\n    <tr>\n      <th>0</th>\n      <td>강원</td>\n      <td>강릉시</td>\n      <td>46008</td>\n      <td>20993</td>\n      <td>40497</td>\n      <td>203057</td>\n      <td>101154</td>\n      <td>101903</td>\n      <td>0.518384</td>\n      <td>False</td>\n      <td>강릉</td>\n    </tr>\n    <tr>\n      <th>1</th>\n      <td>강원</td>\n      <td>고성군</td>\n      <td>4006</td>\n      <td>1699</td>\n      <td>7005</td>\n      <td>23621</td>\n      <td>11933</td>\n      <td>11688</td>\n      <td>0.242541</td>\n      <td>True</td>\n      <td>고성(강원)</td>\n    </tr>\n    <tr>\n      <th>2</th>\n      <td>강원</td>\n      <td>동해시</td>\n      <td>16311</td>\n      <td>7510</td>\n      <td>16152</td>\n      <td>83888</td>\n      <td>42093</td>\n      <td>41795</td>\n      <td>0.464958</td>\n      <td>True</td>\n      <td>동해</td>\n    </tr>\n    <tr>\n      <th>3</th>\n      <td>강원</td>\n      <td>삼척시</td>\n      <td>12428</td>\n      <td>5280</td>\n      <td>14953</td>\n      <td>61833</td>\n      <td>31630</td>\n      <td>30203</td>\n      <td>0.353106</td>\n      <td>True</td>\n      <td>삼척</td>\n    </tr>\n    <tr>\n      <th>4</th>\n      <td>강원</td>\n      <td>속초시</td>\n      <td>15928</td>\n      <td>7411</td>\n      <td>14010</td>\n      <td>76302</td>\n      <td>37488</td>\n      <td>38814</td>\n      <td>0.528979</td>\n      <td>False</td>\n      <td>속초</td>\n    </tr>\n  </tbody>\n</table>\n</div>"
     },
     "metadata": {},
     "execution_count": 16
    }
   ],
   "source": [
    "pop.head()"
   ]
  },
  {
   "cell_type": "code",
   "execution_count": 17,
   "metadata": {},
   "outputs": [],
   "source": [
    "pop.to_csv('./result/소멸 위기 지역.csv', sep=',', encoding = 'utf8')"
   ]
  }
 ],
 "metadata": {
  "kernelspec": {
   "display_name": "Python 3.8.1 32-bit",
   "language": "python",
   "name": "python38132bit243e625a994649b0a7927380da95a17b"
  },
  "language_info": {
   "codemirror_mode": {
    "name": "ipython",
    "version": 3
   },
   "file_extension": ".py",
   "mimetype": "text/x-python",
   "name": "python",
   "nbconvert_exporter": "python",
   "pygments_lexer": "ipython3",
   "version": "3.8.1-final"
  }
 },
 "nbformat": 4,
 "nbformat_minor": 2
}