{
 "metadata": {
  "language_info": {
   "codemirror_mode": {
    "name": "ipython",
    "version": 3
   },
   "file_extension": ".py",
   "mimetype": "text/x-python",
   "name": "python",
   "nbconvert_exporter": "python",
   "pygments_lexer": "ipython3",
   "version": "3.8.1-final"
  },
  "orig_nbformat": 2,
  "kernelspec": {
   "name": "python38132bit243e625a994649b0a7927380da95a17b",
   "display_name": "Python 3.8.1 32-bit"
  }
 },
 "nbformat": 4,
 "nbformat_minor": 2,
 "cells": [
  {
   "cell_type": "code",
   "execution_count": 58,
   "metadata": {},
   "outputs": [],
   "source": [
    "import pandas as pd\n",
    "import numpy as np"
   ]
  },
  {
   "cell_type": "code",
   "execution_count": 59,
   "metadata": {},
   "outputs": [
    {
     "output_type": "execute_result",
     "data": {
      "text/plain": [
       "    0    1    2       3       4       5      6       7      8   9       10  \\\n",
       "0  NaN  NaN  NaN     NaN     NaN     NaN    NaN      철원     화천  양구  고성(강원)   \n",
       "1  NaN  NaN  NaN      양주     동두천      연천     포천     의정부     인제  춘천      속초   \n",
       "2  NaN  NaN  NaN      파주  고양 일산동   서울 도봉  서울 노원     남양주     홍천  횡성      양양   \n",
       "3  NaN  NaN  NaN  고양 일산서   고양 덕양   서울 강북  서울 성북      가평     구리  하남      정선   \n",
       "4  NaN  NaN   김포   안양 만안      광명  서울 서대문  서울 종로  서울 동대문  서울 중랑  양평      태백   \n",
       "\n",
       "    11   12   13  \n",
       "0  NaN  NaN  NaN  \n",
       "1  NaN  NaN  NaN  \n",
       "2  NaN  NaN  NaN  \n",
       "3   강릉  NaN  NaN  \n",
       "4   동해  NaN  NaN  "
      ],
      "text/html": "<div>\n<style scoped>\n    .dataframe tbody tr th:only-of-type {\n        vertical-align: middle;\n    }\n\n    .dataframe tbody tr th {\n        vertical-align: top;\n    }\n\n    .dataframe thead th {\n        text-align: right;\n    }\n</style>\n<table border=\"1\" class=\"dataframe\">\n  <thead>\n    <tr style=\"text-align: right;\">\n      <th></th>\n      <th>0</th>\n      <th>1</th>\n      <th>2</th>\n      <th>3</th>\n      <th>4</th>\n      <th>5</th>\n      <th>6</th>\n      <th>7</th>\n      <th>8</th>\n      <th>9</th>\n      <th>10</th>\n      <th>11</th>\n      <th>12</th>\n      <th>13</th>\n    </tr>\n  </thead>\n  <tbody>\n    <tr>\n      <th>0</th>\n      <td>NaN</td>\n      <td>NaN</td>\n      <td>NaN</td>\n      <td>NaN</td>\n      <td>NaN</td>\n      <td>NaN</td>\n      <td>NaN</td>\n      <td>철원</td>\n      <td>화천</td>\n      <td>양구</td>\n      <td>고성(강원)</td>\n      <td>NaN</td>\n      <td>NaN</td>\n      <td>NaN</td>\n    </tr>\n    <tr>\n      <th>1</th>\n      <td>NaN</td>\n      <td>NaN</td>\n      <td>NaN</td>\n      <td>양주</td>\n      <td>동두천</td>\n      <td>연천</td>\n      <td>포천</td>\n      <td>의정부</td>\n      <td>인제</td>\n      <td>춘천</td>\n      <td>속초</td>\n      <td>NaN</td>\n      <td>NaN</td>\n      <td>NaN</td>\n    </tr>\n    <tr>\n      <th>2</th>\n      <td>NaN</td>\n      <td>NaN</td>\n      <td>NaN</td>\n      <td>파주</td>\n      <td>고양 일산동</td>\n      <td>서울 도봉</td>\n      <td>서울 노원</td>\n      <td>남양주</td>\n      <td>홍천</td>\n      <td>횡성</td>\n      <td>양양</td>\n      <td>NaN</td>\n      <td>NaN</td>\n      <td>NaN</td>\n    </tr>\n    <tr>\n      <th>3</th>\n      <td>NaN</td>\n      <td>NaN</td>\n      <td>NaN</td>\n      <td>고양 일산서</td>\n      <td>고양 덕양</td>\n      <td>서울 강북</td>\n      <td>서울 성북</td>\n      <td>가평</td>\n      <td>구리</td>\n      <td>하남</td>\n      <td>정선</td>\n      <td>강릉</td>\n      <td>NaN</td>\n      <td>NaN</td>\n    </tr>\n    <tr>\n      <th>4</th>\n      <td>NaN</td>\n      <td>NaN</td>\n      <td>김포</td>\n      <td>안양 만안</td>\n      <td>광명</td>\n      <td>서울 서대문</td>\n      <td>서울 종로</td>\n      <td>서울 동대문</td>\n      <td>서울 중랑</td>\n      <td>양평</td>\n      <td>태백</td>\n      <td>동해</td>\n      <td>NaN</td>\n      <td>NaN</td>\n    </tr>\n  </tbody>\n</table>\n</div>"
     },
     "metadata": {},
     "execution_count": 59
    }
   ],
   "source": [
    "korea = pd.read_excel('./source/전국 카토그램.xlsx')\n",
    "korea.head()"
   ]
  },
  {
   "source": [
    "## 위 엑셀의 각 칸 별 x,y좌표가 필요하다\n",
    "- stack() : column index를 raw index로 바꾸어서 세로로 붙임 <br>\n",
    "원래 행 인덱스가 있었다면 원래 행을 구분하여 붙어서 multi index가 return \n",
    "- ubstack() : raw index를 column index로 바꾸어서 가로로 붙임 <br>\n",
    "원래 열 인덱스가 있었다면 원래 행을 구분하여 붙어서 multi columns가 return \n",
    "\n"
   ],
   "cell_type": "markdown",
   "metadata": {}
  },
  {
   "cell_type": "code",
   "execution_count": 60,
   "metadata": {},
   "outputs": [
    {
     "output_type": "execute_result",
     "data": {
      "text/plain": [
       "           0\n",
       "0 7       철원\n",
       "  8       화천\n",
       "  9       양구\n",
       "  10  고성(강원)\n",
       "1 3       양주"
      ],
      "text/html": "<div>\n<style scoped>\n    .dataframe tbody tr th:only-of-type {\n        vertical-align: middle;\n    }\n\n    .dataframe tbody tr th {\n        vertical-align: top;\n    }\n\n    .dataframe thead th {\n        text-align: right;\n    }\n</style>\n<table border=\"1\" class=\"dataframe\">\n  <thead>\n    <tr style=\"text-align: right;\">\n      <th></th>\n      <th></th>\n      <th>0</th>\n    </tr>\n  </thead>\n  <tbody>\n    <tr>\n      <th rowspan=\"4\" valign=\"top\">0</th>\n      <th>7</th>\n      <td>철원</td>\n    </tr>\n    <tr>\n      <th>8</th>\n      <td>화천</td>\n    </tr>\n    <tr>\n      <th>9</th>\n      <td>양구</td>\n    </tr>\n    <tr>\n      <th>10</th>\n      <td>고성(강원)</td>\n    </tr>\n    <tr>\n      <th>1</th>\n      <th>3</th>\n      <td>양주</td>\n    </tr>\n  </tbody>\n</table>\n</div>"
     },
     "metadata": {},
     "execution_count": 60
    }
   ],
   "source": [
    "# 원래 행 인덱스가 있었다면 원래 행을 구분하여 붙어서 multi index가 return되기 때문에 0층은 y좌표(원래 행), 1층은 x좌표(원래 열)로 생각할 수 있다.\n",
    "korea_stacked = pd.DataFrame(korea.stack())\n",
    "korea_stacked.head()"
   ]
  },
  {
   "cell_type": "code",
   "execution_count": 61,
   "metadata": {},
   "outputs": [
    {
     "output_type": "execute_result",
     "data": {
      "text/plain": [
       "   level_0  level_1       0\n",
       "0        0        7      철원\n",
       "1        0        8      화천\n",
       "2        0        9      양구\n",
       "3        0       10  고성(강원)\n",
       "4        1        3      양주"
      ],
      "text/html": "<div>\n<style scoped>\n    .dataframe tbody tr th:only-of-type {\n        vertical-align: middle;\n    }\n\n    .dataframe tbody tr th {\n        vertical-align: top;\n    }\n\n    .dataframe thead th {\n        text-align: right;\n    }\n</style>\n<table border=\"1\" class=\"dataframe\">\n  <thead>\n    <tr style=\"text-align: right;\">\n      <th></th>\n      <th>level_0</th>\n      <th>level_1</th>\n      <th>0</th>\n    </tr>\n  </thead>\n  <tbody>\n    <tr>\n      <th>0</th>\n      <td>0</td>\n      <td>7</td>\n      <td>철원</td>\n    </tr>\n    <tr>\n      <th>1</th>\n      <td>0</td>\n      <td>8</td>\n      <td>화천</td>\n    </tr>\n    <tr>\n      <th>2</th>\n      <td>0</td>\n      <td>9</td>\n      <td>양구</td>\n    </tr>\n    <tr>\n      <th>3</th>\n      <td>0</td>\n      <td>10</td>\n      <td>고성(강원)</td>\n    </tr>\n    <tr>\n      <th>4</th>\n      <td>1</td>\n      <td>3</td>\n      <td>양주</td>\n    </tr>\n  </tbody>\n</table>\n</div>"
     },
     "metadata": {},
     "execution_count": 61
    }
   ],
   "source": [
    "korea_stacked.reset_index(inplace=True)\n",
    "korea_stacked.head()"
   ]
  },
  {
   "cell_type": "code",
   "execution_count": 62,
   "metadata": {},
   "outputs": [
    {
     "output_type": "execute_result",
     "data": {
      "text/plain": [
       "   y좌표  x좌표      ID\n",
       "0    0    7      철원\n",
       "1    0    8      화천\n",
       "2    0    9      양구\n",
       "3    0   10  고성(강원)\n",
       "4    1    3      양주"
      ],
      "text/html": "<div>\n<style scoped>\n    .dataframe tbody tr th:only-of-type {\n        vertical-align: middle;\n    }\n\n    .dataframe tbody tr th {\n        vertical-align: top;\n    }\n\n    .dataframe thead th {\n        text-align: right;\n    }\n</style>\n<table border=\"1\" class=\"dataframe\">\n  <thead>\n    <tr style=\"text-align: right;\">\n      <th></th>\n      <th>y좌표</th>\n      <th>x좌표</th>\n      <th>ID</th>\n    </tr>\n  </thead>\n  <tbody>\n    <tr>\n      <th>0</th>\n      <td>0</td>\n      <td>7</td>\n      <td>철원</td>\n    </tr>\n    <tr>\n      <th>1</th>\n      <td>0</td>\n      <td>8</td>\n      <td>화천</td>\n    </tr>\n    <tr>\n      <th>2</th>\n      <td>0</td>\n      <td>9</td>\n      <td>양구</td>\n    </tr>\n    <tr>\n      <th>3</th>\n      <td>0</td>\n      <td>10</td>\n      <td>고성(강원)</td>\n    </tr>\n    <tr>\n      <th>4</th>\n      <td>1</td>\n      <td>3</td>\n      <td>양주</td>\n    </tr>\n  </tbody>\n</table>\n</div>"
     },
     "metadata": {},
     "execution_count": 62
    }
   ],
   "source": [
    "korea_stacked.rename(columns={\n",
    "    'level_0':'y좌표',\n",
    "    'level_1':'x좌표',\n",
    "    0:'ID'\n",
    "},inplace=True)\n",
    "draw_korea = korea_stacked.copy()\n",
    "draw_korea.head()"
   ]
  },
  {
   "source": [
    "## 경계선(엑셀 일일히)"
   ],
   "cell_type": "markdown",
   "metadata": {}
  },
  {
   "cell_type": "code",
   "execution_count": 63,
   "metadata": {},
   "outputs": [],
   "source": [
    "border_lines = [\n",
    "    [\n",
    "        \n",
    "    ],\n",
    "]"
   ]
  },
  {
   "cell_type": "code",
   "execution_count": 64,
   "metadata": {},
   "outputs": [],
   "source": [
    "import matplotlib.pyplot as plt\n",
    "import seaborn as sns\n",
    "\n",
    "import matplotlib as mpl\n",
    "import matplotlib.pyplot as plt\n",
    "\n",
    "%matplotlib inline\n",
    "# 폰트 설정\n",
    "mpl.rc('font', family='Malgun Gothic')\n",
    "# 유니코드에서  음수 부호설정\n",
    "mpl.rc('axes', unicode_minus=False)\n",
    "# 그래프 크기 고정\n",
    "plt.rcParams['figure.figsize'] = [10, 10]"
   ]
  },
  {
   "source": [
    "## df.iterrows()\n",
    "- 행과 열 값 꺼내기. 마치 dict.items() 처럼"
   ],
   "cell_type": "markdown",
   "metadata": {}
  },
  {
   "cell_type": "code",
   "execution_count": 65,
   "metadata": {},
   "outputs": [
    {
     "output_type": "stream",
     "name": "stdout",
     "text": [
      "i:0,r:y좌표     0\nx좌표     7\nID     철원\nName: 0, dtype: object, r_type: <class 'pandas.core.series.Series'>,0,7,철원\ni:1,r:y좌표     0\nx좌표     8\nID     화천\nName: 1, dtype: object, r_type: <class 'pandas.core.series.Series'>,0,8,화천\ni:2,r:y좌표     0\nx좌표     9\nID     양구\nName: 2, dtype: object, r_type: <class 'pandas.core.series.Series'>,0,9,양구\ni:3,r:y좌표         0\nx좌표        10\nID     고성(강원)\nName: 3, dtype: object, r_type: <class 'pandas.core.series.Series'>,0,10,고성(강원)\n"
     ]
    }
   ],
   "source": [
    "for i, r in draw_korea.iterrows():\n",
    "    print(f'i:{i},r:{r}, r_type: {type(r)},{r[0]},{r[1]},{r[2]}')\n",
    "    if i == 3:\n",
    "        break"
   ]
  },
  {
   "cell_type": "code",
   "execution_count": 66,
   "metadata": {},
   "outputs": [
    {
     "output_type": "stream",
     "name": "stdout",
     "text": [
      "철원\n",
      "화천\n",
      "양구\n",
      "고성(강원)\n",
      "양주\n",
      "동두천\n",
      "연천\n",
      "포천\n",
      "의정부\n",
      "인제\n",
      "춘천\n",
      "속초\n",
      "파주\n",
      "고양 일산동\n",
      "서울 도봉\n",
      "서울 노원\n",
      "남양주\n",
      "홍천\n",
      "횡성\n",
      "양양\n",
      "고양 일산서\n",
      "고양 덕양\n",
      "서울 강북\n",
      "서울 성북\n",
      "가평\n",
      "구리\n",
      "하남\n",
      "정선\n",
      "강릉\n",
      "김포\n",
      "안양 만안\n",
      "광명\n",
      "서울 서대문\n",
      "서울 종로\n",
      "서울 동대문\n",
      "서울 중랑\n",
      "양평\n",
      "태백\n",
      "동해\n",
      "인천 강화\n",
      "부천\n",
      "안양 동안\n",
      "서울 은평\n",
      "서울 마포\n",
      "서울 중구\n",
      "서울 성동\n",
      "서울 강동\n",
      "여주\n",
      "원주\n",
      "삼척\n",
      "인천 서구\n",
      "인천 동구\n",
      "시흥\n",
      "서울 강서\n",
      "서울 동작\n",
      "서울 용산\n",
      "서울 광진\n",
      "서울 송파\n",
      "이천\n",
      "평창\n",
      "울진\n",
      "인천 계양\n",
      "안산 상록\n",
      "서울 양천\n",
      "서울 관악\n",
      "서울 서초\n",
      "과천\n",
      "성남 중원\n",
      "광주\n",
      "영월\n",
      "영덕\n",
      "인천 부평\n",
      "안산 단원\n",
      "서울 영등포\n",
      "서울 금천\n",
      "서울 강남\n",
      "성남 분당\n",
      "성남 수정\n",
      "용인 수지\n",
      "문경\n",
      "봉화\n",
      "울릉\n",
      "인천 중구\n",
      "인천 미추홀\n",
      "화성\n",
      "서울 구로\n",
      "군포\n",
      "의왕\n",
      "수원 영통\n",
      "용인 기흥\n",
      "용인 처인\n",
      "안동\n",
      "영양\n",
      "인천 옹진\n",
      "인천 연수\n",
      "인천 남동\n",
      "오산\n",
      "안성\n",
      "수원 권선\n",
      "수원 장안\n",
      "제천\n",
      "예천\n",
      "영주\n",
      "구미\n",
      "청송\n",
      "포항 북구\n",
      "태안\n",
      "아산\n",
      "천안 동남\n",
      "천안 서북\n",
      "평택\n",
      "음성\n",
      "수원 팔달\n",
      "단양\n",
      "상주\n",
      "김천\n",
      "군위\n",
      "의성\n",
      "포항 남구\n",
      "당진\n",
      "홍성\n",
      "예산\n",
      "공주\n",
      "진천\n",
      "충주\n",
      "청주 흥덕\n",
      "괴산\n",
      "칠곡\n",
      "영천\n",
      "경산\n",
      "경주\n",
      "서산\n",
      "보령\n",
      "청양\n",
      "세종\n",
      "대전 대덕\n",
      "증평\n",
      "청주 청원\n",
      "보은\n",
      "고령\n",
      "청도\n",
      "성주\n",
      "울산 북구\n",
      "부여\n",
      "논산\n",
      "계룡\n",
      "대전 동구\n",
      "청주 상당\n",
      "청주 서원\n",
      "대구 북구\n",
      "대구 중구\n",
      "대구 수성\n",
      "울산 울주\n",
      "울산 동구\n",
      "서천\n",
      "금산\n",
      "대전 유성\n",
      "대전 중구\n",
      "옥천\n",
      "영동\n",
      "대구 서구\n",
      "대구 남구\n",
      "대구 동구\n",
      "울산 중구\n",
      "울산 남구\n",
      "군산\n",
      "익산\n",
      "대전 서구\n",
      "무주\n",
      "거창\n",
      "합천\n",
      "대구 달서\n",
      "대구 달성\n",
      "부산 금정\n",
      "부산 동래\n",
      "부산 기장\n",
      "부안\n",
      "김제\n",
      "완주\n",
      "장수\n",
      "함양\n",
      "창녕\n",
      "밀양\n",
      "부산 북구\n",
      "부산 부산진\n",
      "부산 연제\n",
      "부산 해운대\n",
      "고창\n",
      "정읍\n",
      "전주 덕진\n",
      "진안\n",
      "남원\n",
      "진주\n",
      "의령\n",
      "부산 강서\n",
      "부산 사상\n",
      "부산 동구\n",
      "부산 중구\n",
      "영광\n",
      "장성\n",
      "전주 완산\n",
      "임실\n",
      "산청\n",
      "함안\n",
      "양산\n",
      "창원 합포\n",
      "부산 서구\n",
      "부산 사하\n",
      "부산 남구\n",
      "함평\n",
      "담양\n",
      "순창\n",
      "구례\n",
      "하동\n",
      "창원 의창\n",
      "창원 성산\n",
      "창원 진해\n",
      "김해\n",
      "부산 영도\n",
      "부산 수영\n",
      "신안\n",
      "무안\n",
      "광주 광산\n",
      "곡성\n",
      "화순\n",
      "광양\n",
      "사천\n",
      "창원 회원\n",
      "통영\n",
      "목포\n",
      "나주\n",
      "광주 서구\n",
      "광주 북구\n",
      "순천\n",
      "고흥\n",
      "남해\n",
      "고성(경남)\n",
      "거제\n",
      "해남\n",
      "영암\n",
      "광주 남구\n",
      "광주 동구\n",
      "여수\n",
      "진도\n",
      "강진\n",
      "장흥\n",
      "보성\n",
      "완도\n",
      "제주\n",
      "서귀포\n"
     ]
    }
   ],
   "source": [
    "for idx, row in draw_korea.iterrows():\n",
    "    print(row[2])"
   ]
  },
  {
   "source": [
    "- splitlines: \\n로 구분되어 있는 문자열을 나눠서 리스트로 리턴 <br>\n",
    "split('\\n')와 같다."
   ],
   "cell_type": "markdown",
   "metadata": {}
  },
  {
   "cell_type": "code",
   "execution_count": 67,
   "metadata": {},
   "outputs": [
    {
     "output_type": "execute_result",
     "data": {
      "text/plain": [
       "['가나다라', '마바']"
      ]
     },
     "metadata": {},
     "execution_count": 67
    }
   ],
   "source": [
    "a = '가나다라\\n마바'\n",
    "a.splitlines()"
   ]
  },
  {
   "cell_type": "code",
   "execution_count": 68,
   "metadata": {},
   "outputs": [
    {
     "output_type": "error",
     "ename": "KeyError",
     "evalue": "'x'",
     "traceback": [
      "\u001b[1;31m---------------------------------------------------------------------------\u001b[0m",
      "\u001b[1;31mKeyError\u001b[0m                                  Traceback (most recent call last)",
      "\u001b[1;32m~\\AppData\\Local\\Programs\\Python\\Python38-32\\lib\\site-packages\\pandas\\core\\indexes\\base.py\u001b[0m in \u001b[0;36mget_loc\u001b[1;34m(self, key, method, tolerance)\u001b[0m\n\u001b[0;32m   2888\u001b[0m             \u001b[1;32mtry\u001b[0m\u001b[1;33m:\u001b[0m\u001b[1;33m\u001b[0m\u001b[1;33m\u001b[0m\u001b[0m\n\u001b[1;32m-> 2889\u001b[1;33m                 \u001b[1;32mreturn\u001b[0m \u001b[0mself\u001b[0m\u001b[1;33m.\u001b[0m\u001b[0m_engine\u001b[0m\u001b[1;33m.\u001b[0m\u001b[0mget_loc\u001b[0m\u001b[1;33m(\u001b[0m\u001b[0mcasted_key\u001b[0m\u001b[1;33m)\u001b[0m\u001b[1;33m\u001b[0m\u001b[1;33m\u001b[0m\u001b[0m\n\u001b[0m\u001b[0;32m   2890\u001b[0m             \u001b[1;32mexcept\u001b[0m \u001b[0mKeyError\u001b[0m \u001b[1;32mas\u001b[0m \u001b[0merr\u001b[0m\u001b[1;33m:\u001b[0m\u001b[1;33m\u001b[0m\u001b[1;33m\u001b[0m\u001b[0m\n",
      "\u001b[1;32mpandas\\_libs\\index.pyx\u001b[0m in \u001b[0;36mpandas._libs.index.IndexEngine.get_loc\u001b[1;34m()\u001b[0m\n",
      "\u001b[1;32mpandas\\_libs\\index.pyx\u001b[0m in \u001b[0;36mpandas._libs.index.IndexEngine.get_loc\u001b[1;34m()\u001b[0m\n",
      "\u001b[1;32mpandas\\_libs\\hashtable_class_helper.pxi\u001b[0m in \u001b[0;36mpandas._libs.hashtable.PyObjectHashTable.get_item\u001b[1;34m()\u001b[0m\n",
      "\u001b[1;32mpandas\\_libs\\hashtable_class_helper.pxi\u001b[0m in \u001b[0;36mpandas._libs.hashtable.PyObjectHashTable.get_item\u001b[1;34m()\u001b[0m\n",
      "\u001b[1;31mKeyError\u001b[0m: 'x'",
      "\nThe above exception was the direct cause of the following exception:\n",
      "\u001b[1;31mKeyError\u001b[0m                                  Traceback (most recent call last)",
      "\u001b[1;32m<ipython-input-68-a49aeb0e96d9>\u001b[0m in \u001b[0;36m<module>\u001b[1;34m\u001b[0m\n\u001b[0;32m     17\u001b[0m         \u001b[0mfontsize\u001b[0m\u001b[1;33m,\u001b[0m \u001b[0mlinespacing\u001b[0m \u001b[1;33m=\u001b[0m \u001b[1;36m11\u001b[0m\u001b[1;33m,\u001b[0m \u001b[1;36m1.2\u001b[0m\u001b[1;33m\u001b[0m\u001b[1;33m\u001b[0m\u001b[0m\n\u001b[0;32m     18\u001b[0m \u001b[1;33m\u001b[0m\u001b[0m\n\u001b[1;32m---> 19\u001b[1;33m     plt.annotate(dispname, (row['x']+0.5, row['y']+0.5), weight='bold',\n\u001b[0m\u001b[0;32m     20\u001b[0m                  \u001b[0mfontsize\u001b[0m\u001b[1;33m=\u001b[0m\u001b[0mfontsize\u001b[0m\u001b[1;33m,\u001b[0m \u001b[0mha\u001b[0m\u001b[1;33m=\u001b[0m\u001b[1;34m'center'\u001b[0m\u001b[1;33m,\u001b[0m \u001b[0mva\u001b[0m\u001b[1;33m=\u001b[0m\u001b[1;34m'center'\u001b[0m\u001b[1;33m,\u001b[0m\u001b[1;33m\u001b[0m\u001b[1;33m\u001b[0m\u001b[0m\n\u001b[0;32m     21\u001b[0m                  linespacing=linespacing)\n",
      "\u001b[1;32m~\\AppData\\Local\\Programs\\Python\\Python38-32\\lib\\site-packages\\pandas\\core\\series.py\u001b[0m in \u001b[0;36m__getitem__\u001b[1;34m(self, key)\u001b[0m\n\u001b[0;32m    880\u001b[0m \u001b[1;33m\u001b[0m\u001b[0m\n\u001b[0;32m    881\u001b[0m         \u001b[1;32melif\u001b[0m \u001b[0mkey_is_scalar\u001b[0m\u001b[1;33m:\u001b[0m\u001b[1;33m\u001b[0m\u001b[1;33m\u001b[0m\u001b[0m\n\u001b[1;32m--> 882\u001b[1;33m             \u001b[1;32mreturn\u001b[0m \u001b[0mself\u001b[0m\u001b[1;33m.\u001b[0m\u001b[0m_get_value\u001b[0m\u001b[1;33m(\u001b[0m\u001b[0mkey\u001b[0m\u001b[1;33m)\u001b[0m\u001b[1;33m\u001b[0m\u001b[1;33m\u001b[0m\u001b[0m\n\u001b[0m\u001b[0;32m    883\u001b[0m \u001b[1;33m\u001b[0m\u001b[0m\n\u001b[0;32m    884\u001b[0m         if (\n",
      "\u001b[1;32m~\\AppData\\Local\\Programs\\Python\\Python38-32\\lib\\site-packages\\pandas\\core\\series.py\u001b[0m in \u001b[0;36m_get_value\u001b[1;34m(self, label, takeable)\u001b[0m\n\u001b[0;32m    989\u001b[0m \u001b[1;33m\u001b[0m\u001b[0m\n\u001b[0;32m    990\u001b[0m         \u001b[1;31m# Similar to Index.get_value, but we do not fall back to positional\u001b[0m\u001b[1;33m\u001b[0m\u001b[1;33m\u001b[0m\u001b[1;33m\u001b[0m\u001b[0m\n\u001b[1;32m--> 991\u001b[1;33m         \u001b[0mloc\u001b[0m \u001b[1;33m=\u001b[0m \u001b[0mself\u001b[0m\u001b[1;33m.\u001b[0m\u001b[0mindex\u001b[0m\u001b[1;33m.\u001b[0m\u001b[0mget_loc\u001b[0m\u001b[1;33m(\u001b[0m\u001b[0mlabel\u001b[0m\u001b[1;33m)\u001b[0m\u001b[1;33m\u001b[0m\u001b[1;33m\u001b[0m\u001b[0m\n\u001b[0m\u001b[0;32m    992\u001b[0m         \u001b[1;32mreturn\u001b[0m \u001b[0mself\u001b[0m\u001b[1;33m.\u001b[0m\u001b[0mindex\u001b[0m\u001b[1;33m.\u001b[0m\u001b[0m_get_values_for_loc\u001b[0m\u001b[1;33m(\u001b[0m\u001b[0mself\u001b[0m\u001b[1;33m,\u001b[0m \u001b[0mloc\u001b[0m\u001b[1;33m,\u001b[0m \u001b[0mlabel\u001b[0m\u001b[1;33m)\u001b[0m\u001b[1;33m\u001b[0m\u001b[1;33m\u001b[0m\u001b[0m\n\u001b[0;32m    993\u001b[0m \u001b[1;33m\u001b[0m\u001b[0m\n",
      "\u001b[1;32m~\\AppData\\Local\\Programs\\Python\\Python38-32\\lib\\site-packages\\pandas\\core\\indexes\\base.py\u001b[0m in \u001b[0;36mget_loc\u001b[1;34m(self, key, method, tolerance)\u001b[0m\n\u001b[0;32m   2889\u001b[0m                 \u001b[1;32mreturn\u001b[0m \u001b[0mself\u001b[0m\u001b[1;33m.\u001b[0m\u001b[0m_engine\u001b[0m\u001b[1;33m.\u001b[0m\u001b[0mget_loc\u001b[0m\u001b[1;33m(\u001b[0m\u001b[0mcasted_key\u001b[0m\u001b[1;33m)\u001b[0m\u001b[1;33m\u001b[0m\u001b[1;33m\u001b[0m\u001b[0m\n\u001b[0;32m   2890\u001b[0m             \u001b[1;32mexcept\u001b[0m \u001b[0mKeyError\u001b[0m \u001b[1;32mas\u001b[0m \u001b[0merr\u001b[0m\u001b[1;33m:\u001b[0m\u001b[1;33m\u001b[0m\u001b[1;33m\u001b[0m\u001b[0m\n\u001b[1;32m-> 2891\u001b[1;33m                 \u001b[1;32mraise\u001b[0m \u001b[0mKeyError\u001b[0m\u001b[1;33m(\u001b[0m\u001b[0mkey\u001b[0m\u001b[1;33m)\u001b[0m \u001b[1;32mfrom\u001b[0m \u001b[0merr\u001b[0m\u001b[1;33m\u001b[0m\u001b[1;33m\u001b[0m\u001b[0m\n\u001b[0m\u001b[0;32m   2892\u001b[0m \u001b[1;33m\u001b[0m\u001b[0m\n\u001b[0;32m   2893\u001b[0m         \u001b[1;32mif\u001b[0m \u001b[0mtolerance\u001b[0m \u001b[1;32mis\u001b[0m \u001b[1;32mnot\u001b[0m \u001b[1;32mNone\u001b[0m\u001b[1;33m:\u001b[0m\u001b[1;33m\u001b[0m\u001b[1;33m\u001b[0m\u001b[0m\n",
      "\u001b[1;31mKeyError\u001b[0m: 'x'"
     ]
    }
   ],
   "source": [
    "# 지역 이름 표시\n",
    "for idx, row in draw_korea.iterrows():\n",
    "    \n",
    "    # 광역시는 구 이름이 겹치는 경우가 많아서 시단위 이름도 같이 표시한다. \n",
    "    # (중구, 서구)\n",
    "    if len(row['ID'].split())==2:\n",
    "        dispname = '{}\\n{}'.format(row['ID'].split()[0], row['ID'].split()[1])\n",
    "    elif row['ID'][:2]=='고성':\n",
    "        dispname = '고성'\n",
    "    else:\n",
    "        dispname = row['ID']\n",
    "\n",
    "    # 서대문구, 서귀포시 같이 이름이 3자 이상인 경우에 작은 글자로 표시한다.\n",
    "    if len(dispname.splitlines()[-1]) >= 3:\n",
    "        fontsize, linespacing = 9.5, 1.5\n",
    "    else:\n",
    "        fontsize, linespacing = 11, 1.2\n",
    "\n",
    "    plt.annotate(dispname, (row['x']+0.5, row['y']+0.5), weight='bold',\n",
    "                 fontsize=fontsize, ha='center', va='center', \n",
    "                 linespacing=linespacing)\n",
    "    \n",
    "# 시도 경계 그린다.\n",
    "for path in BORDER_LINES:\n",
    "    ys, xs = zip(*path)\n",
    "    plt.plot(xs, ys, c='black', lw=1.5)\n",
    "\n",
    "plt.gca().invert_yaxis()\n",
    "#plt.gca().set_aspect(1)\n",
    "\n",
    "plt.axis('off')\n",
    "\n",
    "plt.tight_layout()\n",
    "plt.show()"
   ]
  }
 ]
}