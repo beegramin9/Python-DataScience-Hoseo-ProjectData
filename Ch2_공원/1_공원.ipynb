{
 "metadata": {
  "language_info": {
   "codemirror_mode": {
    "name": "ipython",
    "version": 3
   },
   "file_extension": ".py",
   "mimetype": "text/x-python",
   "name": "python",
   "nbconvert_exporter": "python",
   "pygments_lexer": "ipython3",
   "version": "3.8.5-final"
  },
  "orig_nbformat": 2,
  "kernelspec": {
   "name": "python3",
   "display_name": "Python 3.8.5 64-bit ('prophet': conda)",
   "metadata": {
    "interpreter": {
     "hash": "5e48e52ea031c0749f6c7450d6e984e2a9b420046de7854ab875b07076570244"
    }
   }
  }
 },
 "nbformat": 4,
 "nbformat_minor": 2,
 "cells": [
  {
   "source": [
    "# 서울시 구별 공원 현황"
   ],
   "cell_type": "markdown",
   "metadata": {}
  },
  {
   "cell_type": "code",
   "execution_count": 58,
   "metadata": {},
   "outputs": [],
   "source": [
    "import pandas as pd\n",
    "import numpy as np"
   ]
  },
  {
   "cell_type": "code",
   "execution_count": 108,
   "metadata": {},
   "outputs": [
    {
     "output_type": "execute_result",
     "data": {
      "text/plain": [
       "   공원번호       공원명                                               공원개요  \\\n",
       "0     1  남산도시자연공원  남산공원은 도심에 위치하여 서울시민에게 맑은 공기를 제공하는 자연휴식처이며 산책 꽃...   \n",
       "\n",
       "                                             면적        개원일  \\\n",
       "0  2896887㎡ 임 야 : 2454140㎡ 녹지대 및 기타시설 : 442747㎡  1968.9.10   \n",
       "\n",
       "                                                주요시설  \\\n",
       "0  기반시설 : 광장 45950㎡ 도로 108530㎡ 산책로 6.7㎞ (북측:3.7㎞/...   \n",
       "\n",
       "                                주요식물  \\\n",
       "0  소나무 단풍 아카시아 상수리나무 등 191종 2881870주   \n",
       "\n",
       "                                                 안내도  \\\n",
       "0  http://parks.seoul.go.kr/upload/seditorMulti/2...   \n",
       "\n",
       "                                                오시는길  \\\n",
       "0  명동역(남산케이블카 와룡묘 서울애니메이션센터 방면) 도보 명동역 3번출구 → 퍼시픽...   \n",
       "\n",
       "                                             이용시참고사항  \\\n",
       "0  남산공원 차량통행 금지안내 2005년 5월 1일부터 남산공원에 일반승용차 택시 통행...   \n",
       "\n",
       "                                                 이미지  지역  \\\n",
       "0  http://parks.seoul.go.kr/file/info/view.do?fId...  중구   \n",
       "\n",
       "                     공원주소            관리부서          전화번호  X좌표(GRS80TM)  \\\n",
       "0  서울특별시 중구 삼일대로 231(예장동)  서울특별시중부푸른도시사업소  02-3783-5900    198364.107   \n",
       "\n",
       "   Y좌표(GRS80TM)  X좌표(WGS84)  Y좌표(WGS84)  \\\n",
       "0    450395.554  126.990377    37.55014   \n",
       "\n",
       "                                              바로가기  \n",
       "0  http://parks.seoul.go.kr/template/sub/namsan.do  "
      ],
      "text/html": "<div>\n<style scoped>\n    .dataframe tbody tr th:only-of-type {\n        vertical-align: middle;\n    }\n\n    .dataframe tbody tr th {\n        vertical-align: top;\n    }\n\n    .dataframe thead th {\n        text-align: right;\n    }\n</style>\n<table border=\"1\" class=\"dataframe\">\n  <thead>\n    <tr style=\"text-align: right;\">\n      <th></th>\n      <th>공원번호</th>\n      <th>공원명</th>\n      <th>공원개요</th>\n      <th>면적</th>\n      <th>개원일</th>\n      <th>주요시설</th>\n      <th>주요식물</th>\n      <th>안내도</th>\n      <th>오시는길</th>\n      <th>이용시참고사항</th>\n      <th>이미지</th>\n      <th>지역</th>\n      <th>공원주소</th>\n      <th>관리부서</th>\n      <th>전화번호</th>\n      <th>X좌표(GRS80TM)</th>\n      <th>Y좌표(GRS80TM)</th>\n      <th>X좌표(WGS84)</th>\n      <th>Y좌표(WGS84)</th>\n      <th>바로가기</th>\n    </tr>\n  </thead>\n  <tbody>\n    <tr>\n      <th>0</th>\n      <td>1</td>\n      <td>남산도시자연공원</td>\n      <td>남산공원은 도심에 위치하여 서울시민에게 맑은 공기를 제공하는 자연휴식처이며 산책 꽃...</td>\n      <td>2896887㎡ 임 야 : 2454140㎡ 녹지대 및 기타시설 : 442747㎡</td>\n      <td>1968.9.10</td>\n      <td>기반시설 : 광장 45950㎡ 도로 108530㎡ 산책로 6.7㎞ (북측:3.7㎞/...</td>\n      <td>소나무 단풍 아카시아 상수리나무 등 191종 2881870주</td>\n      <td>http://parks.seoul.go.kr/upload/seditorMulti/2...</td>\n      <td>명동역(남산케이블카 와룡묘 서울애니메이션센터 방면) 도보 명동역 3번출구 → 퍼시픽...</td>\n      <td>남산공원 차량통행 금지안내 2005년 5월 1일부터 남산공원에 일반승용차 택시 통행...</td>\n      <td>http://parks.seoul.go.kr/file/info/view.do?fId...</td>\n      <td>중구</td>\n      <td>서울특별시 중구 삼일대로 231(예장동)</td>\n      <td>서울특별시중부푸른도시사업소</td>\n      <td>02-3783-5900</td>\n      <td>198364.107</td>\n      <td>450395.554</td>\n      <td>126.990377</td>\n      <td>37.55014</td>\n      <td>http://parks.seoul.go.kr/template/sub/namsan.do</td>\n    </tr>\n  </tbody>\n</table>\n</div>"
     },
     "metadata": {},
     "execution_count": 108
    }
   ],
   "source": [
    "park = pd.read_csv('서울시 공원.csv', encoding='CP949', thousands=',')\n",
    "# thousands option not working\n",
    "park.head(1)"
   ]
  },
  {
   "cell_type": "code",
   "execution_count": 109,
   "metadata": {},
   "outputs": [
    {
     "output_type": "execute_result",
     "data": {
      "text/plain": [
       "        공원명                                               공원개요   지역  \\\n",
       "0  남산도시자연공원  남산공원은 도심에 위치하여 서울시민에게 맑은 공기를 제공하는 자연휴식처이며 산책 꽃...   중구   \n",
       "1    길동생태공원  길동생태공원은 생물의 서식처를 제공하고 종다양성을 증진시키며 자연생태계의 생물들을 ...  강동구   \n",
       "2     서울대공원  서울대공원은 세계 각국의 야생동물들이 살아 숨 쉬는 서울동물원과 다양한 재미와 즐거...  과천시   \n",
       "3       서울숲  당초 골프장 승마장 등이 있던 뚝섬일대를 주거업무 지역으로 개발할 경우 약 4조원에...  성동구   \n",
       "4     월드컵공원  월드컵공원은 서울의 서쪽에 위치하여 1978년부터 1993년까지 15년간 서울시민이...  마포구   \n",
       "\n",
       "                           공원주소  Y좌표(WGS84)  X좌표(WGS84)  \\\n",
       "0        서울특별시 중구 삼일대로 231(예장동)   37.550140  126.990377   \n",
       "1  서울특별시 강동구 천호대로 1291(길동생태공원)    37.540394  127.154779   \n",
       "2            경기도 과천시 대공원광장로 102   37.426449  127.019847   \n",
       "3    서울특별시 성동구 뚝섬로 273 (성수동1가)    37.543072  127.041798   \n",
       "4     서울특별시 마포구 하늘공원로 84(월드컵공원)   37.571805  126.878907   \n",
       "\n",
       "                                             면적  \n",
       "0  2896887㎡ 임 야 : 2454140㎡ 녹지대 및 기타시설 : 442747㎡  \n",
       "1                                        80683㎡  \n",
       "2                                     9132690m²  \n",
       "3                                       480994㎡  \n",
       "4                                      2284085㎡  "
      ],
      "text/html": "<div>\n<style scoped>\n    .dataframe tbody tr th:only-of-type {\n        vertical-align: middle;\n    }\n\n    .dataframe tbody tr th {\n        vertical-align: top;\n    }\n\n    .dataframe thead th {\n        text-align: right;\n    }\n</style>\n<table border=\"1\" class=\"dataframe\">\n  <thead>\n    <tr style=\"text-align: right;\">\n      <th></th>\n      <th>공원명</th>\n      <th>공원개요</th>\n      <th>지역</th>\n      <th>공원주소</th>\n      <th>Y좌표(WGS84)</th>\n      <th>X좌표(WGS84)</th>\n      <th>면적</th>\n    </tr>\n  </thead>\n  <tbody>\n    <tr>\n      <th>0</th>\n      <td>남산도시자연공원</td>\n      <td>남산공원은 도심에 위치하여 서울시민에게 맑은 공기를 제공하는 자연휴식처이며 산책 꽃...</td>\n      <td>중구</td>\n      <td>서울특별시 중구 삼일대로 231(예장동)</td>\n      <td>37.550140</td>\n      <td>126.990377</td>\n      <td>2896887㎡ 임 야 : 2454140㎡ 녹지대 및 기타시설 : 442747㎡</td>\n    </tr>\n    <tr>\n      <th>1</th>\n      <td>길동생태공원</td>\n      <td>길동생태공원은 생물의 서식처를 제공하고 종다양성을 증진시키며 자연생태계의 생물들을 ...</td>\n      <td>강동구</td>\n      <td>서울특별시 강동구 천호대로 1291(길동생태공원)</td>\n      <td>37.540394</td>\n      <td>127.154779</td>\n      <td>80683㎡</td>\n    </tr>\n    <tr>\n      <th>2</th>\n      <td>서울대공원</td>\n      <td>서울대공원은 세계 각국의 야생동물들이 살아 숨 쉬는 서울동물원과 다양한 재미와 즐거...</td>\n      <td>과천시</td>\n      <td>경기도 과천시 대공원광장로 102</td>\n      <td>37.426449</td>\n      <td>127.019847</td>\n      <td>9132690m²</td>\n    </tr>\n    <tr>\n      <th>3</th>\n      <td>서울숲</td>\n      <td>당초 골프장 승마장 등이 있던 뚝섬일대를 주거업무 지역으로 개발할 경우 약 4조원에...</td>\n      <td>성동구</td>\n      <td>서울특별시 성동구 뚝섬로 273 (성수동1가)</td>\n      <td>37.543072</td>\n      <td>127.041798</td>\n      <td>480994㎡</td>\n    </tr>\n    <tr>\n      <th>4</th>\n      <td>월드컵공원</td>\n      <td>월드컵공원은 서울의 서쪽에 위치하여 1978년부터 1993년까지 15년간 서울시민이...</td>\n      <td>마포구</td>\n      <td>서울특별시 마포구 하늘공원로 84(월드컵공원)</td>\n      <td>37.571805</td>\n      <td>126.878907</td>\n      <td>2284085㎡</td>\n    </tr>\n  </tbody>\n</table>\n</div>"
     },
     "metadata": {},
     "execution_count": 109
    }
   ],
   "source": [
    "park = park.loc[:,['공원명','공원개요','지역','공원주소','Y좌표(WGS84)','X좌표(WGS84)','면적']]\n",
    "park.head()"
   ]
  },
  {
   "cell_type": "code",
   "execution_count": 110,
   "metadata": {},
   "outputs": [],
   "source": [
    "park.rename(columns={\n",
    "    '공원명':'공원',\n",
    "    'Y좌표(WGS84)':'lat',\n",
    "    'X좌표(WGS84)':'lng'\n",
    "},inplace = True)"
   ]
  },
  {
   "source": [
    "## Pandas Doc에 .values() 보다 to_numpy() 사용하라고 나와있음"
   ],
   "cell_type": "markdown",
   "metadata": {}
  },
  {
   "cell_type": "code",
   "execution_count": 111,
   "metadata": {},
   "outputs": [
    {
     "output_type": "execute_result",
     "data": {
      "text/plain": [
       "면적    object\n",
       "dtype: object"
      ]
     },
     "metadata": {},
     "execution_count": 111
    }
   ],
   "source": [
    "park[['면적']].dtypes"
   ]
  },
  {
   "cell_type": "code",
   "execution_count": 112,
   "metadata": {},
   "outputs": [
    {
     "output_type": "execute_result",
     "data": {
      "text/plain": [
       "array([['2896887㎡ 임 야 : 2454140㎡ 녹지대 및 기타시설 : 442747㎡'],\n",
       "       ['80683㎡'],\n",
       "       ['9132690m²'],\n",
       "       ['480994㎡'],\n",
       "       ['2284085㎡'],\n",
       "       ['8948.1㎡'],\n",
       "       ['휴양 및 편익시설 : 평의자 7개 화장실 23.18㎡ 조경시설 - 은하폭포(높이 12m × 폭10m 발원지로부터 17.3m 폭 1.5 ~ 10m 수조 255㎡ 담수량 140t) - 산성폭포(높이 5m×폭 12m 수조 90㎡ 담수량 75t)- 명속의 벽 1개소(높이 5.4m) 교양시설 : 야외공연무대 102㎡ 관리시설 : 관리실 8.55㎡ 전기실 51.03㎡ 기계실 83.36㎡ 안내판 1개 공원 등 18본 휴양시설 : 벤취 12개 '],\n",
       "       ['6456㎥'],\n",
       "       ['80309㎡ 배수지 시설용량 : 201.000㎥ 송수 펌프용량 : 직송급수계통 30000㎥/일 금호배수지계통 16400㎥/일 '],\n",
       "       ['1980.4㎡   ']], dtype=object)"
      ]
     },
     "metadata": {},
     "execution_count": 112
    }
   ],
   "source": [
    "\n",
    "park[['면적']].to_numpy()[:10]"
   ]
  },
  {
   "source": [
    "## 중간에 NaN값이 섞여있어서  'float' object is not subscriptable 오류 발생\n",
    "## 파이썬에서 NaN값은 Float이다\n",
    "### 그러므로 오류를 피하기 위해서는 fillna() 메소드로 NaN값을 없애주고 시작하거나 (여전히 타입 오류가 발생할 수 있다) dropna()로 행을 다 날려버리던지, nan값 있는 행을 살리고 싶다면 따로 값을 넣어주던지 해서 진행한다"
   ],
   "cell_type": "markdown",
   "metadata": {}
  },
  {
   "cell_type": "code",
   "execution_count": 113,
   "metadata": {},
   "outputs": [],
   "source": [
    "park_w_nan = park.copy()"
   ]
  },
  {
   "cell_type": "code",
   "execution_count": 114,
   "metadata": {},
   "outputs": [],
   "source": [
    "park = park.dropna(axis=0)"
   ]
  },
  {
   "source": [
    "먼저 : 를 기준으로 나누기"
   ],
   "cell_type": "markdown",
   "metadata": {}
  },
  {
   "cell_type": "code",
   "execution_count": 115,
   "metadata": {},
   "outputs": [
    {
     "output_type": "execute_result",
     "data": {
      "text/plain": [
       "              공원                                               공원개요    지역  \\\n",
       "0       남산도시자연공원  남산공원은 도심에 위치하여 서울시민에게 맑은 공기를 제공하는 자연휴식처이며 산책 꽃...    중구   \n",
       "1         길동생태공원  길동생태공원은 생물의 서식처를 제공하고 종다양성을 증진시키며 자연생태계의 생물들을 ...   강동구   \n",
       "2          서울대공원  서울대공원은 세계 각국의 야생동물들이 살아 숨 쉬는 서울동물원과 다양한 재미와 즐거...   과천시   \n",
       "3            서울숲  당초 골프장 승마장 등이 있던 뚝섬일대를 주거업무 지역으로 개발할 경우 약 4조원에...   성동구   \n",
       "4          월드컵공원  월드컵공원은 서울의 서쪽에 위치하여 1978년부터 1993년까지 15년간 서울시민이...   마포구   \n",
       "5      광화문시민열린마당  광화문 옛 육조거리가 있던 자리에 새롭게 탄생한 서울시민을 위한 쉼터 '시민열린마당...   종로구   \n",
       "6  진관근린공원(구파발폭포)  1993. 09. 06 서울시장 방침(제1400호) 통일로변 인공폭포조성계획  19...   은평구   \n",
       "7        중마루근린공원  서울시가 ‘공원녹지 확충 5개년 계획’ 에 의해 구 영등포시립병원(6동)을 이전한 ...  영등포구   \n",
       "8           응봉공원  응봉은 산모양이 매처럼 보이기 때문에 붙여졌다고 하며 조선시대 왕들이 매사냥을 하여...   성동구   \n",
       "9         매화근린공원  공장 이적지 공원화 사업’의 일환으로 옛 성진 유리(주)공장 터에 사업비 6억 원을...   강서구   \n",
       "\n",
       "                           공원주소        lat         lng  \\\n",
       "0        서울특별시 중구 삼일대로 231(예장동)  37.550140  126.990377   \n",
       "1  서울특별시 강동구 천호대로 1291(길동생태공원)   37.540394  127.154779   \n",
       "2            경기도 과천시 대공원광장로 102  37.426449  127.019847   \n",
       "3    서울특별시 성동구 뚝섬로 273 (성수동1가)   37.543072  127.041798   \n",
       "4     서울특별시 마포구 하늘공원로 84(월드컵공원)  37.571805  126.878907   \n",
       "5            서울특별시 종로구 세종로 76-2  37.575045  126.978023   \n",
       "6             서울특별시 은평구 진관동 393  37.637024  126.919216   \n",
       "7         서울특별시 영등포구 영등포동2가 222  37.519832  126.911267   \n",
       "8         서울특별시 성동구 금호동1가 산1-72  37.557228  127.021765   \n",
       "9          서울특별시 강서구 등촌동 630-14  37.557583  126.861150   \n",
       "\n",
       "                                                  면적  \n",
       "0       2896887㎡ 임 야 : 2454140㎡ 녹지대 및 기타시설 : 442747㎡  \n",
       "1                                             80683㎡  \n",
       "2                                          9132690m²  \n",
       "3                                            480994㎡  \n",
       "4                                           2284085㎡  \n",
       "5                                            8948.1㎡  \n",
       "6  휴양 및 편익시설 : 평의자 7개 화장실 23.18㎡ 조경시설 - 은하폭포(높이 1...  \n",
       "7                                              6456㎥  \n",
       "8  80309㎡ 배수지 시설용량 : 201.000㎥ 송수 펌프용량 : 직송급수계통 30...  \n",
       "9                                         1980.4㎡     "
      ],
      "text/html": "<div>\n<style scoped>\n    .dataframe tbody tr th:only-of-type {\n        vertical-align: middle;\n    }\n\n    .dataframe tbody tr th {\n        vertical-align: top;\n    }\n\n    .dataframe thead th {\n        text-align: right;\n    }\n</style>\n<table border=\"1\" class=\"dataframe\">\n  <thead>\n    <tr style=\"text-align: right;\">\n      <th></th>\n      <th>공원</th>\n      <th>공원개요</th>\n      <th>지역</th>\n      <th>공원주소</th>\n      <th>lat</th>\n      <th>lng</th>\n      <th>면적</th>\n    </tr>\n  </thead>\n  <tbody>\n    <tr>\n      <th>0</th>\n      <td>남산도시자연공원</td>\n      <td>남산공원은 도심에 위치하여 서울시민에게 맑은 공기를 제공하는 자연휴식처이며 산책 꽃...</td>\n      <td>중구</td>\n      <td>서울특별시 중구 삼일대로 231(예장동)</td>\n      <td>37.550140</td>\n      <td>126.990377</td>\n      <td>2896887㎡ 임 야 : 2454140㎡ 녹지대 및 기타시설 : 442747㎡</td>\n    </tr>\n    <tr>\n      <th>1</th>\n      <td>길동생태공원</td>\n      <td>길동생태공원은 생물의 서식처를 제공하고 종다양성을 증진시키며 자연생태계의 생물들을 ...</td>\n      <td>강동구</td>\n      <td>서울특별시 강동구 천호대로 1291(길동생태공원)</td>\n      <td>37.540394</td>\n      <td>127.154779</td>\n      <td>80683㎡</td>\n    </tr>\n    <tr>\n      <th>2</th>\n      <td>서울대공원</td>\n      <td>서울대공원은 세계 각국의 야생동물들이 살아 숨 쉬는 서울동물원과 다양한 재미와 즐거...</td>\n      <td>과천시</td>\n      <td>경기도 과천시 대공원광장로 102</td>\n      <td>37.426449</td>\n      <td>127.019847</td>\n      <td>9132690m²</td>\n    </tr>\n    <tr>\n      <th>3</th>\n      <td>서울숲</td>\n      <td>당초 골프장 승마장 등이 있던 뚝섬일대를 주거업무 지역으로 개발할 경우 약 4조원에...</td>\n      <td>성동구</td>\n      <td>서울특별시 성동구 뚝섬로 273 (성수동1가)</td>\n      <td>37.543072</td>\n      <td>127.041798</td>\n      <td>480994㎡</td>\n    </tr>\n    <tr>\n      <th>4</th>\n      <td>월드컵공원</td>\n      <td>월드컵공원은 서울의 서쪽에 위치하여 1978년부터 1993년까지 15년간 서울시민이...</td>\n      <td>마포구</td>\n      <td>서울특별시 마포구 하늘공원로 84(월드컵공원)</td>\n      <td>37.571805</td>\n      <td>126.878907</td>\n      <td>2284085㎡</td>\n    </tr>\n    <tr>\n      <th>5</th>\n      <td>광화문시민열린마당</td>\n      <td>광화문 옛 육조거리가 있던 자리에 새롭게 탄생한 서울시민을 위한 쉼터 '시민열린마당...</td>\n      <td>종로구</td>\n      <td>서울특별시 종로구 세종로 76-2</td>\n      <td>37.575045</td>\n      <td>126.978023</td>\n      <td>8948.1㎡</td>\n    </tr>\n    <tr>\n      <th>6</th>\n      <td>진관근린공원(구파발폭포)</td>\n      <td>1993. 09. 06 서울시장 방침(제1400호) 통일로변 인공폭포조성계획  19...</td>\n      <td>은평구</td>\n      <td>서울특별시 은평구 진관동 393</td>\n      <td>37.637024</td>\n      <td>126.919216</td>\n      <td>휴양 및 편익시설 : 평의자 7개 화장실 23.18㎡ 조경시설 - 은하폭포(높이 1...</td>\n    </tr>\n    <tr>\n      <th>7</th>\n      <td>중마루근린공원</td>\n      <td>서울시가 ‘공원녹지 확충 5개년 계획’ 에 의해 구 영등포시립병원(6동)을 이전한 ...</td>\n      <td>영등포구</td>\n      <td>서울특별시 영등포구 영등포동2가 222</td>\n      <td>37.519832</td>\n      <td>126.911267</td>\n      <td>6456㎥</td>\n    </tr>\n    <tr>\n      <th>8</th>\n      <td>응봉공원</td>\n      <td>응봉은 산모양이 매처럼 보이기 때문에 붙여졌다고 하며 조선시대 왕들이 매사냥을 하여...</td>\n      <td>성동구</td>\n      <td>서울특별시 성동구 금호동1가 산1-72</td>\n      <td>37.557228</td>\n      <td>127.021765</td>\n      <td>80309㎡ 배수지 시설용량 : 201.000㎥ 송수 펌프용량 : 직송급수계통 30...</td>\n    </tr>\n    <tr>\n      <th>9</th>\n      <td>매화근린공원</td>\n      <td>공장 이적지 공원화 사업’의 일환으로 옛 성진 유리(주)공장 터에 사업비 6억 원을...</td>\n      <td>강서구</td>\n      <td>서울특별시 강서구 등촌동 630-14</td>\n      <td>37.557583</td>\n      <td>126.861150</td>\n      <td>1980.4㎡</td>\n    </tr>\n  </tbody>\n</table>\n</div>"
     },
     "metadata": {},
     "execution_count": 115
    }
   ],
   "source": [
    "park.head(10)"
   ]
  },
  {
   "cell_type": "code",
   "execution_count": 116,
   "metadata": {},
   "outputs": [
    {
     "output_type": "execute_result",
     "data": {
      "text/plain": [
       "         공원                                               공원개요   지역  \\\n",
       "0  남산도시자연공원  남산공원은 도심에 위치하여 서울시민에게 맑은 공기를 제공하는 자연휴식처이며 산책 꽃...   중구   \n",
       "1    길동생태공원  길동생태공원은 생물의 서식처를 제공하고 종다양성을 증진시키며 자연생태계의 생물들을 ...  강동구   \n",
       "2     서울대공원  서울대공원은 세계 각국의 야생동물들이 살아 숨 쉬는 서울동물원과 다양한 재미와 즐거...  과천시   \n",
       "3       서울숲  당초 골프장 승마장 등이 있던 뚝섬일대를 주거업무 지역으로 개발할 경우 약 4조원에...  성동구   \n",
       "4     월드컵공원  월드컵공원은 서울의 서쪽에 위치하여 1978년부터 1993년까지 15년간 서울시민이...  마포구   \n",
       "\n",
       "                           공원주소        lat         lng  \\\n",
       "0        서울특별시 중구 삼일대로 231(예장동)  37.550140  126.990377   \n",
       "1  서울특별시 강동구 천호대로 1291(길동생태공원)   37.540394  127.154779   \n",
       "2            경기도 과천시 대공원광장로 102  37.426449  127.019847   \n",
       "3    서울특별시 성동구 뚝섬로 273 (성수동1가)   37.543072  127.041798   \n",
       "4     서울특별시 마포구 하늘공원로 84(월드컵공원)  37.571805  126.878907   \n",
       "\n",
       "                                                 면적  \n",
       "0  [2896887㎡ 임 야 ,  2454140㎡ 녹지대 및 기타시설 ,  442747㎡]  \n",
       "1                                          [80683㎡]  \n",
       "2                                       [9132690m²]  \n",
       "3                                         [480994㎡]  \n",
       "4                                        [2284085㎡]  "
      ],
      "text/html": "<div>\n<style scoped>\n    .dataframe tbody tr th:only-of-type {\n        vertical-align: middle;\n    }\n\n    .dataframe tbody tr th {\n        vertical-align: top;\n    }\n\n    .dataframe thead th {\n        text-align: right;\n    }\n</style>\n<table border=\"1\" class=\"dataframe\">\n  <thead>\n    <tr style=\"text-align: right;\">\n      <th></th>\n      <th>공원</th>\n      <th>공원개요</th>\n      <th>지역</th>\n      <th>공원주소</th>\n      <th>lat</th>\n      <th>lng</th>\n      <th>면적</th>\n    </tr>\n  </thead>\n  <tbody>\n    <tr>\n      <th>0</th>\n      <td>남산도시자연공원</td>\n      <td>남산공원은 도심에 위치하여 서울시민에게 맑은 공기를 제공하는 자연휴식처이며 산책 꽃...</td>\n      <td>중구</td>\n      <td>서울특별시 중구 삼일대로 231(예장동)</td>\n      <td>37.550140</td>\n      <td>126.990377</td>\n      <td>[2896887㎡ 임 야 ,  2454140㎡ 녹지대 및 기타시설 ,  442747㎡]</td>\n    </tr>\n    <tr>\n      <th>1</th>\n      <td>길동생태공원</td>\n      <td>길동생태공원은 생물의 서식처를 제공하고 종다양성을 증진시키며 자연생태계의 생물들을 ...</td>\n      <td>강동구</td>\n      <td>서울특별시 강동구 천호대로 1291(길동생태공원)</td>\n      <td>37.540394</td>\n      <td>127.154779</td>\n      <td>[80683㎡]</td>\n    </tr>\n    <tr>\n      <th>2</th>\n      <td>서울대공원</td>\n      <td>서울대공원은 세계 각국의 야생동물들이 살아 숨 쉬는 서울동물원과 다양한 재미와 즐거...</td>\n      <td>과천시</td>\n      <td>경기도 과천시 대공원광장로 102</td>\n      <td>37.426449</td>\n      <td>127.019847</td>\n      <td>[9132690m²]</td>\n    </tr>\n    <tr>\n      <th>3</th>\n      <td>서울숲</td>\n      <td>당초 골프장 승마장 등이 있던 뚝섬일대를 주거업무 지역으로 개발할 경우 약 4조원에...</td>\n      <td>성동구</td>\n      <td>서울특별시 성동구 뚝섬로 273 (성수동1가)</td>\n      <td>37.543072</td>\n      <td>127.041798</td>\n      <td>[480994㎡]</td>\n    </tr>\n    <tr>\n      <th>4</th>\n      <td>월드컵공원</td>\n      <td>월드컵공원은 서울의 서쪽에 위치하여 1978년부터 1993년까지 15년간 서울시민이...</td>\n      <td>마포구</td>\n      <td>서울특별시 마포구 하늘공원로 84(월드컵공원)</td>\n      <td>37.571805</td>\n      <td>126.878907</td>\n      <td>[2284085㎡]</td>\n    </tr>\n  </tbody>\n</table>\n</div>"
     },
     "metadata": {},
     "execution_count": 116
    }
   ],
   "source": [
    "park['면적'] = park['면적'].str.split(':')\n",
    "park.head()"
   ]
  },
  {
   "source": [
    "park['면적'] = park.apply(lambda r: r['면적'][0], axis=1)"
   ],
   "cell_type": "code",
   "metadata": {},
   "execution_count": 117,
   "outputs": []
  },
  {
   "source": [
    "정규표현식으로 숫자만 가져오기"
   ],
   "cell_type": "markdown",
   "metadata": {}
  },
  {
   "cell_type": "code",
   "execution_count": 118,
   "metadata": {},
   "outputs": [
    {
     "output_type": "execute_result",
     "data": {
      "text/plain": [
       "                  공원                                               공원개요   지역  \\\n",
       "125           숭인근린공원  서울특별시 종로구 숭인동 동망산(東望山)에 있는 공원이다. 동망산공원이라고도 한다....  종로구   \n",
       "126          서일대뒷산공원  망우동과 면목동 경기도 구리시에 걸쳐있는 망우산은 해발 281.7m이며 망우산 일대...  중랑구   \n",
       "127  용마도시자연공원(사가정공원)  2005년 4월 13일 개장한 사가정공원은 면목동 산 50번지 일대의 면목약수터지구...  중랑구   \n",
       "128           문화비축기지  매봉산자락에 위치한 문화비축기지는 폐산업시설인 '마포석유비축기지'를 재생하여 역사적...  마포구   \n",
       "130             율현공원  ? 율현공원은 보금자리주택 세곡2지구 사업의 결과물로 만들어졌다. 공원은 주택지구의...  강남구   \n",
       "\n",
       "                              공원주소        lat         lng        면적  \n",
       "125               서울특별시 종로구 숭인동 58  37.576442  127.017827   45615㎡   \n",
       "126              서울특별시 중랑구 면목동 산19  37.587716  127.098782  631021㎡   \n",
       "127            서울특별시 중랑구 면목7동 산50   37.579762  127.095997  109635㎡   \n",
       "128               서울특별시 마포구 증산로 87  37.571718  126.893245   140022㎡  \n",
       "130  서울특별시 강남구 율현동 밤고개로24길(율현동 56)  37.472332  127.115594   157535㎡  "
      ],
      "text/html": "<div>\n<style scoped>\n    .dataframe tbody tr th:only-of-type {\n        vertical-align: middle;\n    }\n\n    .dataframe tbody tr th {\n        vertical-align: top;\n    }\n\n    .dataframe thead th {\n        text-align: right;\n    }\n</style>\n<table border=\"1\" class=\"dataframe\">\n  <thead>\n    <tr style=\"text-align: right;\">\n      <th></th>\n      <th>공원</th>\n      <th>공원개요</th>\n      <th>지역</th>\n      <th>공원주소</th>\n      <th>lat</th>\n      <th>lng</th>\n      <th>면적</th>\n    </tr>\n  </thead>\n  <tbody>\n    <tr>\n      <th>125</th>\n      <td>숭인근린공원</td>\n      <td>서울특별시 종로구 숭인동 동망산(東望山)에 있는 공원이다. 동망산공원이라고도 한다....</td>\n      <td>종로구</td>\n      <td>서울특별시 종로구 숭인동 58</td>\n      <td>37.576442</td>\n      <td>127.017827</td>\n      <td>45615㎡</td>\n    </tr>\n    <tr>\n      <th>126</th>\n      <td>서일대뒷산공원</td>\n      <td>망우동과 면목동 경기도 구리시에 걸쳐있는 망우산은 해발 281.7m이며 망우산 일대...</td>\n      <td>중랑구</td>\n      <td>서울특별시 중랑구 면목동 산19</td>\n      <td>37.587716</td>\n      <td>127.098782</td>\n      <td>631021㎡</td>\n    </tr>\n    <tr>\n      <th>127</th>\n      <td>용마도시자연공원(사가정공원)</td>\n      <td>2005년 4월 13일 개장한 사가정공원은 면목동 산 50번지 일대의 면목약수터지구...</td>\n      <td>중랑구</td>\n      <td>서울특별시 중랑구 면목7동 산50</td>\n      <td>37.579762</td>\n      <td>127.095997</td>\n      <td>109635㎡</td>\n    </tr>\n    <tr>\n      <th>128</th>\n      <td>문화비축기지</td>\n      <td>매봉산자락에 위치한 문화비축기지는 폐산업시설인 '마포석유비축기지'를 재생하여 역사적...</td>\n      <td>마포구</td>\n      <td>서울특별시 마포구 증산로 87</td>\n      <td>37.571718</td>\n      <td>126.893245</td>\n      <td>140022㎡</td>\n    </tr>\n    <tr>\n      <th>130</th>\n      <td>율현공원</td>\n      <td>? 율현공원은 보금자리주택 세곡2지구 사업의 결과물로 만들어졌다. 공원은 주택지구의...</td>\n      <td>강남구</td>\n      <td>서울특별시 강남구 율현동 밤고개로24길(율현동 56)</td>\n      <td>37.472332</td>\n      <td>127.115594</td>\n      <td>157535㎡</td>\n    </tr>\n  </tbody>\n</table>\n</div>"
     },
     "metadata": {},
     "execution_count": 118
    }
   ],
   "source": [
    "park.tail()"
   ]
  },
  {
   "cell_type": "code",
   "execution_count": 119,
   "metadata": {},
   "outputs": [],
   "source": [
    "import re\n",
    "park['면적'] = park.apply(lambda r: re.findall('[0-9]+', r['면적']), axis=1)\n"
   ]
  },
  {
   "cell_type": "code",
   "execution_count": 120,
   "metadata": {},
   "outputs": [
    {
     "output_type": "execute_result",
     "data": {
      "text/plain": [
       "(array([], dtype=int64), array([], dtype=int64))"
      ]
     },
     "metadata": {},
     "execution_count": 120
    }
   ],
   "source": [
    "np.where(park.isna())"
   ]
  },
  {
   "cell_type": "code",
   "execution_count": 121,
   "metadata": {},
   "outputs": [
    {
     "output_type": "execute_result",
     "data": {
      "text/plain": [
       "                  공원                                               공원개요   지역  \\\n",
       "0           남산도시자연공원  남산공원은 도심에 위치하여 서울시민에게 맑은 공기를 제공하는 자연휴식처이며 산책 꽃...   중구   \n",
       "1             길동생태공원  길동생태공원은 생물의 서식처를 제공하고 종다양성을 증진시키며 자연생태계의 생물들을 ...  강동구   \n",
       "2              서울대공원  서울대공원은 세계 각국의 야생동물들이 살아 숨 쉬는 서울동물원과 다양한 재미와 즐거...  과천시   \n",
       "3                서울숲  당초 골프장 승마장 등이 있던 뚝섬일대를 주거업무 지역으로 개발할 경우 약 4조원에...  성동구   \n",
       "4              월드컵공원  월드컵공원은 서울의 서쪽에 위치하여 1978년부터 1993년까지 15년간 서울시민이...  마포구   \n",
       "..               ...                                                ...  ...   \n",
       "125           숭인근린공원  서울특별시 종로구 숭인동 동망산(東望山)에 있는 공원이다. 동망산공원이라고도 한다....  종로구   \n",
       "126          서일대뒷산공원  망우동과 면목동 경기도 구리시에 걸쳐있는 망우산은 해발 281.7m이며 망우산 일대...  중랑구   \n",
       "127  용마도시자연공원(사가정공원)  2005년 4월 13일 개장한 사가정공원은 면목동 산 50번지 일대의 면목약수터지구...  중랑구   \n",
       "128           문화비축기지  매봉산자락에 위치한 문화비축기지는 폐산업시설인 '마포석유비축기지'를 재생하여 역사적...  마포구   \n",
       "130             율현공원  ? 율현공원은 보금자리주택 세곡2지구 사업의 결과물로 만들어졌다. 공원은 주택지구의...  강남구   \n",
       "\n",
       "                              공원주소        lat         lng         면적  \n",
       "0           서울특별시 중구 삼일대로 231(예장동)  37.550140  126.990377  [2896887]  \n",
       "1     서울특별시 강동구 천호대로 1291(길동생태공원)   37.540394  127.154779    [80683]  \n",
       "2               경기도 과천시 대공원광장로 102  37.426449  127.019847  [9132690]  \n",
       "3       서울특별시 성동구 뚝섬로 273 (성수동1가)   37.543072  127.041798   [480994]  \n",
       "4        서울특별시 마포구 하늘공원로 84(월드컵공원)  37.571805  126.878907  [2284085]  \n",
       "..                             ...        ...         ...        ...  \n",
       "125               서울특별시 종로구 숭인동 58  37.576442  127.017827    [45615]  \n",
       "126              서울특별시 중랑구 면목동 산19  37.587716  127.098782   [631021]  \n",
       "127            서울특별시 중랑구 면목7동 산50   37.579762  127.095997   [109635]  \n",
       "128               서울특별시 마포구 증산로 87  37.571718  126.893245   [140022]  \n",
       "130  서울특별시 강남구 율현동 밤고개로24길(율현동 56)  37.472332  127.115594   [157535]  \n",
       "\n",
       "[127 rows x 7 columns]"
      ],
      "text/html": "<div>\n<style scoped>\n    .dataframe tbody tr th:only-of-type {\n        vertical-align: middle;\n    }\n\n    .dataframe tbody tr th {\n        vertical-align: top;\n    }\n\n    .dataframe thead th {\n        text-align: right;\n    }\n</style>\n<table border=\"1\" class=\"dataframe\">\n  <thead>\n    <tr style=\"text-align: right;\">\n      <th></th>\n      <th>공원</th>\n      <th>공원개요</th>\n      <th>지역</th>\n      <th>공원주소</th>\n      <th>lat</th>\n      <th>lng</th>\n      <th>면적</th>\n    </tr>\n  </thead>\n  <tbody>\n    <tr>\n      <th>0</th>\n      <td>남산도시자연공원</td>\n      <td>남산공원은 도심에 위치하여 서울시민에게 맑은 공기를 제공하는 자연휴식처이며 산책 꽃...</td>\n      <td>중구</td>\n      <td>서울특별시 중구 삼일대로 231(예장동)</td>\n      <td>37.550140</td>\n      <td>126.990377</td>\n      <td>[2896887]</td>\n    </tr>\n    <tr>\n      <th>1</th>\n      <td>길동생태공원</td>\n      <td>길동생태공원은 생물의 서식처를 제공하고 종다양성을 증진시키며 자연생태계의 생물들을 ...</td>\n      <td>강동구</td>\n      <td>서울특별시 강동구 천호대로 1291(길동생태공원)</td>\n      <td>37.540394</td>\n      <td>127.154779</td>\n      <td>[80683]</td>\n    </tr>\n    <tr>\n      <th>2</th>\n      <td>서울대공원</td>\n      <td>서울대공원은 세계 각국의 야생동물들이 살아 숨 쉬는 서울동물원과 다양한 재미와 즐거...</td>\n      <td>과천시</td>\n      <td>경기도 과천시 대공원광장로 102</td>\n      <td>37.426449</td>\n      <td>127.019847</td>\n      <td>[9132690]</td>\n    </tr>\n    <tr>\n      <th>3</th>\n      <td>서울숲</td>\n      <td>당초 골프장 승마장 등이 있던 뚝섬일대를 주거업무 지역으로 개발할 경우 약 4조원에...</td>\n      <td>성동구</td>\n      <td>서울특별시 성동구 뚝섬로 273 (성수동1가)</td>\n      <td>37.543072</td>\n      <td>127.041798</td>\n      <td>[480994]</td>\n    </tr>\n    <tr>\n      <th>4</th>\n      <td>월드컵공원</td>\n      <td>월드컵공원은 서울의 서쪽에 위치하여 1978년부터 1993년까지 15년간 서울시민이...</td>\n      <td>마포구</td>\n      <td>서울특별시 마포구 하늘공원로 84(월드컵공원)</td>\n      <td>37.571805</td>\n      <td>126.878907</td>\n      <td>[2284085]</td>\n    </tr>\n    <tr>\n      <th>...</th>\n      <td>...</td>\n      <td>...</td>\n      <td>...</td>\n      <td>...</td>\n      <td>...</td>\n      <td>...</td>\n      <td>...</td>\n    </tr>\n    <tr>\n      <th>125</th>\n      <td>숭인근린공원</td>\n      <td>서울특별시 종로구 숭인동 동망산(東望山)에 있는 공원이다. 동망산공원이라고도 한다....</td>\n      <td>종로구</td>\n      <td>서울특별시 종로구 숭인동 58</td>\n      <td>37.576442</td>\n      <td>127.017827</td>\n      <td>[45615]</td>\n    </tr>\n    <tr>\n      <th>126</th>\n      <td>서일대뒷산공원</td>\n      <td>망우동과 면목동 경기도 구리시에 걸쳐있는 망우산은 해발 281.7m이며 망우산 일대...</td>\n      <td>중랑구</td>\n      <td>서울특별시 중랑구 면목동 산19</td>\n      <td>37.587716</td>\n      <td>127.098782</td>\n      <td>[631021]</td>\n    </tr>\n    <tr>\n      <th>127</th>\n      <td>용마도시자연공원(사가정공원)</td>\n      <td>2005년 4월 13일 개장한 사가정공원은 면목동 산 50번지 일대의 면목약수터지구...</td>\n      <td>중랑구</td>\n      <td>서울특별시 중랑구 면목7동 산50</td>\n      <td>37.579762</td>\n      <td>127.095997</td>\n      <td>[109635]</td>\n    </tr>\n    <tr>\n      <th>128</th>\n      <td>문화비축기지</td>\n      <td>매봉산자락에 위치한 문화비축기지는 폐산업시설인 '마포석유비축기지'를 재생하여 역사적...</td>\n      <td>마포구</td>\n      <td>서울특별시 마포구 증산로 87</td>\n      <td>37.571718</td>\n      <td>126.893245</td>\n      <td>[140022]</td>\n    </tr>\n    <tr>\n      <th>130</th>\n      <td>율현공원</td>\n      <td>? 율현공원은 보금자리주택 세곡2지구 사업의 결과물로 만들어졌다. 공원은 주택지구의...</td>\n      <td>강남구</td>\n      <td>서울특별시 강남구 율현동 밤고개로24길(율현동 56)</td>\n      <td>37.472332</td>\n      <td>127.115594</td>\n      <td>[157535]</td>\n    </tr>\n  </tbody>\n</table>\n<p>127 rows × 7 columns</p>\n</div>"
     },
     "metadata": {},
     "execution_count": 121
    }
   ],
   "source": [
    "park"
   ]
  },
  {
   "source": [
    "## 구별 인구수 데이터 + 인구 데이터"
   ],
   "cell_type": "markdown",
   "metadata": {}
  },
  {
   "cell_type": "code",
   "execution_count": 122,
   "metadata": {},
   "outputs": [
    {
     "output_type": "execute_result",
     "data": {
      "text/plain": [
       "   자치구       세대       인구\n",
       "0  종로구   74,861  159,842\n",
       "1   중구   63,594  135,321\n",
       "2  용산구  112,451  244,953\n",
       "3  성동구  136,096  302,695\n",
       "4  광진구  166,857  361,923"
      ],
      "text/html": "<div>\n<style scoped>\n    .dataframe tbody tr th:only-of-type {\n        vertical-align: middle;\n    }\n\n    .dataframe tbody tr th {\n        vertical-align: top;\n    }\n\n    .dataframe thead th {\n        text-align: right;\n    }\n</style>\n<table border=\"1\" class=\"dataframe\">\n  <thead>\n    <tr style=\"text-align: right;\">\n      <th></th>\n      <th>자치구</th>\n      <th>세대</th>\n      <th>인구</th>\n    </tr>\n  </thead>\n  <tbody>\n    <tr>\n      <th>0</th>\n      <td>종로구</td>\n      <td>74,861</td>\n      <td>159,842</td>\n    </tr>\n    <tr>\n      <th>1</th>\n      <td>중구</td>\n      <td>63,594</td>\n      <td>135,321</td>\n    </tr>\n    <tr>\n      <th>2</th>\n      <td>용산구</td>\n      <td>112,451</td>\n      <td>244,953</td>\n    </tr>\n    <tr>\n      <th>3</th>\n      <td>성동구</td>\n      <td>136,096</td>\n      <td>302,695</td>\n    </tr>\n    <tr>\n      <th>4</th>\n      <td>광진구</td>\n      <td>166,857</td>\n      <td>361,923</td>\n    </tr>\n  </tbody>\n</table>\n</div>"
     },
     "metadata": {},
     "execution_count": 122
    }
   ],
   "source": [
    "pop20 = pd.read_csv('인구수.txt', delimiter = '\\t', encoding='utf8', thousands=',')\n",
    "pop20 = pop20.iloc[3:,:4]\n",
    "del pop20['기간']\n",
    "pop20.reset_index(inplace=True)\n",
    "del pop20['index']\n",
    "pop20.head()"
   ]
  },
  {
   "cell_type": "code",
   "execution_count": 123,
   "metadata": {},
   "outputs": [],
   "source": [
    "# thousand 또 안먹음\n",
    "pop20.iloc[:,1:] = pop20.iloc[:,1:].apply(lambda r: r.str.replace(',' , '').astype('int64') ,axis = 1)"
   ]
  },
  {
   "source": [
    "DF 행 추가, 사실 앞에서 dropna()로 없애버려서 필요는 없지만 행 추가하는 방법에 append(dictionary) 도 있다는 걸 보기 위해 남김"
   ],
   "cell_type": "markdown",
   "metadata": {}
  },
  {
   "cell_type": "code",
   "execution_count": 124,
   "metadata": {},
   "outputs": [
    {
     "output_type": "execute_result",
     "data": {
      "text/plain": [
       "    자치구      세대      인구\n",
       "21  서초구  173483  429995\n",
       "22  강남구  234021  544085\n",
       "23  송파구  281417  676673\n",
       "24  강동구  194602  462275\n",
       "25  과천시   22631   61309"
      ],
      "text/html": "<div>\n<style scoped>\n    .dataframe tbody tr th:only-of-type {\n        vertical-align: middle;\n    }\n\n    .dataframe tbody tr th {\n        vertical-align: top;\n    }\n\n    .dataframe thead th {\n        text-align: right;\n    }\n</style>\n<table border=\"1\" class=\"dataframe\">\n  <thead>\n    <tr style=\"text-align: right;\">\n      <th></th>\n      <th>자치구</th>\n      <th>세대</th>\n      <th>인구</th>\n    </tr>\n  </thead>\n  <tbody>\n    <tr>\n      <th>21</th>\n      <td>서초구</td>\n      <td>173483</td>\n      <td>429995</td>\n    </tr>\n    <tr>\n      <th>22</th>\n      <td>강남구</td>\n      <td>234021</td>\n      <td>544085</td>\n    </tr>\n    <tr>\n      <th>23</th>\n      <td>송파구</td>\n      <td>281417</td>\n      <td>676673</td>\n    </tr>\n    <tr>\n      <th>24</th>\n      <td>강동구</td>\n      <td>194602</td>\n      <td>462275</td>\n    </tr>\n    <tr>\n      <th>25</th>\n      <td>과천시</td>\n      <td>22631</td>\n      <td>61309</td>\n    </tr>\n  </tbody>\n</table>\n</div>"
     },
     "metadata": {},
     "execution_count": 124
    }
   ],
   "source": [
    "# 누락된 과천시 데이터 추가.\n",
    "pop20 = pop20.append({'자치구' : '과천시' , '세대' : 22631, '인구' : 61309} , ignore_index=True)\n",
    "pop20.tail()"
   ]
  },
  {
   "cell_type": "code",
   "execution_count": 125,
   "metadata": {},
   "outputs": [],
   "source": [
    "pop20.rename(columns={\n",
    "    '자치구':'지역'\n",
    "},inplace=True)"
   ]
  },
  {
   "cell_type": "code",
   "execution_count": 126,
   "metadata": {},
   "outputs": [
    {
     "output_type": "execute_result",
     "data": {
      "text/plain": [
       "    지역      세대      인구\n",
       "0  종로구   74861  159842\n",
       "1   중구   63594  135321\n",
       "2  용산구  112451  244953\n",
       "3  성동구  136096  302695\n",
       "4  광진구  166857  361923"
      ],
      "text/html": "<div>\n<style scoped>\n    .dataframe tbody tr th:only-of-type {\n        vertical-align: middle;\n    }\n\n    .dataframe tbody tr th {\n        vertical-align: top;\n    }\n\n    .dataframe thead th {\n        text-align: right;\n    }\n</style>\n<table border=\"1\" class=\"dataframe\">\n  <thead>\n    <tr style=\"text-align: right;\">\n      <th></th>\n      <th>지역</th>\n      <th>세대</th>\n      <th>인구</th>\n    </tr>\n  </thead>\n  <tbody>\n    <tr>\n      <th>0</th>\n      <td>종로구</td>\n      <td>74861</td>\n      <td>159842</td>\n    </tr>\n    <tr>\n      <th>1</th>\n      <td>중구</td>\n      <td>63594</td>\n      <td>135321</td>\n    </tr>\n    <tr>\n      <th>2</th>\n      <td>용산구</td>\n      <td>112451</td>\n      <td>244953</td>\n    </tr>\n    <tr>\n      <th>3</th>\n      <td>성동구</td>\n      <td>136096</td>\n      <td>302695</td>\n    </tr>\n    <tr>\n      <th>4</th>\n      <td>광진구</td>\n      <td>166857</td>\n      <td>361923</td>\n    </tr>\n  </tbody>\n</table>\n</div>"
     },
     "metadata": {},
     "execution_count": 126
    }
   ],
   "source": [
    "pop20.head()"
   ]
  },
  {
   "cell_type": "code",
   "execution_count": 127,
   "metadata": {},
   "outputs": [
    {
     "output_type": "execute_result",
     "data": {
      "text/plain": [
       "         공원                                               공원개요   지역  \\\n",
       "0  남산도시자연공원  남산공원은 도심에 위치하여 서울시민에게 맑은 공기를 제공하는 자연휴식처이며 산책 꽃...   중구   \n",
       "1    길동생태공원  길동생태공원은 생물의 서식처를 제공하고 종다양성을 증진시키며 자연생태계의 생물들을 ...  강동구   \n",
       "2     서울대공원  서울대공원은 세계 각국의 야생동물들이 살아 숨 쉬는 서울동물원과 다양한 재미와 즐거...  과천시   \n",
       "3       서울숲  당초 골프장 승마장 등이 있던 뚝섬일대를 주거업무 지역으로 개발할 경우 약 4조원에...  성동구   \n",
       "4     월드컵공원  월드컵공원은 서울의 서쪽에 위치하여 1978년부터 1993년까지 15년간 서울시민이...  마포구   \n",
       "\n",
       "                           공원주소        lat         lng         면적      세대  \\\n",
       "0        서울특별시 중구 삼일대로 231(예장동)  37.550140  126.990377  [2896887]   63594   \n",
       "1  서울특별시 강동구 천호대로 1291(길동생태공원)   37.540394  127.154779    [80683]  194602   \n",
       "2            경기도 과천시 대공원광장로 102  37.426449  127.019847  [9132690]   22631   \n",
       "3    서울특별시 성동구 뚝섬로 273 (성수동1가)   37.543072  127.041798   [480994]  136096   \n",
       "4     서울특별시 마포구 하늘공원로 84(월드컵공원)  37.571805  126.878907  [2284085]  178495   \n",
       "\n",
       "       인구  \n",
       "0  135321  \n",
       "1  462275  \n",
       "2   61309  \n",
       "3  302695  \n",
       "4  383494  "
      ],
      "text/html": "<div>\n<style scoped>\n    .dataframe tbody tr th:only-of-type {\n        vertical-align: middle;\n    }\n\n    .dataframe tbody tr th {\n        vertical-align: top;\n    }\n\n    .dataframe thead th {\n        text-align: right;\n    }\n</style>\n<table border=\"1\" class=\"dataframe\">\n  <thead>\n    <tr style=\"text-align: right;\">\n      <th></th>\n      <th>공원</th>\n      <th>공원개요</th>\n      <th>지역</th>\n      <th>공원주소</th>\n      <th>lat</th>\n      <th>lng</th>\n      <th>면적</th>\n      <th>세대</th>\n      <th>인구</th>\n    </tr>\n  </thead>\n  <tbody>\n    <tr>\n      <th>0</th>\n      <td>남산도시자연공원</td>\n      <td>남산공원은 도심에 위치하여 서울시민에게 맑은 공기를 제공하는 자연휴식처이며 산책 꽃...</td>\n      <td>중구</td>\n      <td>서울특별시 중구 삼일대로 231(예장동)</td>\n      <td>37.550140</td>\n      <td>126.990377</td>\n      <td>[2896887]</td>\n      <td>63594</td>\n      <td>135321</td>\n    </tr>\n    <tr>\n      <th>1</th>\n      <td>길동생태공원</td>\n      <td>길동생태공원은 생물의 서식처를 제공하고 종다양성을 증진시키며 자연생태계의 생물들을 ...</td>\n      <td>강동구</td>\n      <td>서울특별시 강동구 천호대로 1291(길동생태공원)</td>\n      <td>37.540394</td>\n      <td>127.154779</td>\n      <td>[80683]</td>\n      <td>194602</td>\n      <td>462275</td>\n    </tr>\n    <tr>\n      <th>2</th>\n      <td>서울대공원</td>\n      <td>서울대공원은 세계 각국의 야생동물들이 살아 숨 쉬는 서울동물원과 다양한 재미와 즐거...</td>\n      <td>과천시</td>\n      <td>경기도 과천시 대공원광장로 102</td>\n      <td>37.426449</td>\n      <td>127.019847</td>\n      <td>[9132690]</td>\n      <td>22631</td>\n      <td>61309</td>\n    </tr>\n    <tr>\n      <th>3</th>\n      <td>서울숲</td>\n      <td>당초 골프장 승마장 등이 있던 뚝섬일대를 주거업무 지역으로 개발할 경우 약 4조원에...</td>\n      <td>성동구</td>\n      <td>서울특별시 성동구 뚝섬로 273 (성수동1가)</td>\n      <td>37.543072</td>\n      <td>127.041798</td>\n      <td>[480994]</td>\n      <td>136096</td>\n      <td>302695</td>\n    </tr>\n    <tr>\n      <th>4</th>\n      <td>월드컵공원</td>\n      <td>월드컵공원은 서울의 서쪽에 위치하여 1978년부터 1993년까지 15년간 서울시민이...</td>\n      <td>마포구</td>\n      <td>서울특별시 마포구 하늘공원로 84(월드컵공원)</td>\n      <td>37.571805</td>\n      <td>126.878907</td>\n      <td>[2284085]</td>\n      <td>178495</td>\n      <td>383494</td>\n    </tr>\n  </tbody>\n</table>\n</div>"
     },
     "metadata": {},
     "execution_count": 127
    }
   ],
   "source": [
    "result = pd.merge(park, pop20, how = 'left', on = '지역')\n",
    "result.head()"
   ]
  },
  {
   "cell_type": "code",
   "execution_count": 128,
   "metadata": {},
   "outputs": [
    {
     "output_type": "execute_result",
     "data": {
      "text/plain": [
       "(array([], dtype=int64), array([], dtype=int64))"
      ]
     },
     "metadata": {},
     "execution_count": 128
    }
   ],
   "source": [
    "np.where(result.isna())"
   ]
  },
  {
   "cell_type": "code",
   "execution_count": 129,
   "metadata": {},
   "outputs": [
    {
     "output_type": "execute_result",
     "data": {
      "text/plain": [
       "array(['남산도시자연공원', '길동생태공원', '서울대공원', '서울숲', '월드컵공원', '광화문시민열린마당',\n",
       "       '진관근린공원(구파발폭포)', '중마루근린공원', '응봉공원', '매화근린공원', '성수근린공원', '샛마을근린공원',\n",
       "       '여의도근린공원', '간데메근린공원', '훈련원근린공원', '영등포근린공원', '보라매근린공원', '어린이대공원',\n",
       "       '천호근린공원', '용산가족공원', '독립근린공원', '낙산근린공원', '양재시민의숲', '관악산도시자연공원',\n",
       "       '효창근린공원', '감로천생태공원(관악산)', '개운산근린공원', '개웅산근린공원', '경희궁', '국립현충원',\n",
       "       '계남근린공원', '고척근린공원', '파리근린공원', '허준공원', '궁동근린공원', '궁산근린공원',\n",
       "       '까치산근린공원', '꿩고개근린공원', '노량진공원', '답십리근린공원', '대모산도시자연공원', '탑골근린공원',\n",
       "       '갈산근린공원', '천마근린공원', '도곡근린공원', '도산근린공원', '청량공원', '초안산근린공원',\n",
       "       '동명근린공원', '마로니에공원', '자매근린공원', '장지근린공원', '명일근린공원', '방화근린공원',\n",
       "       '아시아근린공원', '배봉산근린공원', '안산도시자연공원', '염창근린공원', '백련근린공원', '오금근린공원',\n",
       "       '오동근린공원', '봉산도시자연공원', '온수도시자연공원', '봉은공원', '올림픽공원', '와룡근린공원',\n",
       "       '봉화산근린공원', '북악산도시자연공원', '북한산국립공원', '외국인묘지공원', '불광근린공원',\n",
       "       '불암산도시자연공원', '용마폭포공원', '사육신공원', '용왕산근린공원', '사직근린공원', '우장산근린공원',\n",
       "       '삼일근린공원', '삼청근린공원', '인왕산도시자연공원', '상도근린공원', '일자산도시자연공원', '쌍문근린공원',\n",
       "       '수락산도시자연공원', '송파나루근린공원(석촌호수)', '선유도근린공원', '손기정체육공원', '성북근린공원',\n",
       "       '봉제산공원', '서울창포원', '북서울꿈의숲', '서서울호수공원', '중랑캠핑숲', '솔밭근린공원',\n",
       "       '금천체육공원(관악산)', '금천폭포근린공원', '만수천공원(관악산)', '발바닥공원', '월천근린공원',\n",
       "       '용두근린공원', '상암근린공원', '와우근린공원', '금호근린공원', '달맞이근린공원', '문정근린공원',\n",
       "       '문화예술공원', '세종로공원', '샘말공원(관악산)', '초안산생태공원', '서오능도시자연공원',\n",
       "       '청계산도시자연공원', '개화근린공원', '아차산생태공원', '구룡산', '우면산도시자연공원', '향림근린공원',\n",
       "       '신사근린공원', '광평근린공원', '청담근린공원', '허브천문공원', '연신내물빛공원', '나들이근린공원',\n",
       "       '숭인근린공원', '서일대뒷산공원', '용마도시자연공원(사가정공원)', '문화비축기지', '율현공원'],\n",
       "      dtype=object)"
      ]
     },
     "metadata": {},
     "execution_count": 129
    }
   ],
   "source": [
    "result['공원'].unique()"
   ]
  },
  {
   "cell_type": "code",
   "execution_count": 130,
   "metadata": {},
   "outputs": [
    {
     "output_type": "execute_result",
     "data": {
      "text/plain": [
       "array([list(['2896887']), list(['80683']), list(['9132690']),\n",
       "       list(['480994']), list(['2284085']), list(['8948', '1']), list([]),\n",
       "       list(['6456']), list(['80309']), list(['1980', '4']),\n",
       "       list(['5197', '7']), list(['11467']), list(['229539']),\n",
       "       list(['15179', '7']), list(['16734', '60']), list(['61544']),\n",
       "       list(['424106']), list(['560552']), list(['26696', '8']),\n",
       "       list(['75900']), list(['113021', '7', '2']), list(['201779']),\n",
       "       list(['258991']), list(['10420819', '08']), list(['171294', '1']),\n",
       "       list(['15000']), list(['297926']), list(['411972']),\n",
       "       list(['98470']), list(['2038741', '3']), list(['603715', '2']),\n",
       "       list(['108120']), list(['29619', '3']), list(['29843', '8']),\n",
       "       list(['126026']), list(['135002', '7']), list(['384026']),\n",
       "       list(['180000']), list(['416031']), list(['160720']),\n",
       "       list(['2277252']), list(['19599', '70']), list(['138596']),\n",
       "       list(['185295']), list(['254648']), list(['29816', '5']),\n",
       "       list(['762642']), list(['664905']), list(['99599', '9']),\n",
       "       list(['5802']), list(['16500']), list(['585652']),\n",
       "       list(['649709', '6']), list(['72132']), list(['66027', '8']),\n",
       "       list(['265582']), list(['2088704', '9']), list(['112070']),\n",
       "       list(['993724']), list(['219167']), list(['1349556', '4']),\n",
       "       list(['1511198']), list(['1097565']), list(['328018']),\n",
       "       list(['1447122']), list(['207790']), list(['1018689']),\n",
       "       list(['954553']), list(['1667848']), list(['13224']),\n",
       "       list(['130345']), list(['5332422']), list(['5107964']),\n",
       "       list(['47832']), list(['213552']), list(['168099', '87']),\n",
       "       list(['359435', '2']), list(['36660']), list(['380735']),\n",
       "       list(['1807420', '9']), list(['359342', '8']), list(['632733']),\n",
       "       list(['328018']), list(['6691885', '3']), list(['285757']),\n",
       "       list(['110407']), list(['29682', '2']), list(['137759']),\n",
       "       list(['917190']), list(['51470']), list(['662543']),\n",
       "       list(['217946']), list(['179666']), list(['34955']),\n",
       "       list(['18083']), list(['4835']), list(['19650']), list(['7000']),\n",
       "       list(['10712']), list(['17182']), list(['160349', '3']),\n",
       "       list(['87432', '4']), list(['13467']), list(['46871']),\n",
       "       list(['49972']), list(['74385']), list(['8868']), list(['10634']),\n",
       "       list(['22113']), list(['1082847']), list(['3692455']),\n",
       "       list(['386500']), list(['23450']), list(['2752421']),\n",
       "       list(['4180551']), list(['147859']), list(['111650']),\n",
       "       list(['519782']), list(['59347']), list(['25500']), list(['2560']),\n",
       "       list(['32000']), list(['45615']), list(['631021']),\n",
       "       list(['109635']), list(['140022']), list(['157535'])], dtype=object)"
      ]
     },
     "metadata": {},
     "execution_count": 130
    }
   ],
   "source": [
    "result['면적'].to_numpy()"
   ]
  },
  {
   "cell_type": "code",
   "execution_count": 131,
   "metadata": {},
   "outputs": [
    {
     "output_type": "execute_result",
     "data": {
      "text/plain": [
       "              공원                                               공원개요    지역  \\\n",
       "0       남산도시자연공원  남산공원은 도심에 위치하여 서울시민에게 맑은 공기를 제공하는 자연휴식처이며 산책 꽃...    중구   \n",
       "1         길동생태공원  길동생태공원은 생물의 서식처를 제공하고 종다양성을 증진시키며 자연생태계의 생물들을 ...   강동구   \n",
       "2          서울대공원  서울대공원은 세계 각국의 야생동물들이 살아 숨 쉬는 서울동물원과 다양한 재미와 즐거...   과천시   \n",
       "3            서울숲  당초 골프장 승마장 등이 있던 뚝섬일대를 주거업무 지역으로 개발할 경우 약 4조원에...   성동구   \n",
       "4          월드컵공원  월드컵공원은 서울의 서쪽에 위치하여 1978년부터 1993년까지 15년간 서울시민이...   마포구   \n",
       "5      광화문시민열린마당  광화문 옛 육조거리가 있던 자리에 새롭게 탄생한 서울시민을 위한 쉼터 '시민열린마당...   종로구   \n",
       "6  진관근린공원(구파발폭포)  1993. 09. 06 서울시장 방침(제1400호) 통일로변 인공폭포조성계획  19...   은평구   \n",
       "7        중마루근린공원  서울시가 ‘공원녹지 확충 5개년 계획’ 에 의해 구 영등포시립병원(6동)을 이전한 ...  영등포구   \n",
       "8           응봉공원  응봉은 산모양이 매처럼 보이기 때문에 붙여졌다고 하며 조선시대 왕들이 매사냥을 하여...   성동구   \n",
       "9         매화근린공원  공장 이적지 공원화 사업’의 일환으로 옛 성진 유리(주)공장 터에 사업비 6억 원을...   강서구   \n",
       "\n",
       "                           공원주소        lat         lng         면적      세대  \\\n",
       "0        서울특별시 중구 삼일대로 231(예장동)  37.550140  126.990377  [2896887]   63594   \n",
       "1  서울특별시 강동구 천호대로 1291(길동생태공원)   37.540394  127.154779    [80683]  194602   \n",
       "2            경기도 과천시 대공원광장로 102  37.426449  127.019847  [9132690]   22631   \n",
       "3    서울특별시 성동구 뚝섬로 273 (성수동1가)   37.543072  127.041798   [480994]  136096   \n",
       "4     서울특별시 마포구 하늘공원로 84(월드컵공원)  37.571805  126.878907  [2284085]  178495   \n",
       "5            서울특별시 종로구 세종로 76-2  37.575045  126.978023  [8948, 1]   74861   \n",
       "6             서울특별시 은평구 진관동 393  37.637024  126.919216         []  213039   \n",
       "7         서울특별시 영등포구 영등포동2가 222  37.519832  126.911267     [6456]  182087   \n",
       "8         서울특별시 성동구 금호동1가 산1-72  37.557228  127.021765    [80309]  136096   \n",
       "9          서울특별시 강서구 등촌동 630-14  37.557583  126.861150  [1980, 4]  266366   \n",
       "\n",
       "       인구  \n",
       "0  135321  \n",
       "1  462275  \n",
       "2   61309  \n",
       "3  302695  \n",
       "4  383494  \n",
       "5  159842  \n",
       "6  485842  \n",
       "7  405982  \n",
       "8  302695  \n",
       "9  589536  "
      ],
      "text/html": "<div>\n<style scoped>\n    .dataframe tbody tr th:only-of-type {\n        vertical-align: middle;\n    }\n\n    .dataframe tbody tr th {\n        vertical-align: top;\n    }\n\n    .dataframe thead th {\n        text-align: right;\n    }\n</style>\n<table border=\"1\" class=\"dataframe\">\n  <thead>\n    <tr style=\"text-align: right;\">\n      <th></th>\n      <th>공원</th>\n      <th>공원개요</th>\n      <th>지역</th>\n      <th>공원주소</th>\n      <th>lat</th>\n      <th>lng</th>\n      <th>면적</th>\n      <th>세대</th>\n      <th>인구</th>\n    </tr>\n  </thead>\n  <tbody>\n    <tr>\n      <th>0</th>\n      <td>남산도시자연공원</td>\n      <td>남산공원은 도심에 위치하여 서울시민에게 맑은 공기를 제공하는 자연휴식처이며 산책 꽃...</td>\n      <td>중구</td>\n      <td>서울특별시 중구 삼일대로 231(예장동)</td>\n      <td>37.550140</td>\n      <td>126.990377</td>\n      <td>[2896887]</td>\n      <td>63594</td>\n      <td>135321</td>\n    </tr>\n    <tr>\n      <th>1</th>\n      <td>길동생태공원</td>\n      <td>길동생태공원은 생물의 서식처를 제공하고 종다양성을 증진시키며 자연생태계의 생물들을 ...</td>\n      <td>강동구</td>\n      <td>서울특별시 강동구 천호대로 1291(길동생태공원)</td>\n      <td>37.540394</td>\n      <td>127.154779</td>\n      <td>[80683]</td>\n      <td>194602</td>\n      <td>462275</td>\n    </tr>\n    <tr>\n      <th>2</th>\n      <td>서울대공원</td>\n      <td>서울대공원은 세계 각국의 야생동물들이 살아 숨 쉬는 서울동물원과 다양한 재미와 즐거...</td>\n      <td>과천시</td>\n      <td>경기도 과천시 대공원광장로 102</td>\n      <td>37.426449</td>\n      <td>127.019847</td>\n      <td>[9132690]</td>\n      <td>22631</td>\n      <td>61309</td>\n    </tr>\n    <tr>\n      <th>3</th>\n      <td>서울숲</td>\n      <td>당초 골프장 승마장 등이 있던 뚝섬일대를 주거업무 지역으로 개발할 경우 약 4조원에...</td>\n      <td>성동구</td>\n      <td>서울특별시 성동구 뚝섬로 273 (성수동1가)</td>\n      <td>37.543072</td>\n      <td>127.041798</td>\n      <td>[480994]</td>\n      <td>136096</td>\n      <td>302695</td>\n    </tr>\n    <tr>\n      <th>4</th>\n      <td>월드컵공원</td>\n      <td>월드컵공원은 서울의 서쪽에 위치하여 1978년부터 1993년까지 15년간 서울시민이...</td>\n      <td>마포구</td>\n      <td>서울특별시 마포구 하늘공원로 84(월드컵공원)</td>\n      <td>37.571805</td>\n      <td>126.878907</td>\n      <td>[2284085]</td>\n      <td>178495</td>\n      <td>383494</td>\n    </tr>\n    <tr>\n      <th>5</th>\n      <td>광화문시민열린마당</td>\n      <td>광화문 옛 육조거리가 있던 자리에 새롭게 탄생한 서울시민을 위한 쉼터 '시민열린마당...</td>\n      <td>종로구</td>\n      <td>서울특별시 종로구 세종로 76-2</td>\n      <td>37.575045</td>\n      <td>126.978023</td>\n      <td>[8948, 1]</td>\n      <td>74861</td>\n      <td>159842</td>\n    </tr>\n    <tr>\n      <th>6</th>\n      <td>진관근린공원(구파발폭포)</td>\n      <td>1993. 09. 06 서울시장 방침(제1400호) 통일로변 인공폭포조성계획  19...</td>\n      <td>은평구</td>\n      <td>서울특별시 은평구 진관동 393</td>\n      <td>37.637024</td>\n      <td>126.919216</td>\n      <td>[]</td>\n      <td>213039</td>\n      <td>485842</td>\n    </tr>\n    <tr>\n      <th>7</th>\n      <td>중마루근린공원</td>\n      <td>서울시가 ‘공원녹지 확충 5개년 계획’ 에 의해 구 영등포시립병원(6동)을 이전한 ...</td>\n      <td>영등포구</td>\n      <td>서울특별시 영등포구 영등포동2가 222</td>\n      <td>37.519832</td>\n      <td>126.911267</td>\n      <td>[6456]</td>\n      <td>182087</td>\n      <td>405982</td>\n    </tr>\n    <tr>\n      <th>8</th>\n      <td>응봉공원</td>\n      <td>응봉은 산모양이 매처럼 보이기 때문에 붙여졌다고 하며 조선시대 왕들이 매사냥을 하여...</td>\n      <td>성동구</td>\n      <td>서울특별시 성동구 금호동1가 산1-72</td>\n      <td>37.557228</td>\n      <td>127.021765</td>\n      <td>[80309]</td>\n      <td>136096</td>\n      <td>302695</td>\n    </tr>\n    <tr>\n      <th>9</th>\n      <td>매화근린공원</td>\n      <td>공장 이적지 공원화 사업’의 일환으로 옛 성진 유리(주)공장 터에 사업비 6억 원을...</td>\n      <td>강서구</td>\n      <td>서울특별시 강서구 등촌동 630-14</td>\n      <td>37.557583</td>\n      <td>126.861150</td>\n      <td>[1980, 4]</td>\n      <td>266366</td>\n      <td>589536</td>\n    </tr>\n  </tbody>\n</table>\n</div>"
     },
     "metadata": {},
     "execution_count": 131
    }
   ],
   "source": [
    "result.head(10)"
   ]
  },
  {
   "source": [
    "## IndexError: list index out of range\n",
    "https://stackoverflow.com/questions/41946703/apply-function-resulted-in-list-index-out-of-range <br>\n",
    "\n",
    "검색어 'pandas map list index out of range'<br>\n",
    "한 열의 모든 값을 변경하려고 할 때, 무언가 하나가 데이터타입이 다르거나, 형태가 다르기 때문에 발생함 <br>\n",
    "여기서는 빈 리스트가 있어서 발생한듯 <br>"
   ],
   "cell_type": "markdown",
   "metadata": {}
  },
  {
   "cell_type": "code",
   "execution_count": 132,
   "metadata": {},
   "outputs": [],
   "source": [
    "# result['면적'] = result.apply(lambda r : r['면적'][0], axis = 1) \n",
    "result['면적'] = list( map (lambda x : int(x[0]) if len(x) > 0 else '', result['면적']))"
   ]
  },
  {
   "cell_type": "code",
   "execution_count": 133,
   "metadata": {},
   "outputs": [
    {
     "output_type": "execute_result",
     "data": {
      "text/plain": [
       "              공원                                               공원개요    지역  \\\n",
       "0       남산도시자연공원  남산공원은 도심에 위치하여 서울시민에게 맑은 공기를 제공하는 자연휴식처이며 산책 꽃...    중구   \n",
       "1         길동생태공원  길동생태공원은 생물의 서식처를 제공하고 종다양성을 증진시키며 자연생태계의 생물들을 ...   강동구   \n",
       "2          서울대공원  서울대공원은 세계 각국의 야생동물들이 살아 숨 쉬는 서울동물원과 다양한 재미와 즐거...   과천시   \n",
       "3            서울숲  당초 골프장 승마장 등이 있던 뚝섬일대를 주거업무 지역으로 개발할 경우 약 4조원에...   성동구   \n",
       "4          월드컵공원  월드컵공원은 서울의 서쪽에 위치하여 1978년부터 1993년까지 15년간 서울시민이...   마포구   \n",
       "5      광화문시민열린마당  광화문 옛 육조거리가 있던 자리에 새롭게 탄생한 서울시민을 위한 쉼터 '시민열린마당...   종로구   \n",
       "6  진관근린공원(구파발폭포)  1993. 09. 06 서울시장 방침(제1400호) 통일로변 인공폭포조성계획  19...   은평구   \n",
       "7        중마루근린공원  서울시가 ‘공원녹지 확충 5개년 계획’ 에 의해 구 영등포시립병원(6동)을 이전한 ...  영등포구   \n",
       "8           응봉공원  응봉은 산모양이 매처럼 보이기 때문에 붙여졌다고 하며 조선시대 왕들이 매사냥을 하여...   성동구   \n",
       "9         매화근린공원  공장 이적지 공원화 사업’의 일환으로 옛 성진 유리(주)공장 터에 사업비 6억 원을...   강서구   \n",
       "\n",
       "                           공원주소        lat         lng       면적      세대  \\\n",
       "0        서울특별시 중구 삼일대로 231(예장동)  37.550140  126.990377  2896887   63594   \n",
       "1  서울특별시 강동구 천호대로 1291(길동생태공원)   37.540394  127.154779    80683  194602   \n",
       "2            경기도 과천시 대공원광장로 102  37.426449  127.019847  9132690   22631   \n",
       "3    서울특별시 성동구 뚝섬로 273 (성수동1가)   37.543072  127.041798   480994  136096   \n",
       "4     서울특별시 마포구 하늘공원로 84(월드컵공원)  37.571805  126.878907  2284085  178495   \n",
       "5            서울특별시 종로구 세종로 76-2  37.575045  126.978023     8948   74861   \n",
       "6             서울특별시 은평구 진관동 393  37.637024  126.919216           213039   \n",
       "7         서울특별시 영등포구 영등포동2가 222  37.519832  126.911267     6456  182087   \n",
       "8         서울특별시 성동구 금호동1가 산1-72  37.557228  127.021765    80309  136096   \n",
       "9          서울특별시 강서구 등촌동 630-14  37.557583  126.861150     1980  266366   \n",
       "\n",
       "       인구  \n",
       "0  135321  \n",
       "1  462275  \n",
       "2   61309  \n",
       "3  302695  \n",
       "4  383494  \n",
       "5  159842  \n",
       "6  485842  \n",
       "7  405982  \n",
       "8  302695  \n",
       "9  589536  "
      ],
      "text/html": "<div>\n<style scoped>\n    .dataframe tbody tr th:only-of-type {\n        vertical-align: middle;\n    }\n\n    .dataframe tbody tr th {\n        vertical-align: top;\n    }\n\n    .dataframe thead th {\n        text-align: right;\n    }\n</style>\n<table border=\"1\" class=\"dataframe\">\n  <thead>\n    <tr style=\"text-align: right;\">\n      <th></th>\n      <th>공원</th>\n      <th>공원개요</th>\n      <th>지역</th>\n      <th>공원주소</th>\n      <th>lat</th>\n      <th>lng</th>\n      <th>면적</th>\n      <th>세대</th>\n      <th>인구</th>\n    </tr>\n  </thead>\n  <tbody>\n    <tr>\n      <th>0</th>\n      <td>남산도시자연공원</td>\n      <td>남산공원은 도심에 위치하여 서울시민에게 맑은 공기를 제공하는 자연휴식처이며 산책 꽃...</td>\n      <td>중구</td>\n      <td>서울특별시 중구 삼일대로 231(예장동)</td>\n      <td>37.550140</td>\n      <td>126.990377</td>\n      <td>2896887</td>\n      <td>63594</td>\n      <td>135321</td>\n    </tr>\n    <tr>\n      <th>1</th>\n      <td>길동생태공원</td>\n      <td>길동생태공원은 생물의 서식처를 제공하고 종다양성을 증진시키며 자연생태계의 생물들을 ...</td>\n      <td>강동구</td>\n      <td>서울특별시 강동구 천호대로 1291(길동생태공원)</td>\n      <td>37.540394</td>\n      <td>127.154779</td>\n      <td>80683</td>\n      <td>194602</td>\n      <td>462275</td>\n    </tr>\n    <tr>\n      <th>2</th>\n      <td>서울대공원</td>\n      <td>서울대공원은 세계 각국의 야생동물들이 살아 숨 쉬는 서울동물원과 다양한 재미와 즐거...</td>\n      <td>과천시</td>\n      <td>경기도 과천시 대공원광장로 102</td>\n      <td>37.426449</td>\n      <td>127.019847</td>\n      <td>9132690</td>\n      <td>22631</td>\n      <td>61309</td>\n    </tr>\n    <tr>\n      <th>3</th>\n      <td>서울숲</td>\n      <td>당초 골프장 승마장 등이 있던 뚝섬일대를 주거업무 지역으로 개발할 경우 약 4조원에...</td>\n      <td>성동구</td>\n      <td>서울특별시 성동구 뚝섬로 273 (성수동1가)</td>\n      <td>37.543072</td>\n      <td>127.041798</td>\n      <td>480994</td>\n      <td>136096</td>\n      <td>302695</td>\n    </tr>\n    <tr>\n      <th>4</th>\n      <td>월드컵공원</td>\n      <td>월드컵공원은 서울의 서쪽에 위치하여 1978년부터 1993년까지 15년간 서울시민이...</td>\n      <td>마포구</td>\n      <td>서울특별시 마포구 하늘공원로 84(월드컵공원)</td>\n      <td>37.571805</td>\n      <td>126.878907</td>\n      <td>2284085</td>\n      <td>178495</td>\n      <td>383494</td>\n    </tr>\n    <tr>\n      <th>5</th>\n      <td>광화문시민열린마당</td>\n      <td>광화문 옛 육조거리가 있던 자리에 새롭게 탄생한 서울시민을 위한 쉼터 '시민열린마당...</td>\n      <td>종로구</td>\n      <td>서울특별시 종로구 세종로 76-2</td>\n      <td>37.575045</td>\n      <td>126.978023</td>\n      <td>8948</td>\n      <td>74861</td>\n      <td>159842</td>\n    </tr>\n    <tr>\n      <th>6</th>\n      <td>진관근린공원(구파발폭포)</td>\n      <td>1993. 09. 06 서울시장 방침(제1400호) 통일로변 인공폭포조성계획  19...</td>\n      <td>은평구</td>\n      <td>서울특별시 은평구 진관동 393</td>\n      <td>37.637024</td>\n      <td>126.919216</td>\n      <td></td>\n      <td>213039</td>\n      <td>485842</td>\n    </tr>\n    <tr>\n      <th>7</th>\n      <td>중마루근린공원</td>\n      <td>서울시가 ‘공원녹지 확충 5개년 계획’ 에 의해 구 영등포시립병원(6동)을 이전한 ...</td>\n      <td>영등포구</td>\n      <td>서울특별시 영등포구 영등포동2가 222</td>\n      <td>37.519832</td>\n      <td>126.911267</td>\n      <td>6456</td>\n      <td>182087</td>\n      <td>405982</td>\n    </tr>\n    <tr>\n      <th>8</th>\n      <td>응봉공원</td>\n      <td>응봉은 산모양이 매처럼 보이기 때문에 붙여졌다고 하며 조선시대 왕들이 매사냥을 하여...</td>\n      <td>성동구</td>\n      <td>서울특별시 성동구 금호동1가 산1-72</td>\n      <td>37.557228</td>\n      <td>127.021765</td>\n      <td>80309</td>\n      <td>136096</td>\n      <td>302695</td>\n    </tr>\n    <tr>\n      <th>9</th>\n      <td>매화근린공원</td>\n      <td>공장 이적지 공원화 사업’의 일환으로 옛 성진 유리(주)공장 터에 사업비 6억 원을...</td>\n      <td>강서구</td>\n      <td>서울특별시 강서구 등촌동 630-14</td>\n      <td>37.557583</td>\n      <td>126.861150</td>\n      <td>1980</td>\n      <td>266366</td>\n      <td>589536</td>\n    </tr>\n  </tbody>\n</table>\n</div>"
     },
     "metadata": {},
     "execution_count": 133
    }
   ],
   "source": [
    "result.head(10)"
   ]
  },
  {
   "cell_type": "code",
   "execution_count": 134,
   "metadata": {},
   "outputs": [
    {
     "output_type": "execute_result",
     "data": {
      "text/plain": [
       "array([2896887, 80683, 9132690, 480994, 2284085, 8948, '', 6456, 80309,\n",
       "       1980, 5197, 11467, 229539, 15179, 16734, 61544, 424106, 560552,\n",
       "       26696, 75900, 113021, 201779, 258991, 10420819, 171294, 15000,\n",
       "       297926, 411972, 98470, 2038741, 603715, 108120, 29619, 29843,\n",
       "       126026, 135002, 384026, 180000, 416031, 160720, 2277252, 19599,\n",
       "       138596, 185295, 254648, 29816, 762642, 664905, 99599, 5802, 16500,\n",
       "       585652, 649709, 72132, 66027, 265582, 2088704, 112070, 993724,\n",
       "       219167, 1349556, 1511198, 1097565, 328018, 1447122, 207790,\n",
       "       1018689, 954553, 1667848, 13224, 130345, 5332422, 5107964, 47832,\n",
       "       213552, 168099, 359435, 36660, 380735, 1807420, 359342, 632733,\n",
       "       328018, 6691885, 285757, 110407, 29682, 137759, 917190, 51470,\n",
       "       662543, 217946, 179666, 34955, 18083, 4835, 19650, 7000, 10712,\n",
       "       17182, 160349, 87432, 13467, 46871, 49972, 74385, 8868, 10634,\n",
       "       22113, 1082847, 3692455, 386500, 23450, 2752421, 4180551, 147859,\n",
       "       111650, 519782, 59347, 25500, 2560, 32000, 45615, 631021, 109635,\n",
       "       140022, 157535], dtype=object)"
      ]
     },
     "metadata": {},
     "execution_count": 134
    }
   ],
   "source": [
    "result.면적.to_numpy()"
   ]
  },
  {
   "source": [
    "# 진관근린공원의 면적이 이상했는데, DF를 앞 뒤 잘라서 보여줬기 때문에 쉽게 확인하지 못함\n",
    "## NaN값 거를 때 거르지 못한 이유는 데이터가 이상하다 뿐이지 들어가긴 들어가있었기 때문이다.\n",
    "- 더 많은 행과 열을 출력하려면 <br>\n",
    "pd.set_option('display.max_row', 500) <br>\n",
    "pd.set_option('display.max_columns', 100)"
   ],
   "cell_type": "markdown",
   "metadata": {}
  },
  {
   "cell_type": "code",
   "execution_count": 135,
   "metadata": {},
   "outputs": [],
   "source": [
    "result.loc['진관근린공원(구파발폭포)','면적'] = 983791"
   ]
  },
  {
   "cell_type": "code",
   "execution_count": 136,
   "metadata": {},
   "outputs": [
    {
     "output_type": "execute_result",
     "data": {
      "text/plain": [
       "983791"
      ]
     },
     "metadata": {},
     "execution_count": 136
    }
   ],
   "source": [
    "result['면적']['진관근린공원(구파발폭포)']"
   ]
  },
  {
   "source": [
    "# 왜 값이 안 들어가지?"
   ],
   "cell_type": "markdown",
   "metadata": {}
  },
  {
   "cell_type": "code",
   "execution_count": 137,
   "metadata": {},
   "outputs": [
    {
     "output_type": "execute_result",
     "data": {
      "text/plain": [
       "              공원                                               공원개요   지역  \\\n",
       "0       남산도시자연공원  남산공원은 도심에 위치하여 서울시민에게 맑은 공기를 제공하는 자연휴식처이며 산책 꽃...   중구   \n",
       "1         길동생태공원  길동생태공원은 생물의 서식처를 제공하고 종다양성을 증진시키며 자연생태계의 생물들을 ...  강동구   \n",
       "2          서울대공원  서울대공원은 세계 각국의 야생동물들이 살아 숨 쉬는 서울동물원과 다양한 재미와 즐거...  과천시   \n",
       "3            서울숲  당초 골프장 승마장 등이 있던 뚝섬일대를 주거업무 지역으로 개발할 경우 약 4조원에...  성동구   \n",
       "4          월드컵공원  월드컵공원은 서울의 서쪽에 위치하여 1978년부터 1993년까지 15년간 서울시민이...  마포구   \n",
       "5      광화문시민열린마당  광화문 옛 육조거리가 있던 자리에 새롭게 탄생한 서울시민을 위한 쉼터 '시민열린마당...  종로구   \n",
       "6  진관근린공원(구파발폭포)  1993. 09. 06 서울시장 방침(제1400호) 통일로변 인공폭포조성계획  19...  은평구   \n",
       "\n",
       "                           공원주소        lat         lng       면적      세대  \\\n",
       "0        서울특별시 중구 삼일대로 231(예장동)  37.550140  126.990377  2896887   63594   \n",
       "1  서울특별시 강동구 천호대로 1291(길동생태공원)   37.540394  127.154779    80683  194602   \n",
       "2            경기도 과천시 대공원광장로 102  37.426449  127.019847  9132690   22631   \n",
       "3    서울특별시 성동구 뚝섬로 273 (성수동1가)   37.543072  127.041798   480994  136096   \n",
       "4     서울특별시 마포구 하늘공원로 84(월드컵공원)  37.571805  126.878907  2284085  178495   \n",
       "5            서울특별시 종로구 세종로 76-2  37.575045  126.978023     8948   74861   \n",
       "6             서울특별시 은평구 진관동 393  37.637024  126.919216           213039   \n",
       "\n",
       "       인구  \n",
       "0  135321  \n",
       "1  462275  \n",
       "2   61309  \n",
       "3  302695  \n",
       "4  383494  \n",
       "5  159842  \n",
       "6  485842  "
      ],
      "text/html": "<div>\n<style scoped>\n    .dataframe tbody tr th:only-of-type {\n        vertical-align: middle;\n    }\n\n    .dataframe tbody tr th {\n        vertical-align: top;\n    }\n\n    .dataframe thead th {\n        text-align: right;\n    }\n</style>\n<table border=\"1\" class=\"dataframe\">\n  <thead>\n    <tr style=\"text-align: right;\">\n      <th></th>\n      <th>공원</th>\n      <th>공원개요</th>\n      <th>지역</th>\n      <th>공원주소</th>\n      <th>lat</th>\n      <th>lng</th>\n      <th>면적</th>\n      <th>세대</th>\n      <th>인구</th>\n    </tr>\n  </thead>\n  <tbody>\n    <tr>\n      <th>0</th>\n      <td>남산도시자연공원</td>\n      <td>남산공원은 도심에 위치하여 서울시민에게 맑은 공기를 제공하는 자연휴식처이며 산책 꽃...</td>\n      <td>중구</td>\n      <td>서울특별시 중구 삼일대로 231(예장동)</td>\n      <td>37.550140</td>\n      <td>126.990377</td>\n      <td>2896887</td>\n      <td>63594</td>\n      <td>135321</td>\n    </tr>\n    <tr>\n      <th>1</th>\n      <td>길동생태공원</td>\n      <td>길동생태공원은 생물의 서식처를 제공하고 종다양성을 증진시키며 자연생태계의 생물들을 ...</td>\n      <td>강동구</td>\n      <td>서울특별시 강동구 천호대로 1291(길동생태공원)</td>\n      <td>37.540394</td>\n      <td>127.154779</td>\n      <td>80683</td>\n      <td>194602</td>\n      <td>462275</td>\n    </tr>\n    <tr>\n      <th>2</th>\n      <td>서울대공원</td>\n      <td>서울대공원은 세계 각국의 야생동물들이 살아 숨 쉬는 서울동물원과 다양한 재미와 즐거...</td>\n      <td>과천시</td>\n      <td>경기도 과천시 대공원광장로 102</td>\n      <td>37.426449</td>\n      <td>127.019847</td>\n      <td>9132690</td>\n      <td>22631</td>\n      <td>61309</td>\n    </tr>\n    <tr>\n      <th>3</th>\n      <td>서울숲</td>\n      <td>당초 골프장 승마장 등이 있던 뚝섬일대를 주거업무 지역으로 개발할 경우 약 4조원에...</td>\n      <td>성동구</td>\n      <td>서울특별시 성동구 뚝섬로 273 (성수동1가)</td>\n      <td>37.543072</td>\n      <td>127.041798</td>\n      <td>480994</td>\n      <td>136096</td>\n      <td>302695</td>\n    </tr>\n    <tr>\n      <th>4</th>\n      <td>월드컵공원</td>\n      <td>월드컵공원은 서울의 서쪽에 위치하여 1978년부터 1993년까지 15년간 서울시민이...</td>\n      <td>마포구</td>\n      <td>서울특별시 마포구 하늘공원로 84(월드컵공원)</td>\n      <td>37.571805</td>\n      <td>126.878907</td>\n      <td>2284085</td>\n      <td>178495</td>\n      <td>383494</td>\n    </tr>\n    <tr>\n      <th>5</th>\n      <td>광화문시민열린마당</td>\n      <td>광화문 옛 육조거리가 있던 자리에 새롭게 탄생한 서울시민을 위한 쉼터 '시민열린마당...</td>\n      <td>종로구</td>\n      <td>서울특별시 종로구 세종로 76-2</td>\n      <td>37.575045</td>\n      <td>126.978023</td>\n      <td>8948</td>\n      <td>74861</td>\n      <td>159842</td>\n    </tr>\n    <tr>\n      <th>6</th>\n      <td>진관근린공원(구파발폭포)</td>\n      <td>1993. 09. 06 서울시장 방침(제1400호) 통일로변 인공폭포조성계획  19...</td>\n      <td>은평구</td>\n      <td>서울특별시 은평구 진관동 393</td>\n      <td>37.637024</td>\n      <td>126.919216</td>\n      <td></td>\n      <td>213039</td>\n      <td>485842</td>\n    </tr>\n  </tbody>\n</table>\n</div>"
     },
     "metadata": {},
     "execution_count": 137
    }
   ],
   "source": [
    "result.head(7)"
   ]
  },
  {
   "cell_type": "code",
   "execution_count": 138,
   "metadata": {},
   "outputs": [
    {
     "output_type": "execute_result",
     "data": {
      "text/plain": [
       "                            공원  \\\n",
       "123                    서일대뒷산공원   \n",
       "124            용마도시자연공원(사가정공원)   \n",
       "125                     문화비축기지   \n",
       "126                       율현공원   \n",
       "진관근린공원(구파발폭포)              NaN   \n",
       "\n",
       "                                                            공원개요   지역  \\\n",
       "123            망우동과 면목동 경기도 구리시에 걸쳐있는 망우산은 해발 281.7m이며 망우산 일대...  중랑구   \n",
       "124            2005년 4월 13일 개장한 사가정공원은 면목동 산 50번지 일대의 면목약수터지구...  중랑구   \n",
       "125            매봉산자락에 위치한 문화비축기지는 폐산업시설인 '마포석유비축기지'를 재생하여 역사적...  마포구   \n",
       "126            ? 율현공원은 보금자리주택 세곡2지구 사업의 결과물로 만들어졌다. 공원은 주택지구의...  강남구   \n",
       "진관근린공원(구파발폭포)                                                NaN  NaN   \n",
       "\n",
       "                                        공원주소        lat         lng      면적  \\\n",
       "123                        서울특별시 중랑구 면목동 산19  37.587716  127.098782  631021   \n",
       "124                      서울특별시 중랑구 면목7동 산50   37.579762  127.095997  109635   \n",
       "125                         서울특별시 마포구 증산로 87  37.571718  126.893245  140022   \n",
       "126            서울특별시 강남구 율현동 밤고개로24길(율현동 56)  37.472332  127.115594  157535   \n",
       "진관근린공원(구파발폭포)                            NaN        NaN         NaN  983791   \n",
       "\n",
       "                   세대      인구  \n",
       "123            185109  400989  \n",
       "124            185109  400989  \n",
       "125            178495  383494  \n",
       "126            234021  544085  \n",
       "진관근린공원(구파발폭포)     NaN     NaN  "
      ],
      "text/html": "<div>\n<style scoped>\n    .dataframe tbody tr th:only-of-type {\n        vertical-align: middle;\n    }\n\n    .dataframe tbody tr th {\n        vertical-align: top;\n    }\n\n    .dataframe thead th {\n        text-align: right;\n    }\n</style>\n<table border=\"1\" class=\"dataframe\">\n  <thead>\n    <tr style=\"text-align: right;\">\n      <th></th>\n      <th>공원</th>\n      <th>공원개요</th>\n      <th>지역</th>\n      <th>공원주소</th>\n      <th>lat</th>\n      <th>lng</th>\n      <th>면적</th>\n      <th>세대</th>\n      <th>인구</th>\n    </tr>\n  </thead>\n  <tbody>\n    <tr>\n      <th>123</th>\n      <td>서일대뒷산공원</td>\n      <td>망우동과 면목동 경기도 구리시에 걸쳐있는 망우산은 해발 281.7m이며 망우산 일대...</td>\n      <td>중랑구</td>\n      <td>서울특별시 중랑구 면목동 산19</td>\n      <td>37.587716</td>\n      <td>127.098782</td>\n      <td>631021</td>\n      <td>185109</td>\n      <td>400989</td>\n    </tr>\n    <tr>\n      <th>124</th>\n      <td>용마도시자연공원(사가정공원)</td>\n      <td>2005년 4월 13일 개장한 사가정공원은 면목동 산 50번지 일대의 면목약수터지구...</td>\n      <td>중랑구</td>\n      <td>서울특별시 중랑구 면목7동 산50</td>\n      <td>37.579762</td>\n      <td>127.095997</td>\n      <td>109635</td>\n      <td>185109</td>\n      <td>400989</td>\n    </tr>\n    <tr>\n      <th>125</th>\n      <td>문화비축기지</td>\n      <td>매봉산자락에 위치한 문화비축기지는 폐산업시설인 '마포석유비축기지'를 재생하여 역사적...</td>\n      <td>마포구</td>\n      <td>서울특별시 마포구 증산로 87</td>\n      <td>37.571718</td>\n      <td>126.893245</td>\n      <td>140022</td>\n      <td>178495</td>\n      <td>383494</td>\n    </tr>\n    <tr>\n      <th>126</th>\n      <td>율현공원</td>\n      <td>? 율현공원은 보금자리주택 세곡2지구 사업의 결과물로 만들어졌다. 공원은 주택지구의...</td>\n      <td>강남구</td>\n      <td>서울특별시 강남구 율현동 밤고개로24길(율현동 56)</td>\n      <td>37.472332</td>\n      <td>127.115594</td>\n      <td>157535</td>\n      <td>234021</td>\n      <td>544085</td>\n    </tr>\n    <tr>\n      <th>진관근린공원(구파발폭포)</th>\n      <td>NaN</td>\n      <td>NaN</td>\n      <td>NaN</td>\n      <td>NaN</td>\n      <td>NaN</td>\n      <td>NaN</td>\n      <td>983791</td>\n      <td>NaN</td>\n      <td>NaN</td>\n    </tr>\n  </tbody>\n</table>\n</div>"
     },
     "metadata": {},
     "execution_count": 138
    }
   ],
   "source": [
    "result.tail()"
   ]
  },
  {
   "source": [
    "위의 방식은 df\\[행 인덱스\\]\\[열 인덱스\\] 로 값이 들어간다.\n",
    "아직 공원이 인덱스가 되지 않았기 때문에, 진관근린공원이라는 인덱스를 가진 행으로 들어가는 것"
   ],
   "cell_type": "markdown",
   "metadata": {}
  },
  {
   "cell_type": "code",
   "execution_count": 139,
   "metadata": {},
   "outputs": [],
   "source": [
    "result.drop(index='진관근린공원(구파발폭포)',inplace=True)"
   ]
  },
  {
   "cell_type": "code",
   "execution_count": 140,
   "metadata": {},
   "outputs": [
    {
     "output_type": "execute_result",
     "data": {
      "text/plain": [
       "                  공원                                               공원개요   지역  \\\n",
       "122           숭인근린공원  서울특별시 종로구 숭인동 동망산(東望山)에 있는 공원이다. 동망산공원이라고도 한다....  종로구   \n",
       "123          서일대뒷산공원  망우동과 면목동 경기도 구리시에 걸쳐있는 망우산은 해발 281.7m이며 망우산 일대...  중랑구   \n",
       "124  용마도시자연공원(사가정공원)  2005년 4월 13일 개장한 사가정공원은 면목동 산 50번지 일대의 면목약수터지구...  중랑구   \n",
       "125           문화비축기지  매봉산자락에 위치한 문화비축기지는 폐산업시설인 '마포석유비축기지'를 재생하여 역사적...  마포구   \n",
       "126             율현공원  ? 율현공원은 보금자리주택 세곡2지구 사업의 결과물로 만들어졌다. 공원은 주택지구의...  강남구   \n",
       "\n",
       "                              공원주소        lat         lng      면적      세대  \\\n",
       "122               서울특별시 종로구 숭인동 58  37.576442  127.017827   45615   74861   \n",
       "123              서울특별시 중랑구 면목동 산19  37.587716  127.098782  631021  185109   \n",
       "124            서울특별시 중랑구 면목7동 산50   37.579762  127.095997  109635  185109   \n",
       "125               서울특별시 마포구 증산로 87  37.571718  126.893245  140022  178495   \n",
       "126  서울특별시 강남구 율현동 밤고개로24길(율현동 56)  37.472332  127.115594  157535  234021   \n",
       "\n",
       "         인구  \n",
       "122  159842  \n",
       "123  400989  \n",
       "124  400989  \n",
       "125  383494  \n",
       "126  544085  "
      ],
      "text/html": "<div>\n<style scoped>\n    .dataframe tbody tr th:only-of-type {\n        vertical-align: middle;\n    }\n\n    .dataframe tbody tr th {\n        vertical-align: top;\n    }\n\n    .dataframe thead th {\n        text-align: right;\n    }\n</style>\n<table border=\"1\" class=\"dataframe\">\n  <thead>\n    <tr style=\"text-align: right;\">\n      <th></th>\n      <th>공원</th>\n      <th>공원개요</th>\n      <th>지역</th>\n      <th>공원주소</th>\n      <th>lat</th>\n      <th>lng</th>\n      <th>면적</th>\n      <th>세대</th>\n      <th>인구</th>\n    </tr>\n  </thead>\n  <tbody>\n    <tr>\n      <th>122</th>\n      <td>숭인근린공원</td>\n      <td>서울특별시 종로구 숭인동 동망산(東望山)에 있는 공원이다. 동망산공원이라고도 한다....</td>\n      <td>종로구</td>\n      <td>서울특별시 종로구 숭인동 58</td>\n      <td>37.576442</td>\n      <td>127.017827</td>\n      <td>45615</td>\n      <td>74861</td>\n      <td>159842</td>\n    </tr>\n    <tr>\n      <th>123</th>\n      <td>서일대뒷산공원</td>\n      <td>망우동과 면목동 경기도 구리시에 걸쳐있는 망우산은 해발 281.7m이며 망우산 일대...</td>\n      <td>중랑구</td>\n      <td>서울특별시 중랑구 면목동 산19</td>\n      <td>37.587716</td>\n      <td>127.098782</td>\n      <td>631021</td>\n      <td>185109</td>\n      <td>400989</td>\n    </tr>\n    <tr>\n      <th>124</th>\n      <td>용마도시자연공원(사가정공원)</td>\n      <td>2005년 4월 13일 개장한 사가정공원은 면목동 산 50번지 일대의 면목약수터지구...</td>\n      <td>중랑구</td>\n      <td>서울특별시 중랑구 면목7동 산50</td>\n      <td>37.579762</td>\n      <td>127.095997</td>\n      <td>109635</td>\n      <td>185109</td>\n      <td>400989</td>\n    </tr>\n    <tr>\n      <th>125</th>\n      <td>문화비축기지</td>\n      <td>매봉산자락에 위치한 문화비축기지는 폐산업시설인 '마포석유비축기지'를 재생하여 역사적...</td>\n      <td>마포구</td>\n      <td>서울특별시 마포구 증산로 87</td>\n      <td>37.571718</td>\n      <td>126.893245</td>\n      <td>140022</td>\n      <td>178495</td>\n      <td>383494</td>\n    </tr>\n    <tr>\n      <th>126</th>\n      <td>율현공원</td>\n      <td>? 율현공원은 보금자리주택 세곡2지구 사업의 결과물로 만들어졌다. 공원은 주택지구의...</td>\n      <td>강남구</td>\n      <td>서울특별시 강남구 율현동 밤고개로24길(율현동 56)</td>\n      <td>37.472332</td>\n      <td>127.115594</td>\n      <td>157535</td>\n      <td>234021</td>\n      <td>544085</td>\n    </tr>\n  </tbody>\n</table>\n</div>"
     },
     "metadata": {},
     "execution_count": 140
    }
   ],
   "source": [
    "result.tail()"
   ]
  },
  {
   "cell_type": "code",
   "execution_count": 141,
   "metadata": {},
   "outputs": [
    {
     "output_type": "execute_result",
     "data": {
      "text/plain": [
       "                                                       공원개요  지역  \\\n",
       "공원                                                                \n",
       "남산도시자연공원  남산공원은 도심에 위치하여 서울시민에게 맑은 공기를 제공하는 자연휴식처이며 산책 꽃...  중구   \n",
       "\n",
       "                            공원주소       lat         lng       면적     세대      인구  \n",
       "공원                                                                              \n",
       "남산도시자연공원  서울특별시 중구 삼일대로 231(예장동)  37.55014  126.990377  2896887  63594  135321  "
      ],
      "text/html": "<div>\n<style scoped>\n    .dataframe tbody tr th:only-of-type {\n        vertical-align: middle;\n    }\n\n    .dataframe tbody tr th {\n        vertical-align: top;\n    }\n\n    .dataframe thead th {\n        text-align: right;\n    }\n</style>\n<table border=\"1\" class=\"dataframe\">\n  <thead>\n    <tr style=\"text-align: right;\">\n      <th></th>\n      <th>공원개요</th>\n      <th>지역</th>\n      <th>공원주소</th>\n      <th>lat</th>\n      <th>lng</th>\n      <th>면적</th>\n      <th>세대</th>\n      <th>인구</th>\n    </tr>\n    <tr>\n      <th>공원</th>\n      <th></th>\n      <th></th>\n      <th></th>\n      <th></th>\n      <th></th>\n      <th></th>\n      <th></th>\n      <th></th>\n    </tr>\n  </thead>\n  <tbody>\n    <tr>\n      <th>남산도시자연공원</th>\n      <td>남산공원은 도심에 위치하여 서울시민에게 맑은 공기를 제공하는 자연휴식처이며 산책 꽃...</td>\n      <td>중구</td>\n      <td>서울특별시 중구 삼일대로 231(예장동)</td>\n      <td>37.55014</td>\n      <td>126.990377</td>\n      <td>2896887</td>\n      <td>63594</td>\n      <td>135321</td>\n    </tr>\n  </tbody>\n</table>\n</div>"
     },
     "metadata": {},
     "execution_count": 141
    }
   ],
   "source": [
    "result.set_index('공원', inplace = True)\n",
    "result.loc['진관근린공원(구파발폭포)','면적'] = 983791\n",
    "result.head(1)"
   ]
  },
  {
   "source": [
    "## 공원 크기를 조절하기 위해 공원 크기를 범주형으로"
   ],
   "cell_type": "markdown",
   "metadata": {}
  },
  {
   "cell_type": "code",
   "execution_count": 142,
   "metadata": {},
   "outputs": [
    {
     "output_type": "execute_result",
     "data": {
      "text/plain": [
       "                                                       공원개요   지역  \\\n",
       "공원                                                                 \n",
       "남산도시자연공원  남산공원은 도심에 위치하여 서울시민에게 맑은 공기를 제공하는 자연휴식처이며 산책 꽃...   중구   \n",
       "길동생태공원    길동생태공원은 생물의 서식처를 제공하고 종다양성을 증진시키며 자연생태계의 생물들을 ...  강동구   \n",
       "서울대공원     서울대공원은 세계 각국의 야생동물들이 살아 숨 쉬는 서울동물원과 다양한 재미와 즐거...  과천시   \n",
       "\n",
       "                                  공원주소        lat         lng       면적  \\\n",
       "공원                                                                       \n",
       "남산도시자연공원        서울특별시 중구 삼일대로 231(예장동)  37.550140  126.990377  2896887   \n",
       "길동생태공원    서울특별시 강동구 천호대로 1291(길동생태공원)   37.540394  127.154779    80683   \n",
       "서울대공원               경기도 과천시 대공원광장로 102  37.426449  127.019847  9132690   \n",
       "\n",
       "              세대      인구 면적 코드 면적 분류  \n",
       "공원                                    \n",
       "남산도시자연공원   63594  135321     3    대형  \n",
       "길동생태공원    194602  462275     2    중형  \n",
       "서울대공원      22631   61309     3    대형  "
      ],
      "text/html": "<div>\n<style scoped>\n    .dataframe tbody tr th:only-of-type {\n        vertical-align: middle;\n    }\n\n    .dataframe tbody tr th {\n        vertical-align: top;\n    }\n\n    .dataframe thead th {\n        text-align: right;\n    }\n</style>\n<table border=\"1\" class=\"dataframe\">\n  <thead>\n    <tr style=\"text-align: right;\">\n      <th></th>\n      <th>공원개요</th>\n      <th>지역</th>\n      <th>공원주소</th>\n      <th>lat</th>\n      <th>lng</th>\n      <th>면적</th>\n      <th>세대</th>\n      <th>인구</th>\n      <th>면적 코드</th>\n      <th>면적 분류</th>\n    </tr>\n    <tr>\n      <th>공원</th>\n      <th></th>\n      <th></th>\n      <th></th>\n      <th></th>\n      <th></th>\n      <th></th>\n      <th></th>\n      <th></th>\n      <th></th>\n      <th></th>\n    </tr>\n  </thead>\n  <tbody>\n    <tr>\n      <th>남산도시자연공원</th>\n      <td>남산공원은 도심에 위치하여 서울시민에게 맑은 공기를 제공하는 자연휴식처이며 산책 꽃...</td>\n      <td>중구</td>\n      <td>서울특별시 중구 삼일대로 231(예장동)</td>\n      <td>37.550140</td>\n      <td>126.990377</td>\n      <td>2896887</td>\n      <td>63594</td>\n      <td>135321</td>\n      <td>3</td>\n      <td>대형</td>\n    </tr>\n    <tr>\n      <th>길동생태공원</th>\n      <td>길동생태공원은 생물의 서식처를 제공하고 종다양성을 증진시키며 자연생태계의 생물들을 ...</td>\n      <td>강동구</td>\n      <td>서울특별시 강동구 천호대로 1291(길동생태공원)</td>\n      <td>37.540394</td>\n      <td>127.154779</td>\n      <td>80683</td>\n      <td>194602</td>\n      <td>462275</td>\n      <td>2</td>\n      <td>중형</td>\n    </tr>\n    <tr>\n      <th>서울대공원</th>\n      <td>서울대공원은 세계 각국의 야생동물들이 살아 숨 쉬는 서울동물원과 다양한 재미와 즐거...</td>\n      <td>과천시</td>\n      <td>경기도 과천시 대공원광장로 102</td>\n      <td>37.426449</td>\n      <td>127.019847</td>\n      <td>9132690</td>\n      <td>22631</td>\n      <td>61309</td>\n      <td>3</td>\n      <td>대형</td>\n    </tr>\n  </tbody>\n</table>\n</div>"
     },
     "metadata": {},
     "execution_count": 142
    }
   ],
   "source": [
    "cats = pd.qcut(result['면적'], 3, labels = [1.0,2.0,3.0])\n",
    "result['면적 코드'] = cats\n",
    "cats = pd.qcut(result['면적'], 3, labels = ['소형','중형','대형'])\n",
    "result['면적 분류'] = cats\n",
    "result.head(3)"
   ]
  },
  {
   "source": [
    "## 지도에서 비율로 정확하게 비교할 수 있도록 인구별 공원면적"
   ],
   "cell_type": "markdown",
   "metadata": {}
  },
  {
   "cell_type": "code",
   "execution_count": 143,
   "metadata": {},
   "outputs": [
    {
     "output_type": "execute_result",
     "data": {
      "text/plain": [
       "int"
      ]
     },
     "metadata": {},
     "execution_count": 143
    }
   ],
   "source": [
    "type(result['인구'][0])"
   ]
  },
  {
   "cell_type": "code",
   "execution_count": 144,
   "metadata": {},
   "outputs": [],
   "source": [
    "result['인구 당 공원 면적'] = result['면적'] / result['인구']"
   ]
  },
  {
   "cell_type": "code",
   "execution_count": 145,
   "metadata": {},
   "outputs": [],
   "source": [
    "result.to_csv('./result/공원 위치, 면적, 인구.csv',sep=',',encoding='utf8')"
   ]
  },
  {
   "cell_type": "code",
   "execution_count": 146,
   "metadata": {},
   "outputs": [
    {
     "output_type": "execute_result",
     "data": {
      "text/plain": [
       "                                                       공원개요   지역  \\\n",
       "공원                                                                 \n",
       "남산도시자연공원  남산공원은 도심에 위치하여 서울시민에게 맑은 공기를 제공하는 자연휴식처이며 산책 꽃...   중구   \n",
       "길동생태공원    길동생태공원은 생물의 서식처를 제공하고 종다양성을 증진시키며 자연생태계의 생물들을 ...  강동구   \n",
       "서울대공원     서울대공원은 세계 각국의 야생동물들이 살아 숨 쉬는 서울동물원과 다양한 재미와 즐거...  과천시   \n",
       "서울숲       당초 골프장 승마장 등이 있던 뚝섬일대를 주거업무 지역으로 개발할 경우 약 4조원에...  성동구   \n",
       "월드컵공원     월드컵공원은 서울의 서쪽에 위치하여 1978년부터 1993년까지 15년간 서울시민이...  마포구   \n",
       "\n",
       "                                  공원주소        lat         lng       면적  \\\n",
       "공원                                                                       \n",
       "남산도시자연공원        서울특별시 중구 삼일대로 231(예장동)  37.550140  126.990377  2896887   \n",
       "길동생태공원    서울특별시 강동구 천호대로 1291(길동생태공원)   37.540394  127.154779    80683   \n",
       "서울대공원               경기도 과천시 대공원광장로 102  37.426449  127.019846  9132690   \n",
       "서울숲         서울특별시 성동구 뚝섬로 273 (성수동1가)   37.543072  127.041798   480994   \n",
       "월드컵공원        서울특별시 마포구 하늘공원로 84(월드컵공원)  37.571805  126.878907  2284085   \n",
       "\n",
       "              세대      인구  면적 코드 면적 분류  인구 당 공원 면적  \n",
       "공원                                                 \n",
       "남산도시자연공원   63594  135321      3    대형   21.407520  \n",
       "길동생태공원    194602  462275      2    중형    0.174535  \n",
       "서울대공원      22631   61309      3    대형  148.961653  \n",
       "서울숲       136096  302695      3    대형    1.589038  \n",
       "월드컵공원     178495  383494      3    대형    5.955986  "
      ],
      "text/html": "<div>\n<style scoped>\n    .dataframe tbody tr th:only-of-type {\n        vertical-align: middle;\n    }\n\n    .dataframe tbody tr th {\n        vertical-align: top;\n    }\n\n    .dataframe thead th {\n        text-align: right;\n    }\n</style>\n<table border=\"1\" class=\"dataframe\">\n  <thead>\n    <tr style=\"text-align: right;\">\n      <th></th>\n      <th>공원개요</th>\n      <th>지역</th>\n      <th>공원주소</th>\n      <th>lat</th>\n      <th>lng</th>\n      <th>면적</th>\n      <th>세대</th>\n      <th>인구</th>\n      <th>면적 코드</th>\n      <th>면적 분류</th>\n      <th>인구 당 공원 면적</th>\n    </tr>\n    <tr>\n      <th>공원</th>\n      <th></th>\n      <th></th>\n      <th></th>\n      <th></th>\n      <th></th>\n      <th></th>\n      <th></th>\n      <th></th>\n      <th></th>\n      <th></th>\n      <th></th>\n    </tr>\n  </thead>\n  <tbody>\n    <tr>\n      <th>남산도시자연공원</th>\n      <td>남산공원은 도심에 위치하여 서울시민에게 맑은 공기를 제공하는 자연휴식처이며 산책 꽃...</td>\n      <td>중구</td>\n      <td>서울특별시 중구 삼일대로 231(예장동)</td>\n      <td>37.550140</td>\n      <td>126.990377</td>\n      <td>2896887</td>\n      <td>63594</td>\n      <td>135321</td>\n      <td>3</td>\n      <td>대형</td>\n      <td>21.407520</td>\n    </tr>\n    <tr>\n      <th>길동생태공원</th>\n      <td>길동생태공원은 생물의 서식처를 제공하고 종다양성을 증진시키며 자연생태계의 생물들을 ...</td>\n      <td>강동구</td>\n      <td>서울특별시 강동구 천호대로 1291(길동생태공원)</td>\n      <td>37.540394</td>\n      <td>127.154779</td>\n      <td>80683</td>\n      <td>194602</td>\n      <td>462275</td>\n      <td>2</td>\n      <td>중형</td>\n      <td>0.174535</td>\n    </tr>\n    <tr>\n      <th>서울대공원</th>\n      <td>서울대공원은 세계 각국의 야생동물들이 살아 숨 쉬는 서울동물원과 다양한 재미와 즐거...</td>\n      <td>과천시</td>\n      <td>경기도 과천시 대공원광장로 102</td>\n      <td>37.426449</td>\n      <td>127.019846</td>\n      <td>9132690</td>\n      <td>22631</td>\n      <td>61309</td>\n      <td>3</td>\n      <td>대형</td>\n      <td>148.961653</td>\n    </tr>\n    <tr>\n      <th>서울숲</th>\n      <td>당초 골프장 승마장 등이 있던 뚝섬일대를 주거업무 지역으로 개발할 경우 약 4조원에...</td>\n      <td>성동구</td>\n      <td>서울특별시 성동구 뚝섬로 273 (성수동1가)</td>\n      <td>37.543072</td>\n      <td>127.041798</td>\n      <td>480994</td>\n      <td>136096</td>\n      <td>302695</td>\n      <td>3</td>\n      <td>대형</td>\n      <td>1.589038</td>\n    </tr>\n    <tr>\n      <th>월드컵공원</th>\n      <td>월드컵공원은 서울의 서쪽에 위치하여 1978년부터 1993년까지 15년간 서울시민이...</td>\n      <td>마포구</td>\n      <td>서울특별시 마포구 하늘공원로 84(월드컵공원)</td>\n      <td>37.571805</td>\n      <td>126.878907</td>\n      <td>2284085</td>\n      <td>178495</td>\n      <td>383494</td>\n      <td>3</td>\n      <td>대형</td>\n      <td>5.955986</td>\n    </tr>\n  </tbody>\n</table>\n</div>"
     },
     "metadata": {},
     "execution_count": 146
    }
   ],
   "source": [
    "park = pd.read_csv('./result/공원 위치, 면적, 인구.csv', index_col='공원')\n",
    "park.head()"
   ]
  },
  {
   "cell_type": "code",
   "execution_count": 147,
   "metadata": {},
   "outputs": [
    {
     "output_type": "execute_result",
     "data": {
      "text/plain": [
       "list"
      ]
     },
     "metadata": {},
     "execution_count": 147
    }
   ],
   "source": [
    "type(list(park.index))"
   ]
  },
  {
   "cell_type": "code",
   "execution_count": 148,
   "metadata": {},
   "outputs": [
    {
     "output_type": "execute_result",
     "data": {
      "text/plain": [
       "list"
      ]
     },
     "metadata": {},
     "execution_count": 148
    }
   ],
   "source": [
    "type(list(park['지역'].unique()))\n"
   ]
  }
 ]
}