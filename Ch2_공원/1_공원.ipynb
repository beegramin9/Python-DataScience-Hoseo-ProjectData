{
 "metadata": {
  "language_info": {
   "codemirror_mode": {
    "name": "ipython",
    "version": 3
   },
   "file_extension": ".py",
   "mimetype": "text/x-python",
   "name": "python",
   "nbconvert_exporter": "python",
   "pygments_lexer": "ipython3",
   "version": "3.8.1-final"
  },
  "orig_nbformat": 2,
  "kernelspec": {
   "name": "python38132bit243e625a994649b0a7927380da95a17b",
   "display_name": "Python 3.8.1 32-bit"
  }
 },
 "nbformat": 4,
 "nbformat_minor": 2,
 "cells": [
  {
   "source": [
    "# 서울시 구별 공원 현황"
   ],
   "cell_type": "markdown",
   "metadata": {}
  },
  {
   "cell_type": "code",
   "execution_count": 3,
   "metadata": {},
   "outputs": [],
   "source": [
    "import pandas as pd\n",
    "import numpy as np"
   ]
  },
  {
   "cell_type": "code",
   "execution_count": 4,
   "metadata": {},
   "outputs": [
    {
     "output_type": "execute_result",
     "data": {
      "text/plain": [
       "   공원번호       공원명                                               공원개요  \\\n",
       "0     1  남산도시자연공원  남산공원은 도심에 위치하여 서울시민에게 맑은 공기를 제공하는 자연휴식처이며 산책 꽃...   \n",
       "\n",
       "                                             면적        개원일  \\\n",
       "0  2896887㎡ 임 야 : 2454140㎡ 녹지대 및 기타시설 : 442747㎡  1968.9.10   \n",
       "\n",
       "                                                주요시설  \\\n",
       "0  기반시설 : 광장 45950㎡ 도로 108530㎡ 산책로 6.7㎞ (북측:3.7㎞/...   \n",
       "\n",
       "                                주요식물  \\\n",
       "0  소나무 단풍 아카시아 상수리나무 등 191종 2881870주   \n",
       "\n",
       "                                                 안내도  \\\n",
       "0  http://parks.seoul.go.kr/upload/seditorMulti/2...   \n",
       "\n",
       "                                                오시는길  \\\n",
       "0  명동역(남산케이블카 와룡묘 서울애니메이션센터 방면) 도보 명동역 3번출구 → 퍼시픽...   \n",
       "\n",
       "                                             이용시참고사항  \\\n",
       "0  남산공원 차량통행 금지안내 2005년 5월 1일부터 남산공원에 일반승용차 택시 통행...   \n",
       "\n",
       "                                                 이미지  지역  \\\n",
       "0  http://parks.seoul.go.kr/file/info/view.do?fId...  중구   \n",
       "\n",
       "                     공원주소            관리부서          전화번호  X좌표(GRS80TM)  \\\n",
       "0  서울특별시 중구 삼일대로 231(예장동)  서울특별시중부푸른도시사업소  02-3783-5900    198364.107   \n",
       "\n",
       "   Y좌표(GRS80TM)  X좌표(WGS84)  Y좌표(WGS84)  \\\n",
       "0    450395.554  126.990377    37.55014   \n",
       "\n",
       "                                              바로가기  \n",
       "0  http://parks.seoul.go.kr/template/sub/namsan.do  "
      ],
      "text/html": "<div>\n<style scoped>\n    .dataframe tbody tr th:only-of-type {\n        vertical-align: middle;\n    }\n\n    .dataframe tbody tr th {\n        vertical-align: top;\n    }\n\n    .dataframe thead th {\n        text-align: right;\n    }\n</style>\n<table border=\"1\" class=\"dataframe\">\n  <thead>\n    <tr style=\"text-align: right;\">\n      <th></th>\n      <th>공원번호</th>\n      <th>공원명</th>\n      <th>공원개요</th>\n      <th>면적</th>\n      <th>개원일</th>\n      <th>주요시설</th>\n      <th>주요식물</th>\n      <th>안내도</th>\n      <th>오시는길</th>\n      <th>이용시참고사항</th>\n      <th>이미지</th>\n      <th>지역</th>\n      <th>공원주소</th>\n      <th>관리부서</th>\n      <th>전화번호</th>\n      <th>X좌표(GRS80TM)</th>\n      <th>Y좌표(GRS80TM)</th>\n      <th>X좌표(WGS84)</th>\n      <th>Y좌표(WGS84)</th>\n      <th>바로가기</th>\n    </tr>\n  </thead>\n  <tbody>\n    <tr>\n      <th>0</th>\n      <td>1</td>\n      <td>남산도시자연공원</td>\n      <td>남산공원은 도심에 위치하여 서울시민에게 맑은 공기를 제공하는 자연휴식처이며 산책 꽃...</td>\n      <td>2896887㎡ 임 야 : 2454140㎡ 녹지대 및 기타시설 : 442747㎡</td>\n      <td>1968.9.10</td>\n      <td>기반시설 : 광장 45950㎡ 도로 108530㎡ 산책로 6.7㎞ (북측:3.7㎞/...</td>\n      <td>소나무 단풍 아카시아 상수리나무 등 191종 2881870주</td>\n      <td>http://parks.seoul.go.kr/upload/seditorMulti/2...</td>\n      <td>명동역(남산케이블카 와룡묘 서울애니메이션센터 방면) 도보 명동역 3번출구 → 퍼시픽...</td>\n      <td>남산공원 차량통행 금지안내 2005년 5월 1일부터 남산공원에 일반승용차 택시 통행...</td>\n      <td>http://parks.seoul.go.kr/file/info/view.do?fId...</td>\n      <td>중구</td>\n      <td>서울특별시 중구 삼일대로 231(예장동)</td>\n      <td>서울특별시중부푸른도시사업소</td>\n      <td>02-3783-5900</td>\n      <td>198364.107</td>\n      <td>450395.554</td>\n      <td>126.990377</td>\n      <td>37.55014</td>\n      <td>http://parks.seoul.go.kr/template/sub/namsan.do</td>\n    </tr>\n  </tbody>\n</table>\n</div>"
     },
     "metadata": {},
     "execution_count": 4
    }
   ],
   "source": [
    "park = pd.read_csv('서울시 공원.csv', encoding='CP949', thousands=',')\n",
    "# thousands option not working\n",
    "park.head(1)"
   ]
  },
  {
   "cell_type": "code",
   "execution_count": 5,
   "metadata": {},
   "outputs": [
    {
     "output_type": "execute_result",
     "data": {
      "text/plain": [
       "        공원명   지역                          공원주소  Y좌표(WGS84)  X좌표(WGS84)  \\\n",
       "0  남산도시자연공원   중구        서울특별시 중구 삼일대로 231(예장동)   37.550140  126.990377   \n",
       "1    길동생태공원  강동구  서울특별시 강동구 천호대로 1291(길동생태공원)    37.540394  127.154779   \n",
       "2     서울대공원  과천시            경기도 과천시 대공원광장로 102   37.426449  127.019847   \n",
       "3       서울숲  성동구    서울특별시 성동구 뚝섬로 273 (성수동1가)    37.543072  127.041798   \n",
       "4     월드컵공원  마포구     서울특별시 마포구 하늘공원로 84(월드컵공원)   37.571805  126.878907   \n",
       "\n",
       "                                             면적  \n",
       "0  2896887㎡ 임 야 : 2454140㎡ 녹지대 및 기타시설 : 442747㎡  \n",
       "1                                        80683㎡  \n",
       "2                                     9132690m²  \n",
       "3                                       480994㎡  \n",
       "4                                      2284085㎡  "
      ],
      "text/html": "<div>\n<style scoped>\n    .dataframe tbody tr th:only-of-type {\n        vertical-align: middle;\n    }\n\n    .dataframe tbody tr th {\n        vertical-align: top;\n    }\n\n    .dataframe thead th {\n        text-align: right;\n    }\n</style>\n<table border=\"1\" class=\"dataframe\">\n  <thead>\n    <tr style=\"text-align: right;\">\n      <th></th>\n      <th>공원명</th>\n      <th>지역</th>\n      <th>공원주소</th>\n      <th>Y좌표(WGS84)</th>\n      <th>X좌표(WGS84)</th>\n      <th>면적</th>\n    </tr>\n  </thead>\n  <tbody>\n    <tr>\n      <th>0</th>\n      <td>남산도시자연공원</td>\n      <td>중구</td>\n      <td>서울특별시 중구 삼일대로 231(예장동)</td>\n      <td>37.550140</td>\n      <td>126.990377</td>\n      <td>2896887㎡ 임 야 : 2454140㎡ 녹지대 및 기타시설 : 442747㎡</td>\n    </tr>\n    <tr>\n      <th>1</th>\n      <td>길동생태공원</td>\n      <td>강동구</td>\n      <td>서울특별시 강동구 천호대로 1291(길동생태공원)</td>\n      <td>37.540394</td>\n      <td>127.154779</td>\n      <td>80683㎡</td>\n    </tr>\n    <tr>\n      <th>2</th>\n      <td>서울대공원</td>\n      <td>과천시</td>\n      <td>경기도 과천시 대공원광장로 102</td>\n      <td>37.426449</td>\n      <td>127.019847</td>\n      <td>9132690m²</td>\n    </tr>\n    <tr>\n      <th>3</th>\n      <td>서울숲</td>\n      <td>성동구</td>\n      <td>서울특별시 성동구 뚝섬로 273 (성수동1가)</td>\n      <td>37.543072</td>\n      <td>127.041798</td>\n      <td>480994㎡</td>\n    </tr>\n    <tr>\n      <th>4</th>\n      <td>월드컵공원</td>\n      <td>마포구</td>\n      <td>서울특별시 마포구 하늘공원로 84(월드컵공원)</td>\n      <td>37.571805</td>\n      <td>126.878907</td>\n      <td>2284085㎡</td>\n    </tr>\n  </tbody>\n</table>\n</div>"
     },
     "metadata": {},
     "execution_count": 5
    }
   ],
   "source": [
    "park = park.loc[:,['공원명','지역','공원주소','Y좌표(WGS84)','X좌표(WGS84)','면적']]\n",
    "park.head()"
   ]
  },
  {
   "cell_type": "code",
   "execution_count": 6,
   "metadata": {},
   "outputs": [],
   "source": [
    "park.rename(columns={\n",
    "    '공원명':'공원',\n",
    "    'Y좌표(WGS84)':'lat',\n",
    "    'X좌표(WGS84)':'lng'\n",
    "},inplace = True)"
   ]
  },
  {
   "source": [
    "## Pandas Doc에 .values() 보다 to_numpy() 사용하라고 나와있음"
   ],
   "cell_type": "markdown",
   "metadata": {}
  },
  {
   "cell_type": "code",
   "execution_count": 7,
   "metadata": {},
   "outputs": [
    {
     "output_type": "execute_result",
     "data": {
      "text/plain": [
       "면적    object\n",
       "dtype: object"
      ]
     },
     "metadata": {},
     "execution_count": 7
    }
   ],
   "source": [
    "park[['면적']].dtypes"
   ]
  },
  {
   "cell_type": "code",
   "execution_count": 8,
   "metadata": {},
   "outputs": [
    {
     "output_type": "execute_result",
     "data": {
      "text/plain": [
       "array([['2896887㎡ 임 야 : 2454140㎡ 녹지대 및 기타시설 : 442747㎡'],\n",
       "       ['80683㎡'],\n",
       "       ['9132690m²'],\n",
       "       ['480994㎡'],\n",
       "       ['2284085㎡'],\n",
       "       ['8948.1㎡'],\n",
       "       ['휴양 및 편익시설 : 평의자 7개 화장실 23.18㎡ 조경시설 - 은하폭포(높이 12m × 폭10m 발원지로부터 17.3m 폭 1.5 ~ 10m 수조 255㎡ 담수량 140t) - 산성폭포(높이 5m×폭 12m 수조 90㎡ 담수량 75t)- 명속의 벽 1개소(높이 5.4m) 교양시설 : 야외공연무대 102㎡ 관리시설 : 관리실 8.55㎡ 전기실 51.03㎡ 기계실 83.36㎡ 안내판 1개 공원 등 18본 휴양시설 : 벤취 12개 '],\n",
       "       ['6456㎥'],\n",
       "       ['80309㎡ 배수지 시설용량 : 201.000㎥ 송수 펌프용량 : 직송급수계통 30000㎥/일 금호배수지계통 16400㎥/일 '],\n",
       "       ['1980.4㎡   ']], dtype=object)"
      ]
     },
     "metadata": {},
     "execution_count": 8
    }
   ],
   "source": [
    "\n",
    "park[['면적']].to_numpy()[:10]"
   ]
  },
  {
   "source": [
    "## 중간에 NaN값이 섞여있어서  'float' object is not subscriptable 오류 발생\n",
    "## 파이썬에서 NaN값은 Float이다\n",
    "### 그러므로 오류를 피하기 위해서는 fillna() 메소드로 NaN값을 없애주고 시작하거나 (여전히 타입 오류가 발생할 수 있다) dropna()로 행을 다 날려버리던지, nan값 있는 행을 살리고 싶다면 따로 값을 넣어주던지 해서 진행한다"
   ],
   "cell_type": "markdown",
   "metadata": {}
  },
  {
   "cell_type": "code",
   "execution_count": 9,
   "metadata": {},
   "outputs": [],
   "source": [
    "park_w_nan = park.copy()"
   ]
  },
  {
   "cell_type": "code",
   "execution_count": 10,
   "metadata": {},
   "outputs": [],
   "source": [
    "park = park.dropna(axis=0)"
   ]
  },
  {
   "source": [
    "먼저 : 를 기준으로 나누기"
   ],
   "cell_type": "markdown",
   "metadata": {}
  },
  {
   "cell_type": "code",
   "execution_count": 11,
   "metadata": {},
   "outputs": [
    {
     "output_type": "execute_result",
     "data": {
      "text/plain": [
       "              공원    지역                          공원주소        lat         lng  \\\n",
       "0       남산도시자연공원    중구        서울특별시 중구 삼일대로 231(예장동)  37.550140  126.990377   \n",
       "1         길동생태공원   강동구  서울특별시 강동구 천호대로 1291(길동생태공원)   37.540394  127.154779   \n",
       "2          서울대공원   과천시            경기도 과천시 대공원광장로 102  37.426449  127.019847   \n",
       "3            서울숲   성동구    서울특별시 성동구 뚝섬로 273 (성수동1가)   37.543072  127.041798   \n",
       "4          월드컵공원   마포구     서울특별시 마포구 하늘공원로 84(월드컵공원)  37.571805  126.878907   \n",
       "5      광화문시민열린마당   종로구            서울특별시 종로구 세종로 76-2  37.575045  126.978023   \n",
       "6  진관근린공원(구파발폭포)   은평구             서울특별시 은평구 진관동 393  37.637024  126.919216   \n",
       "7        중마루근린공원  영등포구         서울특별시 영등포구 영등포동2가 222  37.519832  126.911267   \n",
       "8           응봉공원   성동구         서울특별시 성동구 금호동1가 산1-72  37.557228  127.021765   \n",
       "9         매화근린공원   강서구          서울특별시 강서구 등촌동 630-14  37.557583  126.861150   \n",
       "\n",
       "                                                  면적  \n",
       "0       2896887㎡ 임 야 : 2454140㎡ 녹지대 및 기타시설 : 442747㎡  \n",
       "1                                             80683㎡  \n",
       "2                                          9132690m²  \n",
       "3                                            480994㎡  \n",
       "4                                           2284085㎡  \n",
       "5                                            8948.1㎡  \n",
       "6  휴양 및 편익시설 : 평의자 7개 화장실 23.18㎡ 조경시설 - 은하폭포(높이 1...  \n",
       "7                                              6456㎥  \n",
       "8  80309㎡ 배수지 시설용량 : 201.000㎥ 송수 펌프용량 : 직송급수계통 30...  \n",
       "9                                         1980.4㎡     "
      ],
      "text/html": "<div>\n<style scoped>\n    .dataframe tbody tr th:only-of-type {\n        vertical-align: middle;\n    }\n\n    .dataframe tbody tr th {\n        vertical-align: top;\n    }\n\n    .dataframe thead th {\n        text-align: right;\n    }\n</style>\n<table border=\"1\" class=\"dataframe\">\n  <thead>\n    <tr style=\"text-align: right;\">\n      <th></th>\n      <th>공원</th>\n      <th>지역</th>\n      <th>공원주소</th>\n      <th>lat</th>\n      <th>lng</th>\n      <th>면적</th>\n    </tr>\n  </thead>\n  <tbody>\n    <tr>\n      <th>0</th>\n      <td>남산도시자연공원</td>\n      <td>중구</td>\n      <td>서울특별시 중구 삼일대로 231(예장동)</td>\n      <td>37.550140</td>\n      <td>126.990377</td>\n      <td>2896887㎡ 임 야 : 2454140㎡ 녹지대 및 기타시설 : 442747㎡</td>\n    </tr>\n    <tr>\n      <th>1</th>\n      <td>길동생태공원</td>\n      <td>강동구</td>\n      <td>서울특별시 강동구 천호대로 1291(길동생태공원)</td>\n      <td>37.540394</td>\n      <td>127.154779</td>\n      <td>80683㎡</td>\n    </tr>\n    <tr>\n      <th>2</th>\n      <td>서울대공원</td>\n      <td>과천시</td>\n      <td>경기도 과천시 대공원광장로 102</td>\n      <td>37.426449</td>\n      <td>127.019847</td>\n      <td>9132690m²</td>\n    </tr>\n    <tr>\n      <th>3</th>\n      <td>서울숲</td>\n      <td>성동구</td>\n      <td>서울특별시 성동구 뚝섬로 273 (성수동1가)</td>\n      <td>37.543072</td>\n      <td>127.041798</td>\n      <td>480994㎡</td>\n    </tr>\n    <tr>\n      <th>4</th>\n      <td>월드컵공원</td>\n      <td>마포구</td>\n      <td>서울특별시 마포구 하늘공원로 84(월드컵공원)</td>\n      <td>37.571805</td>\n      <td>126.878907</td>\n      <td>2284085㎡</td>\n    </tr>\n    <tr>\n      <th>5</th>\n      <td>광화문시민열린마당</td>\n      <td>종로구</td>\n      <td>서울특별시 종로구 세종로 76-2</td>\n      <td>37.575045</td>\n      <td>126.978023</td>\n      <td>8948.1㎡</td>\n    </tr>\n    <tr>\n      <th>6</th>\n      <td>진관근린공원(구파발폭포)</td>\n      <td>은평구</td>\n      <td>서울특별시 은평구 진관동 393</td>\n      <td>37.637024</td>\n      <td>126.919216</td>\n      <td>휴양 및 편익시설 : 평의자 7개 화장실 23.18㎡ 조경시설 - 은하폭포(높이 1...</td>\n    </tr>\n    <tr>\n      <th>7</th>\n      <td>중마루근린공원</td>\n      <td>영등포구</td>\n      <td>서울특별시 영등포구 영등포동2가 222</td>\n      <td>37.519832</td>\n      <td>126.911267</td>\n      <td>6456㎥</td>\n    </tr>\n    <tr>\n      <th>8</th>\n      <td>응봉공원</td>\n      <td>성동구</td>\n      <td>서울특별시 성동구 금호동1가 산1-72</td>\n      <td>37.557228</td>\n      <td>127.021765</td>\n      <td>80309㎡ 배수지 시설용량 : 201.000㎥ 송수 펌프용량 : 직송급수계통 30...</td>\n    </tr>\n    <tr>\n      <th>9</th>\n      <td>매화근린공원</td>\n      <td>강서구</td>\n      <td>서울특별시 강서구 등촌동 630-14</td>\n      <td>37.557583</td>\n      <td>126.861150</td>\n      <td>1980.4㎡</td>\n    </tr>\n  </tbody>\n</table>\n</div>"
     },
     "metadata": {},
     "execution_count": 11
    }
   ],
   "source": [
    "park.head(10)"
   ]
  },
  {
   "cell_type": "code",
   "execution_count": 12,
   "metadata": {},
   "outputs": [
    {
     "output_type": "execute_result",
     "data": {
      "text/plain": [
       "         공원   지역                          공원주소        lat         lng  \\\n",
       "0  남산도시자연공원   중구        서울특별시 중구 삼일대로 231(예장동)  37.550140  126.990377   \n",
       "1    길동생태공원  강동구  서울특별시 강동구 천호대로 1291(길동생태공원)   37.540394  127.154779   \n",
       "2     서울대공원  과천시            경기도 과천시 대공원광장로 102  37.426449  127.019847   \n",
       "3       서울숲  성동구    서울특별시 성동구 뚝섬로 273 (성수동1가)   37.543072  127.041798   \n",
       "4     월드컵공원  마포구     서울특별시 마포구 하늘공원로 84(월드컵공원)  37.571805  126.878907   \n",
       "\n",
       "                                                 면적  \n",
       "0  [2896887㎡ 임 야 ,  2454140㎡ 녹지대 및 기타시설 ,  442747㎡]  \n",
       "1                                          [80683㎡]  \n",
       "2                                       [9132690m²]  \n",
       "3                                         [480994㎡]  \n",
       "4                                        [2284085㎡]  "
      ],
      "text/html": "<div>\n<style scoped>\n    .dataframe tbody tr th:only-of-type {\n        vertical-align: middle;\n    }\n\n    .dataframe tbody tr th {\n        vertical-align: top;\n    }\n\n    .dataframe thead th {\n        text-align: right;\n    }\n</style>\n<table border=\"1\" class=\"dataframe\">\n  <thead>\n    <tr style=\"text-align: right;\">\n      <th></th>\n      <th>공원</th>\n      <th>지역</th>\n      <th>공원주소</th>\n      <th>lat</th>\n      <th>lng</th>\n      <th>면적</th>\n    </tr>\n  </thead>\n  <tbody>\n    <tr>\n      <th>0</th>\n      <td>남산도시자연공원</td>\n      <td>중구</td>\n      <td>서울특별시 중구 삼일대로 231(예장동)</td>\n      <td>37.550140</td>\n      <td>126.990377</td>\n      <td>[2896887㎡ 임 야 ,  2454140㎡ 녹지대 및 기타시설 ,  442747㎡]</td>\n    </tr>\n    <tr>\n      <th>1</th>\n      <td>길동생태공원</td>\n      <td>강동구</td>\n      <td>서울특별시 강동구 천호대로 1291(길동생태공원)</td>\n      <td>37.540394</td>\n      <td>127.154779</td>\n      <td>[80683㎡]</td>\n    </tr>\n    <tr>\n      <th>2</th>\n      <td>서울대공원</td>\n      <td>과천시</td>\n      <td>경기도 과천시 대공원광장로 102</td>\n      <td>37.426449</td>\n      <td>127.019847</td>\n      <td>[9132690m²]</td>\n    </tr>\n    <tr>\n      <th>3</th>\n      <td>서울숲</td>\n      <td>성동구</td>\n      <td>서울특별시 성동구 뚝섬로 273 (성수동1가)</td>\n      <td>37.543072</td>\n      <td>127.041798</td>\n      <td>[480994㎡]</td>\n    </tr>\n    <tr>\n      <th>4</th>\n      <td>월드컵공원</td>\n      <td>마포구</td>\n      <td>서울특별시 마포구 하늘공원로 84(월드컵공원)</td>\n      <td>37.571805</td>\n      <td>126.878907</td>\n      <td>[2284085㎡]</td>\n    </tr>\n  </tbody>\n</table>\n</div>"
     },
     "metadata": {},
     "execution_count": 12
    }
   ],
   "source": [
    "park['면적'] = park['면적'].str.split(':')\n",
    "park.head()"
   ]
  },
  {
   "source": [
    "park['면적'] = park.apply(lambda r: r['면적'][0], axis=1)"
   ],
   "cell_type": "code",
   "metadata": {},
   "execution_count": 13,
   "outputs": []
  },
  {
   "source": [
    "정규표현식으로 숫자만 가져오기"
   ],
   "cell_type": "markdown",
   "metadata": {}
  },
  {
   "cell_type": "code",
   "execution_count": 14,
   "metadata": {},
   "outputs": [
    {
     "output_type": "execute_result",
     "data": {
      "text/plain": [
       "                  공원   지역                           공원주소        lat  \\\n",
       "125           숭인근린공원  종로구               서울특별시 종로구 숭인동 58  37.576442   \n",
       "126          서일대뒷산공원  중랑구              서울특별시 중랑구 면목동 산19  37.587716   \n",
       "127  용마도시자연공원(사가정공원)  중랑구            서울특별시 중랑구 면목7동 산50   37.579762   \n",
       "128           문화비축기지  마포구               서울특별시 마포구 증산로 87  37.571718   \n",
       "130             율현공원  강남구  서울특별시 강남구 율현동 밤고개로24길(율현동 56)  37.472332   \n",
       "\n",
       "            lng        면적  \n",
       "125  127.017827   45615㎡   \n",
       "126  127.098782  631021㎡   \n",
       "127  127.095997  109635㎡   \n",
       "128  126.893245   140022㎡  \n",
       "130  127.115594   157535㎡  "
      ],
      "text/html": "<div>\n<style scoped>\n    .dataframe tbody tr th:only-of-type {\n        vertical-align: middle;\n    }\n\n    .dataframe tbody tr th {\n        vertical-align: top;\n    }\n\n    .dataframe thead th {\n        text-align: right;\n    }\n</style>\n<table border=\"1\" class=\"dataframe\">\n  <thead>\n    <tr style=\"text-align: right;\">\n      <th></th>\n      <th>공원</th>\n      <th>지역</th>\n      <th>공원주소</th>\n      <th>lat</th>\n      <th>lng</th>\n      <th>면적</th>\n    </tr>\n  </thead>\n  <tbody>\n    <tr>\n      <th>125</th>\n      <td>숭인근린공원</td>\n      <td>종로구</td>\n      <td>서울특별시 종로구 숭인동 58</td>\n      <td>37.576442</td>\n      <td>127.017827</td>\n      <td>45615㎡</td>\n    </tr>\n    <tr>\n      <th>126</th>\n      <td>서일대뒷산공원</td>\n      <td>중랑구</td>\n      <td>서울특별시 중랑구 면목동 산19</td>\n      <td>37.587716</td>\n      <td>127.098782</td>\n      <td>631021㎡</td>\n    </tr>\n    <tr>\n      <th>127</th>\n      <td>용마도시자연공원(사가정공원)</td>\n      <td>중랑구</td>\n      <td>서울특별시 중랑구 면목7동 산50</td>\n      <td>37.579762</td>\n      <td>127.095997</td>\n      <td>109635㎡</td>\n    </tr>\n    <tr>\n      <th>128</th>\n      <td>문화비축기지</td>\n      <td>마포구</td>\n      <td>서울특별시 마포구 증산로 87</td>\n      <td>37.571718</td>\n      <td>126.893245</td>\n      <td>140022㎡</td>\n    </tr>\n    <tr>\n      <th>130</th>\n      <td>율현공원</td>\n      <td>강남구</td>\n      <td>서울특별시 강남구 율현동 밤고개로24길(율현동 56)</td>\n      <td>37.472332</td>\n      <td>127.115594</td>\n      <td>157535㎡</td>\n    </tr>\n  </tbody>\n</table>\n</div>"
     },
     "metadata": {},
     "execution_count": 14
    }
   ],
   "source": [
    "park.tail()"
   ]
  },
  {
   "cell_type": "code",
   "execution_count": 15,
   "metadata": {},
   "outputs": [],
   "source": [
    "import re\n",
    "park['면적'] = park.apply(lambda r: re.findall('[0-9]+', r['면적']), axis=1)\n"
   ]
  },
  {
   "cell_type": "code",
   "execution_count": 16,
   "metadata": {},
   "outputs": [
    {
     "output_type": "execute_result",
     "data": {
      "text/plain": [
       "(array([], dtype=int32), array([], dtype=int32))"
      ]
     },
     "metadata": {},
     "execution_count": 16
    }
   ],
   "source": [
    "np.where(park.isna())"
   ]
  },
  {
   "cell_type": "code",
   "execution_count": 17,
   "metadata": {},
   "outputs": [
    {
     "output_type": "execute_result",
     "data": {
      "text/plain": [
       "                  공원   지역                           공원주소        lat  \\\n",
       "0           남산도시자연공원   중구         서울특별시 중구 삼일대로 231(예장동)  37.550140   \n",
       "1             길동생태공원  강동구   서울특별시 강동구 천호대로 1291(길동생태공원)   37.540394   \n",
       "2              서울대공원  과천시             경기도 과천시 대공원광장로 102  37.426449   \n",
       "3                서울숲  성동구     서울특별시 성동구 뚝섬로 273 (성수동1가)   37.543072   \n",
       "4              월드컵공원  마포구      서울특별시 마포구 하늘공원로 84(월드컵공원)  37.571805   \n",
       "..               ...  ...                            ...        ...   \n",
       "125           숭인근린공원  종로구               서울특별시 종로구 숭인동 58  37.576442   \n",
       "126          서일대뒷산공원  중랑구              서울특별시 중랑구 면목동 산19  37.587716   \n",
       "127  용마도시자연공원(사가정공원)  중랑구            서울특별시 중랑구 면목7동 산50   37.579762   \n",
       "128           문화비축기지  마포구               서울특별시 마포구 증산로 87  37.571718   \n",
       "130             율현공원  강남구  서울특별시 강남구 율현동 밤고개로24길(율현동 56)  37.472332   \n",
       "\n",
       "            lng         면적  \n",
       "0    126.990377  [2896887]  \n",
       "1    127.154779    [80683]  \n",
       "2    127.019847  [9132690]  \n",
       "3    127.041798   [480994]  \n",
       "4    126.878907  [2284085]  \n",
       "..          ...        ...  \n",
       "125  127.017827    [45615]  \n",
       "126  127.098782   [631021]  \n",
       "127  127.095997   [109635]  \n",
       "128  126.893245   [140022]  \n",
       "130  127.115594   [157535]  \n",
       "\n",
       "[128 rows x 6 columns]"
      ],
      "text/html": "<div>\n<style scoped>\n    .dataframe tbody tr th:only-of-type {\n        vertical-align: middle;\n    }\n\n    .dataframe tbody tr th {\n        vertical-align: top;\n    }\n\n    .dataframe thead th {\n        text-align: right;\n    }\n</style>\n<table border=\"1\" class=\"dataframe\">\n  <thead>\n    <tr style=\"text-align: right;\">\n      <th></th>\n      <th>공원</th>\n      <th>지역</th>\n      <th>공원주소</th>\n      <th>lat</th>\n      <th>lng</th>\n      <th>면적</th>\n    </tr>\n  </thead>\n  <tbody>\n    <tr>\n      <th>0</th>\n      <td>남산도시자연공원</td>\n      <td>중구</td>\n      <td>서울특별시 중구 삼일대로 231(예장동)</td>\n      <td>37.550140</td>\n      <td>126.990377</td>\n      <td>[2896887]</td>\n    </tr>\n    <tr>\n      <th>1</th>\n      <td>길동생태공원</td>\n      <td>강동구</td>\n      <td>서울특별시 강동구 천호대로 1291(길동생태공원)</td>\n      <td>37.540394</td>\n      <td>127.154779</td>\n      <td>[80683]</td>\n    </tr>\n    <tr>\n      <th>2</th>\n      <td>서울대공원</td>\n      <td>과천시</td>\n      <td>경기도 과천시 대공원광장로 102</td>\n      <td>37.426449</td>\n      <td>127.019847</td>\n      <td>[9132690]</td>\n    </tr>\n    <tr>\n      <th>3</th>\n      <td>서울숲</td>\n      <td>성동구</td>\n      <td>서울특별시 성동구 뚝섬로 273 (성수동1가)</td>\n      <td>37.543072</td>\n      <td>127.041798</td>\n      <td>[480994]</td>\n    </tr>\n    <tr>\n      <th>4</th>\n      <td>월드컵공원</td>\n      <td>마포구</td>\n      <td>서울특별시 마포구 하늘공원로 84(월드컵공원)</td>\n      <td>37.571805</td>\n      <td>126.878907</td>\n      <td>[2284085]</td>\n    </tr>\n    <tr>\n      <th>...</th>\n      <td>...</td>\n      <td>...</td>\n      <td>...</td>\n      <td>...</td>\n      <td>...</td>\n      <td>...</td>\n    </tr>\n    <tr>\n      <th>125</th>\n      <td>숭인근린공원</td>\n      <td>종로구</td>\n      <td>서울특별시 종로구 숭인동 58</td>\n      <td>37.576442</td>\n      <td>127.017827</td>\n      <td>[45615]</td>\n    </tr>\n    <tr>\n      <th>126</th>\n      <td>서일대뒷산공원</td>\n      <td>중랑구</td>\n      <td>서울특별시 중랑구 면목동 산19</td>\n      <td>37.587716</td>\n      <td>127.098782</td>\n      <td>[631021]</td>\n    </tr>\n    <tr>\n      <th>127</th>\n      <td>용마도시자연공원(사가정공원)</td>\n      <td>중랑구</td>\n      <td>서울특별시 중랑구 면목7동 산50</td>\n      <td>37.579762</td>\n      <td>127.095997</td>\n      <td>[109635]</td>\n    </tr>\n    <tr>\n      <th>128</th>\n      <td>문화비축기지</td>\n      <td>마포구</td>\n      <td>서울특별시 마포구 증산로 87</td>\n      <td>37.571718</td>\n      <td>126.893245</td>\n      <td>[140022]</td>\n    </tr>\n    <tr>\n      <th>130</th>\n      <td>율현공원</td>\n      <td>강남구</td>\n      <td>서울특별시 강남구 율현동 밤고개로24길(율현동 56)</td>\n      <td>37.472332</td>\n      <td>127.115594</td>\n      <td>[157535]</td>\n    </tr>\n  </tbody>\n</table>\n<p>128 rows × 6 columns</p>\n</div>"
     },
     "metadata": {},
     "execution_count": 17
    }
   ],
   "source": [
    "park"
   ]
  },
  {
   "source": [
    "## 구별 인구수 데이터 + 인구 데이터"
   ],
   "cell_type": "markdown",
   "metadata": {}
  },
  {
   "cell_type": "code",
   "execution_count": 46,
   "metadata": {},
   "outputs": [
    {
     "output_type": "execute_result",
     "data": {
      "text/plain": [
       "   자치구       세대       인구\n",
       "0  종로구   74,861  159,842\n",
       "1   중구   63,594  135,321\n",
       "2  용산구  112,451  244,953\n",
       "3  성동구  136,096  302,695\n",
       "4  광진구  166,857  361,923"
      ],
      "text/html": "<div>\n<style scoped>\n    .dataframe tbody tr th:only-of-type {\n        vertical-align: middle;\n    }\n\n    .dataframe tbody tr th {\n        vertical-align: top;\n    }\n\n    .dataframe thead th {\n        text-align: right;\n    }\n</style>\n<table border=\"1\" class=\"dataframe\">\n  <thead>\n    <tr style=\"text-align: right;\">\n      <th></th>\n      <th>자치구</th>\n      <th>세대</th>\n      <th>인구</th>\n    </tr>\n  </thead>\n  <tbody>\n    <tr>\n      <th>0</th>\n      <td>종로구</td>\n      <td>74,861</td>\n      <td>159,842</td>\n    </tr>\n    <tr>\n      <th>1</th>\n      <td>중구</td>\n      <td>63,594</td>\n      <td>135,321</td>\n    </tr>\n    <tr>\n      <th>2</th>\n      <td>용산구</td>\n      <td>112,451</td>\n      <td>244,953</td>\n    </tr>\n    <tr>\n      <th>3</th>\n      <td>성동구</td>\n      <td>136,096</td>\n      <td>302,695</td>\n    </tr>\n    <tr>\n      <th>4</th>\n      <td>광진구</td>\n      <td>166,857</td>\n      <td>361,923</td>\n    </tr>\n  </tbody>\n</table>\n</div>"
     },
     "metadata": {},
     "execution_count": 46
    }
   ],
   "source": [
    "pop20 = pd.read_csv('인구수.txt', delimiter = '\\t', encoding='utf8', thousands=',')\n",
    "pop20 = pop20.iloc[3:,:4]\n",
    "del pop20['기간']\n",
    "pop20.reset_index(inplace=True)\n",
    "del pop20['index']\n",
    "pop20.head()"
   ]
  },
  {
   "cell_type": "code",
   "execution_count": 47,
   "metadata": {},
   "outputs": [],
   "source": [
    "# thousand 또 안먹음\n",
    "pop20.iloc[:,1:] = pop20.iloc[:,1:].apply(lambda r: r.str.replace(',' , '').astype('int64') ,axis = 1)"
   ]
  },
  {
   "source": [
    "DF 행 추가, 사실 앞에서 dropna()로 없애버려서 필요는 없지만 행 추가하는 방법에 append(dictionary) 도 있다는 걸 보기 위해 남김"
   ],
   "cell_type": "markdown",
   "metadata": {}
  },
  {
   "cell_type": "code",
   "execution_count": 48,
   "metadata": {},
   "outputs": [
    {
     "output_type": "execute_result",
     "data": {
      "text/plain": [
       "    자치구      세대      인구\n",
       "21  서초구  173483  429995\n",
       "22  강남구  234021  544085\n",
       "23  송파구  281417  676673\n",
       "24  강동구  194602  462275\n",
       "25  과천시   22631   61309"
      ],
      "text/html": "<div>\n<style scoped>\n    .dataframe tbody tr th:only-of-type {\n        vertical-align: middle;\n    }\n\n    .dataframe tbody tr th {\n        vertical-align: top;\n    }\n\n    .dataframe thead th {\n        text-align: right;\n    }\n</style>\n<table border=\"1\" class=\"dataframe\">\n  <thead>\n    <tr style=\"text-align: right;\">\n      <th></th>\n      <th>자치구</th>\n      <th>세대</th>\n      <th>인구</th>\n    </tr>\n  </thead>\n  <tbody>\n    <tr>\n      <th>21</th>\n      <td>서초구</td>\n      <td>173483</td>\n      <td>429995</td>\n    </tr>\n    <tr>\n      <th>22</th>\n      <td>강남구</td>\n      <td>234021</td>\n      <td>544085</td>\n    </tr>\n    <tr>\n      <th>23</th>\n      <td>송파구</td>\n      <td>281417</td>\n      <td>676673</td>\n    </tr>\n    <tr>\n      <th>24</th>\n      <td>강동구</td>\n      <td>194602</td>\n      <td>462275</td>\n    </tr>\n    <tr>\n      <th>25</th>\n      <td>과천시</td>\n      <td>22631</td>\n      <td>61309</td>\n    </tr>\n  </tbody>\n</table>\n</div>"
     },
     "metadata": {},
     "execution_count": 48
    }
   ],
   "source": [
    "# 누락된 과천시 데이터 추가.\n",
    "pop20 = pop20.append({'자치구' : '과천시' , '세대' : 22631, '인구' : 61309} , ignore_index=True)\n",
    "pop20.tail()"
   ]
  },
  {
   "cell_type": "code",
   "execution_count": 49,
   "metadata": {},
   "outputs": [],
   "source": [
    "pop20.rename(columns={\n",
    "    '자치구':'지역'\n",
    "},inplace=True)"
   ]
  },
  {
   "cell_type": "code",
   "execution_count": 50,
   "metadata": {},
   "outputs": [
    {
     "output_type": "execute_result",
     "data": {
      "text/plain": [
       "    지역      세대      인구\n",
       "0  종로구   74861  159842\n",
       "1   중구   63594  135321\n",
       "2  용산구  112451  244953\n",
       "3  성동구  136096  302695\n",
       "4  광진구  166857  361923"
      ],
      "text/html": "<div>\n<style scoped>\n    .dataframe tbody tr th:only-of-type {\n        vertical-align: middle;\n    }\n\n    .dataframe tbody tr th {\n        vertical-align: top;\n    }\n\n    .dataframe thead th {\n        text-align: right;\n    }\n</style>\n<table border=\"1\" class=\"dataframe\">\n  <thead>\n    <tr style=\"text-align: right;\">\n      <th></th>\n      <th>지역</th>\n      <th>세대</th>\n      <th>인구</th>\n    </tr>\n  </thead>\n  <tbody>\n    <tr>\n      <th>0</th>\n      <td>종로구</td>\n      <td>74861</td>\n      <td>159842</td>\n    </tr>\n    <tr>\n      <th>1</th>\n      <td>중구</td>\n      <td>63594</td>\n      <td>135321</td>\n    </tr>\n    <tr>\n      <th>2</th>\n      <td>용산구</td>\n      <td>112451</td>\n      <td>244953</td>\n    </tr>\n    <tr>\n      <th>3</th>\n      <td>성동구</td>\n      <td>136096</td>\n      <td>302695</td>\n    </tr>\n    <tr>\n      <th>4</th>\n      <td>광진구</td>\n      <td>166857</td>\n      <td>361923</td>\n    </tr>\n  </tbody>\n</table>\n</div>"
     },
     "metadata": {},
     "execution_count": 50
    }
   ],
   "source": [
    "pop20.head()"
   ]
  },
  {
   "cell_type": "code",
   "execution_count": 51,
   "metadata": {},
   "outputs": [
    {
     "output_type": "execute_result",
     "data": {
      "text/plain": [
       "         공원   지역                          공원주소        lat         lng  \\\n",
       "0  남산도시자연공원   중구        서울특별시 중구 삼일대로 231(예장동)  37.550140  126.990377   \n",
       "1    길동생태공원  강동구  서울특별시 강동구 천호대로 1291(길동생태공원)   37.540394  127.154779   \n",
       "2     서울대공원  과천시            경기도 과천시 대공원광장로 102  37.426449  127.019847   \n",
       "3       서울숲  성동구    서울특별시 성동구 뚝섬로 273 (성수동1가)   37.543072  127.041798   \n",
       "4     월드컵공원  마포구     서울특별시 마포구 하늘공원로 84(월드컵공원)  37.571805  126.878907   \n",
       "\n",
       "          면적      세대      인구  \n",
       "0  [2896887]   63594  135321  \n",
       "1    [80683]  194602  462275  \n",
       "2  [9132690]   22631   61309  \n",
       "3   [480994]  136096  302695  \n",
       "4  [2284085]  178495  383494  "
      ],
      "text/html": "<div>\n<style scoped>\n    .dataframe tbody tr th:only-of-type {\n        vertical-align: middle;\n    }\n\n    .dataframe tbody tr th {\n        vertical-align: top;\n    }\n\n    .dataframe thead th {\n        text-align: right;\n    }\n</style>\n<table border=\"1\" class=\"dataframe\">\n  <thead>\n    <tr style=\"text-align: right;\">\n      <th></th>\n      <th>공원</th>\n      <th>지역</th>\n      <th>공원주소</th>\n      <th>lat</th>\n      <th>lng</th>\n      <th>면적</th>\n      <th>세대</th>\n      <th>인구</th>\n    </tr>\n  </thead>\n  <tbody>\n    <tr>\n      <th>0</th>\n      <td>남산도시자연공원</td>\n      <td>중구</td>\n      <td>서울특별시 중구 삼일대로 231(예장동)</td>\n      <td>37.550140</td>\n      <td>126.990377</td>\n      <td>[2896887]</td>\n      <td>63594</td>\n      <td>135321</td>\n    </tr>\n    <tr>\n      <th>1</th>\n      <td>길동생태공원</td>\n      <td>강동구</td>\n      <td>서울특별시 강동구 천호대로 1291(길동생태공원)</td>\n      <td>37.540394</td>\n      <td>127.154779</td>\n      <td>[80683]</td>\n      <td>194602</td>\n      <td>462275</td>\n    </tr>\n    <tr>\n      <th>2</th>\n      <td>서울대공원</td>\n      <td>과천시</td>\n      <td>경기도 과천시 대공원광장로 102</td>\n      <td>37.426449</td>\n      <td>127.019847</td>\n      <td>[9132690]</td>\n      <td>22631</td>\n      <td>61309</td>\n    </tr>\n    <tr>\n      <th>3</th>\n      <td>서울숲</td>\n      <td>성동구</td>\n      <td>서울특별시 성동구 뚝섬로 273 (성수동1가)</td>\n      <td>37.543072</td>\n      <td>127.041798</td>\n      <td>[480994]</td>\n      <td>136096</td>\n      <td>302695</td>\n    </tr>\n    <tr>\n      <th>4</th>\n      <td>월드컵공원</td>\n      <td>마포구</td>\n      <td>서울특별시 마포구 하늘공원로 84(월드컵공원)</td>\n      <td>37.571805</td>\n      <td>126.878907</td>\n      <td>[2284085]</td>\n      <td>178495</td>\n      <td>383494</td>\n    </tr>\n  </tbody>\n</table>\n</div>"
     },
     "metadata": {},
     "execution_count": 51
    }
   ],
   "source": [
    "result = pd.merge(park, pop20, how = 'left', on = '지역')\n",
    "result.head()"
   ]
  },
  {
   "cell_type": "code",
   "execution_count": 52,
   "metadata": {},
   "outputs": [
    {
     "output_type": "execute_result",
     "data": {
      "text/plain": [
       "(array([], dtype=int32), array([], dtype=int32))"
      ]
     },
     "metadata": {},
     "execution_count": 52
    }
   ],
   "source": [
    "np.where(result.isna())"
   ]
  },
  {
   "cell_type": "code",
   "execution_count": 53,
   "metadata": {},
   "outputs": [
    {
     "output_type": "execute_result",
     "data": {
      "text/plain": [
       "array(['남산도시자연공원', '길동생태공원', '서울대공원', '서울숲', '월드컵공원', '광화문시민열린마당',\n",
       "       '진관근린공원(구파발폭포)', '중마루근린공원', '응봉공원', '매화근린공원', '성수근린공원', '샛마을근린공원',\n",
       "       '여의도근린공원', '간데메근린공원', '훈련원근린공원', '영등포근린공원', '보라매근린공원', '어린이대공원',\n",
       "       '천호근린공원', '용산가족공원', '독립근린공원', '낙산근린공원', '양재시민의숲', '관악산도시자연공원',\n",
       "       '효창근린공원', '감로천생태공원(관악산)', '개운산근린공원', '개웅산근린공원', '경희궁', '국립현충원',\n",
       "       '계남근린공원', '고척근린공원', '파리근린공원', '허준공원', '궁동근린공원', '궁산근린공원',\n",
       "       '까치산근린공원', '꿩고개근린공원', '노량진공원', '답십리근린공원', '대모산도시자연공원', '탑골근린공원',\n",
       "       '갈산근린공원', '천마근린공원', '도곡근린공원', '도산근린공원', '청량공원', '초안산근린공원',\n",
       "       '동명근린공원', '마로니에공원', '자매근린공원', '장지근린공원', '명일근린공원', '방화근린공원',\n",
       "       '아시아근린공원', '배봉산근린공원', '안산도시자연공원', '염창근린공원', '백련근린공원', '오금근린공원',\n",
       "       '오동근린공원', '봉산도시자연공원', '온수도시자연공원', '봉은공원', '올림픽공원', '와룡근린공원',\n",
       "       '봉화산근린공원', '북악산도시자연공원', '북한산국립공원', '외국인묘지공원', '불광근린공원',\n",
       "       '불암산도시자연공원', '용마폭포공원', '사육신공원', '용왕산근린공원', '사직근린공원', '우장산근린공원',\n",
       "       '삼일근린공원', '삼청근린공원', '인왕산도시자연공원', '상도근린공원', '일자산도시자연공원', '쌍문근린공원',\n",
       "       '수락산도시자연공원', '송파나루근린공원(석촌호수)', '선유도근린공원', '손기정체육공원', '성북근린공원',\n",
       "       '봉제산공원', '서울창포원', '북서울꿈의숲', '서서울호수공원', '중랑캠핑숲', '솔밭근린공원',\n",
       "       '금천체육공원(관악산)', '금천폭포근린공원', '만수천공원(관악산)', '발바닥공원', '월천근린공원',\n",
       "       '용두근린공원', '상암근린공원', '와우근린공원', '금호근린공원', '달맞이근린공원', '문정근린공원',\n",
       "       '문화예술공원', '세종로공원', '샘말공원(관악산)', '초안산생태공원', '서오능도시자연공원',\n",
       "       '청계산도시자연공원', '개화근린공원', '아차산생태공원', '인능산도시자연공원', '구룡산', '우면산도시자연공원',\n",
       "       '향림근린공원', '신사근린공원', '광평근린공원', '청담근린공원', '허브천문공원', '연신내물빛공원',\n",
       "       '나들이근린공원', '숭인근린공원', '서일대뒷산공원', '용마도시자연공원(사가정공원)', '문화비축기지',\n",
       "       '율현공원'], dtype=object)"
      ]
     },
     "metadata": {},
     "execution_count": 53
    }
   ],
   "source": [
    "result['공원'].unique()"
   ]
  },
  {
   "cell_type": "code",
   "execution_count": 54,
   "metadata": {},
   "outputs": [
    {
     "output_type": "execute_result",
     "data": {
      "text/plain": [
       "array([list(['2896887']), list(['80683']), list(['9132690']),\n",
       "       list(['480994']), list(['2284085']), list(['8948', '1']), list([]),\n",
       "       list(['6456']), list(['80309']), list(['1980', '4']),\n",
       "       list(['5197', '7']), list(['11467']), list(['229539']),\n",
       "       list(['15179', '7']), list(['16734', '60']), list(['61544']),\n",
       "       list(['424106']), list(['560552']), list(['26696', '8']),\n",
       "       list(['75900']), list(['113021', '7', '2']), list(['201779']),\n",
       "       list(['258991']), list(['10420819', '08']), list(['171294', '1']),\n",
       "       list(['15000']), list(['297926']), list(['411972']),\n",
       "       list(['98470']), list(['2038741', '3']), list(['603715', '2']),\n",
       "       list(['108120']), list(['29619', '3']), list(['29843', '8']),\n",
       "       list(['126026']), list(['135002', '7']), list(['384026']),\n",
       "       list(['180000']), list(['416031']), list(['160720']),\n",
       "       list(['2277252']), list(['19599', '70']), list(['138596']),\n",
       "       list(['185295']), list(['254648']), list(['29816', '5']),\n",
       "       list(['762642']), list(['664905']), list(['99599', '9']),\n",
       "       list(['5802']), list(['16500']), list(['585652']),\n",
       "       list(['649709', '6']), list(['72132']), list(['66027', '8']),\n",
       "       list(['265582']), list(['2088704', '9']), list(['112070']),\n",
       "       list(['993724']), list(['219167']), list(['1349556', '4']),\n",
       "       list(['1511198']), list(['1097565']), list(['328018']),\n",
       "       list(['1447122']), list(['207790']), list(['1018689']),\n",
       "       list(['954553']), list(['1667848']), list(['13224']),\n",
       "       list(['130345']), list(['5332422']), list(['5107964']),\n",
       "       list(['47832']), list(['213552']), list(['168099', '87']),\n",
       "       list(['359435', '2']), list(['36660']), list(['380735']),\n",
       "       list(['1807420', '9']), list(['359342', '8']), list(['632733']),\n",
       "       list(['328018']), list(['6691885', '3']), list(['285757']),\n",
       "       list(['110407']), list(['29682', '2']), list(['137759']),\n",
       "       list(['917190']), list(['51470']), list(['662543']),\n",
       "       list(['217946']), list(['179666']), list(['34955']),\n",
       "       list(['18083']), list(['4835']), list(['19650']), list(['7000']),\n",
       "       list(['10712']), list(['17182']), list(['160349', '3']),\n",
       "       list(['87432', '4']), list(['13467']), list(['46871']),\n",
       "       list(['49972']), list(['74385']), list(['8868']), list(['10634']),\n",
       "       list(['22113']), list(['1082847']), list(['3692455']),\n",
       "       list(['386500']), list(['23450']), list(['2400833']),\n",
       "       list(['2752421']), list(['4180551']), list(['147859']),\n",
       "       list(['111650']), list(['519782']), list(['59347']),\n",
       "       list(['25500']), list(['2560']), list(['32000']), list(['45615']),\n",
       "       list(['631021']), list(['109635']), list(['140022']),\n",
       "       list(['157535'])], dtype=object)"
      ]
     },
     "metadata": {},
     "execution_count": 54
    }
   ],
   "source": [
    "result['면적'].to_numpy()"
   ]
  },
  {
   "cell_type": "code",
   "execution_count": 55,
   "metadata": {},
   "outputs": [
    {
     "output_type": "execute_result",
     "data": {
      "text/plain": [
       "              공원    지역                          공원주소        lat         lng  \\\n",
       "0       남산도시자연공원    중구        서울특별시 중구 삼일대로 231(예장동)  37.550140  126.990377   \n",
       "1         길동생태공원   강동구  서울특별시 강동구 천호대로 1291(길동생태공원)   37.540394  127.154779   \n",
       "2          서울대공원   과천시            경기도 과천시 대공원광장로 102  37.426449  127.019847   \n",
       "3            서울숲   성동구    서울특별시 성동구 뚝섬로 273 (성수동1가)   37.543072  127.041798   \n",
       "4          월드컵공원   마포구     서울특별시 마포구 하늘공원로 84(월드컵공원)  37.571805  126.878907   \n",
       "5      광화문시민열린마당   종로구            서울특별시 종로구 세종로 76-2  37.575045  126.978023   \n",
       "6  진관근린공원(구파발폭포)   은평구             서울특별시 은평구 진관동 393  37.637024  126.919216   \n",
       "7        중마루근린공원  영등포구         서울특별시 영등포구 영등포동2가 222  37.519832  126.911267   \n",
       "8           응봉공원   성동구         서울특별시 성동구 금호동1가 산1-72  37.557228  127.021765   \n",
       "9         매화근린공원   강서구          서울특별시 강서구 등촌동 630-14  37.557583  126.861150   \n",
       "\n",
       "          면적      세대      인구  \n",
       "0  [2896887]   63594  135321  \n",
       "1    [80683]  194602  462275  \n",
       "2  [9132690]   22631   61309  \n",
       "3   [480994]  136096  302695  \n",
       "4  [2284085]  178495  383494  \n",
       "5  [8948, 1]   74861  159842  \n",
       "6         []  213039  485842  \n",
       "7     [6456]  182087  405982  \n",
       "8    [80309]  136096  302695  \n",
       "9  [1980, 4]  266366  589536  "
      ],
      "text/html": "<div>\n<style scoped>\n    .dataframe tbody tr th:only-of-type {\n        vertical-align: middle;\n    }\n\n    .dataframe tbody tr th {\n        vertical-align: top;\n    }\n\n    .dataframe thead th {\n        text-align: right;\n    }\n</style>\n<table border=\"1\" class=\"dataframe\">\n  <thead>\n    <tr style=\"text-align: right;\">\n      <th></th>\n      <th>공원</th>\n      <th>지역</th>\n      <th>공원주소</th>\n      <th>lat</th>\n      <th>lng</th>\n      <th>면적</th>\n      <th>세대</th>\n      <th>인구</th>\n    </tr>\n  </thead>\n  <tbody>\n    <tr>\n      <th>0</th>\n      <td>남산도시자연공원</td>\n      <td>중구</td>\n      <td>서울특별시 중구 삼일대로 231(예장동)</td>\n      <td>37.550140</td>\n      <td>126.990377</td>\n      <td>[2896887]</td>\n      <td>63594</td>\n      <td>135321</td>\n    </tr>\n    <tr>\n      <th>1</th>\n      <td>길동생태공원</td>\n      <td>강동구</td>\n      <td>서울특별시 강동구 천호대로 1291(길동생태공원)</td>\n      <td>37.540394</td>\n      <td>127.154779</td>\n      <td>[80683]</td>\n      <td>194602</td>\n      <td>462275</td>\n    </tr>\n    <tr>\n      <th>2</th>\n      <td>서울대공원</td>\n      <td>과천시</td>\n      <td>경기도 과천시 대공원광장로 102</td>\n      <td>37.426449</td>\n      <td>127.019847</td>\n      <td>[9132690]</td>\n      <td>22631</td>\n      <td>61309</td>\n    </tr>\n    <tr>\n      <th>3</th>\n      <td>서울숲</td>\n      <td>성동구</td>\n      <td>서울특별시 성동구 뚝섬로 273 (성수동1가)</td>\n      <td>37.543072</td>\n      <td>127.041798</td>\n      <td>[480994]</td>\n      <td>136096</td>\n      <td>302695</td>\n    </tr>\n    <tr>\n      <th>4</th>\n      <td>월드컵공원</td>\n      <td>마포구</td>\n      <td>서울특별시 마포구 하늘공원로 84(월드컵공원)</td>\n      <td>37.571805</td>\n      <td>126.878907</td>\n      <td>[2284085]</td>\n      <td>178495</td>\n      <td>383494</td>\n    </tr>\n    <tr>\n      <th>5</th>\n      <td>광화문시민열린마당</td>\n      <td>종로구</td>\n      <td>서울특별시 종로구 세종로 76-2</td>\n      <td>37.575045</td>\n      <td>126.978023</td>\n      <td>[8948, 1]</td>\n      <td>74861</td>\n      <td>159842</td>\n    </tr>\n    <tr>\n      <th>6</th>\n      <td>진관근린공원(구파발폭포)</td>\n      <td>은평구</td>\n      <td>서울특별시 은평구 진관동 393</td>\n      <td>37.637024</td>\n      <td>126.919216</td>\n      <td>[]</td>\n      <td>213039</td>\n      <td>485842</td>\n    </tr>\n    <tr>\n      <th>7</th>\n      <td>중마루근린공원</td>\n      <td>영등포구</td>\n      <td>서울특별시 영등포구 영등포동2가 222</td>\n      <td>37.519832</td>\n      <td>126.911267</td>\n      <td>[6456]</td>\n      <td>182087</td>\n      <td>405982</td>\n    </tr>\n    <tr>\n      <th>8</th>\n      <td>응봉공원</td>\n      <td>성동구</td>\n      <td>서울특별시 성동구 금호동1가 산1-72</td>\n      <td>37.557228</td>\n      <td>127.021765</td>\n      <td>[80309]</td>\n      <td>136096</td>\n      <td>302695</td>\n    </tr>\n    <tr>\n      <th>9</th>\n      <td>매화근린공원</td>\n      <td>강서구</td>\n      <td>서울특별시 강서구 등촌동 630-14</td>\n      <td>37.557583</td>\n      <td>126.861150</td>\n      <td>[1980, 4]</td>\n      <td>266366</td>\n      <td>589536</td>\n    </tr>\n  </tbody>\n</table>\n</div>"
     },
     "metadata": {},
     "execution_count": 55
    }
   ],
   "source": [
    "result.head(10)"
   ]
  },
  {
   "source": [
    "## IndexError: list index out of range\n",
    "https://stackoverflow.com/questions/41946703/apply-function-resulted-in-list-index-out-of-range <br>\n",
    "\n",
    "검색어 'pandas map list index out of range'<br>\n",
    "한 열의 모든 값을 변경하려고 할 때, 무언가 하나가 데이터타입이 다르거나, 형태가 다르기 때문에 발생함 <br>\n",
    "여기서는 빈 리스트가 있어서 발생한듯 <br>"
   ],
   "cell_type": "markdown",
   "metadata": {}
  },
  {
   "cell_type": "code",
   "execution_count": 56,
   "metadata": {},
   "outputs": [],
   "source": [
    "# result['면적'] = result.apply(lambda r : r['면적'][0], axis = 1) \n",
    "result['면적'] = list( map (lambda x : int(x[0]) if len(x) > 0 else '', result['면적']))"
   ]
  },
  {
   "cell_type": "code",
   "execution_count": 57,
   "metadata": {},
   "outputs": [
    {
     "output_type": "execute_result",
     "data": {
      "text/plain": [
       "              공원    지역                          공원주소        lat         lng  \\\n",
       "0       남산도시자연공원    중구        서울특별시 중구 삼일대로 231(예장동)  37.550140  126.990377   \n",
       "1         길동생태공원   강동구  서울특별시 강동구 천호대로 1291(길동생태공원)   37.540394  127.154779   \n",
       "2          서울대공원   과천시            경기도 과천시 대공원광장로 102  37.426449  127.019847   \n",
       "3            서울숲   성동구    서울특별시 성동구 뚝섬로 273 (성수동1가)   37.543072  127.041798   \n",
       "4          월드컵공원   마포구     서울특별시 마포구 하늘공원로 84(월드컵공원)  37.571805  126.878907   \n",
       "5      광화문시민열린마당   종로구            서울특별시 종로구 세종로 76-2  37.575045  126.978023   \n",
       "6  진관근린공원(구파발폭포)   은평구             서울특별시 은평구 진관동 393  37.637024  126.919216   \n",
       "7        중마루근린공원  영등포구         서울특별시 영등포구 영등포동2가 222  37.519832  126.911267   \n",
       "8           응봉공원   성동구         서울특별시 성동구 금호동1가 산1-72  37.557228  127.021765   \n",
       "9         매화근린공원   강서구          서울특별시 강서구 등촌동 630-14  37.557583  126.861150   \n",
       "\n",
       "        면적      세대      인구  \n",
       "0  2896887   63594  135321  \n",
       "1    80683  194602  462275  \n",
       "2  9132690   22631   61309  \n",
       "3   480994  136096  302695  \n",
       "4  2284085  178495  383494  \n",
       "5     8948   74861  159842  \n",
       "6           213039  485842  \n",
       "7     6456  182087  405982  \n",
       "8    80309  136096  302695  \n",
       "9     1980  266366  589536  "
      ],
      "text/html": "<div>\n<style scoped>\n    .dataframe tbody tr th:only-of-type {\n        vertical-align: middle;\n    }\n\n    .dataframe tbody tr th {\n        vertical-align: top;\n    }\n\n    .dataframe thead th {\n        text-align: right;\n    }\n</style>\n<table border=\"1\" class=\"dataframe\">\n  <thead>\n    <tr style=\"text-align: right;\">\n      <th></th>\n      <th>공원</th>\n      <th>지역</th>\n      <th>공원주소</th>\n      <th>lat</th>\n      <th>lng</th>\n      <th>면적</th>\n      <th>세대</th>\n      <th>인구</th>\n    </tr>\n  </thead>\n  <tbody>\n    <tr>\n      <th>0</th>\n      <td>남산도시자연공원</td>\n      <td>중구</td>\n      <td>서울특별시 중구 삼일대로 231(예장동)</td>\n      <td>37.550140</td>\n      <td>126.990377</td>\n      <td>2896887</td>\n      <td>63594</td>\n      <td>135321</td>\n    </tr>\n    <tr>\n      <th>1</th>\n      <td>길동생태공원</td>\n      <td>강동구</td>\n      <td>서울특별시 강동구 천호대로 1291(길동생태공원)</td>\n      <td>37.540394</td>\n      <td>127.154779</td>\n      <td>80683</td>\n      <td>194602</td>\n      <td>462275</td>\n    </tr>\n    <tr>\n      <th>2</th>\n      <td>서울대공원</td>\n      <td>과천시</td>\n      <td>경기도 과천시 대공원광장로 102</td>\n      <td>37.426449</td>\n      <td>127.019847</td>\n      <td>9132690</td>\n      <td>22631</td>\n      <td>61309</td>\n    </tr>\n    <tr>\n      <th>3</th>\n      <td>서울숲</td>\n      <td>성동구</td>\n      <td>서울특별시 성동구 뚝섬로 273 (성수동1가)</td>\n      <td>37.543072</td>\n      <td>127.041798</td>\n      <td>480994</td>\n      <td>136096</td>\n      <td>302695</td>\n    </tr>\n    <tr>\n      <th>4</th>\n      <td>월드컵공원</td>\n      <td>마포구</td>\n      <td>서울특별시 마포구 하늘공원로 84(월드컵공원)</td>\n      <td>37.571805</td>\n      <td>126.878907</td>\n      <td>2284085</td>\n      <td>178495</td>\n      <td>383494</td>\n    </tr>\n    <tr>\n      <th>5</th>\n      <td>광화문시민열린마당</td>\n      <td>종로구</td>\n      <td>서울특별시 종로구 세종로 76-2</td>\n      <td>37.575045</td>\n      <td>126.978023</td>\n      <td>8948</td>\n      <td>74861</td>\n      <td>159842</td>\n    </tr>\n    <tr>\n      <th>6</th>\n      <td>진관근린공원(구파발폭포)</td>\n      <td>은평구</td>\n      <td>서울특별시 은평구 진관동 393</td>\n      <td>37.637024</td>\n      <td>126.919216</td>\n      <td></td>\n      <td>213039</td>\n      <td>485842</td>\n    </tr>\n    <tr>\n      <th>7</th>\n      <td>중마루근린공원</td>\n      <td>영등포구</td>\n      <td>서울특별시 영등포구 영등포동2가 222</td>\n      <td>37.519832</td>\n      <td>126.911267</td>\n      <td>6456</td>\n      <td>182087</td>\n      <td>405982</td>\n    </tr>\n    <tr>\n      <th>8</th>\n      <td>응봉공원</td>\n      <td>성동구</td>\n      <td>서울특별시 성동구 금호동1가 산1-72</td>\n      <td>37.557228</td>\n      <td>127.021765</td>\n      <td>80309</td>\n      <td>136096</td>\n      <td>302695</td>\n    </tr>\n    <tr>\n      <th>9</th>\n      <td>매화근린공원</td>\n      <td>강서구</td>\n      <td>서울특별시 강서구 등촌동 630-14</td>\n      <td>37.557583</td>\n      <td>126.861150</td>\n      <td>1980</td>\n      <td>266366</td>\n      <td>589536</td>\n    </tr>\n  </tbody>\n</table>\n</div>"
     },
     "metadata": {},
     "execution_count": 57
    }
   ],
   "source": [
    "result.head(10)"
   ]
  },
  {
   "cell_type": "code",
   "execution_count": 58,
   "metadata": {},
   "outputs": [
    {
     "output_type": "execute_result",
     "data": {
      "text/plain": [
       "array([2896887, 80683, 9132690, 480994, 2284085, 8948, '', 6456, 80309,\n",
       "       1980, 5197, 11467, 229539, 15179, 16734, 61544, 424106, 560552,\n",
       "       26696, 75900, 113021, 201779, 258991, 10420819, 171294, 15000,\n",
       "       297926, 411972, 98470, 2038741, 603715, 108120, 29619, 29843,\n",
       "       126026, 135002, 384026, 180000, 416031, 160720, 2277252, 19599,\n",
       "       138596, 185295, 254648, 29816, 762642, 664905, 99599, 5802, 16500,\n",
       "       585652, 649709, 72132, 66027, 265582, 2088704, 112070, 993724,\n",
       "       219167, 1349556, 1511198, 1097565, 328018, 1447122, 207790,\n",
       "       1018689, 954553, 1667848, 13224, 130345, 5332422, 5107964, 47832,\n",
       "       213552, 168099, 359435, 36660, 380735, 1807420, 359342, 632733,\n",
       "       328018, 6691885, 285757, 110407, 29682, 137759, 917190, 51470,\n",
       "       662543, 217946, 179666, 34955, 18083, 4835, 19650, 7000, 10712,\n",
       "       17182, 160349, 87432, 13467, 46871, 49972, 74385, 8868, 10634,\n",
       "       22113, 1082847, 3692455, 386500, 23450, 2400833, 2752421, 4180551,\n",
       "       147859, 111650, 519782, 59347, 25500, 2560, 32000, 45615, 631021,\n",
       "       109635, 140022, 157535], dtype=object)"
      ]
     },
     "metadata": {},
     "execution_count": 58
    }
   ],
   "source": [
    "result.면적.to_numpy()"
   ]
  },
  {
   "source": [
    "# 진관근린공원의 면적이 이상했는데, DF를 앞 뒤 잘라서 보여줬기 때문에 쉽게 확인하지 못함\n",
    "## NaN값 거를 때 거르지 못한 이유는 데이터가 이상하다 뿐이지 들어가긴 들어가있었기 때문이다.\n",
    "- 더 많은 행과 열을 출력하려면 <br>\n",
    "pd.set_option('display.max_row', 500) <br>\n",
    "pd.set_option('display.max_columns', 100)"
   ],
   "cell_type": "markdown",
   "metadata": {}
  },
  {
   "cell_type": "code",
   "execution_count": 59,
   "metadata": {},
   "outputs": [],
   "source": [
    "result.loc['진관근린공원(구파발폭포)','면적'] = 983791"
   ]
  },
  {
   "cell_type": "code",
   "execution_count": 60,
   "metadata": {},
   "outputs": [
    {
     "output_type": "execute_result",
     "data": {
      "text/plain": [
       "983791"
      ]
     },
     "metadata": {},
     "execution_count": 60
    }
   ],
   "source": [
    "result['면적']['진관근린공원(구파발폭포)']"
   ]
  },
  {
   "source": [
    "# 왜 값이 안 들어가지?"
   ],
   "cell_type": "markdown",
   "metadata": {}
  },
  {
   "cell_type": "code",
   "execution_count": 61,
   "metadata": {},
   "outputs": [
    {
     "output_type": "execute_result",
     "data": {
      "text/plain": [
       "              공원   지역                          공원주소        lat         lng  \\\n",
       "0       남산도시자연공원   중구        서울특별시 중구 삼일대로 231(예장동)  37.550140  126.990377   \n",
       "1         길동생태공원  강동구  서울특별시 강동구 천호대로 1291(길동생태공원)   37.540394  127.154779   \n",
       "2          서울대공원  과천시            경기도 과천시 대공원광장로 102  37.426449  127.019847   \n",
       "3            서울숲  성동구    서울특별시 성동구 뚝섬로 273 (성수동1가)   37.543072  127.041798   \n",
       "4          월드컵공원  마포구     서울특별시 마포구 하늘공원로 84(월드컵공원)  37.571805  126.878907   \n",
       "5      광화문시민열린마당  종로구            서울특별시 종로구 세종로 76-2  37.575045  126.978023   \n",
       "6  진관근린공원(구파발폭포)  은평구             서울특별시 은평구 진관동 393  37.637024  126.919216   \n",
       "\n",
       "        면적      세대      인구  \n",
       "0  2896887   63594  135321  \n",
       "1    80683  194602  462275  \n",
       "2  9132690   22631   61309  \n",
       "3   480994  136096  302695  \n",
       "4  2284085  178495  383494  \n",
       "5     8948   74861  159842  \n",
       "6           213039  485842  "
      ],
      "text/html": "<div>\n<style scoped>\n    .dataframe tbody tr th:only-of-type {\n        vertical-align: middle;\n    }\n\n    .dataframe tbody tr th {\n        vertical-align: top;\n    }\n\n    .dataframe thead th {\n        text-align: right;\n    }\n</style>\n<table border=\"1\" class=\"dataframe\">\n  <thead>\n    <tr style=\"text-align: right;\">\n      <th></th>\n      <th>공원</th>\n      <th>지역</th>\n      <th>공원주소</th>\n      <th>lat</th>\n      <th>lng</th>\n      <th>면적</th>\n      <th>세대</th>\n      <th>인구</th>\n    </tr>\n  </thead>\n  <tbody>\n    <tr>\n      <th>0</th>\n      <td>남산도시자연공원</td>\n      <td>중구</td>\n      <td>서울특별시 중구 삼일대로 231(예장동)</td>\n      <td>37.550140</td>\n      <td>126.990377</td>\n      <td>2896887</td>\n      <td>63594</td>\n      <td>135321</td>\n    </tr>\n    <tr>\n      <th>1</th>\n      <td>길동생태공원</td>\n      <td>강동구</td>\n      <td>서울특별시 강동구 천호대로 1291(길동생태공원)</td>\n      <td>37.540394</td>\n      <td>127.154779</td>\n      <td>80683</td>\n      <td>194602</td>\n      <td>462275</td>\n    </tr>\n    <tr>\n      <th>2</th>\n      <td>서울대공원</td>\n      <td>과천시</td>\n      <td>경기도 과천시 대공원광장로 102</td>\n      <td>37.426449</td>\n      <td>127.019847</td>\n      <td>9132690</td>\n      <td>22631</td>\n      <td>61309</td>\n    </tr>\n    <tr>\n      <th>3</th>\n      <td>서울숲</td>\n      <td>성동구</td>\n      <td>서울특별시 성동구 뚝섬로 273 (성수동1가)</td>\n      <td>37.543072</td>\n      <td>127.041798</td>\n      <td>480994</td>\n      <td>136096</td>\n      <td>302695</td>\n    </tr>\n    <tr>\n      <th>4</th>\n      <td>월드컵공원</td>\n      <td>마포구</td>\n      <td>서울특별시 마포구 하늘공원로 84(월드컵공원)</td>\n      <td>37.571805</td>\n      <td>126.878907</td>\n      <td>2284085</td>\n      <td>178495</td>\n      <td>383494</td>\n    </tr>\n    <tr>\n      <th>5</th>\n      <td>광화문시민열린마당</td>\n      <td>종로구</td>\n      <td>서울특별시 종로구 세종로 76-2</td>\n      <td>37.575045</td>\n      <td>126.978023</td>\n      <td>8948</td>\n      <td>74861</td>\n      <td>159842</td>\n    </tr>\n    <tr>\n      <th>6</th>\n      <td>진관근린공원(구파발폭포)</td>\n      <td>은평구</td>\n      <td>서울특별시 은평구 진관동 393</td>\n      <td>37.637024</td>\n      <td>126.919216</td>\n      <td></td>\n      <td>213039</td>\n      <td>485842</td>\n    </tr>\n  </tbody>\n</table>\n</div>"
     },
     "metadata": {},
     "execution_count": 61
    }
   ],
   "source": [
    "result.head(7)"
   ]
  },
  {
   "cell_type": "code",
   "execution_count": 62,
   "metadata": {},
   "outputs": [
    {
     "output_type": "execute_result",
     "data": {
      "text/plain": [
       "                            공원   지역                           공원주소        lat  \\\n",
       "124                    서일대뒷산공원  중랑구              서울특별시 중랑구 면목동 산19  37.587716   \n",
       "125            용마도시자연공원(사가정공원)  중랑구            서울특별시 중랑구 면목7동 산50   37.579762   \n",
       "126                     문화비축기지  마포구               서울특별시 마포구 증산로 87  37.571718   \n",
       "127                       율현공원  강남구  서울특별시 강남구 율현동 밤고개로24길(율현동 56)  37.472332   \n",
       "진관근린공원(구파발폭포)              NaN  NaN                            NaN        NaN   \n",
       "\n",
       "                      lng      면적      세대      인구  \n",
       "124            127.098782  631021  185109  400989  \n",
       "125            127.095997  109635  185109  400989  \n",
       "126            126.893245  140022  178495  383494  \n",
       "127            127.115594  157535  234021  544085  \n",
       "진관근린공원(구파발폭포)         NaN  983791     NaN     NaN  "
      ],
      "text/html": "<div>\n<style scoped>\n    .dataframe tbody tr th:only-of-type {\n        vertical-align: middle;\n    }\n\n    .dataframe tbody tr th {\n        vertical-align: top;\n    }\n\n    .dataframe thead th {\n        text-align: right;\n    }\n</style>\n<table border=\"1\" class=\"dataframe\">\n  <thead>\n    <tr style=\"text-align: right;\">\n      <th></th>\n      <th>공원</th>\n      <th>지역</th>\n      <th>공원주소</th>\n      <th>lat</th>\n      <th>lng</th>\n      <th>면적</th>\n      <th>세대</th>\n      <th>인구</th>\n    </tr>\n  </thead>\n  <tbody>\n    <tr>\n      <th>124</th>\n      <td>서일대뒷산공원</td>\n      <td>중랑구</td>\n      <td>서울특별시 중랑구 면목동 산19</td>\n      <td>37.587716</td>\n      <td>127.098782</td>\n      <td>631021</td>\n      <td>185109</td>\n      <td>400989</td>\n    </tr>\n    <tr>\n      <th>125</th>\n      <td>용마도시자연공원(사가정공원)</td>\n      <td>중랑구</td>\n      <td>서울특별시 중랑구 면목7동 산50</td>\n      <td>37.579762</td>\n      <td>127.095997</td>\n      <td>109635</td>\n      <td>185109</td>\n      <td>400989</td>\n    </tr>\n    <tr>\n      <th>126</th>\n      <td>문화비축기지</td>\n      <td>마포구</td>\n      <td>서울특별시 마포구 증산로 87</td>\n      <td>37.571718</td>\n      <td>126.893245</td>\n      <td>140022</td>\n      <td>178495</td>\n      <td>383494</td>\n    </tr>\n    <tr>\n      <th>127</th>\n      <td>율현공원</td>\n      <td>강남구</td>\n      <td>서울특별시 강남구 율현동 밤고개로24길(율현동 56)</td>\n      <td>37.472332</td>\n      <td>127.115594</td>\n      <td>157535</td>\n      <td>234021</td>\n      <td>544085</td>\n    </tr>\n    <tr>\n      <th>진관근린공원(구파발폭포)</th>\n      <td>NaN</td>\n      <td>NaN</td>\n      <td>NaN</td>\n      <td>NaN</td>\n      <td>NaN</td>\n      <td>983791</td>\n      <td>NaN</td>\n      <td>NaN</td>\n    </tr>\n  </tbody>\n</table>\n</div>"
     },
     "metadata": {},
     "execution_count": 62
    }
   ],
   "source": [
    "result.tail()"
   ]
  },
  {
   "source": [
    "위의 방식은 df\\[행 인덱스\\]\\[열 인덱스\\] 로 값이 들어간다.\n",
    "아직 공원이 인덱스가 되지 않았기 때문에, 진관근린공원이라는 인덱스를 가진 행으로 들어가는 것"
   ],
   "cell_type": "markdown",
   "metadata": {}
  },
  {
   "cell_type": "code",
   "execution_count": 63,
   "metadata": {},
   "outputs": [],
   "source": [
    "result.drop(index='진관근린공원(구파발폭포)',inplace=True)"
   ]
  },
  {
   "cell_type": "code",
   "execution_count": 64,
   "metadata": {},
   "outputs": [
    {
     "output_type": "execute_result",
     "data": {
      "text/plain": [
       "                  공원   지역                           공원주소        lat  \\\n",
       "123           숭인근린공원  종로구               서울특별시 종로구 숭인동 58  37.576442   \n",
       "124          서일대뒷산공원  중랑구              서울특별시 중랑구 면목동 산19  37.587716   \n",
       "125  용마도시자연공원(사가정공원)  중랑구            서울특별시 중랑구 면목7동 산50   37.579762   \n",
       "126           문화비축기지  마포구               서울특별시 마포구 증산로 87  37.571718   \n",
       "127             율현공원  강남구  서울특별시 강남구 율현동 밤고개로24길(율현동 56)  37.472332   \n",
       "\n",
       "            lng      면적      세대      인구  \n",
       "123  127.017827   45615   74861  159842  \n",
       "124  127.098782  631021  185109  400989  \n",
       "125  127.095997  109635  185109  400989  \n",
       "126  126.893245  140022  178495  383494  \n",
       "127  127.115594  157535  234021  544085  "
      ],
      "text/html": "<div>\n<style scoped>\n    .dataframe tbody tr th:only-of-type {\n        vertical-align: middle;\n    }\n\n    .dataframe tbody tr th {\n        vertical-align: top;\n    }\n\n    .dataframe thead th {\n        text-align: right;\n    }\n</style>\n<table border=\"1\" class=\"dataframe\">\n  <thead>\n    <tr style=\"text-align: right;\">\n      <th></th>\n      <th>공원</th>\n      <th>지역</th>\n      <th>공원주소</th>\n      <th>lat</th>\n      <th>lng</th>\n      <th>면적</th>\n      <th>세대</th>\n      <th>인구</th>\n    </tr>\n  </thead>\n  <tbody>\n    <tr>\n      <th>123</th>\n      <td>숭인근린공원</td>\n      <td>종로구</td>\n      <td>서울특별시 종로구 숭인동 58</td>\n      <td>37.576442</td>\n      <td>127.017827</td>\n      <td>45615</td>\n      <td>74861</td>\n      <td>159842</td>\n    </tr>\n    <tr>\n      <th>124</th>\n      <td>서일대뒷산공원</td>\n      <td>중랑구</td>\n      <td>서울특별시 중랑구 면목동 산19</td>\n      <td>37.587716</td>\n      <td>127.098782</td>\n      <td>631021</td>\n      <td>185109</td>\n      <td>400989</td>\n    </tr>\n    <tr>\n      <th>125</th>\n      <td>용마도시자연공원(사가정공원)</td>\n      <td>중랑구</td>\n      <td>서울특별시 중랑구 면목7동 산50</td>\n      <td>37.579762</td>\n      <td>127.095997</td>\n      <td>109635</td>\n      <td>185109</td>\n      <td>400989</td>\n    </tr>\n    <tr>\n      <th>126</th>\n      <td>문화비축기지</td>\n      <td>마포구</td>\n      <td>서울특별시 마포구 증산로 87</td>\n      <td>37.571718</td>\n      <td>126.893245</td>\n      <td>140022</td>\n      <td>178495</td>\n      <td>383494</td>\n    </tr>\n    <tr>\n      <th>127</th>\n      <td>율현공원</td>\n      <td>강남구</td>\n      <td>서울특별시 강남구 율현동 밤고개로24길(율현동 56)</td>\n      <td>37.472332</td>\n      <td>127.115594</td>\n      <td>157535</td>\n      <td>234021</td>\n      <td>544085</td>\n    </tr>\n  </tbody>\n</table>\n</div>"
     },
     "metadata": {},
     "execution_count": 64
    }
   ],
   "source": [
    "result.tail()"
   ]
  },
  {
   "cell_type": "code",
   "execution_count": 65,
   "metadata": {},
   "outputs": [
    {
     "output_type": "execute_result",
     "data": {
      "text/plain": [
       "                지역                          공원주소        lat         lng  \\\n",
       "공원                                                                        \n",
       "남산도시자연공원        중구        서울특별시 중구 삼일대로 231(예장동)  37.550140  126.990377   \n",
       "길동생태공원         강동구  서울특별시 강동구 천호대로 1291(길동생태공원)   37.540394  127.154779   \n",
       "서울대공원          과천시            경기도 과천시 대공원광장로 102  37.426449  127.019847   \n",
       "서울숲            성동구    서울특별시 성동구 뚝섬로 273 (성수동1가)   37.543072  127.041798   \n",
       "월드컵공원          마포구     서울특별시 마포구 하늘공원로 84(월드컵공원)  37.571805  126.878907   \n",
       "광화문시민열린마당      종로구            서울특별시 종로구 세종로 76-2  37.575045  126.978023   \n",
       "진관근린공원(구파발폭포)  은평구             서울특별시 은평구 진관동 393  37.637024  126.919216   \n",
       "\n",
       "                    면적      세대      인구  \n",
       "공원                                      \n",
       "남산도시자연공원       2896887   63594  135321  \n",
       "길동생태공원           80683  194602  462275  \n",
       "서울대공원          9132690   22631   61309  \n",
       "서울숲             480994  136096  302695  \n",
       "월드컵공원          2284085  178495  383494  \n",
       "광화문시민열린마당         8948   74861  159842  \n",
       "진관근린공원(구파발폭포)   983791  213039  485842  "
      ],
      "text/html": "<div>\n<style scoped>\n    .dataframe tbody tr th:only-of-type {\n        vertical-align: middle;\n    }\n\n    .dataframe tbody tr th {\n        vertical-align: top;\n    }\n\n    .dataframe thead th {\n        text-align: right;\n    }\n</style>\n<table border=\"1\" class=\"dataframe\">\n  <thead>\n    <tr style=\"text-align: right;\">\n      <th></th>\n      <th>지역</th>\n      <th>공원주소</th>\n      <th>lat</th>\n      <th>lng</th>\n      <th>면적</th>\n      <th>세대</th>\n      <th>인구</th>\n    </tr>\n    <tr>\n      <th>공원</th>\n      <th></th>\n      <th></th>\n      <th></th>\n      <th></th>\n      <th></th>\n      <th></th>\n      <th></th>\n    </tr>\n  </thead>\n  <tbody>\n    <tr>\n      <th>남산도시자연공원</th>\n      <td>중구</td>\n      <td>서울특별시 중구 삼일대로 231(예장동)</td>\n      <td>37.550140</td>\n      <td>126.990377</td>\n      <td>2896887</td>\n      <td>63594</td>\n      <td>135321</td>\n    </tr>\n    <tr>\n      <th>길동생태공원</th>\n      <td>강동구</td>\n      <td>서울특별시 강동구 천호대로 1291(길동생태공원)</td>\n      <td>37.540394</td>\n      <td>127.154779</td>\n      <td>80683</td>\n      <td>194602</td>\n      <td>462275</td>\n    </tr>\n    <tr>\n      <th>서울대공원</th>\n      <td>과천시</td>\n      <td>경기도 과천시 대공원광장로 102</td>\n      <td>37.426449</td>\n      <td>127.019847</td>\n      <td>9132690</td>\n      <td>22631</td>\n      <td>61309</td>\n    </tr>\n    <tr>\n      <th>서울숲</th>\n      <td>성동구</td>\n      <td>서울특별시 성동구 뚝섬로 273 (성수동1가)</td>\n      <td>37.543072</td>\n      <td>127.041798</td>\n      <td>480994</td>\n      <td>136096</td>\n      <td>302695</td>\n    </tr>\n    <tr>\n      <th>월드컵공원</th>\n      <td>마포구</td>\n      <td>서울특별시 마포구 하늘공원로 84(월드컵공원)</td>\n      <td>37.571805</td>\n      <td>126.878907</td>\n      <td>2284085</td>\n      <td>178495</td>\n      <td>383494</td>\n    </tr>\n    <tr>\n      <th>광화문시민열린마당</th>\n      <td>종로구</td>\n      <td>서울특별시 종로구 세종로 76-2</td>\n      <td>37.575045</td>\n      <td>126.978023</td>\n      <td>8948</td>\n      <td>74861</td>\n      <td>159842</td>\n    </tr>\n    <tr>\n      <th>진관근린공원(구파발폭포)</th>\n      <td>은평구</td>\n      <td>서울특별시 은평구 진관동 393</td>\n      <td>37.637024</td>\n      <td>126.919216</td>\n      <td>983791</td>\n      <td>213039</td>\n      <td>485842</td>\n    </tr>\n  </tbody>\n</table>\n</div>"
     },
     "metadata": {},
     "execution_count": 65
    }
   ],
   "source": [
    "result.set_index('공원', inplace = True)\n",
    "result.loc['진관근린공원(구파발폭포)','면적'] = 983791\n",
    "result.head(7)"
   ]
  },
  {
   "source": [
    "## 지도에서 비율로 정확하게 비교할 수 있도록 인구별 공원면적"
   ],
   "cell_type": "markdown",
   "metadata": {}
  },
  {
   "cell_type": "code",
   "execution_count": 72,
   "metadata": {},
   "outputs": [
    {
     "output_type": "execute_result",
     "data": {
      "text/plain": [
       "int"
      ]
     },
     "metadata": {},
     "execution_count": 72
    }
   ],
   "source": [
    "type(result['인구'][0])"
   ]
  },
  {
   "cell_type": "code",
   "execution_count": 66,
   "metadata": {},
   "outputs": [],
   "source": [
    "result['인구 당 공원 면적'] = result['면적'] / result['인구']"
   ]
  },
  {
   "cell_type": "code",
   "execution_count": 67,
   "metadata": {},
   "outputs": [],
   "source": [
    "result.to_csv('./result/공원 위치, 면적, 인구.csv',sep=',',encoding='utf8')"
   ]
  }
 ]
}