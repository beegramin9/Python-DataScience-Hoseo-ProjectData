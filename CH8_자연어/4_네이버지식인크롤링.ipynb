{
 "metadata": {
  "language_info": {
   "codemirror_mode": {
    "name": "ipython",
    "version": 3
   },
   "file_extension": ".py",
   "mimetype": "text/x-python",
   "name": "python",
   "nbconvert_exporter": "python",
   "pygments_lexer": "ipython3",
   "version": "3.7.4-final"
  },
  "orig_nbformat": 2,
  "kernelspec": {
   "name": "python3",
   "display_name": "Python 3"
  }
 },
 "nbformat": 4,
 "nbformat_minor": 2,
 "cells": [
  {
   "cell_type": "code",
   "execution_count": 69,
   "metadata": {},
   "outputs": [],
   "source": [
    "from selenium import webdriver\n",
    "from selenium.webdriver.chrome.options import Options\n",
    "import requests\n",
    "from bs4 import BeautifulSoup\n",
    "from datetime import datetime, timedelta\n",
    "import time\n",
    "from tqdm import tqdm"
   ]
  },
  {
   "cell_type": "code",
   "execution_count": 5,
   "metadata": {},
   "outputs": [],
   "source": [
    "import openpyxl\n",
    "from openpyxl.styles import PatternFill,Color\n",
    "from openpyxl import Workbook\n",
    "from random import *"
   ]
  },
  {
   "cell_type": "code",
   "execution_count": 130,
   "metadata": {},
   "outputs": [],
   "source": [
    "options = EdgeOptions()\n",
    "\n",
    "options.use_chromium = True\n",
    " ptions.add_argument(\"headless\")\n",
    "  tions.add_argument(\"disable-gpu\")d\n",
    "river = webdriver.Edge('./msedgedriver.exe')"
   ]
  },
  {
   "cell_type": "code",
   "execution_count": 131,
   "metadata": {},
   "outputs": [],
   "source": [
    "# 크롤링할 단어\n",
    "# space는 +로 바꿈\n",
    "def get_keyword(text):\n",
    "    return text.replace(\" \",\"%20\")"
   ]
  },
  {
   "cell_type": "code",
   "execution_count": 132,
   "metadata": {},
   "outputs": [],
   "source": [
    "# 정렬 우선순위\n",
    "def sort_kind(index):\n",
    "    if index == 1:\n",
    "        return 'vcount' # 추천순\n",
    "    elif index == 2:\n",
    "        return 'date' # 최신순\n",
    "    else:\n",
    "        return 'none' # 정확도순"
   ]
  },
  {
   "cell_type": "code",
   "execution_count": 133,
   "metadata": {},
   "outputs": [],
   "source": [
    "keyword = '여친 선물'\n",
    "driver.get('https://kin.naver.com/search/list.nhn?query=' + get_keyword(keyword) )\n",
    "# random.uniform(a,b): a~b까지 동일 확률로 하나의 수\n",
    "time.sleep(uniform(0.1, 1.0))"
   ]
  },
  {
   "source": [
    "- 최근 1년간 동향"
   ],
   "cell_type": "markdown",
   "metadata": {}
  },
  {
   "cell_type": "code",
   "execution_count": 134,
   "metadata": {},
   "outputs": [],
   "source": [
    "page_index = 1\n",
    "start = '2019.12.08'\n",
    "end = '2020.12.08'\n",
    "\n",
    "period = '&period=' + start + '.%7C' + end + '.'"
   ]
  },
  {
   "cell_type": "code",
   "execution_count": 135,
   "metadata": {},
   "outputs": [
    {
     "output_type": "execute_result",
     "data": {
      "text/plain": [
       "'2020.12.08'"
      ]
     },
     "metadata": {},
     "execution_count": 135
    }
   ],
   "source": [
    "today = datetime.strftime(datetime.now(),'%Y.%m.%d')\n",
    "today"
   ]
  },
  {
   "cell_type": "code",
   "execution_count": 136,
   "metadata": {},
   "outputs": [
    {
     "output_type": "execute_result",
     "data": {
      "text/plain": [
       "<_io.TextIOWrapper name='./result/url_list_여친%20선물_2020.12.08.txt' mode='w' encoding='cp949'>"
      ]
     },
     "metadata": {},
     "execution_count": 136
    }
   ],
   "source": [
    "# url 저장\n",
    "f = open('./result/url_list_' + get_keyword(keyword) + '_' + today + '.txt', 'w')\n",
    "f"
   ]
  },
  {
   "cell_type": "code",
   "execution_count": 137,
   "metadata": {},
   "outputs": [
    {
     "output_type": "stream",
     "name": "stdout",
     "text": [
      "현재글수: 10\n",
      "현재글수: 20\n",
      "현재글수: 30\n",
      "현재글수: 40\n",
      "현재글수: 50\n",
      "현재글수: 60\n",
      "현재글수: 70\n",
      "현재글수: 80\n",
      "현재글수: 90\n",
      "현재글수: 100\n",
      "현재글수: 110\n",
      "현재글수: 120\n",
      "현재글수: 130\n",
      "현재글수: 140\n",
      "현재글수: 150\n",
      "현재글수: 160\n",
      "현재글수: 170\n",
      "현재글수: 180\n",
      "현재글수: 190\n",
      "현재글수: 200\n",
      "현재글수: 210\n",
      "현재글수: 220\n",
      "현재글수: 230\n",
      "현재글수: 240\n",
      "현재글수: 250\n",
      "현재글수: 260\n",
      "현재글수: 270\n",
      "현재글수: 280\n",
      "현재글수: 290\n",
      "현재글수: 300\n",
      "현재글수: 310\n",
      "현재글수: 320\n",
      "현재글수: 330\n",
      "현재글수: 340\n",
      "현재글수: 350\n",
      "현재글수: 360\n",
      "현재글수: 370\n",
      "현재글수: 380\n",
      "현재글수: 390\n",
      "현재글수: 400\n",
      "현재글수: 410\n",
      "현재글수: 420\n",
      "현재글수: 430\n",
      "현재글수: 440\n",
      "현재글수: 450\n",
      "현재글수: 460\n",
      "현재글수: 470\n",
      "현재글수: 480\n",
      "현재글수: 490\n",
      "현재글수: 500\n",
      "현재글수: 510\n",
      "현재글수: 520\n",
      "현재글수: 530\n",
      "현재글수: 540\n",
      "현재글수: 550\n",
      "현재글수: 560\n",
      "현재글수: 570\n",
      "현재글수: 580\n",
      "현재글수: 590\n",
      "현재글수: 600\n",
      "현재글수: 610\n",
      "현재글수: 620\n",
      "현재글수: 630\n",
      "현재글수: 640\n",
      "현재글수: 650\n",
      "현재글수: 660\n",
      "현재글수: 670\n",
      "현재글수: 680\n",
      "현재글수: 690\n",
      "현재글수: 700\n",
      "현재글수: 710\n",
      "현재글수: 720\n",
      "현재글수: 730\n",
      "현재글수: 740\n",
      "현재글수: 750\n",
      "현재글수: 760\n",
      "현재글수: 770\n",
      "현재글수: 780\n",
      "현재글수: 790\n",
      "현재글수: 800\n",
      "현재글수: 810\n",
      "현재글수: 820\n",
      "현재글수: 830\n",
      "현재글수: 840\n",
      "현재글수: 850\n",
      "현재글수: 860\n",
      "현재글수: 870\n",
      "현재글수: 880\n",
      "현재글수: 890\n",
      "현재글수: 900\n",
      "현재글수: 910\n",
      "현재글수: 920\n",
      "현재글수: 930\n",
      "현재글수: 940\n",
      "현재글수: 950\n",
      "현재글수: 960\n",
      "현재글수: 970\n",
      "현재글수: 980\n",
      "현재글수: 990\n",
      "현재글수: 1000\n",
      "현재글수: 1010\n",
      "현재글수: 1020\n",
      "현재글수: 1030\n",
      "현재글수: 1040\n",
      "현재글수: 1050\n",
      "현재글수: 1060\n",
      "현재글수: 1070\n",
      "현재글수: 1080\n",
      "현재글수: 1090\n",
      "현재글수: 1100\n",
      "현재글수: 1110\n",
      "현재글수: 1120\n"
     ]
    },
    {
     "output_type": "error",
     "ename": "AttributeError",
     "evalue": "'NoneType' object has no attribute 'text'",
     "traceback": [
      "\u001b[1;31m---------------------------------------------------------------------------\u001b[0m",
      "\u001b[1;31mAttributeError\u001b[0m                            Traceback (most recent call last)",
      "\u001b[1;32m<ipython-input-137-4ff3195c9347>\u001b[0m in \u001b[0;36m<module>\u001b[1;34m\u001b[0m\n\u001b[0;32m     12\u001b[0m         \u001b[0mf\u001b[0m\u001b[1;33m.\u001b[0m\u001b[0mwrite\u001b[0m\u001b[1;33m(\u001b[0m\u001b[0murl\u001b[0m \u001b[1;33m+\u001b[0m \u001b[1;34m'\\n'\u001b[0m\u001b[1;33m)\u001b[0m\u001b[1;33m\u001b[0m\u001b[1;33m\u001b[0m\u001b[0m\n\u001b[0;32m     13\u001b[0m \u001b[1;33m\u001b[0m\u001b[0m\n\u001b[1;32m---> 14\u001b[1;33m     \u001b[0mpost_number\u001b[0m \u001b[1;33m=\u001b[0m \u001b[0msoup\u001b[0m\u001b[1;33m.\u001b[0m\u001b[0mselect_one\u001b[0m\u001b[1;33m(\u001b[0m\u001b[1;34m'.number'\u001b[0m\u001b[1;33m)\u001b[0m\u001b[1;33m.\u001b[0m\u001b[0mtext\u001b[0m\u001b[1;33m.\u001b[0m\u001b[0mlstrip\u001b[0m\u001b[1;33m(\u001b[0m\u001b[1;34m'('\u001b[0m\u001b[1;33m)\u001b[0m\u001b[1;33m.\u001b[0m\u001b[0mrstrip\u001b[0m\u001b[1;33m(\u001b[0m\u001b[1;34m')'\u001b[0m\u001b[1;33m)\u001b[0m\u001b[1;33m.\u001b[0m\u001b[0mreplace\u001b[0m\u001b[1;33m(\u001b[0m\u001b[1;34m','\u001b[0m\u001b[1;33m,\u001b[0m\u001b[1;34m''\u001b[0m\u001b[1;33m)\u001b[0m\u001b[1;33m\u001b[0m\u001b[1;33m\u001b[0m\u001b[0m\n\u001b[0m\u001b[0;32m     15\u001b[0m     \u001b[0mcurrent_number\u001b[0m \u001b[1;33m=\u001b[0m \u001b[0mint\u001b[0m\u001b[1;33m(\u001b[0m\u001b[0mpost_number\u001b[0m\u001b[1;33m.\u001b[0m\u001b[0msplit\u001b[0m\u001b[1;33m(\u001b[0m\u001b[1;34m'/'\u001b[0m\u001b[1;33m)\u001b[0m\u001b[1;33m[\u001b[0m\u001b[1;36m0\u001b[0m\u001b[1;33m]\u001b[0m\u001b[1;33m.\u001b[0m\u001b[0msplit\u001b[0m\u001b[1;33m(\u001b[0m\u001b[1;34m'-'\u001b[0m\u001b[1;33m)\u001b[0m\u001b[1;33m[\u001b[0m\u001b[1;36m1\u001b[0m\u001b[1;33m]\u001b[0m\u001b[1;33m)\u001b[0m\u001b[1;33m\u001b[0m\u001b[1;33m\u001b[0m\u001b[0m\n\u001b[0;32m     16\u001b[0m     \u001b[0mtotal_number\u001b[0m \u001b[1;33m=\u001b[0m \u001b[0mint\u001b[0m\u001b[1;33m(\u001b[0m\u001b[0mpost_number\u001b[0m\u001b[1;33m.\u001b[0m\u001b[0msplit\u001b[0m\u001b[1;33m(\u001b[0m\u001b[1;34m'/'\u001b[0m\u001b[1;33m)\u001b[0m\u001b[1;33m[\u001b[0m\u001b[1;36m1\u001b[0m\u001b[1;33m]\u001b[0m\u001b[1;33m)\u001b[0m\u001b[1;33m\u001b[0m\u001b[1;33m\u001b[0m\u001b[0m\n",
      "\u001b[1;31mAttributeError\u001b[0m: 'NoneType' object has no attribute 'text'"
     ]
    }
   ],
   "source": [
    "page_url = []\n",
    "while True:\n",
    "    time.sleep(uniform(0.1, 1.0))\n",
    "    driver.get('https://kin.naver.com/search/list.nhn?' + \"&sort=\" + sort_kind(0) + '&query=' + get_keyword(keyword) + period + \"&section=kin\" + \"&page=\" + str(page_index))\n",
    "    html = driver.page_source\n",
    "    soup = BeautifulSoup(html, 'html.parser')\n",
    "\n",
    "    tags = soup.select('ul.basic1 li > dl > dt > a')\n",
    "    for tag in tags:\n",
    "        url = tag.get('href')\n",
    "        page_url.append(url)\n",
    "        f.write(url + '\\n')\n",
    "    \n",
    "    post_number = soup.select_one('.number').text.lstrip('(').rstrip(')').replace(',','')\n",
    "    current_number = int(post_number.split('/')[0].split('-')[1])\n",
    "    total_number = int(post_number.split('/')[1])\n",
    "\n",
    "    print('현재글수:',current_number)   \n",
    "    if current_number == total_number:\n",
    "        break\n",
    "    else:\n",
    "        page_index += 1\n",
    "\n",
    "print('총:',total_number)\n",
    "f.close()"
   ]
  },
  {
   "cell_type": "code",
   "execution_count": 138,
   "metadata": {},
   "outputs": [
    {
     "output_type": "execute_result",
     "data": {
      "text/plain": [
       "'./result/여친%20선물_2020.12.08_crawling_result.xlsx'"
      ]
     },
     "metadata": {},
     "execution_count": 138
    }
   ],
   "source": [
    "excelname = './result/' + get_keyword(keyword) + '_' + today + '_crawling_result.xlsx'\n",
    "excelname"
   ]
  },
  {
   "cell_type": "code",
   "execution_count": 139,
   "metadata": {},
   "outputs": [],
   "source": [
    "wb = Workbook()\n",
    "sheet = wb.active\n",
    "sheet.append(['제목','질문','답변'])"
   ]
  },
  {
   "cell_type": "code",
   "execution_count": 140,
   "metadata": {},
   "outputs": [
    {
     "output_type": "stream",
     "name": "stderr",
     "text": [
      "  1%|          | 10/1120 [00:05<11:40,  1.58it/s]Exception ignored in: <function ZipFile.__del__ at 0x000001D63FA79AF8>\n",
      "Traceback (most recent call last):\n",
      "  File \"C:\\ProgramData\\Anaconda3\\lib\\zipfile.py\", line 1792, in __del__\n",
      "    self.close()\n",
      "  File \"C:\\ProgramData\\Anaconda3\\lib\\zipfile.py\", line 1810, in close\n",
      "    self._write_end_record()\n",
      "  File \"C:\\ProgramData\\Anaconda3\\lib\\zipfile.py\", line 1914, in _write_end_record\n",
      "    self.fp.write(endrec)\n",
      "  File \"C:\\ProgramData\\Anaconda3\\lib\\zipfile.py\", line 759, in write\n",
      "    n = self.fp.write(data)\n",
      "AttributeError: 'tuple' object has no attribute 'write'\n",
      "100%|██████████| 1120/1120 [38:40<00:00,  2.07s/it]\n"
     ]
    }
   ],
   "source": [
    "for j in range(1, 4):\n",
    "    sheet.cell(row = 1, column=j).fill = PatternFill(start_color='808080', end_color='808080', fill_type='solid')\n",
    "\n",
    "for url in tqdm(page_url):\n",
    "    html = requests.get(url).text\n",
    "    soup = BeautifulSoup(html, 'html.parser')\n",
    "    # main 제목\n",
    "    title = soup.select_one('div.title').text.lstrip('\"').rstrip('\"').strip()\n",
    "\n",
    "    try:\n",
    "        content_text = soup.select_one('div.c-heading__content').text.strip()\n",
    "    except:\n",
    "        content_text = \"\"\n",
    "    \n",
    "    answer_lists = soup.select(\"div._endContentsText.c-heading-answer__content-user\")\n",
    "\n",
    "    for i, answer in enumerate(answer_lists):\n",
    "        lines = answer.select('div')\n",
    "        answer_text = \"\"\n",
    "        for line in lines:\n",
    "            answer_text += line.text.strip()\n",
    "        \n",
    "        if i == 0:\n",
    "            sheet.append([title,content_text,answer_text])\n",
    "        else:\n",
    "            sheet.append([\"\",\"\",answer_text])\n",
    "    wb.save(excelname)"
   ]
  }
 ]
}