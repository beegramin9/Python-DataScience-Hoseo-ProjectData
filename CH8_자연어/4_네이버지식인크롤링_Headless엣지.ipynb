{
 "metadata": {
  "language_info": {
   "codemirror_mode": {
    "name": "ipython",
    "version": 3
   },
   "file_extension": ".py",
   "mimetype": "text/x-python",
   "name": "python",
   "nbconvert_exporter": "python",
   "pygments_lexer": "ipython3",
   "version": "3.7.4-final"
  },
  "orig_nbformat": 2,
  "kernelspec": {
   "name": "python3",
   "display_name": "Python 3"
  }
 },
 "nbformat": 4,
 "nbformat_minor": 2,
 "cells": [
  {
   "cell_type": "code",
   "execution_count": 1,
   "metadata": {},
   "outputs": [],
   "source": [
    "from selenium import webdriver\n",
    "from selenium.webdriver.chrome.options import Options\n",
    "import requests\n",
    "from bs4 import BeautifulSoup\n",
    "from datetime import datetime, timedelta\n",
    "\n",
    "import time\n",
    "from tqdm import tqdm"
   ]
  },
  {
   "cell_type": "code",
   "execution_count": 2,
   "metadata": {},
   "outputs": [],
   "source": [
    "import openpyxl\n",
    "from openpyxl.styles import PatternFill,Color\n",
    "from openpyxl import Workbook\n",
    "from random import *"
   ]
  },
  {
   "source": [
    "## Edge에 옵션을 주는 방법, 그리고 Headless\n",
    "- pip install msedge-selenium-tools selenium==3.141 설치 필요"
   ],
   "cell_type": "markdown",
   "metadata": {}
  },
  {
   "source": [
    "### headless 옵션을 사용할 땐 속도는 빠르지만 창을 띄우지 않기 때문에 driver의 click() 이벤트를 execute할 수 없다 <br>\n",
    "=> Message: element not interactable 오류 발생 <br>\n",
    "해결: options.add_argument('--window-size=1920x1080')\n",
    "\n",
    "\n"
   ],
   "cell_type": "markdown",
   "metadata": {}
  },
  {
   "cell_type": "code",
   "execution_count": 46,
   "metadata": {},
   "outputs": [],
   "source": [
    "from msedge.selenium_tools import Edge, EdgeOptions"
   ]
  },
  {
   "cell_type": "code",
   "execution_count": 47,
   "metadata": {},
   "outputs": [],
   "source": [
    "options = EdgeOptions()\n",
    "options.use_chromium = True \n",
    "options.add_argument(\"headless\")\n",
    "options.add_argument(\"disable-gpu\")\n",
    "\n",
    "# Message: element not interactable 오류 방지\n",
    "options.add_argument('--window-size=1920x1080')\n",
    "\n",
    "# edge 드라이버를 직접 다운로드 받을 때의 방법\n",
    "driver = Edge('./msedgedriver.exe', options=options)"
   ]
  },
  {
   "cell_type": "code",
   "execution_count": 48,
   "metadata": {},
   "outputs": [],
   "source": [
    "# 크롤링할 단어\n",
    "# space는 +로 바꿈\n",
    "def get_keyword(text):\n",
    "    return text.replace(\" \",\"%20\")"
   ]
  },
  {
   "cell_type": "code",
   "execution_count": 49,
   "metadata": {},
   "outputs": [],
   "source": [
    "# 정렬 우선순위\n",
    "def sort_kind(index):\n",
    "    if index == 1:\n",
    "        return 'vcount' # 추천순\n",
    "    elif index == 2:\n",
    "        return 'date' # 최신순\n",
    "    else:\n",
    "        return 'none' # 정확도순"
   ]
  },
  {
   "cell_type": "code",
   "execution_count": 50,
   "metadata": {},
   "outputs": [],
   "source": [
    "keyword = '여친 선물'\n",
    "driver.get('https://kin.naver.com/search/list.nhn?query=' + get_keyword(keyword) )\n",
    "\n",
    "# Headless 제대로 동작하나요? => 스크린샷\n",
    "driver.get_screenshot_as_file('./tmp/naver_main.png')\n",
    "\n",
    "\n",
    "# random.uniform(a,b): a~b까지 동일 확률로 하나의 수\n",
    "time.sleep(uniform(0.1, 1.0))"
   ]
  },
  {
   "source": [
    "## 기간 설정\n",
    "- 최근 3일 간"
   ],
   "cell_type": "markdown",
   "metadata": {}
  },
  {
   "cell_type": "code",
   "execution_count": 51,
   "metadata": {},
   "outputs": [
    {
     "output_type": "stream",
     "name": "stdout",
     "text": [
      "2020.12.06 <class 'str'>\n",
      "2020.12.09 <class 'str'>\n",
      "&period=2020.12.06.%7C2020.12.09.\n"
     ]
    }
   ],
   "source": [
    "page_index = 1\n",
    "start = datetime.now() + timedelta(days=-3)\n",
    "start =datetime.strftime(start,'%Y.%m.%d')\n",
    "print(start, type(start))\n",
    "\n",
    "end = datetime.strftime(datetime.now(),'%Y.%m.%d')\n",
    "print(end, type(end))\n",
    "\n",
    "period = '&period=' + start + '.%7C' + end + '.'\n",
    "print(period)"
   ]
  },
  {
   "cell_type": "code",
   "execution_count": 52,
   "metadata": {},
   "outputs": [
    {
     "output_type": "execute_result",
     "data": {
      "text/plain": [
       "'2020.12.09'"
      ]
     },
     "metadata": {},
     "execution_count": 52
    }
   ],
   "source": [
    "today = end\n",
    "today"
   ]
  },
  {
   "cell_type": "code",
   "execution_count": 53,
   "metadata": {},
   "outputs": [
    {
     "output_type": "execute_result",
     "data": {
      "text/plain": [
       "<_io.TextIOWrapper name='./result/url_list_여친%20선물_2020.12.09.txt' mode='w' encoding='cp949'>"
      ]
     },
     "metadata": {},
     "execution_count": 53
    }
   ],
   "source": [
    "# url 저장\n",
    "f = open('./result/url_list_' + get_keyword(keyword) + '_' + today + '.txt', 'w')\n",
    "f"
   ]
  },
  {
   "cell_type": "code",
   "execution_count": 54,
   "metadata": {},
   "outputs": [
    {
     "output_type": "stream",
     "name": "stdout",
     "text": [
      "현재 글 수: 7\n",
      "총 글 수: 7\n"
     ]
    }
   ],
   "source": [
    "page_url = []\n",
    "while True:\n",
    "    time.sleep(uniform(0.1, 1.0))\n",
    "    driver.get('https://kin.naver.com/search/list.nhn?' + \"&sort=\" + sort_kind(0) + '&query=' + get_keyword(keyword) + period + \"&section=kin\" + \"&page=\" + str(page_index))\n",
    "\n",
    "    html = driver.page_source\n",
    "    soup = BeautifulSoup(html, 'html.parser')\n",
    "\n",
    "    tags = soup.select('ul.basic1 li > dl > dt > a')\n",
    "    for tag in tags:\n",
    "        url = tag.get('href')\n",
    "        page_url.append(url)\n",
    "        f.write(url + '\\n')\n",
    "    \n",
    "    post_number = soup.select_one('.number').text.lstrip('(').rstrip(')').replace(',','')\n",
    "    current_number = int(post_number.split('/')[0].split('-')[1])\n",
    "    total_number = int(post_number.split('/')[1])\n",
    "\n",
    "    print('현재 글 수:',current_number)   \n",
    "    if current_number == total_number:\n",
    "        break\n",
    "    else:\n",
    "        page_index += 1\n",
    "\n",
    "print('총 글 수:',total_number)\n",
    "f.close()"
   ]
  },
  {
   "source": [
    "- url 파일 한 줄씩 읽어 리스트로 만들기"
   ],
   "cell_type": "markdown",
   "metadata": {}
  },
  {
   "cell_type": "code",
   "execution_count": 55,
   "metadata": {},
   "outputs": [],
   "source": [
    "with open('./result/url_list_' + get_keyword(keyword) + '_' + today + '.txt', 'r') as f:\n",
    "    list_file = f.readlines()\n",
    "list_file = [line.rstrip('\\n') for line in list_file] "
   ]
  },
  {
   "cell_type": "code",
   "execution_count": 56,
   "metadata": {},
   "outputs": [
    {
     "output_type": "stream",
     "name": "stdout",
     "text": [
      "<class 'list'>\n"
     ]
    },
    {
     "output_type": "execute_result",
     "data": {
      "text/plain": [
       "'https://kin.naver.com/qna/detail.nhn?d1id=6&dirId=6130202&docId=375046270&qb=7Jes7LmcIOyEoOusvA==&enc=utf8&section=kin&rank=1&search_sort=0&spq=0'"
      ]
     },
     "metadata": {},
     "execution_count": 56
    }
   ],
   "source": [
    "print(type(list_file))\n",
    "list_file[0]"
   ]
  },
  {
   "source": [
    "- 엑셀로 저장할 때 파일 이름"
   ],
   "cell_type": "markdown",
   "metadata": {}
  },
  {
   "cell_type": "code",
   "execution_count": 57,
   "metadata": {},
   "outputs": [
    {
     "output_type": "execute_result",
     "data": {
      "text/plain": [
       "'./result/여친%20선물_2020.12.09_crawling_result.xlsx'"
      ]
     },
     "metadata": {},
     "execution_count": 57
    }
   ],
   "source": [
    "excelname = './result/' + get_keyword(keyword) + '_' + today + '_crawling_result.xlsx'\n",
    "excelname"
   ]
  },
  {
   "cell_type": "code",
   "execution_count": 58,
   "metadata": {},
   "outputs": [],
   "source": [
    "wb = Workbook()\n",
    "sheet = wb.active\n",
    "sheet.append(['제목','질문','답변'])"
   ]
  },
  {
   "cell_type": "code",
   "execution_count": 62,
   "metadata": {},
   "outputs": [
    {
     "output_type": "stream",
     "name": "stderr",
     "text": [
      "\n",
      "\n",
      "  0%|          | 0/7 [00:00<?, ?it/s]\n",
      " tag로 가져온 글 개수: 6\n",
      "실제 들어오는 글 개수: 6\n",
      "\n",
      "\n",
      " 14%|█▍        | 1/7 [00:05<00:32,  5.48s/it]\n",
      " tag로 가져온 글 개수: 6\n",
      "실제 들어오는 글 개수: 6\n",
      "\n",
      "\n",
      " 29%|██▊       | 2/7 [00:08<00:23,  4.73s/it]\n",
      " tag로 가져온 글 개수: 9\n",
      "실제 들어오는 글 개수: 8\n",
      "\n",
      "\n",
      " 43%|████▎     | 3/7 [00:11<00:17,  4.27s/it]\n",
      " tag로 가져온 글 개수: 5\n",
      "실제 들어오는 글 개수: 5\n",
      "\n",
      "\n",
      " 57%|█████▋    | 4/7 [00:15<00:11,  4.00s/it]\n",
      " tag로 가져온 글 개수: 5\n",
      "실제 들어오는 글 개수: 5\n",
      "\n",
      "\n",
      " 71%|███████▏  | 5/7 [00:17<00:07,  3.51s/it]\n",
      " tag로 가져온 글 개수: 8\n",
      "실제 들어오는 글 개수: 7\n",
      "\n",
      "\n",
      " 86%|████████▌ | 6/7 [00:20<00:03,  3.29s/it]\n",
      " tag로 가져온 글 개수: 5\n",
      "실제 들어오는 글 개수: 5\n",
      "\n",
      "\n",
      "100%|██████████| 7/7 [00:24<00:00,  3.48s/it]\n"
     ]
    }
   ],
   "source": [
    "for j in range(1, 4):\n",
    "    sheet.cell(row = 1, column=j).fill = PatternFill(start_color='808080', end_color='808080', fill_type='solid')\n",
    "\n",
    "for url in tqdm(list_file):\n",
    "\n",
    "    driver.get(url)\n",
    "    # html = requests.get(url).text\n",
    "    # soup = BeautifulSoup(html, 'html.parser')\n",
    "\n",
    "    # 답변 개수 때문에 bs4 대신 selenium 사용\n",
    "    answer_count = int(driver.find_element_by_css_selector('em._answerCount.num').text)\n",
    "    print('\\n tag로 가져온 글 개수:',answer_count)\n",
    "    for i in range( (answer_count-1) // 5 ):\n",
    "        more_5 = driver.find_element_by_id('nextPageButton')\n",
    "        more_5.click()\n",
    "        time.sleep(uniform(0.1, 1.0))\n",
    "\n",
    "    # tag로 들어오는 글 개수와 실제 들어오는 글 개수가 달랐던 이유\n",
    "    # 클릭을 완료한 뒤에 page_source를 가져와야 제대로 들어오는데 이 코드가 위에 가 있었음\n",
    "    html = driver.page_source\n",
    "    soup = BeautifulSoup(html, 'html.parser')\n",
    "\n",
    "    # main 제목\n",
    "    title = soup.select_one('div.title').text.lstrip('\"').rstrip('\"').strip()\n",
    "\n",
    "    try:\n",
    "        content_text = soup.select_one('div.c-heading__content').text.strip()\n",
    "    except:\n",
    "        content_text = \"\"\n",
    "    \n",
    "    answer_lists = soup.select(\"div._endContentsText.c-heading-answer__content-user\")\n",
    "    print('실제 들어오는 글 개수:',len(answer_lists))\n",
    "\n",
    "    for i, answer in enumerate(answer_lists):\n",
    "        lines = answer.select('span')\n",
    "        answer_text = \"\"\n",
    "        for line in lines:\n",
    "            answer_text += line.text.strip()\n",
    "        \n",
    "        if i == 0:\n",
    "            sheet.append([title,content_text,answer_text])\n",
    "        else:\n",
    "            sheet.append([\"\",\"\",answer_text])\n",
    "    wb.save(excelname)"
   ]
  },
  {
   "cell_type": "code",
   "execution_count": 42,
   "metadata": {},
   "outputs": [
    {
     "output_type": "stream",
     "name": "stdout",
     "text": [
      "6\n",
      "몇번\n"
     ]
    }
   ],
   "source": [
    "print(6)\n",
    "for i in range((6-1) // 5):\n",
    "    print('몇번')"
   ]
  },
  {
   "source": [
    "### 삭제되었거나, 글은 없고 사진만 있는 경우에는 tag 글 개수와 실제 글 개수에 차이가 있을 수 있는 것으로 보임"
   ],
   "cell_type": "markdown",
   "metadata": {}
  }
 ]
}