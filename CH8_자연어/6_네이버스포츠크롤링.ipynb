{
 "metadata": {
  "language_info": {
   "codemirror_mode": {
    "name": "ipython",
    "version": 3
   },
   "file_extension": ".py",
   "mimetype": "text/x-python",
   "name": "python",
   "nbconvert_exporter": "python",
   "pygments_lexer": "ipython3",
   "version": "3.8.5-final"
  },
  "orig_nbformat": 2,
  "kernelspec": {
   "name": "python3",
   "display_name": "Python 3",
   "language": "python"
  }
 },
 "nbformat": 4,
 "nbformat_minor": 2,
 "cells": [
  {
   "cell_type": "code",
   "execution_count": 155,
   "metadata": {},
   "outputs": [],
   "source": [
    "from selenium import webdriver\n",
    "from selenium.webdriver.chrome.options import Options\n",
    "import requests\n",
    "from bs4 import BeautifulSoup\n",
    "from datetime import datetime, timedelta\n",
    "from msedge.selenium_tools import Edge, EdgeOptions\n",
    "\n",
    "import time\n",
    "from random import *\n",
    "from tqdm import tqdm"
   ]
  },
  {
   "cell_type": "code",
   "execution_count": 156,
   "metadata": {},
   "outputs": [],
   "source": [
    "options = EdgeOptions()\n",
    "options.use_chromium = True \n",
    "options.add_argument(\"headless\")\n",
    "options.add_argument(\"disable-gpu\")\n",
    "\n",
    "# Message: element not interactable 오류 방지\n",
    "options.add_argument('--window-size=1920x1080')\n",
    "\n",
    "driver = Edge('./msedgedriver.exe', options=options)"
   ]
  },
  {
   "source": [
    "# 메뉴 주소 받아오기\n",
    "- 가끔씩 올림픽 특수로 메뉴가 추가되고, bs4 크롤링을 막아놓았기 때문"
   ],
   "cell_type": "markdown",
   "metadata": {}
  },
  {
   "cell_type": "code",
   "execution_count": 157,
   "metadata": {},
   "outputs": [],
   "source": [
    "base_url = \"https://sports.news.naver.com/index.nhn\"\n",
    "driver.get(base_url)\n",
    "\n",
    "html = driver.page_source\n",
    "soup = BeautifulSoup(html,'html.parser')"
   ]
  },
  {
   "cell_type": "code",
   "execution_count": 158,
   "metadata": {},
   "outputs": [],
   "source": [
    "# 메뉴 태그\n",
    "menu_set = soup.select('a.link_main_menu')\n",
    "time.sleep(uniform(0.3, 0.7))\n",
    "\n",
    "menu_list = []\n",
    "for menu in menu_set[1:-4]:\n",
    "    link = menu.get('href').split('/')[1]\n",
    "    menu_list.append(link)"
   ]
  },
  {
   "cell_type": "code",
   "execution_count": 159,
   "metadata": {},
   "outputs": [
    {
     "output_type": "stream",
     "name": "stdout",
     "text": [
      "https://sports.news.naver.com/kbaseball/news/index.nhn?isphoto=N\nhttps://sports.news.naver.com/wbaseball/news/index.nhn?isphoto=N\nhttps://sports.news.naver.com/kfootball/news/index.nhn?isphoto=N\nhttps://sports.news.naver.com/wfootball/news/index.nhn?isphoto=N\nhttps://sports.news.naver.com/basketball/news/index.nhn?isphoto=N\nhttps://sports.news.naver.com/volleyball/news/index.nhn?isphoto=N\nhttps://sports.news.naver.com/golf/news/index.nhn?isphoto=N\nhttps://sports.news.naver.com/general/news/index.nhn?isphoto=N\n"
     ]
    }
   ],
   "source": [
    "for menu in menu_list:\n",
    "    main_url = f\"https://sports.news.naver.com/{menu}/news/index.nhn?isphoto=N\"\n",
    "    print(main_url)\n",
    "\n",
    "# 드라이버 종료하고 새 드라이버\n",
    "driver.close()"
   ]
  },
  {
   "source": [
    "# 네이버 스포츠 특징\n",
    "- 총 몇 페이지가 있는지 알려주는 인디케이터가 없다. <br>\n",
    "=> 1~10페이지까지 돈 다음에 마지막 페이지에서 selenium으로 일일히 '다음' 버튼을 눌러줘야 함 <br>\n",
    "=> \n",
    "- 최대 페이지를 넘어가면 마지막 페이지가 똑같이 나온다. <br>\n",
    "=> page_num += 1 으로 while문을 돌리는데, 마지막 페이지를 찾아서 while문을 끝내야 한다."
   ],
   "cell_type": "markdown",
   "metadata": {}
  },
  {
   "source": [
    "## Pagination 분석\n",
    "- 현재 페이지의 Tag는 <strong\\>이다.\n",
    "### 언제 try-except로 다음 버튼을 눌러야 할까? \n",
    "- %10 == 0 일때 다음 버튼을 찾고 누른다.\n",
    "- 없으면 알아서 10이 오기 전에 (딱 10에 끝나도 상관없다) Last number가 나와 끝난다."
   ],
   "cell_type": "markdown",
   "metadata": {}
  },
  {
   "cell_type": "code",
   "execution_count": 213,
   "metadata": {},
   "outputs": [],
   "source": [
    "driver = Edge('./msedgedriver.exe', options=options)"
   ]
  },
  {
   "cell_type": "code",
   "execution_count": 214,
   "metadata": {},
   "outputs": [],
   "source": [
    "driver.get(tmp)\n",
    "html = driver.page_source\n",
    "soup = BeautifulSoup(html, 'html.parser')"
   ]
  },
  {
   "source": [
    "### 특히 headless일땐 빠르기 때문에 select 메소드가 태그를 찾지 못하고 넘어가는 경우가 있기 때문에 select 코드 다음에 sleep 코드를 넣어줘야 한다."
   ],
   "cell_type": "markdown",
   "metadata": {}
  },
  {
   "cell_type": "code",
   "execution_count": 215,
   "metadata": {
    "tags": []
   },
   "outputs": [
    {
     "output_type": "stream",
     "name": "stderr",
     "text": [
      "100%|██████████| 8/8 [00:58<00:00,  7.26s/it]\n"
     ]
    }
   ],
   "source": [
    "# 모든 메뉴를 돌아가며 크롤링\n",
    "for menu in tqdm(menu_list):\n",
    "    time.sleep(uniform(0.3, 0.7))\n",
    "\n",
    "    page_num = 1\n",
    "    while True:\n",
    "        url = f\"https://sports.news.naver.com/{menu}/news/index.nhn?isphoto=N&page={page_num}\"\n",
    "        driver.get(url)\n",
    "        time.sleep(uniform(0.3, 0.7))\n",
    "\n",
    "        html = driver.page_source\n",
    "        soup = BeautifulSoup(html, 'html.parser')\n",
    "\n",
    "        # 새로운 메뉴마다 driver.get(url)로 새로운 창을 띄우지 않기 위해 기존 창으로 돌아가기\n",
    "        driver.switch_to.window(driver.window_handles[0])\n",
    "        time.sleep(uniform(0.3, 0.7))\n",
    "\n",
    "\n",
    "        titles = soup.select('a.title')\n",
    "        today = datetime.now().strftime(\"%Y_%m_%d\")\n",
    "        f = open(f'./result/{today} 네이버스포츠 기사제목.txt', 'a', encoding='utf8')\n",
    "        for title in titles:\n",
    "            f.write(title.text + '\\n')\n",
    "        f.close()    \n",
    "\n",
    "        \n",
    "        if page_num % 10 == 0:\n",
    "        # 페이지가 10, 20, 30 일때 '다음' 버튼이 있으면 누르고 없으면 pass한다.\n",
    "            try:\n",
    "                # page_source를 위에서 사용했어도 여전히 driver method 사용 가능\n",
    "                next = driver.find_element_by_css_selector('#_pageList > a.next')\n",
    "                time.sleep(uniform(0.3, 0.7))\n",
    "                next.click()\n",
    "            # '다음' 버튼이 없을 때    \n",
    "            except:\n",
    "                \"\"\" 언제 끝내야 하는가?\n",
    "                페이지네이션의 마지막 페이지 넘버를 받아온다.\n",
    "                그게 현재 페이지랑 같다면 루프를 닫으면 된다.\n",
    "\n",
    "                주의: 현재 페이지의 태그는 strong이기 때문에 10배수 페이지에서 받아올 수 없다.\n",
    "                (10배수 페이지 == 현재 페이지, 그러므로 마지막 태그가 10이 아닌 9가 됨) \n",
    "                \"\"\"\n",
    "                pass\n",
    "\n",
    "        # 그러므로 마지막 페이저 넘버를 시작할 때, 즉 페이지넘버 = 1일때 받아야 함\n",
    "        if page_num % 10 == 1:\n",
    "        # '다음' 버튼이 있기 때문에 pagebox[-1]가 마지막 페이지의 인덱스다.  \n",
    "            try:\n",
    "                pagebox = soup.select('#_pageList a')\n",
    "                time.sleep(uniform(0.3, 0.7))\n",
    "                \n",
    "                # 페이지가 2개라서 a태그가 하나밖에 없을 때\n",
    "                if len(pagebox) == 1:\n",
    "                    last_page = int(pagebox[0].text) \n",
    "                    # 여기원래 int(pagebox[0].text) + 1 이었음. 안되면 이걸로\n",
    "                # 페이지 3개 이상\n",
    "                else:\n",
    "                    last_page = int(pagebox[-1].text)\n",
    "                    # 여기원래 int(pagebox[-2].text) + 1 이었음. 안되면 이걸로\n",
    "            except:\n",
    "                # 페이지가 1개라서(ex.마지막 페이지가 21) a는 하나도 없고 자기자신이 strong일 때\n",
    "                last_page = int(soup.select_one('#_pageList strong').text)\n",
    "\n",
    "        if last_page == page_num:\n",
    "            break\n",
    "        else:\n",
    "            page_num += 1"
   ]
  },
  {
   "cell_type": "code",
   "execution_count": 216,
   "metadata": {},
   "outputs": [
    {
     "output_type": "execute_result",
     "data": {
      "text/plain": [
       "[<div class=\"paginate\" id=\"_pageList\" style=\"\">\n",
       " <a data-id=\"1\" href=\"#\" onclick=\"clickcr(this, 'nwl.paging', '', '', event);\">1</a>\n",
       " <a data-id=\"2\" href=\"#\" onclick=\"clickcr(this, 'nwl.paging', '', '', event);\">2</a>\n",
       " <strong>3</strong>\n",
       " </div>]"
      ]
     },
     "metadata": {},
     "execution_count": 216
    }
   ],
   "source": [
    "pagebox = soup.select('#_pageList')\n",
    "# 여기는 '다음'이란게 있어서 실제 사용할때는 -1이 되어야 함\n",
    "pagebox"
   ]
  },
  {
   "cell_type": "code",
   "execution_count": 217,
   "metadata": {},
   "outputs": [
    {
     "output_type": "execute_result",
     "data": {
      "text/plain": [
       "1"
      ]
     },
     "metadata": {},
     "execution_count": 217
    }
   ],
   "source": [
    "pagebox = soup.select('#_pageList a')\n",
    "int(pagebox[-2].text)"
   ]
  }
 ]
}