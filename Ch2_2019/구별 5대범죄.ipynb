{
 "metadata": {
  "language_info": {
   "codemirror_mode": {
    "name": "ipython",
    "version": 3
   },
   "file_extension": ".py",
   "mimetype": "text/x-python",
   "name": "python",
   "nbconvert_exporter": "python",
   "pygments_lexer": "ipython3",
   "version": "3.8.1-final"
  },
  "orig_nbformat": 2,
  "kernelspec": {
   "name": "python38132bit243e625a994649b0a7927380da95a17b",
   "display_name": "Python 3.8.1 32-bit"
  }
 },
 "nbformat": 4,
 "nbformat_minor": 2,
 "cells": [
  {
   "source": [
    "# 서울시 구별 5대 범죄"
   ],
   "cell_type": "markdown",
   "metadata": {}
  },
  {
   "cell_type": "code",
   "execution_count": 152,
   "metadata": {},
   "outputs": [],
   "source": [
    "import pandas as pd\n",
    "import numpy as np"
   ]
  },
  {
   "source": [
    "dtype이 int가 아니라 object라서 read_csv의 thousands 옵션이 먹히지 않을 때"
   ],
   "cell_type": "markdown",
   "metadata": {}
  },
  {
   "cell_type": "code",
   "execution_count": 170,
   "metadata": {},
   "outputs": [
    {
     "output_type": "execute_result",
     "data": {
      "text/plain": [
       "     기간  자치구       합계    합계.1   살인 살인.1   강도 강도.1 강간강제추행 강간강제추행.1      절도  \\\n",
       "0    기간  자치구       발생      검거   발생   검거   발생   검거     발생       검거      발생   \n",
       "1  2019   합계  103,668  74,805  136  128  136  133  6,469    6,007  42,204   \n",
       "2  2019  종로구    3,846   4,117    4    5    7    8    238    1,143   1,515   \n",
       "3  2019   중구    4,327   2,804    2    1    6    5    195      115   2,202   \n",
       "4  2019  용산구    3,313   2,611    3    3    3    4    272      237     999   \n",
       "\n",
       "     절도.1      폭력    폭력.1  \n",
       "0      검거      발생      검거  \n",
       "1  21,284  54,723  47,253  \n",
       "2   1,069   2,082   1,892  \n",
       "3   1,050   1,922   1,633  \n",
       "4     544   2,036   1,823  "
      ],
      "text/html": "<div>\n<style scoped>\n    .dataframe tbody tr th:only-of-type {\n        vertical-align: middle;\n    }\n\n    .dataframe tbody tr th {\n        vertical-align: top;\n    }\n\n    .dataframe thead th {\n        text-align: right;\n    }\n</style>\n<table border=\"1\" class=\"dataframe\">\n  <thead>\n    <tr style=\"text-align: right;\">\n      <th></th>\n      <th>기간</th>\n      <th>자치구</th>\n      <th>합계</th>\n      <th>합계.1</th>\n      <th>살인</th>\n      <th>살인.1</th>\n      <th>강도</th>\n      <th>강도.1</th>\n      <th>강간강제추행</th>\n      <th>강간강제추행.1</th>\n      <th>절도</th>\n      <th>절도.1</th>\n      <th>폭력</th>\n      <th>폭력.1</th>\n    </tr>\n  </thead>\n  <tbody>\n    <tr>\n      <th>0</th>\n      <td>기간</td>\n      <td>자치구</td>\n      <td>발생</td>\n      <td>검거</td>\n      <td>발생</td>\n      <td>검거</td>\n      <td>발생</td>\n      <td>검거</td>\n      <td>발생</td>\n      <td>검거</td>\n      <td>발생</td>\n      <td>검거</td>\n      <td>발생</td>\n      <td>검거</td>\n    </tr>\n    <tr>\n      <th>1</th>\n      <td>2019</td>\n      <td>합계</td>\n      <td>103,668</td>\n      <td>74,805</td>\n      <td>136</td>\n      <td>128</td>\n      <td>136</td>\n      <td>133</td>\n      <td>6,469</td>\n      <td>6,007</td>\n      <td>42,204</td>\n      <td>21,284</td>\n      <td>54,723</td>\n      <td>47,253</td>\n    </tr>\n    <tr>\n      <th>2</th>\n      <td>2019</td>\n      <td>종로구</td>\n      <td>3,846</td>\n      <td>4,117</td>\n      <td>4</td>\n      <td>5</td>\n      <td>7</td>\n      <td>8</td>\n      <td>238</td>\n      <td>1,143</td>\n      <td>1,515</td>\n      <td>1,069</td>\n      <td>2,082</td>\n      <td>1,892</td>\n    </tr>\n    <tr>\n      <th>3</th>\n      <td>2019</td>\n      <td>중구</td>\n      <td>4,327</td>\n      <td>2,804</td>\n      <td>2</td>\n      <td>1</td>\n      <td>6</td>\n      <td>5</td>\n      <td>195</td>\n      <td>115</td>\n      <td>2,202</td>\n      <td>1,050</td>\n      <td>1,922</td>\n      <td>1,633</td>\n    </tr>\n    <tr>\n      <th>4</th>\n      <td>2019</td>\n      <td>용산구</td>\n      <td>3,313</td>\n      <td>2,611</td>\n      <td>3</td>\n      <td>3</td>\n      <td>3</td>\n      <td>4</td>\n      <td>272</td>\n      <td>237</td>\n      <td>999</td>\n      <td>544</td>\n      <td>2,036</td>\n      <td>1,823</td>\n    </tr>\n  </tbody>\n</table>\n</div>"
     },
     "metadata": {},
     "execution_count": 170
    }
   ],
   "source": [
    "import csv\n",
    "crime = pd.read_csv('서울시 구별 5대범죄.txt', delimiter='\\t', encoding='utf-8', thousands=',')\n",
    "# thousands option not working\n",
    "crime.head()"
   ]
  },
  {
   "cell_type": "code",
   "execution_count": 171,
   "metadata": {},
   "outputs": [
    {
     "output_type": "execute_result",
     "data": {
      "text/plain": [
       "기간        object\n",
       "합계        object\n",
       "살인        object\n",
       "강도        object\n",
       "강간강제추행    object\n",
       "절도        object\n",
       "폭력        object\n",
       "dtype: object"
      ]
     },
     "metadata": {},
     "execution_count": 171
    }
   ],
   "source": [
    "# dtype이 int가 아니라 object라서 thousands 옵션이 안 먹힘\n",
    "crime.dtypes[::2]"
   ]
  },
  {
   "cell_type": "code",
   "execution_count": 172,
   "metadata": {},
   "outputs": [
    {
     "output_type": "execute_result",
     "data": {
      "text/plain": [
       "        합계    합계.1   살인 살인.1   강도 강도.1 강간강제추행 강간강제추행.1      절도    절도.1  \\\n",
       "1  103,668  74,805  136  128  136  133  6,469    6,007  42,204  21,284   \n",
       "2    3,846   4,117    4    5    7    8    238    1,143   1,515   1,069   \n",
       "3    4,327   2,804    2    1    6    5    195      115   2,202   1,050   \n",
       "4    3,313   2,611    3    3    3    4    272      237     999     544   \n",
       "5    2,512   1,838    6    5    9   10    133       96     970     511   \n",
       "\n",
       "       폭력    폭력.1  \n",
       "1  54,723  47,253  \n",
       "2   2,082   1,892  \n",
       "3   1,922   1,633  \n",
       "4   2,036   1,823  \n",
       "5   1,394   1,216  "
      ],
      "text/html": "<div>\n<style scoped>\n    .dataframe tbody tr th:only-of-type {\n        vertical-align: middle;\n    }\n\n    .dataframe tbody tr th {\n        vertical-align: top;\n    }\n\n    .dataframe thead th {\n        text-align: right;\n    }\n</style>\n<table border=\"1\" class=\"dataframe\">\n  <thead>\n    <tr style=\"text-align: right;\">\n      <th></th>\n      <th>합계</th>\n      <th>합계.1</th>\n      <th>살인</th>\n      <th>살인.1</th>\n      <th>강도</th>\n      <th>강도.1</th>\n      <th>강간강제추행</th>\n      <th>강간강제추행.1</th>\n      <th>절도</th>\n      <th>절도.1</th>\n      <th>폭력</th>\n      <th>폭력.1</th>\n    </tr>\n  </thead>\n  <tbody>\n    <tr>\n      <th>1</th>\n      <td>103,668</td>\n      <td>74,805</td>\n      <td>136</td>\n      <td>128</td>\n      <td>136</td>\n      <td>133</td>\n      <td>6,469</td>\n      <td>6,007</td>\n      <td>42,204</td>\n      <td>21,284</td>\n      <td>54,723</td>\n      <td>47,253</td>\n    </tr>\n    <tr>\n      <th>2</th>\n      <td>3,846</td>\n      <td>4,117</td>\n      <td>4</td>\n      <td>5</td>\n      <td>7</td>\n      <td>8</td>\n      <td>238</td>\n      <td>1,143</td>\n      <td>1,515</td>\n      <td>1,069</td>\n      <td>2,082</td>\n      <td>1,892</td>\n    </tr>\n    <tr>\n      <th>3</th>\n      <td>4,327</td>\n      <td>2,804</td>\n      <td>2</td>\n      <td>1</td>\n      <td>6</td>\n      <td>5</td>\n      <td>195</td>\n      <td>115</td>\n      <td>2,202</td>\n      <td>1,050</td>\n      <td>1,922</td>\n      <td>1,633</td>\n    </tr>\n    <tr>\n      <th>4</th>\n      <td>3,313</td>\n      <td>2,611</td>\n      <td>3</td>\n      <td>3</td>\n      <td>3</td>\n      <td>4</td>\n      <td>272</td>\n      <td>237</td>\n      <td>999</td>\n      <td>544</td>\n      <td>2,036</td>\n      <td>1,823</td>\n    </tr>\n    <tr>\n      <th>5</th>\n      <td>2,512</td>\n      <td>1,838</td>\n      <td>6</td>\n      <td>5</td>\n      <td>9</td>\n      <td>10</td>\n      <td>133</td>\n      <td>96</td>\n      <td>970</td>\n      <td>511</td>\n      <td>1,394</td>\n      <td>1,216</td>\n    </tr>\n  </tbody>\n</table>\n</div>"
     },
     "metadata": {},
     "execution_count": 172
    }
   ],
   "source": [
    "# 숫자 데이터 행/열만 가져옴\n",
    "crime.iloc[1: , 2: ].head()"
   ]
  },
  {
   "cell_type": "code",
   "execution_count": 173,
   "metadata": {},
   "outputs": [
    {
     "output_type": "error",
     "ename": "AttributeError",
     "evalue": "'DataFrame' object has no attribute 'str'",
     "traceback": [
      "\u001b[1;31m---------------------------------------------------------------------------\u001b[0m",
      "\u001b[1;31mAttributeError\u001b[0m                            Traceback (most recent call last)",
      "\u001b[1;32m<ipython-input-173-695c5d05d9bb>\u001b[0m in \u001b[0;36m<module>\u001b[1;34m\u001b[0m\n\u001b[0;32m      1\u001b[0m \u001b[1;31m# str은 DF의 열, 즉 Series에서만 가능. DF 전체에서 하고싶으면 apply로 열로 쪼개야 함\u001b[0m\u001b[1;33m\u001b[0m\u001b[1;33m\u001b[0m\u001b[1;33m\u001b[0m\u001b[0m\n\u001b[1;32m----> 2\u001b[1;33m \u001b[0mcrime\u001b[0m\u001b[1;33m.\u001b[0m\u001b[0miloc\u001b[0m\u001b[1;33m[\u001b[0m\u001b[1;36m1\u001b[0m\u001b[1;33m:\u001b[0m \u001b[1;33m,\u001b[0m \u001b[1;36m2\u001b[0m\u001b[1;33m:\u001b[0m \u001b[1;33m]\u001b[0m \u001b[1;33m=\u001b[0m \u001b[0mcrime\u001b[0m\u001b[1;33m.\u001b[0m\u001b[0miloc\u001b[0m\u001b[1;33m[\u001b[0m\u001b[1;36m1\u001b[0m\u001b[1;33m:\u001b[0m \u001b[1;33m,\u001b[0m \u001b[1;36m2\u001b[0m\u001b[1;33m:\u001b[0m \u001b[1;33m]\u001b[0m\u001b[1;33m.\u001b[0m\u001b[0mstr\u001b[0m\u001b[1;33m.\u001b[0m\u001b[0mstrip\u001b[0m\u001b[1;33m(\u001b[0m\u001b[1;33m)\u001b[0m\u001b[1;33m.\u001b[0m\u001b[0mreplace\u001b[0m\u001b[1;33m(\u001b[0m\u001b[1;34m','\u001b[0m \u001b[1;33m,\u001b[0m \u001b[1;34m''\u001b[0m\u001b[1;33m)\u001b[0m\u001b[1;33m.\u001b[0m\u001b[0mastype\u001b[0m\u001b[1;33m(\u001b[0m\u001b[1;34m'int64'\u001b[0m\u001b[1;33m)\u001b[0m\u001b[1;33m\u001b[0m\u001b[1;33m\u001b[0m\u001b[0m\n\u001b[0m",
      "\u001b[1;32m~\\AppData\\Local\\Programs\\Python\\Python38-32\\lib\\site-packages\\pandas\\core\\generic.py\u001b[0m in \u001b[0;36m__getattr__\u001b[1;34m(self, name)\u001b[0m\n\u001b[0;32m   5128\u001b[0m             \u001b[1;32mif\u001b[0m \u001b[0mself\u001b[0m\u001b[1;33m.\u001b[0m\u001b[0m_info_axis\u001b[0m\u001b[1;33m.\u001b[0m\u001b[0m_can_hold_identifiers_and_holds_name\u001b[0m\u001b[1;33m(\u001b[0m\u001b[0mname\u001b[0m\u001b[1;33m)\u001b[0m\u001b[1;33m:\u001b[0m\u001b[1;33m\u001b[0m\u001b[1;33m\u001b[0m\u001b[0m\n\u001b[0;32m   5129\u001b[0m                 \u001b[1;32mreturn\u001b[0m \u001b[0mself\u001b[0m\u001b[1;33m[\u001b[0m\u001b[0mname\u001b[0m\u001b[1;33m]\u001b[0m\u001b[1;33m\u001b[0m\u001b[1;33m\u001b[0m\u001b[0m\n\u001b[1;32m-> 5130\u001b[1;33m             \u001b[1;32mreturn\u001b[0m \u001b[0mobject\u001b[0m\u001b[1;33m.\u001b[0m\u001b[0m__getattribute__\u001b[0m\u001b[1;33m(\u001b[0m\u001b[0mself\u001b[0m\u001b[1;33m,\u001b[0m \u001b[0mname\u001b[0m\u001b[1;33m)\u001b[0m\u001b[1;33m\u001b[0m\u001b[1;33m\u001b[0m\u001b[0m\n\u001b[0m\u001b[0;32m   5131\u001b[0m \u001b[1;33m\u001b[0m\u001b[0m\n\u001b[0;32m   5132\u001b[0m     \u001b[1;32mdef\u001b[0m \u001b[0m__setattr__\u001b[0m\u001b[1;33m(\u001b[0m\u001b[0mself\u001b[0m\u001b[1;33m,\u001b[0m \u001b[0mname\u001b[0m\u001b[1;33m:\u001b[0m \u001b[0mstr\u001b[0m\u001b[1;33m,\u001b[0m \u001b[0mvalue\u001b[0m\u001b[1;33m)\u001b[0m \u001b[1;33m->\u001b[0m \u001b[1;32mNone\u001b[0m\u001b[1;33m:\u001b[0m\u001b[1;33m\u001b[0m\u001b[1;33m\u001b[0m\u001b[0m\n",
      "\u001b[1;31mAttributeError\u001b[0m: 'DataFrame' object has no attribute 'str'"
     ]
    }
   ],
   "source": [
    "# str은 DF의 열, 즉 Series에서만 가능. DF 전체에서 하고싶으면 apply로 열로 쪼개야 함\n",
    "crime.iloc[1: , 2: ] = crime.iloc[1: , 2: ].str.strip().replace(',' , '').astype('int64')"
   ]
  },
  {
   "cell_type": "code",
   "execution_count": 174,
   "metadata": {},
   "outputs": [],
   "source": [
    "crime.iloc[1: , 2: ] = crime.iloc[1: , 2: ].apply(lambda r: r.str.replace(',' , '').astype('int64') ,axis = 1)"
   ]
  },
  {
   "cell_type": "code",
   "execution_count": 175,
   "metadata": {},
   "outputs": [
    {
     "output_type": "execute_result",
     "data": {
      "text/plain": [
       "기간          object\n",
       "자치구         object\n",
       "합계          object\n",
       "합계.1        object\n",
       "살인          object\n",
       "살인.1        object\n",
       "강도          object\n",
       "강도.1        object\n",
       "강간강제추행      object\n",
       "강간강제추행.1    object\n",
       "절도          object\n",
       "절도.1        object\n",
       "폭력          object\n",
       "폭력.1        object\n",
       "dtype: object"
      ]
     },
     "metadata": {},
     "execution_count": 175
    }
   ],
   "source": [
    "crime.dtypes"
   ]
  },
  {
   "cell_type": "code",
   "execution_count": 176,
   "metadata": {},
   "outputs": [
    {
     "output_type": "execute_result",
     "data": {
      "text/plain": [
       "     기간  자치구      합계   합계.1   살인 살인.1   강도 강도.1 강간강제추행 강간강제추행.1     절도   절도.1  \\\n",
       "0    기간  자치구      발생     검거   발생   검거   발생   검거     발생       검거     발생     검거   \n",
       "1  2019   합계  103668  74805  136  128  136  133   6469     6007  42204  21284   \n",
       "2  2019  종로구    3846   4117    4    5    7    8    238     1143   1515   1069   \n",
       "3  2019   중구    4327   2804    2    1    6    5    195      115   2202   1050   \n",
       "4  2019  용산구    3313   2611    3    3    3    4    272      237    999    544   \n",
       "\n",
       "      폭력   폭력.1  \n",
       "0     발생     검거  \n",
       "1  54723  47253  \n",
       "2   2082   1892  \n",
       "3   1922   1633  \n",
       "4   2036   1823  "
      ],
      "text/html": "<div>\n<style scoped>\n    .dataframe tbody tr th:only-of-type {\n        vertical-align: middle;\n    }\n\n    .dataframe tbody tr th {\n        vertical-align: top;\n    }\n\n    .dataframe thead th {\n        text-align: right;\n    }\n</style>\n<table border=\"1\" class=\"dataframe\">\n  <thead>\n    <tr style=\"text-align: right;\">\n      <th></th>\n      <th>기간</th>\n      <th>자치구</th>\n      <th>합계</th>\n      <th>합계.1</th>\n      <th>살인</th>\n      <th>살인.1</th>\n      <th>강도</th>\n      <th>강도.1</th>\n      <th>강간강제추행</th>\n      <th>강간강제추행.1</th>\n      <th>절도</th>\n      <th>절도.1</th>\n      <th>폭력</th>\n      <th>폭력.1</th>\n    </tr>\n  </thead>\n  <tbody>\n    <tr>\n      <th>0</th>\n      <td>기간</td>\n      <td>자치구</td>\n      <td>발생</td>\n      <td>검거</td>\n      <td>발생</td>\n      <td>검거</td>\n      <td>발생</td>\n      <td>검거</td>\n      <td>발생</td>\n      <td>검거</td>\n      <td>발생</td>\n      <td>검거</td>\n      <td>발생</td>\n      <td>검거</td>\n    </tr>\n    <tr>\n      <th>1</th>\n      <td>2019</td>\n      <td>합계</td>\n      <td>103668</td>\n      <td>74805</td>\n      <td>136</td>\n      <td>128</td>\n      <td>136</td>\n      <td>133</td>\n      <td>6469</td>\n      <td>6007</td>\n      <td>42204</td>\n      <td>21284</td>\n      <td>54723</td>\n      <td>47253</td>\n    </tr>\n    <tr>\n      <th>2</th>\n      <td>2019</td>\n      <td>종로구</td>\n      <td>3846</td>\n      <td>4117</td>\n      <td>4</td>\n      <td>5</td>\n      <td>7</td>\n      <td>8</td>\n      <td>238</td>\n      <td>1143</td>\n      <td>1515</td>\n      <td>1069</td>\n      <td>2082</td>\n      <td>1892</td>\n    </tr>\n    <tr>\n      <th>3</th>\n      <td>2019</td>\n      <td>중구</td>\n      <td>4327</td>\n      <td>2804</td>\n      <td>2</td>\n      <td>1</td>\n      <td>6</td>\n      <td>5</td>\n      <td>195</td>\n      <td>115</td>\n      <td>2202</td>\n      <td>1050</td>\n      <td>1922</td>\n      <td>1633</td>\n    </tr>\n    <tr>\n      <th>4</th>\n      <td>2019</td>\n      <td>용산구</td>\n      <td>3313</td>\n      <td>2611</td>\n      <td>3</td>\n      <td>3</td>\n      <td>3</td>\n      <td>4</td>\n      <td>272</td>\n      <td>237</td>\n      <td>999</td>\n      <td>544</td>\n      <td>2036</td>\n      <td>1823</td>\n    </tr>\n  </tbody>\n</table>\n</div>"
     },
     "metadata": {},
     "execution_count": 176
    }
   ],
   "source": [
    "# 정제 성공\n",
    "crime.head()"
   ]
  },
  {
   "cell_type": "code",
   "execution_count": 177,
   "metadata": {},
   "outputs": [
    {
     "output_type": "execute_result",
     "data": {
      "text/plain": [
       "     기간  자치구      합계   합계.1   살인 살인.1   강도 강도.1 강간강제추행 강간강제추행.1     절도   절도.1  \\\n",
       "0    기간  자치구      발생     검거   발생   검거   발생   검거     발생       검거     발생     검거   \n",
       "1  2019   합계  103668  74805  136  128  136  133   6469     6007  42204  21284   \n",
       "2  2019  종로구    3846   4117    4    5    7    8    238     1143   1515   1069   \n",
       "3  2019   중구    4327   2804    2    1    6    5    195      115   2202   1050   \n",
       "4  2019  용산구    3313   2611    3    3    3    4    272      237    999    544   \n",
       "\n",
       "      폭력   폭력.1  \n",
       "0     발생     검거  \n",
       "1  54723  47253  \n",
       "2   2082   1892  \n",
       "3   1922   1633  \n",
       "4   2036   1823  "
      ],
      "text/html": "<div>\n<style scoped>\n    .dataframe tbody tr th:only-of-type {\n        vertical-align: middle;\n    }\n\n    .dataframe tbody tr th {\n        vertical-align: top;\n    }\n\n    .dataframe thead th {\n        text-align: right;\n    }\n</style>\n<table border=\"1\" class=\"dataframe\">\n  <thead>\n    <tr style=\"text-align: right;\">\n      <th></th>\n      <th>기간</th>\n      <th>자치구</th>\n      <th>합계</th>\n      <th>합계.1</th>\n      <th>살인</th>\n      <th>살인.1</th>\n      <th>강도</th>\n      <th>강도.1</th>\n      <th>강간강제추행</th>\n      <th>강간강제추행.1</th>\n      <th>절도</th>\n      <th>절도.1</th>\n      <th>폭력</th>\n      <th>폭력.1</th>\n    </tr>\n  </thead>\n  <tbody>\n    <tr>\n      <th>0</th>\n      <td>기간</td>\n      <td>자치구</td>\n      <td>발생</td>\n      <td>검거</td>\n      <td>발생</td>\n      <td>검거</td>\n      <td>발생</td>\n      <td>검거</td>\n      <td>발생</td>\n      <td>검거</td>\n      <td>발생</td>\n      <td>검거</td>\n      <td>발생</td>\n      <td>검거</td>\n    </tr>\n    <tr>\n      <th>1</th>\n      <td>2019</td>\n      <td>합계</td>\n      <td>103668</td>\n      <td>74805</td>\n      <td>136</td>\n      <td>128</td>\n      <td>136</td>\n      <td>133</td>\n      <td>6469</td>\n      <td>6007</td>\n      <td>42204</td>\n      <td>21284</td>\n      <td>54723</td>\n      <td>47253</td>\n    </tr>\n    <tr>\n      <th>2</th>\n      <td>2019</td>\n      <td>종로구</td>\n      <td>3846</td>\n      <td>4117</td>\n      <td>4</td>\n      <td>5</td>\n      <td>7</td>\n      <td>8</td>\n      <td>238</td>\n      <td>1143</td>\n      <td>1515</td>\n      <td>1069</td>\n      <td>2082</td>\n      <td>1892</td>\n    </tr>\n    <tr>\n      <th>3</th>\n      <td>2019</td>\n      <td>중구</td>\n      <td>4327</td>\n      <td>2804</td>\n      <td>2</td>\n      <td>1</td>\n      <td>6</td>\n      <td>5</td>\n      <td>195</td>\n      <td>115</td>\n      <td>2202</td>\n      <td>1050</td>\n      <td>1922</td>\n      <td>1633</td>\n    </tr>\n    <tr>\n      <th>4</th>\n      <td>2019</td>\n      <td>용산구</td>\n      <td>3313</td>\n      <td>2611</td>\n      <td>3</td>\n      <td>3</td>\n      <td>3</td>\n      <td>4</td>\n      <td>272</td>\n      <td>237</td>\n      <td>999</td>\n      <td>544</td>\n      <td>2036</td>\n      <td>1823</td>\n    </tr>\n  </tbody>\n</table>\n</div>"
     },
     "metadata": {},
     "execution_count": 177
    }
   ],
   "source": [
    "crime.head()"
   ]
  },
  {
   "cell_type": "code",
   "execution_count": 178,
   "metadata": {},
   "outputs": [],
   "source": [
    "crime.rename(columns = {\n",
    "    crime.columns[1]: '구별',\n",
    "    crime.columns[2]: '발생 총합',\n",
    "    crime.columns[3]: '검거 총합',\n",
    "    crime.columns[4]: '살인 발생',\n",
    "    crime.columns[5]: '살인 검거',\n",
    "    crime.columns[6]: '강도 발생',\n",
    "    crime.columns[7]: '강도 검거',\n",
    "    crime.columns[8]: '강간 발생',\n",
    "    crime.columns[9]: '강간 검거',\n",
    "    crime.columns[10]: '절도 발생',\n",
    "    crime.columns[11]: '절도 검거',\n",
    "    crime.columns[12]: '폭력 발생',\n",
    "    crime.columns[13]: '폭력 검거'\n",
    "}, inplace = True)"
   ]
  },
  {
   "cell_type": "code",
   "execution_count": 179,
   "metadata": {},
   "outputs": [],
   "source": [
    "# 필요없는 행, 열 제거\n",
    "del crime['기간']\n",
    "crime.drop([0,1], inplace = True) "
   ]
  },
  {
   "source": [
    "구별 5대 범죄 검거율"
   ],
   "cell_type": "markdown",
   "metadata": {}
  },
  {
   "cell_type": "code",
   "execution_count": 180,
   "metadata": {},
   "outputs": [
    {
     "output_type": "execute_result",
     "data": {
      "text/plain": [
       "    발생 총합 검거 총합 살인 발생 살인 검거 강도 발생 강도 검거 강간 발생 강간 검거 절도 발생 절도 검거 폭력 발생 폭력 검거\n",
       "구별                                                                         \n",
       "종로구  3846  4117     4     5     7     8   238  1143  1515  1069  2082  1892\n",
       "중구   4327  2804     2     1     6     5   195   115  2202  1050  1922  1633\n",
       "용산구  3313  2611     3     3     3     4   272   237   999   544  2036  1823\n",
       "성동구  2512  1838     6     5     9    10   133    96   970   511  1394  1216\n",
       "광진구  4011  2816     4     5     6     5   273   213  1875  1008  1853  1585"
      ],
      "text/html": "<div>\n<style scoped>\n    .dataframe tbody tr th:only-of-type {\n        vertical-align: middle;\n    }\n\n    .dataframe tbody tr th {\n        vertical-align: top;\n    }\n\n    .dataframe thead th {\n        text-align: right;\n    }\n</style>\n<table border=\"1\" class=\"dataframe\">\n  <thead>\n    <tr style=\"text-align: right;\">\n      <th></th>\n      <th>발생 총합</th>\n      <th>검거 총합</th>\n      <th>살인 발생</th>\n      <th>살인 검거</th>\n      <th>강도 발생</th>\n      <th>강도 검거</th>\n      <th>강간 발생</th>\n      <th>강간 검거</th>\n      <th>절도 발생</th>\n      <th>절도 검거</th>\n      <th>폭력 발생</th>\n      <th>폭력 검거</th>\n    </tr>\n    <tr>\n      <th>구별</th>\n      <th></th>\n      <th></th>\n      <th></th>\n      <th></th>\n      <th></th>\n      <th></th>\n      <th></th>\n      <th></th>\n      <th></th>\n      <th></th>\n      <th></th>\n      <th></th>\n    </tr>\n  </thead>\n  <tbody>\n    <tr>\n      <th>종로구</th>\n      <td>3846</td>\n      <td>4117</td>\n      <td>4</td>\n      <td>5</td>\n      <td>7</td>\n      <td>8</td>\n      <td>238</td>\n      <td>1143</td>\n      <td>1515</td>\n      <td>1069</td>\n      <td>2082</td>\n      <td>1892</td>\n    </tr>\n    <tr>\n      <th>중구</th>\n      <td>4327</td>\n      <td>2804</td>\n      <td>2</td>\n      <td>1</td>\n      <td>6</td>\n      <td>5</td>\n      <td>195</td>\n      <td>115</td>\n      <td>2202</td>\n      <td>1050</td>\n      <td>1922</td>\n      <td>1633</td>\n    </tr>\n    <tr>\n      <th>용산구</th>\n      <td>3313</td>\n      <td>2611</td>\n      <td>3</td>\n      <td>3</td>\n      <td>3</td>\n      <td>4</td>\n      <td>272</td>\n      <td>237</td>\n      <td>999</td>\n      <td>544</td>\n      <td>2036</td>\n      <td>1823</td>\n    </tr>\n    <tr>\n      <th>성동구</th>\n      <td>2512</td>\n      <td>1838</td>\n      <td>6</td>\n      <td>5</td>\n      <td>9</td>\n      <td>10</td>\n      <td>133</td>\n      <td>96</td>\n      <td>970</td>\n      <td>511</td>\n      <td>1394</td>\n      <td>1216</td>\n    </tr>\n    <tr>\n      <th>광진구</th>\n      <td>4011</td>\n      <td>2816</td>\n      <td>4</td>\n      <td>5</td>\n      <td>6</td>\n      <td>5</td>\n      <td>273</td>\n      <td>213</td>\n      <td>1875</td>\n      <td>1008</td>\n      <td>1853</td>\n      <td>1585</td>\n    </tr>\n  </tbody>\n</table>\n</div>"
     },
     "metadata": {},
     "execution_count": 180
    }
   ],
   "source": [
    "crime.set_index('구별',inplace=True)\n",
    "crime.head()"
   ]
  },
  {
   "cell_type": "code",
   "execution_count": 184,
   "metadata": {},
   "outputs": [
    {
     "output_type": "execute_result",
     "data": {
      "text/plain": [
       "     발생 총합  검거 총합  살인  강도   강간    절도    폭력  강간 검거율  강도 검거율  살인 검거율  절도 검거율  \\\n",
       "구별                                                                           \n",
       "종로구   3846   4117   4   7  238  1515  2082     480     114     125      70   \n",
       "중구    4327   2804   2   6  195  2202  1922      58      83      50      47   \n",
       "용산구   3313   2611   3   3  272   999  2036      87     133     100      54   \n",
       "성동구   2512   1838   6   9  133   970  1394      72     111      83      52   \n",
       "광진구   4011   2816   4   6  273  1875  1853      78      83     125      53   \n",
       "\n",
       "     폭력 검거율  \n",
       "구별           \n",
       "종로구      90  \n",
       "중구       84  \n",
       "용산구      89  \n",
       "성동구      87  \n",
       "광진구      85  "
      ],
      "text/html": "<div>\n<style scoped>\n    .dataframe tbody tr th:only-of-type {\n        vertical-align: middle;\n    }\n\n    .dataframe tbody tr th {\n        vertical-align: top;\n    }\n\n    .dataframe thead th {\n        text-align: right;\n    }\n</style>\n<table border=\"1\" class=\"dataframe\">\n  <thead>\n    <tr style=\"text-align: right;\">\n      <th></th>\n      <th>발생 총합</th>\n      <th>검거 총합</th>\n      <th>살인</th>\n      <th>강도</th>\n      <th>강간</th>\n      <th>절도</th>\n      <th>폭력</th>\n      <th>강간 검거율</th>\n      <th>강도 검거율</th>\n      <th>살인 검거율</th>\n      <th>절도 검거율</th>\n      <th>폭력 검거율</th>\n    </tr>\n    <tr>\n      <th>구별</th>\n      <th></th>\n      <th></th>\n      <th></th>\n      <th></th>\n      <th></th>\n      <th></th>\n      <th></th>\n      <th></th>\n      <th></th>\n      <th></th>\n      <th></th>\n      <th></th>\n    </tr>\n  </thead>\n  <tbody>\n    <tr>\n      <th>종로구</th>\n      <td>3846</td>\n      <td>4117</td>\n      <td>4</td>\n      <td>7</td>\n      <td>238</td>\n      <td>1515</td>\n      <td>2082</td>\n      <td>480</td>\n      <td>114</td>\n      <td>125</td>\n      <td>70</td>\n      <td>90</td>\n    </tr>\n    <tr>\n      <th>중구</th>\n      <td>4327</td>\n      <td>2804</td>\n      <td>2</td>\n      <td>6</td>\n      <td>195</td>\n      <td>2202</td>\n      <td>1922</td>\n      <td>58</td>\n      <td>83</td>\n      <td>50</td>\n      <td>47</td>\n      <td>84</td>\n    </tr>\n    <tr>\n      <th>용산구</th>\n      <td>3313</td>\n      <td>2611</td>\n      <td>3</td>\n      <td>3</td>\n      <td>272</td>\n      <td>999</td>\n      <td>2036</td>\n      <td>87</td>\n      <td>133</td>\n      <td>100</td>\n      <td>54</td>\n      <td>89</td>\n    </tr>\n    <tr>\n      <th>성동구</th>\n      <td>2512</td>\n      <td>1838</td>\n      <td>6</td>\n      <td>9</td>\n      <td>133</td>\n      <td>970</td>\n      <td>1394</td>\n      <td>72</td>\n      <td>111</td>\n      <td>83</td>\n      <td>52</td>\n      <td>87</td>\n    </tr>\n    <tr>\n      <th>광진구</th>\n      <td>4011</td>\n      <td>2816</td>\n      <td>4</td>\n      <td>6</td>\n      <td>273</td>\n      <td>1875</td>\n      <td>1853</td>\n      <td>78</td>\n      <td>83</td>\n      <td>125</td>\n      <td>53</td>\n      <td>85</td>\n    </tr>\n  </tbody>\n</table>\n</div>"
     },
     "metadata": {},
     "execution_count": 184
    }
   ],
   "source": [
    "crime.astype('int').head()"
   ]
  },
  {
   "cell_type": "code",
   "execution_count": 182,
   "metadata": {},
   "outputs": [],
   "source": [
    "crime['강간 검거율'] = crime['강간 검거'] / crime['강간 발생'] *100\n",
    "crime['강도 검거율'] = crime['강도 검거'] / crime['강도 발생'] *100\n",
    "crime['살인 검거율'] = crime['살인 검거'] / crime['살인 발생'] *100\n",
    "crime['절도 검거율'] = crime['절도 검거'] / crime['절도 발생'] *100\n",
    "crime['폭력 검거율'] = crime['폭력 검거'] / crime['폭력 발생'] *100\n",
    "\n",
    "crime.rename( columns = {\n",
    "    '강간 발생' : '강간',\n",
    "    '강도 발생' : '강도',\n",
    "    '살인 발생' : '살인',\n",
    "    '절도 발생' : '절도',\n",
    "    '폭력 발생' : '폭력'\n",
    "} , inplace = True)\n",
    "\n",
    "del crime['강간 검거']\n",
    "del crime['강도 검거']\n",
    "del crime['살인 검거']\n",
    "del crime['절도 검거']\n",
    "del crime['폭력 검거']"
   ]
  },
  {
   "cell_type": "code",
   "execution_count": 186,
   "metadata": {},
   "outputs": [
    {
     "output_type": "error",
     "ename": "TypeError",
     "evalue": "loop of ufunc does not support argument 0 of type float which has no callable rint method",
     "traceback": [
      "\u001b[1;31m---------------------------------------------------------------------------\u001b[0m",
      "\u001b[1;31mAttributeError\u001b[0m                            Traceback (most recent call last)",
      "\u001b[1;31mAttributeError\u001b[0m: 'float' object has no attribute 'rint'",
      "\nThe above exception was the direct cause of the following exception:\n",
      "\u001b[1;31mTypeError\u001b[0m                                 Traceback (most recent call last)",
      "\u001b[1;32m~\\AppData\\Local\\Programs\\Python\\Python38-32\\lib\\site-packages\\numpy\\core\\fromnumeric.py\u001b[0m in \u001b[0;36m_wrapfunc\u001b[1;34m(obj, method, *args, **kwds)\u001b[0m\n\u001b[0;32m     60\u001b[0m     \u001b[1;32mtry\u001b[0m\u001b[1;33m:\u001b[0m\u001b[1;33m\u001b[0m\u001b[1;33m\u001b[0m\u001b[0m\n\u001b[1;32m---> 61\u001b[1;33m         \u001b[1;32mreturn\u001b[0m \u001b[0mbound\u001b[0m\u001b[1;33m(\u001b[0m\u001b[1;33m*\u001b[0m\u001b[0margs\u001b[0m\u001b[1;33m,\u001b[0m \u001b[1;33m**\u001b[0m\u001b[0mkwds\u001b[0m\u001b[1;33m)\u001b[0m\u001b[1;33m\u001b[0m\u001b[1;33m\u001b[0m\u001b[0m\n\u001b[0m\u001b[0;32m     62\u001b[0m     \u001b[1;32mexcept\u001b[0m \u001b[0mTypeError\u001b[0m\u001b[1;33m:\u001b[0m\u001b[1;33m\u001b[0m\u001b[1;33m\u001b[0m\u001b[0m\n",
      "\u001b[1;32m~\\AppData\\Local\\Programs\\Python\\Python38-32\\lib\\site-packages\\pandas\\core\\series.py\u001b[0m in \u001b[0;36mround\u001b[1;34m(self, decimals, *args, **kwargs)\u001b[0m\n\u001b[0;32m   2205\u001b[0m         \u001b[0mnv\u001b[0m\u001b[1;33m.\u001b[0m\u001b[0mvalidate_round\u001b[0m\u001b[1;33m(\u001b[0m\u001b[0margs\u001b[0m\u001b[1;33m,\u001b[0m \u001b[0mkwargs\u001b[0m\u001b[1;33m)\u001b[0m\u001b[1;33m\u001b[0m\u001b[1;33m\u001b[0m\u001b[0m\n\u001b[1;32m-> 2206\u001b[1;33m         \u001b[0mresult\u001b[0m \u001b[1;33m=\u001b[0m \u001b[0mself\u001b[0m\u001b[1;33m.\u001b[0m\u001b[0m_values\u001b[0m\u001b[1;33m.\u001b[0m\u001b[0mround\u001b[0m\u001b[1;33m(\u001b[0m\u001b[0mdecimals\u001b[0m\u001b[1;33m)\u001b[0m\u001b[1;33m\u001b[0m\u001b[1;33m\u001b[0m\u001b[0m\n\u001b[0m\u001b[0;32m   2207\u001b[0m         result = self._constructor(result, index=self.index).__finalize__(\n",
      "\u001b[1;31mTypeError\u001b[0m: loop of ufunc does not support argument 0 of type float which has no callable rint method",
      "\nDuring handling of the above exception, another exception occurred:\n",
      "\u001b[1;31mAttributeError\u001b[0m                            Traceback (most recent call last)",
      "\u001b[1;31mAttributeError\u001b[0m: 'float' object has no attribute 'rint'",
      "\nThe above exception was the direct cause of the following exception:\n",
      "\u001b[1;31mTypeError\u001b[0m                                 Traceback (most recent call last)",
      "\u001b[1;32m<ipython-input-186-d957075621fc>\u001b[0m in \u001b[0;36m<module>\u001b[1;34m\u001b[0m\n\u001b[0;32m      1\u001b[0m \u001b[1;31m# type이 object라서 반올림이 안 된다고 나왔는데 astype으로 바꿔줘도 여진히 반올림 안됨\u001b[0m\u001b[1;33m\u001b[0m\u001b[1;33m\u001b[0m\u001b[1;33m\u001b[0m\u001b[0m\n\u001b[1;32m----> 2\u001b[1;33m \u001b[0mcrime\u001b[0m\u001b[1;33m[\u001b[0m\u001b[1;34m'강간 검거율'\u001b[0m\u001b[1;33m]\u001b[0m \u001b[1;33m=\u001b[0m \u001b[0mnp\u001b[0m\u001b[1;33m.\u001b[0m\u001b[0mround\u001b[0m\u001b[1;33m(\u001b[0m \u001b[0mcrime\u001b[0m\u001b[1;33m[\u001b[0m\u001b[1;34m'강간 검거율'\u001b[0m\u001b[1;33m]\u001b[0m \u001b[1;33m,\u001b[0m \u001b[1;36m2\u001b[0m \u001b[1;33m)\u001b[0m\u001b[1;33m\u001b[0m\u001b[1;33m\u001b[0m\u001b[0m\n\u001b[0m\u001b[0;32m      3\u001b[0m \u001b[0mcrime\u001b[0m\u001b[1;33m[\u001b[0m\u001b[1;34m'강도 검거율'\u001b[0m\u001b[1;33m]\u001b[0m \u001b[1;33m=\u001b[0m \u001b[0mnp\u001b[0m\u001b[1;33m.\u001b[0m\u001b[0mround\u001b[0m\u001b[1;33m(\u001b[0m \u001b[0mcrime\u001b[0m\u001b[1;33m[\u001b[0m\u001b[1;34m'강도 검거율'\u001b[0m\u001b[1;33m]\u001b[0m \u001b[1;33m,\u001b[0m \u001b[1;36m2\u001b[0m \u001b[1;33m)\u001b[0m\u001b[1;33m\u001b[0m\u001b[1;33m\u001b[0m\u001b[0m\n\u001b[0;32m      4\u001b[0m \u001b[0mcrime\u001b[0m\u001b[1;33m[\u001b[0m\u001b[1;34m'살인 검거율'\u001b[0m\u001b[1;33m]\u001b[0m \u001b[1;33m=\u001b[0m \u001b[0mnp\u001b[0m\u001b[1;33m.\u001b[0m\u001b[0mround\u001b[0m\u001b[1;33m(\u001b[0m \u001b[0mcrime\u001b[0m\u001b[1;33m[\u001b[0m\u001b[1;34m'살인 검거율'\u001b[0m\u001b[1;33m]\u001b[0m \u001b[1;33m,\u001b[0m \u001b[1;36m2\u001b[0m \u001b[1;33m)\u001b[0m\u001b[1;33m\u001b[0m\u001b[1;33m\u001b[0m\u001b[0m\n\u001b[0;32m      5\u001b[0m \u001b[0mcrime\u001b[0m\u001b[1;33m[\u001b[0m\u001b[1;34m'절도 검거율'\u001b[0m\u001b[1;33m]\u001b[0m \u001b[1;33m=\u001b[0m \u001b[0mnp\u001b[0m\u001b[1;33m.\u001b[0m\u001b[0mround\u001b[0m\u001b[1;33m(\u001b[0m \u001b[0mcrime\u001b[0m\u001b[1;33m[\u001b[0m\u001b[1;34m'절도 검거율'\u001b[0m\u001b[1;33m]\u001b[0m \u001b[1;33m,\u001b[0m \u001b[1;36m2\u001b[0m \u001b[1;33m)\u001b[0m\u001b[1;33m\u001b[0m\u001b[1;33m\u001b[0m\u001b[0m\n",
      "\u001b[1;32m<__array_function__ internals>\u001b[0m in \u001b[0;36mround_\u001b[1;34m(*args, **kwargs)\u001b[0m\n",
      "\u001b[1;32m~\\AppData\\Local\\Programs\\Python\\Python38-32\\lib\\site-packages\\numpy\\core\\fromnumeric.py\u001b[0m in \u001b[0;36mround_\u001b[1;34m(a, decimals, out)\u001b[0m\n\u001b[0;32m   3597\u001b[0m     \u001b[0maround\u001b[0m \u001b[1;33m:\u001b[0m \u001b[0mequivalent\u001b[0m \u001b[0mfunction\u001b[0m\u001b[1;33m;\u001b[0m \u001b[0msee\u001b[0m \u001b[1;32mfor\u001b[0m \u001b[0mdetails\u001b[0m\u001b[1;33m.\u001b[0m\u001b[1;33m\u001b[0m\u001b[1;33m\u001b[0m\u001b[0m\n\u001b[0;32m   3598\u001b[0m     \"\"\"\n\u001b[1;32m-> 3599\u001b[1;33m     \u001b[1;32mreturn\u001b[0m \u001b[0maround\u001b[0m\u001b[1;33m(\u001b[0m\u001b[0ma\u001b[0m\u001b[1;33m,\u001b[0m \u001b[0mdecimals\u001b[0m\u001b[1;33m=\u001b[0m\u001b[0mdecimals\u001b[0m\u001b[1;33m,\u001b[0m \u001b[0mout\u001b[0m\u001b[1;33m=\u001b[0m\u001b[0mout\u001b[0m\u001b[1;33m)\u001b[0m\u001b[1;33m\u001b[0m\u001b[1;33m\u001b[0m\u001b[0m\n\u001b[0m\u001b[0;32m   3600\u001b[0m \u001b[1;33m\u001b[0m\u001b[0m\n\u001b[0;32m   3601\u001b[0m \u001b[1;33m\u001b[0m\u001b[0m\n",
      "\u001b[1;32m<__array_function__ internals>\u001b[0m in \u001b[0;36maround\u001b[1;34m(*args, **kwargs)\u001b[0m\n",
      "\u001b[1;32m~\\AppData\\Local\\Programs\\Python\\Python38-32\\lib\\site-packages\\numpy\\core\\fromnumeric.py\u001b[0m in \u001b[0;36maround\u001b[1;34m(a, decimals, out)\u001b[0m\n\u001b[0;32m   3222\u001b[0m \u001b[1;33m\u001b[0m\u001b[0m\n\u001b[0;32m   3223\u001b[0m     \"\"\"\n\u001b[1;32m-> 3224\u001b[1;33m     \u001b[1;32mreturn\u001b[0m \u001b[0m_wrapfunc\u001b[0m\u001b[1;33m(\u001b[0m\u001b[0ma\u001b[0m\u001b[1;33m,\u001b[0m \u001b[1;34m'round'\u001b[0m\u001b[1;33m,\u001b[0m \u001b[0mdecimals\u001b[0m\u001b[1;33m=\u001b[0m\u001b[0mdecimals\u001b[0m\u001b[1;33m,\u001b[0m \u001b[0mout\u001b[0m\u001b[1;33m=\u001b[0m\u001b[0mout\u001b[0m\u001b[1;33m)\u001b[0m\u001b[1;33m\u001b[0m\u001b[1;33m\u001b[0m\u001b[0m\n\u001b[0m\u001b[0;32m   3225\u001b[0m \u001b[1;33m\u001b[0m\u001b[0m\n\u001b[0;32m   3226\u001b[0m \u001b[1;33m\u001b[0m\u001b[0m\n",
      "\u001b[1;32m~\\AppData\\Local\\Programs\\Python\\Python38-32\\lib\\site-packages\\numpy\\core\\fromnumeric.py\u001b[0m in \u001b[0;36m_wrapfunc\u001b[1;34m(obj, method, *args, **kwds)\u001b[0m\n\u001b[0;32m     68\u001b[0m         \u001b[1;31m# Call _wrapit from within the except clause to ensure a potential\u001b[0m\u001b[1;33m\u001b[0m\u001b[1;33m\u001b[0m\u001b[1;33m\u001b[0m\u001b[0m\n\u001b[0;32m     69\u001b[0m         \u001b[1;31m# exception has a traceback chain.\u001b[0m\u001b[1;33m\u001b[0m\u001b[1;33m\u001b[0m\u001b[1;33m\u001b[0m\u001b[0m\n\u001b[1;32m---> 70\u001b[1;33m         \u001b[1;32mreturn\u001b[0m \u001b[0m_wrapit\u001b[0m\u001b[1;33m(\u001b[0m\u001b[0mobj\u001b[0m\u001b[1;33m,\u001b[0m \u001b[0mmethod\u001b[0m\u001b[1;33m,\u001b[0m \u001b[1;33m*\u001b[0m\u001b[0margs\u001b[0m\u001b[1;33m,\u001b[0m \u001b[1;33m**\u001b[0m\u001b[0mkwds\u001b[0m\u001b[1;33m)\u001b[0m\u001b[1;33m\u001b[0m\u001b[1;33m\u001b[0m\u001b[0m\n\u001b[0m\u001b[0;32m     71\u001b[0m \u001b[1;33m\u001b[0m\u001b[0m\n\u001b[0;32m     72\u001b[0m \u001b[1;33m\u001b[0m\u001b[0m\n",
      "\u001b[1;32m~\\AppData\\Local\\Programs\\Python\\Python38-32\\lib\\site-packages\\numpy\\core\\fromnumeric.py\u001b[0m in \u001b[0;36m_wrapit\u001b[1;34m(obj, method, *args, **kwds)\u001b[0m\n\u001b[0;32m     45\u001b[0m     \u001b[1;32mexcept\u001b[0m \u001b[0mAttributeError\u001b[0m\u001b[1;33m:\u001b[0m\u001b[1;33m\u001b[0m\u001b[1;33m\u001b[0m\u001b[0m\n\u001b[0;32m     46\u001b[0m         \u001b[0mwrap\u001b[0m \u001b[1;33m=\u001b[0m \u001b[1;32mNone\u001b[0m\u001b[1;33m\u001b[0m\u001b[1;33m\u001b[0m\u001b[0m\n\u001b[1;32m---> 47\u001b[1;33m     \u001b[0mresult\u001b[0m \u001b[1;33m=\u001b[0m \u001b[0mgetattr\u001b[0m\u001b[1;33m(\u001b[0m\u001b[0masarray\u001b[0m\u001b[1;33m(\u001b[0m\u001b[0mobj\u001b[0m\u001b[1;33m)\u001b[0m\u001b[1;33m,\u001b[0m \u001b[0mmethod\u001b[0m\u001b[1;33m)\u001b[0m\u001b[1;33m(\u001b[0m\u001b[1;33m*\u001b[0m\u001b[0margs\u001b[0m\u001b[1;33m,\u001b[0m \u001b[1;33m**\u001b[0m\u001b[0mkwds\u001b[0m\u001b[1;33m)\u001b[0m\u001b[1;33m\u001b[0m\u001b[1;33m\u001b[0m\u001b[0m\n\u001b[0m\u001b[0;32m     48\u001b[0m     \u001b[1;32mif\u001b[0m \u001b[0mwrap\u001b[0m\u001b[1;33m:\u001b[0m\u001b[1;33m\u001b[0m\u001b[1;33m\u001b[0m\u001b[0m\n\u001b[0;32m     49\u001b[0m         \u001b[1;32mif\u001b[0m \u001b[1;32mnot\u001b[0m \u001b[0misinstance\u001b[0m\u001b[1;33m(\u001b[0m\u001b[0mresult\u001b[0m\u001b[1;33m,\u001b[0m \u001b[0mmu\u001b[0m\u001b[1;33m.\u001b[0m\u001b[0mndarray\u001b[0m\u001b[1;33m)\u001b[0m\u001b[1;33m:\u001b[0m\u001b[1;33m\u001b[0m\u001b[1;33m\u001b[0m\u001b[0m\n",
      "\u001b[1;31mTypeError\u001b[0m: loop of ufunc does not support argument 0 of type float which has no callable rint method"
     ]
    }
   ],
   "source": [
    "# type이 object라서 반올림이 안 된다고 나왔는데 astype으로 바꿔줘도 여진히 반올림 안됨\n",
    "# 찾아봤는데 어쩔 수 없다는 반응이 대부분\n",
    "crime['강간 검거율'] = np.round( crime['강간 검거율'] , 2 )\n",
    "crime['강도 검거율'] = np.round( crime['강도 검거율'] , 2 )\n",
    "crime['살인 검거율'] = np.round( crime['살인 검거율'] , 2 )\n",
    "crime['절도 검거율'] = np.round( crime['절도 검거율'] , 2 )\n",
    "crime['폭력 검거율'] = np.round( crime['폭력 검거율'] , 2 )"
   ]
  },
  {
   "cell_type": "code",
   "execution_count": 187,
   "metadata": {},
   "outputs": [
    {
     "output_type": "execute_result",
     "data": {
      "text/plain": [
       "    발생 총합 검거 총합 살인 강도   강간    절도    폭력   강간 검거율   강도 검거율   살인 검거율   절도 검거율  \\\n",
       "구별                                                                           \n",
       "종로구  3846  4117  4  7  238  1515  2082  480.252  114.286      125  70.5611   \n",
       "중구   4327  2804  2  6  195  2202  1922  58.9744  83.3333       50  47.6839   \n",
       "용산구  3313  2611  3  3  272   999  2036  87.1324  133.333      100  54.4545   \n",
       "성동구  2512  1838  6  9  133   970  1394  72.1805  111.111  83.3333  52.6804   \n",
       "광진구  4011  2816  4  6  273  1875  1853   78.022  83.3333      125    53.76   \n",
       "\n",
       "      폭력 검거율  \n",
       "구별            \n",
       "종로구  90.8742  \n",
       "중구   84.9636  \n",
       "용산구  89.5383  \n",
       "성동구   87.231  \n",
       "광진구   85.537  "
      ],
      "text/html": "<div>\n<style scoped>\n    .dataframe tbody tr th:only-of-type {\n        vertical-align: middle;\n    }\n\n    .dataframe tbody tr th {\n        vertical-align: top;\n    }\n\n    .dataframe thead th {\n        text-align: right;\n    }\n</style>\n<table border=\"1\" class=\"dataframe\">\n  <thead>\n    <tr style=\"text-align: right;\">\n      <th></th>\n      <th>발생 총합</th>\n      <th>검거 총합</th>\n      <th>살인</th>\n      <th>강도</th>\n      <th>강간</th>\n      <th>절도</th>\n      <th>폭력</th>\n      <th>강간 검거율</th>\n      <th>강도 검거율</th>\n      <th>살인 검거율</th>\n      <th>절도 검거율</th>\n      <th>폭력 검거율</th>\n    </tr>\n    <tr>\n      <th>구별</th>\n      <th></th>\n      <th></th>\n      <th></th>\n      <th></th>\n      <th></th>\n      <th></th>\n      <th></th>\n      <th></th>\n      <th></th>\n      <th></th>\n      <th></th>\n      <th></th>\n    </tr>\n  </thead>\n  <tbody>\n    <tr>\n      <th>종로구</th>\n      <td>3846</td>\n      <td>4117</td>\n      <td>4</td>\n      <td>7</td>\n      <td>238</td>\n      <td>1515</td>\n      <td>2082</td>\n      <td>480.252</td>\n      <td>114.286</td>\n      <td>125</td>\n      <td>70.5611</td>\n      <td>90.8742</td>\n    </tr>\n    <tr>\n      <th>중구</th>\n      <td>4327</td>\n      <td>2804</td>\n      <td>2</td>\n      <td>6</td>\n      <td>195</td>\n      <td>2202</td>\n      <td>1922</td>\n      <td>58.9744</td>\n      <td>83.3333</td>\n      <td>50</td>\n      <td>47.6839</td>\n      <td>84.9636</td>\n    </tr>\n    <tr>\n      <th>용산구</th>\n      <td>3313</td>\n      <td>2611</td>\n      <td>3</td>\n      <td>3</td>\n      <td>272</td>\n      <td>999</td>\n      <td>2036</td>\n      <td>87.1324</td>\n      <td>133.333</td>\n      <td>100</td>\n      <td>54.4545</td>\n      <td>89.5383</td>\n    </tr>\n    <tr>\n      <th>성동구</th>\n      <td>2512</td>\n      <td>1838</td>\n      <td>6</td>\n      <td>9</td>\n      <td>133</td>\n      <td>970</td>\n      <td>1394</td>\n      <td>72.1805</td>\n      <td>111.111</td>\n      <td>83.3333</td>\n      <td>52.6804</td>\n      <td>87.231</td>\n    </tr>\n    <tr>\n      <th>광진구</th>\n      <td>4011</td>\n      <td>2816</td>\n      <td>4</td>\n      <td>6</td>\n      <td>273</td>\n      <td>1875</td>\n      <td>1853</td>\n      <td>78.022</td>\n      <td>83.3333</td>\n      <td>125</td>\n      <td>53.76</td>\n      <td>85.537</td>\n    </tr>\n  </tbody>\n</table>\n</div>"
     },
     "metadata": {},
     "execution_count": 187
    }
   ],
   "source": [
    "crime.head()"
   ]
  },
  {
   "cell_type": "code",
   "execution_count": null,
   "metadata": {},
   "outputs": [],
   "source": []
  },
  {
   "source": [
    "## 데이터 정규화\n",
    "변수마다 척도(Scale)가 다르면 비교 불가.<br>강간은 100단위, 강도와 살인은 10단위, 절도와 폭력은 1000단위라서 일관성이 없다.<br>\n",
    "각각 평균과 표준편차가 다른 변수들을 평균 0, 표준편차 1인 표준정규분포를 따르도록 정규화해서 비교한다."
   ],
   "cell_type": "markdown",
   "metadata": {}
  },
  {
   "cell_type": "code",
   "execution_count": 189,
   "metadata": {},
   "outputs": [],
   "source": [
    "from sklearn import preprocessing"
   ]
  },
  {
   "cell_type": "code",
   "execution_count": 198,
   "metadata": {},
   "outputs": [
    {
     "output_type": "execute_result",
     "data": {
      "text/plain": [
       "array([[238, 7, 4, 1515, 2082],\n",
       "       [195, 6, 2, 2202, 1922],\n",
       "       [272, 3, 3, 999, 2036],\n",
       "       [133, 9, 6, 970, 1394],\n",
       "       [273, 6, 4, 1875, 1853],\n",
       "       [168, 10, 6, 1531, 1977],\n",
       "       [138, 4, 10, 1666, 2450],\n",
       "       [176, 3, 3, 1082, 1613],\n",
       "       [176, 3, 6, 1229, 2424],\n",
       "       [90, 5, 1, 790, 1224],\n",
       "       [184, 3, 4, 1498, 2464],\n",
       "       [194, 1, 3, 1565, 2117],\n",
       "       [175, 5, 2, 1226, 1535],\n",
       "       [495, 2, 2, 2190, 2153],\n",
       "       [127, 2, 6, 1477, 1602],\n",
       "       [306, 3, 8, 2050, 2557],\n",
       "       [226, 3, 10, 1916, 2552],\n",
       "       [153, 10, 6, 1157, 1779],\n",
       "       [356, 3, 10, 2409, 3042],\n",
       "       [251, 1, 4, 1328, 1816],\n",
       "       [408, 10, 13, 2223, 2674],\n",
       "       [616, 7, 5, 2270, 2644],\n",
       "       [666, 5, 5, 2970, 3658],\n",
       "       [273, 10, 7, 2416, 2992],\n",
       "       [180, 15, 6, 1650, 2163]], dtype=object)"
      ]
     },
     "metadata": {},
     "execution_count": 198
    }
   ],
   "source": [
    "col = ['강간','강도','살인','절도','폭력']\n",
    "# crime.강간.values, 실제 값들을 보여줌\n",
    "# crime.강간.value_counts, 도수\n",
    "x = crime[col].values\n",
    "x"
   ]
  },
  {
   "cell_type": "code",
   "execution_count": 202,
   "metadata": {},
   "outputs": [
    {
     "output_type": "execute_result",
     "data": {
      "text/plain": [
       "array([[0.25694444, 0.42857143, 0.25      , 0.33256881, 0.35250616],\n",
       "       [0.18229167, 0.35714286, 0.08333333, 0.64770642, 0.28677075],\n",
       "       [0.31597222, 0.14285714, 0.16666667, 0.09587156, 0.33360723],\n",
       "       [0.07465278, 0.57142857, 0.41666667, 0.08256881, 0.06984388],\n",
       "       [0.31770833, 0.35714286, 0.25      , 0.49770642, 0.25842235],\n",
       "       [0.13541667, 0.64285714, 0.41666667, 0.33990826, 0.3093673 ],\n",
       "       [0.08333333, 0.21428571, 0.75      , 0.40183486, 0.50369762],\n",
       "       [0.14930556, 0.14285714, 0.16666667, 0.13394495, 0.15981923],\n",
       "       [0.14930556, 0.14285714, 0.41666667, 0.20137615, 0.49301561],\n",
       "       [0.        , 0.28571429, 0.        , 0.        , 0.        ],\n",
       "       [0.16319444, 0.14285714, 0.25      , 0.32477064, 0.50944947],\n",
       "       [0.18055556, 0.        , 0.16666667, 0.35550459, 0.36688578],\n",
       "       [0.14756944, 0.28571429, 0.08333333, 0.2       , 0.12777321],\n",
       "       [0.703125  , 0.07142857, 0.08333333, 0.64220183, 0.38167625],\n",
       "       [0.06423611, 0.07142857, 0.41666667, 0.31513761, 0.15529992],\n",
       "       [0.375     , 0.14285714, 0.58333333, 0.57798165, 0.54765818],\n",
       "       [0.23611111, 0.14285714, 0.75      , 0.51651376, 0.54560394],\n",
       "       [0.109375  , 0.64285714, 0.41666667, 0.16834862, 0.22801972],\n",
       "       [0.46180556, 0.14285714, 0.75      , 0.74266055, 0.74691865],\n",
       "       [0.27951389, 0.        , 0.25      , 0.24678899, 0.24322104],\n",
       "       [0.55208333, 0.64285714, 1.        , 0.65733945, 0.5957272 ],\n",
       "       [0.91319444, 0.42857143, 0.33333333, 0.67889908, 0.58340181],\n",
       "       [1.        , 0.28571429, 0.33333333, 1.        , 1.        ],\n",
       "       [0.31770833, 0.64285714, 0.5       , 0.74587156, 0.72637634],\n",
       "       [0.15625   , 1.        , 0.41666667, 0.39449541, 0.38578472]])"
      ]
     },
     "metadata": {},
     "execution_count": 202
    }
   ],
   "source": [
    "min_max_scaler = preprocessing.MinMaxScaler()\n",
    "\n",
    "''' fit_ransform할 대상을 넣는데, 데이터 타입을 float로 만든다\n",
    "fit_transform의 return은 array로 나오는데, 그래서 밑에서\n",
    "columns와 index를 crime의 걸 빌려서 새 DF를 만드는 것'''\n",
    "\n",
    "x_scaled = min_max_scaler.fit_transform( x.astype(float) )\n",
    "x_scaled"
   ]
  },
  {
   "cell_type": "code",
   "execution_count": 204,
   "metadata": {},
   "outputs": [
    {
     "output_type": "execute_result",
     "data": {
      "text/plain": [
       "           강간        강도        살인        절도        폭력   강간 검거율   강도 검거율  \\\n",
       "구별                                                                        \n",
       "종로구  0.256944  0.428571  0.250000  0.332569  0.352506  480.252  114.286   \n",
       "중구   0.182292  0.357143  0.083333  0.647706  0.286771  58.9744  83.3333   \n",
       "용산구  0.315972  0.142857  0.166667  0.095872  0.333607  87.1324  133.333   \n",
       "성동구  0.074653  0.571429  0.416667  0.082569  0.069844  72.1805  111.111   \n",
       "광진구  0.317708  0.357143  0.250000  0.497706  0.258422   78.022  83.3333   \n",
       "\n",
       "      살인 검거율   절도 검거율   폭력 검거율  \n",
       "구별                              \n",
       "종로구      125  70.5611  90.8742  \n",
       "중구        50  47.6839  84.9636  \n",
       "용산구      100  54.4545  89.5383  \n",
       "성동구  83.3333  52.6804   87.231  \n",
       "광진구      125    53.76   85.537  "
      ],
      "text/html": "<div>\n<style scoped>\n    .dataframe tbody tr th:only-of-type {\n        vertical-align: middle;\n    }\n\n    .dataframe tbody tr th {\n        vertical-align: top;\n    }\n\n    .dataframe thead th {\n        text-align: right;\n    }\n</style>\n<table border=\"1\" class=\"dataframe\">\n  <thead>\n    <tr style=\"text-align: right;\">\n      <th></th>\n      <th>강간</th>\n      <th>강도</th>\n      <th>살인</th>\n      <th>절도</th>\n      <th>폭력</th>\n      <th>강간 검거율</th>\n      <th>강도 검거율</th>\n      <th>살인 검거율</th>\n      <th>절도 검거율</th>\n      <th>폭력 검거율</th>\n    </tr>\n    <tr>\n      <th>구별</th>\n      <th></th>\n      <th></th>\n      <th></th>\n      <th></th>\n      <th></th>\n      <th></th>\n      <th></th>\n      <th></th>\n      <th></th>\n      <th></th>\n    </tr>\n  </thead>\n  <tbody>\n    <tr>\n      <th>종로구</th>\n      <td>0.256944</td>\n      <td>0.428571</td>\n      <td>0.250000</td>\n      <td>0.332569</td>\n      <td>0.352506</td>\n      <td>480.252</td>\n      <td>114.286</td>\n      <td>125</td>\n      <td>70.5611</td>\n      <td>90.8742</td>\n    </tr>\n    <tr>\n      <th>중구</th>\n      <td>0.182292</td>\n      <td>0.357143</td>\n      <td>0.083333</td>\n      <td>0.647706</td>\n      <td>0.286771</td>\n      <td>58.9744</td>\n      <td>83.3333</td>\n      <td>50</td>\n      <td>47.6839</td>\n      <td>84.9636</td>\n    </tr>\n    <tr>\n      <th>용산구</th>\n      <td>0.315972</td>\n      <td>0.142857</td>\n      <td>0.166667</td>\n      <td>0.095872</td>\n      <td>0.333607</td>\n      <td>87.1324</td>\n      <td>133.333</td>\n      <td>100</td>\n      <td>54.4545</td>\n      <td>89.5383</td>\n    </tr>\n    <tr>\n      <th>성동구</th>\n      <td>0.074653</td>\n      <td>0.571429</td>\n      <td>0.416667</td>\n      <td>0.082569</td>\n      <td>0.069844</td>\n      <td>72.1805</td>\n      <td>111.111</td>\n      <td>83.3333</td>\n      <td>52.6804</td>\n      <td>87.231</td>\n    </tr>\n    <tr>\n      <th>광진구</th>\n      <td>0.317708</td>\n      <td>0.357143</td>\n      <td>0.250000</td>\n      <td>0.497706</td>\n      <td>0.258422</td>\n      <td>78.022</td>\n      <td>83.3333</td>\n      <td>125</td>\n      <td>53.76</td>\n      <td>85.537</td>\n    </tr>\n  </tbody>\n</table>\n</div>"
     },
     "metadata": {},
     "execution_count": 204
    }
   ],
   "source": [
    "crime_norm = pd.DataFrame(x_scaled, columns=col, index=crime.index)\n",
    "col2 = ['강간 검거율','강도 검거율','살인 검거율','절도 검거율','폭력 검거율']\n",
    "crime_norm[col2] = crime[col2]\n",
    "crime_norm.head()"
   ]
  },
  {
   "cell_type": "code",
   "execution_count": 209,
   "metadata": {},
   "outputs": [],
   "source": [
    "crime_norm.to_csv('.//result/정규화_서울시 구별 5대범죄.csv', sep=',',encoding='utf8')"
   ]
  }
 ]
}