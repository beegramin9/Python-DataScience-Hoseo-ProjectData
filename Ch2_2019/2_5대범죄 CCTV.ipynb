{
 "metadata": {
  "language_info": {
   "codemirror_mode": {
    "name": "ipython",
    "version": 3
   },
   "file_extension": ".py",
   "mimetype": "text/x-python",
   "name": "python",
   "nbconvert_exporter": "python",
   "pygments_lexer": "ipython3",
   "version": "3.8.1-final"
  },
  "orig_nbformat": 2,
  "kernelspec": {
   "name": "python38132bit243e625a994649b0a7927380da95a17b",
   "display_name": "Python 3.8.1 32-bit"
  }
 },
 "nbformat": 4,
 "nbformat_minor": 2,
 "cells": [
  {
   "source": [
    "# 구별 5대 범죄 검거율과 CCTV"
   ],
   "cell_type": "markdown",
   "metadata": {}
  },
  {
   "cell_type": "code",
   "execution_count": 8,
   "metadata": {},
   "outputs": [],
   "source": [
    "import pandas as pd\n",
    "import numpy as np"
   ]
  },
  {
   "cell_type": "code",
   "execution_count": 9,
   "metadata": {},
   "outputs": [
    {
     "output_type": "execute_result",
     "data": {
      "text/plain": [
       "           강간        강도        살인        절도        폭력      강간 검거율      강도 검거율  \\\n",
       "구별                                                                              \n",
       "종로구  0.256944  0.428571  0.250000  0.332569  0.352506  480.252101  114.285714   \n",
       "중구   0.182292  0.357143  0.083333  0.647706  0.286771   58.974359   83.333333   \n",
       "용산구  0.315972  0.142857  0.166667  0.095872  0.333607   87.132353  133.333333   \n",
       "성동구  0.074653  0.571429  0.416667  0.082569  0.069844   72.180451  111.111111   \n",
       "광진구  0.317708  0.357143  0.250000  0.497706  0.258422   78.021978   83.333333   \n",
       "\n",
       "         살인 검거율     절도 검거율     폭력 검거율  \n",
       "구별                                     \n",
       "종로구  125.000000  70.561056  90.874159  \n",
       "중구    50.000000  47.683924  84.963580  \n",
       "용산구  100.000000  54.454454  89.538310  \n",
       "성동구   83.333333  52.680412  87.230990  \n",
       "광진구  125.000000  53.760000  85.536967  "
      ],
      "text/html": "<div>\n<style scoped>\n    .dataframe tbody tr th:only-of-type {\n        vertical-align: middle;\n    }\n\n    .dataframe tbody tr th {\n        vertical-align: top;\n    }\n\n    .dataframe thead th {\n        text-align: right;\n    }\n</style>\n<table border=\"1\" class=\"dataframe\">\n  <thead>\n    <tr style=\"text-align: right;\">\n      <th></th>\n      <th>강간</th>\n      <th>강도</th>\n      <th>살인</th>\n      <th>절도</th>\n      <th>폭력</th>\n      <th>강간 검거율</th>\n      <th>강도 검거율</th>\n      <th>살인 검거율</th>\n      <th>절도 검거율</th>\n      <th>폭력 검거율</th>\n    </tr>\n    <tr>\n      <th>구별</th>\n      <th></th>\n      <th></th>\n      <th></th>\n      <th></th>\n      <th></th>\n      <th></th>\n      <th></th>\n      <th></th>\n      <th></th>\n      <th></th>\n    </tr>\n  </thead>\n  <tbody>\n    <tr>\n      <th>종로구</th>\n      <td>0.256944</td>\n      <td>0.428571</td>\n      <td>0.250000</td>\n      <td>0.332569</td>\n      <td>0.352506</td>\n      <td>480.252101</td>\n      <td>114.285714</td>\n      <td>125.000000</td>\n      <td>70.561056</td>\n      <td>90.874159</td>\n    </tr>\n    <tr>\n      <th>중구</th>\n      <td>0.182292</td>\n      <td>0.357143</td>\n      <td>0.083333</td>\n      <td>0.647706</td>\n      <td>0.286771</td>\n      <td>58.974359</td>\n      <td>83.333333</td>\n      <td>50.000000</td>\n      <td>47.683924</td>\n      <td>84.963580</td>\n    </tr>\n    <tr>\n      <th>용산구</th>\n      <td>0.315972</td>\n      <td>0.142857</td>\n      <td>0.166667</td>\n      <td>0.095872</td>\n      <td>0.333607</td>\n      <td>87.132353</td>\n      <td>133.333333</td>\n      <td>100.000000</td>\n      <td>54.454454</td>\n      <td>89.538310</td>\n    </tr>\n    <tr>\n      <th>성동구</th>\n      <td>0.074653</td>\n      <td>0.571429</td>\n      <td>0.416667</td>\n      <td>0.082569</td>\n      <td>0.069844</td>\n      <td>72.180451</td>\n      <td>111.111111</td>\n      <td>83.333333</td>\n      <td>52.680412</td>\n      <td>87.230990</td>\n    </tr>\n    <tr>\n      <th>광진구</th>\n      <td>0.317708</td>\n      <td>0.357143</td>\n      <td>0.250000</td>\n      <td>0.497706</td>\n      <td>0.258422</td>\n      <td>78.021978</td>\n      <td>83.333333</td>\n      <td>125.000000</td>\n      <td>53.760000</td>\n      <td>85.536967</td>\n    </tr>\n  </tbody>\n</table>\n</div>"
     },
     "metadata": {},
     "execution_count": 9
    }
   ],
   "source": [
    "crime = pd.read_csv('./result/정규화_서울시 구별 5대범죄.csv', sep=',', encoding='utf8', index_col  = '구별')\n",
    "crime.head()"
   ]
  },
  {
   "cell_type": "code",
   "execution_count": 10,
   "metadata": {},
   "outputs": [
    {
     "output_type": "execute_result",
     "data": {
      "text/plain": [
       "     CCTV 개수  최근 3년 CCTV 증가율     인구수     한국인    외국인    고령자     외국인비율  \\\n",
       "구별                                                                     \n",
       "강남구     5221      191.675978  544085  539235   4850  73942  0.891405   \n",
       "송파구     1586      159.150327  676673  670331   6342  92149  0.937233   \n",
       "관악구     3985      100.856855  514555  498574  15981  78206  3.105790   \n",
       "도봉구      858      150.145773  329300  327248   2052  61388  0.623140   \n",
       "중랑구     1068             NaN  400989  395997   4992  68658  1.244922   \n",
       "\n",
       "         고령자비율  인구 별 CCTV 비율           오차  \n",
       "구별                                         \n",
       "강남구  13.590156      0.009596  2579.013268  \n",
       "송파구  13.617951      0.002344  1439.555667  \n",
       "관악구  15.198764      0.007745  1428.441743  \n",
       "도봉구  18.641968      0.002606  1162.626928  \n",
       "중랑구  17.122165      0.002663  1160.018799  "
      ],
      "text/html": "<div>\n<style scoped>\n    .dataframe tbody tr th:only-of-type {\n        vertical-align: middle;\n    }\n\n    .dataframe tbody tr th {\n        vertical-align: top;\n    }\n\n    .dataframe thead th {\n        text-align: right;\n    }\n</style>\n<table border=\"1\" class=\"dataframe\">\n  <thead>\n    <tr style=\"text-align: right;\">\n      <th></th>\n      <th>CCTV 개수</th>\n      <th>최근 3년 CCTV 증가율</th>\n      <th>인구수</th>\n      <th>한국인</th>\n      <th>외국인</th>\n      <th>고령자</th>\n      <th>외국인비율</th>\n      <th>고령자비율</th>\n      <th>인구 별 CCTV 비율</th>\n      <th>오차</th>\n    </tr>\n    <tr>\n      <th>구별</th>\n      <th></th>\n      <th></th>\n      <th></th>\n      <th></th>\n      <th></th>\n      <th></th>\n      <th></th>\n      <th></th>\n      <th></th>\n      <th></th>\n    </tr>\n  </thead>\n  <tbody>\n    <tr>\n      <th>강남구</th>\n      <td>5221</td>\n      <td>191.675978</td>\n      <td>544085</td>\n      <td>539235</td>\n      <td>4850</td>\n      <td>73942</td>\n      <td>0.891405</td>\n      <td>13.590156</td>\n      <td>0.009596</td>\n      <td>2579.013268</td>\n    </tr>\n    <tr>\n      <th>송파구</th>\n      <td>1586</td>\n      <td>159.150327</td>\n      <td>676673</td>\n      <td>670331</td>\n      <td>6342</td>\n      <td>92149</td>\n      <td>0.937233</td>\n      <td>13.617951</td>\n      <td>0.002344</td>\n      <td>1439.555667</td>\n    </tr>\n    <tr>\n      <th>관악구</th>\n      <td>3985</td>\n      <td>100.856855</td>\n      <td>514555</td>\n      <td>498574</td>\n      <td>15981</td>\n      <td>78206</td>\n      <td>3.105790</td>\n      <td>15.198764</td>\n      <td>0.007745</td>\n      <td>1428.441743</td>\n    </tr>\n    <tr>\n      <th>도봉구</th>\n      <td>858</td>\n      <td>150.145773</td>\n      <td>329300</td>\n      <td>327248</td>\n      <td>2052</td>\n      <td>61388</td>\n      <td>0.623140</td>\n      <td>18.641968</td>\n      <td>0.002606</td>\n      <td>1162.626928</td>\n    </tr>\n    <tr>\n      <th>중랑구</th>\n      <td>1068</td>\n      <td>NaN</td>\n      <td>400989</td>\n      <td>395997</td>\n      <td>4992</td>\n      <td>68658</td>\n      <td>1.244922</td>\n      <td>17.122165</td>\n      <td>0.002663</td>\n      <td>1160.018799</td>\n    </tr>\n  </tbody>\n</table>\n</div>"
     },
     "metadata": {},
     "execution_count": 10
    }
   ],
   "source": [
    "CCTV_18 = pd.read_csv('인구수 CCTV.csv', sep=',', encoding='utf8', index_col='구별')\n",
    "CCTV_18.head()"
   ]
  },
  {
   "source": [
    "5대 범죄 DF에 인구수, CCTV 개수 가져오기"
   ],
   "cell_type": "markdown",
   "metadata": {}
  },
  {
   "cell_type": "code",
   "execution_count": 11,
   "metadata": {},
   "outputs": [
    {
     "output_type": "execute_result",
     "data": {
      "text/plain": [
       "           강간        강도        살인        절도        폭력      강간 검거율      강도 검거율  \\\n",
       "구별                                                                              \n",
       "종로구  0.256944  0.428571  0.250000  0.332569  0.352506  480.252101  114.285714   \n",
       "중구   0.182292  0.357143  0.083333  0.647706  0.286771   58.974359   83.333333   \n",
       "용산구  0.315972  0.142857  0.166667  0.095872  0.333607   87.132353  133.333333   \n",
       "성동구  0.074653  0.571429  0.416667  0.082569  0.069844   72.180451  111.111111   \n",
       "광진구  0.317708  0.357143  0.250000  0.497706  0.258422   78.021978   83.333333   \n",
       "\n",
       "         살인 검거율     절도 검거율     폭력 검거율     인구수  CCTV  \n",
       "구별                                                   \n",
       "종로구  125.000000  70.561056  90.874159  159842  1471  \n",
       "중구    50.000000  47.683924  84.963580  135321  1544  \n",
       "용산구  100.000000  54.454454  89.538310  244953  2063  \n",
       "성동구   83.333333  52.680412  87.230990  302695  2679  \n",
       "광진구  125.000000  53.760000  85.536967  361923  1581  "
      ],
      "text/html": "<div>\n<style scoped>\n    .dataframe tbody tr th:only-of-type {\n        vertical-align: middle;\n    }\n\n    .dataframe tbody tr th {\n        vertical-align: top;\n    }\n\n    .dataframe thead th {\n        text-align: right;\n    }\n</style>\n<table border=\"1\" class=\"dataframe\">\n  <thead>\n    <tr style=\"text-align: right;\">\n      <th></th>\n      <th>강간</th>\n      <th>강도</th>\n      <th>살인</th>\n      <th>절도</th>\n      <th>폭력</th>\n      <th>강간 검거율</th>\n      <th>강도 검거율</th>\n      <th>살인 검거율</th>\n      <th>절도 검거율</th>\n      <th>폭력 검거율</th>\n      <th>인구수</th>\n      <th>CCTV</th>\n    </tr>\n    <tr>\n      <th>구별</th>\n      <th></th>\n      <th></th>\n      <th></th>\n      <th></th>\n      <th></th>\n      <th></th>\n      <th></th>\n      <th></th>\n      <th></th>\n      <th></th>\n      <th></th>\n      <th></th>\n    </tr>\n  </thead>\n  <tbody>\n    <tr>\n      <th>종로구</th>\n      <td>0.256944</td>\n      <td>0.428571</td>\n      <td>0.250000</td>\n      <td>0.332569</td>\n      <td>0.352506</td>\n      <td>480.252101</td>\n      <td>114.285714</td>\n      <td>125.000000</td>\n      <td>70.561056</td>\n      <td>90.874159</td>\n      <td>159842</td>\n      <td>1471</td>\n    </tr>\n    <tr>\n      <th>중구</th>\n      <td>0.182292</td>\n      <td>0.357143</td>\n      <td>0.083333</td>\n      <td>0.647706</td>\n      <td>0.286771</td>\n      <td>58.974359</td>\n      <td>83.333333</td>\n      <td>50.000000</td>\n      <td>47.683924</td>\n      <td>84.963580</td>\n      <td>135321</td>\n      <td>1544</td>\n    </tr>\n    <tr>\n      <th>용산구</th>\n      <td>0.315972</td>\n      <td>0.142857</td>\n      <td>0.166667</td>\n      <td>0.095872</td>\n      <td>0.333607</td>\n      <td>87.132353</td>\n      <td>133.333333</td>\n      <td>100.000000</td>\n      <td>54.454454</td>\n      <td>89.538310</td>\n      <td>244953</td>\n      <td>2063</td>\n    </tr>\n    <tr>\n      <th>성동구</th>\n      <td>0.074653</td>\n      <td>0.571429</td>\n      <td>0.416667</td>\n      <td>0.082569</td>\n      <td>0.069844</td>\n      <td>72.180451</td>\n      <td>111.111111</td>\n      <td>83.333333</td>\n      <td>52.680412</td>\n      <td>87.230990</td>\n      <td>302695</td>\n      <td>2679</td>\n    </tr>\n    <tr>\n      <th>광진구</th>\n      <td>0.317708</td>\n      <td>0.357143</td>\n      <td>0.250000</td>\n      <td>0.497706</td>\n      <td>0.258422</td>\n      <td>78.021978</td>\n      <td>83.333333</td>\n      <td>125.000000</td>\n      <td>53.760000</td>\n      <td>85.536967</td>\n      <td>361923</td>\n      <td>1581</td>\n    </tr>\n  </tbody>\n</table>\n</div>"
     },
     "metadata": {},
     "execution_count": 11
    }
   ],
   "source": [
    "crime[['인구수', 'CCTV']] = CCTV_18[['인구수', 'CCTV 개수']]\n",
    "crime.head()"
   ]
  },
  {
   "source": [
    "### 모든 발생 건수의 합을 \"범죄 총합\" 항목으로<br>\n",
    "정규화를 하지 않았다면 몇 천 건의 절도 수십 건의 살인 등 scale이 달랐겠찌만 정규화 이후 알아봅기 쉽다."
   ],
   "cell_type": "markdown",
   "metadata": {}
  },
  {
   "cell_type": "code",
   "execution_count": 12,
   "metadata": {},
   "outputs": [
    {
     "output_type": "execute_result",
     "data": {
      "text/plain": [
       "           강간        강도        살인        절도        폭력      강간 검거율      강도 검거율  \\\n",
       "구별                                                                              \n",
       "종로구  0.256944  0.428571  0.250000  0.332569  0.352506  480.252101  114.285714   \n",
       "중구   0.182292  0.357143  0.083333  0.647706  0.286771   58.974359   83.333333   \n",
       "용산구  0.315972  0.142857  0.166667  0.095872  0.333607   87.132353  133.333333   \n",
       "성동구  0.074653  0.571429  0.416667  0.082569  0.069844   72.180451  111.111111   \n",
       "광진구  0.317708  0.357143  0.250000  0.497706  0.258422   78.021978   83.333333   \n",
       "\n",
       "         살인 검거율     절도 검거율     폭력 검거율     인구수  CCTV     범죄 총합  \n",
       "구별                                                             \n",
       "종로구  125.000000  70.561056  90.874159  159842  1471  1.620591  \n",
       "중구    50.000000  47.683924  84.963580  135321  1544  1.557245  \n",
       "용산구  100.000000  54.454454  89.538310  244953  2063  1.054975  \n",
       "성동구   83.333333  52.680412  87.230990  302695  2679  1.215161  \n",
       "광진구  125.000000  53.760000  85.536967  361923  1581  1.680980  "
      ],
      "text/html": "<div>\n<style scoped>\n    .dataframe tbody tr th:only-of-type {\n        vertical-align: middle;\n    }\n\n    .dataframe tbody tr th {\n        vertical-align: top;\n    }\n\n    .dataframe thead th {\n        text-align: right;\n    }\n</style>\n<table border=\"1\" class=\"dataframe\">\n  <thead>\n    <tr style=\"text-align: right;\">\n      <th></th>\n      <th>강간</th>\n      <th>강도</th>\n      <th>살인</th>\n      <th>절도</th>\n      <th>폭력</th>\n      <th>강간 검거율</th>\n      <th>강도 검거율</th>\n      <th>살인 검거율</th>\n      <th>절도 검거율</th>\n      <th>폭력 검거율</th>\n      <th>인구수</th>\n      <th>CCTV</th>\n      <th>범죄 총합</th>\n    </tr>\n    <tr>\n      <th>구별</th>\n      <th></th>\n      <th></th>\n      <th></th>\n      <th></th>\n      <th></th>\n      <th></th>\n      <th></th>\n      <th></th>\n      <th></th>\n      <th></th>\n      <th></th>\n      <th></th>\n      <th></th>\n    </tr>\n  </thead>\n  <tbody>\n    <tr>\n      <th>종로구</th>\n      <td>0.256944</td>\n      <td>0.428571</td>\n      <td>0.250000</td>\n      <td>0.332569</td>\n      <td>0.352506</td>\n      <td>480.252101</td>\n      <td>114.285714</td>\n      <td>125.000000</td>\n      <td>70.561056</td>\n      <td>90.874159</td>\n      <td>159842</td>\n      <td>1471</td>\n      <td>1.620591</td>\n    </tr>\n    <tr>\n      <th>중구</th>\n      <td>0.182292</td>\n      <td>0.357143</td>\n      <td>0.083333</td>\n      <td>0.647706</td>\n      <td>0.286771</td>\n      <td>58.974359</td>\n      <td>83.333333</td>\n      <td>50.000000</td>\n      <td>47.683924</td>\n      <td>84.963580</td>\n      <td>135321</td>\n      <td>1544</td>\n      <td>1.557245</td>\n    </tr>\n    <tr>\n      <th>용산구</th>\n      <td>0.315972</td>\n      <td>0.142857</td>\n      <td>0.166667</td>\n      <td>0.095872</td>\n      <td>0.333607</td>\n      <td>87.132353</td>\n      <td>133.333333</td>\n      <td>100.000000</td>\n      <td>54.454454</td>\n      <td>89.538310</td>\n      <td>244953</td>\n      <td>2063</td>\n      <td>1.054975</td>\n    </tr>\n    <tr>\n      <th>성동구</th>\n      <td>0.074653</td>\n      <td>0.571429</td>\n      <td>0.416667</td>\n      <td>0.082569</td>\n      <td>0.069844</td>\n      <td>72.180451</td>\n      <td>111.111111</td>\n      <td>83.333333</td>\n      <td>52.680412</td>\n      <td>87.230990</td>\n      <td>302695</td>\n      <td>2679</td>\n      <td>1.215161</td>\n    </tr>\n    <tr>\n      <th>광진구</th>\n      <td>0.317708</td>\n      <td>0.357143</td>\n      <td>0.250000</td>\n      <td>0.497706</td>\n      <td>0.258422</td>\n      <td>78.021978</td>\n      <td>83.333333</td>\n      <td>125.000000</td>\n      <td>53.760000</td>\n      <td>85.536967</td>\n      <td>361923</td>\n      <td>1581</td>\n      <td>1.680980</td>\n    </tr>\n  </tbody>\n</table>\n</div>"
     },
     "metadata": {},
     "execution_count": 12
    }
   ],
   "source": [
    "col = ['강간','강도','살인','절도','폭력']\n",
    "crime['범죄 총합'] = np.sum(crime[col] , axis = 1)\n",
    "crime.head()"
   ]
  },
  {
   "source": [
    "### 모든 범죄 검거율의 합을 \"검거율 총합\" 항목으로"
   ],
   "cell_type": "markdown",
   "metadata": {}
  },
  {
   "cell_type": "code",
   "execution_count": 14,
   "metadata": {},
   "outputs": [
    {
     "output_type": "execute_result",
     "data": {
      "text/plain": [
       "           강간        강도        살인        절도        폭력      강간 검거율      강도 검거율  \\\n",
       "구별                                                                              \n",
       "종로구  0.256944  0.428571  0.250000  0.332569  0.352506  480.252101  114.285714   \n",
       "중구   0.182292  0.357143  0.083333  0.647706  0.286771   58.974359   83.333333   \n",
       "용산구  0.315972  0.142857  0.166667  0.095872  0.333607   87.132353  133.333333   \n",
       "성동구  0.074653  0.571429  0.416667  0.082569  0.069844   72.180451  111.111111   \n",
       "광진구  0.317708  0.357143  0.250000  0.497706  0.258422   78.021978   83.333333   \n",
       "\n",
       "         살인 검거율     절도 검거율     폭력 검거율     인구수  CCTV     범죄 총합      검거율 총합  \n",
       "구별                                                                         \n",
       "종로구  125.000000  70.561056  90.874159  159842  1471  1.620591  880.973031  \n",
       "중구    50.000000  47.683924  84.963580  135321  1544  1.557245  324.955196  \n",
       "용산구  100.000000  54.454454  89.538310  244953  2063  1.054975  464.458451  \n",
       "성동구   83.333333  52.680412  87.230990  302695  2679  1.215161  406.536298  \n",
       "광진구  125.000000  53.760000  85.536967  361923  1581  1.680980  425.652278  "
      ],
      "text/html": "<div>\n<style scoped>\n    .dataframe tbody tr th:only-of-type {\n        vertical-align: middle;\n    }\n\n    .dataframe tbody tr th {\n        vertical-align: top;\n    }\n\n    .dataframe thead th {\n        text-align: right;\n    }\n</style>\n<table border=\"1\" class=\"dataframe\">\n  <thead>\n    <tr style=\"text-align: right;\">\n      <th></th>\n      <th>강간</th>\n      <th>강도</th>\n      <th>살인</th>\n      <th>절도</th>\n      <th>폭력</th>\n      <th>강간 검거율</th>\n      <th>강도 검거율</th>\n      <th>살인 검거율</th>\n      <th>절도 검거율</th>\n      <th>폭력 검거율</th>\n      <th>인구수</th>\n      <th>CCTV</th>\n      <th>범죄 총합</th>\n      <th>검거율 총합</th>\n    </tr>\n    <tr>\n      <th>구별</th>\n      <th></th>\n      <th></th>\n      <th></th>\n      <th></th>\n      <th></th>\n      <th></th>\n      <th></th>\n      <th></th>\n      <th></th>\n      <th></th>\n      <th></th>\n      <th></th>\n      <th></th>\n      <th></th>\n    </tr>\n  </thead>\n  <tbody>\n    <tr>\n      <th>종로구</th>\n      <td>0.256944</td>\n      <td>0.428571</td>\n      <td>0.250000</td>\n      <td>0.332569</td>\n      <td>0.352506</td>\n      <td>480.252101</td>\n      <td>114.285714</td>\n      <td>125.000000</td>\n      <td>70.561056</td>\n      <td>90.874159</td>\n      <td>159842</td>\n      <td>1471</td>\n      <td>1.620591</td>\n      <td>880.973031</td>\n    </tr>\n    <tr>\n      <th>중구</th>\n      <td>0.182292</td>\n      <td>0.357143</td>\n      <td>0.083333</td>\n      <td>0.647706</td>\n      <td>0.286771</td>\n      <td>58.974359</td>\n      <td>83.333333</td>\n      <td>50.000000</td>\n      <td>47.683924</td>\n      <td>84.963580</td>\n      <td>135321</td>\n      <td>1544</td>\n      <td>1.557245</td>\n      <td>324.955196</td>\n    </tr>\n    <tr>\n      <th>용산구</th>\n      <td>0.315972</td>\n      <td>0.142857</td>\n      <td>0.166667</td>\n      <td>0.095872</td>\n      <td>0.333607</td>\n      <td>87.132353</td>\n      <td>133.333333</td>\n      <td>100.000000</td>\n      <td>54.454454</td>\n      <td>89.538310</td>\n      <td>244953</td>\n      <td>2063</td>\n      <td>1.054975</td>\n      <td>464.458451</td>\n    </tr>\n    <tr>\n      <th>성동구</th>\n      <td>0.074653</td>\n      <td>0.571429</td>\n      <td>0.416667</td>\n      <td>0.082569</td>\n      <td>0.069844</td>\n      <td>72.180451</td>\n      <td>111.111111</td>\n      <td>83.333333</td>\n      <td>52.680412</td>\n      <td>87.230990</td>\n      <td>302695</td>\n      <td>2679</td>\n      <td>1.215161</td>\n      <td>406.536298</td>\n    </tr>\n    <tr>\n      <th>광진구</th>\n      <td>0.317708</td>\n      <td>0.357143</td>\n      <td>0.250000</td>\n      <td>0.497706</td>\n      <td>0.258422</td>\n      <td>78.021978</td>\n      <td>83.333333</td>\n      <td>125.000000</td>\n      <td>53.760000</td>\n      <td>85.536967</td>\n      <td>361923</td>\n      <td>1581</td>\n      <td>1.680980</td>\n      <td>425.652278</td>\n    </tr>\n  </tbody>\n</table>\n</div>"
     },
     "metadata": {},
     "execution_count": 14
    }
   ],
   "source": [
    "col = ['강간 검거율','강도 검거율','살인 검거율','절도 검거율','폭력 검거율']\n",
    "crime['검거율 총합'] = np.sum(crime[col] , axis = 1)\n",
    "crime.head()"
   ]
  },
  {
   "cell_type": "code",
   "execution_count": 15,
   "metadata": {},
   "outputs": [],
   "source": [
    "crime.to_csv('./result/5대범죄 CCTV.csv', sep=',',encoding='utf8')"
   ]
  }
 ]
}