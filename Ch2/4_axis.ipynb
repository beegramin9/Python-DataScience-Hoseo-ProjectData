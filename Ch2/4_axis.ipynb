{
 "cells": [
  {
   "cell_type": "code",
   "execution_count": 2,
   "metadata": {},
   "outputs": [
    {
     "name": "stdout",
     "output_type": "stream",
     "text": [
      "32\n"
     ]
    },
    {
     "data": {
      "text/plain": [
       "array([ 0,  1,  2,  3,  4,  5,  6,  7,  8,  9, 10, 11, 12, 13, 14, 15, 16,\n",
       "       17, 18, 19, 20, 21, 22, 23, 24, 25, 26, 27, 28, 29, 30, 31])"
      ]
     },
     "execution_count": 2,
     "metadata": {},
     "output_type": "execute_result"
    }
   ],
   "source": [
    "''' axis 는 또 뭐야 싀댕? \n",
    "numpy의 sum 함수 사용 예 / 선형 대수의 데이터 유형 \n",
    "http://taewan.kim/post/numpy_sum_axis/\n",
    "'''\n",
    "import numpy as np\n",
    "\n",
    "arr = np.arange(0, 4*2*4)\n",
    "# 등간격으로 배열을 만들어주는 함수. 기본값은 1 \n",
    "print(len(arr))\n",
    "arr"
   ]
  },
  {
   "cell_type": "code",
   "execution_count": 3,
   "metadata": {},
   "outputs": [
    {
     "data": {
      "text/plain": [
       "array([[[ 0,  1,  2,  3],\n",
       "        [ 4,  5,  6,  7]],\n",
       "\n",
       "       [[ 8,  9, 10, 11],\n",
       "        [12, 13, 14, 15]],\n",
       "\n",
       "       [[16, 17, 18, 19],\n",
       "        [20, 21, 22, 23]],\n",
       "\n",
       "       [[24, 25, 26, 27],\n",
       "        [28, 29, 30, 31]]])"
      ]
     },
     "execution_count": 3,
     "metadata": {},
     "output_type": "execute_result"
    }
   ],
   "source": [
    "v = arr.reshape([4,2,4])\n",
    "v"
   ]
  },
  {
   "cell_type": "code",
   "execution_count": 5,
   "metadata": {},
   "outputs": [
    {
     "name": "stdout",
     "output_type": "stream",
     "text": [
      "3\n"
     ]
    },
    {
     "data": {
      "text/plain": [
       "496"
      ]
     },
     "execution_count": 5,
     "metadata": {},
     "output_type": "execute_result"
    }
   ],
   "source": [
    "print(v.ndim)\n",
    "v.sum()"
   ]
  },
  {
   "cell_type": "code",
   "execution_count": 6,
   "metadata": {},
   "outputs": [
    {
     "name": "stdout",
     "output_type": "stream",
     "text": [
      "(2, 4)\n"
     ]
    },
    {
     "data": {
      "text/plain": [
       "array([[48, 52, 56, 60],\n",
       "       [64, 68, 72, 76]])"
      ]
     },
     "execution_count": 6,
     "metadata": {},
     "output_type": "execute_result"
    }
   ],
   "source": [
    "res01 = v.sum(axis = 0)\n",
    "print(res01.shape)\n",
    "res01"
   ]
  },
  {
   "cell_type": "code",
   "execution_count": 10,
   "metadata": {},
   "outputs": [
    {
     "name": "stdout",
     "output_type": "stream",
     "text": [
      "(4, 4)\n"
     ]
    },
    {
     "data": {
      "text/plain": [
       "array([[ 4,  6,  8, 10],\n",
       "       [20, 22, 24, 26],\n",
       "       [36, 38, 40, 42],\n",
       "       [52, 54, 56, 58]])"
      ]
     },
     "execution_count": 10,
     "metadata": {},
     "output_type": "execute_result"
    }
   ],
   "source": [
    "res02 = v.sum(axis = 1)\n",
    "print(res02.shape)\n",
    "res02"
   ]
  },
  {
   "cell_type": "code",
   "execution_count": 9,
   "metadata": {},
   "outputs": [
    {
     "name": "stdout",
     "output_type": "stream",
     "text": [
      "(4, 2)\n"
     ]
    },
    {
     "data": {
      "text/plain": [
       "array([[  6,  22],\n",
       "       [ 38,  54],\n",
       "       [ 70,  86],\n",
       "       [102, 118]])"
      ]
     },
     "execution_count": 9,
     "metadata": {},
     "output_type": "execute_result"
    }
   ],
   "source": [
    "res03 = v.sum(axis = 2)\n",
    "print(res03.shape)\n",
    "res03"
   ]
  },
  {
   "cell_type": "code",
   "execution_count": 3,
   "metadata": {},
   "outputs": [
    {
     "name": "stdout",
     "output_type": "stream",
     "text": [
      "32\n"
     ]
    },
    {
     "data": {
      "text/plain": [
       "array([ 0,  1,  2,  3,  4,  5,  6,  7,  8,  9, 10, 11, 12, 13, 14, 15, 16,\n",
       "       17, 18, 19, 20, 21, 22, 23, 24, 25, 26, 27, 28, 29, 30, 31])"
      ]
     },
     "execution_count": 3,
     "metadata": {},
     "output_type": "execute_result"
    }
   ],
   "source": [
    "''' 선형 대수의 데이터 유형\n",
    "선형 대수는 데이터 분석의 각종 계산을 돕습니다!\n",
    "scalar, vector, martix, Tensor\n",
    "0차원, 1차원, 2차원, 3차원 이상\n",
    "\n",
    "scalar는 그냥 숫자\n",
    "vector는 각 요소 자체가 row입니다.\n",
    "matrix는 행렬이고\n",
    "tensor는 행과 열을 같고, 각 열은 벡터 형태를 가지고 있습니다\n",
    "   열(depth 4인 벡터)     열\n",
    "행  0  1  2  3        4  5  6  7 \n",
    "행  8  9 10 11       12 13 14 15\n",
    "행 16 17 18 19       20 21 22 23 \n",
    "행 24 25 26 27       28 29 30 31\n",
    "\n",
    "행의 개수 x\n",
    "열의 개수가 y인거\n",
    "depth가 z입니다.\n",
    "'''\n",
    "arr = np.arange(0,32)\n",
    "print(len(arr))\n",
    "arr"
   ]
  },
  {
   "cell_type": "code",
   "execution_count": 5,
   "metadata": {},
   "outputs": [
    {
     "data": {
      "text/plain": [
       "array([[[ 0,  1,  2,  3],\n",
       "        [ 4,  5,  6,  7]],\n",
       "\n",
       "       [[ 8,  9, 10, 11],\n",
       "        [12, 13, 14, 15]],\n",
       "\n",
       "       [[16, 17, 18, 19],\n",
       "        [20, 21, 22, 23]],\n",
       "\n",
       "       [[24, 25, 26, 27],\n",
       "        [28, 29, 30, 31]]])"
      ]
     },
     "execution_count": 5,
     "metadata": {},
     "output_type": "execute_result"
    }
   ],
   "source": [
    "v = arr.reshape([4,2,4])\n",
    "v\n",
    "''' 여기서 v는 텐서인 것이에요 '''"
   ]
  },
  {
   "cell_type": "code",
   "execution_count": 8,
   "metadata": {},
   "outputs": [
    {
     "data": {
      "text/plain": [
       "3"
      ]
     },
     "execution_count": 8,
     "metadata": {},
     "output_type": "execute_result"
    }
   ],
   "source": [
    "''' sum 함수의 axis 파라미터 기본값은 \"none\"입니다. \n",
    "axis는 대상 데이터의 dimension보다 작은 값까지만 설정 가능합니다. '''\n",
    "v.ndim\n",
    "# 3이 나오니까 2까지 설정 가능"
   ]
  },
  {
   "cell_type": "code",
   "execution_count": 11,
   "metadata": {},
   "outputs": [
    {
     "name": "stdout",
     "output_type": "stream",
     "text": [
      "496\n",
      "[[48 52 56 60]\n",
      " [64 68 72 76]]\n",
      "[[ 4  6  8 10]\n",
      " [20 22 24 26]\n",
      " [36 38 40 42]\n",
      " [52 54 56 58]]\n"
     ]
    },
    {
     "data": {
      "text/plain": [
       "' axis=1 은 y축으로 합을 구하는 방법\\ny축 2개를 없애버리니까 결과는 4x4가 나와야겠지?\\n\\n\\n'"
      ]
     },
     "execution_count": 11,
     "metadata": {},
     "output_type": "execute_result"
    }
   ],
   "source": [
    "print(v.sum())\n",
    "''' axis 파라미터를 안 쓰면 axis = none이랑 같은 말입니다. 디폴트가 axis = none\n",
    "단순하게 모든 요소의 합을 반환합니다. '''\n",
    "print(v.sum(axis=0))\n",
    "''' axis=0 은 x축을 기준으로 합을 구하는 방식입니다.\n",
    "shape가 (4,2,4) 였으니 얘를 x축 기준으로 더하면 결과는\n",
    "row를 제거한 (2,4) 가 나오게 됩니다'''\n",
    "print(v.sum(axis=1))\n",
    "''' axis=1 은 y축으로 합을 구하는 방법\n",
    "y축 2개를 없애버리니까 결과는 4x4가 나와야겠지?\n",
    "'''"
   ]
  },
  {
   "cell_type": "code",
   "execution_count": null,
   "metadata": {},
   "outputs": [],
   "source": []
  }
 ],
 "metadata": {
  "kernelspec": {
   "display_name": "Python 3.8.1 32-bit",
   "language": "python",
   "name": "python38132bit243e625a994649b0a7927380da95a17b"
  },
  "language_info": {
   "codemirror_mode": {
    "name": "ipython",
    "version": 3
   },
   "file_extension": ".py",
   "mimetype": "text/x-python",
   "name": "python",
   "nbconvert_exporter": "python",
   "pygments_lexer": "ipython3",
   "version": "3.8.1"
  }
 },
 "nbformat": 4,
 "nbformat_minor": 2
}
