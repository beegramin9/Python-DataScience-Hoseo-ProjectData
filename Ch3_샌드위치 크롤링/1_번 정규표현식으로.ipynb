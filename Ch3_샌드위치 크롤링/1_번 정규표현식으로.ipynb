{
 "cells": [
  {
   "cell_type": "code",
   "execution_count": 136,
   "metadata": {},
   "outputs": [
    {
     "output_type": "stream",
     "name": "stdout",
     "text": [
      "<!DOCTYPE html>\n<html>\n <head>\n  <title>\n   Very Simple HTML Code by PinkWink\n  </title>\n </head>\n <body>\n  <div>\n   <p class=\"inner-text first-item\" id=\"first\">\n    Happy PinkWink.\n    <a href=\"http://www.pinkwink.kr\" id=\"pw-link\">\n     PinkWink\n    </a>\n   </p>\n   <p class=\"inner-text second-item\">\n    Happy Data Science.\n    <a href=\"https://www.python.org\" id=\"py-link\">\n     Python\n    </a>\n   </p>\n  </div>\n  <p class=\"outer-text first-item\" id=\"second\">\n   <b>\n    Data Science is funny.\n   </b>\n  </p>\n  <p class=\"outer-text\">\n   <b>\n    All I need is Love.\n   </b>\n  </p>\n </body>\n</html>\n"
     ]
    }
   ],
   "source": [
    "from bs4 import BeautifulSoup\n",
    "import re\n",
    "page = open('03. test_first.html','r')\n",
    "soup = BeautifulSoup(page, 'html.parser')\n",
    "print(soup.prettify())"
   ]
  },
  {
   "cell_type": "code",
   "execution_count": 137,
   "metadata": {},
   "outputs": [
    {
     "output_type": "execute_result",
     "data": {
      "text/plain": [
       "<div class=\"sammy\" style=\"position: relative;\">\n",
       "<div class=\"sammyRank\">1</div>\n",
       "<div class=\"sammyListing\"><a href=\"/Chicago-Magazine/November-2012/Best-Sandwiches-in-Chicago-Old-Oak-Tap-BLT/\"><b>BLT</b><br>\n",
       "Old Oak Tap<br>\n",
       "<em>Read more</em> </br></br></a></div>\n",
       "</div>"
      ]
     },
     "metadata": {},
     "execution_count": 137
    }
   ],
   "source": [
    "import requests\n",
    "raw = requests.get('https://www.chicagomag.com/Chicago-Magazine/November-2012/Best-Sandwiches-Chicago/').text\n",
    "html = BeautifulSoup(raw,'html.parser')\n",
    "\n",
    "containers = html.select('div.sammy')\n",
    "containers[0]"
   ]
  },
  {
   "cell_type": "code",
   "execution_count": 138,
   "metadata": {},
   "outputs": [
    {
     "output_type": "execute_result",
     "data": {
      "text/plain": [
       "['1', '2', '3', '4', '5', '6', '7', '8', '9', '10']"
      ]
     },
     "metadata": {},
     "execution_count": 138
    }
   ],
   "source": [
    "ranks = []\n",
    "\n",
    "for container in containers:\n",
    "    rank = container.select_one('.sammyRank').text\n",
    "    ranks.append(rank)\n",
    "    \n",
    "ranks[:10]"
   ]
  },
  {
   "cell_type": "code",
   "execution_count": 139,
   "metadata": {},
   "outputs": [
    {
     "output_type": "execute_result",
     "data": {
      "text/plain": [
       "(['/Chicago-Magazine/November-2012/Best-Sandwiches-in-Chicago-Old-Oak-Tap-BLT/',\n",
       "  '/Chicago-Magazine/November-2012/Best-Sandwiches-in-Chicago-Au-Cheval-Fried-Bologna/',\n",
       "  '/Chicago-Magazine/November-2012/Best-Sandwiches-in-Chicago-Xoco-Woodland-Mushroom/',\n",
       "  '/Chicago-Magazine/November-2012/Best-Sandwiches-in-Chicago-Als-Deli-Roast-Beef/',\n",
       "  '/Chicago-Magazine/November-2012/Best-Sandwiches-in-Chicago-Publican-Quality-Meats-PB-L/',\n",
       "  'http://www.chicagomag.com/Chicago-Magazine/November-2012/Best-Sandwiches-in-Chicago-Hendrickx-Belgian-Bread-Crafter-Belgian-Chicken-Curry-Salad/',\n",
       "  '/Chicago-Magazine/November-2012/Best-Sandwiches-in-Chicago-Acadia-Lobster-Roll/',\n",
       "  '/Chicago-Magazine/November-2012/Best-Sandwiches-in-Chicago-Birchwood-Kitchen-Smoked-Salmon-Salad/',\n",
       "  '/Chicago-Magazine/November-2012/Best-Sandwiches-in-Chicago-Cemitas-Puebla-Atomica-Cemitas/',\n",
       "  '/Chicago-Magazine/November-2012/Best-Sandwiches-in-Chicago-Nana-Grilled-Laughing-Bird-Shrimp-and-Fried-Oyster-Po-Boy/'],\n",
       " '/Chicago-Magazine/November-2012/Best-Sandwiches-in-Chicago-Old-Oak-Tap-BLT/')"
      ]
     },
     "metadata": {},
     "execution_count": 139
    }
   ],
   "source": [
    "links = []\n",
    "\n",
    "for container in containers:\n",
    "    link = container.select_one('a')['href']\n",
    "    links.append(link)\n",
    "                    \n",
    "links[:10], links[0]"
   ]
  },
  {
   "cell_type": "markdown",
   "metadata": {},
   "source": [
    "- url 합치기. urlrequest 모듈\n",
    "- 절대경로로 잡힌 url은 그대로 두고, 상대 경로로 잡힌 url은 절대경로로 바꿔주지요."
   ]
  },
  {
   "cell_type": "code",
   "execution_count": 140,
   "metadata": {},
   "outputs": [
    {
     "output_type": "execute_result",
     "data": {
      "text/plain": [
       "['http://www.chicagomag.com/Chicago-Magazine/November-2012/Best-Sandwiches-in-Chicago-Old-Oak-Tap-BLT/',\n",
       " 'http://www.chicagomag.com/Chicago-Magazine/November-2012/Best-Sandwiches-in-Chicago-Au-Cheval-Fried-Bologna/',\n",
       " 'http://www.chicagomag.com/Chicago-Magazine/November-2012/Best-Sandwiches-in-Chicago-Xoco-Woodland-Mushroom/',\n",
       " 'http://www.chicagomag.com/Chicago-Magazine/November-2012/Best-Sandwiches-in-Chicago-Als-Deli-Roast-Beef/',\n",
       " 'http://www.chicagomag.com/Chicago-Magazine/November-2012/Best-Sandwiches-in-Chicago-Publican-Quality-Meats-PB-L/',\n",
       " 'http://www.chicagomag.com/Chicago-Magazine/November-2012/Best-Sandwiches-in-Chicago-Hendrickx-Belgian-Bread-Crafter-Belgian-Chicken-Curry-Salad/',\n",
       " 'http://www.chicagomag.com/Chicago-Magazine/November-2012/Best-Sandwiches-in-Chicago-Acadia-Lobster-Roll/',\n",
       " 'http://www.chicagomag.com/Chicago-Magazine/November-2012/Best-Sandwiches-in-Chicago-Birchwood-Kitchen-Smoked-Salmon-Salad/',\n",
       " 'http://www.chicagomag.com/Chicago-Magazine/November-2012/Best-Sandwiches-in-Chicago-Cemitas-Puebla-Atomica-Cemitas/',\n",
       " 'http://www.chicagomag.com/Chicago-Magazine/November-2012/Best-Sandwiches-in-Chicago-Nana-Grilled-Laughing-Bird-Shrimp-and-Fried-Oyster-Po-Boy/']"
      ]
     },
     "metadata": {},
     "execution_count": 140
    }
   ],
   "source": [
    "url_base = 'http://www.chicagomag.com'\n",
    "\n",
    "from urllib.parse import urljoin\n",
    "\n",
    "full_links = []\n",
    "\n",
    "for link in links:\n",
    "    full_links.append(urljoin(url_base, link))\n",
    "\n",
    "full_links[:10]\n"
   ]
  },
  {
   "cell_type": "code",
   "execution_count": 141,
   "metadata": {},
   "outputs": [
    {
     "output_type": "execute_result",
     "data": {
      "text/plain": [
       "(['BLT\\r\\nOld Oak Tap\\nRead more ',\n",
       "  'Fried Bologna\\r\\nAu Cheval\\nRead more ',\n",
       "  'Woodland Mushroom\\r\\nXoco\\nRead more ',\n",
       "  'Roast Beef\\r\\nAl’s Deli\\nRead more ',\n",
       "  'PB&L\\r\\nPublican Quality Meats\\nRead more ',\n",
       "  'Belgian Chicken Curry Salad\\r\\nHendrickx Belgian Bread Crafter\\nRead more ',\n",
       "  'Lobster Roll\\r\\nAcadia\\nRead more ',\n",
       "  'Smoked Salmon Salad\\r\\nBirchwood Kitchen\\nRead more ',\n",
       "  'Atomica Cemitas\\r\\nCemitas Puebla\\nRead more ',\n",
       "  'Grilled Laughing Bird Shrimp and Fried Po’ Boy\\r\\nNana\\nRead more '],\n",
       " 50)"
      ]
     },
     "metadata": {},
     "execution_count": 141
    }
   ],
   "source": [
    "infos = []\n",
    "\n",
    "for container in containers:\n",
    "    info = container.select_one('.sammyListing').text\n",
    "    infos.append(info)\n",
    "                    \n",
    "infos[:10], len(infos)"
   ]
  },
  {
   "cell_type": "markdown",
   "metadata": {},
   "source": [
    "- 정규 표현식, re모듈\n"
   ]
  },
  {
   "cell_type": "code",
   "execution_count": 142,
   "metadata": {},
   "outputs": [
    {
     "output_type": "execute_result",
     "data": {
      "text/plain": [
       "(['BLT',\n",
       "  'Fried Bologna',\n",
       "  'Woodland Mushroom',\n",
       "  'Roast Beef',\n",
       "  'PB&L',\n",
       "  'Belgian Chicken Curry Salad',\n",
       "  'Lobster Roll',\n",
       "  'Smoked Salmon Salad',\n",
       "  'Atomica Cemitas',\n",
       "  'Grilled Laughing Bird Shrimp and Fried Po’ Boy'],\n",
       " ['Old Oak Tap',\n",
       "  'Au Cheval',\n",
       "  'Xoco',\n",
       "  'Al’s Deli',\n",
       "  'Publican Quality Meats',\n",
       "  'Hendrickx Belgian Bread Crafter',\n",
       "  'Acadia',\n",
       "  'Birchwood Kitchen',\n",
       "  'Cemitas Puebla',\n",
       "  'Nana'],\n",
       " 50,\n",
       " 50)"
      ]
     },
     "metadata": {},
     "execution_count": 142
    }
   ],
   "source": [
    "names = []\n",
    "populars = []\n",
    "\n",
    "for info in infos:\n",
    "    prcd = re.split('\\n|\\r\\n',info)\n",
    "    # 그냥 split처럼 리스트로 만듦, 애는 ('패턴, |으로 구분',대상) 으로 분리해서 리스트로\n",
    "    name = prcd[0]\n",
    "    popular = prcd[1]\n",
    "    \n",
    "    names.append(name)\n",
    "    populars.append(popular)\n",
    "\n",
    "names[:10], populars[:10], len(names) , len(populars)"
   ]
  },
  {
   "cell_type": "code",
   "execution_count": 143,
   "metadata": {},
   "outputs": [
    {
     "output_type": "execute_result",
     "data": {
      "text/plain": [
       "(['1', '2', '3', '4', '5', '6', '7', '8', '9', '10'],\n",
       " ['BLT',\n",
       "  'Fried Bologna',\n",
       "  'Woodland Mushroom',\n",
       "  'Roast Beef',\n",
       "  'PB&L',\n",
       "  'Belgian Chicken Curry Salad',\n",
       "  'Lobster Roll',\n",
       "  'Smoked Salmon Salad',\n",
       "  'Atomica Cemitas',\n",
       "  'Grilled Laughing Bird Shrimp and Fried Po’ Boy'],\n",
       " ['Old Oak Tap',\n",
       "  'Au Cheval',\n",
       "  'Xoco',\n",
       "  'Al’s Deli',\n",
       "  'Publican Quality Meats',\n",
       "  'Hendrickx Belgian Bread Crafter',\n",
       "  'Acadia',\n",
       "  'Birchwood Kitchen',\n",
       "  'Cemitas Puebla',\n",
       "  'Nana'],\n",
       " ['http://www.chicagomag.com/Chicago-Magazine/November-2012/Best-Sandwiches-in-Chicago-Old-Oak-Tap-BLT/',\n",
       "  'http://www.chicagomag.com/Chicago-Magazine/November-2012/Best-Sandwiches-in-Chicago-Au-Cheval-Fried-Bologna/',\n",
       "  'http://www.chicagomag.com/Chicago-Magazine/November-2012/Best-Sandwiches-in-Chicago-Xoco-Woodland-Mushroom/',\n",
       "  'http://www.chicagomag.com/Chicago-Magazine/November-2012/Best-Sandwiches-in-Chicago-Als-Deli-Roast-Beef/',\n",
       "  'http://www.chicagomag.com/Chicago-Magazine/November-2012/Best-Sandwiches-in-Chicago-Publican-Quality-Meats-PB-L/',\n",
       "  'http://www.chicagomag.com/Chicago-Magazine/November-2012/Best-Sandwiches-in-Chicago-Hendrickx-Belgian-Bread-Crafter-Belgian-Chicken-Curry-Salad/',\n",
       "  'http://www.chicagomag.com/Chicago-Magazine/November-2012/Best-Sandwiches-in-Chicago-Acadia-Lobster-Roll/',\n",
       "  'http://www.chicagomag.com/Chicago-Magazine/November-2012/Best-Sandwiches-in-Chicago-Birchwood-Kitchen-Smoked-Salmon-Salad/',\n",
       "  'http://www.chicagomag.com/Chicago-Magazine/November-2012/Best-Sandwiches-in-Chicago-Cemitas-Puebla-Atomica-Cemitas/',\n",
       "  'http://www.chicagomag.com/Chicago-Magazine/November-2012/Best-Sandwiches-in-Chicago-Nana-Grilled-Laughing-Bird-Shrimp-and-Fried-Oyster-Po-Boy/'])"
      ]
     },
     "metadata": {},
     "execution_count": 143
    }
   ],
   "source": [
    "ranks[:10], names[:10], populars[:10], full_links[:10]"
   ]
  },
  {
   "cell_type": "code",
   "execution_count": 173,
   "metadata": {},
   "outputs": [
    {
     "output_type": "execute_result",
     "data": {
      "text/plain": [
       "                                                Name  \\\n",
       "Rank                                                   \n",
       "1                                                BLT   \n",
       "2                                      Fried Bologna   \n",
       "3                                  Woodland Mushroom   \n",
       "4                                         Roast Beef   \n",
       "5                                               PB&L   \n",
       "6                        Belgian Chicken Curry Salad   \n",
       "7                                       Lobster Roll   \n",
       "8                                Smoked Salmon Salad   \n",
       "9                                    Atomica Cemitas   \n",
       "10    Grilled Laughing Bird Shrimp and Fried Po’ Boy   \n",
       "11                           Ham and Raclette Panino   \n",
       "12                                     Breaded Steak   \n",
       "13                                       The Hawkeye   \n",
       "14                                       Chicken Dip   \n",
       "15                              Wild Boar Sloppy Joe   \n",
       "\n",
       "                                 Menu  \\\n",
       "Rank                                    \n",
       "1                         Old Oak Tap   \n",
       "2                           Au Cheval   \n",
       "3                                Xoco   \n",
       "4                           Al’s Deli   \n",
       "5              Publican Quality Meats   \n",
       "6     Hendrickx Belgian Bread Crafter   \n",
       "7                              Acadia   \n",
       "8                   Birchwood Kitchen   \n",
       "9                      Cemitas Puebla   \n",
       "10                               Nana   \n",
       "11                          Lula Cafe   \n",
       "12                         Ricobene’s   \n",
       "13                       Frog n Snail   \n",
       "14                   Crosby’s Kitchen   \n",
       "15                    Longman & Eagle   \n",
       "\n",
       "                                                    url  \n",
       "Rank                                                     \n",
       "1     http://www.chicagomag.com/Chicago-Magazine/Nov...  \n",
       "2     http://www.chicagomag.com/Chicago-Magazine/Nov...  \n",
       "3     http://www.chicagomag.com/Chicago-Magazine/Nov...  \n",
       "4     http://www.chicagomag.com/Chicago-Magazine/Nov...  \n",
       "5     http://www.chicagomag.com/Chicago-Magazine/Nov...  \n",
       "6     http://www.chicagomag.com/Chicago-Magazine/Nov...  \n",
       "7     http://www.chicagomag.com/Chicago-Magazine/Nov...  \n",
       "8     http://www.chicagomag.com/Chicago-Magazine/Nov...  \n",
       "9     http://www.chicagomag.com/Chicago-Magazine/Nov...  \n",
       "10    http://www.chicagomag.com/Chicago-Magazine/Nov...  \n",
       "11    http://www.chicagomag.com/Chicago-Magazine/Nov...  \n",
       "12    http://www.chicagomag.com/Chicago-Magazine/Nov...  \n",
       "13    http://www.chicagomag.com/Chicago-Magazine/Nov...  \n",
       "14    http://www.chicagomag.com/Chicago-Magazine/Nov...  \n",
       "15    http://www.chicagomag.com/Chicago-Magazine/Nov...  "
      ],
      "text/html": "<div>\n<style scoped>\n    .dataframe tbody tr th:only-of-type {\n        vertical-align: middle;\n    }\n\n    .dataframe tbody tr th {\n        vertical-align: top;\n    }\n\n    .dataframe thead th {\n        text-align: right;\n    }\n</style>\n<table border=\"1\" class=\"dataframe\">\n  <thead>\n    <tr style=\"text-align: right;\">\n      <th></th>\n      <th>Name</th>\n      <th>Menu</th>\n      <th>url</th>\n    </tr>\n    <tr>\n      <th>Rank</th>\n      <th></th>\n      <th></th>\n      <th></th>\n    </tr>\n  </thead>\n  <tbody>\n    <tr>\n      <th>1</th>\n      <td>BLT</td>\n      <td>Old Oak Tap</td>\n      <td>http://www.chicagomag.com/Chicago-Magazine/Nov...</td>\n    </tr>\n    <tr>\n      <th>2</th>\n      <td>Fried Bologna</td>\n      <td>Au Cheval</td>\n      <td>http://www.chicagomag.com/Chicago-Magazine/Nov...</td>\n    </tr>\n    <tr>\n      <th>3</th>\n      <td>Woodland Mushroom</td>\n      <td>Xoco</td>\n      <td>http://www.chicagomag.com/Chicago-Magazine/Nov...</td>\n    </tr>\n    <tr>\n      <th>4</th>\n      <td>Roast Beef</td>\n      <td>Al’s Deli</td>\n      <td>http://www.chicagomag.com/Chicago-Magazine/Nov...</td>\n    </tr>\n    <tr>\n      <th>5</th>\n      <td>PB&amp;L</td>\n      <td>Publican Quality Meats</td>\n      <td>http://www.chicagomag.com/Chicago-Magazine/Nov...</td>\n    </tr>\n    <tr>\n      <th>6</th>\n      <td>Belgian Chicken Curry Salad</td>\n      <td>Hendrickx Belgian Bread Crafter</td>\n      <td>http://www.chicagomag.com/Chicago-Magazine/Nov...</td>\n    </tr>\n    <tr>\n      <th>7</th>\n      <td>Lobster Roll</td>\n      <td>Acadia</td>\n      <td>http://www.chicagomag.com/Chicago-Magazine/Nov...</td>\n    </tr>\n    <tr>\n      <th>8</th>\n      <td>Smoked Salmon Salad</td>\n      <td>Birchwood Kitchen</td>\n      <td>http://www.chicagomag.com/Chicago-Magazine/Nov...</td>\n    </tr>\n    <tr>\n      <th>9</th>\n      <td>Atomica Cemitas</td>\n      <td>Cemitas Puebla</td>\n      <td>http://www.chicagomag.com/Chicago-Magazine/Nov...</td>\n    </tr>\n    <tr>\n      <th>10</th>\n      <td>Grilled Laughing Bird Shrimp and Fried Po’ Boy</td>\n      <td>Nana</td>\n      <td>http://www.chicagomag.com/Chicago-Magazine/Nov...</td>\n    </tr>\n    <tr>\n      <th>11</th>\n      <td>Ham and Raclette Panino</td>\n      <td>Lula Cafe</td>\n      <td>http://www.chicagomag.com/Chicago-Magazine/Nov...</td>\n    </tr>\n    <tr>\n      <th>12</th>\n      <td>Breaded Steak</td>\n      <td>Ricobene’s</td>\n      <td>http://www.chicagomag.com/Chicago-Magazine/Nov...</td>\n    </tr>\n    <tr>\n      <th>13</th>\n      <td>The Hawkeye</td>\n      <td>Frog n Snail</td>\n      <td>http://www.chicagomag.com/Chicago-Magazine/Nov...</td>\n    </tr>\n    <tr>\n      <th>14</th>\n      <td>Chicken Dip</td>\n      <td>Crosby’s Kitchen</td>\n      <td>http://www.chicagomag.com/Chicago-Magazine/Nov...</td>\n    </tr>\n    <tr>\n      <th>15</th>\n      <td>Wild Boar Sloppy Joe</td>\n      <td>Longman &amp; Eagle</td>\n      <td>http://www.chicagomag.com/Chicago-Magazine/Nov...</td>\n    </tr>\n  </tbody>\n</table>\n</div>"
     },
     "metadata": {},
     "execution_count": 173
    }
   ],
   "source": [
    "import pandas as pd\n",
    "\n",
    "data = {\n",
    "    'Rank':ranks,\n",
    "    'Name':names ,\n",
    "    'Menu':populars,\n",
    "    'url':full_links \n",
    "}\n",
    "df = pd.DataFrame(data)\n",
    "df.set_index('Rank',inplace=True)\n",
    "df.head(15)"
   ]
  },
  {
   "cell_type": "code",
   "execution_count": 145,
   "metadata": {},
   "outputs": [],
   "source": [
    "df.to_csv('03. best_sandwitches_list_chicago.csv', sep = ',', encoding = 'utf-8')"
   ]
  },
  {
   "cell_type": "markdown",
   "metadata": {},
   "source": [
    "# 페이지 돌아가면서 크롤링 하기"
   ]
  },
  {
   "cell_type": "code",
   "execution_count": 146,
   "metadata": {},
   "outputs": [
    {
     "output_type": "stream",
     "name": "stderr",
     "text": [
      "100%|██████████| 50/50 [02:22<00:00,  2.86s/it]\n"
     ]
    },
    {
     "output_type": "execute_result",
     "data": {
      "text/plain": [
       "['\\n$10. 2109 W. Chicago Ave., 773-772-0406, theoldoaktap.com',\n",
       " '\\n$9. 800 W. Randolph St., 312-929-4580, aucheval.tumblr.com',\n",
       " '\\n$9.50. 445 N. Clark St., 312-334-3688, rickbayless.com',\n",
       " '\\n$9.40. 914 Noyes St., Evanston, 847-475-9400, alsdeli.net',\n",
       " '\\n$10. 825 W. Fulton Mkt., 312-445-8977, publicanqualitymeats.com',\n",
       " '\\n$7.25. 100 E. Walton St., 312-649-6717',\n",
       " '\\n$16. 1639 S. Wabash Ave., 312-360-9500, acadiachicago.com',\n",
       " '\\n$10. 2211 W. North Ave., 773-276-2100, birchwoodkitchen.com',\n",
       " '\\n$9. 3619 W. North Ave., 773-772-8435, cemitaspuebla.com',\n",
       " '\\n$17. 3267 S. Halsted St., 312-929-2486, nanaorganic.com']"
      ]
     },
     "metadata": {},
     "execution_count": 146
    }
   ],
   "source": [
    "infos = []\n",
    "from tqdm import tqdm \n",
    "for url in tqdm(df['url']):\n",
    "    raw = requests.get(url\n",
    "                      , headers = {'User-Agent':'Mozila/5.0'}).text\n",
    "    each_page = BeautifulSoup(raw, 'html.parser')\n",
    "    \n",
    "    info = each_page.select_one('.addy').text\n",
    "    infos.append(info)\n",
    "    \n",
    "infos[:10]"
   ]
  },
  {
   "cell_type": "code",
   "execution_count": 147,
   "metadata": {},
   "outputs": [],
   "source": [
    "# 정규표현식으로 가져오기"
   ]
  },
  {
   "cell_type": "code",
   "execution_count": 148,
   "metadata": {},
   "outputs": [
    {
     "output_type": "execute_result",
     "data": {
      "text/plain": [
       "'\\n$10. 2109 W. Chicago Ave., 773-772-0406, theoldoaktap.com'"
      ]
     },
     "metadata": {},
     "execution_count": 148
    }
   ],
   "source": [
    "infos[0]"
   ]
  },
  {
   "cell_type": "code",
   "execution_count": 149,
   "metadata": {},
   "outputs": [
    {
     "output_type": "execute_result",
     "data": {
      "text/plain": [
       "[]"
      ]
     },
     "metadata": {},
     "execution_count": 149
    }
   ],
   "source": [
    "re.findall('[A-Za-z0-9]{1,}\\.[A-Za-z0-9]{1,10}\\.?[A-Za-z]{1,}\\.?[A-Za-z]{1,}','123')"
   ]
  },
  {
   "cell_type": "code",
   "execution_count": 150,
   "metadata": {},
   "outputs": [
    {
     "output_type": "execute_result",
     "data": {
      "text/plain": [
       "'$10'"
      ]
     },
     "metadata": {},
     "execution_count": 150
    }
   ],
   "source": [
    "price = infos[0].split(',')[0].split('.')[0][1:]\n",
    "price"
   ]
  },
  {
   "cell_type": "code",
   "execution_count": 151,
   "metadata": {},
   "outputs": [
    {
     "output_type": "execute_result",
     "data": {
      "text/plain": [
       "['\\n$10. 2109 W. Chicago Ave.', ' 773-772-0406', ' theoldoaktap.com']"
      ]
     },
     "metadata": {},
     "execution_count": 151
    }
   ],
   "source": [
    "infos[0].split(',')\n"
   ]
  },
  {
   "cell_type": "code",
   "execution_count": 152,
   "metadata": {},
   "outputs": [
    {
     "output_type": "execute_result",
     "data": {
      "text/plain": [
       "' 2109 W Chicago Ave'"
      ]
     },
     "metadata": {},
     "execution_count": 152
    }
   ],
   "source": [
    "infos[0].split(',')[0].split('.')[1:]\n",
    "''.join(infos[0].split(',')[0].split('.')[1:])"
   ]
  },
  {
   "cell_type": "code",
   "execution_count": 153,
   "metadata": {},
   "outputs": [],
   "source": [
    "# 이것도 홈페이지가 있다가 말다 하네. 얘도 데이터프레임으로 할까?\n",
    "# 상세정보가 딕셔너리처럼 안 되어 있어서 실패인데...\n",
    "\n",
    "# 하려면 정규표현식밖에 답이 없다."
   ]
  },
  {
   "cell_type": "code",
   "execution_count": 154,
   "metadata": {},
   "outputs": [
    {
     "output_type": "execute_result",
     "data": {
      "text/plain": [
       "True"
      ]
     },
     "metadata": {},
     "execution_count": 154
    }
   ],
   "source": [
    "re.match('[0-9]{2,3}-[0-9]{3,4}-[0-9]{4}',newinfo[1]) != None"
   ]
  },
  {
   "cell_type": "code",
   "execution_count": 155,
   "metadata": {},
   "outputs": [
    {
     "output_type": "execute_result",
     "data": {
      "text/plain": [
       "[' 312-334-3688', ' rickbayless.com']"
      ]
     },
     "metadata": {},
     "execution_count": 155
    }
   ],
   "source": [
    "infos[2].split(',')[1:]"
   ]
  },
  {
   "cell_type": "code",
   "execution_count": 156,
   "metadata": {},
   "outputs": [
    {
     "output_type": "execute_result",
     "data": {
      "text/plain": [
       "<re.Match object; span=(0, 12), match='773-772-0406'>"
      ]
     },
     "metadata": {},
     "execution_count": 156
    }
   ],
   "source": [
    "# 앞에 띄어쓰기가 껴있을 때\n",
    "re.match(' *[0-9]{2,3}-[0-9]{3,4}-[0-9]{4}',newinfo[1])"
   ]
  },
  {
   "cell_type": "code",
   "execution_count": 157,
   "metadata": {},
   "outputs": [
    {
     "output_type": "execute_result",
     "data": {
      "text/plain": [
       "['02-100-1000']"
      ]
     },
     "metadata": {},
     "execution_count": 157
    }
   ],
   "source": [
    "re.findall('[0-9]{2,3}-[0-9]{3,4}-[0-9]{4}', '02-100-1000')"
   ]
  },
  {
   "cell_type": "code",
   "execution_count": 105,
   "metadata": {},
   "outputs": [
    {
     "output_type": "execute_result",
     "data": {
      "text/plain": [
       "[' 773-868-4000', ' phoebesbakery.com']"
      ]
     },
     "metadata": {},
     "execution_count": 105
    }
   ],
   "source": []
  },
  {
   "cell_type": "code",
   "execution_count": 158,
   "metadata": {},
   "outputs": [
    {
     "output_type": "execute_result",
     "data": {
      "text/plain": [
       "(['10',\n",
       "  '9',\n",
       "  '9',\n",
       "  '9',\n",
       "  '10',\n",
       "  '7',\n",
       "  '16',\n",
       "  '10',\n",
       "  '9',\n",
       "  '17',\n",
       "  '11',\n",
       "  '5',\n",
       "  '14',\n",
       "  '10',\n",
       "  '13',\n",
       "  '4',\n",
       "  '11',\n",
       "  '11',\n",
       "  '6',\n",
       "  '15',\n",
       "  '5',\n",
       "  '6',\n",
       "  '8',\n",
       "  '5',\n",
       "  '7',\n",
       "  '11',\n",
       "  '7',\n",
       "  '12',\n",
       "  '7',\n",
       "  '21',\n",
       "  '9',\n",
       "  '9',\n",
       "  '13',\n",
       "  '7',\n",
       "  '9',\n",
       "  '9',\n",
       "  '8',\n",
       "  '8',\n",
       "  '7',\n",
       "  '6',\n",
       "  '7',\n",
       "  '11',\n",
       "  '6',\n",
       "  '9',\n",
       "  '5',\n",
       "  '8',\n",
       "  '6',\n",
       "  '7',\n",
       "  '8',\n",
       "  '6'],\n",
       " [' 2109 W Chicago Ave',\n",
       "  ' 800 W Randolph St',\n",
       "  '50 445 N Clark St',\n",
       "  '40 914 Noyes St',\n",
       "  ' 825 W Fulton Mkt',\n",
       "  '25 100 E Walton St',\n",
       "  ' 1639 S Wabash Ave',\n",
       "  ' 2211 W North Ave',\n",
       "  ' 3619 W North Ave',\n",
       "  ' 3267 S Halsted St',\n",
       "  ' 2537 N Kedzie Blvd',\n",
       "  '49 Multiple locations',\n",
       "  ' 3124 N Broadway',\n",
       "  ' 3455 N Southport Ave',\n",
       "  ' 2657 N Kedzie Ave',\n",
       "  '50 1120 W Grand Ave',\n",
       "  '95 1141 S Jefferson St',\n",
       "  '50 333 E Benton Pl',\n",
       "  '25 1411 N Wells St',\n",
       "  ' 1747 N Damen Ave',\n",
       "  ' 3209 W Irving Park Rd',\n",
       "  ' Multiple locations',\n",
       "  ' 5347 N Clark St',\n",
       "  '99 2954 W Irving Park Rd',\n",
       "  '52 Multiple locations',\n",
       "  '95 191 Skokie Valley Rd',\n",
       "  '50 Multiple locations',\n",
       "  '95 1818 W Wilson Ave',\n",
       "  ' 2517 W Division St',\n",
       "  ' 218 W Kinzie St',\n",
       "  '79 Multiple locations',\n",
       "  '75 1547 N Wells St',\n",
       "  ' 415 N Milwaukee Ave',\n",
       "  '95 1840 N Damen Ave',\n",
       "  ' 1220 W Webster Ave',\n",
       "  ' 5357 N Ashland Ave',\n",
       "  ' 1834 W Montrose Ave',\n",
       "  ' 615 N State St',\n",
       "  ' Multiple locations',\n",
       "  ' 241 N York Rd',\n",
       "  '25 1323 E 57th St',\n",
       "  ' 655 Forest Ave',\n",
       "  ' Hotel Lincoln',\n",
       "  ' 100 S Marion St',\n",
       "  '49 26 E Congress Pkwy',\n",
       "  ' 2018 W Chicago Ave',\n",
       "  '50 25 E Delaware Pl',\n",
       "  '50 416 N York St',\n",
       "  '75 65 E Washington St',\n",
       "  '85 3351 N Broadway'],\n",
       " [' 773-772-0406',\n",
       "  ' 312-929-4580',\n",
       "  ' 312-334-3688',\n",
       "  ' 847-475-9400',\n",
       "  ' 312-445-8977',\n",
       "  ' 312-649-6717',\n",
       "  ' 312-360-9500',\n",
       "  ' 773-276-2100',\n",
       "  ' 773-772-8435',\n",
       "  ' 312-929-2486',\n",
       "  ' 773-489-9554',\n",
       "  nan,\n",
       "  ' 773-661-9166',\n",
       "  ' 773-883-2525',\n",
       "  ' 773-276-7110',\n",
       "  ' 312-666-0730',\n",
       "  ' 312-939-2855',\n",
       "  ' 773-234-3449',\n",
       "  ' 312-944-0459',\n",
       "  ' 773-489-1747',\n",
       "  ' 773-539-8038',\n",
       "  nan,\n",
       "  ' 773-275-5725',\n",
       "  ' 773-539-5321',\n",
       "  nan,\n",
       "  ' 847-831-0600',\n",
       "  nan,\n",
       "  ' 773-293-2489',\n",
       "  ' 773-862-8313',\n",
       "  ' 312-624-8154',\n",
       "  nan,\n",
       "  ' 312-624-9430',\n",
       "  ' 312-829-6300',\n",
       "  ' 773-681-9914',\n",
       "  ' 773-883-1313',\n",
       "  ' 773-275-4297',\n",
       "  ' 773-334-5664',\n",
       "  ' 312-265-0434',\n",
       "  nan,\n",
       "  ' 630-516-3354',\n",
       "  ' 773-538-7372',\n",
       "  ' 847-234-8800',\n",
       "  ' 312-254-4665',\n",
       "  ' 708-725-7200',\n",
       "  ' 312-922-2233',\n",
       "  ' 773-384-9930',\n",
       "  ' 312-896-2600',\n",
       "  ' 630-359-5234',\n",
       "  ' 312-726-2020',\n",
       "  ' 773-868-4000'],\n",
       " ['theoldoaktap.com',\n",
       "  'aucheval.tumblr.com',\n",
       "  'rickbayless.com',\n",
       "  'alsdeli.net',\n",
       "  'publicanqualitymeats.com',\n",
       "  nan,\n",
       "  'acadiachicago.com',\n",
       "  'birchwoodkitchen.com',\n",
       "  'cemitaspuebla.com',\n",
       "  'nanaorganic.com',\n",
       "  'lulacafe.com',\n",
       "  'ricobenespizza.com',\n",
       "  'frognsnail.com',\n",
       "  'crosbyskitchenchicago.com',\n",
       "  'longmanandeagle.com',\n",
       "  'bariitaliansubs.com',\n",
       "  'mannysdeli.com',\n",
       "  'eggysdiner.com',\n",
       "  'oldjerusalemchicago.com',\n",
       "  'hotchocolatechicago.com',\n",
       "  nan,\n",
       "  'dawalikitchen.com',\n",
       "  'bigjoneschicago.com',\n",
       "  'lapanechicago.com',\n",
       "  'pastoralartisan.com',\n",
       "  'deli.com',\n",
       "  'luckysandwich.com',\n",
       "  'cityprovisions.com',\n",
       "  'papascachesabroso.com',\n",
       "  nan,\n",
       "  'hannahsbretzel.com',\n",
       "  'lafournette.com',\n",
       "  'paramountroom.com',\n",
       "  'meltsandwichshoppechicago.com',\n",
       "  'floriole.com',\n",
       "  'firstslice.org',\n",
       "  'troquetchicago.com',\n",
       "  'grahamwich.com',\n",
       "  'saigonsisters.com',\n",
       "  'rosaliasdeli.com',\n",
       "  'zhmarketcafe.com',\n",
       "  'themarkethouse.com',\n",
       "  'jdvhotels.com',\n",
       "  'marionstreetcheesemarket.com',\n",
       "  'cafecitochicago.com',\n",
       "  'chickpeaonthego.com',\n",
       "  'goddessandgrocer.com',\n",
       "  'eatmyzenwich.com',\n",
       "  'tonipatisserie.com',\n",
       "  'phoebesbakery.com'])"
      ]
     },
     "metadata": {},
     "execution_count": 158
    }
   ],
   "source": [
    "prices = []\n",
    "addresses = []\n",
    "numbers = []\n",
    "webs = []\n",
    "import numpy as np\n",
    "\n",
    "for info in infos:\n",
    "    price = info.split(',')[0].split('.')[0][2:]\n",
    "    prices.append(price)\n",
    "    \n",
    "    address = ''.join(info.split(',')[0].split('.')[1:])\n",
    "    addresses.append(address)\n",
    " \n",
    "    # 전화번호가 없거나 주소가 없는 곳이 다 다르기 때문에 try-except를 number, webs에 따로 걸어줘야 한다.\n",
    "    # 근데 왜 findall은 찾아지고 match.group()은 안될까? => 아... 이거 할 땐 내가 try,except를 따로 안 해줘서 그런가봐\n",
    "    try:\n",
    "        number = re.findall(' *[0-9]{2,3}-[0-9]{3,4}-[0-9]{4}',info)[0]\n",
    "        numbers.append(number)\n",
    "    except:\n",
    "        numbers.append(np.nan)\n",
    "    \n",
    "\n",
    "    # if re.match(' *[0-9]{2,3}-[0-9]{3,4}-[0-9]{4}',info):\n",
    "    # # try:\n",
    "    #     number = re.match(' *[0-9]{2,3}-[0-9]{3,4}-[0-9]{4}',info).group()\n",
    "    #     numbers.append(number)\n",
    "    # else:\n",
    "    #     numbers.append(np.nan)\n",
    "    # # number = elm if re.match(' *[0-9]{2,3}-[0-9]{3,4}-[0-9]{4}',elm) != None else 'hey'\n",
    "    # if re.match('[A-Za-z0-9]{1,}\\.[A-Za-z0-9]{1,10}\\.?[A-Za-z]{1,}\\.?[A-Za-z]{1,}',info):\n",
    "    try:\n",
    "        web = re.findall('[A-Za-z0-9]{1,}\\.[A-Za-z0-9]{1,10}\\.?[A-Za-z]{1,}\\.?[A-Za-z]{1,}',info)[0]\n",
    "        webs.append(web)\n",
    "    except:\n",
    "        webs.append(np.nan)\n",
    "\n",
    "    # else:\n",
    "    #     webs.append(np.nan)\n",
    "    # # except:\n",
    "        # numbers.append(np.nan)\n",
    "        # webs.append(np.nan)\n",
    " \n",
    "    \n",
    "    # number = info.split(',')[-2]\n",
    "    \n",
    "    # web = info.split(',')[-1]\n",
    "    "
   ]
  },
  {
   "cell_type": "code",
   "execution_count": 179,
   "metadata": {},
   "outputs": [
    {
     "output_type": "execute_result",
     "data": {
      "text/plain": [
       "(['10', '9', '9', '9', '10', '7', '16', '10', '9', '17'],\n",
       " [' 2109 W Chicago Ave',\n",
       "  ' 800 W Randolph St',\n",
       "  '50 445 N Clark St',\n",
       "  '40 914 Noyes St',\n",
       "  ' 825 W Fulton Mkt',\n",
       "  '25 100 E Walton St',\n",
       "  ' 1639 S Wabash Ave',\n",
       "  ' 2211 W North Ave',\n",
       "  ' 3619 W North Ave',\n",
       "  ' 3267 S Halsted St'],\n",
       " [' 773-772-0406',\n",
       "  ' 312-929-4580',\n",
       "  ' 312-334-3688',\n",
       "  ' 847-475-9400',\n",
       "  ' 312-445-8977',\n",
       "  ' 312-649-6717',\n",
       "  ' 312-360-9500',\n",
       "  ' 773-276-2100',\n",
       "  ' 773-772-8435',\n",
       "  ' 312-929-2486'],\n",
       " ['theoldoaktap.com',\n",
       "  'aucheval.tumblr.com',\n",
       "  'rickbayless.com',\n",
       "  'alsdeli.net',\n",
       "  'publicanqualitymeats.com',\n",
       "  nan,\n",
       "  'acadiachicago.com',\n",
       "  'birchwoodkitchen.com',\n",
       "  'cemitaspuebla.com',\n",
       "  'nanaorganic.com'])"
      ]
     },
     "metadata": {},
     "execution_count": 179
    }
   ],
   "source": [
    "prices[:10], addresses[:10], numbers[:10], webs[:10]"
   ]
  },
  {
   "cell_type": "markdown",
   "metadata": {},
   "source": [
    "# df에 prices, addresses, numbers, webs 추가하기"
   ]
  },
  {
   "cell_type": "code",
   "execution_count": 180,
   "metadata": {},
   "outputs": [
    {
     "output_type": "execute_result",
     "data": {
      "text/plain": [
       "                   Name                    Menu price              address  \\\n",
       "Rank                                                                         \n",
       "1                   BLT             Old Oak Tap    10   2109 W Chicago Ave   \n",
       "2         Fried Bologna               Au Cheval     9    800 W Randolph St   \n",
       "3     Woodland Mushroom                    Xoco     9    50 445 N Clark St   \n",
       "4            Roast Beef               Al’s Deli     9      40 914 Noyes St   \n",
       "5                  PB&L  Publican Quality Meats    10     825 W Fulton Mkt   \n",
       "\n",
       "              phone                   website  \n",
       "Rank                                           \n",
       "1      773-772-0406          theoldoaktap.com  \n",
       "2      312-929-4580       aucheval.tumblr.com  \n",
       "3      312-334-3688           rickbayless.com  \n",
       "4      847-475-9400               alsdeli.net  \n",
       "5      312-445-8977  publicanqualitymeats.com  "
      ],
      "text/html": "<div>\n<style scoped>\n    .dataframe tbody tr th:only-of-type {\n        vertical-align: middle;\n    }\n\n    .dataframe tbody tr th {\n        vertical-align: top;\n    }\n\n    .dataframe thead th {\n        text-align: right;\n    }\n</style>\n<table border=\"1\" class=\"dataframe\">\n  <thead>\n    <tr style=\"text-align: right;\">\n      <th></th>\n      <th>Name</th>\n      <th>Menu</th>\n      <th>price</th>\n      <th>address</th>\n      <th>phone</th>\n      <th>website</th>\n    </tr>\n    <tr>\n      <th>Rank</th>\n      <th></th>\n      <th></th>\n      <th></th>\n      <th></th>\n      <th></th>\n      <th></th>\n    </tr>\n  </thead>\n  <tbody>\n    <tr>\n      <th>1</th>\n      <td>BLT</td>\n      <td>Old Oak Tap</td>\n      <td>10</td>\n      <td>2109 W Chicago Ave</td>\n      <td>773-772-0406</td>\n      <td>theoldoaktap.com</td>\n    </tr>\n    <tr>\n      <th>2</th>\n      <td>Fried Bologna</td>\n      <td>Au Cheval</td>\n      <td>9</td>\n      <td>800 W Randolph St</td>\n      <td>312-929-4580</td>\n      <td>aucheval.tumblr.com</td>\n    </tr>\n    <tr>\n      <th>3</th>\n      <td>Woodland Mushroom</td>\n      <td>Xoco</td>\n      <td>9</td>\n      <td>50 445 N Clark St</td>\n      <td>312-334-3688</td>\n      <td>rickbayless.com</td>\n    </tr>\n    <tr>\n      <th>4</th>\n      <td>Roast Beef</td>\n      <td>Al’s Deli</td>\n      <td>9</td>\n      <td>40 914 Noyes St</td>\n      <td>847-475-9400</td>\n      <td>alsdeli.net</td>\n    </tr>\n    <tr>\n      <th>5</th>\n      <td>PB&amp;L</td>\n      <td>Publican Quality Meats</td>\n      <td>10</td>\n      <td>825 W Fulton Mkt</td>\n      <td>312-445-8977</td>\n      <td>publicanqualitymeats.com</td>\n    </tr>\n  </tbody>\n</table>\n</div>"
     },
     "metadata": {},
     "execution_count": 180
    }
   ],
   "source": [
    "df['price'] = prices\n",
    "df['address'] = addresses\n",
    "df['phone'] = numbers\n",
    "df['website'] = webs\n",
    "\n",
    "df.head()"
   ]
  },
  {
   "cell_type": "code",
   "execution_count": 181,
   "metadata": {},
   "outputs": [],
   "source": [
    "# df['phone'] = df.apply(lambda r: '' if r['address'].find('Multiple') > -1 else r['phone'], axis=1)"
   ]
  },
  {
   "cell_type": "code",
   "execution_count": 182,
   "metadata": {},
   "outputs": [
    {
     "output_type": "execute_result",
     "data": {
      "text/plain": [
       "                   Name                    Menu price              address  \\\n",
       "Rank                                                                         \n",
       "1                   BLT             Old Oak Tap    10   2109 W Chicago Ave   \n",
       "2         Fried Bologna               Au Cheval     9    800 W Randolph St   \n",
       "3     Woodland Mushroom                    Xoco     9    50 445 N Clark St   \n",
       "4            Roast Beef               Al’s Deli     9      40 914 Noyes St   \n",
       "5                  PB&L  Publican Quality Meats    10     825 W Fulton Mkt   \n",
       "\n",
       "              phone                   website  \n",
       "Rank                                           \n",
       "1      773-772-0406          theoldoaktap.com  \n",
       "2      312-929-4580       aucheval.tumblr.com  \n",
       "3      312-334-3688           rickbayless.com  \n",
       "4      847-475-9400               alsdeli.net  \n",
       "5      312-445-8977  publicanqualitymeats.com  "
      ],
      "text/html": "<div>\n<style scoped>\n    .dataframe tbody tr th:only-of-type {\n        vertical-align: middle;\n    }\n\n    .dataframe tbody tr th {\n        vertical-align: top;\n    }\n\n    .dataframe thead th {\n        text-align: right;\n    }\n</style>\n<table border=\"1\" class=\"dataframe\">\n  <thead>\n    <tr style=\"text-align: right;\">\n      <th></th>\n      <th>Name</th>\n      <th>Menu</th>\n      <th>price</th>\n      <th>address</th>\n      <th>phone</th>\n      <th>website</th>\n    </tr>\n    <tr>\n      <th>Rank</th>\n      <th></th>\n      <th></th>\n      <th></th>\n      <th></th>\n      <th></th>\n      <th></th>\n    </tr>\n  </thead>\n  <tbody>\n    <tr>\n      <th>1</th>\n      <td>BLT</td>\n      <td>Old Oak Tap</td>\n      <td>10</td>\n      <td>2109 W Chicago Ave</td>\n      <td>773-772-0406</td>\n      <td>theoldoaktap.com</td>\n    </tr>\n    <tr>\n      <th>2</th>\n      <td>Fried Bologna</td>\n      <td>Au Cheval</td>\n      <td>9</td>\n      <td>800 W Randolph St</td>\n      <td>312-929-4580</td>\n      <td>aucheval.tumblr.com</td>\n    </tr>\n    <tr>\n      <th>3</th>\n      <td>Woodland Mushroom</td>\n      <td>Xoco</td>\n      <td>9</td>\n      <td>50 445 N Clark St</td>\n      <td>312-334-3688</td>\n      <td>rickbayless.com</td>\n    </tr>\n    <tr>\n      <th>4</th>\n      <td>Roast Beef</td>\n      <td>Al’s Deli</td>\n      <td>9</td>\n      <td>40 914 Noyes St</td>\n      <td>847-475-9400</td>\n      <td>alsdeli.net</td>\n    </tr>\n    <tr>\n      <th>5</th>\n      <td>PB&amp;L</td>\n      <td>Publican Quality Meats</td>\n      <td>10</td>\n      <td>825 W Fulton Mkt</td>\n      <td>312-445-8977</td>\n      <td>publicanqualitymeats.com</td>\n    </tr>\n  </tbody>\n</table>\n</div>"
     },
     "metadata": {},
     "execution_count": 182
    }
   ],
   "source": [
    "\"\"\" multiple 로케이션인 곳에 전화번호가 이상하게 들어가있음. 요거 어케 바꾸지? \"\"\"\n",
    "# [df['address'].find('Multiple locations') > -1] => 이거는 series 메소드가 아니라고 오류 발생\n",
    "df.head()"
   ]
  },
  {
   "cell_type": "code",
   "execution_count": 187,
   "metadata": {},
   "outputs": [
    {
     "output_type": "execute_result",
     "data": {
      "text/plain": [
       "                   Name                    Menu price              address  \\\n",
       "Rank                                                                         \n",
       "1                   BLT             Old Oak Tap    10   2109 W Chicago Ave   \n",
       "2         Fried Bologna               Au Cheval     9    800 W Randolph St   \n",
       "3     Woodland Mushroom                    Xoco     9    50 445 N Clark St   \n",
       "4            Roast Beef               Al’s Deli     9      40 914 Noyes St   \n",
       "5                  PB&L  Publican Quality Meats    10     825 W Fulton Mkt   \n",
       "\n",
       "              phone                   website  \n",
       "Rank                                           \n",
       "1      773-772-0406          theoldoaktap.com  \n",
       "2      312-929-4580       aucheval.tumblr.com  \n",
       "3      312-334-3688           rickbayless.com  \n",
       "4      847-475-9400               alsdeli.net  \n",
       "5      312-445-8977  publicanqualitymeats.com  "
      ],
      "text/html": "<div>\n<style scoped>\n    .dataframe tbody tr th:only-of-type {\n        vertical-align: middle;\n    }\n\n    .dataframe tbody tr th {\n        vertical-align: top;\n    }\n\n    .dataframe thead th {\n        text-align: right;\n    }\n</style>\n<table border=\"1\" class=\"dataframe\">\n  <thead>\n    <tr style=\"text-align: right;\">\n      <th></th>\n      <th>Name</th>\n      <th>Menu</th>\n      <th>price</th>\n      <th>address</th>\n      <th>phone</th>\n      <th>website</th>\n    </tr>\n    <tr>\n      <th>Rank</th>\n      <th></th>\n      <th></th>\n      <th></th>\n      <th></th>\n      <th></th>\n      <th></th>\n    </tr>\n  </thead>\n  <tbody>\n    <tr>\n      <th>1</th>\n      <td>BLT</td>\n      <td>Old Oak Tap</td>\n      <td>10</td>\n      <td>2109 W Chicago Ave</td>\n      <td>773-772-0406</td>\n      <td>theoldoaktap.com</td>\n    </tr>\n    <tr>\n      <th>2</th>\n      <td>Fried Bologna</td>\n      <td>Au Cheval</td>\n      <td>9</td>\n      <td>800 W Randolph St</td>\n      <td>312-929-4580</td>\n      <td>aucheval.tumblr.com</td>\n    </tr>\n    <tr>\n      <th>3</th>\n      <td>Woodland Mushroom</td>\n      <td>Xoco</td>\n      <td>9</td>\n      <td>50 445 N Clark St</td>\n      <td>312-334-3688</td>\n      <td>rickbayless.com</td>\n    </tr>\n    <tr>\n      <th>4</th>\n      <td>Roast Beef</td>\n      <td>Al’s Deli</td>\n      <td>9</td>\n      <td>40 914 Noyes St</td>\n      <td>847-475-9400</td>\n      <td>alsdeli.net</td>\n    </tr>\n    <tr>\n      <th>5</th>\n      <td>PB&amp;L</td>\n      <td>Publican Quality Meats</td>\n      <td>10</td>\n      <td>825 W Fulton Mkt</td>\n      <td>312-445-8977</td>\n      <td>publicanqualitymeats.com</td>\n    </tr>\n  </tbody>\n</table>\n</div>"
     },
     "metadata": {},
     "execution_count": 187
    }
   ],
   "source": [
    "df = df.reindex(columns=[\n",
    "    'Name',\n",
    "    'Menu',\n",
    "    'price',\n",
    "    'address',\n",
    "    'phone',\n",
    "    'website'  #googlemapkeys.txt\n",
    "])\n",
    "df.head()"
   ]
  },
  {
   "cell_type": "code",
   "execution_count": 188,
   "metadata": {},
   "outputs": [],
   "source": [
    "df.fillna('', inplace=True)"
   ]
  },
  {
   "cell_type": "code",
   "execution_count": 189,
   "metadata": {},
   "outputs": [],
   "source": [
    "df.to_csv('03. best_sandwitches_list_chicago2.csv',sep=',',encoding='utf-8')"
   ]
  }
 ],
 "metadata": {
  "kernelspec": {
   "name": "python3",
   "display_name": "Python 3.8.5 64-bit (conda)",
   "metadata": {
    "interpreter": {
     "hash": "b3ba2566441a7c06988d0923437866b63cedc61552a5af99d1f4fb67d367b25f"
    }
   }
  },
  "language_info": {
   "codemirror_mode": {
    "name": "ipython",
    "version": 3
   },
   "file_extension": ".py",
   "mimetype": "text/x-python",
   "name": "python",
   "nbconvert_exporter": "python",
   "pygments_lexer": "ipython3",
   "version": "3.8.5-final"
  }
 },
 "nbformat": 4,
 "nbformat_minor": 2
}