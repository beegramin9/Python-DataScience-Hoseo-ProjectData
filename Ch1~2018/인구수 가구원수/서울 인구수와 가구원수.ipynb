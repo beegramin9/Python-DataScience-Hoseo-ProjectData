{
 "metadata": {
  "language_info": {
   "codemirror_mode": {
    "name": "ipython",
    "version": 3
   },
   "file_extension": ".py",
   "mimetype": "text/x-python",
   "name": "python",
   "nbconvert_exporter": "python",
   "pygments_lexer": "ipython3",
   "version": "3.8.1-final"
  },
  "orig_nbformat": 2,
  "kernelspec": {
   "name": "python38132bit243e625a994649b0a7927380da95a17b",
   "display_name": "Python 3.8.1 32-bit"
  }
 },
 "nbformat": 4,
 "nbformat_minor": 2,
 "cells": [
  {
   "cell_type": "code",
   "execution_count": 39,
   "metadata": {},
   "outputs": [],
   "source": [
    "import pandas as pd\n",
    "import numpy as np"
   ]
  },
  {
   "cell_type": "code",
   "execution_count": 40,
   "metadata": {},
   "outputs": [],
   "source": [
    "hh19 = pd.read_csv('Household19.txt', delimiter='\\t', sep=',', encoding = 'utf8', thousands=',', header= 1) \n",
    "del hh19['기간'] \n",
    "hh19 = hh19.iloc[1:] # 총합 행 제거"
   ]
  },
  {
   "cell_type": "code",
   "execution_count": 47,
   "metadata": {},
   "outputs": [
    {
     "output_type": "execute_result",
     "data": {
      "text/plain": [
       "    구별   일반가구수     1인     2인     3인     4인    5인    6인  7인 이상  평균가구원수\n",
       "1  종로구   62652  24671  16208  11154   7828  2143   505    143     2.2\n",
       "2   중구   54496  22078  14578   9540   6292  1533   373    102     2.1\n",
       "3  용산구   93177  35148  25164  17439  11736  2907   612    171     2.2\n",
       "4  성동구  122770  41488  32125  25634  18379  4014   877    253     2.3\n",
       "5  광진구  149905  58714  35678  28054  21454  4711  1006    288     2.2"
      ],
      "text/html": "<div>\n<style scoped>\n    .dataframe tbody tr th:only-of-type {\n        vertical-align: middle;\n    }\n\n    .dataframe tbody tr th {\n        vertical-align: top;\n    }\n\n    .dataframe thead th {\n        text-align: right;\n    }\n</style>\n<table border=\"1\" class=\"dataframe\">\n  <thead>\n    <tr style=\"text-align: right;\">\n      <th></th>\n      <th>구별</th>\n      <th>일반가구수</th>\n      <th>1인</th>\n      <th>2인</th>\n      <th>3인</th>\n      <th>4인</th>\n      <th>5인</th>\n      <th>6인</th>\n      <th>7인 이상</th>\n      <th>평균가구원수</th>\n    </tr>\n  </thead>\n  <tbody>\n    <tr>\n      <th>1</th>\n      <td>종로구</td>\n      <td>62652</td>\n      <td>24671</td>\n      <td>16208</td>\n      <td>11154</td>\n      <td>7828</td>\n      <td>2143</td>\n      <td>505</td>\n      <td>143</td>\n      <td>2.2</td>\n    </tr>\n    <tr>\n      <th>2</th>\n      <td>중구</td>\n      <td>54496</td>\n      <td>22078</td>\n      <td>14578</td>\n      <td>9540</td>\n      <td>6292</td>\n      <td>1533</td>\n      <td>373</td>\n      <td>102</td>\n      <td>2.1</td>\n    </tr>\n    <tr>\n      <th>3</th>\n      <td>용산구</td>\n      <td>93177</td>\n      <td>35148</td>\n      <td>25164</td>\n      <td>17439</td>\n      <td>11736</td>\n      <td>2907</td>\n      <td>612</td>\n      <td>171</td>\n      <td>2.2</td>\n    </tr>\n    <tr>\n      <th>4</th>\n      <td>성동구</td>\n      <td>122770</td>\n      <td>41488</td>\n      <td>32125</td>\n      <td>25634</td>\n      <td>18379</td>\n      <td>4014</td>\n      <td>877</td>\n      <td>253</td>\n      <td>2.3</td>\n    </tr>\n    <tr>\n      <th>5</th>\n      <td>광진구</td>\n      <td>149905</td>\n      <td>58714</td>\n      <td>35678</td>\n      <td>28054</td>\n      <td>21454</td>\n      <td>4711</td>\n      <td>1006</td>\n      <td>288</td>\n      <td>2.2</td>\n    </tr>\n  </tbody>\n</table>\n</div>"
     },
     "metadata": {},
     "execution_count": 47
    }
   ],
   "source": [
    "hh19.rename(columns={\n",
    "    hh19.columns[0]:'구별'\n",
    "}, inplace = True)\n",
    "hh19.head()"
   ]
  },
  {
   "cell_type": "code",
   "execution_count": 50,
   "metadata": {},
   "outputs": [
    {
     "output_type": "execute_result",
     "data": {
      "text/plain": [
       "    구별     인구수     한국인    외국인    고령자\n",
       "1  종로구  159842  149952   9890  28396\n",
       "2   중구  135321  125800   9521  24265\n",
       "3  용산구  244953  229786  15167  39995\n",
       "4  성동구  302695  295591   7104  45372\n",
       "5  광진구  361923  348064  13859  50047"
      ],
      "text/html": "<div>\n<style scoped>\n    .dataframe tbody tr th:only-of-type {\n        vertical-align: middle;\n    }\n\n    .dataframe tbody tr th {\n        vertical-align: top;\n    }\n\n    .dataframe thead th {\n        text-align: right;\n    }\n</style>\n<table border=\"1\" class=\"dataframe\">\n  <thead>\n    <tr style=\"text-align: right;\">\n      <th></th>\n      <th>구별</th>\n      <th>인구수</th>\n      <th>한국인</th>\n      <th>외국인</th>\n      <th>고령자</th>\n    </tr>\n  </thead>\n  <tbody>\n    <tr>\n      <th>1</th>\n      <td>종로구</td>\n      <td>159842</td>\n      <td>149952</td>\n      <td>9890</td>\n      <td>28396</td>\n    </tr>\n    <tr>\n      <th>2</th>\n      <td>중구</td>\n      <td>135321</td>\n      <td>125800</td>\n      <td>9521</td>\n      <td>24265</td>\n    </tr>\n    <tr>\n      <th>3</th>\n      <td>용산구</td>\n      <td>244953</td>\n      <td>229786</td>\n      <td>15167</td>\n      <td>39995</td>\n    </tr>\n    <tr>\n      <th>4</th>\n      <td>성동구</td>\n      <td>302695</td>\n      <td>295591</td>\n      <td>7104</td>\n      <td>45372</td>\n    </tr>\n    <tr>\n      <th>5</th>\n      <td>광진구</td>\n      <td>361923</td>\n      <td>348064</td>\n      <td>13859</td>\n      <td>50047</td>\n    </tr>\n  </tbody>\n</table>\n</div>"
     },
     "metadata": {},
     "execution_count": 50
    }
   ],
   "source": [
    "pop_18 = pd.read_csv('pop18.txt',delimiter='\\t', header = 2, usecols = [1,3,6,9,13], thousands = ',')\n",
    "pop_18.rename(columns ={\n",
    "    pop_18.columns[0] : '구별',\n",
    "    pop_18.columns[1] : '인구수',\n",
    "    pop_18.columns[2] : '한국인',\n",
    "    pop_18.columns[3] : '외국인',\n",
    "    pop_18.columns[4] : '고령자'\n",
    "}, inplace = True)\n",
    "pop_18 = pop_18.iloc[1:] # 총합 행 제거\n",
    "pop_18.head()"
   ]
  },
  {
   "cell_type": "code",
   "execution_count": null,
   "metadata": {},
   "outputs": [],
   "source": []
  }
 ]
}