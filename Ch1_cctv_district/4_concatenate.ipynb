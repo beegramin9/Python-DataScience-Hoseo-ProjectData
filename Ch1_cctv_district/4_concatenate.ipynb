{
 "cells": [
  {
   "cell_type": "code",
   "execution_count": 5,
   "metadata": {},
   "outputs": [
    {
     "name": "stdout",
     "output_type": "stream",
     "text": [
      "    A   B   C   D\n",
      "0  A0  A0  A0  A0\n",
      "1  B1  B1  B1  B1\n",
      "2  C2  C2  C2  C2\n",
      "3  D3  D3  D3  D3\n",
      "    A   B   C   D\n",
      "4  A4  A4  A4  A4\n",
      "5  B5  B5  B5  B5\n",
      "6  C6  C6  C6  C6\n",
      "7  D7  D7  D7  D7\n"
     ]
    },
    {
     "data": {
      "text/html": [
       "<div>\n",
       "<style scoped>\n",
       "    .dataframe tbody tr th:only-of-type {\n",
       "        vertical-align: middle;\n",
       "    }\n",
       "\n",
       "    .dataframe tbody tr th {\n",
       "        vertical-align: top;\n",
       "    }\n",
       "\n",
       "    .dataframe thead th {\n",
       "        text-align: right;\n",
       "    }\n",
       "</style>\n",
       "<table border=\"1\" class=\"dataframe\">\n",
       "  <thead>\n",
       "    <tr style=\"text-align: right;\">\n",
       "      <th></th>\n",
       "      <th>A</th>\n",
       "      <th>B</th>\n",
       "      <th>C</th>\n",
       "      <th>D</th>\n",
       "    </tr>\n",
       "  </thead>\n",
       "  <tbody>\n",
       "    <tr>\n",
       "      <th>8</th>\n",
       "      <td>A8</td>\n",
       "      <td>A8</td>\n",
       "      <td>A8</td>\n",
       "      <td>A8</td>\n",
       "    </tr>\n",
       "    <tr>\n",
       "      <th>9</th>\n",
       "      <td>B9</td>\n",
       "      <td>B9</td>\n",
       "      <td>B9</td>\n",
       "      <td>B9</td>\n",
       "    </tr>\n",
       "    <tr>\n",
       "      <th>10</th>\n",
       "      <td>C10</td>\n",
       "      <td>C10</td>\n",
       "      <td>C10</td>\n",
       "      <td>C10</td>\n",
       "    </tr>\n",
       "    <tr>\n",
       "      <th>11</th>\n",
       "      <td>D11</td>\n",
       "      <td>D11</td>\n",
       "      <td>D11</td>\n",
       "      <td>D11</td>\n",
       "    </tr>\n",
       "  </tbody>\n",
       "</table>\n",
       "</div>"
      ],
      "text/plain": [
       "      A    B    C    D\n",
       "8    A8   A8   A8   A8\n",
       "9    B9   B9   B9   B9\n",
       "10  C10  C10  C10  C10\n",
       "11  D11  D11  D11  D11"
      ]
     },
     "execution_count": 5,
     "metadata": {},
     "output_type": "execute_result"
    }
   ],
   "source": [
    "''' 두 DataFrame 병합하기 \n",
    "행렬 순인데 왜 열이 먼저 나오는 key 값에 있나요?\n",
    "딕셔너리의 key값에는 리스트가 올 수 없고 우리는 열로 행렬을 분석하는데 익숙하기 때문이다 '''\n",
    "import pandas as pd\n",
    "df1 = pd.DataFrame({\n",
    "    \"A\":[\"A0\",\"B1\",\"C2\",\"D3\"],\n",
    "    \"B\":[\"A0\",\"B1\",\"C2\",\"D3\"],\n",
    "    \"C\":[\"A0\",\"B1\",\"C2\",\"D3\"],\n",
    "    \"D\":[\"A0\",\"B1\",\"C2\",\"D3\"]\n",
    "}, index = [0,1,2,3])\n",
    "df2 = pd.DataFrame({\n",
    "    \"A\":[\"A4\",\"B5\",\"C6\",\"D7\"],\n",
    "    \"B\":[\"A4\",\"B5\",\"C6\",\"D7\"],\n",
    "    \"C\":[\"A4\",\"B5\",\"C6\",\"D7\"],\n",
    "    \"D\":[\"A4\",\"B5\",\"C6\",\"D7\"]\n",
    "}, index = [4,5,6,7])\n",
    "df3 = pd.DataFrame({\n",
    "    \"A\":[\"A8\",\"B9\",\"C10\",\"D11\"],\n",
    "    \"B\":[\"A8\",\"B9\",\"C10\",\"D11\"],\n",
    "    \"C\":[\"A8\",\"B9\",\"C10\",\"D11\"],\n",
    "    \"D\":[\"A8\",\"B9\",\"C10\",\"D11\"]\n",
    "}, index = [8,9,10,11])\n",
    "print(df1)\n",
    "print(df2)\n",
    "df3"
   ]
  },
  {
   "cell_type": "code",
   "execution_count": 6,
   "metadata": {},
   "outputs": [
    {
     "name": "stdout",
     "output_type": "stream",
     "text": [
      "      A    B    C    D\n",
      "0    A0   A0   A0   A0\n",
      "1    B1   B1   B1   B1\n",
      "2    C2   C2   C2   C2\n",
      "3    D3   D3   D3   D3\n",
      "4    A4   A4   A4   A4\n",
      "5    B5   B5   B5   B5\n",
      "6    C6   C6   C6   C6\n",
      "7    D7   D7   D7   D7\n",
      "8    A8   A8   A8   A8\n",
      "9    B9   B9   B9   B9\n",
      "10  C10  C10  C10  C10\n",
      "11  D11  D11  D11  D11\n"
     ]
    },
    {
     "data": {
      "text/plain": [
       "MultiIndex([('x',  0),\n",
       "            ('x',  1),\n",
       "            ('x',  2),\n",
       "            ('x',  3),\n",
       "            ('y',  4),\n",
       "            ('y',  5),\n",
       "            ('y',  6),\n",
       "            ('y',  7),\n",
       "            ('z',  8),\n",
       "            ('z',  9),\n",
       "            ('z', 10),\n",
       "            ('z', 11)],\n",
       "           )"
      ]
     },
     "execution_count": 6,
     "metadata": {},
     "output_type": "execute_result"
    }
   ],
   "source": [
    "result = pd.concat([df1,df2,df3]) # Concaternate 사슬처럼 잇다(열방향)\n",
    "print(result)\n",
    "\n",
    "result = pd.concat([df1,df2,df3], keys = ['x','y','z']) # Keys 옵션으로 구분 한 번 더 할 수 있다\n",
    "                                                        # 이렇게 만들어진 key는 계층적 인덱스가 되어\n",
    "                                                        # 튜플을 원소로 가지는 level을 만든다.\n",
    "''' 계층적 인덱스(Multi Index) - 정렬함수\n",
    "'''\n",
    "\n",
    "result.index"
   ]
  },
  {
   "cell_type": "code",
   "execution_count": 9,
   "metadata": {},
   "outputs": [
    {
     "ename": "SyntaxError",
     "evalue": "invalid syntax (<ipython-input-9-4007976def51>, line 1)",
     "output_type": "error",
     "traceback": [
      "\u001b[1;36m  File \u001b[1;32m\"<ipython-input-9-4007976def51>\"\u001b[1;36m, line \u001b[1;32m1\u001b[0m\n\u001b[1;33m    print(result.index.get_level_values(0)) ''' 0층 인덱스 '''\u001b[0m\n\u001b[1;37m                                            ^\u001b[0m\n\u001b[1;31mSyntaxError\u001b[0m\u001b[1;31m:\u001b[0m invalid syntax\n"
     ]
    }
   ],
   "source": [
    "print(result.index.get_level_values(0)) ''' 0층 인덱스 '''\n",
    "result.index.get_level_values(1) ''' 1층 인덱스 '''"
   ]
  },
  {
   "cell_type": "code",
   "execution_count": 17,
   "metadata": {},
   "outputs": [
    {
     "name": "stdout",
     "output_type": "stream",
     "text": [
      "     A    B    C    D    B    D    F\n",
      "0   A0   A0   A0   A0  NaN  NaN  NaN\n",
      "1   B1   B1   B1   B1  NaN  NaN  NaN\n",
      "2   C2   C2   C2   C2   B2   D2   F2\n",
      "3   D3   D3   D3   D3   B3   D3   F3\n",
      "6  NaN  NaN  NaN  NaN   B6   D6   F6\n",
      "7  NaN  NaN  NaN  NaN   B7   D7   F7\n"
     ]
    },
    {
     "data": {
      "text/html": [
       "<div>\n",
       "<style scoped>\n",
       "    .dataframe tbody tr th:only-of-type {\n",
       "        vertical-align: middle;\n",
       "    }\n",
       "\n",
       "    .dataframe tbody tr th {\n",
       "        vertical-align: top;\n",
       "    }\n",
       "\n",
       "    .dataframe thead th {\n",
       "        text-align: right;\n",
       "    }\n",
       "</style>\n",
       "<table border=\"1\" class=\"dataframe\">\n",
       "  <thead>\n",
       "    <tr style=\"text-align: right;\">\n",
       "      <th></th>\n",
       "      <th>A</th>\n",
       "      <th>B</th>\n",
       "      <th>C</th>\n",
       "      <th>D</th>\n",
       "      <th>B</th>\n",
       "      <th>D</th>\n",
       "      <th>F</th>\n",
       "    </tr>\n",
       "  </thead>\n",
       "  <tbody>\n",
       "    <tr>\n",
       "      <th>2</th>\n",
       "      <td>C2</td>\n",
       "      <td>C2</td>\n",
       "      <td>C2</td>\n",
       "      <td>C2</td>\n",
       "      <td>B2</td>\n",
       "      <td>D2</td>\n",
       "      <td>F2</td>\n",
       "    </tr>\n",
       "    <tr>\n",
       "      <th>3</th>\n",
       "      <td>D3</td>\n",
       "      <td>D3</td>\n",
       "      <td>D3</td>\n",
       "      <td>D3</td>\n",
       "      <td>B3</td>\n",
       "      <td>D3</td>\n",
       "      <td>F3</td>\n",
       "    </tr>\n",
       "  </tbody>\n",
       "</table>\n",
       "</div>"
      ],
      "text/plain": [
       "    A   B   C   D   B   D   F\n",
       "2  C2  C2  C2  C2  B2  D2  F2\n",
       "3  D3  D3  D3  D3  B3  D3  F3"
      ]
     },
     "execution_count": 17,
     "metadata": {},
     "output_type": "execute_result"
    }
   ],
   "source": [
    "df4 = pd.DataFrame({\n",
    "    \"B\":[\"B2\",\"B3\",\"B6\",\"B7\"],\n",
    "    \"D\":[\"D2\",\"D3\",\"D6\",\"D7\"],\n",
    "    \"F\":[\"F2\",\"F3\",\"F6\",\"F7\"]\n",
    "}, index = [2,3,6,7])\n",
    "\n",
    "result = pd.concat([df1,df4] , axis = 1)\n",
    "print(result)\n",
    "''' concat은 index를 기준으로 데이터를 합치기 때문에, 빈 인덱스에는 NaN이 들어간다.\n",
    "이 때 겹친 Index만 가져오고 NaN이 들어가게 만드는 겹치지 않은 Index는 버리게 하는 옵션이\n",
    "join = 'inner'\n",
    "'''\n",
    "result_2 = pd.concat([df1,df4],axis = 1, join = 'inner')\n",
    "result_2"
   ]
  },
  {
   "cell_type": "code",
   "execution_count": 18,
   "metadata": {},
   "outputs": [],
   "source": [
    "left = pd.DataFrame({\n",
    "    'key':['K0','K1','K2','K3'],\n",
    "    'A':['A0','A1','A2','A3'],\n",
    "    'B':['B0','B1','B2','B3']\n",
    "})\n",
    "right = pd.DataFrame({\n",
    "    'key':['K0','K1','K2','K3'],\n",
    "    'C':['A0','A1','A2','A3'],\n",
    "    'D':['B0','B1','B2','B3']\n",
    "})"
   ]
  },
  {
   "cell_type": "code",
   "execution_count": 19,
   "metadata": {},
   "outputs": [
    {
     "data": {
      "text/html": [
       "<div>\n",
       "<style scoped>\n",
       "    .dataframe tbody tr th:only-of-type {\n",
       "        vertical-align: middle;\n",
       "    }\n",
       "\n",
       "    .dataframe tbody tr th {\n",
       "        vertical-align: top;\n",
       "    }\n",
       "\n",
       "    .dataframe thead th {\n",
       "        text-align: right;\n",
       "    }\n",
       "</style>\n",
       "<table border=\"1\" class=\"dataframe\">\n",
       "  <thead>\n",
       "    <tr style=\"text-align: right;\">\n",
       "      <th></th>\n",
       "      <th>key</th>\n",
       "      <th>A</th>\n",
       "      <th>B</th>\n",
       "    </tr>\n",
       "  </thead>\n",
       "  <tbody>\n",
       "    <tr>\n",
       "      <th>0</th>\n",
       "      <td>K0</td>\n",
       "      <td>A0</td>\n",
       "      <td>B0</td>\n",
       "    </tr>\n",
       "    <tr>\n",
       "      <th>1</th>\n",
       "      <td>K1</td>\n",
       "      <td>A1</td>\n",
       "      <td>B1</td>\n",
       "    </tr>\n",
       "    <tr>\n",
       "      <th>2</th>\n",
       "      <td>K2</td>\n",
       "      <td>A2</td>\n",
       "      <td>B2</td>\n",
       "    </tr>\n",
       "    <tr>\n",
       "      <th>3</th>\n",
       "      <td>K3</td>\n",
       "      <td>A3</td>\n",
       "      <td>B3</td>\n",
       "    </tr>\n",
       "  </tbody>\n",
       "</table>\n",
       "</div>"
      ],
      "text/plain": [
       "  key   A   B\n",
       "0  K0  A0  B0\n",
       "1  K1  A1  B1\n",
       "2  K2  A2  B2\n",
       "3  K3  A3  B3"
      ]
     },
     "execution_count": 19,
     "metadata": {},
     "output_type": "execute_result"
    }
   ],
   "source": [
    "left"
   ]
  },
  {
   "cell_type": "code",
   "execution_count": 25,
   "metadata": {},
   "outputs": [
    {
     "data": {
      "text/html": [
       "<div>\n",
       "<style scoped>\n",
       "    .dataframe tbody tr th:only-of-type {\n",
       "        vertical-align: middle;\n",
       "    }\n",
       "\n",
       "    .dataframe tbody tr th {\n",
       "        vertical-align: top;\n",
       "    }\n",
       "\n",
       "    .dataframe thead th {\n",
       "        text-align: right;\n",
       "    }\n",
       "</style>\n",
       "<table border=\"1\" class=\"dataframe\">\n",
       "  <thead>\n",
       "    <tr style=\"text-align: right;\">\n",
       "      <th></th>\n",
       "      <th>key</th>\n",
       "      <th>C</th>\n",
       "      <th>D</th>\n",
       "    </tr>\n",
       "  </thead>\n",
       "  <tbody>\n",
       "    <tr>\n",
       "      <th>0</th>\n",
       "      <td>K0</td>\n",
       "      <td>A0</td>\n",
       "      <td>B0</td>\n",
       "    </tr>\n",
       "    <tr>\n",
       "      <th>1</th>\n",
       "      <td>K1</td>\n",
       "      <td>A1</td>\n",
       "      <td>B1</td>\n",
       "    </tr>\n",
       "    <tr>\n",
       "      <th>2</th>\n",
       "      <td>K2</td>\n",
       "      <td>A2</td>\n",
       "      <td>B2</td>\n",
       "    </tr>\n",
       "    <tr>\n",
       "      <th>3</th>\n",
       "      <td>K3</td>\n",
       "      <td>A3</td>\n",
       "      <td>B3</td>\n",
       "    </tr>\n",
       "  </tbody>\n",
       "</table>\n",
       "</div>"
      ],
      "text/plain": [
       "  key   C   D\n",
       "0  K0  A0  B0\n",
       "1  K1  A1  B1\n",
       "2  K2  A2  B2\n",
       "3  K3  A3  B3"
      ]
     },
     "execution_count": 25,
     "metadata": {},
     "output_type": "execute_result"
    }
   ],
   "source": [
    "right"
   ]
  },
  {
   "cell_type": "code",
   "execution_count": 28,
   "metadata": {},
   "outputs": [
    {
     "data": {
      "text/html": [
       "<div>\n",
       "<style scoped>\n",
       "    .dataframe tbody tr th:only-of-type {\n",
       "        vertical-align: middle;\n",
       "    }\n",
       "\n",
       "    .dataframe tbody tr th {\n",
       "        vertical-align: top;\n",
       "    }\n",
       "\n",
       "    .dataframe thead th {\n",
       "        text-align: right;\n",
       "    }\n",
       "</style>\n",
       "<table border=\"1\" class=\"dataframe\">\n",
       "  <thead>\n",
       "    <tr style=\"text-align: right;\">\n",
       "      <th></th>\n",
       "      <th>key</th>\n",
       "      <th>A</th>\n",
       "      <th>B</th>\n",
       "      <th>C</th>\n",
       "      <th>D</th>\n",
       "    </tr>\n",
       "  </thead>\n",
       "  <tbody>\n",
       "    <tr>\n",
       "      <th>0</th>\n",
       "      <td>K0</td>\n",
       "      <td>A0</td>\n",
       "      <td>B0</td>\n",
       "      <td>A0</td>\n",
       "      <td>B0</td>\n",
       "    </tr>\n",
       "    <tr>\n",
       "      <th>1</th>\n",
       "      <td>K1</td>\n",
       "      <td>A1</td>\n",
       "      <td>B1</td>\n",
       "      <td>A1</td>\n",
       "      <td>B1</td>\n",
       "    </tr>\n",
       "    <tr>\n",
       "      <th>2</th>\n",
       "      <td>K2</td>\n",
       "      <td>A2</td>\n",
       "      <td>B2</td>\n",
       "      <td>A2</td>\n",
       "      <td>B2</td>\n",
       "    </tr>\n",
       "    <tr>\n",
       "      <th>3</th>\n",
       "      <td>K3</td>\n",
       "      <td>A3</td>\n",
       "      <td>B3</td>\n",
       "      <td>A3</td>\n",
       "      <td>B3</td>\n",
       "    </tr>\n",
       "  </tbody>\n",
       "</table>\n",
       "</div>"
      ],
      "text/plain": [
       "  key   A   B   C   D\n",
       "0  K0  A0  B0  A0  B0\n",
       "1  K1  A1  B1  A1  B1\n",
       "2  K2  A2  B2  A2  B2\n",
       "3  K3  A3  B3  A3  B3"
      ]
     },
     "execution_count": 28,
     "metadata": {},
     "output_type": "execute_result"
    }
   ],
   "source": [
    "'''\n",
    "공통으로 있는 컬럼인 key를 기준으로 merge 명령에서 merge 기준을 설정하는 옵션으로\n",
    "on 옵션을 선택할 수 있습니다.\n",
    "'''\n",
    "pd.merge(left,right, on ='key')\n",
    "'''\n",
    "how 옵션으로 두 데이터에서 기준이 무엇이 되어야 할 지를 정할 수도 있습니다.\n",
    "how = '데이터프레임 이름'\n",
    "\n",
    "또 NaN을 무시하고 결과를 모두 표기하게 히려면 how = 'outer' 를 쓰면 됩니다.\n",
    "반대로 how = 'inner' 도 있겠죠?\n",
    "'''\n",
    "pd.merge(left,right,how='left',on = 'key')\n"
   ]
  },
  {
   "cell_type": "code",
   "execution_count": null,
   "metadata": {},
   "outputs": [],
   "source": []
  }
 ],
 "metadata": {
  "kernelspec": {
   "display_name": "Python 3",
   "language": "python",
   "name": "python3"
  },
  "language_info": {
   "codemirror_mode": {
    "name": "ipython",
    "version": 3
   },
   "file_extension": ".py",
   "mimetype": "text/x-python",
   "name": "python",
   "nbconvert_exporter": "python",
   "pygments_lexer": "ipython3",
   "version": "3.8.5"
  }
 },
 "nbformat": 4,
 "nbformat_minor": 2
}
