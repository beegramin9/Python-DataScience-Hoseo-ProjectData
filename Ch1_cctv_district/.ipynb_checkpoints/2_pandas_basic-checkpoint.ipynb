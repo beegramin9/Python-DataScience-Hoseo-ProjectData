{
 "cells": [
  {
   "cell_type": "code",
   "execution_count": 10,
   "metadata": {},
   "outputs": [
    {
     "data": {
      "text/plain": [
       "0    1.0\n",
       "1    3.0\n",
       "2    5.0\n",
       "3    NaN\n",
       "4    6.0\n",
       "5    8.0\n",
       "dtype: float64"
      ]
     },
     "execution_count": 10,
     "metadata": {},
     "output_type": "execute_result"
    }
   ],
   "source": [
    "import pandas as pd\n",
    "import numpy as np\n",
    "\n",
    "''' pandas의 데이터 기본 유닛 Series '''\n",
    "s = pd.Series([1,3,5,np.nan,6,8]) # 항상! 하나의 클래스의 메소드라는 걸 잊지 말자\n",
    "                                  # (인자 = 리스트)\n",
    "s"
   ]
  },
  {
   "cell_type": "code",
   "execution_count": 11,
   "metadata": {},
   "outputs": [
    {
     "data": {
      "text/plain": [
       "DatetimeIndex(['2013-01-01', '2013-01-02', '2013-01-03', '2013-01-04',\n",
       "               '2013-01-05', '2013-01-06'],\n",
       "              dtype='datetime64[ns]', freq='D')"
      ]
     },
     "execution_count": 11,
     "metadata": {},
     "output_type": "execute_result"
    }
   ],
   "source": [
    "''' 날짜형 데이터 '''\n",
    "dates = pd.date_range('20130101',periods = 6)\n",
    "dates"
   ]
  },
  {
   "cell_type": "code",
   "execution_count": 53,
   "metadata": {},
   "outputs": [
    {
     "data": {
      "text/html": [
       "<div>\n",
       "<style scoped>\n",
       "    .dataframe tbody tr th:only-of-type {\n",
       "        vertical-align: middle;\n",
       "    }\n",
       "\n",
       "    .dataframe tbody tr th {\n",
       "        vertical-align: top;\n",
       "    }\n",
       "\n",
       "    .dataframe thead th {\n",
       "        text-align: right;\n",
       "    }\n",
       "</style>\n",
       "<table border=\"1\" class=\"dataframe\">\n",
       "  <thead>\n",
       "    <tr style=\"text-align: right;\">\n",
       "      <th></th>\n",
       "      <th>A</th>\n",
       "      <th>B</th>\n",
       "      <th>C</th>\n",
       "      <th>D</th>\n",
       "    </tr>\n",
       "  </thead>\n",
       "  <tbody>\n",
       "    <tr>\n",
       "      <th>2013-01-01</th>\n",
       "      <td>0.182333</td>\n",
       "      <td>0.745556</td>\n",
       "      <td>0.415064</td>\n",
       "      <td>1.136823</td>\n",
       "    </tr>\n",
       "    <tr>\n",
       "      <th>2013-01-02</th>\n",
       "      <td>1.485959</td>\n",
       "      <td>0.944716</td>\n",
       "      <td>-0.377520</td>\n",
       "      <td>-0.905170</td>\n",
       "    </tr>\n",
       "    <tr>\n",
       "      <th>2013-01-03</th>\n",
       "      <td>0.371431</td>\n",
       "      <td>-0.772824</td>\n",
       "      <td>-1.476739</td>\n",
       "      <td>1.357251</td>\n",
       "    </tr>\n",
       "    <tr>\n",
       "      <th>2013-01-04</th>\n",
       "      <td>0.308085</td>\n",
       "      <td>-0.746355</td>\n",
       "      <td>-1.880493</td>\n",
       "      <td>-0.422035</td>\n",
       "    </tr>\n",
       "    <tr>\n",
       "      <th>2013-01-05</th>\n",
       "      <td>-0.258047</td>\n",
       "      <td>0.610480</td>\n",
       "      <td>-0.261842</td>\n",
       "      <td>1.742788</td>\n",
       "    </tr>\n",
       "    <tr>\n",
       "      <th>2013-01-06</th>\n",
       "      <td>0.051111</td>\n",
       "      <td>1.109177</td>\n",
       "      <td>-0.755445</td>\n",
       "      <td>-0.170412</td>\n",
       "    </tr>\n",
       "  </tbody>\n",
       "</table>\n",
       "</div>"
      ],
      "text/plain": [
       "                   A         B         C         D\n",
       "2013-01-01  0.182333  0.745556  0.415064  1.136823\n",
       "2013-01-02  1.485959  0.944716 -0.377520 -0.905170\n",
       "2013-01-03  0.371431 -0.772824 -1.476739  1.357251\n",
       "2013-01-04  0.308085 -0.746355 -1.880493 -0.422035\n",
       "2013-01-05 -0.258047  0.610480 -0.261842  1.742788\n",
       "2013-01-06  0.051111  1.109177 -0.755445 -0.170412"
      ]
     },
     "execution_count": 53,
     "metadata": {},
     "output_type": "execute_result"
    }
   ],
   "source": [
    "''' DATA FRAME '''\n",
    "''' np.random.rand(m,n): 평균 0, 표준편차 1의 표준정규분포 난수를 martix array(m,n) 생성 '''\n",
    "df = pd.DataFrame(np.random.randn(6,4),\n",
    "                 index = dates,\n",
    "                 columns = ['A',\"B\",\"C\",\"D\"])\n",
    "df"
   ]
  },
  {
   "cell_type": "code",
   "execution_count": 16,
   "metadata": {},
   "outputs": [
    {
     "name": "stdout",
     "output_type": "stream",
     "text": [
      "DatetimeIndex(['2013-01-01', '2013-01-02', '2013-01-03', '2013-01-04',\n",
      "               '2013-01-05', '2013-01-06'],\n",
      "              dtype='datetime64[ns]', freq='D')\n",
      "Index(['A', 'B', 'C', 'D'], dtype='object')\n"
     ]
    },
    {
     "data": {
      "text/plain": [
       "array([[-0.20254721, -1.59067548, -0.24794105, -2.19442494],\n",
       "       [ 1.33015773, -1.20445432, -1.14831591, -0.88315052],\n",
       "       [-0.44848274,  0.59698022, -2.16549298, -0.05142072],\n",
       "       [-1.47111787, -0.56669454,  0.14636838,  0.39551041],\n",
       "       [-0.4239815 ,  0.0404399 ,  1.62876491,  0.47367144],\n",
       "       [ 0.60894386,  0.10185615,  2.04839982,  1.11143948]])"
      ]
     },
     "execution_count": 16,
     "metadata": {},
     "output_type": "execute_result"
    }
   ],
   "source": [
    "print(df.index)\n",
    "print(df.columns)\n",
    "df.values # array 형태로 나오죠?"
   ]
  },
  {
   "cell_type": "code",
   "execution_count": 39,
   "metadata": {},
   "outputs": [
    {
     "name": "stdout",
     "output_type": "stream",
     "text": [
      "<class 'pandas.core.frame.DataFrame'>\n",
      "DatetimeIndex: 6 entries, 2013-01-01 to 2013-01-06\n",
      "Freq: D\n",
      "Data columns (total 4 columns):\n",
      " #   Column  Non-Null Count  Dtype  \n",
      "---  ------  --------------  -----  \n",
      " 0   A       6 non-null      float64\n",
      " 1   B       6 non-null      float64\n",
      " 2   C       6 non-null      float64\n",
      " 3   D       6 non-null      float64\n",
      "dtypes: float64(4)\n",
      "memory usage: 368.0 bytes\n"
     ]
    },
    {
     "data": {
      "text/html": [
       "<div>\n",
       "<style scoped>\n",
       "    .dataframe tbody tr th:only-of-type {\n",
       "        vertical-align: middle;\n",
       "    }\n",
       "\n",
       "    .dataframe tbody tr th {\n",
       "        vertical-align: top;\n",
       "    }\n",
       "\n",
       "    .dataframe thead th {\n",
       "        text-align: right;\n",
       "    }\n",
       "</style>\n",
       "<table border=\"1\" class=\"dataframe\">\n",
       "  <thead>\n",
       "    <tr style=\"text-align: right;\">\n",
       "      <th></th>\n",
       "      <th>A</th>\n",
       "      <th>B</th>\n",
       "      <th>C</th>\n",
       "      <th>D</th>\n",
       "    </tr>\n",
       "  </thead>\n",
       "  <tbody>\n",
       "    <tr>\n",
       "      <th>count</th>\n",
       "      <td>6.000000</td>\n",
       "      <td>6.000000</td>\n",
       "      <td>6.000000</td>\n",
       "      <td>6.000000</td>\n",
       "    </tr>\n",
       "    <tr>\n",
       "      <th>mean</th>\n",
       "      <td>-0.101171</td>\n",
       "      <td>-0.437091</td>\n",
       "      <td>0.043631</td>\n",
       "      <td>-0.191396</td>\n",
       "    </tr>\n",
       "    <tr>\n",
       "      <th>std</th>\n",
       "      <td>0.965902</td>\n",
       "      <td>0.839548</td>\n",
       "      <td>1.607998</td>\n",
       "      <td>1.182742</td>\n",
       "    </tr>\n",
       "    <tr>\n",
       "      <th>min</th>\n",
       "      <td>-1.471118</td>\n",
       "      <td>-1.590675</td>\n",
       "      <td>-2.165493</td>\n",
       "      <td>-2.194425</td>\n",
       "    </tr>\n",
       "    <tr>\n",
       "      <th>25%</th>\n",
       "      <td>-0.442357</td>\n",
       "      <td>-1.045014</td>\n",
       "      <td>-0.923222</td>\n",
       "      <td>-0.675218</td>\n",
       "    </tr>\n",
       "    <tr>\n",
       "      <th>50%</th>\n",
       "      <td>-0.313264</td>\n",
       "      <td>-0.263127</td>\n",
       "      <td>-0.050786</td>\n",
       "      <td>0.172045</td>\n",
       "    </tr>\n",
       "    <tr>\n",
       "      <th>75%</th>\n",
       "      <td>0.406071</td>\n",
       "      <td>0.086502</td>\n",
       "      <td>1.258166</td>\n",
       "      <td>0.454131</td>\n",
       "    </tr>\n",
       "    <tr>\n",
       "      <th>max</th>\n",
       "      <td>1.330158</td>\n",
       "      <td>0.596980</td>\n",
       "      <td>2.048400</td>\n",
       "      <td>1.111439</td>\n",
       "    </tr>\n",
       "  </tbody>\n",
       "</table>\n",
       "</div>"
      ],
      "text/plain": [
       "              A         B         C         D\n",
       "count  6.000000  6.000000  6.000000  6.000000\n",
       "mean  -0.101171 -0.437091  0.043631 -0.191396\n",
       "std    0.965902  0.839548  1.607998  1.182742\n",
       "min   -1.471118 -1.590675 -2.165493 -2.194425\n",
       "25%   -0.442357 -1.045014 -0.923222 -0.675218\n",
       "50%   -0.313264 -0.263127 -0.050786  0.172045\n",
       "75%    0.406071  0.086502  1.258166  0.454131\n",
       "max    1.330158  0.596980  2.048400  1.111439"
      ]
     },
     "execution_count": 39,
     "metadata": {},
     "output_type": "execute_result"
    }
   ],
   "source": [
    "''' info 명령으로 해당 데이터의 개요를 알기 '''\n",
    "df.info()\n",
    "\n",
    "''' describe는 통계적 개요 '''\n",
    "df.describe()"
   ]
  },
  {
   "cell_type": "code",
   "execution_count": 19,
   "metadata": {},
   "outputs": [
    {
     "data": {
      "text/html": [
       "<div>\n",
       "<style scoped>\n",
       "    .dataframe tbody tr th:only-of-type {\n",
       "        vertical-align: middle;\n",
       "    }\n",
       "\n",
       "    .dataframe tbody tr th {\n",
       "        vertical-align: top;\n",
       "    }\n",
       "\n",
       "    .dataframe thead th {\n",
       "        text-align: right;\n",
       "    }\n",
       "</style>\n",
       "<table border=\"1\" class=\"dataframe\">\n",
       "  <thead>\n",
       "    <tr style=\"text-align: right;\">\n",
       "      <th></th>\n",
       "      <th>A</th>\n",
       "      <th>B</th>\n",
       "      <th>C</th>\n",
       "      <th>D</th>\n",
       "    </tr>\n",
       "  </thead>\n",
       "  <tbody>\n",
       "    <tr>\n",
       "      <th>2013-01-01</th>\n",
       "      <td>-0.202547</td>\n",
       "      <td>-1.590675</td>\n",
       "      <td>-0.247941</td>\n",
       "      <td>-2.194425</td>\n",
       "    </tr>\n",
       "    <tr>\n",
       "      <th>2013-01-02</th>\n",
       "      <td>1.330158</td>\n",
       "      <td>-1.204454</td>\n",
       "      <td>-1.148316</td>\n",
       "      <td>-0.883151</td>\n",
       "    </tr>\n",
       "    <tr>\n",
       "      <th>2013-01-04</th>\n",
       "      <td>-1.471118</td>\n",
       "      <td>-0.566695</td>\n",
       "      <td>0.146368</td>\n",
       "      <td>0.395510</td>\n",
       "    </tr>\n",
       "    <tr>\n",
       "      <th>2013-01-05</th>\n",
       "      <td>-0.423982</td>\n",
       "      <td>0.040440</td>\n",
       "      <td>1.628765</td>\n",
       "      <td>0.473671</td>\n",
       "    </tr>\n",
       "    <tr>\n",
       "      <th>2013-01-06</th>\n",
       "      <td>0.608944</td>\n",
       "      <td>0.101856</td>\n",
       "      <td>2.048400</td>\n",
       "      <td>1.111439</td>\n",
       "    </tr>\n",
       "    <tr>\n",
       "      <th>2013-01-03</th>\n",
       "      <td>-0.448483</td>\n",
       "      <td>0.596980</td>\n",
       "      <td>-2.165493</td>\n",
       "      <td>-0.051421</td>\n",
       "    </tr>\n",
       "  </tbody>\n",
       "</table>\n",
       "</div>"
      ],
      "text/plain": [
       "                   A         B         C         D\n",
       "2013-01-01 -0.202547 -1.590675 -0.247941 -2.194425\n",
       "2013-01-02  1.330158 -1.204454 -1.148316 -0.883151\n",
       "2013-01-04 -1.471118 -0.566695  0.146368  0.395510\n",
       "2013-01-05 -0.423982  0.040440  1.628765  0.473671\n",
       "2013-01-06  0.608944  0.101856  2.048400  1.111439\n",
       "2013-01-03 -0.448483  0.596980 -2.165493 -0.051421"
      ]
     },
     "execution_count": 19,
     "metadata": {},
     "output_type": "execute_result"
    }
   ],
   "source": [
    "''' sort_values(by = '지정된 컬럼을 기준으로 정렬', ascending = True / False) '''\n",
    "df.sort_values(by=\"B\",ascending = True)"
   ]
  },
  {
   "cell_type": "code",
   "execution_count": 41,
   "metadata": {},
   "outputs": [
    {
     "name": "stdout",
     "output_type": "stream",
     "text": [
      "2013-01-01   -0.202547\n",
      "2013-01-02    1.330158\n",
      "2013-01-03   -0.448483\n",
      "2013-01-04   -1.471118\n",
      "2013-01-05   -0.423982\n",
      "2013-01-06    0.608944\n",
      "Freq: D, Name: A, dtype: float64\n",
      "                   A         B         C         D\n",
      "2013-01-06  0.608944  0.101856  2.048400  1.111439\n",
      "2013-01-05 -0.423982  0.040440  1.628765  0.473671\n",
      "2013-01-04 -1.471118 -0.566695  0.146368  0.395510\n",
      "2013-01-03 -0.448483  0.596980 -2.165493 -0.051421\n",
      "2013-01-02  1.330158 -1.204454 -1.148316 -0.883151\n",
      "2013-01-01 -0.202547 -1.590675 -0.247941 -2.194425\n",
      "                   A         B         C         D\n",
      "2013-01-01 -0.202547 -1.590675 -0.247941 -2.194425\n",
      "2013-01-02  1.330158 -1.204454 -1.148316 -0.883151\n",
      "2013-01-03 -0.448483  0.596980 -2.165493 -0.051421\n"
     ]
    },
    {
     "data": {
      "text/html": [
       "<div>\n",
       "<style scoped>\n",
       "    .dataframe tbody tr th:only-of-type {\n",
       "        vertical-align: middle;\n",
       "    }\n",
       "\n",
       "    .dataframe tbody tr th {\n",
       "        vertical-align: top;\n",
       "    }\n",
       "\n",
       "    .dataframe thead th {\n",
       "        text-align: right;\n",
       "    }\n",
       "</style>\n",
       "<table border=\"1\" class=\"dataframe\">\n",
       "  <thead>\n",
       "    <tr style=\"text-align: right;\">\n",
       "      <th></th>\n",
       "      <th>A</th>\n",
       "      <th>B</th>\n",
       "      <th>C</th>\n",
       "      <th>D</th>\n",
       "    </tr>\n",
       "  </thead>\n",
       "  <tbody>\n",
       "    <tr>\n",
       "      <th>2013-01-02</th>\n",
       "      <td>1.330158</td>\n",
       "      <td>-1.204454</td>\n",
       "      <td>-1.148316</td>\n",
       "      <td>-0.883151</td>\n",
       "    </tr>\n",
       "    <tr>\n",
       "      <th>2013-01-03</th>\n",
       "      <td>-0.448483</td>\n",
       "      <td>0.596980</td>\n",
       "      <td>-2.165493</td>\n",
       "      <td>-0.051421</td>\n",
       "    </tr>\n",
       "  </tbody>\n",
       "</table>\n",
       "</div>"
      ],
      "text/plain": [
       "                   A         B         C         D\n",
       "2013-01-02  1.330158 -1.204454 -1.148316 -0.883151\n",
       "2013-01-03 -0.448483  0.596980 -2.165493 -0.051421"
      ]
     },
     "execution_count": 41,
     "metadata": {},
     "output_type": "execute_result"
    }
   ],
   "source": [
    "''' df['A'] 하면 해당 컬럼만 Series로 보여줍니다'''\n",
    "print(df['A'])\n",
    "\n",
    "''' 행만 선택해서 보고싶다? 그러면 df[::]'''\n",
    "print(df[::-1])\n",
    "print(df[0:3])\n",
    "df['20130102':'20130103']"
   ]
  },
  {
   "cell_type": "code",
   "execution_count": 38,
   "metadata": {},
   "outputs": [
    {
     "name": "stdout",
     "output_type": "stream",
     "text": [
      "A   -0.202547\n",
      "B   -1.590675\n",
      "C   -0.247941\n",
      "D   -2.194425\n",
      "Name: 2013-01-01 00:00:00, dtype: float64\n",
      "                   A         B\n",
      "2013-01-01 -0.202547 -1.590675\n",
      "2013-01-02  1.330158 -1.204454\n",
      "2013-01-03 -0.448483  0.596980\n",
      "2013-01-04 -1.471118 -0.566695\n",
      "2013-01-05 -0.423982  0.040440\n",
      "2013-01-06  0.608944  0.101856\n"
     ]
    },
    {
     "data": {
      "text/html": [
       "<div>\n",
       "<style scoped>\n",
       "    .dataframe tbody tr th:only-of-type {\n",
       "        vertical-align: middle;\n",
       "    }\n",
       "\n",
       "    .dataframe tbody tr th {\n",
       "        vertical-align: top;\n",
       "    }\n",
       "\n",
       "    .dataframe thead th {\n",
       "        text-align: right;\n",
       "    }\n",
       "</style>\n",
       "<table border=\"1\" class=\"dataframe\">\n",
       "  <thead>\n",
       "    <tr style=\"text-align: right;\">\n",
       "      <th></th>\n",
       "      <th>A</th>\n",
       "      <th>B</th>\n",
       "    </tr>\n",
       "  </thead>\n",
       "  <tbody>\n",
       "    <tr>\n",
       "      <th>2013-01-01</th>\n",
       "      <td>-0.202547</td>\n",
       "      <td>-1.590675</td>\n",
       "    </tr>\n",
       "    <tr>\n",
       "      <th>2013-01-02</th>\n",
       "      <td>1.330158</td>\n",
       "      <td>-1.204454</td>\n",
       "    </tr>\n",
       "  </tbody>\n",
       "</table>\n",
       "</div>"
      ],
      "text/plain": [
       "                   A         B\n",
       "2013-01-01 -0.202547 -1.590675\n",
       "2013-01-02  1.330158 -1.204454"
      ]
     },
     "execution_count": 38,
     "metadata": {},
     "output_type": "execute_result"
    }
   ],
   "source": [
    "''' loc(location)옵션으로 변수에서 인덱싱도 가능하다 '''\n",
    "print(df.loc[dates[0]])\n",
    "print(df.loc[:,[\"A\",\"B\"]]) # 선택한 열만 뽑는다\n",
    "df.loc[dates[0:2],['A',\"B\"]] # 행,렬을 둘 다 지정할 수도 있다."
   ]
  },
  {
   "cell_type": "code",
   "execution_count": 36,
   "metadata": {},
   "outputs": [
    {
     "name": "stdout",
     "output_type": "stream",
     "text": [
      "                   C         D\n",
      "2013-01-01 -0.247941 -2.194425\n",
      "2013-01-02 -1.148316 -0.883151\n",
      "2013-01-03 -2.165493 -0.051421\n",
      "                   A         C\n",
      "2013-01-02  1.330158 -1.148316\n",
      "2013-01-03 -0.448483 -2.165493\n",
      "2013-01-05 -0.423982  1.628765\n"
     ]
    },
    {
     "data": {
      "text/html": [
       "<div>\n",
       "<style scoped>\n",
       "    .dataframe tbody tr th:only-of-type {\n",
       "        vertical-align: middle;\n",
       "    }\n",
       "\n",
       "    .dataframe tbody tr th {\n",
       "        vertical-align: top;\n",
       "    }\n",
       "\n",
       "    .dataframe thead th {\n",
       "        text-align: right;\n",
       "    }\n",
       "</style>\n",
       "<table border=\"1\" class=\"dataframe\">\n",
       "  <thead>\n",
       "    <tr style=\"text-align: right;\">\n",
       "      <th></th>\n",
       "      <th>A</th>\n",
       "      <th>B</th>\n",
       "      <th>C</th>\n",
       "      <th>D</th>\n",
       "    </tr>\n",
       "  </thead>\n",
       "  <tbody>\n",
       "    <tr>\n",
       "      <th>2013-01-02</th>\n",
       "      <td>1.330158</td>\n",
       "      <td>-1.204454</td>\n",
       "      <td>-1.148316</td>\n",
       "      <td>-0.883151</td>\n",
       "    </tr>\n",
       "    <tr>\n",
       "      <th>2013-01-03</th>\n",
       "      <td>-0.448483</td>\n",
       "      <td>0.596980</td>\n",
       "      <td>-2.165493</td>\n",
       "      <td>-0.051421</td>\n",
       "    </tr>\n",
       "    <tr>\n",
       "      <th>2013-01-04</th>\n",
       "      <td>-1.471118</td>\n",
       "      <td>-0.566695</td>\n",
       "      <td>0.146368</td>\n",
       "      <td>0.395510</td>\n",
       "    </tr>\n",
       "  </tbody>\n",
       "</table>\n",
       "</div>"
      ],
      "text/plain": [
       "                   A         B         C         D\n",
       "2013-01-02  1.330158 -1.204454 -1.148316 -0.883151\n",
       "2013-01-03 -0.448483  0.596980 -2.165493 -0.051421\n",
       "2013-01-04 -1.471118 -0.566695  0.146368  0.395510"
      ]
     },
     "execution_count": 36,
     "metadata": {},
     "output_type": "execute_result"
    }
   ],
   "source": [
    "''' df.iloc\n",
    "이렇게 말고 그냥 숫자로 하는 게 더 편하겠지? '''\n",
    "print(df.iloc[0:3,2:4])\n",
    "print(df.iloc[[1,2,4],[0,2]])\n",
    "df.iloc[[1,2,3],:]"
   ]
  },
  {
   "cell_type": "code",
   "execution_count": 35,
   "metadata": {},
   "outputs": [
    {
     "name": "stdout",
     "output_type": "stream",
     "text": [
      "                   A         B         C         D\n",
      "2013-01-02  1.330158 -1.204454 -1.148316 -0.883151\n",
      "2013-01-06  0.608944  0.101856  2.048400  1.111439\n"
     ]
    },
    {
     "data": {
      "text/html": [
       "<div>\n",
       "<style scoped>\n",
       "    .dataframe tbody tr th:only-of-type {\n",
       "        vertical-align: middle;\n",
       "    }\n",
       "\n",
       "    .dataframe tbody tr th {\n",
       "        vertical-align: top;\n",
       "    }\n",
       "\n",
       "    .dataframe thead th {\n",
       "        text-align: right;\n",
       "    }\n",
       "</style>\n",
       "<table border=\"1\" class=\"dataframe\">\n",
       "  <thead>\n",
       "    <tr style=\"text-align: right;\">\n",
       "      <th></th>\n",
       "      <th>A</th>\n",
       "      <th>B</th>\n",
       "      <th>C</th>\n",
       "      <th>D</th>\n",
       "    </tr>\n",
       "  </thead>\n",
       "  <tbody>\n",
       "    <tr>\n",
       "      <th>2013-01-01</th>\n",
       "      <td>NaN</td>\n",
       "      <td>NaN</td>\n",
       "      <td>NaN</td>\n",
       "      <td>NaN</td>\n",
       "    </tr>\n",
       "    <tr>\n",
       "      <th>2013-01-02</th>\n",
       "      <td>1.330158</td>\n",
       "      <td>NaN</td>\n",
       "      <td>NaN</td>\n",
       "      <td>NaN</td>\n",
       "    </tr>\n",
       "    <tr>\n",
       "      <th>2013-01-03</th>\n",
       "      <td>NaN</td>\n",
       "      <td>0.596980</td>\n",
       "      <td>NaN</td>\n",
       "      <td>NaN</td>\n",
       "    </tr>\n",
       "    <tr>\n",
       "      <th>2013-01-04</th>\n",
       "      <td>NaN</td>\n",
       "      <td>NaN</td>\n",
       "      <td>0.146368</td>\n",
       "      <td>0.395510</td>\n",
       "    </tr>\n",
       "    <tr>\n",
       "      <th>2013-01-05</th>\n",
       "      <td>NaN</td>\n",
       "      <td>0.040440</td>\n",
       "      <td>1.628765</td>\n",
       "      <td>0.473671</td>\n",
       "    </tr>\n",
       "    <tr>\n",
       "      <th>2013-01-06</th>\n",
       "      <td>0.608944</td>\n",
       "      <td>0.101856</td>\n",
       "      <td>2.048400</td>\n",
       "      <td>1.111439</td>\n",
       "    </tr>\n",
       "  </tbody>\n",
       "</table>\n",
       "</div>"
      ],
      "text/plain": [
       "                   A         B         C         D\n",
       "2013-01-01       NaN       NaN       NaN       NaN\n",
       "2013-01-02  1.330158       NaN       NaN       NaN\n",
       "2013-01-03       NaN  0.596980       NaN       NaN\n",
       "2013-01-04       NaN       NaN  0.146368  0.395510\n",
       "2013-01-05       NaN  0.040440  1.628765  0.473671\n",
       "2013-01-06  0.608944  0.101856  2.048400  1.111439"
      ]
     },
     "execution_count": 35,
     "metadata": {},
     "output_type": "execute_result"
    }
   ],
   "source": [
    "''' filter 함수처럼 특정 조건만 거르는 체 '''\n",
    "print(df[df[\"A\"]>0])\n",
    "df[df>0] # 데이터 전체에서 조건을 걸면 만족하지 않는 곳은 NaN이라고 뜹니다."
   ]
  },
  {
   "cell_type": "code",
   "execution_count": 56,
   "metadata": {},
   "outputs": [
    {
     "name": "stdout",
     "output_type": "stream",
     "text": [
      "                   A         B         C         D\n",
      "2013-01-01  0.182333  0.745556  0.415064  1.136823\n",
      "2013-01-02  1.485959  0.944716 -0.377520 -0.905170\n",
      "2013-01-03  0.371431 -0.772824 -1.476739  1.357251\n",
      "2013-01-04  0.308085 -0.746355 -1.880493 -0.422035\n",
      "2013-01-05 -0.258047  0.610480 -0.261842  1.742788\n",
      "2013-01-06  0.051111  1.109177 -0.755445 -0.170412\n"
     ]
    },
    {
     "data": {
      "text/html": [
       "<div>\n",
       "<style scoped>\n",
       "    .dataframe tbody tr th:only-of-type {\n",
       "        vertical-align: middle;\n",
       "    }\n",
       "\n",
       "    .dataframe tbody tr th {\n",
       "        vertical-align: top;\n",
       "    }\n",
       "\n",
       "    .dataframe thead th {\n",
       "        text-align: right;\n",
       "    }\n",
       "</style>\n",
       "<table border=\"1\" class=\"dataframe\">\n",
       "  <thead>\n",
       "    <tr style=\"text-align: right;\">\n",
       "      <th></th>\n",
       "      <th>A</th>\n",
       "      <th>B</th>\n",
       "      <th>C</th>\n",
       "      <th>D</th>\n",
       "      <th>E</th>\n",
       "    </tr>\n",
       "  </thead>\n",
       "  <tbody>\n",
       "    <tr>\n",
       "      <th>2013-01-01</th>\n",
       "      <td>0.182333</td>\n",
       "      <td>0.745556</td>\n",
       "      <td>0.415064</td>\n",
       "      <td>1.136823</td>\n",
       "      <td>one</td>\n",
       "    </tr>\n",
       "    <tr>\n",
       "      <th>2013-01-02</th>\n",
       "      <td>1.485959</td>\n",
       "      <td>0.944716</td>\n",
       "      <td>-0.377520</td>\n",
       "      <td>-0.905170</td>\n",
       "      <td>two</td>\n",
       "    </tr>\n",
       "    <tr>\n",
       "      <th>2013-01-03</th>\n",
       "      <td>0.371431</td>\n",
       "      <td>-0.772824</td>\n",
       "      <td>-1.476739</td>\n",
       "      <td>1.357251</td>\n",
       "      <td>three</td>\n",
       "    </tr>\n",
       "    <tr>\n",
       "      <th>2013-01-04</th>\n",
       "      <td>0.308085</td>\n",
       "      <td>-0.746355</td>\n",
       "      <td>-1.880493</td>\n",
       "      <td>-0.422035</td>\n",
       "      <td>four</td>\n",
       "    </tr>\n",
       "    <tr>\n",
       "      <th>2013-01-05</th>\n",
       "      <td>-0.258047</td>\n",
       "      <td>0.610480</td>\n",
       "      <td>-0.261842</td>\n",
       "      <td>1.742788</td>\n",
       "      <td>five</td>\n",
       "    </tr>\n",
       "    <tr>\n",
       "      <th>2013-01-06</th>\n",
       "      <td>0.051111</td>\n",
       "      <td>1.109177</td>\n",
       "      <td>-0.755445</td>\n",
       "      <td>-0.170412</td>\n",
       "      <td>six</td>\n",
       "    </tr>\n",
       "  </tbody>\n",
       "</table>\n",
       "</div>"
      ],
      "text/plain": [
       "                   A         B         C         D      E\n",
       "2013-01-01  0.182333  0.745556  0.415064  1.136823    one\n",
       "2013-01-02  1.485959  0.944716 -0.377520 -0.905170    two\n",
       "2013-01-03  0.371431 -0.772824 -1.476739  1.357251  three\n",
       "2013-01-04  0.308085 -0.746355 -1.880493 -0.422035   four\n",
       "2013-01-05 -0.258047  0.610480 -0.261842  1.742788   five\n",
       "2013-01-06  0.051111  1.109177 -0.755445 -0.170412    six"
      ]
     },
     "execution_count": 56,
     "metadata": {},
     "output_type": "execute_result"
    }
   ],
   "source": [
    "''' DataFrame의 복사 \n",
    "df2 = df 라고 쓰면 df도 df2랑 따라가서, df를 보존하고 싶으면\n",
    "df2 = df.copy() 라고 해야 함\n",
    "'''\n",
    "df2 = df.copy()\n",
    "df2['E'] = [\n",
    "    'one',\n",
    "    'two',\n",
    "    'three',\n",
    "    'four',\n",
    "    'five',\n",
    "    'six'\n",
    "]\n",
    "\n",
    "print(df)\n",
    "df2"
   ]
  },
  {
   "cell_type": "code",
   "execution_count": 65,
   "metadata": {},
   "outputs": [
    {
     "name": "stdout",
     "output_type": "stream",
     "text": [
      "2013-01-01    False\n",
      "2013-01-02     True\n",
      "2013-01-03    False\n",
      "2013-01-04     True\n",
      "2013-01-05    False\n",
      "2013-01-06    False\n",
      "Freq: D, Name: E, dtype: bool\n"
     ]
    },
    {
     "data": {
      "text/html": [
       "<div>\n",
       "<style scoped>\n",
       "    .dataframe tbody tr th:only-of-type {\n",
       "        vertical-align: middle;\n",
       "    }\n",
       "\n",
       "    .dataframe tbody tr th {\n",
       "        vertical-align: top;\n",
       "    }\n",
       "\n",
       "    .dataframe thead th {\n",
       "        text-align: right;\n",
       "    }\n",
       "</style>\n",
       "<table border=\"1\" class=\"dataframe\">\n",
       "  <thead>\n",
       "    <tr style=\"text-align: right;\">\n",
       "      <th></th>\n",
       "      <th>A</th>\n",
       "      <th>B</th>\n",
       "      <th>C</th>\n",
       "      <th>D</th>\n",
       "      <th>E</th>\n",
       "    </tr>\n",
       "  </thead>\n",
       "  <tbody>\n",
       "    <tr>\n",
       "      <th>2013-01-02</th>\n",
       "      <td>1.485959</td>\n",
       "      <td>0.944716</td>\n",
       "      <td>-0.377520</td>\n",
       "      <td>-0.905170</td>\n",
       "      <td>two</td>\n",
       "    </tr>\n",
       "    <tr>\n",
       "      <th>2013-01-04</th>\n",
       "      <td>0.308085</td>\n",
       "      <td>-0.746355</td>\n",
       "      <td>-1.880493</td>\n",
       "      <td>-0.422035</td>\n",
       "      <td>four</td>\n",
       "    </tr>\n",
       "  </tbody>\n",
       "</table>\n",
       "</div>"
      ],
      "text/plain": [
       "                   A         B         C         D     E\n",
       "2013-01-02  1.485959  0.944716 -0.377520 -0.905170   two\n",
       "2013-01-04  0.308085 -0.746355 -1.880493 -0.422035  four"
      ]
     },
     "execution_count": 65,
     "metadata": {},
     "output_type": "execute_result"
    }
   ],
   "source": [
    "''' isIn 으로 True, False 넣어있는지 봅시다 '''\n",
    "print(df2['E'].isin(['two','four'])) # 책에 있는 isIn은 오타에요!\n",
    "''' 이 값은 True/False로 나오겠지? 그러면 R에서 했던 것처럼 True만 나오도록 만들 수도 있겠죠? \n",
    "'''\n",
    "df2[df2['E'].isin(['two','four'])]"
   ]
  },
  {
   "cell_type": "code",
   "execution_count": 67,
   "metadata": {},
   "outputs": [
    {
     "name": "stdout",
     "output_type": "stream",
     "text": [
      "                   A         B         C         D\n",
      "2013-01-01  0.182333  0.745556  0.415064  1.136823\n",
      "2013-01-02  1.668293  1.690272  0.037544  0.231653\n",
      "2013-01-03  2.039723  0.917449 -1.439195  1.588903\n",
      "2013-01-04  2.347809  0.171093 -3.319687  1.166868\n",
      "2013-01-05  2.089761  0.781573 -3.581530  2.909656\n",
      "2013-01-06  2.140872  1.890751 -4.336975  2.739244\n"
     ]
    },
    {
     "data": {
      "text/plain": [
       "A    1.744007\n",
       "B    1.882001\n",
       "C    2.295557\n",
       "D    2.647958\n",
       "dtype: float64"
      ]
     },
     "execution_count": 67,
     "metadata": {},
     "output_type": "execute_result"
    }
   ],
   "source": [
    "''' apply 함수 - R에서 했었지? 행끼리 결과를 만들어내는 함수 '''\n",
    "print(df.apply(np.cumsum)) # 누적합. cumulative sum\n",
    "df.apply(lambda x: max(x) - min(x))"
   ]
  },
  {
   "cell_type": "code",
   "execution_count": null,
   "metadata": {},
   "outputs": [],
   "source": []
  }
 ],
 "metadata": {
  "kernelspec": {
   "display_name": "Python 3.8.1 32-bit",
   "language": "python",
   "name": "python38132bit243e625a994649b0a7927380da95a17b"
  },
  "language_info": {
   "codemirror_mode": {
    "name": "ipython",
    "version": 3
   },
   "file_extension": ".py",
   "mimetype": "text/x-python",
   "name": "python",
   "nbconvert_exporter": "python",
   "pygments_lexer": "ipython3",
   "version": "3.8.1"
  }
 },
 "nbformat": 4,
 "nbformat_minor": 2
}
