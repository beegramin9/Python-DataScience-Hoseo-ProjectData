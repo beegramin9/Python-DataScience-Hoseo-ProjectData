{
 "metadata": {
  "language_info": {
   "codemirror_mode": {
    "name": "ipython",
    "version": 3
   },
   "file_extension": ".py",
   "mimetype": "text/x-python",
   "name": "python",
   "nbconvert_exporter": "python",
   "pygments_lexer": "ipython3",
   "version": "3.8.5-final"
  },
  "orig_nbformat": 2,
  "kernelspec": {
   "name": "python3",
   "display_name": "Python 3",
   "language": "python"
  }
 },
 "nbformat": 4,
 "nbformat_minor": 2,
 "cells": [
  {
   "cell_type": "code",
   "execution_count": 2,
   "metadata": {},
   "outputs": [],
   "source": [
    "import urllib.request\n",
    "import json\n",
    "import pandas as pd\n",
    "import bs4 "
   ]
  },
  {
   "cell_type": "code",
   "execution_count": 14,
   "metadata": {},
   "outputs": [
    {
     "output_type": "execute_result",
     "data": {
      "text/plain": [
       "     상가업소번호  상호명  지점명 상권업종대분류코드 상권업종대분류명 상권업종중분류코드 상권업종중분류명 상권업종소분류코드  \\\n",
       "0  20173815  황진이  NaN         Q       음식       Q09     유흥주점    Q09A10   \n",
       "\n",
       "   상권업종소분류명 표준산업분류코드  ...                     건물관리번호  건물명           도로명주소  \\\n",
       "0  룸살롱/단란주점   I56211  ...  4213010100102030001000001  NaN  강원도 원주시 중앙로 61   \n",
       "\n",
       "      구우편번호    신우편번호  동정보 층정보  호정보          경도         위도  \n",
       "0  220904.0  26429.0  NaN   1  NaN  127.952252  37.347773  \n",
       "\n",
       "[1 rows x 39 columns]"
      ],
      "text/html": "<div>\n<style scoped>\n    .dataframe tbody tr th:only-of-type {\n        vertical-align: middle;\n    }\n\n    .dataframe tbody tr th {\n        vertical-align: top;\n    }\n\n    .dataframe thead th {\n        text-align: right;\n    }\n</style>\n<table border=\"1\" class=\"dataframe\">\n  <thead>\n    <tr style=\"text-align: right;\">\n      <th></th>\n      <th>상가업소번호</th>\n      <th>상호명</th>\n      <th>지점명</th>\n      <th>상권업종대분류코드</th>\n      <th>상권업종대분류명</th>\n      <th>상권업종중분류코드</th>\n      <th>상권업종중분류명</th>\n      <th>상권업종소분류코드</th>\n      <th>상권업종소분류명</th>\n      <th>표준산업분류코드</th>\n      <th>...</th>\n      <th>건물관리번호</th>\n      <th>건물명</th>\n      <th>도로명주소</th>\n      <th>구우편번호</th>\n      <th>신우편번호</th>\n      <th>동정보</th>\n      <th>층정보</th>\n      <th>호정보</th>\n      <th>경도</th>\n      <th>위도</th>\n    </tr>\n  </thead>\n  <tbody>\n    <tr>\n      <th>0</th>\n      <td>20173815</td>\n      <td>황진이</td>\n      <td>NaN</td>\n      <td>Q</td>\n      <td>음식</td>\n      <td>Q09</td>\n      <td>유흥주점</td>\n      <td>Q09A10</td>\n      <td>룸살롱/단란주점</td>\n      <td>I56211</td>\n      <td>...</td>\n      <td>4213010100102030001000001</td>\n      <td>NaN</td>\n      <td>강원도 원주시 중앙로 61</td>\n      <td>220904.0</td>\n      <td>26429.0</td>\n      <td>NaN</td>\n      <td>1</td>\n      <td>NaN</td>\n      <td>127.952252</td>\n      <td>37.347773</td>\n    </tr>\n  </tbody>\n</table>\n<p>1 rows × 39 columns</p>\n</div>"
     },
     "metadata": {},
     "execution_count": 14
    }
   ],
   "source": [
    "korea = pd.read_csv('./source/전국 모든 업종.csv',sep=',',encoding='utf8')\n",
    "del korea['Unnamed: 0']\n",
    "korea.head(1)"
   ]
  },
  {
   "source": [
    "# 햄버거 상호코드 Q07을 알아내기 위해 처음부터 시작함\n",
    "- 상호코드를 알아낸 이후에는 바로 고유 ID로 "
   ],
   "cell_type": "markdown",
   "metadata": {}
  },
  {
   "cell_type": "code",
   "execution_count": 15,
   "metadata": {},
   "outputs": [
    {
     "output_type": "execute_result",
     "data": {
      "text/plain": [
       "                상호명 상권업종중분류코드\n",
       "12          버거킹오션월드       Q07\n",
       "9860          송탄햄버거       Q07\n",
       "15499        버거225℃       Q07\n",
       "15517    케이오십오수제햄버거       Q07\n",
       "15879          버거타운       Q07\n",
       "...             ...       ...\n",
       "2557105     프랭크수제버거       Q06\n",
       "2558024       랭고스버거       Q07\n",
       "2558025       브룩스버거       Q07\n",
       "2558166         버거샵       Q07\n",
       "2559257       앵그리버거       Q07\n",
       "\n",
       "[2576 rows x 2 columns]"
      ],
      "text/html": "<div>\n<style scoped>\n    .dataframe tbody tr th:only-of-type {\n        vertical-align: middle;\n    }\n\n    .dataframe tbody tr th {\n        vertical-align: top;\n    }\n\n    .dataframe thead th {\n        text-align: right;\n    }\n</style>\n<table border=\"1\" class=\"dataframe\">\n  <thead>\n    <tr style=\"text-align: right;\">\n      <th></th>\n      <th>상호명</th>\n      <th>상권업종중분류코드</th>\n    </tr>\n  </thead>\n  <tbody>\n    <tr>\n      <th>12</th>\n      <td>버거킹오션월드</td>\n      <td>Q07</td>\n    </tr>\n    <tr>\n      <th>9860</th>\n      <td>송탄햄버거</td>\n      <td>Q07</td>\n    </tr>\n    <tr>\n      <th>15499</th>\n      <td>버거225℃</td>\n      <td>Q07</td>\n    </tr>\n    <tr>\n      <th>15517</th>\n      <td>케이오십오수제햄버거</td>\n      <td>Q07</td>\n    </tr>\n    <tr>\n      <th>15879</th>\n      <td>버거타운</td>\n      <td>Q07</td>\n    </tr>\n    <tr>\n      <th>...</th>\n      <td>...</td>\n      <td>...</td>\n    </tr>\n    <tr>\n      <th>2557105</th>\n      <td>프랭크수제버거</td>\n      <td>Q06</td>\n    </tr>\n    <tr>\n      <th>2558024</th>\n      <td>랭고스버거</td>\n      <td>Q07</td>\n    </tr>\n    <tr>\n      <th>2558025</th>\n      <td>브룩스버거</td>\n      <td>Q07</td>\n    </tr>\n    <tr>\n      <th>2558166</th>\n      <td>버거샵</td>\n      <td>Q07</td>\n    </tr>\n    <tr>\n      <th>2559257</th>\n      <td>앵그리버거</td>\n      <td>Q07</td>\n    </tr>\n  </tbody>\n</table>\n<p>2576 rows × 2 columns</p>\n</div>"
     },
     "metadata": {},
     "execution_count": 15
    }
   ],
   "source": [
    "korea[['상호명','상권업종중분류코드']][korea.상호명.str.find('버거') >= 0] "
   ]
  },
  {
   "cell_type": "code",
   "execution_count": 78,
   "metadata": {},
   "outputs": [
    {
     "output_type": "execute_result",
     "data": {
      "text/plain": [
       "       상호명  지점명                도로명주소          경도         위도  ID\n",
       "0  버거킹오션월드  NaN  강원도 홍천군 서면 한치골길 262  127.687273  37.652324  홍천\n",
       "1      로데오  NaN   강원도 강릉시 경강로 2090-1  128.895743  37.754245  강릉\n",
       "2   왕눈이도넛츠  NaN   강원도 영월군 영월읍 삼옥재길 2  128.476234  37.209981  영월\n",
       "3  씨지브이원주2  NaN     강원도 원주시 서원대로 171  127.930798  37.344816  원주\n",
       "4   베스킨라벤스  NaN       강원도 삼척시 진주로 35  129.163718  37.443797  삼척"
      ],
      "text/html": "<div>\n<style scoped>\n    .dataframe tbody tr th:only-of-type {\n        vertical-align: middle;\n    }\n\n    .dataframe tbody tr th {\n        vertical-align: top;\n    }\n\n    .dataframe thead th {\n        text-align: right;\n    }\n</style>\n<table border=\"1\" class=\"dataframe\">\n  <thead>\n    <tr style=\"text-align: right;\">\n      <th></th>\n      <th>상호명</th>\n      <th>지점명</th>\n      <th>도로명주소</th>\n      <th>경도</th>\n      <th>위도</th>\n      <th>ID</th>\n    </tr>\n  </thead>\n  <tbody>\n    <tr>\n      <th>0</th>\n      <td>버거킹오션월드</td>\n      <td>NaN</td>\n      <td>강원도 홍천군 서면 한치골길 262</td>\n      <td>127.687273</td>\n      <td>37.652324</td>\n      <td>홍천</td>\n    </tr>\n    <tr>\n      <th>1</th>\n      <td>로데오</td>\n      <td>NaN</td>\n      <td>강원도 강릉시 경강로 2090-1</td>\n      <td>128.895743</td>\n      <td>37.754245</td>\n      <td>강릉</td>\n    </tr>\n    <tr>\n      <th>2</th>\n      <td>왕눈이도넛츠</td>\n      <td>NaN</td>\n      <td>강원도 영월군 영월읍 삼옥재길 2</td>\n      <td>128.476234</td>\n      <td>37.209981</td>\n      <td>영월</td>\n    </tr>\n    <tr>\n      <th>3</th>\n      <td>씨지브이원주2</td>\n      <td>NaN</td>\n      <td>강원도 원주시 서원대로 171</td>\n      <td>127.930798</td>\n      <td>37.344816</td>\n      <td>원주</td>\n    </tr>\n    <tr>\n      <th>4</th>\n      <td>베스킨라벤스</td>\n      <td>NaN</td>\n      <td>강원도 삼척시 진주로 35</td>\n      <td>129.163718</td>\n      <td>37.443797</td>\n      <td>삼척</td>\n    </tr>\n  </tbody>\n</table>\n</div>"
     },
     "metadata": {},
     "execution_count": 78
    }
   ],
   "source": [
    "burger = pd.read_csv('./source/고유 ID 버거.csv',sep=',',encoding='utf8')\n",
    "del burger['Unnamed: 0']\n",
    "burger['상호명'] = burger['상호명'].str.lower()\n",
    "burger.head()"
   ]
  },
  {
   "source": [
    "# 1. 버거킹"
   ],
   "cell_type": "markdown",
   "metadata": {}
  },
  {
   "cell_type": "code",
   "execution_count": 79,
   "metadata": {},
   "outputs": [
    {
     "output_type": "execute_result",
     "data": {
      "text/plain": [
       "(451, 6)"
      ]
     },
     "metadata": {},
     "execution_count": 79
    }
   ],
   "source": [
    "king_kr1 = burger[burger['상호명'].str.find('버거킹') >= 0]\n",
    "king_kr1.shape"
   ]
  },
  {
   "cell_type": "code",
   "execution_count": 80,
   "metadata": {},
   "outputs": [
    {
     "output_type": "execute_result",
     "data": {
      "text/plain": [
       "(0, 6)"
      ]
     },
     "metadata": {},
     "execution_count": 80
    }
   ],
   "source": [
    "king_en1 = burger[burger['상호명'].str.find('burger king') >= 0]\n",
    "king_en1.shape"
   ]
  },
  {
   "cell_type": "code",
   "execution_count": 81,
   "metadata": {},
   "outputs": [
    {
     "output_type": "execute_result",
     "data": {
      "text/plain": [
       "        ID  개수\n",
       "0       강릉   1\n",
       "1       거제   4\n",
       "2       경산   4\n",
       "3       경주   1\n",
       "4    고양 덕양   3\n",
       "..     ...  ..\n",
       "131  포항 북구   2\n",
       "132     하남   2\n",
       "133     홍성   1\n",
       "134     홍천   4\n",
       "135     화성   5\n",
       "\n",
       "[136 rows x 2 columns]"
      ],
      "text/html": "<div>\n<style scoped>\n    .dataframe tbody tr th:only-of-type {\n        vertical-align: middle;\n    }\n\n    .dataframe tbody tr th {\n        vertical-align: top;\n    }\n\n    .dataframe thead th {\n        text-align: right;\n    }\n</style>\n<table border=\"1\" class=\"dataframe\">\n  <thead>\n    <tr style=\"text-align: right;\">\n      <th></th>\n      <th>ID</th>\n      <th>개수</th>\n    </tr>\n  </thead>\n  <tbody>\n    <tr>\n      <th>0</th>\n      <td>강릉</td>\n      <td>1</td>\n    </tr>\n    <tr>\n      <th>1</th>\n      <td>거제</td>\n      <td>4</td>\n    </tr>\n    <tr>\n      <th>2</th>\n      <td>경산</td>\n      <td>4</td>\n    </tr>\n    <tr>\n      <th>3</th>\n      <td>경주</td>\n      <td>1</td>\n    </tr>\n    <tr>\n      <th>4</th>\n      <td>고양 덕양</td>\n      <td>3</td>\n    </tr>\n    <tr>\n      <th>...</th>\n      <td>...</td>\n      <td>...</td>\n    </tr>\n    <tr>\n      <th>131</th>\n      <td>포항 북구</td>\n      <td>2</td>\n    </tr>\n    <tr>\n      <th>132</th>\n      <td>하남</td>\n      <td>2</td>\n    </tr>\n    <tr>\n      <th>133</th>\n      <td>홍성</td>\n      <td>1</td>\n    </tr>\n    <tr>\n      <th>134</th>\n      <td>홍천</td>\n      <td>4</td>\n    </tr>\n    <tr>\n      <th>135</th>\n      <td>화성</td>\n      <td>5</td>\n    </tr>\n  </tbody>\n</table>\n<p>136 rows × 2 columns</p>\n</div>"
     },
     "metadata": {},
     "execution_count": 81
    }
   ],
   "source": [
    "king = pd.concat([king_kr1,king_en1])\n",
    "king_count = pd.pivot_table(data = king,\n",
    "                              index = 'ID',\n",
    "                              values = '상호명',\n",
    "                              aggfunc = 'count')\n",
    "king_count.rename(columns={\n",
    "    '상호명':'개수'\n",
    "},inplace=True)\n",
    "king_count.reset_index(inplace=True)\n",
    "king_count"
   ]
  },
  {
   "source": [
    "# 2. 맥도날드"
   ],
   "cell_type": "markdown",
   "metadata": {}
  },
  {
   "cell_type": "code",
   "execution_count": 87,
   "metadata": {},
   "outputs": [
    {
     "output_type": "execute_result",
     "data": {
      "text/plain": [
       "(655, 6)"
      ]
     },
     "metadata": {},
     "execution_count": 87
    }
   ],
   "source": [
    "mac_kr1 = burger[burger['상호명'].str.find('맥도날드') >= 0]\n",
    "mac_kr1.shape"
   ]
  },
  {
   "cell_type": "code",
   "execution_count": 88,
   "metadata": {},
   "outputs": [
    {
     "output_type": "execute_result",
     "data": {
      "text/plain": [
       "(3, 6)"
      ]
     },
     "metadata": {},
     "execution_count": 88
    }
   ],
   "source": [
    "mac_kr2 = burger[burger['상호명'].str.find('맥도널드') >= 0]\n",
    "mac_kr2.shape"
   ]
  },
  {
   "cell_type": "code",
   "execution_count": 89,
   "metadata": {},
   "outputs": [
    {
     "output_type": "execute_result",
     "data": {
      "text/plain": [
       "(0, 6)"
      ]
     },
     "metadata": {},
     "execution_count": 89
    }
   ],
   "source": [
    "mac_en1 = burger[burger['상호명'].str.find('Mcdonald') >= 0]\n",
    "mac_en1.shape"
   ]
  },
  {
   "cell_type": "code",
   "execution_count": 91,
   "metadata": {},
   "outputs": [
    {
     "output_type": "execute_result",
     "data": {
      "text/plain": [
       "         ID  개수\n",
       "0        강릉   1\n",
       "1        거제   3\n",
       "2        경주   4\n",
       "3     고양 덕양   8\n",
       "4    고양 일산동   8\n",
       "..      ...  ..\n",
       "149   포항 남구   3\n",
       "150   포항 북구   6\n",
       "151      하남   1\n",
       "152      홍성   2\n",
       "153      화성   6\n",
       "\n",
       "[154 rows x 2 columns]"
      ],
      "text/html": "<div>\n<style scoped>\n    .dataframe tbody tr th:only-of-type {\n        vertical-align: middle;\n    }\n\n    .dataframe tbody tr th {\n        vertical-align: top;\n    }\n\n    .dataframe thead th {\n        text-align: right;\n    }\n</style>\n<table border=\"1\" class=\"dataframe\">\n  <thead>\n    <tr style=\"text-align: right;\">\n      <th></th>\n      <th>ID</th>\n      <th>개수</th>\n    </tr>\n  </thead>\n  <tbody>\n    <tr>\n      <th>0</th>\n      <td>강릉</td>\n      <td>1</td>\n    </tr>\n    <tr>\n      <th>1</th>\n      <td>거제</td>\n      <td>3</td>\n    </tr>\n    <tr>\n      <th>2</th>\n      <td>경주</td>\n      <td>4</td>\n    </tr>\n    <tr>\n      <th>3</th>\n      <td>고양 덕양</td>\n      <td>8</td>\n    </tr>\n    <tr>\n      <th>4</th>\n      <td>고양 일산동</td>\n      <td>8</td>\n    </tr>\n    <tr>\n      <th>...</th>\n      <td>...</td>\n      <td>...</td>\n    </tr>\n    <tr>\n      <th>149</th>\n      <td>포항 남구</td>\n      <td>3</td>\n    </tr>\n    <tr>\n      <th>150</th>\n      <td>포항 북구</td>\n      <td>6</td>\n    </tr>\n    <tr>\n      <th>151</th>\n      <td>하남</td>\n      <td>1</td>\n    </tr>\n    <tr>\n      <th>152</th>\n      <td>홍성</td>\n      <td>2</td>\n    </tr>\n    <tr>\n      <th>153</th>\n      <td>화성</td>\n      <td>6</td>\n    </tr>\n  </tbody>\n</table>\n<p>154 rows × 2 columns</p>\n</div>"
     },
     "metadata": {},
     "execution_count": 91
    }
   ],
   "source": [
    "mac = pd.concat([mac_kr1,mac_kr2,mac_en1])\n",
    "mac_count = pd.pivot_table(data = mac,\n",
    "                              index = 'ID',\n",
    "                              values = '상호명',\n",
    "                              aggfunc = 'count')\n",
    "mac_count.rename(columns={\n",
    "    '상호명':'개수'\n",
    "},inplace=True)\n",
    "mac_count.reset_index(inplace=True)\n",
    "mac_count"
   ]
  },
  {
   "source": [
    "# 3. 롯데리아"
   ],
   "cell_type": "markdown",
   "metadata": {}
  },
  {
   "cell_type": "code",
   "execution_count": 95,
   "metadata": {},
   "outputs": [
    {
     "output_type": "execute_result",
     "data": {
      "text/plain": [
       "(1123, 6)"
      ]
     },
     "metadata": {},
     "execution_count": 95
    }
   ],
   "source": [
    "lot_kr1 = burger[burger['상호명'].str.find('롯데리아') >= 0]\n",
    "lot_kr1.shape"
   ]
  },
  {
   "cell_type": "code",
   "execution_count": 96,
   "metadata": {},
   "outputs": [
    {
     "output_type": "execute_result",
     "data": {
      "text/plain": [
       "(0, 6)"
      ]
     },
     "metadata": {},
     "execution_count": 96
    }
   ],
   "source": [
    "lot_en1 = burger[burger['상호명'].str.find('lotte') >= 0]\n",
    "lot_en1.shape"
   ]
  },
  {
   "cell_type": "code",
   "execution_count": 97,
   "metadata": {},
   "outputs": [
    {
     "output_type": "execute_result",
     "data": {
      "text/plain": [
       "     ID  개수\n",
       "0    가평   4\n",
       "1    강릉   5\n",
       "2    강진   1\n",
       "3    거제   4\n",
       "4    거창   2\n",
       "..   ..  ..\n",
       "213  홍성   1\n",
       "214  홍천   3\n",
       "215  화성  18\n",
       "216  화천   2\n",
       "217  횡성   1\n",
       "\n",
       "[218 rows x 2 columns]"
      ],
      "text/html": "<div>\n<style scoped>\n    .dataframe tbody tr th:only-of-type {\n        vertical-align: middle;\n    }\n\n    .dataframe tbody tr th {\n        vertical-align: top;\n    }\n\n    .dataframe thead th {\n        text-align: right;\n    }\n</style>\n<table border=\"1\" class=\"dataframe\">\n  <thead>\n    <tr style=\"text-align: right;\">\n      <th></th>\n      <th>ID</th>\n      <th>개수</th>\n    </tr>\n  </thead>\n  <tbody>\n    <tr>\n      <th>0</th>\n      <td>가평</td>\n      <td>4</td>\n    </tr>\n    <tr>\n      <th>1</th>\n      <td>강릉</td>\n      <td>5</td>\n    </tr>\n    <tr>\n      <th>2</th>\n      <td>강진</td>\n      <td>1</td>\n    </tr>\n    <tr>\n      <th>3</th>\n      <td>거제</td>\n      <td>4</td>\n    </tr>\n    <tr>\n      <th>4</th>\n      <td>거창</td>\n      <td>2</td>\n    </tr>\n    <tr>\n      <th>...</th>\n      <td>...</td>\n      <td>...</td>\n    </tr>\n    <tr>\n      <th>213</th>\n      <td>홍성</td>\n      <td>1</td>\n    </tr>\n    <tr>\n      <th>214</th>\n      <td>홍천</td>\n      <td>3</td>\n    </tr>\n    <tr>\n      <th>215</th>\n      <td>화성</td>\n      <td>18</td>\n    </tr>\n    <tr>\n      <th>216</th>\n      <td>화천</td>\n      <td>2</td>\n    </tr>\n    <tr>\n      <th>217</th>\n      <td>횡성</td>\n      <td>1</td>\n    </tr>\n  </tbody>\n</table>\n<p>218 rows × 2 columns</p>\n</div>"
     },
     "metadata": {},
     "execution_count": 97
    }
   ],
   "source": [
    "lot_count = pd.pivot_table(data = lot_kr1,\n",
    "                              index = 'ID',\n",
    "                              values = '상호명',\n",
    "                              aggfunc = 'count')\n",
    "lot_count.rename(columns={\n",
    "    '상호명':'개수'\n",
    "},inplace=True)\n",
    "lot_count.reset_index(inplace=True)\n",
    "lot_count"
   ]
  },
  {
   "source": [
    "# 4. KFC"
   ],
   "cell_type": "markdown",
   "metadata": {}
  },
  {
   "cell_type": "code",
   "execution_count": 120,
   "metadata": {},
   "outputs": [
    {
     "output_type": "execute_result",
     "data": {
      "text/plain": [
       "(44, 6)"
      ]
     },
     "metadata": {},
     "execution_count": 120
    }
   ],
   "source": [
    "kfc_kr1 = burger[burger['상호명'].str.find('케이에프') >= 0]\n",
    "kfc_kr1.shape"
   ]
  },
  {
   "cell_type": "code",
   "execution_count": 106,
   "metadata": {},
   "outputs": [
    {
     "output_type": "execute_result",
     "data": {
      "text/plain": [
       "(173, 6)"
      ]
     },
     "metadata": {},
     "execution_count": 106
    }
   ],
   "source": [
    "kfc_en1 = burger[burger['상호명'].str.find('kfc') >= 0]\n",
    "kfc_en1.shape"
   ]
  },
  {
   "cell_type": "code",
   "execution_count": 121,
   "metadata": {},
   "outputs": [
    {
     "output_type": "execute_result",
     "data": {
      "text/plain": [
       "        ID  개수\n",
       "0       경산   2\n",
       "1       경주   1\n",
       "2    고양 덕양   2\n",
       "3   고양 일산동   3\n",
       "4   고양 일산서   2\n",
       "..     ...  ..\n",
       "86   포항 남구   1\n",
       "87   포항 북구   2\n",
       "88      하남   2\n",
       "89      화성   1\n",
       "90      횡성   1\n",
       "\n",
       "[91 rows x 2 columns]"
      ],
      "text/html": "<div>\n<style scoped>\n    .dataframe tbody tr th:only-of-type {\n        vertical-align: middle;\n    }\n\n    .dataframe tbody tr th {\n        vertical-align: top;\n    }\n\n    .dataframe thead th {\n        text-align: right;\n    }\n</style>\n<table border=\"1\" class=\"dataframe\">\n  <thead>\n    <tr style=\"text-align: right;\">\n      <th></th>\n      <th>ID</th>\n      <th>개수</th>\n    </tr>\n  </thead>\n  <tbody>\n    <tr>\n      <th>0</th>\n      <td>경산</td>\n      <td>2</td>\n    </tr>\n    <tr>\n      <th>1</th>\n      <td>경주</td>\n      <td>1</td>\n    </tr>\n    <tr>\n      <th>2</th>\n      <td>고양 덕양</td>\n      <td>2</td>\n    </tr>\n    <tr>\n      <th>3</th>\n      <td>고양 일산동</td>\n      <td>3</td>\n    </tr>\n    <tr>\n      <th>4</th>\n      <td>고양 일산서</td>\n      <td>2</td>\n    </tr>\n    <tr>\n      <th>...</th>\n      <td>...</td>\n      <td>...</td>\n    </tr>\n    <tr>\n      <th>86</th>\n      <td>포항 남구</td>\n      <td>1</td>\n    </tr>\n    <tr>\n      <th>87</th>\n      <td>포항 북구</td>\n      <td>2</td>\n    </tr>\n    <tr>\n      <th>88</th>\n      <td>하남</td>\n      <td>2</td>\n    </tr>\n    <tr>\n      <th>89</th>\n      <td>화성</td>\n      <td>1</td>\n    </tr>\n    <tr>\n      <th>90</th>\n      <td>횡성</td>\n      <td>1</td>\n    </tr>\n  </tbody>\n</table>\n<p>91 rows × 2 columns</p>\n</div>"
     },
     "metadata": {},
     "execution_count": 121
    }
   ],
   "source": [
    "kfc = pd.concat([kfc_kr1,kfc_en1])\n",
    "kfc_count = pd.pivot_table(data = kfc,\n",
    "                              index = 'ID',\n",
    "                              values = '상호명',\n",
    "                              aggfunc = 'count')\n",
    "kfc_count.rename(columns={\n",
    "    '상호명':'개수'\n",
    "},inplace=True)\n",
    "kfc_count.reset_index(inplace=True)\n",
    "kfc_count"
   ]
  },
  {
   "source": [
    "# 5. 맘스터치"
   ],
   "cell_type": "markdown",
   "metadata": {}
  }
 ]
}