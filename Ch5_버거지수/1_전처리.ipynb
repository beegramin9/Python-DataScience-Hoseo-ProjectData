{
 "metadata": {
  "language_info": {
   "codemirror_mode": {
    "name": "ipython",
    "version": 3
   },
   "file_extension": ".py",
   "mimetype": "text/x-python",
   "name": "python",
   "nbconvert_exporter": "python",
   "pygments_lexer": "ipython3",
   "version": "3.8.5-final"
  },
  "orig_nbformat": 2,
  "kernelspec": {
   "name": "python3",
   "display_name": "Python 3",
   "language": "python"
  }
 },
 "nbformat": 4,
 "nbformat_minor": 2,
 "cells": [
  {
   "cell_type": "code",
   "execution_count": 1,
   "metadata": {},
   "outputs": [],
   "source": [
    "import json\n",
    "import pandas as pd\n",
    "import numpy as np"
   ]
  },
  {
   "cell_type": "code",
   "execution_count": 2,
   "metadata": {},
   "outputs": [
    {
     "output_type": "execute_result",
     "data": {
      "text/plain": [
       "     상가업소번호  상호명  지점명 상권업종대분류코드 상권업종대분류명 상권업종중분류코드 상권업종중분류명 상권업종소분류코드  \\\n",
       "0  20173815  황진이  NaN         Q       음식       Q09     유흥주점    Q09A10   \n",
       "\n",
       "   상권업종소분류명 표준산업분류코드  ...                     건물관리번호  건물명           도로명주소  \\\n",
       "0  룸살롱/단란주점   I56211  ...  4213010100102030001000001  NaN  강원도 원주시 중앙로 61   \n",
       "\n",
       "      구우편번호    신우편번호  동정보 층정보  호정보          경도         위도  \n",
       "0  220904.0  26429.0  NaN   1  NaN  127.952252  37.347773  \n",
       "\n",
       "[1 rows x 39 columns]"
      ],
      "text/html": "<div>\n<style scoped>\n    .dataframe tbody tr th:only-of-type {\n        vertical-align: middle;\n    }\n\n    .dataframe tbody tr th {\n        vertical-align: top;\n    }\n\n    .dataframe thead th {\n        text-align: right;\n    }\n</style>\n<table border=\"1\" class=\"dataframe\">\n  <thead>\n    <tr style=\"text-align: right;\">\n      <th></th>\n      <th>상가업소번호</th>\n      <th>상호명</th>\n      <th>지점명</th>\n      <th>상권업종대분류코드</th>\n      <th>상권업종대분류명</th>\n      <th>상권업종중분류코드</th>\n      <th>상권업종중분류명</th>\n      <th>상권업종소분류코드</th>\n      <th>상권업종소분류명</th>\n      <th>표준산업분류코드</th>\n      <th>...</th>\n      <th>건물관리번호</th>\n      <th>건물명</th>\n      <th>도로명주소</th>\n      <th>구우편번호</th>\n      <th>신우편번호</th>\n      <th>동정보</th>\n      <th>층정보</th>\n      <th>호정보</th>\n      <th>경도</th>\n      <th>위도</th>\n    </tr>\n  </thead>\n  <tbody>\n    <tr>\n      <th>0</th>\n      <td>20173815</td>\n      <td>황진이</td>\n      <td>NaN</td>\n      <td>Q</td>\n      <td>음식</td>\n      <td>Q09</td>\n      <td>유흥주점</td>\n      <td>Q09A10</td>\n      <td>룸살롱/단란주점</td>\n      <td>I56211</td>\n      <td>...</td>\n      <td>4213010100102030001000001</td>\n      <td>NaN</td>\n      <td>강원도 원주시 중앙로 61</td>\n      <td>220904.0</td>\n      <td>26429.0</td>\n      <td>NaN</td>\n      <td>1</td>\n      <td>NaN</td>\n      <td>127.952252</td>\n      <td>37.347773</td>\n    </tr>\n  </tbody>\n</table>\n<p>1 rows × 39 columns</p>\n</div>"
     },
     "metadata": {},
     "execution_count": 2
    }
   ],
   "source": [
    "korea = pd.read_csv('./source/전국 모든 업종.csv',sep=',',encoding='utf8')\n",
    "del korea['Unnamed: 0']\n",
    "korea.head(1)"
   ]
  },
  {
   "source": [
    "# 햄버거 상호코드 Q07을 알아내기 위해 처음부터 시작함\n",
    "- 상호코드를 알아낸 이후에는 바로 고유 ID로 "
   ],
   "cell_type": "markdown",
   "metadata": {}
  },
  {
   "cell_type": "code",
   "execution_count": 3,
   "metadata": {},
   "outputs": [
    {
     "output_type": "execute_result",
     "data": {
      "text/plain": [
       "                상호명 상권업종중분류코드\n",
       "12          버거킹오션월드       Q07\n",
       "9860          송탄햄버거       Q07\n",
       "15499        버거225℃       Q07\n",
       "15517    케이오십오수제햄버거       Q07\n",
       "15879          버거타운       Q07\n",
       "...             ...       ...\n",
       "2557105     프랭크수제버거       Q06\n",
       "2558024       랭고스버거       Q07\n",
       "2558025       브룩스버거       Q07\n",
       "2558166         버거샵       Q07\n",
       "2559257       앵그리버거       Q07\n",
       "\n",
       "[2576 rows x 2 columns]"
      ],
      "text/html": "<div>\n<style scoped>\n    .dataframe tbody tr th:only-of-type {\n        vertical-align: middle;\n    }\n\n    .dataframe tbody tr th {\n        vertical-align: top;\n    }\n\n    .dataframe thead th {\n        text-align: right;\n    }\n</style>\n<table border=\"1\" class=\"dataframe\">\n  <thead>\n    <tr style=\"text-align: right;\">\n      <th></th>\n      <th>상호명</th>\n      <th>상권업종중분류코드</th>\n    </tr>\n  </thead>\n  <tbody>\n    <tr>\n      <th>12</th>\n      <td>버거킹오션월드</td>\n      <td>Q07</td>\n    </tr>\n    <tr>\n      <th>9860</th>\n      <td>송탄햄버거</td>\n      <td>Q07</td>\n    </tr>\n    <tr>\n      <th>15499</th>\n      <td>버거225℃</td>\n      <td>Q07</td>\n    </tr>\n    <tr>\n      <th>15517</th>\n      <td>케이오십오수제햄버거</td>\n      <td>Q07</td>\n    </tr>\n    <tr>\n      <th>15879</th>\n      <td>버거타운</td>\n      <td>Q07</td>\n    </tr>\n    <tr>\n      <th>...</th>\n      <td>...</td>\n      <td>...</td>\n    </tr>\n    <tr>\n      <th>2557105</th>\n      <td>프랭크수제버거</td>\n      <td>Q06</td>\n    </tr>\n    <tr>\n      <th>2558024</th>\n      <td>랭고스버거</td>\n      <td>Q07</td>\n    </tr>\n    <tr>\n      <th>2558025</th>\n      <td>브룩스버거</td>\n      <td>Q07</td>\n    </tr>\n    <tr>\n      <th>2558166</th>\n      <td>버거샵</td>\n      <td>Q07</td>\n    </tr>\n    <tr>\n      <th>2559257</th>\n      <td>앵그리버거</td>\n      <td>Q07</td>\n    </tr>\n  </tbody>\n</table>\n<p>2576 rows × 2 columns</p>\n</div>"
     },
     "metadata": {},
     "execution_count": 3
    }
   ],
   "source": [
    "korea[['상호명','상권업종중분류코드']][korea.상호명.str.find('버거') >= 0] "
   ]
  },
  {
   "cell_type": "code",
   "execution_count": 2,
   "metadata": {},
   "outputs": [
    {
     "output_type": "execute_result",
     "data": {
      "text/plain": [
       "       상호명  지점명                도로명주소          경도         위도  ID\n",
       "0  버거킹오션월드  NaN  강원도 홍천군 서면 한치골길 262  127.687273  37.652324  홍천\n",
       "1      로데오  NaN   강원도 강릉시 경강로 2090-1  128.895743  37.754245  강릉\n",
       "2   왕눈이도넛츠  NaN   강원도 영월군 영월읍 삼옥재길 2  128.476234  37.209981  영월\n",
       "3  씨지브이원주2  NaN     강원도 원주시 서원대로 171  127.930798  37.344816  원주\n",
       "4   베스킨라벤스  NaN       강원도 삼척시 진주로 35  129.163718  37.443797  삼척"
      ],
      "text/html": "<div>\n<style scoped>\n    .dataframe tbody tr th:only-of-type {\n        vertical-align: middle;\n    }\n\n    .dataframe tbody tr th {\n        vertical-align: top;\n    }\n\n    .dataframe thead th {\n        text-align: right;\n    }\n</style>\n<table border=\"1\" class=\"dataframe\">\n  <thead>\n    <tr style=\"text-align: right;\">\n      <th></th>\n      <th>상호명</th>\n      <th>지점명</th>\n      <th>도로명주소</th>\n      <th>경도</th>\n      <th>위도</th>\n      <th>ID</th>\n    </tr>\n  </thead>\n  <tbody>\n    <tr>\n      <th>0</th>\n      <td>버거킹오션월드</td>\n      <td>NaN</td>\n      <td>강원도 홍천군 서면 한치골길 262</td>\n      <td>127.687273</td>\n      <td>37.652324</td>\n      <td>홍천</td>\n    </tr>\n    <tr>\n      <th>1</th>\n      <td>로데오</td>\n      <td>NaN</td>\n      <td>강원도 강릉시 경강로 2090-1</td>\n      <td>128.895743</td>\n      <td>37.754245</td>\n      <td>강릉</td>\n    </tr>\n    <tr>\n      <th>2</th>\n      <td>왕눈이도넛츠</td>\n      <td>NaN</td>\n      <td>강원도 영월군 영월읍 삼옥재길 2</td>\n      <td>128.476234</td>\n      <td>37.209981</td>\n      <td>영월</td>\n    </tr>\n    <tr>\n      <th>3</th>\n      <td>씨지브이원주2</td>\n      <td>NaN</td>\n      <td>강원도 원주시 서원대로 171</td>\n      <td>127.930798</td>\n      <td>37.344816</td>\n      <td>원주</td>\n    </tr>\n    <tr>\n      <th>4</th>\n      <td>베스킨라벤스</td>\n      <td>NaN</td>\n      <td>강원도 삼척시 진주로 35</td>\n      <td>129.163718</td>\n      <td>37.443797</td>\n      <td>삼척</td>\n    </tr>\n  </tbody>\n</table>\n</div>"
     },
     "metadata": {},
     "execution_count": 2
    }
   ],
   "source": [
    "burger = pd.read_csv('./source/고유 ID 버거.csv',sep=',',encoding='utf8')\n",
    "del burger['Unnamed: 0']\n",
    "burger['상호명'] = burger['상호명'].str.lower()\n",
    "burger.head()"
   ]
  },
  {
   "source": [
    "# 1. 버거킹"
   ],
   "cell_type": "markdown",
   "metadata": {}
  },
  {
   "cell_type": "code",
   "execution_count": 3,
   "metadata": {},
   "outputs": [
    {
     "output_type": "execute_result",
     "data": {
      "text/plain": [
       "(451, 6)"
      ]
     },
     "metadata": {},
     "execution_count": 3
    }
   ],
   "source": [
    "king_kr1 = burger[burger['상호명'].str.find('버거킹') >= 0]\n",
    "king_kr1.shape"
   ]
  },
  {
   "cell_type": "code",
   "execution_count": 4,
   "metadata": {},
   "outputs": [
    {
     "output_type": "execute_result",
     "data": {
      "text/plain": [
       "(0, 6)"
      ]
     },
     "metadata": {},
     "execution_count": 4
    }
   ],
   "source": [
    "king_en1 = burger[burger['상호명'].str.find('burger king') >= 0]\n",
    "king_en1.shape"
   ]
  },
  {
   "cell_type": "code",
   "execution_count": 5,
   "metadata": {},
   "outputs": [
    {
     "output_type": "execute_result",
     "data": {
      "text/plain": [
       "        ID  버거킹\n",
       "0       강릉    1\n",
       "1       거제    4\n",
       "2       경산    4\n",
       "3       경주    1\n",
       "4    고양 덕양    3\n",
       "..     ...  ...\n",
       "131  포항 북구    2\n",
       "132     하남    2\n",
       "133     홍성    1\n",
       "134     홍천    4\n",
       "135     화성    5\n",
       "\n",
       "[136 rows x 2 columns]"
      ],
      "text/html": "<div>\n<style scoped>\n    .dataframe tbody tr th:only-of-type {\n        vertical-align: middle;\n    }\n\n    .dataframe tbody tr th {\n        vertical-align: top;\n    }\n\n    .dataframe thead th {\n        text-align: right;\n    }\n</style>\n<table border=\"1\" class=\"dataframe\">\n  <thead>\n    <tr style=\"text-align: right;\">\n      <th></th>\n      <th>ID</th>\n      <th>버거킹</th>\n    </tr>\n  </thead>\n  <tbody>\n    <tr>\n      <th>0</th>\n      <td>강릉</td>\n      <td>1</td>\n    </tr>\n    <tr>\n      <th>1</th>\n      <td>거제</td>\n      <td>4</td>\n    </tr>\n    <tr>\n      <th>2</th>\n      <td>경산</td>\n      <td>4</td>\n    </tr>\n    <tr>\n      <th>3</th>\n      <td>경주</td>\n      <td>1</td>\n    </tr>\n    <tr>\n      <th>4</th>\n      <td>고양 덕양</td>\n      <td>3</td>\n    </tr>\n    <tr>\n      <th>...</th>\n      <td>...</td>\n      <td>...</td>\n    </tr>\n    <tr>\n      <th>131</th>\n      <td>포항 북구</td>\n      <td>2</td>\n    </tr>\n    <tr>\n      <th>132</th>\n      <td>하남</td>\n      <td>2</td>\n    </tr>\n    <tr>\n      <th>133</th>\n      <td>홍성</td>\n      <td>1</td>\n    </tr>\n    <tr>\n      <th>134</th>\n      <td>홍천</td>\n      <td>4</td>\n    </tr>\n    <tr>\n      <th>135</th>\n      <td>화성</td>\n      <td>5</td>\n    </tr>\n  </tbody>\n</table>\n<p>136 rows × 2 columns</p>\n</div>"
     },
     "metadata": {},
     "execution_count": 5
    }
   ],
   "source": [
    "king = pd.concat([king_kr1,king_en1])\n",
    "king_count = pd.pivot_table(data = king,\n",
    "                              index = 'ID',\n",
    "                              values = '상호명',\n",
    "                              aggfunc = 'count')\n",
    "king_count.rename(columns={\n",
    "    '상호명':'버거킹'\n",
    "},inplace=True)\n",
    "king_count.reset_index(inplace=True)\n",
    "king_count"
   ]
  },
  {
   "source": [
    "# 2. 맥도날드"
   ],
   "cell_type": "markdown",
   "metadata": {}
  },
  {
   "cell_type": "code",
   "execution_count": 6,
   "metadata": {},
   "outputs": [
    {
     "output_type": "execute_result",
     "data": {
      "text/plain": [
       "(655, 6)"
      ]
     },
     "metadata": {},
     "execution_count": 6
    }
   ],
   "source": [
    "mac_kr1 = burger[burger['상호명'].str.find('맥도날드') >= 0]\n",
    "mac_kr1.shape"
   ]
  },
  {
   "cell_type": "code",
   "execution_count": 7,
   "metadata": {},
   "outputs": [
    {
     "output_type": "execute_result",
     "data": {
      "text/plain": [
       "(3, 6)"
      ]
     },
     "metadata": {},
     "execution_count": 7
    }
   ],
   "source": [
    "mac_kr2 = burger[burger['상호명'].str.find('맥도널드') >= 0]\n",
    "mac_kr2.shape"
   ]
  },
  {
   "cell_type": "code",
   "execution_count": 8,
   "metadata": {},
   "outputs": [
    {
     "output_type": "execute_result",
     "data": {
      "text/plain": [
       "(0, 6)"
      ]
     },
     "metadata": {},
     "execution_count": 8
    }
   ],
   "source": [
    "mac_en1 = burger[burger['상호명'].str.find('Mcdonald') >= 0]\n",
    "mac_en1.shape"
   ]
  },
  {
   "cell_type": "code",
   "execution_count": 9,
   "metadata": {},
   "outputs": [
    {
     "output_type": "execute_result",
     "data": {
      "text/plain": [
       "         ID  맥도날드\n",
       "0        강릉     1\n",
       "1        거제     3\n",
       "2        경주     4\n",
       "3     고양 덕양     8\n",
       "4    고양 일산동     8\n",
       "..      ...   ...\n",
       "149   포항 남구     3\n",
       "150   포항 북구     6\n",
       "151      하남     1\n",
       "152      홍성     2\n",
       "153      화성     6\n",
       "\n",
       "[154 rows x 2 columns]"
      ],
      "text/html": "<div>\n<style scoped>\n    .dataframe tbody tr th:only-of-type {\n        vertical-align: middle;\n    }\n\n    .dataframe tbody tr th {\n        vertical-align: top;\n    }\n\n    .dataframe thead th {\n        text-align: right;\n    }\n</style>\n<table border=\"1\" class=\"dataframe\">\n  <thead>\n    <tr style=\"text-align: right;\">\n      <th></th>\n      <th>ID</th>\n      <th>맥도날드</th>\n    </tr>\n  </thead>\n  <tbody>\n    <tr>\n      <th>0</th>\n      <td>강릉</td>\n      <td>1</td>\n    </tr>\n    <tr>\n      <th>1</th>\n      <td>거제</td>\n      <td>3</td>\n    </tr>\n    <tr>\n      <th>2</th>\n      <td>경주</td>\n      <td>4</td>\n    </tr>\n    <tr>\n      <th>3</th>\n      <td>고양 덕양</td>\n      <td>8</td>\n    </tr>\n    <tr>\n      <th>4</th>\n      <td>고양 일산동</td>\n      <td>8</td>\n    </tr>\n    <tr>\n      <th>...</th>\n      <td>...</td>\n      <td>...</td>\n    </tr>\n    <tr>\n      <th>149</th>\n      <td>포항 남구</td>\n      <td>3</td>\n    </tr>\n    <tr>\n      <th>150</th>\n      <td>포항 북구</td>\n      <td>6</td>\n    </tr>\n    <tr>\n      <th>151</th>\n      <td>하남</td>\n      <td>1</td>\n    </tr>\n    <tr>\n      <th>152</th>\n      <td>홍성</td>\n      <td>2</td>\n    </tr>\n    <tr>\n      <th>153</th>\n      <td>화성</td>\n      <td>6</td>\n    </tr>\n  </tbody>\n</table>\n<p>154 rows × 2 columns</p>\n</div>"
     },
     "metadata": {},
     "execution_count": 9
    }
   ],
   "source": [
    "mac = pd.concat([mac_kr1,mac_kr2,mac_en1])\n",
    "mac_count = pd.pivot_table(data = mac,\n",
    "                              index = 'ID',\n",
    "                              values = '상호명',\n",
    "                              aggfunc = 'count')\n",
    "mac_count.rename(columns={\n",
    "    '상호명':'맥도날드'\n",
    "},inplace=True)\n",
    "mac_count.reset_index(inplace=True)\n",
    "mac_count"
   ]
  },
  {
   "source": [
    "# 3. 롯데리아"
   ],
   "cell_type": "markdown",
   "metadata": {}
  },
  {
   "cell_type": "code",
   "execution_count": 10,
   "metadata": {},
   "outputs": [
    {
     "output_type": "execute_result",
     "data": {
      "text/plain": [
       "(1123, 6)"
      ]
     },
     "metadata": {},
     "execution_count": 10
    }
   ],
   "source": [
    "lot_kr1 = burger[burger['상호명'].str.find('롯데리아') >= 0]\n",
    "lot_kr1.shape"
   ]
  },
  {
   "cell_type": "code",
   "execution_count": 11,
   "metadata": {},
   "outputs": [
    {
     "output_type": "execute_result",
     "data": {
      "text/plain": [
       "(0, 6)"
      ]
     },
     "metadata": {},
     "execution_count": 11
    }
   ],
   "source": [
    "lot_en1 = burger[burger['상호명'].str.find('lotte') >= 0]\n",
    "lot_en1.shape"
   ]
  },
  {
   "cell_type": "code",
   "execution_count": 12,
   "metadata": {},
   "outputs": [
    {
     "output_type": "execute_result",
     "data": {
      "text/plain": [
       "     ID  롯데리아\n",
       "0    가평     4\n",
       "1    강릉     5\n",
       "2    강진     1\n",
       "3    거제     4\n",
       "4    거창     2\n",
       "..   ..   ...\n",
       "213  홍성     1\n",
       "214  홍천     3\n",
       "215  화성    18\n",
       "216  화천     2\n",
       "217  횡성     1\n",
       "\n",
       "[218 rows x 2 columns]"
      ],
      "text/html": "<div>\n<style scoped>\n    .dataframe tbody tr th:only-of-type {\n        vertical-align: middle;\n    }\n\n    .dataframe tbody tr th {\n        vertical-align: top;\n    }\n\n    .dataframe thead th {\n        text-align: right;\n    }\n</style>\n<table border=\"1\" class=\"dataframe\">\n  <thead>\n    <tr style=\"text-align: right;\">\n      <th></th>\n      <th>ID</th>\n      <th>롯데리아</th>\n    </tr>\n  </thead>\n  <tbody>\n    <tr>\n      <th>0</th>\n      <td>가평</td>\n      <td>4</td>\n    </tr>\n    <tr>\n      <th>1</th>\n      <td>강릉</td>\n      <td>5</td>\n    </tr>\n    <tr>\n      <th>2</th>\n      <td>강진</td>\n      <td>1</td>\n    </tr>\n    <tr>\n      <th>3</th>\n      <td>거제</td>\n      <td>4</td>\n    </tr>\n    <tr>\n      <th>4</th>\n      <td>거창</td>\n      <td>2</td>\n    </tr>\n    <tr>\n      <th>...</th>\n      <td>...</td>\n      <td>...</td>\n    </tr>\n    <tr>\n      <th>213</th>\n      <td>홍성</td>\n      <td>1</td>\n    </tr>\n    <tr>\n      <th>214</th>\n      <td>홍천</td>\n      <td>3</td>\n    </tr>\n    <tr>\n      <th>215</th>\n      <td>화성</td>\n      <td>18</td>\n    </tr>\n    <tr>\n      <th>216</th>\n      <td>화천</td>\n      <td>2</td>\n    </tr>\n    <tr>\n      <th>217</th>\n      <td>횡성</td>\n      <td>1</td>\n    </tr>\n  </tbody>\n</table>\n<p>218 rows × 2 columns</p>\n</div>"
     },
     "metadata": {},
     "execution_count": 12
    }
   ],
   "source": [
    "lot_count = pd.pivot_table(data = lot_kr1,\n",
    "                              index = 'ID',\n",
    "                              values = '상호명',\n",
    "                              aggfunc = 'count')\n",
    "lot_count.rename(columns={\n",
    "    '상호명':'롯데리아'\n",
    "},inplace=True)\n",
    "lot_count.reset_index(inplace=True)\n",
    "lot_count"
   ]
  },
  {
   "source": [
    "# 4. KFC"
   ],
   "cell_type": "markdown",
   "metadata": {}
  },
  {
   "cell_type": "code",
   "execution_count": 13,
   "metadata": {},
   "outputs": [
    {
     "output_type": "execute_result",
     "data": {
      "text/plain": [
       "(44, 6)"
      ]
     },
     "metadata": {},
     "execution_count": 13
    }
   ],
   "source": [
    "kfc_kr1 = burger[burger['상호명'].str.find('케이에프') >= 0]\n",
    "kfc_kr1.shape"
   ]
  },
  {
   "cell_type": "code",
   "execution_count": 14,
   "metadata": {},
   "outputs": [
    {
     "output_type": "execute_result",
     "data": {
      "text/plain": [
       "(173, 6)"
      ]
     },
     "metadata": {},
     "execution_count": 14
    }
   ],
   "source": [
    "kfc_en1 = burger[burger['상호명'].str.find('kfc') >= 0]\n",
    "kfc_en1.shape"
   ]
  },
  {
   "cell_type": "code",
   "execution_count": 15,
   "metadata": {},
   "outputs": [
    {
     "output_type": "execute_result",
     "data": {
      "text/plain": [
       "        ID  KFC\n",
       "0       경산    2\n",
       "1       경주    1\n",
       "2    고양 덕양    2\n",
       "3   고양 일산동    3\n",
       "4   고양 일산서    2\n",
       "..     ...  ...\n",
       "86   포항 남구    1\n",
       "87   포항 북구    2\n",
       "88      하남    2\n",
       "89      화성    1\n",
       "90      횡성    1\n",
       "\n",
       "[91 rows x 2 columns]"
      ],
      "text/html": "<div>\n<style scoped>\n    .dataframe tbody tr th:only-of-type {\n        vertical-align: middle;\n    }\n\n    .dataframe tbody tr th {\n        vertical-align: top;\n    }\n\n    .dataframe thead th {\n        text-align: right;\n    }\n</style>\n<table border=\"1\" class=\"dataframe\">\n  <thead>\n    <tr style=\"text-align: right;\">\n      <th></th>\n      <th>ID</th>\n      <th>KFC</th>\n    </tr>\n  </thead>\n  <tbody>\n    <tr>\n      <th>0</th>\n      <td>경산</td>\n      <td>2</td>\n    </tr>\n    <tr>\n      <th>1</th>\n      <td>경주</td>\n      <td>1</td>\n    </tr>\n    <tr>\n      <th>2</th>\n      <td>고양 덕양</td>\n      <td>2</td>\n    </tr>\n    <tr>\n      <th>3</th>\n      <td>고양 일산동</td>\n      <td>3</td>\n    </tr>\n    <tr>\n      <th>4</th>\n      <td>고양 일산서</td>\n      <td>2</td>\n    </tr>\n    <tr>\n      <th>...</th>\n      <td>...</td>\n      <td>...</td>\n    </tr>\n    <tr>\n      <th>86</th>\n      <td>포항 남구</td>\n      <td>1</td>\n    </tr>\n    <tr>\n      <th>87</th>\n      <td>포항 북구</td>\n      <td>2</td>\n    </tr>\n    <tr>\n      <th>88</th>\n      <td>하남</td>\n      <td>2</td>\n    </tr>\n    <tr>\n      <th>89</th>\n      <td>화성</td>\n      <td>1</td>\n    </tr>\n    <tr>\n      <th>90</th>\n      <td>횡성</td>\n      <td>1</td>\n    </tr>\n  </tbody>\n</table>\n<p>91 rows × 2 columns</p>\n</div>"
     },
     "metadata": {},
     "execution_count": 15
    }
   ],
   "source": [
    "kfc = pd.concat([kfc_kr1,kfc_en1])\n",
    "kfc_count = pd.pivot_table(data = kfc,\n",
    "                              index = 'ID',\n",
    "                              values = '상호명',\n",
    "                              aggfunc = 'count')\n",
    "kfc_count.rename(columns={\n",
    "    '상호명':'KFC'\n",
    "},inplace=True)\n",
    "kfc_count.reset_index(inplace=True)\n",
    "kfc_count"
   ]
  },
  {
   "source": [
    "# 5. 맘스터치"
   ],
   "cell_type": "markdown",
   "metadata": {}
  },
  {
   "cell_type": "code",
   "execution_count": 16,
   "metadata": {},
   "outputs": [
    {
     "output_type": "execute_result",
     "data": {
      "text/plain": [
       "(298, 6)"
      ]
     },
     "metadata": {},
     "execution_count": 16
    }
   ],
   "source": [
    "touch_kr1 = burger[burger['상호명'].str.find('맘스터치') >= 0]\n",
    "touch_kr1.shape"
   ]
  },
  {
   "cell_type": "code",
   "execution_count": 17,
   "metadata": {},
   "outputs": [
    {
     "output_type": "execute_result",
     "data": {
      "text/plain": [
       "(2, 6)"
      ]
     },
     "metadata": {},
     "execution_count": 17
    }
   ],
   "source": [
    "touch_en1 = burger[burger['상호명'].str.find('touch') >= 0]\n",
    "touch_en1.shape"
   ]
  },
  {
   "cell_type": "code",
   "execution_count": 18,
   "metadata": {},
   "outputs": [
    {
     "output_type": "execute_result",
     "data": {
      "text/plain": [
       "     ID  맘스터치\n",
       "0    가평     1\n",
       "1    강릉     4\n",
       "2    거제     2\n",
       "3    경산     3\n",
       "4    경주     3\n",
       "..   ..   ...\n",
       "143  해남     1\n",
       "144  홍성     1\n",
       "145  홍천     1\n",
       "146  화성     3\n",
       "147  화천     3\n",
       "\n",
       "[148 rows x 2 columns]"
      ],
      "text/html": "<div>\n<style scoped>\n    .dataframe tbody tr th:only-of-type {\n        vertical-align: middle;\n    }\n\n    .dataframe tbody tr th {\n        vertical-align: top;\n    }\n\n    .dataframe thead th {\n        text-align: right;\n    }\n</style>\n<table border=\"1\" class=\"dataframe\">\n  <thead>\n    <tr style=\"text-align: right;\">\n      <th></th>\n      <th>ID</th>\n      <th>맘스터치</th>\n    </tr>\n  </thead>\n  <tbody>\n    <tr>\n      <th>0</th>\n      <td>가평</td>\n      <td>1</td>\n    </tr>\n    <tr>\n      <th>1</th>\n      <td>강릉</td>\n      <td>4</td>\n    </tr>\n    <tr>\n      <th>2</th>\n      <td>거제</td>\n      <td>2</td>\n    </tr>\n    <tr>\n      <th>3</th>\n      <td>경산</td>\n      <td>3</td>\n    </tr>\n    <tr>\n      <th>4</th>\n      <td>경주</td>\n      <td>3</td>\n    </tr>\n    <tr>\n      <th>...</th>\n      <td>...</td>\n      <td>...</td>\n    </tr>\n    <tr>\n      <th>143</th>\n      <td>해남</td>\n      <td>1</td>\n    </tr>\n    <tr>\n      <th>144</th>\n      <td>홍성</td>\n      <td>1</td>\n    </tr>\n    <tr>\n      <th>145</th>\n      <td>홍천</td>\n      <td>1</td>\n    </tr>\n    <tr>\n      <th>146</th>\n      <td>화성</td>\n      <td>3</td>\n    </tr>\n    <tr>\n      <th>147</th>\n      <td>화천</td>\n      <td>3</td>\n    </tr>\n  </tbody>\n</table>\n<p>148 rows × 2 columns</p>\n</div>"
     },
     "metadata": {},
     "execution_count": 18
    }
   ],
   "source": [
    "touch = pd.concat([touch_kr1,touch_en1])\n",
    "touch_count = pd.pivot_table(data = touch,\n",
    "                              index = 'ID',\n",
    "                              values = '상호명',\n",
    "                              aggfunc = 'count')\n",
    "touch_count.rename(columns={\n",
    "    '상호명':'맘스터치'\n",
    "},inplace=True)\n",
    "touch_count.reset_index(inplace=True)\n",
    "touch_count"
   ]
  },
  {
   "source": [
    "# 여러개의 DF을 한 번에 Join하기\n",
    "- 이 방식은 행 이름이 중복되어서 들어감... 행 이름 바꿀 때 문제발생"
   ],
   "cell_type": "markdown",
   "metadata": {}
  },
  {
   "cell_type": "code",
   "execution_count": 19,
   "metadata": {},
   "outputs": [],
   "source": [
    "from functools import reduce\n",
    "dfs = [king_count, mac_count, lot_count, kfc_count, touch_count]\n",
    "# on = 'ID' 으로만 하면 교집합이 되어 버려서 몇 도시가 탈락된다.\n",
    "bugger_index = reduce(lambda left, right: pd.merge(left, right, how='outer', on='ID'), dfs)\n",
    "bugger_index = bugger_index.fillna(0)\n",
    "bugger_index.fillna(0,inplace=True)"
   ]
  },
  {
   "cell_type": "code",
   "execution_count": 20,
   "metadata": {},
   "outputs": [],
   "source": [
    "bugger_index['버거지수'] = np.round((bugger_index['버거킹'] + bugger_index['맥도날드']) + bugger_index['KFC'] / (bugger_index['롯데리아'] + bugger_index['맘스터치']),2)"
   ]
  },
  {
   "source": [
    "# 무한대 처리\n",
    "- 이디야, 빽다방이 하나도 없는 지역은 0으로 나누었기 때문에 값이 inf로 나온다.\n",
    "- 무한대 값 inf는 np.inf로"
   ],
   "cell_type": "markdown",
   "metadata": {}
  },
  {
   "cell_type": "code",
   "execution_count": 21,
   "metadata": {},
   "outputs": [
    {
     "output_type": "execute_result",
     "data": {
      "text/plain": [
       "     ID  버거킹  맥도날드  롯데리아  KFC  맘스터치  버거지수\n",
       "141  동해  0.0   3.0   0.0  1.0   0.0   inf"
      ],
      "text/html": "<div>\n<style scoped>\n    .dataframe tbody tr th:only-of-type {\n        vertical-align: middle;\n    }\n\n    .dataframe tbody tr th {\n        vertical-align: top;\n    }\n\n    .dataframe thead th {\n        text-align: right;\n    }\n</style>\n<table border=\"1\" class=\"dataframe\">\n  <thead>\n    <tr style=\"text-align: right;\">\n      <th></th>\n      <th>ID</th>\n      <th>버거킹</th>\n      <th>맥도날드</th>\n      <th>롯데리아</th>\n      <th>KFC</th>\n      <th>맘스터치</th>\n      <th>버거지수</th>\n    </tr>\n  </thead>\n  <tbody>\n    <tr>\n      <th>141</th>\n      <td>동해</td>\n      <td>0.0</td>\n      <td>3.0</td>\n      <td>0.0</td>\n      <td>1.0</td>\n      <td>0.0</td>\n      <td>inf</td>\n    </tr>\n  </tbody>\n</table>\n</div>"
     },
     "metadata": {},
     "execution_count": 21
    }
   ],
   "source": [
    "bugger_index[bugger_index['버거지수']==np.inf]"
   ]
  },
  {
   "cell_type": "code",
   "execution_count": 22,
   "metadata": {},
   "outputs": [],
   "source": [
    "# np.inf, -np.inf값을 np.nan으로 바꾼 후 평균값으로 대체\n",
    "bugger_index = bugger_index.replace([np.inf, -np.inf],np.nan)\n",
    "bugger_index = bugger_index.fillna(bugger_index['버거지수'].mean())"
   ]
  },
  {
   "cell_type": "code",
   "execution_count": 23,
   "metadata": {},
   "outputs": [
    {
     "output_type": "execute_result",
     "data": {
      "text/plain": [
       "Empty DataFrame\n",
       "Columns: [ID, 버거킹, 맥도날드, 롯데리아, KFC, 맘스터치, 버거지수]\n",
       "Index: []"
      ],
      "text/html": "<div>\n<style scoped>\n    .dataframe tbody tr th:only-of-type {\n        vertical-align: middle;\n    }\n\n    .dataframe tbody tr th {\n        vertical-align: top;\n    }\n\n    .dataframe thead th {\n        text-align: right;\n    }\n</style>\n<table border=\"1\" class=\"dataframe\">\n  <thead>\n    <tr style=\"text-align: right;\">\n      <th></th>\n      <th>ID</th>\n      <th>버거킹</th>\n      <th>맥도날드</th>\n      <th>롯데리아</th>\n      <th>KFC</th>\n      <th>맘스터치</th>\n      <th>버거지수</th>\n    </tr>\n  </thead>\n  <tbody>\n  </tbody>\n</table>\n</div>"
     },
     "metadata": {},
     "execution_count": 23
    }
   ],
   "source": [
    "bugger_index[bugger_index.index == '동해']"
   ]
  },
  {
   "source": [
    "# 인구대비 계산을 위해 인구데이터 추가"
   ],
   "cell_type": "markdown",
   "metadata": {}
  },
  {
   "cell_type": "code",
   "execution_count": 24,
   "metadata": {},
   "outputs": [
    {
     "output_type": "execute_result",
     "data": {
      "text/plain": [
       "  광역시도   시도  20~39세계  20~39세여자  65세 이상계    인구수계   인구수남자   인구수여자     소멸 비율  \\\n",
       "0   강원  강릉시    46008     20993    40497  203057  101154  101903  0.518384   \n",
       "1   강원  고성군     4006      1699     7005   23621   11933   11688  0.242541   \n",
       "2   강원  동해시    16311      7510    16152   83888   42093   41795  0.464958   \n",
       "3   강원  삼척시    12428      5280    14953   61833   31630   30203  0.353106   \n",
       "4   강원  속초시    15928      7411    14010   76302   37488   38814  0.528979   \n",
       "\n",
       "   소멸 위기 지역      ID  \n",
       "0     False      강릉  \n",
       "1      True  고성(강원)  \n",
       "2      True      동해  \n",
       "3      True      삼척  \n",
       "4     False      속초  "
      ],
      "text/html": "<div>\n<style scoped>\n    .dataframe tbody tr th:only-of-type {\n        vertical-align: middle;\n    }\n\n    .dataframe tbody tr th {\n        vertical-align: top;\n    }\n\n    .dataframe thead th {\n        text-align: right;\n    }\n</style>\n<table border=\"1\" class=\"dataframe\">\n  <thead>\n    <tr style=\"text-align: right;\">\n      <th></th>\n      <th>광역시도</th>\n      <th>시도</th>\n      <th>20~39세계</th>\n      <th>20~39세여자</th>\n      <th>65세 이상계</th>\n      <th>인구수계</th>\n      <th>인구수남자</th>\n      <th>인구수여자</th>\n      <th>소멸 비율</th>\n      <th>소멸 위기 지역</th>\n      <th>ID</th>\n    </tr>\n  </thead>\n  <tbody>\n    <tr>\n      <th>0</th>\n      <td>강원</td>\n      <td>강릉시</td>\n      <td>46008</td>\n      <td>20993</td>\n      <td>40497</td>\n      <td>203057</td>\n      <td>101154</td>\n      <td>101903</td>\n      <td>0.518384</td>\n      <td>False</td>\n      <td>강릉</td>\n    </tr>\n    <tr>\n      <th>1</th>\n      <td>강원</td>\n      <td>고성군</td>\n      <td>4006</td>\n      <td>1699</td>\n      <td>7005</td>\n      <td>23621</td>\n      <td>11933</td>\n      <td>11688</td>\n      <td>0.242541</td>\n      <td>True</td>\n      <td>고성(강원)</td>\n    </tr>\n    <tr>\n      <th>2</th>\n      <td>강원</td>\n      <td>동해시</td>\n      <td>16311</td>\n      <td>7510</td>\n      <td>16152</td>\n      <td>83888</td>\n      <td>42093</td>\n      <td>41795</td>\n      <td>0.464958</td>\n      <td>True</td>\n      <td>동해</td>\n    </tr>\n    <tr>\n      <th>3</th>\n      <td>강원</td>\n      <td>삼척시</td>\n      <td>12428</td>\n      <td>5280</td>\n      <td>14953</td>\n      <td>61833</td>\n      <td>31630</td>\n      <td>30203</td>\n      <td>0.353106</td>\n      <td>True</td>\n      <td>삼척</td>\n    </tr>\n    <tr>\n      <th>4</th>\n      <td>강원</td>\n      <td>속초시</td>\n      <td>15928</td>\n      <td>7411</td>\n      <td>14010</td>\n      <td>76302</td>\n      <td>37488</td>\n      <td>38814</td>\n      <td>0.528979</td>\n      <td>False</td>\n      <td>속초</td>\n    </tr>\n  </tbody>\n</table>\n</div>"
     },
     "metadata": {},
     "execution_count": 24
    }
   ],
   "source": [
    "pop = pd.read_csv('./source/소멸 위기 지역.csv',sep=',',encoding='utf8')\n",
    "del pop['Unnamed: 0']\n",
    "pop.head()"
   ]
  },
  {
   "cell_type": "code",
   "execution_count": 25,
   "metadata": {},
   "outputs": [
    {
     "output_type": "execute_result",
     "data": {
      "text/plain": [
       "       버거킹  맥도날드  롯데리아  KFC  맘스터치   버거지수      인구수계\n",
       "ID                                                \n",
       "강릉     1.0   1.0   5.0  0.0   4.0   2.00  203057.0\n",
       "거제     4.0   3.0   4.0  0.0   2.0   7.00  232585.0\n",
       "경산     4.0   0.0   8.0  2.0   3.0   4.18  255939.0\n",
       "경주     1.0   4.0   8.0  1.0   3.0   5.09  239382.0\n",
       "고양 덕양  3.0   8.0   9.0  2.0   2.0  11.18  434496.0\n",
       "...    ...   ...   ...  ...   ...    ...       ...\n",
       "임실     0.0   0.0   0.0  0.0   0.0   0.00   25064.0\n",
       "청양     0.0   0.0   0.0  0.0   0.0   0.00   28735.0\n",
       "태안     0.0   0.0   0.0  0.0   0.0   0.00   57081.0\n",
       "단양     0.0   0.0   0.0  0.0   0.0   0.00   26478.0\n",
       "영동     0.0   0.0   0.0  0.0   0.0   0.00   44563.0\n",
       "\n",
       "[252 rows x 7 columns]"
      ],
      "text/html": "<div>\n<style scoped>\n    .dataframe tbody tr th:only-of-type {\n        vertical-align: middle;\n    }\n\n    .dataframe tbody tr th {\n        vertical-align: top;\n    }\n\n    .dataframe thead th {\n        text-align: right;\n    }\n</style>\n<table border=\"1\" class=\"dataframe\">\n  <thead>\n    <tr style=\"text-align: right;\">\n      <th></th>\n      <th>버거킹</th>\n      <th>맥도날드</th>\n      <th>롯데리아</th>\n      <th>KFC</th>\n      <th>맘스터치</th>\n      <th>버거지수</th>\n      <th>인구수계</th>\n    </tr>\n    <tr>\n      <th>ID</th>\n      <th></th>\n      <th></th>\n      <th></th>\n      <th></th>\n      <th></th>\n      <th></th>\n      <th></th>\n    </tr>\n  </thead>\n  <tbody>\n    <tr>\n      <th>강릉</th>\n      <td>1.0</td>\n      <td>1.0</td>\n      <td>5.0</td>\n      <td>0.0</td>\n      <td>4.0</td>\n      <td>2.00</td>\n      <td>203057.0</td>\n    </tr>\n    <tr>\n      <th>거제</th>\n      <td>4.0</td>\n      <td>3.0</td>\n      <td>4.0</td>\n      <td>0.0</td>\n      <td>2.0</td>\n      <td>7.00</td>\n      <td>232585.0</td>\n    </tr>\n    <tr>\n      <th>경산</th>\n      <td>4.0</td>\n      <td>0.0</td>\n      <td>8.0</td>\n      <td>2.0</td>\n      <td>3.0</td>\n      <td>4.18</td>\n      <td>255939.0</td>\n    </tr>\n    <tr>\n      <th>경주</th>\n      <td>1.0</td>\n      <td>4.0</td>\n      <td>8.0</td>\n      <td>1.0</td>\n      <td>3.0</td>\n      <td>5.09</td>\n      <td>239382.0</td>\n    </tr>\n    <tr>\n      <th>고양 덕양</th>\n      <td>3.0</td>\n      <td>8.0</td>\n      <td>9.0</td>\n      <td>2.0</td>\n      <td>2.0</td>\n      <td>11.18</td>\n      <td>434496.0</td>\n    </tr>\n    <tr>\n      <th>...</th>\n      <td>...</td>\n      <td>...</td>\n      <td>...</td>\n      <td>...</td>\n      <td>...</td>\n      <td>...</td>\n      <td>...</td>\n    </tr>\n    <tr>\n      <th>임실</th>\n      <td>0.0</td>\n      <td>0.0</td>\n      <td>0.0</td>\n      <td>0.0</td>\n      <td>0.0</td>\n      <td>0.00</td>\n      <td>25064.0</td>\n    </tr>\n    <tr>\n      <th>청양</th>\n      <td>0.0</td>\n      <td>0.0</td>\n      <td>0.0</td>\n      <td>0.0</td>\n      <td>0.0</td>\n      <td>0.00</td>\n      <td>28735.0</td>\n    </tr>\n    <tr>\n      <th>태안</th>\n      <td>0.0</td>\n      <td>0.0</td>\n      <td>0.0</td>\n      <td>0.0</td>\n      <td>0.0</td>\n      <td>0.00</td>\n      <td>57081.0</td>\n    </tr>\n    <tr>\n      <th>단양</th>\n      <td>0.0</td>\n      <td>0.0</td>\n      <td>0.0</td>\n      <td>0.0</td>\n      <td>0.0</td>\n      <td>0.00</td>\n      <td>26478.0</td>\n    </tr>\n    <tr>\n      <th>영동</th>\n      <td>0.0</td>\n      <td>0.0</td>\n      <td>0.0</td>\n      <td>0.0</td>\n      <td>0.0</td>\n      <td>0.00</td>\n      <td>44563.0</td>\n    </tr>\n  </tbody>\n</table>\n<p>252 rows × 7 columns</p>\n</div>"
     },
     "metadata": {},
     "execution_count": 25
    }
   ],
   "source": [
    "buggerpop = pd.merge(bugger_index, pop[['ID','인구수계']], how='outer', on='ID')\n",
    "buggerpop.set_index('ID',inplace=True)\n",
    "buggerpop.fillna(0,inplace=True)\n",
    "buggerpop"
   ]
  },
  {
   "source": [
    "# 경계선(x축,y축 추가)"
   ],
   "cell_type": "markdown",
   "metadata": {}
  },
  {
   "cell_type": "code",
   "execution_count": 26,
   "metadata": {},
   "outputs": [
    {
     "output_type": "execute_result",
     "data": {
      "text/plain": [
       "   y   x      ID\n",
       "0  0   7      철원\n",
       "1  0   8      화천\n",
       "2  0   9      양구\n",
       "3  0  10  고성(강원)\n",
       "4  1   3      양주"
      ],
      "text/html": "<div>\n<style scoped>\n    .dataframe tbody tr th:only-of-type {\n        vertical-align: middle;\n    }\n\n    .dataframe tbody tr th {\n        vertical-align: top;\n    }\n\n    .dataframe thead th {\n        text-align: right;\n    }\n</style>\n<table border=\"1\" class=\"dataframe\">\n  <thead>\n    <tr style=\"text-align: right;\">\n      <th></th>\n      <th>y</th>\n      <th>x</th>\n      <th>ID</th>\n    </tr>\n  </thead>\n  <tbody>\n    <tr>\n      <th>0</th>\n      <td>0</td>\n      <td>7</td>\n      <td>철원</td>\n    </tr>\n    <tr>\n      <th>1</th>\n      <td>0</td>\n      <td>8</td>\n      <td>화천</td>\n    </tr>\n    <tr>\n      <th>2</th>\n      <td>0</td>\n      <td>9</td>\n      <td>양구</td>\n    </tr>\n    <tr>\n      <th>3</th>\n      <td>0</td>\n      <td>10</td>\n      <td>고성(강원)</td>\n    </tr>\n    <tr>\n      <th>4</th>\n      <td>1</td>\n      <td>3</td>\n      <td>양주</td>\n    </tr>\n  </tbody>\n</table>\n</div>"
     },
     "metadata": {},
     "execution_count": 26
    }
   ],
   "source": [
    "korea = pd.read_excel('./source/전국 카토그램.xlsx',engine='openpyxl')\n",
    "korea_stacked = pd.DataFrame(korea.stack())\n",
    "korea_stacked.reset_index(inplace=True)\n",
    "korea_stacked.rename(columns={\n",
    "    'level_0':'y',\n",
    "    'level_1':'x',\n",
    "    0:'ID'\n",
    "},inplace=True)\n",
    "draw_korea = korea_stacked.copy()\n",
    "draw_korea.head()"
   ]
  },
  {
   "cell_type": "code",
   "execution_count": 35,
   "metadata": {},
   "outputs": [
    {
     "output_type": "execute_result",
     "data": {
      "text/plain": [
       "{'안산', '창원'}"
      ]
     },
     "metadata": {},
     "execution_count": 35
    }
   ],
   "source": [
    "tmp_set = set(bugger_index.ID) - set(draw_korea['ID'])\n",
    "tmp_set"
   ]
  },
  {
   "cell_type": "code",
   "execution_count": 37,
   "metadata": {},
   "outputs": [],
   "source": [
    "for tmp in tmp_set:\n",
    "    bugger_index = bugger_index.drop(bugger_index[bugger_index.ID==tmp].index)\n"
   ]
  },
  {
   "source": [
    "## 행이 삭제되었으니 좌표, ID DF draw_korea을 인구 DF pop과 합친다.\n",
    "- how='left'로 하면 Coffeeindex에 맞추게 되어 없는 구들은 제외되어 나오지 않는다.\n",
    "- 고유 ID 만들 때 나왔던 도시들이 이디야 커피가 있음에도 불구하고 누락되어 있음\n",
    "- 검토해 본 결과 저 4개 대기업 카페는 하나도 나오지 않고 개인카페들만 있는 지역들이었음"
   ],
   "cell_type": "markdown",
   "metadata": {}
  },
  {
   "cell_type": "code",
   "execution_count": 29,
   "metadata": {},
   "outputs": [
    {
     "output_type": "execute_result",
     "data": {
      "text/plain": [
       "        ID  버거킹  맥도날드  롯데리아  KFC  맘스터치  버거지수      인구수계     y     x\n",
       "237     영덕  0.0   0.0   0.0  0.0   0.0   0.0   33715.0   7.0  11.0\n",
       "238     영양  0.0   0.0   0.0  0.0   0.0   0.0   15272.0   9.0  11.0\n",
       "239     청송  0.0   0.0   0.0  0.0   0.0   0.0   23031.0  10.0  11.0\n",
       "240     칠곡  0.0   0.0   0.0  0.0   0.0   0.0  108254.0  12.0   9.0\n",
       "241  인천 동구  0.0   0.0   0.0  0.0   0.0   0.0   60791.0   6.0   2.0\n",
       "242     신안  0.0   0.0   0.0  0.0   0.0   0.0   33248.0  21.0   0.0\n",
       "243     영광  0.0   0.0   0.0  0.0   0.0   0.0   46722.0  19.0   1.0\n",
       "244     장흥  0.0   0.0   0.0  0.0   0.0   0.0   34009.0  24.0   2.0\n",
       "245     진도  0.0   0.0   0.0  0.0   0.0   0.0   26956.0  24.0   0.0\n",
       "246     화순  0.0   0.0   0.0  0.0   0.0   0.0   55338.0  21.0   4.0\n",
       "247     임실  0.0   0.0   0.0  0.0   0.0   0.0   25064.0  19.0   4.0\n",
       "248     청양  0.0   0.0   0.0  0.0   0.0   0.0   28735.0  13.0   3.0\n",
       "249     태안  0.0   0.0   0.0  0.0   0.0   0.0   57081.0  11.0   0.0\n",
       "250     단양  0.0   0.0   0.0  0.0   0.0   0.0   26478.0  11.0   7.0\n",
       "251     영동  0.0   0.0   0.0  0.0   0.0   0.0   44563.0  15.0   7.0"
      ],
      "text/html": "<div>\n<style scoped>\n    .dataframe tbody tr th:only-of-type {\n        vertical-align: middle;\n    }\n\n    .dataframe tbody tr th {\n        vertical-align: top;\n    }\n\n    .dataframe thead th {\n        text-align: right;\n    }\n</style>\n<table border=\"1\" class=\"dataframe\">\n  <thead>\n    <tr style=\"text-align: right;\">\n      <th></th>\n      <th>ID</th>\n      <th>버거킹</th>\n      <th>맥도날드</th>\n      <th>롯데리아</th>\n      <th>KFC</th>\n      <th>맘스터치</th>\n      <th>버거지수</th>\n      <th>인구수계</th>\n      <th>y</th>\n      <th>x</th>\n    </tr>\n  </thead>\n  <tbody>\n    <tr>\n      <th>237</th>\n      <td>영덕</td>\n      <td>0.0</td>\n      <td>0.0</td>\n      <td>0.0</td>\n      <td>0.0</td>\n      <td>0.0</td>\n      <td>0.0</td>\n      <td>33715.0</td>\n      <td>7.0</td>\n      <td>11.0</td>\n    </tr>\n    <tr>\n      <th>238</th>\n      <td>영양</td>\n      <td>0.0</td>\n      <td>0.0</td>\n      <td>0.0</td>\n      <td>0.0</td>\n      <td>0.0</td>\n      <td>0.0</td>\n      <td>15272.0</td>\n      <td>9.0</td>\n      <td>11.0</td>\n    </tr>\n    <tr>\n      <th>239</th>\n      <td>청송</td>\n      <td>0.0</td>\n      <td>0.0</td>\n      <td>0.0</td>\n      <td>0.0</td>\n      <td>0.0</td>\n      <td>0.0</td>\n      <td>23031.0</td>\n      <td>10.0</td>\n      <td>11.0</td>\n    </tr>\n    <tr>\n      <th>240</th>\n      <td>칠곡</td>\n      <td>0.0</td>\n      <td>0.0</td>\n      <td>0.0</td>\n      <td>0.0</td>\n      <td>0.0</td>\n      <td>0.0</td>\n      <td>108254.0</td>\n      <td>12.0</td>\n      <td>9.0</td>\n    </tr>\n    <tr>\n      <th>241</th>\n      <td>인천 동구</td>\n      <td>0.0</td>\n      <td>0.0</td>\n      <td>0.0</td>\n      <td>0.0</td>\n      <td>0.0</td>\n      <td>0.0</td>\n      <td>60791.0</td>\n      <td>6.0</td>\n      <td>2.0</td>\n    </tr>\n    <tr>\n      <th>242</th>\n      <td>신안</td>\n      <td>0.0</td>\n      <td>0.0</td>\n      <td>0.0</td>\n      <td>0.0</td>\n      <td>0.0</td>\n      <td>0.0</td>\n      <td>33248.0</td>\n      <td>21.0</td>\n      <td>0.0</td>\n    </tr>\n    <tr>\n      <th>243</th>\n      <td>영광</td>\n      <td>0.0</td>\n      <td>0.0</td>\n      <td>0.0</td>\n      <td>0.0</td>\n      <td>0.0</td>\n      <td>0.0</td>\n      <td>46722.0</td>\n      <td>19.0</td>\n      <td>1.0</td>\n    </tr>\n    <tr>\n      <th>244</th>\n      <td>장흥</td>\n      <td>0.0</td>\n      <td>0.0</td>\n      <td>0.0</td>\n      <td>0.0</td>\n      <td>0.0</td>\n      <td>0.0</td>\n      <td>34009.0</td>\n      <td>24.0</td>\n      <td>2.0</td>\n    </tr>\n    <tr>\n      <th>245</th>\n      <td>진도</td>\n      <td>0.0</td>\n      <td>0.0</td>\n      <td>0.0</td>\n      <td>0.0</td>\n      <td>0.0</td>\n      <td>0.0</td>\n      <td>26956.0</td>\n      <td>24.0</td>\n      <td>0.0</td>\n    </tr>\n    <tr>\n      <th>246</th>\n      <td>화순</td>\n      <td>0.0</td>\n      <td>0.0</td>\n      <td>0.0</td>\n      <td>0.0</td>\n      <td>0.0</td>\n      <td>0.0</td>\n      <td>55338.0</td>\n      <td>21.0</td>\n      <td>4.0</td>\n    </tr>\n    <tr>\n      <th>247</th>\n      <td>임실</td>\n      <td>0.0</td>\n      <td>0.0</td>\n      <td>0.0</td>\n      <td>0.0</td>\n      <td>0.0</td>\n      <td>0.0</td>\n      <td>25064.0</td>\n      <td>19.0</td>\n      <td>4.0</td>\n    </tr>\n    <tr>\n      <th>248</th>\n      <td>청양</td>\n      <td>0.0</td>\n      <td>0.0</td>\n      <td>0.0</td>\n      <td>0.0</td>\n      <td>0.0</td>\n      <td>0.0</td>\n      <td>28735.0</td>\n      <td>13.0</td>\n      <td>3.0</td>\n    </tr>\n    <tr>\n      <th>249</th>\n      <td>태안</td>\n      <td>0.0</td>\n      <td>0.0</td>\n      <td>0.0</td>\n      <td>0.0</td>\n      <td>0.0</td>\n      <td>0.0</td>\n      <td>57081.0</td>\n      <td>11.0</td>\n      <td>0.0</td>\n    </tr>\n    <tr>\n      <th>250</th>\n      <td>단양</td>\n      <td>0.0</td>\n      <td>0.0</td>\n      <td>0.0</td>\n      <td>0.0</td>\n      <td>0.0</td>\n      <td>0.0</td>\n      <td>26478.0</td>\n      <td>11.0</td>\n      <td>7.0</td>\n    </tr>\n    <tr>\n      <th>251</th>\n      <td>영동</td>\n      <td>0.0</td>\n      <td>0.0</td>\n      <td>0.0</td>\n      <td>0.0</td>\n      <td>0.0</td>\n      <td>0.0</td>\n      <td>44563.0</td>\n      <td>15.0</td>\n      <td>7.0</td>\n    </tr>\n  </tbody>\n</table>\n</div>"
     },
     "metadata": {},
     "execution_count": 29
    }
   ],
   "source": [
    "cf = pd.merge(buggerpop, draw_korea, how='outer',  on = 'ID')\n",
    "cf = cf.fillna(0)\n",
    "cf.tail(15)"
   ]
  },
  {
   "cell_type": "code",
   "execution_count": null,
   "metadata": {},
   "outputs": [],
   "source": [
    "## 창원, 안산"
   ]
  },
  {
   "cell_type": "code",
   "execution_count": 38,
   "metadata": {},
   "outputs": [
    {
     "output_type": "execute_result",
     "data": {
      "text/plain": [
       "     ID  버거킹  맥도날드  롯데리아  KFC  맘스터치  버거지수  인구수계    y    x\n",
       "162  창원  0.0   1.0   1.0  0.0   0.0   1.0   0.0  0.0  0.0"
      ],
      "text/html": "<div>\n<style scoped>\n    .dataframe tbody tr th:only-of-type {\n        vertical-align: middle;\n    }\n\n    .dataframe tbody tr th {\n        vertical-align: top;\n    }\n\n    .dataframe thead th {\n        text-align: right;\n    }\n</style>\n<table border=\"1\" class=\"dataframe\">\n  <thead>\n    <tr style=\"text-align: right;\">\n      <th></th>\n      <th>ID</th>\n      <th>버거킹</th>\n      <th>맥도날드</th>\n      <th>롯데리아</th>\n      <th>KFC</th>\n      <th>맘스터치</th>\n      <th>버거지수</th>\n      <th>인구수계</th>\n      <th>y</th>\n      <th>x</th>\n    </tr>\n  </thead>\n  <tbody>\n    <tr>\n      <th>162</th>\n      <td>창원</td>\n      <td>0.0</td>\n      <td>1.0</td>\n      <td>1.0</td>\n      <td>0.0</td>\n      <td>0.0</td>\n      <td>1.0</td>\n      <td>0.0</td>\n      <td>0.0</td>\n      <td>0.0</td>\n    </tr>\n  </tbody>\n</table>\n</div>"
     },
     "metadata": {},
     "execution_count": 38
    }
   ],
   "source": [
    "cf[cf.ID == '창원']"
   ]
  },
  {
   "cell_type": "code",
   "execution_count": 30,
   "metadata": {},
   "outputs": [],
   "source": [
    "cf.to_csv('./result/전국 버거 지수(인구포함).csv',sep=',',encoding='utf8')"
   ]
  }
 ]
}