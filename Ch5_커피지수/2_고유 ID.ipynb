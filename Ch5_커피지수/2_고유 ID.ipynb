{
 "metadata": {
  "language_info": {
   "codemirror_mode": {
    "name": "ipython",
    "version": 3
   },
   "file_extension": ".py",
   "mimetype": "text/x-python",
   "name": "python",
   "nbconvert_exporter": "python",
   "pygments_lexer": "ipython3",
   "version": "3.7.4-final"
  },
  "orig_nbformat": 2,
  "kernelspec": {
   "name": "python3",
   "display_name": "Python 3"
  }
 },
 "nbformat": 4,
 "nbformat_minor": 2,
 "cells": [
  {
   "cell_type": "code",
   "execution_count": 53,
   "metadata": {},
   "outputs": [],
   "source": [
    "import pandas as pd\n",
    "import numpy as np"
   ]
  },
  {
   "cell_type": "code",
   "execution_count": 54,
   "metadata": {},
   "outputs": [
    {
     "output_type": "execute_result",
     "data": {
      "text/plain": [
       "   Unnamed: 0       상호명  지점명                 도로명주소          경도         위도  ID\n",
       "0           0       펠로톤  NaN       강원도 강릉시 임영로 115  128.893468  37.751919  강릉\n",
       "1           1  키즈까페아이사랑  NaN    강원도 강릉시 성덕포남로 45-8  128.919456  37.759315  강릉\n",
       "2           2     상유재카페  NaN  강원도 정선군 정선읍 정선로 1323  128.660805  37.379458  정선\n",
       "3           3     동물과사람  NaN      강원도 원주시 천매봉길 117  127.943047  37.326277  원주\n",
       "4           4     카페비엔또  NaN   강원도 영월군 영월읍 중앙1로 59  128.465690  37.186503  영월"
      ],
      "text/html": "<div>\n<style scoped>\n    .dataframe tbody tr th:only-of-type {\n        vertical-align: middle;\n    }\n\n    .dataframe tbody tr th {\n        vertical-align: top;\n    }\n\n    .dataframe thead th {\n        text-align: right;\n    }\n</style>\n<table border=\"1\" class=\"dataframe\">\n  <thead>\n    <tr style=\"text-align: right;\">\n      <th></th>\n      <th>Unnamed: 0</th>\n      <th>상호명</th>\n      <th>지점명</th>\n      <th>도로명주소</th>\n      <th>경도</th>\n      <th>위도</th>\n      <th>ID</th>\n    </tr>\n  </thead>\n  <tbody>\n    <tr>\n      <td>0</td>\n      <td>0</td>\n      <td>펠로톤</td>\n      <td>NaN</td>\n      <td>강원도 강릉시 임영로 115</td>\n      <td>128.893468</td>\n      <td>37.751919</td>\n      <td>강릉</td>\n    </tr>\n    <tr>\n      <td>1</td>\n      <td>1</td>\n      <td>키즈까페아이사랑</td>\n      <td>NaN</td>\n      <td>강원도 강릉시 성덕포남로 45-8</td>\n      <td>128.919456</td>\n      <td>37.759315</td>\n      <td>강릉</td>\n    </tr>\n    <tr>\n      <td>2</td>\n      <td>2</td>\n      <td>상유재카페</td>\n      <td>NaN</td>\n      <td>강원도 정선군 정선읍 정선로 1323</td>\n      <td>128.660805</td>\n      <td>37.379458</td>\n      <td>정선</td>\n    </tr>\n    <tr>\n      <td>3</td>\n      <td>3</td>\n      <td>동물과사람</td>\n      <td>NaN</td>\n      <td>강원도 원주시 천매봉길 117</td>\n      <td>127.943047</td>\n      <td>37.326277</td>\n      <td>원주</td>\n    </tr>\n    <tr>\n      <td>4</td>\n      <td>4</td>\n      <td>카페비엔또</td>\n      <td>NaN</td>\n      <td>강원도 영월군 영월읍 중앙1로 59</td>\n      <td>128.465690</td>\n      <td>37.186503</td>\n      <td>영월</td>\n    </tr>\n  </tbody>\n</table>\n</div>"
     },
     "metadata": {},
     "execution_count": 54
    }
   ],
   "source": [
    "cafe = pd.read_csv('./result/고유 ID.csv',sep=',',encoding='utf8')\n",
    "cafe.head()"
   ]
  },
  {
   "cell_type": "code",
   "execution_count": 55,
   "metadata": {},
   "outputs": [],
   "source": [
    "del cafe['Unnamed: 0']"
   ]
  },
  {
   "cell_type": "code",
   "execution_count": 56,
   "metadata": {},
   "outputs": [],
   "source": [
    "cafe['상호명'] = cafe['상호명'].str.lower()"
   ]
  },
  {
   "cell_type": "code",
   "execution_count": 105,
   "metadata": {},
   "outputs": [
    {
     "output_type": "execute_result",
     "data": {
      "text/plain": [
       "array([False, False, False, False, False, False, False, False, False,\n",
       "       False, False, False, False, False, False, False, False, False,\n",
       "       False, False, False, False, False, False, False, False, False,\n",
       "       False, False, False, False, False, False, False, False, False,\n",
       "       False, False, False, False, False, False, False, False, False,\n",
       "       False, False, False, False, False, False, False, False, False,\n",
       "       False, False, False, False, False, False, False, False, False,\n",
       "       False, False, False, False, False, False, False, False, False,\n",
       "       False, False, False, False, False, False, False, False, False,\n",
       "       False, False, False, False, False, False, False, False, False,\n",
       "       False])"
      ]
     },
     "metadata": {},
     "execution_count": 105
    }
   ],
   "source": [
    "(cafe[cafe['ID']=='영월']['상호명'].str.find('스타벅스')>=0).to_numpy()\n"
   ]
  },
  {
   "source": [
    "# (스타벅스 + 커피빈) / (이디야 + 빽다방)\n",
    "- 그리고 ID로 pivot_table 이후 aggfunc = 'count'"
   ],
   "cell_type": "markdown",
   "metadata": {}
  },
  {
   "source": [
    "## 1. 스타벅스"
   ],
   "cell_type": "markdown",
   "metadata": {}
  },
  {
   "cell_type": "code",
   "execution_count": 58,
   "metadata": {},
   "outputs": [
    {
     "output_type": "execute_result",
     "data": {
      "text/plain": [
       "(1633, 6)"
      ]
     },
     "metadata": {},
     "execution_count": 58
    }
   ],
   "source": [
    "star_kr1 = cafe[cafe['상호명'].str.find('스타벅스') >= 0]\n",
    "star_kr1.shape"
   ]
  },
  {
   "cell_type": "code",
   "execution_count": 59,
   "metadata": {},
   "outputs": [
    {
     "output_type": "execute_result",
     "data": {
      "text/plain": [
       "(4, 6)"
      ]
     },
     "metadata": {},
     "execution_count": 59
    }
   ],
   "source": [
    "star_kr2 = cafe[cafe['상호명'].str.find('스타박스') >= 0]\n",
    "star_kr2.shape"
   ]
  },
  {
   "cell_type": "code",
   "execution_count": 60,
   "metadata": {},
   "outputs": [
    {
     "output_type": "execute_result",
     "data": {
      "text/plain": [
       "(4, 6)"
      ]
     },
     "metadata": {},
     "execution_count": 60
    }
   ],
   "source": [
    "star_en = cafe[cafe['상호명'].str.find('starbucks') >= 0]\n",
    "star_en.shape"
   ]
  },
  {
   "cell_type": "code",
   "execution_count": 61,
   "metadata": {},
   "outputs": [
    {
     "output_type": "execute_result",
     "data": {
      "text/plain": [
       "                   상호명        지점명                     도로명주소          경도  \\\n",
       "16                스타벅스        NaN         강원도 원주시 금불1길 28-5  127.931032   \n",
       "167               스타벅스    오션월드2호점       강원도 홍천군 서면 한치골길 262  127.687273   \n",
       "398               스타벅스  대명델피노리조트점    강원도 고성군 토성면 미시령옛길 1153  128.493408   \n",
       "439               스타벅스        강대점       강원도 춘천시 서부대성로 243-1  127.745087   \n",
       "679               스타벅스     속초중앙로점           강원도 속초시 중앙로 123  128.589463   \n",
       "...                ...        ...                       ...         ...   \n",
       "55574             스타박스        NaN      부산광역시 남구 황령대로74번길 47  129.067570   \n",
       "11459  starbuckscoffee        NaN            경기도 의정부시 행복로 7  127.048140   \n",
       "16554  starbuckscoffee        NaN  경기도 성남시 분당구 판교역로192번길 14  127.111395   \n",
       "32141  starbuckscoffee        NaN          경상남도 김해시 가야로 182  128.871703   \n",
       "63572  starbuckscoffee        NaN        서울특별시 서초구 신반포로 176  127.002393   \n",
       "\n",
       "              위도      ID  \n",
       "16     37.348466      원주  \n",
       "167    37.652324      홍천  \n",
       "398    38.213128  고성(강원)  \n",
       "439    37.872760      춘천  \n",
       "679    38.202621      속초  \n",
       "...          ...     ...  \n",
       "55574  35.147797   부산 남구  \n",
       "11459  37.739587     의정부  \n",
       "16554  37.397375   성남 분당  \n",
       "32141  35.261544      김해  \n",
       "63572  37.503930   서울 서초  \n",
       "\n",
       "[1641 rows x 6 columns]"
      ],
      "text/html": "<div>\n<style scoped>\n    .dataframe tbody tr th:only-of-type {\n        vertical-align: middle;\n    }\n\n    .dataframe tbody tr th {\n        vertical-align: top;\n    }\n\n    .dataframe thead th {\n        text-align: right;\n    }\n</style>\n<table border=\"1\" class=\"dataframe\">\n  <thead>\n    <tr style=\"text-align: right;\">\n      <th></th>\n      <th>상호명</th>\n      <th>지점명</th>\n      <th>도로명주소</th>\n      <th>경도</th>\n      <th>위도</th>\n      <th>ID</th>\n    </tr>\n  </thead>\n  <tbody>\n    <tr>\n      <td>16</td>\n      <td>스타벅스</td>\n      <td>NaN</td>\n      <td>강원도 원주시 금불1길 28-5</td>\n      <td>127.931032</td>\n      <td>37.348466</td>\n      <td>원주</td>\n    </tr>\n    <tr>\n      <td>167</td>\n      <td>스타벅스</td>\n      <td>오션월드2호점</td>\n      <td>강원도 홍천군 서면 한치골길 262</td>\n      <td>127.687273</td>\n      <td>37.652324</td>\n      <td>홍천</td>\n    </tr>\n    <tr>\n      <td>398</td>\n      <td>스타벅스</td>\n      <td>대명델피노리조트점</td>\n      <td>강원도 고성군 토성면 미시령옛길 1153</td>\n      <td>128.493408</td>\n      <td>38.213128</td>\n      <td>고성(강원)</td>\n    </tr>\n    <tr>\n      <td>439</td>\n      <td>스타벅스</td>\n      <td>강대점</td>\n      <td>강원도 춘천시 서부대성로 243-1</td>\n      <td>127.745087</td>\n      <td>37.872760</td>\n      <td>춘천</td>\n    </tr>\n    <tr>\n      <td>679</td>\n      <td>스타벅스</td>\n      <td>속초중앙로점</td>\n      <td>강원도 속초시 중앙로 123</td>\n      <td>128.589463</td>\n      <td>38.202621</td>\n      <td>속초</td>\n    </tr>\n    <tr>\n      <td>...</td>\n      <td>...</td>\n      <td>...</td>\n      <td>...</td>\n      <td>...</td>\n      <td>...</td>\n      <td>...</td>\n    </tr>\n    <tr>\n      <td>55574</td>\n      <td>스타박스</td>\n      <td>NaN</td>\n      <td>부산광역시 남구 황령대로74번길 47</td>\n      <td>129.067570</td>\n      <td>35.147797</td>\n      <td>부산 남구</td>\n    </tr>\n    <tr>\n      <td>11459</td>\n      <td>starbuckscoffee</td>\n      <td>NaN</td>\n      <td>경기도 의정부시 행복로 7</td>\n      <td>127.048140</td>\n      <td>37.739587</td>\n      <td>의정부</td>\n    </tr>\n    <tr>\n      <td>16554</td>\n      <td>starbuckscoffee</td>\n      <td>NaN</td>\n      <td>경기도 성남시 분당구 판교역로192번길 14</td>\n      <td>127.111395</td>\n      <td>37.397375</td>\n      <td>성남 분당</td>\n    </tr>\n    <tr>\n      <td>32141</td>\n      <td>starbuckscoffee</td>\n      <td>NaN</td>\n      <td>경상남도 김해시 가야로 182</td>\n      <td>128.871703</td>\n      <td>35.261544</td>\n      <td>김해</td>\n    </tr>\n    <tr>\n      <td>63572</td>\n      <td>starbuckscoffee</td>\n      <td>NaN</td>\n      <td>서울특별시 서초구 신반포로 176</td>\n      <td>127.002393</td>\n      <td>37.503930</td>\n      <td>서울 서초</td>\n    </tr>\n  </tbody>\n</table>\n<p>1641 rows × 6 columns</p>\n</div>"
     },
     "metadata": {},
     "execution_count": 61
    }
   ],
   "source": [
    "star = pd.concat([star_kr1,star_kr2,star_en])\n",
    "star"
   ]
  },
  {
   "cell_type": "code",
   "execution_count": 62,
   "metadata": {},
   "outputs": [
    {
     "output_type": "execute_result",
     "data": {
      "text/plain": [
       "     ID  개수\n",
       "0    강릉   5\n",
       "1    거제   5\n",
       "2    경산   8\n",
       "3    경주   8\n",
       "4    계룡   1\n",
       "..   ..  ..\n",
       "185  하남  10\n",
       "186  하동   1\n",
       "187  함양   1\n",
       "188  홍천   2\n",
       "189  화성  19\n",
       "\n",
       "[190 rows x 2 columns]"
      ],
      "text/html": "<div>\n<style scoped>\n    .dataframe tbody tr th:only-of-type {\n        vertical-align: middle;\n    }\n\n    .dataframe tbody tr th {\n        vertical-align: top;\n    }\n\n    .dataframe thead th {\n        text-align: right;\n    }\n</style>\n<table border=\"1\" class=\"dataframe\">\n  <thead>\n    <tr style=\"text-align: right;\">\n      <th></th>\n      <th>ID</th>\n      <th>개수</th>\n    </tr>\n  </thead>\n  <tbody>\n    <tr>\n      <td>0</td>\n      <td>강릉</td>\n      <td>5</td>\n    </tr>\n    <tr>\n      <td>1</td>\n      <td>거제</td>\n      <td>5</td>\n    </tr>\n    <tr>\n      <td>2</td>\n      <td>경산</td>\n      <td>8</td>\n    </tr>\n    <tr>\n      <td>3</td>\n      <td>경주</td>\n      <td>8</td>\n    </tr>\n    <tr>\n      <td>4</td>\n      <td>계룡</td>\n      <td>1</td>\n    </tr>\n    <tr>\n      <td>...</td>\n      <td>...</td>\n      <td>...</td>\n    </tr>\n    <tr>\n      <td>185</td>\n      <td>하남</td>\n      <td>10</td>\n    </tr>\n    <tr>\n      <td>186</td>\n      <td>하동</td>\n      <td>1</td>\n    </tr>\n    <tr>\n      <td>187</td>\n      <td>함양</td>\n      <td>1</td>\n    </tr>\n    <tr>\n      <td>188</td>\n      <td>홍천</td>\n      <td>2</td>\n    </tr>\n    <tr>\n      <td>189</td>\n      <td>화성</td>\n      <td>19</td>\n    </tr>\n  </tbody>\n</table>\n<p>190 rows × 2 columns</p>\n</div>"
     },
     "metadata": {},
     "execution_count": 62
    }
   ],
   "source": [
    "star_count = pd.pivot_table(data = star,\n",
    "                              index = 'ID',\n",
    "                              values = '상호명',\n",
    "                              aggfunc = 'count')\n",
    "star_count.rename(columns={\n",
    "    '상호명':'개수'\n",
    "},inplace=True)\n",
    "star_count.reset_index(inplace=True)\n",
    "star_count"
   ]
  },
  {
   "source": [
    "## 2. 커피빈"
   ],
   "cell_type": "markdown",
   "metadata": {}
  },
  {
   "cell_type": "code",
   "execution_count": 63,
   "metadata": {},
   "outputs": [
    {
     "output_type": "execute_result",
     "data": {
      "text/plain": [
       "(381, 6)"
      ]
     },
     "metadata": {},
     "execution_count": 63
    }
   ],
   "source": [
    "bean_kr = cafe[cafe['상호명'].str.find('커피빈') >= 0]\n",
    "bean_kr.shape"
   ]
  },
  {
   "cell_type": "code",
   "execution_count": 64,
   "metadata": {},
   "outputs": [
    {
     "output_type": "execute_result",
     "data": {
      "text/plain": [
       "(3, 6)"
      ]
     },
     "metadata": {},
     "execution_count": 64
    }
   ],
   "source": [
    "bean_en = cafe[cafe['상호명'].str.find('coffeebean') >= 0]\n",
    "bean_en.shape"
   ]
  },
  {
   "cell_type": "code",
   "execution_count": 65,
   "metadata": {},
   "outputs": [
    {
     "output_type": "execute_result",
     "data": {
      "text/plain": [
       "        상호명          지점명                    도로명주소          경도         위도  \\\n",
       "2141    커피빈          NaN          강원도 동해시 일출로 107  129.118963  37.552715   \n",
       "2479    커피빈  코리아원주AK플라자점            강원도 원주시 봉화로 1  127.927626  37.345679   \n",
       "3554    커피빈          곰씨네  강원도 춘천시 동내면 춘천순환로 61-15  127.751359  37.856311   \n",
       "4630    커피빈          NaN           경기도 이천시 남천로 93  127.447687  37.276730   \n",
       "4860    커피빈     코리아수원인계점      경기도 수원시 팔달구 권광로 195  127.032669  37.264938   \n",
       "...     ...          ...                      ...         ...        ...   \n",
       "102442  커피빈         파비뇽점     충청북도 청주시 흥덕구 월명로 212  127.455569  36.653705   \n",
       "102686  커피빈          NaN          충청북도 제천시 내제로 74  128.203104  37.136042   \n",
       "103099  커피빈       코리아청주점  충청북도 청주시 상당구 상당로69번길 20  127.489295  36.634532   \n",
       "103485  커피빈          NaN     충청북도 음성군 금왕읍 무극로 281  127.592804  36.993018   \n",
       "103671  커피빈          NaN        충청북도 제천시 죽하로 71-3  128.224848  37.158207   \n",
       "\n",
       "           ID  \n",
       "2141       동해  \n",
       "2479       원주  \n",
       "3554       춘천  \n",
       "4630       이천  \n",
       "4860    수원 팔달  \n",
       "...       ...  \n",
       "102442  청주 흥덕  \n",
       "102686     제천  \n",
       "103099  청주 상당  \n",
       "103485     음성  \n",
       "103671     제천  \n",
       "\n",
       "[762 rows x 6 columns]"
      ],
      "text/html": "<div>\n<style scoped>\n    .dataframe tbody tr th:only-of-type {\n        vertical-align: middle;\n    }\n\n    .dataframe tbody tr th {\n        vertical-align: top;\n    }\n\n    .dataframe thead th {\n        text-align: right;\n    }\n</style>\n<table border=\"1\" class=\"dataframe\">\n  <thead>\n    <tr style=\"text-align: right;\">\n      <th></th>\n      <th>상호명</th>\n      <th>지점명</th>\n      <th>도로명주소</th>\n      <th>경도</th>\n      <th>위도</th>\n      <th>ID</th>\n    </tr>\n  </thead>\n  <tbody>\n    <tr>\n      <td>2141</td>\n      <td>커피빈</td>\n      <td>NaN</td>\n      <td>강원도 동해시 일출로 107</td>\n      <td>129.118963</td>\n      <td>37.552715</td>\n      <td>동해</td>\n    </tr>\n    <tr>\n      <td>2479</td>\n      <td>커피빈</td>\n      <td>코리아원주AK플라자점</td>\n      <td>강원도 원주시 봉화로 1</td>\n      <td>127.927626</td>\n      <td>37.345679</td>\n      <td>원주</td>\n    </tr>\n    <tr>\n      <td>3554</td>\n      <td>커피빈</td>\n      <td>곰씨네</td>\n      <td>강원도 춘천시 동내면 춘천순환로 61-15</td>\n      <td>127.751359</td>\n      <td>37.856311</td>\n      <td>춘천</td>\n    </tr>\n    <tr>\n      <td>4630</td>\n      <td>커피빈</td>\n      <td>NaN</td>\n      <td>경기도 이천시 남천로 93</td>\n      <td>127.447687</td>\n      <td>37.276730</td>\n      <td>이천</td>\n    </tr>\n    <tr>\n      <td>4860</td>\n      <td>커피빈</td>\n      <td>코리아수원인계점</td>\n      <td>경기도 수원시 팔달구 권광로 195</td>\n      <td>127.032669</td>\n      <td>37.264938</td>\n      <td>수원 팔달</td>\n    </tr>\n    <tr>\n      <td>...</td>\n      <td>...</td>\n      <td>...</td>\n      <td>...</td>\n      <td>...</td>\n      <td>...</td>\n      <td>...</td>\n    </tr>\n    <tr>\n      <td>102442</td>\n      <td>커피빈</td>\n      <td>파비뇽점</td>\n      <td>충청북도 청주시 흥덕구 월명로 212</td>\n      <td>127.455569</td>\n      <td>36.653705</td>\n      <td>청주 흥덕</td>\n    </tr>\n    <tr>\n      <td>102686</td>\n      <td>커피빈</td>\n      <td>NaN</td>\n      <td>충청북도 제천시 내제로 74</td>\n      <td>128.203104</td>\n      <td>37.136042</td>\n      <td>제천</td>\n    </tr>\n    <tr>\n      <td>103099</td>\n      <td>커피빈</td>\n      <td>코리아청주점</td>\n      <td>충청북도 청주시 상당구 상당로69번길 20</td>\n      <td>127.489295</td>\n      <td>36.634532</td>\n      <td>청주 상당</td>\n    </tr>\n    <tr>\n      <td>103485</td>\n      <td>커피빈</td>\n      <td>NaN</td>\n      <td>충청북도 음성군 금왕읍 무극로 281</td>\n      <td>127.592804</td>\n      <td>36.993018</td>\n      <td>음성</td>\n    </tr>\n    <tr>\n      <td>103671</td>\n      <td>커피빈</td>\n      <td>NaN</td>\n      <td>충청북도 제천시 죽하로 71-3</td>\n      <td>128.224848</td>\n      <td>37.158207</td>\n      <td>제천</td>\n    </tr>\n  </tbody>\n</table>\n<p>762 rows × 6 columns</p>\n</div>"
     },
     "metadata": {},
     "execution_count": 65
    }
   ],
   "source": [
    "bean = pd.concat([bean_kr,bean_kr])\n",
    "bean"
   ]
  },
  {
   "cell_type": "code",
   "execution_count": 66,
   "metadata": {},
   "outputs": [
    {
     "output_type": "execute_result",
     "data": {
      "text/plain": [
       "        ID  개수\n",
       "0       경주   4\n",
       "1    고양 덕양   2\n",
       "2   고양 일산동  10\n",
       "3   고양 일산서  10\n",
       "4    광주 남구   4\n",
       "..     ...  ..\n",
       "94   포항 북구   2\n",
       "95      하남   2\n",
       "96      함안   4\n",
       "97      해남   2\n",
       "98      화성  10\n",
       "\n",
       "[99 rows x 2 columns]"
      ],
      "text/html": "<div>\n<style scoped>\n    .dataframe tbody tr th:only-of-type {\n        vertical-align: middle;\n    }\n\n    .dataframe tbody tr th {\n        vertical-align: top;\n    }\n\n    .dataframe thead th {\n        text-align: right;\n    }\n</style>\n<table border=\"1\" class=\"dataframe\">\n  <thead>\n    <tr style=\"text-align: right;\">\n      <th></th>\n      <th>ID</th>\n      <th>개수</th>\n    </tr>\n  </thead>\n  <tbody>\n    <tr>\n      <td>0</td>\n      <td>경주</td>\n      <td>4</td>\n    </tr>\n    <tr>\n      <td>1</td>\n      <td>고양 덕양</td>\n      <td>2</td>\n    </tr>\n    <tr>\n      <td>2</td>\n      <td>고양 일산동</td>\n      <td>10</td>\n    </tr>\n    <tr>\n      <td>3</td>\n      <td>고양 일산서</td>\n      <td>10</td>\n    </tr>\n    <tr>\n      <td>4</td>\n      <td>광주 남구</td>\n      <td>4</td>\n    </tr>\n    <tr>\n      <td>...</td>\n      <td>...</td>\n      <td>...</td>\n    </tr>\n    <tr>\n      <td>94</td>\n      <td>포항 북구</td>\n      <td>2</td>\n    </tr>\n    <tr>\n      <td>95</td>\n      <td>하남</td>\n      <td>2</td>\n    </tr>\n    <tr>\n      <td>96</td>\n      <td>함안</td>\n      <td>4</td>\n    </tr>\n    <tr>\n      <td>97</td>\n      <td>해남</td>\n      <td>2</td>\n    </tr>\n    <tr>\n      <td>98</td>\n      <td>화성</td>\n      <td>10</td>\n    </tr>\n  </tbody>\n</table>\n<p>99 rows × 2 columns</p>\n</div>"
     },
     "metadata": {},
     "execution_count": 66
    }
   ],
   "source": [
    "bean_count = pd.pivot_table(data = bean,\n",
    "                              index = 'ID',\n",
    "                              values = '상호명',\n",
    "                              aggfunc = 'count')\n",
    "bean_count.rename(columns={\n",
    "    '상호명':'개수'\n",
    "},inplace=True)\n",
    "bean_count.reset_index(inplace=True)\n",
    "bean_count"
   ]
  },
  {
   "source": [
    "## 3. 이디야"
   ],
   "cell_type": "markdown",
   "metadata": {}
  },
  {
   "cell_type": "code",
   "execution_count": 67,
   "metadata": {},
   "outputs": [
    {
     "output_type": "execute_result",
     "data": {
      "text/plain": [
       "(2103, 6)"
      ]
     },
     "metadata": {},
     "execution_count": 67
    }
   ],
   "source": [
    "ediya_kr1 = cafe[cafe['상호명'].str.find('이디야') >= 0]\n",
    "ediya_kr1.shape"
   ]
  },
  {
   "cell_type": "code",
   "execution_count": 68,
   "metadata": {},
   "outputs": [
    {
     "output_type": "execute_result",
     "data": {
      "text/plain": [
       "(120, 6)"
      ]
     },
     "metadata": {},
     "execution_count": 68
    }
   ],
   "source": [
    "ediya_kr2 = cafe[cafe['상호명'].str.find('이디아') >= 0]\n",
    "ediya_kr2.shape"
   ]
  },
  {
   "cell_type": "code",
   "execution_count": 69,
   "metadata": {},
   "outputs": [
    {
     "output_type": "execute_result",
     "data": {
      "text/plain": [
       "(26, 6)"
      ]
     },
     "metadata": {},
     "execution_count": 69
    }
   ],
   "source": [
    "ediya_en = cafe[cafe['상호명'].str.find('ediya') >= 0]\n",
    "ediya_en.shape"
   ]
  },
  {
   "cell_type": "code",
   "execution_count": 70,
   "metadata": {},
   "outputs": [
    {
     "output_type": "execute_result",
     "data": {
      "text/plain": [
       "                상호명     지점명                      도로명주소          경도         위도  \\\n",
       "42            이디야커피    우두동점             강원도 춘천시 충열로 39  127.732714  37.899493   \n",
       "123           이디야커피   철원와수점  강원도 철원군 서면 와수로181번길 25-21  127.438109  38.239147   \n",
       "153           이디야커피    하이원점     강원도 정선군 고한읍 하이원길 265-1  128.827807  37.209488   \n",
       "288        이디야에스프레소     NaN        강원도 춘천시 시청길10번길 4-1  127.728578  37.880075   \n",
       "296           이디야커피  춘천애막골점        강원도 춘천시 후석로186번길 18  127.754289  37.867310   \n",
       "...             ...     ...                        ...         ...        ...   \n",
       "79245       ediya카페     NaN  세종특별자치시 세종특별자치시 한누리대로 283  127.256200  36.489409   \n",
       "80446   ediyacoffee     NaN           울산광역시 남구 도산로 111  129.326996  35.530835   \n",
       "84086   ediyacoffee     NaN         인천광역시 부평구 동암광장로 10  126.702920  37.470990   \n",
       "84106   ediyacoffee     NaN  인천광역시 미추홀구 경인로 129, (숭의동)  126.656702  37.466806   \n",
       "103077  ediyacoffee   충북괴산점       충청북도 괴산군 괴산읍 읍내로 293  127.794483  36.809391   \n",
       "\n",
       "            ID  \n",
       "42          춘천  \n",
       "123         철원  \n",
       "153         정선  \n",
       "288         춘천  \n",
       "296         춘천  \n",
       "...        ...  \n",
       "79245       세종  \n",
       "80446    울산 남구  \n",
       "84086    인천 부평  \n",
       "84106   인천 미추홀  \n",
       "103077      괴산  \n",
       "\n",
       "[2249 rows x 6 columns]"
      ],
      "text/html": "<div>\n<style scoped>\n    .dataframe tbody tr th:only-of-type {\n        vertical-align: middle;\n    }\n\n    .dataframe tbody tr th {\n        vertical-align: top;\n    }\n\n    .dataframe thead th {\n        text-align: right;\n    }\n</style>\n<table border=\"1\" class=\"dataframe\">\n  <thead>\n    <tr style=\"text-align: right;\">\n      <th></th>\n      <th>상호명</th>\n      <th>지점명</th>\n      <th>도로명주소</th>\n      <th>경도</th>\n      <th>위도</th>\n      <th>ID</th>\n    </tr>\n  </thead>\n  <tbody>\n    <tr>\n      <td>42</td>\n      <td>이디야커피</td>\n      <td>우두동점</td>\n      <td>강원도 춘천시 충열로 39</td>\n      <td>127.732714</td>\n      <td>37.899493</td>\n      <td>춘천</td>\n    </tr>\n    <tr>\n      <td>123</td>\n      <td>이디야커피</td>\n      <td>철원와수점</td>\n      <td>강원도 철원군 서면 와수로181번길 25-21</td>\n      <td>127.438109</td>\n      <td>38.239147</td>\n      <td>철원</td>\n    </tr>\n    <tr>\n      <td>153</td>\n      <td>이디야커피</td>\n      <td>하이원점</td>\n      <td>강원도 정선군 고한읍 하이원길 265-1</td>\n      <td>128.827807</td>\n      <td>37.209488</td>\n      <td>정선</td>\n    </tr>\n    <tr>\n      <td>288</td>\n      <td>이디야에스프레소</td>\n      <td>NaN</td>\n      <td>강원도 춘천시 시청길10번길 4-1</td>\n      <td>127.728578</td>\n      <td>37.880075</td>\n      <td>춘천</td>\n    </tr>\n    <tr>\n      <td>296</td>\n      <td>이디야커피</td>\n      <td>춘천애막골점</td>\n      <td>강원도 춘천시 후석로186번길 18</td>\n      <td>127.754289</td>\n      <td>37.867310</td>\n      <td>춘천</td>\n    </tr>\n    <tr>\n      <td>...</td>\n      <td>...</td>\n      <td>...</td>\n      <td>...</td>\n      <td>...</td>\n      <td>...</td>\n      <td>...</td>\n    </tr>\n    <tr>\n      <td>79245</td>\n      <td>ediya카페</td>\n      <td>NaN</td>\n      <td>세종특별자치시 세종특별자치시 한누리대로 283</td>\n      <td>127.256200</td>\n      <td>36.489409</td>\n      <td>세종</td>\n    </tr>\n    <tr>\n      <td>80446</td>\n      <td>ediyacoffee</td>\n      <td>NaN</td>\n      <td>울산광역시 남구 도산로 111</td>\n      <td>129.326996</td>\n      <td>35.530835</td>\n      <td>울산 남구</td>\n    </tr>\n    <tr>\n      <td>84086</td>\n      <td>ediyacoffee</td>\n      <td>NaN</td>\n      <td>인천광역시 부평구 동암광장로 10</td>\n      <td>126.702920</td>\n      <td>37.470990</td>\n      <td>인천 부평</td>\n    </tr>\n    <tr>\n      <td>84106</td>\n      <td>ediyacoffee</td>\n      <td>NaN</td>\n      <td>인천광역시 미추홀구 경인로 129, (숭의동)</td>\n      <td>126.656702</td>\n      <td>37.466806</td>\n      <td>인천 미추홀</td>\n    </tr>\n    <tr>\n      <td>103077</td>\n      <td>ediyacoffee</td>\n      <td>충북괴산점</td>\n      <td>충청북도 괴산군 괴산읍 읍내로 293</td>\n      <td>127.794483</td>\n      <td>36.809391</td>\n      <td>괴산</td>\n    </tr>\n  </tbody>\n</table>\n<p>2249 rows × 6 columns</p>\n</div>"
     },
     "metadata": {},
     "execution_count": 70
    }
   ],
   "source": [
    "ediya = pd.concat([ediya_kr1,ediya_kr2,ediya_en])\n",
    "ediya"
   ]
  },
  {
   "cell_type": "code",
   "execution_count": 71,
   "metadata": {},
   "outputs": [
    {
     "output_type": "execute_result",
     "data": {
      "text/plain": [
       "     ID  개수\n",
       "0    가평   8\n",
       "1    강릉  15\n",
       "2    강진   1\n",
       "3    거제   7\n",
       "4    거창   1\n",
       "..   ..  ..\n",
       "231  홍성   4\n",
       "232  홍천   3\n",
       "233  화성  26\n",
       "234  화천   1\n",
       "235  횡성   1\n",
       "\n",
       "[236 rows x 2 columns]"
      ],
      "text/html": "<div>\n<style scoped>\n    .dataframe tbody tr th:only-of-type {\n        vertical-align: middle;\n    }\n\n    .dataframe tbody tr th {\n        vertical-align: top;\n    }\n\n    .dataframe thead th {\n        text-align: right;\n    }\n</style>\n<table border=\"1\" class=\"dataframe\">\n  <thead>\n    <tr style=\"text-align: right;\">\n      <th></th>\n      <th>ID</th>\n      <th>개수</th>\n    </tr>\n  </thead>\n  <tbody>\n    <tr>\n      <td>0</td>\n      <td>가평</td>\n      <td>8</td>\n    </tr>\n    <tr>\n      <td>1</td>\n      <td>강릉</td>\n      <td>15</td>\n    </tr>\n    <tr>\n      <td>2</td>\n      <td>강진</td>\n      <td>1</td>\n    </tr>\n    <tr>\n      <td>3</td>\n      <td>거제</td>\n      <td>7</td>\n    </tr>\n    <tr>\n      <td>4</td>\n      <td>거창</td>\n      <td>1</td>\n    </tr>\n    <tr>\n      <td>...</td>\n      <td>...</td>\n      <td>...</td>\n    </tr>\n    <tr>\n      <td>231</td>\n      <td>홍성</td>\n      <td>4</td>\n    </tr>\n    <tr>\n      <td>232</td>\n      <td>홍천</td>\n      <td>3</td>\n    </tr>\n    <tr>\n      <td>233</td>\n      <td>화성</td>\n      <td>26</td>\n    </tr>\n    <tr>\n      <td>234</td>\n      <td>화천</td>\n      <td>1</td>\n    </tr>\n    <tr>\n      <td>235</td>\n      <td>횡성</td>\n      <td>1</td>\n    </tr>\n  </tbody>\n</table>\n<p>236 rows × 2 columns</p>\n</div>"
     },
     "metadata": {},
     "execution_count": 71
    }
   ],
   "source": [
    "ediya_count = pd.pivot_table(data = ediya,\n",
    "                              index = 'ID',\n",
    "                              values = '상호명',\n",
    "                              aggfunc = 'count')\n",
    "ediya_count.rename(columns={\n",
    "    '상호명':'개수'\n",
    "},inplace=True)\n",
    "ediya_count.reset_index(inplace=True)\n",
    "ediya_count"
   ]
  },
  {
   "source": [
    "## 4. 빽다방"
   ],
   "cell_type": "markdown",
   "metadata": {}
  },
  {
   "cell_type": "code",
   "execution_count": 72,
   "metadata": {},
   "outputs": [
    {
     "output_type": "execute_result",
     "data": {
      "text/plain": [
       "(497, 6)"
      ]
     },
     "metadata": {},
     "execution_count": 72
    }
   ],
   "source": [
    "paik_kr = cafe[cafe['상호명'].str.find('빽다방') >= 0]\n",
    "paik_kr.shape"
   ]
  },
  {
   "cell_type": "code",
   "execution_count": 73,
   "metadata": {},
   "outputs": [
    {
     "output_type": "execute_result",
     "data": {
      "text/plain": [
       "(2, 6)"
      ]
     },
     "metadata": {},
     "execution_count": 73
    }
   ],
   "source": [
    "paik_en = cafe[cafe['상호명'].str.find('paik') >= 0]\n",
    "paik_en.shape"
   ]
  },
  {
   "cell_type": "code",
   "execution_count": 74,
   "metadata": {},
   "outputs": [
    {
     "output_type": "execute_result",
     "data": {
      "text/plain": [
       "                   상호명       지점명                        도로명주소          경도  \\\n",
       "121                빽다방       NaN           강원도 원주시 무실로12번길 33  127.947781   \n",
       "599                빽다방  춘천석사CGV점               강원도 춘천시 지석로 85  127.744832   \n",
       "677                빽다방     강릉금학점              강원도 강릉시 신대학길 14  128.894954   \n",
       "777                빽다방    삼척대학로점             강원도 삼척시 대학로 23-8  129.163077   \n",
       "1329               빽다방   원주단구GS점          강원도 원주시 남원로534번길 20  127.948675   \n",
       "...                ...       ...                          ...         ...   \n",
       "104824             빽다방   청주지웰시티점          충청북도 청주시 흥덕구 대농로 39  127.426909   \n",
       "105030             빽다방   청주금천광장점      충청북도 청주시 상당구 산성로98번길 35  127.505733   \n",
       "105065             빽다방     청주오송점  충청북도 청주시 흥덕구 오송읍 오송생명5로 179  127.330310   \n",
       "61066   빽다방paikscoffee       NaN          서울특별시 마포구 마포대로4길 16  126.946484   \n",
       "63275      paikscoffee       NaN        서울특별시 송파구 올림픽로35길 104  127.099289   \n",
       "\n",
       "               위도     ID  \n",
       "121     37.350006     원주  \n",
       "599     37.851125     춘천  \n",
       "677     37.752800     강릉  \n",
       "777     37.443281     삼척  \n",
       "1329    37.330389     원주  \n",
       "...           ...    ...  \n",
       "104824  36.642332  청주 흥덕  \n",
       "105030  36.631051  청주 상당  \n",
       "105065  36.630536  청주 흥덕  \n",
       "61066   37.538757  서울 마포  \n",
       "63275   37.519810  서울 송파  \n",
       "\n",
       "[499 rows x 6 columns]"
      ],
      "text/html": "<div>\n<style scoped>\n    .dataframe tbody tr th:only-of-type {\n        vertical-align: middle;\n    }\n\n    .dataframe tbody tr th {\n        vertical-align: top;\n    }\n\n    .dataframe thead th {\n        text-align: right;\n    }\n</style>\n<table border=\"1\" class=\"dataframe\">\n  <thead>\n    <tr style=\"text-align: right;\">\n      <th></th>\n      <th>상호명</th>\n      <th>지점명</th>\n      <th>도로명주소</th>\n      <th>경도</th>\n      <th>위도</th>\n      <th>ID</th>\n    </tr>\n  </thead>\n  <tbody>\n    <tr>\n      <td>121</td>\n      <td>빽다방</td>\n      <td>NaN</td>\n      <td>강원도 원주시 무실로12번길 33</td>\n      <td>127.947781</td>\n      <td>37.350006</td>\n      <td>원주</td>\n    </tr>\n    <tr>\n      <td>599</td>\n      <td>빽다방</td>\n      <td>춘천석사CGV점</td>\n      <td>강원도 춘천시 지석로 85</td>\n      <td>127.744832</td>\n      <td>37.851125</td>\n      <td>춘천</td>\n    </tr>\n    <tr>\n      <td>677</td>\n      <td>빽다방</td>\n      <td>강릉금학점</td>\n      <td>강원도 강릉시 신대학길 14</td>\n      <td>128.894954</td>\n      <td>37.752800</td>\n      <td>강릉</td>\n    </tr>\n    <tr>\n      <td>777</td>\n      <td>빽다방</td>\n      <td>삼척대학로점</td>\n      <td>강원도 삼척시 대학로 23-8</td>\n      <td>129.163077</td>\n      <td>37.443281</td>\n      <td>삼척</td>\n    </tr>\n    <tr>\n      <td>1329</td>\n      <td>빽다방</td>\n      <td>원주단구GS점</td>\n      <td>강원도 원주시 남원로534번길 20</td>\n      <td>127.948675</td>\n      <td>37.330389</td>\n      <td>원주</td>\n    </tr>\n    <tr>\n      <td>...</td>\n      <td>...</td>\n      <td>...</td>\n      <td>...</td>\n      <td>...</td>\n      <td>...</td>\n      <td>...</td>\n    </tr>\n    <tr>\n      <td>104824</td>\n      <td>빽다방</td>\n      <td>청주지웰시티점</td>\n      <td>충청북도 청주시 흥덕구 대농로 39</td>\n      <td>127.426909</td>\n      <td>36.642332</td>\n      <td>청주 흥덕</td>\n    </tr>\n    <tr>\n      <td>105030</td>\n      <td>빽다방</td>\n      <td>청주금천광장점</td>\n      <td>충청북도 청주시 상당구 산성로98번길 35</td>\n      <td>127.505733</td>\n      <td>36.631051</td>\n      <td>청주 상당</td>\n    </tr>\n    <tr>\n      <td>105065</td>\n      <td>빽다방</td>\n      <td>청주오송점</td>\n      <td>충청북도 청주시 흥덕구 오송읍 오송생명5로 179</td>\n      <td>127.330310</td>\n      <td>36.630536</td>\n      <td>청주 흥덕</td>\n    </tr>\n    <tr>\n      <td>61066</td>\n      <td>빽다방paikscoffee</td>\n      <td>NaN</td>\n      <td>서울특별시 마포구 마포대로4길 16</td>\n      <td>126.946484</td>\n      <td>37.538757</td>\n      <td>서울 마포</td>\n    </tr>\n    <tr>\n      <td>63275</td>\n      <td>paikscoffee</td>\n      <td>NaN</td>\n      <td>서울특별시 송파구 올림픽로35길 104</td>\n      <td>127.099289</td>\n      <td>37.519810</td>\n      <td>서울 송파</td>\n    </tr>\n  </tbody>\n</table>\n<p>499 rows × 6 columns</p>\n</div>"
     },
     "metadata": {},
     "execution_count": 74
    }
   ],
   "source": [
    "paik = pd.concat([paik_kr,paik_en])\n",
    "paik"
   ]
  },
  {
   "cell_type": "code",
   "execution_count": 75,
   "metadata": {},
   "outputs": [
    {
     "output_type": "execute_result",
     "data": {
      "text/plain": [
       "         ID  개수\n",
       "0        강릉   2\n",
       "1        거창   1\n",
       "2        경산   3\n",
       "3        경주   2\n",
       "4    고성(경남)   2\n",
       "..      ...  ..\n",
       "142   포항 북구   2\n",
       "143      하남   1\n",
       "144      홍성   2\n",
       "145      홍천   1\n",
       "146      화성  11\n",
       "\n",
       "[147 rows x 2 columns]"
      ],
      "text/html": "<div>\n<style scoped>\n    .dataframe tbody tr th:only-of-type {\n        vertical-align: middle;\n    }\n\n    .dataframe tbody tr th {\n        vertical-align: top;\n    }\n\n    .dataframe thead th {\n        text-align: right;\n    }\n</style>\n<table border=\"1\" class=\"dataframe\">\n  <thead>\n    <tr style=\"text-align: right;\">\n      <th></th>\n      <th>ID</th>\n      <th>개수</th>\n    </tr>\n  </thead>\n  <tbody>\n    <tr>\n      <td>0</td>\n      <td>강릉</td>\n      <td>2</td>\n    </tr>\n    <tr>\n      <td>1</td>\n      <td>거창</td>\n      <td>1</td>\n    </tr>\n    <tr>\n      <td>2</td>\n      <td>경산</td>\n      <td>3</td>\n    </tr>\n    <tr>\n      <td>3</td>\n      <td>경주</td>\n      <td>2</td>\n    </tr>\n    <tr>\n      <td>4</td>\n      <td>고성(경남)</td>\n      <td>2</td>\n    </tr>\n    <tr>\n      <td>...</td>\n      <td>...</td>\n      <td>...</td>\n    </tr>\n    <tr>\n      <td>142</td>\n      <td>포항 북구</td>\n      <td>2</td>\n    </tr>\n    <tr>\n      <td>143</td>\n      <td>하남</td>\n      <td>1</td>\n    </tr>\n    <tr>\n      <td>144</td>\n      <td>홍성</td>\n      <td>2</td>\n    </tr>\n    <tr>\n      <td>145</td>\n      <td>홍천</td>\n      <td>1</td>\n    </tr>\n    <tr>\n      <td>146</td>\n      <td>화성</td>\n      <td>11</td>\n    </tr>\n  </tbody>\n</table>\n<p>147 rows × 2 columns</p>\n</div>"
     },
     "metadata": {},
     "execution_count": 75
    }
   ],
   "source": [
    "paik_count = pd.pivot_table(data = paik,\n",
    "                              index = 'ID',\n",
    "                              values = '상호명',\n",
    "                              aggfunc = 'count')\n",
    "paik_count.rename(columns={\n",
    "    '상호명':'개수'\n",
    "},inplace=True)\n",
    "paik_count.reset_index(inplace=True)\n",
    "paik_count"
   ]
  },
  {
   "source": [
    "# 커피 지수\n",
    "- (스타벅스 + 커피빈) / (이디야 + 빽다방)"
   ],
   "cell_type": "markdown",
   "metadata": {}
  },
  {
   "source": [
    "## 여러개의 DF을 한 번에 Join하기\n",
    "- 이 방식은 행 이름이 중복되어서 들어감... 행 이름 바꿀 때 문제발생"
   ],
   "cell_type": "markdown",
   "metadata": {}
  },
  {
   "cell_type": "code",
   "execution_count": 76,
   "metadata": {},
   "outputs": [
    {
     "output_type": "execute_result",
     "data": {
      "text/plain": [
       "    개수_x  개수_y  개수_x  개수_y\n",
       "ID                        \n",
       "강릉   5.0   0.0  15.0   2.0\n",
       "거제   5.0   0.0   7.0   0.0\n",
       "경산   8.0   0.0   9.0   3.0\n",
       "경주   8.0   4.0  25.0   2.0\n",
       "계룡   1.0   0.0   1.0   0.0\n",
       "..   ...   ...   ...   ...\n",
       "합천   0.0   0.0   1.0   0.0\n",
       "홍성   0.0   0.0   4.0   2.0\n",
       "화천   0.0   0.0   1.0   0.0\n",
       "횡성   0.0   0.0   1.0   0.0\n",
       "예천   0.0   0.0   0.0   1.0\n",
       "\n",
       "[241 rows x 4 columns]"
      ],
      "text/html": "<div>\n<style scoped>\n    .dataframe tbody tr th:only-of-type {\n        vertical-align: middle;\n    }\n\n    .dataframe tbody tr th {\n        vertical-align: top;\n    }\n\n    .dataframe thead th {\n        text-align: right;\n    }\n</style>\n<table border=\"1\" class=\"dataframe\">\n  <thead>\n    <tr style=\"text-align: right;\">\n      <th></th>\n      <th>개수_x</th>\n      <th>개수_y</th>\n      <th>개수_x</th>\n      <th>개수_y</th>\n    </tr>\n    <tr>\n      <th>ID</th>\n      <th></th>\n      <th></th>\n      <th></th>\n      <th></th>\n    </tr>\n  </thead>\n  <tbody>\n    <tr>\n      <td>강릉</td>\n      <td>5.0</td>\n      <td>0.0</td>\n      <td>15.0</td>\n      <td>2.0</td>\n    </tr>\n    <tr>\n      <td>거제</td>\n      <td>5.0</td>\n      <td>0.0</td>\n      <td>7.0</td>\n      <td>0.0</td>\n    </tr>\n    <tr>\n      <td>경산</td>\n      <td>8.0</td>\n      <td>0.0</td>\n      <td>9.0</td>\n      <td>3.0</td>\n    </tr>\n    <tr>\n      <td>경주</td>\n      <td>8.0</td>\n      <td>4.0</td>\n      <td>25.0</td>\n      <td>2.0</td>\n    </tr>\n    <tr>\n      <td>계룡</td>\n      <td>1.0</td>\n      <td>0.0</td>\n      <td>1.0</td>\n      <td>0.0</td>\n    </tr>\n    <tr>\n      <td>...</td>\n      <td>...</td>\n      <td>...</td>\n      <td>...</td>\n      <td>...</td>\n    </tr>\n    <tr>\n      <td>합천</td>\n      <td>0.0</td>\n      <td>0.0</td>\n      <td>1.0</td>\n      <td>0.0</td>\n    </tr>\n    <tr>\n      <td>홍성</td>\n      <td>0.0</td>\n      <td>0.0</td>\n      <td>4.0</td>\n      <td>2.0</td>\n    </tr>\n    <tr>\n      <td>화천</td>\n      <td>0.0</td>\n      <td>0.0</td>\n      <td>1.0</td>\n      <td>0.0</td>\n    </tr>\n    <tr>\n      <td>횡성</td>\n      <td>0.0</td>\n      <td>0.0</td>\n      <td>1.0</td>\n      <td>0.0</td>\n    </tr>\n    <tr>\n      <td>예천</td>\n      <td>0.0</td>\n      <td>0.0</td>\n      <td>0.0</td>\n      <td>1.0</td>\n    </tr>\n  </tbody>\n</table>\n<p>241 rows × 4 columns</p>\n</div>"
     },
     "metadata": {},
     "execution_count": 76
    }
   ],
   "source": [
    "from functools import reduce\n",
    "dfs = [star_count, bean_count, ediya_count, paik_count]\n",
    "# on = 'ID' 으로만 하면 교집합이 되어 버려서 몇 도시가 탈락된다.\n",
    "CoffeeIndex = reduce(lambda left, right: pd.merge(left, right, how='outer', on='ID'), dfs)\n",
    "CoffeeIndex = CoffeeIndex.fillna(0)\n",
    "CoffeeIndex.set_index('ID',inplace=True)\n",
    "CoffeeIndex"
   ]
  },
  {
   "cell_type": "code",
   "execution_count": 89,
   "metadata": {},
   "outputs": [
    {
     "output_type": "execute_result",
     "data": {
      "text/plain": [
       "array([False, False, False, False, False, False, False, False, False,\n",
       "       False, False, False, False, False, False, False, False, False,\n",
       "       False, False, False, False, False, False, False, False, False,\n",
       "       False, False, False, False, False, False, False, False, False,\n",
       "       False, False, False, False, False, False, False, False, False,\n",
       "       False, False, False, False, False, False, False, False, False,\n",
       "       False, False, False, False, False, False, False, False, False,\n",
       "       False, False, False, False, False, False, False, False, False,\n",
       "       False, False, False, False, False, False, False, False, False,\n",
       "       False, False, False, False, False, False, False, False, False,\n",
       "       False, False, False, False, False, False, False, False, False,\n",
       "       False, False, False, False, False, False, False, False, False,\n",
       "       False, False, False, False, False, False, False, False, False,\n",
       "       False, False, False, False, False, False, False, False, False,\n",
       "       False, False, False, False, False, False, False, False, False,\n",
       "       False, False, False, False, False, False, False, False, False,\n",
       "       False, False, False, False, False, False, False, False, False,\n",
       "       False, False, False, False, False, False, False, False, False,\n",
       "       False, False, False, False, False, False, False, False, False,\n",
       "       False, False, False, False, False, False, False, False, False,\n",
       "       False, False, False, False, False, False, False, False, False,\n",
       "       False, False, False, False, False, False, False, False, False,\n",
       "       False, False, False, False, False, False, False, False, False,\n",
       "       False, False, False, False, False, False, False, False, False,\n",
       "       False, False, False, False, False, False, False, False, False,\n",
       "       False, False, False, False, False, False, False, False, False,\n",
       "       False, False, False, False, False, False, False])"
      ]
     },
     "metadata": {},
     "execution_count": 89
    }
   ],
   "source": [
    "CoffeeIndex.index.str.find('영월') >= 0"
   ]
  },
  {
   "cell_type": "code",
   "execution_count": 77,
   "metadata": {},
   "outputs": [
    {
     "output_type": "execute_result",
     "data": {
      "text/plain": [
       "Index(['개수_x', '개수_y', '개수_x', '개수_y'], dtype='object')"
      ]
     },
     "metadata": {},
     "execution_count": 77
    }
   ],
   "source": [
    "CoffeeIndex.columns"
   ]
  },
  {
   "cell_type": "code",
   "execution_count": 78,
   "metadata": {},
   "outputs": [],
   "source": [
    "CoffeeIndex.rename(columns={\n",
    "    CoffeeIndex.columns[0]:'스타벅스',\n",
    "    CoffeeIndex.columns[1]:'커피빈'\n",
    "},inplace=True)\n",
    "CoffeeIndex1 = CoffeeIndex.iloc[:,:2]"
   ]
  },
  {
   "cell_type": "code",
   "execution_count": 79,
   "metadata": {},
   "outputs": [],
   "source": [
    "CoffeeIndex.rename(columns={\n",
    "    CoffeeIndex.columns[2]:'이디야',\n",
    "    CoffeeIndex.columns[3]:'빽다방'\n",
    "},inplace=True)\n",
    "CoffeeIndex2 = CoffeeIndex.iloc[:,2:]"
   ]
  },
  {
   "cell_type": "code",
   "execution_count": 80,
   "metadata": {},
   "outputs": [
    {
     "output_type": "execute_result",
     "data": {
      "text/plain": [
       "    스타벅스  커피빈   이디야  빽다방\n",
       "ID                      \n",
       "강릉   5.0  0.0  15.0  2.0\n",
       "거제   5.0  0.0   7.0  0.0\n",
       "경산   8.0  0.0   9.0  3.0\n",
       "경주   8.0  4.0  25.0  2.0\n",
       "계룡   1.0  0.0   1.0  0.0\n",
       "..   ...  ...   ...  ...\n",
       "합천   0.0  0.0   1.0  0.0\n",
       "홍성   0.0  0.0   4.0  2.0\n",
       "화천   0.0  0.0   1.0  0.0\n",
       "횡성   0.0  0.0   1.0  0.0\n",
       "예천   0.0  0.0   0.0  1.0\n",
       "\n",
       "[241 rows x 4 columns]"
      ],
      "text/html": "<div>\n<style scoped>\n    .dataframe tbody tr th:only-of-type {\n        vertical-align: middle;\n    }\n\n    .dataframe tbody tr th {\n        vertical-align: top;\n    }\n\n    .dataframe thead th {\n        text-align: right;\n    }\n</style>\n<table border=\"1\" class=\"dataframe\">\n  <thead>\n    <tr style=\"text-align: right;\">\n      <th></th>\n      <th>스타벅스</th>\n      <th>커피빈</th>\n      <th>이디야</th>\n      <th>빽다방</th>\n    </tr>\n    <tr>\n      <th>ID</th>\n      <th></th>\n      <th></th>\n      <th></th>\n      <th></th>\n    </tr>\n  </thead>\n  <tbody>\n    <tr>\n      <td>강릉</td>\n      <td>5.0</td>\n      <td>0.0</td>\n      <td>15.0</td>\n      <td>2.0</td>\n    </tr>\n    <tr>\n      <td>거제</td>\n      <td>5.0</td>\n      <td>0.0</td>\n      <td>7.0</td>\n      <td>0.0</td>\n    </tr>\n    <tr>\n      <td>경산</td>\n      <td>8.0</td>\n      <td>0.0</td>\n      <td>9.0</td>\n      <td>3.0</td>\n    </tr>\n    <tr>\n      <td>경주</td>\n      <td>8.0</td>\n      <td>4.0</td>\n      <td>25.0</td>\n      <td>2.0</td>\n    </tr>\n    <tr>\n      <td>계룡</td>\n      <td>1.0</td>\n      <td>0.0</td>\n      <td>1.0</td>\n      <td>0.0</td>\n    </tr>\n    <tr>\n      <td>...</td>\n      <td>...</td>\n      <td>...</td>\n      <td>...</td>\n      <td>...</td>\n    </tr>\n    <tr>\n      <td>합천</td>\n      <td>0.0</td>\n      <td>0.0</td>\n      <td>1.0</td>\n      <td>0.0</td>\n    </tr>\n    <tr>\n      <td>홍성</td>\n      <td>0.0</td>\n      <td>0.0</td>\n      <td>4.0</td>\n      <td>2.0</td>\n    </tr>\n    <tr>\n      <td>화천</td>\n      <td>0.0</td>\n      <td>0.0</td>\n      <td>1.0</td>\n      <td>0.0</td>\n    </tr>\n    <tr>\n      <td>횡성</td>\n      <td>0.0</td>\n      <td>0.0</td>\n      <td>1.0</td>\n      <td>0.0</td>\n    </tr>\n    <tr>\n      <td>예천</td>\n      <td>0.0</td>\n      <td>0.0</td>\n      <td>0.0</td>\n      <td>1.0</td>\n    </tr>\n  </tbody>\n</table>\n<p>241 rows × 4 columns</p>\n</div>"
     },
     "metadata": {},
     "execution_count": 80
    }
   ],
   "source": [
    "CoffeeIndex = pd.concat([CoffeeIndex1,CoffeeIndex2],axis=1)\n",
    "CoffeeIndex"
   ]
  },
  {
   "cell_type": "code",
   "execution_count": 81,
   "metadata": {},
   "outputs": [],
   "source": [
    "CoffeeIndex['커피지수'] = np.round((CoffeeIndex['스타벅스'] + CoffeeIndex['커피빈']) / (CoffeeIndex['이디야'] + CoffeeIndex['빽다방']),4)"
   ]
  },
  {
   "cell_type": "code",
   "execution_count": 82,
   "metadata": {},
   "outputs": [
    {
     "output_type": "execute_result",
     "data": {
      "text/plain": [
       "    스타벅스  커피빈   이디야  빽다방    커피지수\n",
       "ID                              \n",
       "강릉   5.0  0.0  15.0  2.0  0.2941\n",
       "거제   5.0  0.0   7.0  0.0  0.7143\n",
       "경산   8.0  0.0   9.0  3.0  0.6667\n",
       "경주   8.0  4.0  25.0  2.0  0.4444\n",
       "계룡   1.0  0.0   1.0  0.0  1.0000\n",
       "..   ...  ...   ...  ...     ...\n",
       "합천   0.0  0.0   1.0  0.0  0.0000\n",
       "홍성   0.0  0.0   4.0  2.0  0.0000\n",
       "화천   0.0  0.0   1.0  0.0  0.0000\n",
       "횡성   0.0  0.0   1.0  0.0  0.0000\n",
       "예천   0.0  0.0   0.0  1.0  0.0000\n",
       "\n",
       "[241 rows x 5 columns]"
      ],
      "text/html": "<div>\n<style scoped>\n    .dataframe tbody tr th:only-of-type {\n        vertical-align: middle;\n    }\n\n    .dataframe tbody tr th {\n        vertical-align: top;\n    }\n\n    .dataframe thead th {\n        text-align: right;\n    }\n</style>\n<table border=\"1\" class=\"dataframe\">\n  <thead>\n    <tr style=\"text-align: right;\">\n      <th></th>\n      <th>스타벅스</th>\n      <th>커피빈</th>\n      <th>이디야</th>\n      <th>빽다방</th>\n      <th>커피지수</th>\n    </tr>\n    <tr>\n      <th>ID</th>\n      <th></th>\n      <th></th>\n      <th></th>\n      <th></th>\n      <th></th>\n    </tr>\n  </thead>\n  <tbody>\n    <tr>\n      <td>강릉</td>\n      <td>5.0</td>\n      <td>0.0</td>\n      <td>15.0</td>\n      <td>2.0</td>\n      <td>0.2941</td>\n    </tr>\n    <tr>\n      <td>거제</td>\n      <td>5.0</td>\n      <td>0.0</td>\n      <td>7.0</td>\n      <td>0.0</td>\n      <td>0.7143</td>\n    </tr>\n    <tr>\n      <td>경산</td>\n      <td>8.0</td>\n      <td>0.0</td>\n      <td>9.0</td>\n      <td>3.0</td>\n      <td>0.6667</td>\n    </tr>\n    <tr>\n      <td>경주</td>\n      <td>8.0</td>\n      <td>4.0</td>\n      <td>25.0</td>\n      <td>2.0</td>\n      <td>0.4444</td>\n    </tr>\n    <tr>\n      <td>계룡</td>\n      <td>1.0</td>\n      <td>0.0</td>\n      <td>1.0</td>\n      <td>0.0</td>\n      <td>1.0000</td>\n    </tr>\n    <tr>\n      <td>...</td>\n      <td>...</td>\n      <td>...</td>\n      <td>...</td>\n      <td>...</td>\n      <td>...</td>\n    </tr>\n    <tr>\n      <td>합천</td>\n      <td>0.0</td>\n      <td>0.0</td>\n      <td>1.0</td>\n      <td>0.0</td>\n      <td>0.0000</td>\n    </tr>\n    <tr>\n      <td>홍성</td>\n      <td>0.0</td>\n      <td>0.0</td>\n      <td>4.0</td>\n      <td>2.0</td>\n      <td>0.0000</td>\n    </tr>\n    <tr>\n      <td>화천</td>\n      <td>0.0</td>\n      <td>0.0</td>\n      <td>1.0</td>\n      <td>0.0</td>\n      <td>0.0000</td>\n    </tr>\n    <tr>\n      <td>횡성</td>\n      <td>0.0</td>\n      <td>0.0</td>\n      <td>1.0</td>\n      <td>0.0</td>\n      <td>0.0000</td>\n    </tr>\n    <tr>\n      <td>예천</td>\n      <td>0.0</td>\n      <td>0.0</td>\n      <td>0.0</td>\n      <td>1.0</td>\n      <td>0.0000</td>\n    </tr>\n  </tbody>\n</table>\n<p>241 rows × 5 columns</p>\n</div>"
     },
     "metadata": {},
     "execution_count": 82
    }
   ],
   "source": [
    "CoffeeIndex"
   ]
  },
  {
   "source": [
    "# 무한대 처리\n",
    "- 이디야, 빽다방이 하나도 없는 지역은 0으로 나누었기 때문에 값이 inf로 나온다.\n",
    "- 무한대 값 inf는 np.inf로"
   ],
   "cell_type": "markdown",
   "metadata": {}
  },
  {
   "cell_type": "code",
   "execution_count": 83,
   "metadata": {},
   "outputs": [
    {
     "output_type": "execute_result",
     "data": {
      "text/plain": [
       "    스타벅스  커피빈  이디야  빽다방  커피지수\n",
       "ID                           \n",
       "영양   1.0  0.0  0.0  0.0   inf\n",
       "청양   1.0  0.0  0.0  0.0   inf\n",
       "하동   1.0  0.0  0.0  0.0   inf\n",
       "금산   0.0  2.0  0.0  0.0   inf"
      ],
      "text/html": "<div>\n<style scoped>\n    .dataframe tbody tr th:only-of-type {\n        vertical-align: middle;\n    }\n\n    .dataframe tbody tr th {\n        vertical-align: top;\n    }\n\n    .dataframe thead th {\n        text-align: right;\n    }\n</style>\n<table border=\"1\" class=\"dataframe\">\n  <thead>\n    <tr style=\"text-align: right;\">\n      <th></th>\n      <th>스타벅스</th>\n      <th>커피빈</th>\n      <th>이디야</th>\n      <th>빽다방</th>\n      <th>커피지수</th>\n    </tr>\n    <tr>\n      <th>ID</th>\n      <th></th>\n      <th></th>\n      <th></th>\n      <th></th>\n      <th></th>\n    </tr>\n  </thead>\n  <tbody>\n    <tr>\n      <td>영양</td>\n      <td>1.0</td>\n      <td>0.0</td>\n      <td>0.0</td>\n      <td>0.0</td>\n      <td>inf</td>\n    </tr>\n    <tr>\n      <td>청양</td>\n      <td>1.0</td>\n      <td>0.0</td>\n      <td>0.0</td>\n      <td>0.0</td>\n      <td>inf</td>\n    </tr>\n    <tr>\n      <td>하동</td>\n      <td>1.0</td>\n      <td>0.0</td>\n      <td>0.0</td>\n      <td>0.0</td>\n      <td>inf</td>\n    </tr>\n    <tr>\n      <td>금산</td>\n      <td>0.0</td>\n      <td>2.0</td>\n      <td>0.0</td>\n      <td>0.0</td>\n      <td>inf</td>\n    </tr>\n  </tbody>\n</table>\n</div>"
     },
     "metadata": {},
     "execution_count": 83
    }
   ],
   "source": [
    "CoffeeIndex[CoffeeIndex['커피지수']==np.inf]"
   ]
  },
  {
   "source": [
    "- np.inf, -np.inf값을 np.nan으로 바꾼 후 0으로 다시 바꿈"
   ],
   "cell_type": "markdown",
   "metadata": {}
  },
  {
   "cell_type": "code",
   "execution_count": 84,
   "metadata": {},
   "outputs": [],
   "source": [
    "CoffeeIndex = CoffeeIndex.replace([np.inf, -np.inf],np.nan).fillna(0)"
   ]
  },
  {
   "cell_type": "code",
   "execution_count": 85,
   "metadata": {},
   "outputs": [
    {
     "output_type": "execute_result",
     "data": {
      "text/plain": [
       "    스타벅스  커피빈  이디야  빽다방  커피지수\n",
       "ID                           \n",
       "제주  13.0  0.0  6.0  4.0   1.3"
      ],
      "text/html": "<div>\n<style scoped>\n    .dataframe tbody tr th:only-of-type {\n        vertical-align: middle;\n    }\n\n    .dataframe tbody tr th {\n        vertical-align: top;\n    }\n\n    .dataframe thead th {\n        text-align: right;\n    }\n</style>\n<table border=\"1\" class=\"dataframe\">\n  <thead>\n    <tr style=\"text-align: right;\">\n      <th></th>\n      <th>스타벅스</th>\n      <th>커피빈</th>\n      <th>이디야</th>\n      <th>빽다방</th>\n      <th>커피지수</th>\n    </tr>\n    <tr>\n      <th>ID</th>\n      <th></th>\n      <th></th>\n      <th></th>\n      <th></th>\n      <th></th>\n    </tr>\n  </thead>\n  <tbody>\n    <tr>\n      <td>제주</td>\n      <td>13.0</td>\n      <td>0.0</td>\n      <td>6.0</td>\n      <td>4.0</td>\n      <td>1.3</td>\n    </tr>\n  </tbody>\n</table>\n</div>"
     },
     "metadata": {},
     "execution_count": 85
    }
   ],
   "source": [
    "CoffeeIndex[CoffeeIndex.index.str.find('제주') >= 0]"
   ]
  },
  {
   "cell_type": "code",
   "execution_count": 86,
   "metadata": {},
   "outputs": [],
   "source": [
    "CoffeeIndex.to_csv('./result/전국 커피 지수.csv',sep=',',encoding='utf8')"
   ]
  }
 ]
}