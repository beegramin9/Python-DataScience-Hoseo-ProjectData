{
 "metadata": {
  "language_info": {
   "codemirror_mode": {
    "name": "ipython",
    "version": 3
   },
   "file_extension": ".py",
   "mimetype": "text/x-python",
   "name": "python",
   "nbconvert_exporter": "python",
   "pygments_lexer": "ipython3",
   "version": "3.7.4-final"
  },
  "orig_nbformat": 2,
  "kernelspec": {
   "name": "python3",
   "display_name": "Python 3"
  }
 },
 "nbformat": 4,
 "nbformat_minor": 2,
 "cells": [
  {
   "cell_type": "code",
   "execution_count": 38,
   "metadata": {},
   "outputs": [],
   "source": [
    "import pandas as pd\n",
    "import numpy as np\n",
    "from tqdm import tqdm"
   ]
  },
  {
   "cell_type": "code",
   "execution_count": 2,
   "metadata": {},
   "outputs": [
    {
     "output_type": "execute_result",
     "data": {
      "text/plain": [
       "     상가업소번호            상호명         지점명 상권업종대분류코드 상권업종대분류명 상권업종중분류코드 상권업종중분류명  \\\n",
       "0  19911397  커피빈코리아선릉로93길점  코리아선릉로93길점         Q       음식       Q12   커피점/카페   \n",
       "1  19911801           프로포즈         NaN         Q       음식       Q09     유흥주점   \n",
       "\n",
       "  상권업종소분류코드     상권업종소분류명 표준산업분류코드  ...                     건물관리번호  건물명  \\\n",
       "0    Q12A01  커피전문점/카페/다방   I56220  ...  1168010100106960042022041  NaN   \n",
       "1    Q09A01        호프/맥주   I56219  ...  1154510200101620001017748  NaN   \n",
       "\n",
       "                도로명주소   구우편번호   신우편번호  동정보 층정보  호정보          경도         위도  \n",
       "0  서울특별시 강남구 선릉로93길 6  135080  6149.0  NaN   1  NaN  127.047883  37.505675  \n",
       "1  서울특별시 금천구 가산로 34-6  153010  8545.0  NaN   1  NaN  126.899220  37.471711  \n",
       "\n",
       "[2 rows x 39 columns]"
      ],
      "text/html": "<div>\n<style scoped>\n    .dataframe tbody tr th:only-of-type {\n        vertical-align: middle;\n    }\n\n    .dataframe tbody tr th {\n        vertical-align: top;\n    }\n\n    .dataframe thead th {\n        text-align: right;\n    }\n</style>\n<table border=\"1\" class=\"dataframe\">\n  <thead>\n    <tr style=\"text-align: right;\">\n      <th></th>\n      <th>상가업소번호</th>\n      <th>상호명</th>\n      <th>지점명</th>\n      <th>상권업종대분류코드</th>\n      <th>상권업종대분류명</th>\n      <th>상권업종중분류코드</th>\n      <th>상권업종중분류명</th>\n      <th>상권업종소분류코드</th>\n      <th>상권업종소분류명</th>\n      <th>표준산업분류코드</th>\n      <th>...</th>\n      <th>건물관리번호</th>\n      <th>건물명</th>\n      <th>도로명주소</th>\n      <th>구우편번호</th>\n      <th>신우편번호</th>\n      <th>동정보</th>\n      <th>층정보</th>\n      <th>호정보</th>\n      <th>경도</th>\n      <th>위도</th>\n    </tr>\n  </thead>\n  <tbody>\n    <tr>\n      <td>0</td>\n      <td>19911397</td>\n      <td>커피빈코리아선릉로93길점</td>\n      <td>코리아선릉로93길점</td>\n      <td>Q</td>\n      <td>음식</td>\n      <td>Q12</td>\n      <td>커피점/카페</td>\n      <td>Q12A01</td>\n      <td>커피전문점/카페/다방</td>\n      <td>I56220</td>\n      <td>...</td>\n      <td>1168010100106960042022041</td>\n      <td>NaN</td>\n      <td>서울특별시 강남구 선릉로93길 6</td>\n      <td>135080</td>\n      <td>6149.0</td>\n      <td>NaN</td>\n      <td>1</td>\n      <td>NaN</td>\n      <td>127.047883</td>\n      <td>37.505675</td>\n    </tr>\n    <tr>\n      <td>1</td>\n      <td>19911801</td>\n      <td>프로포즈</td>\n      <td>NaN</td>\n      <td>Q</td>\n      <td>음식</td>\n      <td>Q09</td>\n      <td>유흥주점</td>\n      <td>Q09A01</td>\n      <td>호프/맥주</td>\n      <td>I56219</td>\n      <td>...</td>\n      <td>1154510200101620001017748</td>\n      <td>NaN</td>\n      <td>서울특별시 금천구 가산로 34-6</td>\n      <td>153010</td>\n      <td>8545.0</td>\n      <td>NaN</td>\n      <td>1</td>\n      <td>NaN</td>\n      <td>126.899220</td>\n      <td>37.471711</td>\n    </tr>\n  </tbody>\n</table>\n<p>2 rows × 39 columns</p>\n</div>"
     },
     "metadata": {},
     "execution_count": 2
    }
   ],
   "source": [
    "seoul = pd.read_csv('./source/소상공인시장진흥공단_상가(상권)정보_서울_202009.csv', sep='|',encoding='utf-8')\n",
    "seoul.head(2)"
   ]
  },
  {
   "cell_type": "code",
   "execution_count": 3,
   "metadata": {},
   "outputs": [
    {
     "output_type": "execute_result",
     "data": {
      "text/plain": [
       "Index(['상가업소번호', '상호명', '지점명', '상권업종대분류코드', '상권업종대분류명', '상권업종중분류코드',\n",
       "       '상권업종중분류명', '상권업종소분류코드', '상권업종소분류명', '표준산업분류코드', '표준산업분류명', '시도코드',\n",
       "       '시도명', '시군구코드', '시군구명', '행정동코드', '행정동명', '법정동코드', '법정동명', '지번코드',\n",
       "       '대지구분코드', '대지구분명', '지번본번지', '지번부번지', '지번주소', '도로명코드', '도로명', '건물본번지',\n",
       "       '건물부번지', '건물관리번호', '건물명', '도로명주소', '구우편번호', '신우편번호', '동정보', '층정보',\n",
       "       '호정보', '경도', '위도'],\n",
       "      dtype='object')"
      ]
     },
     "metadata": {},
     "execution_count": 3
    }
   ],
   "source": [
    "seoul.columns"
   ]
  },
  {
   "cell_type": "code",
   "execution_count": 4,
   "metadata": {},
   "outputs": [
    {
     "output_type": "execute_result",
     "data": {
      "text/plain": [
       "             상호명         지점명    시도명  시군구명                    도로명주소  \\\n",
       "0  커피빈코리아선릉로93길점  코리아선릉로93길점  서울특별시   강남구       서울특별시 강남구 선릉로93길 6   \n",
       "4   고려대학교교육관쎄리오점         NaN  서울특별시   성북구        서울특별시 성북구 안암로 145   \n",
       "7          스완카페트         NaN  서울특별시  영등포구  서울특별시 영등포구 도신로10가길 11-1   \n",
       "\n",
       "           경도         위도  \n",
       "0  127.047883  37.505675  \n",
       "4  127.031702  37.588485  \n",
       "7  126.897710  37.503693  "
      ],
      "text/html": "<div>\n<style scoped>\n    .dataframe tbody tr th:only-of-type {\n        vertical-align: middle;\n    }\n\n    .dataframe tbody tr th {\n        vertical-align: top;\n    }\n\n    .dataframe thead th {\n        text-align: right;\n    }\n</style>\n<table border=\"1\" class=\"dataframe\">\n  <thead>\n    <tr style=\"text-align: right;\">\n      <th></th>\n      <th>상호명</th>\n      <th>지점명</th>\n      <th>시도명</th>\n      <th>시군구명</th>\n      <th>도로명주소</th>\n      <th>경도</th>\n      <th>위도</th>\n    </tr>\n  </thead>\n  <tbody>\n    <tr>\n      <td>0</td>\n      <td>커피빈코리아선릉로93길점</td>\n      <td>코리아선릉로93길점</td>\n      <td>서울특별시</td>\n      <td>강남구</td>\n      <td>서울특별시 강남구 선릉로93길 6</td>\n      <td>127.047883</td>\n      <td>37.505675</td>\n    </tr>\n    <tr>\n      <td>4</td>\n      <td>고려대학교교육관쎄리오점</td>\n      <td>NaN</td>\n      <td>서울특별시</td>\n      <td>성북구</td>\n      <td>서울특별시 성북구 안암로 145</td>\n      <td>127.031702</td>\n      <td>37.588485</td>\n    </tr>\n    <tr>\n      <td>7</td>\n      <td>스완카페트</td>\n      <td>NaN</td>\n      <td>서울특별시</td>\n      <td>영등포구</td>\n      <td>서울특별시 영등포구 도신로10가길 11-1</td>\n      <td>126.897710</td>\n      <td>37.503693</td>\n    </tr>\n  </tbody>\n</table>\n</div>"
     },
     "metadata": {},
     "execution_count": 4
    }
   ],
   "source": [
    "seoul = seoul[seoul.iloc[:,5]=='Q12']\n",
    "seoul = seoul[['상호명','지점명','시도명','시군구명','도로명주소','경도','위도']]\n",
    "seoul.head(3)"
   ]
  },
  {
   "cell_type": "code",
   "execution_count": null,
   "metadata": {},
   "outputs": [],
   "source": []
  },
  {
   "source": [
    "# 전체 데이터 읽어오기\n",
    "- pd.concat(tmp_list) 사용"
   ],
   "cell_type": "markdown",
   "metadata": {}
  },
  {
   "cell_type": "code",
   "execution_count": 5,
   "metadata": {},
   "outputs": [
    {
     "output_type": "execute_result",
     "data": {
      "text/plain": [
       "['./source\\\\소상공인시장진흥공단_상가(상권)정보_강원_202009.csv',\n",
       " './source\\\\소상공인시장진흥공단_상가(상권)정보_경기_202009.csv',\n",
       " './source\\\\소상공인시장진흥공단_상가(상권)정보_경남_202009.csv',\n",
       " './source\\\\소상공인시장진흥공단_상가(상권)정보_경북_202009.csv',\n",
       " './source\\\\소상공인시장진흥공단_상가(상권)정보_광주_202009.csv',\n",
       " './source\\\\소상공인시장진흥공단_상가(상권)정보_대구_202009.csv',\n",
       " './source\\\\소상공인시장진흥공단_상가(상권)정보_대전_202009.csv',\n",
       " './source\\\\소상공인시장진흥공단_상가(상권)정보_부산_202009.csv',\n",
       " './source\\\\소상공인시장진흥공단_상가(상권)정보_서울_202009.csv',\n",
       " './source\\\\소상공인시장진흥공단_상가(상권)정보_세종_202009.csv',\n",
       " './source\\\\소상공인시장진흥공단_상가(상권)정보_울산_202009.csv',\n",
       " './source\\\\소상공인시장진흥공단_상가(상권)정보_인천_202009.csv',\n",
       " './source\\\\소상공인시장진흥공단_상가(상권)정보_전남_202009.csv',\n",
       " './source\\\\소상공인시장진흥공단_상가(상권)정보_전북_202009.csv',\n",
       " './source\\\\소상공인시장진흥공단_상가(상권)정보_제주_202009.csv',\n",
       " './source\\\\소상공인시장진흥공단_상가(상권)정보_충남_202009.csv',\n",
       " './source\\\\소상공인시장진흥공단_상가(상권)정보_충북_202009.csv']"
      ]
     },
     "metadata": {},
     "execution_count": 5
    }
   ],
   "source": [
    "from glob import glob\n",
    "tmp_list = glob('./source/소상공인시장진흥공단*.csv')\n",
    "tmp_list"
   ]
  },
  {
   "cell_type": "code",
   "execution_count": 6,
   "metadata": {},
   "outputs": [
    {
     "output_type": "stream",
     "name": "stderr",
     "text": [
      "100%|██████████| 17/17 [00:28<00:00,  1.65s/it]\n"
     ]
    }
   ],
   "source": [
    "concat_list = []\n",
    "for file_name in tqdm(tmp_list):\n",
    "    tmp = pd.read_csv(file_name, sep='|',encoding='utf8')\n",
    "    concat_list.append(tmp)"
   ]
  },
  {
   "cell_type": "code",
   "execution_count": 7,
   "metadata": {},
   "outputs": [
    {
     "output_type": "execute_result",
     "data": {
      "text/plain": [
       "     상가업소번호     상호명  지점명 상권업종대분류코드 상권업종대분류명 상권업종중분류코드 상권업종중분류명 상권업종소분류코드  \\\n",
       "0  20173815     황진이  NaN         Q       음식       Q09     유흥주점    Q09A10   \n",
       "1  20176916  용둔은영식당  NaN         Q       음식       Q01       한식    Q01A01   \n",
       "\n",
       "    상권업종소분류명 표준산업분류코드  ...                     건물관리번호  건물명  \\\n",
       "0   룸살롱/단란주점   I56211  ...  4213010100102030001000001  NaN   \n",
       "1  한식/백반/한정식   I56111  ...  4273031022105710012005956  NaN   \n",
       "\n",
       "                  도로명주소     구우편번호    신우편번호  동정보 층정보  호정보          경도  \\\n",
       "0        강원도 원주시 중앙로 61  220904.0  26429.0  NaN   1  NaN  127.952252   \n",
       "1  강원도 횡성군 우천면 경강로 2730  225814.0  25244.0  NaN   1  NaN  128.059348   \n",
       "\n",
       "          위도  \n",
       "0  37.347773  \n",
       "1  37.495197  \n",
       "\n",
       "[2 rows x 39 columns]"
      ],
      "text/html": "<div>\n<style scoped>\n    .dataframe tbody tr th:only-of-type {\n        vertical-align: middle;\n    }\n\n    .dataframe tbody tr th {\n        vertical-align: top;\n    }\n\n    .dataframe thead th {\n        text-align: right;\n    }\n</style>\n<table border=\"1\" class=\"dataframe\">\n  <thead>\n    <tr style=\"text-align: right;\">\n      <th></th>\n      <th>상가업소번호</th>\n      <th>상호명</th>\n      <th>지점명</th>\n      <th>상권업종대분류코드</th>\n      <th>상권업종대분류명</th>\n      <th>상권업종중분류코드</th>\n      <th>상권업종중분류명</th>\n      <th>상권업종소분류코드</th>\n      <th>상권업종소분류명</th>\n      <th>표준산업분류코드</th>\n      <th>...</th>\n      <th>건물관리번호</th>\n      <th>건물명</th>\n      <th>도로명주소</th>\n      <th>구우편번호</th>\n      <th>신우편번호</th>\n      <th>동정보</th>\n      <th>층정보</th>\n      <th>호정보</th>\n      <th>경도</th>\n      <th>위도</th>\n    </tr>\n  </thead>\n  <tbody>\n    <tr>\n      <td>0</td>\n      <td>20173815</td>\n      <td>황진이</td>\n      <td>NaN</td>\n      <td>Q</td>\n      <td>음식</td>\n      <td>Q09</td>\n      <td>유흥주점</td>\n      <td>Q09A10</td>\n      <td>룸살롱/단란주점</td>\n      <td>I56211</td>\n      <td>...</td>\n      <td>4213010100102030001000001</td>\n      <td>NaN</td>\n      <td>강원도 원주시 중앙로 61</td>\n      <td>220904.0</td>\n      <td>26429.0</td>\n      <td>NaN</td>\n      <td>1</td>\n      <td>NaN</td>\n      <td>127.952252</td>\n      <td>37.347773</td>\n    </tr>\n    <tr>\n      <td>1</td>\n      <td>20176916</td>\n      <td>용둔은영식당</td>\n      <td>NaN</td>\n      <td>Q</td>\n      <td>음식</td>\n      <td>Q01</td>\n      <td>한식</td>\n      <td>Q01A01</td>\n      <td>한식/백반/한정식</td>\n      <td>I56111</td>\n      <td>...</td>\n      <td>4273031022105710012005956</td>\n      <td>NaN</td>\n      <td>강원도 횡성군 우천면 경강로 2730</td>\n      <td>225814.0</td>\n      <td>25244.0</td>\n      <td>NaN</td>\n      <td>1</td>\n      <td>NaN</td>\n      <td>128.059348</td>\n      <td>37.495197</td>\n    </tr>\n  </tbody>\n</table>\n<p>2 rows × 39 columns</p>\n</div>"
     },
     "metadata": {},
     "execution_count": 7
    }
   ],
   "source": [
    "korea = pd.concat(concat_list, ignore_index=True)\n",
    "korea.head(2)"
   ]
  },
  {
   "cell_type": "code",
   "execution_count": 9,
   "metadata": {},
   "outputs": [],
   "source": [
    "korea.to_csv('./result/전국 모든 업종.csv',sep=',',encoding='utf8')"
   ]
  },
  {
   "cell_type": "code",
   "execution_count": 3,
   "metadata": {},
   "outputs": [
    {
     "output_type": "execute_result",
     "data": {
      "text/plain": [
       "   Unnamed: 0    상가업소번호     상호명  지점명 상권업종대분류코드 상권업종대분류명 상권업종중분류코드 상권업종중분류명  \\\n",
       "0           0  20173815     황진이  NaN         Q       음식       Q09     유흥주점   \n",
       "1           1  20176916  용둔은영식당  NaN         Q       음식       Q01       한식   \n",
       "2           2  20088927    아미식당  NaN         Q       음식       Q01       한식   \n",
       "3           3  20090406  산약초건강원  NaN         D       소매       D10  건강/미용식품   \n",
       "4           4  20100551    왕벌식당  NaN         Q       음식       Q01       한식   \n",
       "\n",
       "  상권업종소분류코드   상권업종소분류명  ...                     건물관리번호  건물명  \\\n",
       "0    Q09A10   룸살롱/단란주점  ...  4213010100102030001000001  NaN   \n",
       "1    Q01A01  한식/백반/한정식  ...  4273031022105710012005956  NaN   \n",
       "2    Q01A01  한식/백반/한정식  ...  4272034021102240007032409  NaN   \n",
       "3    D10A07        건강원  ...  4219010100100660002001227  NaN   \n",
       "4    Q01A01  한식/백반/한정식  ...  4280033026000000000011542  NaN   \n",
       "\n",
       "                      도로명주소     구우편번호    신우편번호  동정보  층정보  호정보          경도  \\\n",
       "0            강원도 원주시 중앙로 61  220904.0  26429.0  NaN    1  NaN  127.952252   \n",
       "1      강원도 횡성군 우천면 경강로 2730  225814.0  25244.0  NaN    1  NaN  128.059348   \n",
       "2  강원도 홍천군 서석면 풍암장터2길 49-13  250835.0  25166.0  NaN    1  NaN  128.187197   \n",
       "3           강원도 태백시 황지로 112  235800.0  26014.0  NaN    1  NaN  128.992063   \n",
       "4      강원도 양구군 방산면 평화로 5432  255832.0  24501.0  NaN    1  NaN  127.955740   \n",
       "\n",
       "          위도  \n",
       "0  37.347773  \n",
       "1  37.495197  \n",
       "2  37.711402  \n",
       "3  37.168758  \n",
       "4  38.224635  \n",
       "\n",
       "[5 rows x 40 columns]"
      ],
      "text/html": "<div>\n<style scoped>\n    .dataframe tbody tr th:only-of-type {\n        vertical-align: middle;\n    }\n\n    .dataframe tbody tr th {\n        vertical-align: top;\n    }\n\n    .dataframe thead th {\n        text-align: right;\n    }\n</style>\n<table border=\"1\" class=\"dataframe\">\n  <thead>\n    <tr style=\"text-align: right;\">\n      <th></th>\n      <th>Unnamed: 0</th>\n      <th>상가업소번호</th>\n      <th>상호명</th>\n      <th>지점명</th>\n      <th>상권업종대분류코드</th>\n      <th>상권업종대분류명</th>\n      <th>상권업종중분류코드</th>\n      <th>상권업종중분류명</th>\n      <th>상권업종소분류코드</th>\n      <th>상권업종소분류명</th>\n      <th>...</th>\n      <th>건물관리번호</th>\n      <th>건물명</th>\n      <th>도로명주소</th>\n      <th>구우편번호</th>\n      <th>신우편번호</th>\n      <th>동정보</th>\n      <th>층정보</th>\n      <th>호정보</th>\n      <th>경도</th>\n      <th>위도</th>\n    </tr>\n  </thead>\n  <tbody>\n    <tr>\n      <td>0</td>\n      <td>0</td>\n      <td>20173815</td>\n      <td>황진이</td>\n      <td>NaN</td>\n      <td>Q</td>\n      <td>음식</td>\n      <td>Q09</td>\n      <td>유흥주점</td>\n      <td>Q09A10</td>\n      <td>룸살롱/단란주점</td>\n      <td>...</td>\n      <td>4213010100102030001000001</td>\n      <td>NaN</td>\n      <td>강원도 원주시 중앙로 61</td>\n      <td>220904.0</td>\n      <td>26429.0</td>\n      <td>NaN</td>\n      <td>1</td>\n      <td>NaN</td>\n      <td>127.952252</td>\n      <td>37.347773</td>\n    </tr>\n    <tr>\n      <td>1</td>\n      <td>1</td>\n      <td>20176916</td>\n      <td>용둔은영식당</td>\n      <td>NaN</td>\n      <td>Q</td>\n      <td>음식</td>\n      <td>Q01</td>\n      <td>한식</td>\n      <td>Q01A01</td>\n      <td>한식/백반/한정식</td>\n      <td>...</td>\n      <td>4273031022105710012005956</td>\n      <td>NaN</td>\n      <td>강원도 횡성군 우천면 경강로 2730</td>\n      <td>225814.0</td>\n      <td>25244.0</td>\n      <td>NaN</td>\n      <td>1</td>\n      <td>NaN</td>\n      <td>128.059348</td>\n      <td>37.495197</td>\n    </tr>\n    <tr>\n      <td>2</td>\n      <td>2</td>\n      <td>20088927</td>\n      <td>아미식당</td>\n      <td>NaN</td>\n      <td>Q</td>\n      <td>음식</td>\n      <td>Q01</td>\n      <td>한식</td>\n      <td>Q01A01</td>\n      <td>한식/백반/한정식</td>\n      <td>...</td>\n      <td>4272034021102240007032409</td>\n      <td>NaN</td>\n      <td>강원도 홍천군 서석면 풍암장터2길 49-13</td>\n      <td>250835.0</td>\n      <td>25166.0</td>\n      <td>NaN</td>\n      <td>1</td>\n      <td>NaN</td>\n      <td>128.187197</td>\n      <td>37.711402</td>\n    </tr>\n    <tr>\n      <td>3</td>\n      <td>3</td>\n      <td>20090406</td>\n      <td>산약초건강원</td>\n      <td>NaN</td>\n      <td>D</td>\n      <td>소매</td>\n      <td>D10</td>\n      <td>건강/미용식품</td>\n      <td>D10A07</td>\n      <td>건강원</td>\n      <td>...</td>\n      <td>4219010100100660002001227</td>\n      <td>NaN</td>\n      <td>강원도 태백시 황지로 112</td>\n      <td>235800.0</td>\n      <td>26014.0</td>\n      <td>NaN</td>\n      <td>1</td>\n      <td>NaN</td>\n      <td>128.992063</td>\n      <td>37.168758</td>\n    </tr>\n    <tr>\n      <td>4</td>\n      <td>4</td>\n      <td>20100551</td>\n      <td>왕벌식당</td>\n      <td>NaN</td>\n      <td>Q</td>\n      <td>음식</td>\n      <td>Q01</td>\n      <td>한식</td>\n      <td>Q01A01</td>\n      <td>한식/백반/한정식</td>\n      <td>...</td>\n      <td>4280033026000000000011542</td>\n      <td>NaN</td>\n      <td>강원도 양구군 방산면 평화로 5432</td>\n      <td>255832.0</td>\n      <td>24501.0</td>\n      <td>NaN</td>\n      <td>1</td>\n      <td>NaN</td>\n      <td>127.955740</td>\n      <td>38.224635</td>\n    </tr>\n  </tbody>\n</table>\n<p>5 rows × 40 columns</p>\n</div>"
     },
     "metadata": {},
     "execution_count": 3
    }
   ],
   "source": [
    "korea = pd.read_csv('./result/전국 모든 업종.csv',sep=',',encoding='utf8')\n",
    "korea.head()"
   ]
  },
  {
   "cell_type": "code",
   "execution_count": 4,
   "metadata": {},
   "outputs": [],
   "source": [
    "del korea['Unnamed: 0']"
   ]
  },
  {
   "cell_type": "code",
   "execution_count": 7,
   "metadata": {},
   "outputs": [
    {
     "output_type": "execute_result",
     "data": {
      "text/plain": [
       "          상호명  지점명  시도명 시군구명                 도로명주소          경도         위도\n",
       "20        펠로톤  NaN  강원도  강릉시       강원도 강릉시 임영로 115  128.893468  37.751919\n",
       "23   키즈까페아이사랑  NaN  강원도  강릉시    강원도 강릉시 성덕포남로 45-8  128.919456  37.759315\n",
       "30      상유재카페  NaN  강원도  정선군  강원도 정선군 정선읍 정선로 1323  128.660805  37.379458\n",
       "213     동물과사람  NaN  강원도  원주시      강원도 원주시 천매봉길 117  127.943047  37.326277\n",
       "274     카페비엔또  NaN  강원도  영월군   강원도 영월군 영월읍 중앙1로 59  128.465690  37.186503"
      ],
      "text/html": "<div>\n<style scoped>\n    .dataframe tbody tr th:only-of-type {\n        vertical-align: middle;\n    }\n\n    .dataframe tbody tr th {\n        vertical-align: top;\n    }\n\n    .dataframe thead th {\n        text-align: right;\n    }\n</style>\n<table border=\"1\" class=\"dataframe\">\n  <thead>\n    <tr style=\"text-align: right;\">\n      <th></th>\n      <th>상호명</th>\n      <th>지점명</th>\n      <th>시도명</th>\n      <th>시군구명</th>\n      <th>도로명주소</th>\n      <th>경도</th>\n      <th>위도</th>\n    </tr>\n  </thead>\n  <tbody>\n    <tr>\n      <td>20</td>\n      <td>펠로톤</td>\n      <td>NaN</td>\n      <td>강원도</td>\n      <td>강릉시</td>\n      <td>강원도 강릉시 임영로 115</td>\n      <td>128.893468</td>\n      <td>37.751919</td>\n    </tr>\n    <tr>\n      <td>23</td>\n      <td>키즈까페아이사랑</td>\n      <td>NaN</td>\n      <td>강원도</td>\n      <td>강릉시</td>\n      <td>강원도 강릉시 성덕포남로 45-8</td>\n      <td>128.919456</td>\n      <td>37.759315</td>\n    </tr>\n    <tr>\n      <td>30</td>\n      <td>상유재카페</td>\n      <td>NaN</td>\n      <td>강원도</td>\n      <td>정선군</td>\n      <td>강원도 정선군 정선읍 정선로 1323</td>\n      <td>128.660805</td>\n      <td>37.379458</td>\n    </tr>\n    <tr>\n      <td>213</td>\n      <td>동물과사람</td>\n      <td>NaN</td>\n      <td>강원도</td>\n      <td>원주시</td>\n      <td>강원도 원주시 천매봉길 117</td>\n      <td>127.943047</td>\n      <td>37.326277</td>\n    </tr>\n    <tr>\n      <td>274</td>\n      <td>카페비엔또</td>\n      <td>NaN</td>\n      <td>강원도</td>\n      <td>영월군</td>\n      <td>강원도 영월군 영월읍 중앙1로 59</td>\n      <td>128.465690</td>\n      <td>37.186503</td>\n    </tr>\n  </tbody>\n</table>\n</div>"
     },
     "metadata": {},
     "execution_count": 7
    }
   ],
   "source": [
    "cafe = korea[korea.iloc[:,5]=='Q12']\n",
    "cafe = cafe[['상호명','지점명','시도명','시군구명','도로명주소','경도','위도']]\n",
    "cafe.head()"
   ]
  },
  {
   "cell_type": "code",
   "execution_count": 8,
   "metadata": {},
   "outputs": [],
   "source": [
    "cafe.to_csv('./result/전국 카페.csv',sep=',',encoding='utf8')"
   ]
  },
  {
   "cell_type": "code",
   "execution_count": 87,
   "metadata": {},
   "outputs": [],
   "source": [
    "cafe = pd.read_csv('./result/전국 카페.csv',sep=',',encoding='utf8')"
   ]
  },
  {
   "source": [
    "# 인덱스 재정비"
   ],
   "cell_type": "markdown",
   "metadata": {}
  },
  {
   "cell_type": "code",
   "execution_count": 88,
   "metadata": {},
   "outputs": [],
   "source": [
    "cafe.reset_index(inplace=True)"
   ]
  },
  {
   "cell_type": "code",
   "execution_count": 90,
   "metadata": {},
   "outputs": [],
   "source": [
    "del cafe['index']\n",
    "del cafe['Unnamed: 0']"
   ]
  },
  {
   "cell_type": "code",
   "execution_count": 91,
   "metadata": {},
   "outputs": [
    {
     "output_type": "execute_result",
     "data": {
      "text/plain": [
       "        상호명  지점명  시도명 시군구명               도로명주소          경도         위도\n",
       "0       펠로톤  NaN  강원도  강릉시     강원도 강릉시 임영로 115  128.893468  37.751919\n",
       "1  키즈까페아이사랑  NaN  강원도  강릉시  강원도 강릉시 성덕포남로 45-8  128.919456  37.759315"
      ],
      "text/html": "<div>\n<style scoped>\n    .dataframe tbody tr th:only-of-type {\n        vertical-align: middle;\n    }\n\n    .dataframe tbody tr th {\n        vertical-align: top;\n    }\n\n    .dataframe thead th {\n        text-align: right;\n    }\n</style>\n<table border=\"1\" class=\"dataframe\">\n  <thead>\n    <tr style=\"text-align: right;\">\n      <th></th>\n      <th>상호명</th>\n      <th>지점명</th>\n      <th>시도명</th>\n      <th>시군구명</th>\n      <th>도로명주소</th>\n      <th>경도</th>\n      <th>위도</th>\n    </tr>\n  </thead>\n  <tbody>\n    <tr>\n      <td>0</td>\n      <td>펠로톤</td>\n      <td>NaN</td>\n      <td>강원도</td>\n      <td>강릉시</td>\n      <td>강원도 강릉시 임영로 115</td>\n      <td>128.893468</td>\n      <td>37.751919</td>\n    </tr>\n    <tr>\n      <td>1</td>\n      <td>키즈까페아이사랑</td>\n      <td>NaN</td>\n      <td>강원도</td>\n      <td>강릉시</td>\n      <td>강원도 강릉시 성덕포남로 45-8</td>\n      <td>128.919456</td>\n      <td>37.759315</td>\n    </tr>\n  </tbody>\n</table>\n</div>"
     },
     "metadata": {},
     "execution_count": 91
    }
   ],
   "source": [
    "cafe.head(2)"
   ]
  },
  {
   "source": [
    "# 시도명, 시군구명 정비"
   ],
   "cell_type": "markdown",
   "metadata": {}
  },
  {
   "cell_type": "code",
   "execution_count": 19,
   "metadata": {},
   "outputs": [
    {
     "output_type": "execute_result",
     "data": {
      "text/plain": [
       "(0, 0)"
      ]
     },
     "metadata": {},
     "execution_count": 19
    }
   ],
   "source": [
    "cafe['시도명'].isnull().sum(), \\\n",
    "cafe['시군구명'].isnull().sum()"
   ]
  },
  {
   "cell_type": "code",
   "execution_count": 20,
   "metadata": {},
   "outputs": [],
   "source": [
    "cafe['시도명'] = cafe['시도명'].str.strip()\n",
    "cafe['시군구명'] = cafe['시군구명'].str.strip()"
   ]
  },
  {
   "cell_type": "code",
   "execution_count": 21,
   "metadata": {},
   "outputs": [
    {
     "output_type": "execute_result",
     "data": {
      "text/plain": [
       "array(['강원도', '경기도', '경상남도', '경상북도', '광주광역시', '대구광역시', '대전광역시', '부산광역시',\n",
       "       '서울특별시', '세종특별자치시', '울산광역시', '인천광역시', '전라남도', '전라북도', '제주특별자치도',\n",
       "       '충청남도', '충청북도'], dtype=object)"
      ]
     },
     "metadata": {},
     "execution_count": 21
    }
   ],
   "source": [
    "cafe['시도명'].unique()"
   ]
  },
  {
   "cell_type": "code",
   "execution_count": 22,
   "metadata": {},
   "outputs": [
    {
     "output_type": "execute_result",
     "data": {
      "text/plain": [
       "array(['강릉시', '정선군', '원주시', '영월군', '태백시', '춘천시', '삼척시', '철원군', '속초시',\n",
       "       '동해시', '화천군', '양구군', '횡성군', '양양군', '홍천군', '평창군', '고성군', '인제군',\n",
       "       '안산시 상록구', '여주시', '부천시', '남양주시', '수원시 영통구', '광주시', '시흥시', '평택시',\n",
       "       '포천시', '화성시', '파주시', '군포시', '수원시 권선구', '김포시', '고양시 일산동구',\n",
       "       '성남시 분당구', '안양시 만안구', '용인시 기흥구', '성남시 중원구', '수원시 팔달구', '용인시 처인구',\n",
       "       '의정부시', '구리시', '고양시 일산서구', '용인시 수지구', '성남시 수정구', '안성시', '안산시',\n",
       "       '광명시', '고양시 덕양구', '의왕시', '수원시 장안구', '안양시 동안구', '안산시 단원구', '이천시',\n",
       "       '오산시', '가평군', '하남시', '과천시', '양주시', '양평군', '동두천시', '용인시', '연천군',\n",
       "       '수원시', '창원시 성산구', '창원시 마산합포구', '창원시 마산회원구', '사천시', '함안군',\n",
       "       '창원시 의창구', '함양군', '의령군', '하동군', '밀양시', '김해시', '진주시', '통영시', '거제시',\n",
       "       '창원시 진해구', '창원시', '양산시', '산청군', '창녕군', '거창군', '합천군', '남해군', '경주시',\n",
       "       '경산시', '영주시', '구미시', '포항시 남구', '영덕군', '상주시', '안동시', '의성군', '문경시',\n",
       "       '칠곡군', '영천시', '울진군', '포항시 북구', '울릉군', '김천시', '청도군', '성주군', '청송군',\n",
       "       '군위군', '영양군', '봉화군', '예천군', '고령군', '서구', '광산구', '동구', '북구', '남구',\n",
       "       '수성구', '중구', '달성군', '달서구', '유성구', '대덕구', '기장군', '해운대구', '사상구',\n",
       "       '사하구', '금정구', '수영구', '연제구', '부산진구', '동래구', '강서구', '영도구', '강남구',\n",
       "       '성북구', '영등포구', '서초구', '구로구', '종로구', '마포구', '도봉구', '은평구', '서대문구',\n",
       "       '양천구', '광진구', '용산구', '관악구', '성동구', '송파구', '금천구', '동대문구', '동작구',\n",
       "       '중랑구', '강동구', '강북구', '노원구', '세종특별자치시', '울주군', '미추홀구', '남동구', '계양구',\n",
       "       '부평구', '연수구', '강화군', '옹진군', '순천시', '함평군', '목포시', '여수시', '광양시',\n",
       "       '나주시', '장성군', '담양군', '보성군', '화순군', '영암군', '영광군', '장흥군', '무안군',\n",
       "       '구례군', '고흥군', '진도군', '완도군', '해남군', '곡성군', '신안군', '강진군', '임실군',\n",
       "       '익산시', '전주시 완산구', '군산시', '부안군', '김제시', '남원시', '전주시 덕진구', '완주군',\n",
       "       '정읍시', '순창군', '고창군', '장수군', '무주군', '진안군', '전주시', '제주시', '서귀포시',\n",
       "       '아산시', '공주시', '당진시', '천안시 동남구', '금산군', '태안군', '서천군', '서산시', '홍성군',\n",
       "       '보령시', '천안시 서북구', '예산군', '계룡시', '청양군', '논산시', '부여군', '충주시', '제천시',\n",
       "       '청주시 상당구', '청주시 흥덕구', '청주시 서원구', '음성군', '청주시 청원구', '괴산군', '영동군',\n",
       "       '진천군', '단양군', '옥천군', '보은군', '증평군'], dtype=object)"
      ]
     },
     "metadata": {},
     "execution_count": 22
    }
   ],
   "source": [
    "cafe['시군구명'].unique()"
   ]
  },
  {
   "source": [
    "# 시군구명 두 단어\n",
    "- 포항시 북구, 포항시 남구 등등...\n",
    "- 인구소멸위기지역 했을 때 시군구 / 행정구가 같이 나오던 꼴\n",
    "- 행정구 있는 행은 그 행을 시군구명으로, 시군구명을 시도명으로"
   ],
   "cell_type": "markdown",
   "metadata": {}
  },
  {
   "cell_type": "code",
   "execution_count": 23,
   "metadata": {},
   "outputs": [
    {
     "output_type": "execute_result",
     "data": {
      "text/plain": [
       "0              [강릉시]\n",
       "1              [강릉시]\n",
       "2              [정선군]\n",
       "3              [원주시]\n",
       "4              [영월군]\n",
       "             ...    \n",
       "105096    [청주시, 서원구]\n",
       "105097    [청주시, 상당구]\n",
       "105098    [청주시, 흥덕구]\n",
       "105099    [청주시, 서원구]\n",
       "105100         [영동군]\n",
       "Name: 시군구명, Length: 105101, dtype: object"
      ]
     },
     "metadata": {},
     "execution_count": 23
    }
   ],
   "source": [
    "cafe['시군구명'].str.split()"
   ]
  },
  {
   "cell_type": "code",
   "execution_count": 25,
   "metadata": {},
   "outputs": [
    {
     "output_type": "execute_result",
     "data": {
      "text/plain": [
       "'청주시'"
      ]
     },
     "metadata": {},
     "execution_count": 25
    }
   ],
   "source": [
    "len(cafe['시군구명'][105091].split())\n",
    "cafe['시군구명'][105098].split()[0]"
   ]
  },
  {
   "cell_type": "code",
   "execution_count": 92,
   "metadata": {},
   "outputs": [
    {
     "output_type": "execute_result",
     "data": {
      "text/plain": [
       "        상호명   지점명  시도명 시군구명                도로명주소          경도         위도\n",
       "6486  이디야커피  망포역점  경기도  수원시  경기도 수원시 영통구 영통로 195  127.055792  37.245175"
      ],
      "text/html": "<div>\n<style scoped>\n    .dataframe tbody tr th:only-of-type {\n        vertical-align: middle;\n    }\n\n    .dataframe tbody tr th {\n        vertical-align: top;\n    }\n\n    .dataframe thead th {\n        text-align: right;\n    }\n</style>\n<table border=\"1\" class=\"dataframe\">\n  <thead>\n    <tr style=\"text-align: right;\">\n      <th></th>\n      <th>상호명</th>\n      <th>지점명</th>\n      <th>시도명</th>\n      <th>시군구명</th>\n      <th>도로명주소</th>\n      <th>경도</th>\n      <th>위도</th>\n    </tr>\n  </thead>\n  <tbody>\n    <tr>\n      <td>6486</td>\n      <td>이디야커피</td>\n      <td>망포역점</td>\n      <td>경기도</td>\n      <td>수원시</td>\n      <td>경기도 수원시 영통구 영통로 195</td>\n      <td>127.055792</td>\n      <td>37.245175</td>\n    </tr>\n  </tbody>\n</table>\n</div>"
     },
     "metadata": {},
     "execution_count": 92
    }
   ],
   "source": [
    "cafe.iloc[6486:6487,:]"
   ]
  },
  {
   "source": [
    "# 어떤 놈은 시군구명에 '경기도 수원시'가 아니라 '수원시'로 되어있음"
   ],
   "cell_type": "markdown",
   "metadata": {}
  },
  {
   "cell_type": "code",
   "execution_count": 26,
   "metadata": {},
   "outputs": [],
   "source": [
    "cafe['시도명'] = cafe.apply(lambda r: r['시군구명'].split()[0] if len(r['시군구명'].split()) == 2 else r['시도명'], axis = 1 )\n",
    "\n",
    "cafe['시군구명'] = cafe.apply(lambda r: r['시군구명'].split()[1] if len(r['시군구명'].split()) == 2 else r['시군구명'], axis = 1 )"
   ]
  },
  {
   "cell_type": "code",
   "execution_count": 28,
   "metadata": {},
   "outputs": [
    {
     "output_type": "execute_result",
     "data": {
      "text/plain": [
       "array(['강릉시', '정선군', '원주시', '영월군', '태백시', '춘천시', '삼척시', '철원군', '속초시',\n",
       "       '동해시', '화천군', '양구군', '횡성군', '양양군', '홍천군', '평창군', '고성군', '인제군',\n",
       "       '상록구', '여주시', '부천시', '남양주시', '영통구', '광주시', '시흥시', '평택시', '포천시',\n",
       "       '화성시', '파주시', '군포시', '권선구', '김포시', '일산동구', '분당구', '만안구', '기흥구',\n",
       "       '중원구', '팔달구', '처인구', '의정부시', '구리시', '일산서구', '수지구', '수정구', '안성시',\n",
       "       '안산시', '광명시', '덕양구', '의왕시', '장안구', '동안구', '단원구', '이천시', '오산시',\n",
       "       '가평군', '하남시', '과천시', '양주시', '양평군', '동두천시', '용인시', '연천군', '수원시',\n",
       "       '성산구', '마산합포구', '마산회원구', '사천시', '함안군', '의창구', '함양군', '의령군', '하동군',\n",
       "       '밀양시', '김해시', '진주시', '통영시', '거제시', '진해구', '창원시', '양산시', '산청군',\n",
       "       '창녕군', '거창군', '합천군', '남해군', '경주시', '경산시', '영주시', '구미시', '남구',\n",
       "       '영덕군', '상주시', '안동시', '의성군', '문경시', '칠곡군', '영천시', '울진군', '북구',\n",
       "       '울릉군', '김천시', '청도군', '성주군', '청송군', '군위군', '영양군', '봉화군', '예천군',\n",
       "       '고령군', '서구', '광산구', '동구', '수성구', '중구', '달성군', '달서구', '유성구', '대덕구',\n",
       "       '기장군', '해운대구', '사상구', '사하구', '금정구', '수영구', '연제구', '부산진구', '동래구',\n",
       "       '강서구', '영도구', '강남구', '성북구', '영등포구', '서초구', '구로구', '종로구', '마포구',\n",
       "       '도봉구', '은평구', '서대문구', '양천구', '광진구', '용산구', '관악구', '성동구', '송파구',\n",
       "       '금천구', '동대문구', '동작구', '중랑구', '강동구', '강북구', '노원구', '세종특별자치시', '울주군',\n",
       "       '미추홀구', '남동구', '계양구', '부평구', '연수구', '강화군', '옹진군', '순천시', '함평군',\n",
       "       '목포시', '여수시', '광양시', '나주시', '장성군', '담양군', '보성군', '화순군', '영암군',\n",
       "       '영광군', '장흥군', '무안군', '구례군', '고흥군', '진도군', '완도군', '해남군', '곡성군',\n",
       "       '신안군', '강진군', '임실군', '익산시', '완산구', '군산시', '부안군', '김제시', '남원시',\n",
       "       '덕진구', '완주군', '정읍시', '순창군', '고창군', '장수군', '무주군', '진안군', '전주시',\n",
       "       '제주시', '서귀포시', '아산시', '공주시', '당진시', '동남구', '금산군', '태안군', '서천군',\n",
       "       '서산시', '홍성군', '보령시', '서북구', '예산군', '계룡시', '청양군', '논산시', '부여군',\n",
       "       '충주시', '제천시', '상당구', '흥덕구', '서원구', '음성군', '청원구', '괴산군', '영동군',\n",
       "       '진천군', '단양군', '옥천군', '보은군', '증평군'], dtype=object)"
      ]
     },
     "metadata": {},
     "execution_count": 28
    }
   ],
   "source": [
    "cafe['시군구명'].unique()"
   ]
  },
  {
   "cell_type": "code",
   "execution_count": 29,
   "metadata": {},
   "outputs": [
    {
     "output_type": "execute_result",
     "data": {
      "text/plain": [
       "(105101, 28, 231)"
      ]
     },
     "metadata": {},
     "execution_count": 29
    }
   ],
   "source": [
    "len(cafe['시도명']), \\\n",
    "len(cafe['시도명'].unique()) , \\\n",
    "len(cafe['시군구명'].unique())"
   ]
  },
  {
   "cell_type": "code",
   "execution_count": 27,
   "metadata": {},
   "outputs": [
    {
     "output_type": "execute_result",
     "data": {
      "text/plain": [
       "array(['강원도', '안산시', '경기도', '수원시', '고양시', '성남시', '안양시', '용인시', '창원시',\n",
       "       '경상남도', '경상북도', '포항시', '광주광역시', '대구광역시', '대전광역시', '부산광역시', '서울특별시',\n",
       "       '세종특별자치시', '울산광역시', '인천광역시', '전라남도', '전라북도', '전주시', '제주특별자치도',\n",
       "       '충청남도', '천안시', '충청북도', '청주시'], dtype=object)"
      ]
     },
     "metadata": {},
     "execution_count": 27
    }
   ],
   "source": [
    "cafe['시도명'].unique()"
   ]
  },
  {
   "cell_type": "code",
   "execution_count": 30,
   "metadata": {},
   "outputs": [],
   "source": [
    "cafe.to_csv('./result/전국 시군구 정리 카페.csv',sep=',',encoding='utf8')"
   ]
  },
  {
   "cell_type": "code",
   "execution_count": 96,
   "metadata": {},
   "outputs": [],
   "source": [
    "cafe = pd.read_csv('./result/전국 시군구 정리 카페.csv',sep=',',encoding='utf8') "
   ]
  },
  {
   "cell_type": "code",
   "execution_count": 97,
   "metadata": {},
   "outputs": [],
   "source": [
    "del cafe['Unnamed: 0']"
   ]
  },
  {
   "source": [
    "# 지역 ID"
   ],
   "cell_type": "markdown",
   "metadata": {}
  },
  {
   "cell_type": "code",
   "execution_count": 98,
   "metadata": {},
   "outputs": [],
   "source": [
    "tmp_gu_dict = {\n",
    "    '수원':['장안구', '권선구', '팔달구', '영통구'], \n",
    "    '성남':['수정구', '중원구', '분당구'], \n",
    "    '안양':['만안구', '동안구'], \n",
    "    '안산':['상록구', '단원구'], \n",
    "    '고양':['덕양구', '일산동구', '일산서구'], \n",
    "    '용인':['처인구', '기흥구', '수지구'], \n",
    "    '청주':['상당구', '서원구', '흥덕구', '청원구'], \n",
    "    '천안':['동남구', '서북구'], \n",
    "    '전주':['완산구', '덕진구'], \n",
    "    '포항':['남구', '북구'], \n",
    "    '창원':['의창구', '성산구', '진해구', '마산합포구', '마산회원구']\n",
    "}"
   ]
  },
  {
   "cell_type": "code",
   "execution_count": 99,
   "metadata": {},
   "outputs": [
    {
     "output_type": "execute_result",
     "data": {
      "text/plain": [
       "            상호명    지점명    시도명  시군구명                   도로명주소          경도  \\\n",
       "41511      카페홀더    NaN  광주광역시    서구       광주광역시 서구 상무대로 760  126.847789   \n",
       "41512  니나스에스프레소   광주지사  광주광역시   광산구       광주광역시 광산구 수등로 243  126.835633   \n",
       "41513     꼬냥이까페    NaN  광주광역시    동구       광주광역시 동구 충장로 97-2  126.917788   \n",
       "41514    커피콩볶는집    NaN  광주광역시   광산구   광주광역시 광산구 장신로147번길 10  126.826561   \n",
       "41515    하늘나무카페    NaN  광주광역시    서구      광주광역시 서구 염화로31번길 7  126.872019   \n",
       "...         ...    ...    ...   ...                     ...         ...   \n",
       "86896    크레이저커피    갈산점  인천광역시   부평구  인천광역시 부평구 길주로585번길 8-6  126.727725   \n",
       "86897      만랩커피  인천연수점  인천광역시   연수구      인천광역시 연수구 먼우금로 194  126.676979   \n",
       "86898      라코카페    NaN  인천광역시    중구     인천광역시 중구 제물량로 137-1  126.628380   \n",
       "86899      버찌카페    NaN  인천광역시  미추홀구   인천광역시 미추홀구 미추로19번길 41  126.645039   \n",
       "86900     하삼동인천    북항점  인천광역시    서구    인천광역시 서구 북항로32번안길 41  126.646684   \n",
       "\n",
       "              위도  \n",
       "41511  35.145490  \n",
       "41512  35.185314  \n",
       "41513  35.147523  \n",
       "41514  35.191626  \n",
       "41515  35.136821  \n",
       "...          ...  \n",
       "86896  37.507562  \n",
       "86897  37.414324  \n",
       "86898  37.469517  \n",
       "86899  37.462258  \n",
       "86900  37.509518  \n",
       "\n",
       "[24531 rows x 7 columns]"
      ],
      "text/html": "<div>\n<style scoped>\n    .dataframe tbody tr th:only-of-type {\n        vertical-align: middle;\n    }\n\n    .dataframe tbody tr th {\n        vertical-align: top;\n    }\n\n    .dataframe thead th {\n        text-align: right;\n    }\n</style>\n<table border=\"1\" class=\"dataframe\">\n  <thead>\n    <tr style=\"text-align: right;\">\n      <th></th>\n      <th>상호명</th>\n      <th>지점명</th>\n      <th>시도명</th>\n      <th>시군구명</th>\n      <th>도로명주소</th>\n      <th>경도</th>\n      <th>위도</th>\n    </tr>\n  </thead>\n  <tbody>\n    <tr>\n      <td>41511</td>\n      <td>카페홀더</td>\n      <td>NaN</td>\n      <td>광주광역시</td>\n      <td>서구</td>\n      <td>광주광역시 서구 상무대로 760</td>\n      <td>126.847789</td>\n      <td>35.145490</td>\n    </tr>\n    <tr>\n      <td>41512</td>\n      <td>니나스에스프레소</td>\n      <td>광주지사</td>\n      <td>광주광역시</td>\n      <td>광산구</td>\n      <td>광주광역시 광산구 수등로 243</td>\n      <td>126.835633</td>\n      <td>35.185314</td>\n    </tr>\n    <tr>\n      <td>41513</td>\n      <td>꼬냥이까페</td>\n      <td>NaN</td>\n      <td>광주광역시</td>\n      <td>동구</td>\n      <td>광주광역시 동구 충장로 97-2</td>\n      <td>126.917788</td>\n      <td>35.147523</td>\n    </tr>\n    <tr>\n      <td>41514</td>\n      <td>커피콩볶는집</td>\n      <td>NaN</td>\n      <td>광주광역시</td>\n      <td>광산구</td>\n      <td>광주광역시 광산구 장신로147번길 10</td>\n      <td>126.826561</td>\n      <td>35.191626</td>\n    </tr>\n    <tr>\n      <td>41515</td>\n      <td>하늘나무카페</td>\n      <td>NaN</td>\n      <td>광주광역시</td>\n      <td>서구</td>\n      <td>광주광역시 서구 염화로31번길 7</td>\n      <td>126.872019</td>\n      <td>35.136821</td>\n    </tr>\n    <tr>\n      <td>...</td>\n      <td>...</td>\n      <td>...</td>\n      <td>...</td>\n      <td>...</td>\n      <td>...</td>\n      <td>...</td>\n      <td>...</td>\n    </tr>\n    <tr>\n      <td>86896</td>\n      <td>크레이저커피</td>\n      <td>갈산점</td>\n      <td>인천광역시</td>\n      <td>부평구</td>\n      <td>인천광역시 부평구 길주로585번길 8-6</td>\n      <td>126.727725</td>\n      <td>37.507562</td>\n    </tr>\n    <tr>\n      <td>86897</td>\n      <td>만랩커피</td>\n      <td>인천연수점</td>\n      <td>인천광역시</td>\n      <td>연수구</td>\n      <td>인천광역시 연수구 먼우금로 194</td>\n      <td>126.676979</td>\n      <td>37.414324</td>\n    </tr>\n    <tr>\n      <td>86898</td>\n      <td>라코카페</td>\n      <td>NaN</td>\n      <td>인천광역시</td>\n      <td>중구</td>\n      <td>인천광역시 중구 제물량로 137-1</td>\n      <td>126.628380</td>\n      <td>37.469517</td>\n    </tr>\n    <tr>\n      <td>86899</td>\n      <td>버찌카페</td>\n      <td>NaN</td>\n      <td>인천광역시</td>\n      <td>미추홀구</td>\n      <td>인천광역시 미추홀구 미추로19번길 41</td>\n      <td>126.645039</td>\n      <td>37.462258</td>\n    </tr>\n    <tr>\n      <td>86900</td>\n      <td>하삼동인천</td>\n      <td>북항점</td>\n      <td>인천광역시</td>\n      <td>서구</td>\n      <td>인천광역시 서구 북항로32번안길 41</td>\n      <td>126.646684</td>\n      <td>37.509518</td>\n    </tr>\n  </tbody>\n</table>\n<p>24531 rows × 7 columns</p>\n</div>"
     },
     "metadata": {},
     "execution_count": 99
    }
   ],
   "source": [
    "cafe[cafe['시도명'].str.find('광역시') >= 0]"
   ]
  },
  {
   "cell_type": "code",
   "execution_count": 100,
   "metadata": {},
   "outputs": [
    {
     "output_type": "execute_result",
     "data": {
      "text/plain": [
       "              상호명        지점명  시도명 시군구명                      도로명주소          경도  \\\n",
       "4448      미세스마리안느        NaN  수원시  영통구         경기도 수원시 영통구 반달로 29  127.075634   \n",
       "4453     레인보우어학카페        NaN  수원시  영통구       경기도 수원시 영통구 아주로 26-1  127.044138   \n",
       "4460            핀        NaN  수원시  권선구  경기도 수원시 권선구 동탄원천로813번길 16  127.038831   \n",
       "4463      칼레오영어카페        NaN  수원시  영통구     경기도 수원시 영통구 센트럴타운로 107  127.048362   \n",
       "4473   7080라이브스토리        NaN  수원시  팔달구       경기도 수원시 팔달구 장다리로 191  127.024684   \n",
       "...           ...        ...  ...  ...                        ...         ...   \n",
       "28724          공차      수원광교점  수원시  영통구      경기도 수원시 영통구 센트럴타운로 94  127.050899   \n",
       "28768        스타벅스     수원호매실점  수원시  권선구  경기도 수원시 권선구 서수원로577번길 305  126.939917   \n",
       "28778          카페        광보드  수원시  팔달구    경기도 수원시 팔달구 장다리로172번길 2  127.024437   \n",
       "28782      천겹의속삭임        NaN  수원시  영통구  경기도 수원시 영통구 덕영대로1556번길 16  127.059161   \n",
       "28804          카페  수원아주대점멘토즈  수원시  영통구       경기도 수원시 영통구 중부대로 259  127.044550   \n",
       "\n",
       "              위도  \n",
       "4448   37.251242  \n",
       "4453   37.277196  \n",
       "4460   37.248525  \n",
       "4463   37.291909  \n",
       "4473   37.266927  \n",
       "...          ...  \n",
       "28724  37.291929  \n",
       "28768  37.276110  \n",
       "28778  37.265078  \n",
       "28782  37.245255  \n",
       "28804  37.274983  \n",
       "\n",
       "[2270 rows x 7 columns]"
      ],
      "text/html": "<div>\n<style scoped>\n    .dataframe tbody tr th:only-of-type {\n        vertical-align: middle;\n    }\n\n    .dataframe tbody tr th {\n        vertical-align: top;\n    }\n\n    .dataframe thead th {\n        text-align: right;\n    }\n</style>\n<table border=\"1\" class=\"dataframe\">\n  <thead>\n    <tr style=\"text-align: right;\">\n      <th></th>\n      <th>상호명</th>\n      <th>지점명</th>\n      <th>시도명</th>\n      <th>시군구명</th>\n      <th>도로명주소</th>\n      <th>경도</th>\n      <th>위도</th>\n    </tr>\n  </thead>\n  <tbody>\n    <tr>\n      <td>4448</td>\n      <td>미세스마리안느</td>\n      <td>NaN</td>\n      <td>수원시</td>\n      <td>영통구</td>\n      <td>경기도 수원시 영통구 반달로 29</td>\n      <td>127.075634</td>\n      <td>37.251242</td>\n    </tr>\n    <tr>\n      <td>4453</td>\n      <td>레인보우어학카페</td>\n      <td>NaN</td>\n      <td>수원시</td>\n      <td>영통구</td>\n      <td>경기도 수원시 영통구 아주로 26-1</td>\n      <td>127.044138</td>\n      <td>37.277196</td>\n    </tr>\n    <tr>\n      <td>4460</td>\n      <td>핀</td>\n      <td>NaN</td>\n      <td>수원시</td>\n      <td>권선구</td>\n      <td>경기도 수원시 권선구 동탄원천로813번길 16</td>\n      <td>127.038831</td>\n      <td>37.248525</td>\n    </tr>\n    <tr>\n      <td>4463</td>\n      <td>칼레오영어카페</td>\n      <td>NaN</td>\n      <td>수원시</td>\n      <td>영통구</td>\n      <td>경기도 수원시 영통구 센트럴타운로 107</td>\n      <td>127.048362</td>\n      <td>37.291909</td>\n    </tr>\n    <tr>\n      <td>4473</td>\n      <td>7080라이브스토리</td>\n      <td>NaN</td>\n      <td>수원시</td>\n      <td>팔달구</td>\n      <td>경기도 수원시 팔달구 장다리로 191</td>\n      <td>127.024684</td>\n      <td>37.266927</td>\n    </tr>\n    <tr>\n      <td>...</td>\n      <td>...</td>\n      <td>...</td>\n      <td>...</td>\n      <td>...</td>\n      <td>...</td>\n      <td>...</td>\n      <td>...</td>\n    </tr>\n    <tr>\n      <td>28724</td>\n      <td>공차</td>\n      <td>수원광교점</td>\n      <td>수원시</td>\n      <td>영통구</td>\n      <td>경기도 수원시 영통구 센트럴타운로 94</td>\n      <td>127.050899</td>\n      <td>37.291929</td>\n    </tr>\n    <tr>\n      <td>28768</td>\n      <td>스타벅스</td>\n      <td>수원호매실점</td>\n      <td>수원시</td>\n      <td>권선구</td>\n      <td>경기도 수원시 권선구 서수원로577번길 305</td>\n      <td>126.939917</td>\n      <td>37.276110</td>\n    </tr>\n    <tr>\n      <td>28778</td>\n      <td>카페</td>\n      <td>광보드</td>\n      <td>수원시</td>\n      <td>팔달구</td>\n      <td>경기도 수원시 팔달구 장다리로172번길 2</td>\n      <td>127.024437</td>\n      <td>37.265078</td>\n    </tr>\n    <tr>\n      <td>28782</td>\n      <td>천겹의속삭임</td>\n      <td>NaN</td>\n      <td>수원시</td>\n      <td>영통구</td>\n      <td>경기도 수원시 영통구 덕영대로1556번길 16</td>\n      <td>127.059161</td>\n      <td>37.245255</td>\n    </tr>\n    <tr>\n      <td>28804</td>\n      <td>카페</td>\n      <td>수원아주대점멘토즈</td>\n      <td>수원시</td>\n      <td>영통구</td>\n      <td>경기도 수원시 영통구 중부대로 259</td>\n      <td>127.044550</td>\n      <td>37.274983</td>\n    </tr>\n  </tbody>\n</table>\n<p>2270 rows × 7 columns</p>\n</div>"
     },
     "metadata": {},
     "execution_count": 100
    }
   ],
   "source": [
    "cafe[cafe['시도명'].str.find('수원') >= 0]"
   ]
  },
  {
   "cell_type": "code",
   "execution_count": 101,
   "metadata": {},
   "outputs": [
    {
     "output_type": "execute_result",
     "data": {
      "text/plain": [
       "'광역시'"
      ]
     },
     "metadata": {},
     "execution_count": 101
    }
   ],
   "source": [
    "cafe['시도명'][41511][-3:]"
   ]
  },
  {
   "cell_type": "code",
   "execution_count": 102,
   "metadata": {},
   "outputs": [
    {
     "output_type": "stream",
     "name": "stderr",
     "text": [
      "100%|██████████| 105101/105101 [00:24<00:00, 4279.05it/s]\n"
     ]
    }
   ],
   "source": [
    "si_name = [None] * len(cafe)\n",
    "\n",
    "# 광주광역시,대구광역시,대전광역시,부산광역시,서울특별시,울산광역시,인천광역시\n",
    "for i in tqdm(cafe.index):\n",
    "    if cafe['시도명'][i][-3:] in ['광역시','특별시']:\n",
    "        if len(cafe['시군구명'][i]) == 2:\n",
    "            si_name[i] = cafe['시도명'][i][:2]  + ' ' + cafe['시군구명'][i]\n",
    "        else:\n",
    "            si_name[i] = cafe['시도명'][i][:2]  + ' ' + cafe['시군구명'][i][:-1]\n",
    "\n",
    "    # 세종특별자치시\n",
    "    elif cafe['시도명'][i] == '세종특별자치시':\n",
    "        si_name[i] = '세종'\n",
    "    # 제주특별자치도\n",
    "    elif cafe['시도명'][i] == '제주특별자치도':\n",
    "        # 요거 잘못함. '제주' 가 아니라 '제주시'로 들어가 있음\n",
    "        if len(cafe['시군구명'][i]) == 3:\n",
    "            si_name[i] = '제주'\n",
    "        else:\n",
    "            si_name[i] = '서귀포'\n",
    "\n",
    "\n",
    "    # 강원도, 경기도 \n",
    "    elif cafe['시도명'][i][:-1] == '도' and len(cafe['시도명'][i]) == 3:\n",
    "        if len(cafe['시군구명'][i]) == 2:\n",
    "            si_name[i] = cafe['시도명'][i][:-1]  + ' ' + cafe['시군구명'][i]\n",
    "        else:\n",
    "            si_name[i] = cafe['시도명'][i][:-1]  + ' ' + cafe['시군구명'][i][:-1]\n",
    "\n",
    "    # 경상남도, 경상북도, 전라남도, 전라북도, 충청남도, 충청북도\n",
    "    elif cafe['시도명'][i][:-1] == '도' and len(cafe['시도명'][i]) == 4:\n",
    "        if len(cafe['시군구명'][i]) == 2:\n",
    "            si_name[i] = cafe['시도명'][i][::2]  + ' ' + cafe['시군구명'][i]\n",
    "        else:\n",
    "            si_name[i] = cafe['시도명'][i][::2]  + ' ' + cafe['시군구명'][i][:-1]\n",
    "\n",
    "\n",
    "    # 그 외 안산시, 수원시, 고양시, 성남시, 안양시, 용인시, 창원시,포항시,전주시,천안시, 청주시\n",
    "    # 딕셔너리\n",
    "\n",
    "\n",
    "        # 강원 고성, 경남 고성, 덮어씌워지므로 조건문 위치 문제 없음\n",
    "    else:\n",
    "        if cafe['시군구명'][i][:-1] == '고성':\n",
    "            if cafe['시도명'][i][:-1]  == '강원':\n",
    "                si_name[i] = '고성(강원)'\n",
    "            else:\n",
    "                si_name[i] = '고성(경남)'\n",
    "        # 요거 잘못함\n",
    "        else:\n",
    "            si_name[i] = cafe['시군구명'][i][:-1]\n",
    "\n",
    "        for key, value in tmp_gu_dict.items():\n",
    "            if cafe['시군구명'][i] in value:\n",
    "                if len(cafe['시군구명'][i]) == 2:\n",
    "                    si_name[i] = key + ' ' + cafe['시군구명'][i]\n",
    "                elif cafe['시군구명'][i] in ['마산합포구', '마산회원구']:\n",
    "                    si_name[i] = key + ' ' + cafe['시군구명'][i][2:-1]\n",
    "                else:\n",
    "                    si_name[i] = key + ' ' + cafe['시군구명'][i][:-1]\n"
   ]
  },
  {
   "cell_type": "code",
   "execution_count": 103,
   "metadata": {},
   "outputs": [
    {
     "output_type": "execute_result",
     "data": {
      "text/plain": [
       "105101"
      ]
     },
     "metadata": {},
     "execution_count": 103
    }
   ],
   "source": [
    "len(si_name)"
   ]
  },
  {
   "cell_type": "code",
   "execution_count": 104,
   "metadata": {},
   "outputs": [
    {
     "output_type": "execute_result",
     "data": {
      "text/plain": [
       "['강릉', '강릉', '정선', '원주', '영월', '태백', '영월', '강릉', '춘천', '춘천']"
      ]
     },
     "metadata": {},
     "execution_count": 104
    }
   ],
   "source": [
    "si_name[:10]"
   ]
  },
  {
   "cell_type": "code",
   "execution_count": 105,
   "metadata": {},
   "outputs": [
    {
     "output_type": "execute_result",
     "data": {
      "text/plain": [
       "255"
      ]
     },
     "metadata": {},
     "execution_count": 105
    }
   ],
   "source": [
    "# 1차시도: 용인, 수원 이런게 들어가 있어서 5개가 더 들어감\n",
    "# 제주 제주, 제주 서귀포\n",
    "sr_si_name = pd.Series(si_name)\n",
    "len(sr_si_name.unique())"
   ]
  },
  {
   "cell_type": "code",
   "execution_count": 106,
   "metadata": {},
   "outputs": [
    {
     "output_type": "execute_result",
     "data": {
      "text/plain": [
       "array(['강릉', '정선', '원주', '영월', '태백', '춘천', '삼척', '철원', '속초', '동해', '화천',\n",
       "       '양구', '횡성', '양양', '홍천', '평창', '고성(강원)', '인제', '안산 상록', '여주', '부천',\n",
       "       '남양주', '수원 영통', '광주', '시흥', '평택', '포천', '화성', '파주', '군포', '수원 권선',\n",
       "       '김포', '고양 일산동', '성남 분당', '안양 만안', '용인 기흥', '성남 중원', '수원 팔달',\n",
       "       '용인 처인', '의정부', '구리', '고양 일산서', '용인 수지', '성남 수정', '안성', '안산', '광명',\n",
       "       '고양 덕양', '의왕', '수원 장안', '안양 동안', '안산 단원', '이천', '오산', '가평', '하남',\n",
       "       '과천', '양주', '양평', '동두천', '용인', '연천', '수원', '창원 성산', '창원 합포',\n",
       "       '창원 회원', '사천', '함안', '창원 의창', '함양', '의령', '하동', '밀양', '김해', '진주',\n",
       "       '통영', '거제', '창원 진해', '창원', '양산', '고성(경남)', '산청', '창녕', '거창', '합천',\n",
       "       '남해', '경주', '경산', '영주', '구미', '포항 남구', '영덕', '상주', '안동', '의성',\n",
       "       '문경', '칠곡', '영천', '울진', '포항 북구', '울릉', '김천', '청도', '성주', '청송',\n",
       "       '군위', '영양', '봉화', '예천', '고령', '광주 서구', '광주 광산', '광주 동구', '광주 북구',\n",
       "       '광주 남구', '대구 수성', '대구 중구', '대구 북구', '대구 서구', '대구 남구', '대구 달성',\n",
       "       '대구 동구', '대구 달서', '대전 서구', '대전 중구', '대전 동구', '대전 유성', '대전 대덕',\n",
       "       '부산 기장', '부산 북구', '부산 해운대', '부산 사상', '부산 사하', '부산 남구', '부산 금정',\n",
       "       '부산 중구', '부산 수영', '부산 연제', '부산 부산진', '부산 동래', '부산 동구', '부산 강서',\n",
       "       '부산 영도', '부산 서구', '서울 강남', '서울 성북', '서울 영등포', '서울 중구', '서울 서초',\n",
       "       '서울 구로', '서울 종로', '서울 마포', '서울 도봉', '서울 은평', '서울 서대문', '서울 양천',\n",
       "       '서울 광진', '서울 용산', '서울 관악', '서울 성동', '서울 송파', '서울 금천', '서울 동대문',\n",
       "       '서울 강서', '서울 동작', '서울 중랑', '서울 강동', '서울 강북', '서울 노원', '세종',\n",
       "       '울산 남구', '울산 울주', '울산 동구', '울산 중구', '울산 북구', '인천 미추홀', '인천 남동',\n",
       "       '인천 계양', '인천 부평', '인천 연수', '인천 서구', '인천 중구', '인천 동구', '인천 강화',\n",
       "       '인천 옹진', '순천', '함평', '목포', '여수', '광양', '나주', '장성', '담양', '보성',\n",
       "       '화순', '영암', '영광', '장흥', '무안', '구례', '고흥', '진도', '완도', '해남', '곡성',\n",
       "       '신안', '강진', '임실', '익산', '전주 완산', '군산', '부안', '김제', '남원', '전주 덕진',\n",
       "       '완주', '정읍', '순창', '고창', '장수', '무주', '진안', '전주', '제주', '서귀포', '아산',\n",
       "       '공주', '당진', '천안 동남', '금산', '태안', '서천', '서산', '홍성', '보령', '천안 서북',\n",
       "       '예산', '계룡', '청양', '논산', '부여', '충주', '제천', '청주 상당', '청주 흥덕',\n",
       "       '청주 서원', '음성', '청주 청원', '괴산', '영동', '진천', '단양', '옥천', '보은', '증평'],\n",
       "      dtype=object)"
      ]
     },
     "metadata": {},
     "execution_count": 106
    }
   ],
   "source": [
    "sr_si_name.unique()"
   ]
  },
  {
   "cell_type": "code",
   "execution_count": 107,
   "metadata": {},
   "outputs": [
    {
     "output_type": "execute_result",
     "data": {
      "text/plain": [
       "(6486    수원\n",
       " dtype: object, 4822     용인\n",
       " 6184     용인\n",
       " 14261    용인\n",
       " 14521    용인\n",
       " 15058    용인\n",
       " 19354    용인\n",
       " 21226    용인\n",
       " 23825    용인\n",
       " 24918    용인\n",
       " 25040    용인\n",
       " 25232    용인\n",
       " 26322    용인\n",
       " dtype: object)"
      ]
     },
     "metadata": {},
     "execution_count": 107
    }
   ],
   "source": [
    "sr_si_name[sr_si_name == '수원'],\\\n",
    "sr_si_name[sr_si_name == '용인']"
   ]
  },
  {
   "cell_type": "code",
   "execution_count": 108,
   "metadata": {},
   "outputs": [
    {
     "output_type": "execute_result",
     "data": {
      "text/plain": [
       "        상호명   지점명  시도명 시군구명                도로명주소          경도         위도\n",
       "6486  이디야커피  망포역점  경기도  수원시  경기도 수원시 영통구 영통로 195  127.055792  37.245175"
      ],
      "text/html": "<div>\n<style scoped>\n    .dataframe tbody tr th:only-of-type {\n        vertical-align: middle;\n    }\n\n    .dataframe tbody tr th {\n        vertical-align: top;\n    }\n\n    .dataframe thead th {\n        text-align: right;\n    }\n</style>\n<table border=\"1\" class=\"dataframe\">\n  <thead>\n    <tr style=\"text-align: right;\">\n      <th></th>\n      <th>상호명</th>\n      <th>지점명</th>\n      <th>시도명</th>\n      <th>시군구명</th>\n      <th>도로명주소</th>\n      <th>경도</th>\n      <th>위도</th>\n    </tr>\n  </thead>\n  <tbody>\n    <tr>\n      <td>6486</td>\n      <td>이디야커피</td>\n      <td>망포역점</td>\n      <td>경기도</td>\n      <td>수원시</td>\n      <td>경기도 수원시 영통구 영통로 195</td>\n      <td>127.055792</td>\n      <td>37.245175</td>\n    </tr>\n  </tbody>\n</table>\n</div>"
     },
     "metadata": {},
     "execution_count": 108
    }
   ],
   "source": [
    "cafe.iloc[6486:6487,:]"
   ]
  },
  {
   "source": [
    "- 파이썬에서는 인덱스가 0부터 시작하므로 >= 0, 0을 포함해야 함\n",
    "# string의 find()는 특정 단어의 개수를 찾아주는 게 아니라 단어가 시작하는 인덱스를 찾아준다."
   ],
   "cell_type": "markdown",
   "metadata": {}
  },
  {
   "cell_type": "code",
   "execution_count": 109,
   "metadata": {},
   "outputs": [
    {
     "output_type": "execute_result",
     "data": {
      "text/plain": [
       "58626    서울 영등포\n",
       "58657    서울 영등포\n",
       "58674    서울 영등포\n",
       "58676    서울 영등포\n",
       "58695    서울 영등포\n",
       "          ...  \n",
       "78842    서울 영등포\n",
       "78852    서울 영등포\n",
       "78862    서울 영등포\n",
       "78867    서울 영등포\n",
       "78873    서울 영등포\n",
       "Length: 1075, dtype: object"
      ]
     },
     "metadata": {},
     "execution_count": 109
    }
   ],
   "source": [
    "sr_si_name[sr_si_name.str.find('영등포') >= 0]"
   ]
  },
  {
   "cell_type": "code",
   "execution_count": 110,
   "metadata": {},
   "outputs": [],
   "source": [
    "cafe['ID'] = si_name\n",
    "del cafe['시군구명']\n",
    "del cafe['시도명']\n",
    "cafe.to_csv('./result/고유 ID.csv',sep=',',encoding='utf8')"
   ]
  },
  {
   "cell_type": "code",
   "execution_count": 111,
   "metadata": {},
   "outputs": [
    {
     "output_type": "execute_result",
     "data": {
      "text/plain": [
       "           상호명       지점명                       도로명주소          경도         위도  \\\n",
       "105096    커피팜스       NaN  충청북도 청주시 서원구 사운로174번길 35-1  127.480678  36.645616   \n",
       "105097  커피랩KBS       NaN          충청북도 청주시 상당구 용담로 7  127.492144  36.633175   \n",
       "105098    군밤카페       NaN    충청북도 청주시 흥덕구 풍년로180번길 19  127.432589  36.628652   \n",
       "105099      카페    라벨르디저트      충청북도 청주시 서원구 수곡로 112-1  127.469841  36.621037   \n",
       "105100      카페  벧엘무인신용카드      충청북도 영동군 양강면 묘동4길 9-11  127.749886  36.146793   \n",
       "\n",
       "           ID  \n",
       "105096  청주 서원  \n",
       "105097  청주 상당  \n",
       "105098  청주 흥덕  \n",
       "105099  청주 서원  \n",
       "105100     영동  "
      ],
      "text/html": "<div>\n<style scoped>\n    .dataframe tbody tr th:only-of-type {\n        vertical-align: middle;\n    }\n\n    .dataframe tbody tr th {\n        vertical-align: top;\n    }\n\n    .dataframe thead th {\n        text-align: right;\n    }\n</style>\n<table border=\"1\" class=\"dataframe\">\n  <thead>\n    <tr style=\"text-align: right;\">\n      <th></th>\n      <th>상호명</th>\n      <th>지점명</th>\n      <th>도로명주소</th>\n      <th>경도</th>\n      <th>위도</th>\n      <th>ID</th>\n    </tr>\n  </thead>\n  <tbody>\n    <tr>\n      <td>105096</td>\n      <td>커피팜스</td>\n      <td>NaN</td>\n      <td>충청북도 청주시 서원구 사운로174번길 35-1</td>\n      <td>127.480678</td>\n      <td>36.645616</td>\n      <td>청주 서원</td>\n    </tr>\n    <tr>\n      <td>105097</td>\n      <td>커피랩KBS</td>\n      <td>NaN</td>\n      <td>충청북도 청주시 상당구 용담로 7</td>\n      <td>127.492144</td>\n      <td>36.633175</td>\n      <td>청주 상당</td>\n    </tr>\n    <tr>\n      <td>105098</td>\n      <td>군밤카페</td>\n      <td>NaN</td>\n      <td>충청북도 청주시 흥덕구 풍년로180번길 19</td>\n      <td>127.432589</td>\n      <td>36.628652</td>\n      <td>청주 흥덕</td>\n    </tr>\n    <tr>\n      <td>105099</td>\n      <td>카페</td>\n      <td>라벨르디저트</td>\n      <td>충청북도 청주시 서원구 수곡로 112-1</td>\n      <td>127.469841</td>\n      <td>36.621037</td>\n      <td>청주 서원</td>\n    </tr>\n    <tr>\n      <td>105100</td>\n      <td>카페</td>\n      <td>벧엘무인신용카드</td>\n      <td>충청북도 영동군 양강면 묘동4길 9-11</td>\n      <td>127.749886</td>\n      <td>36.146793</td>\n      <td>영동</td>\n    </tr>\n  </tbody>\n</table>\n</div>"
     },
     "metadata": {},
     "execution_count": 111
    }
   ],
   "source": [
    "cafe.tail()"
   ]
  }
 ]
}