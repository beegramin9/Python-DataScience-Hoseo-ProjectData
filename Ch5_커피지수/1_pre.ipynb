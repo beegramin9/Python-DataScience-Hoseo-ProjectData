{
 "metadata": {
  "language_info": {
   "codemirror_mode": {
    "name": "ipython",
    "version": 3
   },
   "file_extension": ".py",
   "mimetype": "text/x-python",
   "name": "python",
   "nbconvert_exporter": "python",
   "pygments_lexer": "ipython3",
   "version": "3.8.5-final"
  },
  "orig_nbformat": 2,
  "kernelspec": {
   "name": "python3",
   "display_name": "Python 3",
   "language": "python"
  }
 },
 "nbformat": 4,
 "nbformat_minor": 2,
 "cells": [
  {
   "cell_type": "code",
   "execution_count": 1,
   "metadata": {},
   "outputs": [],
   "source": [
    "import pandas as pd\n",
    "import numpy as np\n",
    "from tqdm import tqdm"
   ]
  },
  {
   "cell_type": "code",
   "execution_count": 2,
   "metadata": {},
   "outputs": [
    {
     "output_type": "execute_result",
     "data": {
      "text/plain": [
       "     상가업소번호            상호명         지점명 상권업종대분류코드 상권업종대분류명 상권업종중분류코드 상권업종중분류명  \\\n",
       "0  19911397  커피빈코리아선릉로93길점  코리아선릉로93길점         Q       음식       Q12   커피점/카페   \n",
       "1  19911801           프로포즈         NaN         Q       음식       Q09     유흥주점   \n",
       "\n",
       "  상권업종소분류코드     상권업종소분류명 표준산업분류코드  ...                     건물관리번호  건물명  \\\n",
       "0    Q12A01  커피전문점/카페/다방   I56220  ...  1168010100106960042022041  NaN   \n",
       "1    Q09A01        호프/맥주   I56219  ...  1154510200101620001017748  NaN   \n",
       "\n",
       "                도로명주소   구우편번호   신우편번호  동정보 층정보  호정보          경도         위도  \n",
       "0  서울특별시 강남구 선릉로93길 6  135080  6149.0  NaN   1  NaN  127.047883  37.505675  \n",
       "1  서울특별시 금천구 가산로 34-6  153010  8545.0  NaN   1  NaN  126.899220  37.471711  \n",
       "\n",
       "[2 rows x 39 columns]"
      ],
      "text/html": "<div>\n<style scoped>\n    .dataframe tbody tr th:only-of-type {\n        vertical-align: middle;\n    }\n\n    .dataframe tbody tr th {\n        vertical-align: top;\n    }\n\n    .dataframe thead th {\n        text-align: right;\n    }\n</style>\n<table border=\"1\" class=\"dataframe\">\n  <thead>\n    <tr style=\"text-align: right;\">\n      <th></th>\n      <th>상가업소번호</th>\n      <th>상호명</th>\n      <th>지점명</th>\n      <th>상권업종대분류코드</th>\n      <th>상권업종대분류명</th>\n      <th>상권업종중분류코드</th>\n      <th>상권업종중분류명</th>\n      <th>상권업종소분류코드</th>\n      <th>상권업종소분류명</th>\n      <th>표준산업분류코드</th>\n      <th>...</th>\n      <th>건물관리번호</th>\n      <th>건물명</th>\n      <th>도로명주소</th>\n      <th>구우편번호</th>\n      <th>신우편번호</th>\n      <th>동정보</th>\n      <th>층정보</th>\n      <th>호정보</th>\n      <th>경도</th>\n      <th>위도</th>\n    </tr>\n  </thead>\n  <tbody>\n    <tr>\n      <th>0</th>\n      <td>19911397</td>\n      <td>커피빈코리아선릉로93길점</td>\n      <td>코리아선릉로93길점</td>\n      <td>Q</td>\n      <td>음식</td>\n      <td>Q12</td>\n      <td>커피점/카페</td>\n      <td>Q12A01</td>\n      <td>커피전문점/카페/다방</td>\n      <td>I56220</td>\n      <td>...</td>\n      <td>1168010100106960042022041</td>\n      <td>NaN</td>\n      <td>서울특별시 강남구 선릉로93길 6</td>\n      <td>135080</td>\n      <td>6149.0</td>\n      <td>NaN</td>\n      <td>1</td>\n      <td>NaN</td>\n      <td>127.047883</td>\n      <td>37.505675</td>\n    </tr>\n    <tr>\n      <th>1</th>\n      <td>19911801</td>\n      <td>프로포즈</td>\n      <td>NaN</td>\n      <td>Q</td>\n      <td>음식</td>\n      <td>Q09</td>\n      <td>유흥주점</td>\n      <td>Q09A01</td>\n      <td>호프/맥주</td>\n      <td>I56219</td>\n      <td>...</td>\n      <td>1154510200101620001017748</td>\n      <td>NaN</td>\n      <td>서울특별시 금천구 가산로 34-6</td>\n      <td>153010</td>\n      <td>8545.0</td>\n      <td>NaN</td>\n      <td>1</td>\n      <td>NaN</td>\n      <td>126.899220</td>\n      <td>37.471711</td>\n    </tr>\n  </tbody>\n</table>\n<p>2 rows × 39 columns</p>\n</div>"
     },
     "metadata": {},
     "execution_count": 2
    }
   ],
   "source": [
    "seoul = pd.read_csv('./source/소상공인시장진흥공단_상가(상권)정보_서울_202009.csv', sep='|',encoding='utf-8')\n",
    "seoul.head(2)"
   ]
  },
  {
   "cell_type": "code",
   "execution_count": 3,
   "metadata": {},
   "outputs": [
    {
     "output_type": "execute_result",
     "data": {
      "text/plain": [
       "Index(['상가업소번호', '상호명', '지점명', '상권업종대분류코드', '상권업종대분류명', '상권업종중분류코드',\n",
       "       '상권업종중분류명', '상권업종소분류코드', '상권업종소분류명', '표준산업분류코드', '표준산업분류명', '시도코드',\n",
       "       '시도명', '시군구코드', '시군구명', '행정동코드', '행정동명', '법정동코드', '법정동명', '지번코드',\n",
       "       '대지구분코드', '대지구분명', '지번본번지', '지번부번지', '지번주소', '도로명코드', '도로명', '건물본번지',\n",
       "       '건물부번지', '건물관리번호', '건물명', '도로명주소', '구우편번호', '신우편번호', '동정보', '층정보',\n",
       "       '호정보', '경도', '위도'],\n",
       "      dtype='object')"
      ]
     },
     "metadata": {},
     "execution_count": 3
    }
   ],
   "source": [
    "seoul.columns"
   ]
  },
  {
   "cell_type": "code",
   "execution_count": 4,
   "metadata": {},
   "outputs": [
    {
     "output_type": "execute_result",
     "data": {
      "text/plain": [
       "             상호명         지점명    시도명  시군구명                    도로명주소  \\\n",
       "0  커피빈코리아선릉로93길점  코리아선릉로93길점  서울특별시   강남구       서울특별시 강남구 선릉로93길 6   \n",
       "4   고려대학교교육관쎄리오점         NaN  서울특별시   성북구        서울특별시 성북구 안암로 145   \n",
       "7          스완카페트         NaN  서울특별시  영등포구  서울특별시 영등포구 도신로10가길 11-1   \n",
       "\n",
       "           경도         위도  \n",
       "0  127.047883  37.505675  \n",
       "4  127.031702  37.588485  \n",
       "7  126.897710  37.503693  "
      ],
      "text/html": "<div>\n<style scoped>\n    .dataframe tbody tr th:only-of-type {\n        vertical-align: middle;\n    }\n\n    .dataframe tbody tr th {\n        vertical-align: top;\n    }\n\n    .dataframe thead th {\n        text-align: right;\n    }\n</style>\n<table border=\"1\" class=\"dataframe\">\n  <thead>\n    <tr style=\"text-align: right;\">\n      <th></th>\n      <th>상호명</th>\n      <th>지점명</th>\n      <th>시도명</th>\n      <th>시군구명</th>\n      <th>도로명주소</th>\n      <th>경도</th>\n      <th>위도</th>\n    </tr>\n  </thead>\n  <tbody>\n    <tr>\n      <th>0</th>\n      <td>커피빈코리아선릉로93길점</td>\n      <td>코리아선릉로93길점</td>\n      <td>서울특별시</td>\n      <td>강남구</td>\n      <td>서울특별시 강남구 선릉로93길 6</td>\n      <td>127.047883</td>\n      <td>37.505675</td>\n    </tr>\n    <tr>\n      <th>4</th>\n      <td>고려대학교교육관쎄리오점</td>\n      <td>NaN</td>\n      <td>서울특별시</td>\n      <td>성북구</td>\n      <td>서울특별시 성북구 안암로 145</td>\n      <td>127.031702</td>\n      <td>37.588485</td>\n    </tr>\n    <tr>\n      <th>7</th>\n      <td>스완카페트</td>\n      <td>NaN</td>\n      <td>서울특별시</td>\n      <td>영등포구</td>\n      <td>서울특별시 영등포구 도신로10가길 11-1</td>\n      <td>126.897710</td>\n      <td>37.503693</td>\n    </tr>\n  </tbody>\n</table>\n</div>"
     },
     "metadata": {},
     "execution_count": 4
    }
   ],
   "source": [
    "seoul = seoul[seoul.iloc[:,5]=='Q12']\n",
    "seoul = seoul[['상호명','지점명','시도명','시군구명','도로명주소','경도','위도']]\n",
    "seoul.head(3)"
   ]
  },
  {
   "cell_type": "code",
   "execution_count": null,
   "metadata": {},
   "outputs": [],
   "source": []
  },
  {
   "source": [
    "# 전체 데이터 읽어오기\n",
    "- pd.concat(tmp_list) 사용"
   ],
   "cell_type": "markdown",
   "metadata": {}
  },
  {
   "cell_type": "code",
   "execution_count": 5,
   "metadata": {},
   "outputs": [
    {
     "output_type": "execute_result",
     "data": {
      "text/plain": [
       "['./source\\\\소상공인시장진흥공단_상가(상권)정보_강원_202009.csv',\n",
       " './source\\\\소상공인시장진흥공단_상가(상권)정보_경기_202009.csv',\n",
       " './source\\\\소상공인시장진흥공단_상가(상권)정보_경남_202009.csv',\n",
       " './source\\\\소상공인시장진흥공단_상가(상권)정보_경북_202009.csv',\n",
       " './source\\\\소상공인시장진흥공단_상가(상권)정보_광주_202009.csv',\n",
       " './source\\\\소상공인시장진흥공단_상가(상권)정보_대구_202009.csv',\n",
       " './source\\\\소상공인시장진흥공단_상가(상권)정보_대전_202009.csv',\n",
       " './source\\\\소상공인시장진흥공단_상가(상권)정보_부산_202009.csv',\n",
       " './source\\\\소상공인시장진흥공단_상가(상권)정보_서울_202009.csv',\n",
       " './source\\\\소상공인시장진흥공단_상가(상권)정보_세종_202009.csv',\n",
       " './source\\\\소상공인시장진흥공단_상가(상권)정보_울산_202009.csv',\n",
       " './source\\\\소상공인시장진흥공단_상가(상권)정보_인천_202009.csv',\n",
       " './source\\\\소상공인시장진흥공단_상가(상권)정보_전남_202009.csv',\n",
       " './source\\\\소상공인시장진흥공단_상가(상권)정보_전북_202009.csv',\n",
       " './source\\\\소상공인시장진흥공단_상가(상권)정보_제주_202009.csv',\n",
       " './source\\\\소상공인시장진흥공단_상가(상권)정보_충남_202009.csv',\n",
       " './source\\\\소상공인시장진흥공단_상가(상권)정보_충북_202009.csv']"
      ]
     },
     "metadata": {},
     "execution_count": 5
    }
   ],
   "source": [
    "from glob import glob\n",
    "tmp_list = glob('./source/소상공인시장진흥공단*.csv')\n",
    "tmp_list"
   ]
  },
  {
   "cell_type": "code",
   "execution_count": 6,
   "metadata": {},
   "outputs": [
    {
     "output_type": "stream",
     "name": "stderr",
     "text": [
      "100%|██████████| 17/17 [00:24<00:00,  1.43s/it]\n"
     ]
    }
   ],
   "source": [
    "concat_list = []\n",
    "for file_name in tqdm(tmp_list):\n",
    "    tmp = pd.read_csv(file_name, sep='|',encoding='utf8')\n",
    "    concat_list.append(tmp)"
   ]
  },
  {
   "cell_type": "code",
   "execution_count": 7,
   "metadata": {},
   "outputs": [
    {
     "output_type": "execute_result",
     "data": {
      "text/plain": [
       "     상가업소번호     상호명  지점명 상권업종대분류코드 상권업종대분류명 상권업종중분류코드 상권업종중분류명 상권업종소분류코드  \\\n",
       "0  20173815     황진이  NaN         Q       음식       Q09     유흥주점    Q09A10   \n",
       "1  20176916  용둔은영식당  NaN         Q       음식       Q01       한식    Q01A01   \n",
       "\n",
       "    상권업종소분류명 표준산업분류코드  ...                     건물관리번호  건물명  \\\n",
       "0   룸살롱/단란주점   I56211  ...  4213010100102030001000001  NaN   \n",
       "1  한식/백반/한정식   I56111  ...  4273031022105710012005956  NaN   \n",
       "\n",
       "                  도로명주소     구우편번호    신우편번호  동정보 층정보  호정보          경도  \\\n",
       "0        강원도 원주시 중앙로 61  220904.0  26429.0  NaN   1  NaN  127.952252   \n",
       "1  강원도 횡성군 우천면 경강로 2730  225814.0  25244.0  NaN   1  NaN  128.059348   \n",
       "\n",
       "          위도  \n",
       "0  37.347773  \n",
       "1  37.495197  \n",
       "\n",
       "[2 rows x 39 columns]"
      ],
      "text/html": "<div>\n<style scoped>\n    .dataframe tbody tr th:only-of-type {\n        vertical-align: middle;\n    }\n\n    .dataframe tbody tr th {\n        vertical-align: top;\n    }\n\n    .dataframe thead th {\n        text-align: right;\n    }\n</style>\n<table border=\"1\" class=\"dataframe\">\n  <thead>\n    <tr style=\"text-align: right;\">\n      <th></th>\n      <th>상가업소번호</th>\n      <th>상호명</th>\n      <th>지점명</th>\n      <th>상권업종대분류코드</th>\n      <th>상권업종대분류명</th>\n      <th>상권업종중분류코드</th>\n      <th>상권업종중분류명</th>\n      <th>상권업종소분류코드</th>\n      <th>상권업종소분류명</th>\n      <th>표준산업분류코드</th>\n      <th>...</th>\n      <th>건물관리번호</th>\n      <th>건물명</th>\n      <th>도로명주소</th>\n      <th>구우편번호</th>\n      <th>신우편번호</th>\n      <th>동정보</th>\n      <th>층정보</th>\n      <th>호정보</th>\n      <th>경도</th>\n      <th>위도</th>\n    </tr>\n  </thead>\n  <tbody>\n    <tr>\n      <th>0</th>\n      <td>20173815</td>\n      <td>황진이</td>\n      <td>NaN</td>\n      <td>Q</td>\n      <td>음식</td>\n      <td>Q09</td>\n      <td>유흥주점</td>\n      <td>Q09A10</td>\n      <td>룸살롱/단란주점</td>\n      <td>I56211</td>\n      <td>...</td>\n      <td>4213010100102030001000001</td>\n      <td>NaN</td>\n      <td>강원도 원주시 중앙로 61</td>\n      <td>220904.0</td>\n      <td>26429.0</td>\n      <td>NaN</td>\n      <td>1</td>\n      <td>NaN</td>\n      <td>127.952252</td>\n      <td>37.347773</td>\n    </tr>\n    <tr>\n      <th>1</th>\n      <td>20176916</td>\n      <td>용둔은영식당</td>\n      <td>NaN</td>\n      <td>Q</td>\n      <td>음식</td>\n      <td>Q01</td>\n      <td>한식</td>\n      <td>Q01A01</td>\n      <td>한식/백반/한정식</td>\n      <td>I56111</td>\n      <td>...</td>\n      <td>4273031022105710012005956</td>\n      <td>NaN</td>\n      <td>강원도 횡성군 우천면 경강로 2730</td>\n      <td>225814.0</td>\n      <td>25244.0</td>\n      <td>NaN</td>\n      <td>1</td>\n      <td>NaN</td>\n      <td>128.059348</td>\n      <td>37.495197</td>\n    </tr>\n  </tbody>\n</table>\n<p>2 rows × 39 columns</p>\n</div>"
     },
     "metadata": {},
     "execution_count": 7
    }
   ],
   "source": [
    "korea = pd.concat(concat_list, ignore_index=True)\n",
    "korea.head(2)"
   ]
  },
  {
   "cell_type": "code",
   "execution_count": 8,
   "metadata": {},
   "outputs": [],
   "source": [
    "korea.to_csv('./result/전국 모든 업종.csv',sep=',',encoding='utf8')"
   ]
  },
  {
   "cell_type": "code",
   "execution_count": 3,
   "metadata": {},
   "outputs": [
    {
     "output_type": "execute_result",
     "data": {
      "text/plain": [
       "   Unnamed: 0    상가업소번호     상호명  지점명 상권업종대분류코드 상권업종대분류명 상권업종중분류코드 상권업종중분류명  \\\n",
       "0           0  20173815     황진이  NaN         Q       음식       Q09     유흥주점   \n",
       "1           1  20176916  용둔은영식당  NaN         Q       음식       Q01       한식   \n",
       "2           2  20088927    아미식당  NaN         Q       음식       Q01       한식   \n",
       "3           3  20090406  산약초건강원  NaN         D       소매       D10  건강/미용식품   \n",
       "4           4  20100551    왕벌식당  NaN         Q       음식       Q01       한식   \n",
       "\n",
       "  상권업종소분류코드   상권업종소분류명  ...                     건물관리번호  건물명  \\\n",
       "0    Q09A10   룸살롱/단란주점  ...  4213010100102030001000001  NaN   \n",
       "1    Q01A01  한식/백반/한정식  ...  4273031022105710012005956  NaN   \n",
       "2    Q01A01  한식/백반/한정식  ...  4272034021102240007032409  NaN   \n",
       "3    D10A07        건강원  ...  4219010100100660002001227  NaN   \n",
       "4    Q01A01  한식/백반/한정식  ...  4280033026000000000011542  NaN   \n",
       "\n",
       "                      도로명주소     구우편번호    신우편번호  동정보  층정보  호정보          경도  \\\n",
       "0            강원도 원주시 중앙로 61  220904.0  26429.0  NaN    1  NaN  127.952252   \n",
       "1      강원도 횡성군 우천면 경강로 2730  225814.0  25244.0  NaN    1  NaN  128.059348   \n",
       "2  강원도 홍천군 서석면 풍암장터2길 49-13  250835.0  25166.0  NaN    1  NaN  128.187197   \n",
       "3           강원도 태백시 황지로 112  235800.0  26014.0  NaN    1  NaN  128.992063   \n",
       "4      강원도 양구군 방산면 평화로 5432  255832.0  24501.0  NaN    1  NaN  127.955740   \n",
       "\n",
       "          위도  \n",
       "0  37.347773  \n",
       "1  37.495197  \n",
       "2  37.711402  \n",
       "3  37.168758  \n",
       "4  38.224635  \n",
       "\n",
       "[5 rows x 40 columns]"
      ],
      "text/html": "<div>\n<style scoped>\n    .dataframe tbody tr th:only-of-type {\n        vertical-align: middle;\n    }\n\n    .dataframe tbody tr th {\n        vertical-align: top;\n    }\n\n    .dataframe thead th {\n        text-align: right;\n    }\n</style>\n<table border=\"1\" class=\"dataframe\">\n  <thead>\n    <tr style=\"text-align: right;\">\n      <th></th>\n      <th>Unnamed: 0</th>\n      <th>상가업소번호</th>\n      <th>상호명</th>\n      <th>지점명</th>\n      <th>상권업종대분류코드</th>\n      <th>상권업종대분류명</th>\n      <th>상권업종중분류코드</th>\n      <th>상권업종중분류명</th>\n      <th>상권업종소분류코드</th>\n      <th>상권업종소분류명</th>\n      <th>...</th>\n      <th>건물관리번호</th>\n      <th>건물명</th>\n      <th>도로명주소</th>\n      <th>구우편번호</th>\n      <th>신우편번호</th>\n      <th>동정보</th>\n      <th>층정보</th>\n      <th>호정보</th>\n      <th>경도</th>\n      <th>위도</th>\n    </tr>\n  </thead>\n  <tbody>\n    <tr>\n      <td>0</td>\n      <td>0</td>\n      <td>20173815</td>\n      <td>황진이</td>\n      <td>NaN</td>\n      <td>Q</td>\n      <td>음식</td>\n      <td>Q09</td>\n      <td>유흥주점</td>\n      <td>Q09A10</td>\n      <td>룸살롱/단란주점</td>\n      <td>...</td>\n      <td>4213010100102030001000001</td>\n      <td>NaN</td>\n      <td>강원도 원주시 중앙로 61</td>\n      <td>220904.0</td>\n      <td>26429.0</td>\n      <td>NaN</td>\n      <td>1</td>\n      <td>NaN</td>\n      <td>127.952252</td>\n      <td>37.347773</td>\n    </tr>\n    <tr>\n      <td>1</td>\n      <td>1</td>\n      <td>20176916</td>\n      <td>용둔은영식당</td>\n      <td>NaN</td>\n      <td>Q</td>\n      <td>음식</td>\n      <td>Q01</td>\n      <td>한식</td>\n      <td>Q01A01</td>\n      <td>한식/백반/한정식</td>\n      <td>...</td>\n      <td>4273031022105710012005956</td>\n      <td>NaN</td>\n      <td>강원도 횡성군 우천면 경강로 2730</td>\n      <td>225814.0</td>\n      <td>25244.0</td>\n      <td>NaN</td>\n      <td>1</td>\n      <td>NaN</td>\n      <td>128.059348</td>\n      <td>37.495197</td>\n    </tr>\n    <tr>\n      <td>2</td>\n      <td>2</td>\n      <td>20088927</td>\n      <td>아미식당</td>\n      <td>NaN</td>\n      <td>Q</td>\n      <td>음식</td>\n      <td>Q01</td>\n      <td>한식</td>\n      <td>Q01A01</td>\n      <td>한식/백반/한정식</td>\n      <td>...</td>\n      <td>4272034021102240007032409</td>\n      <td>NaN</td>\n      <td>강원도 홍천군 서석면 풍암장터2길 49-13</td>\n      <td>250835.0</td>\n      <td>25166.0</td>\n      <td>NaN</td>\n      <td>1</td>\n      <td>NaN</td>\n      <td>128.187197</td>\n      <td>37.711402</td>\n    </tr>\n    <tr>\n      <td>3</td>\n      <td>3</td>\n      <td>20090406</td>\n      <td>산약초건강원</td>\n      <td>NaN</td>\n      <td>D</td>\n      <td>소매</td>\n      <td>D10</td>\n      <td>건강/미용식품</td>\n      <td>D10A07</td>\n      <td>건강원</td>\n      <td>...</td>\n      <td>4219010100100660002001227</td>\n      <td>NaN</td>\n      <td>강원도 태백시 황지로 112</td>\n      <td>235800.0</td>\n      <td>26014.0</td>\n      <td>NaN</td>\n      <td>1</td>\n      <td>NaN</td>\n      <td>128.992063</td>\n      <td>37.168758</td>\n    </tr>\n    <tr>\n      <td>4</td>\n      <td>4</td>\n      <td>20100551</td>\n      <td>왕벌식당</td>\n      <td>NaN</td>\n      <td>Q</td>\n      <td>음식</td>\n      <td>Q01</td>\n      <td>한식</td>\n      <td>Q01A01</td>\n      <td>한식/백반/한정식</td>\n      <td>...</td>\n      <td>4280033026000000000011542</td>\n      <td>NaN</td>\n      <td>강원도 양구군 방산면 평화로 5432</td>\n      <td>255832.0</td>\n      <td>24501.0</td>\n      <td>NaN</td>\n      <td>1</td>\n      <td>NaN</td>\n      <td>127.955740</td>\n      <td>38.224635</td>\n    </tr>\n  </tbody>\n</table>\n<p>5 rows × 40 columns</p>\n</div>"
     },
     "metadata": {},
     "execution_count": 3
    }
   ],
   "source": [
    "korea = pd.read_csv('./result/전국 모든 업종.csv',sep=',',encoding='utf8')\n",
    "korea.head()"
   ]
  },
  {
   "cell_type": "code",
   "execution_count": 4,
   "metadata": {},
   "outputs": [],
   "source": [
    "del korea['Unnamed: 0']"
   ]
  },
  {
   "cell_type": "code",
   "execution_count": 11,
   "metadata": {},
   "outputs": [
    {
     "output_type": "execute_result",
     "data": {
      "text/plain": [
       "         상호명  지점명  시도명 시군구명                도로명주소          경도         위도\n",
       "12   버거킹오션월드  NaN  강원도  홍천군  강원도 홍천군 서면 한치골길 262  127.687273  37.652324\n",
       "196      로데오  NaN  강원도  강릉시   강원도 강릉시 경강로 2090-1  128.895743  37.754245\n",
       "479   왕눈이도넛츠  NaN  강원도  영월군   강원도 영월군 영월읍 삼옥재길 2  128.476234  37.209981\n",
       "618  씨지브이원주2  NaN  강원도  원주시     강원도 원주시 서원대로 171  127.930798  37.344816\n",
       "643   베스킨라벤스  NaN  강원도  삼척시       강원도 삼척시 진주로 35  129.163718  37.443797"
      ],
      "text/html": "<div>\n<style scoped>\n    .dataframe tbody tr th:only-of-type {\n        vertical-align: middle;\n    }\n\n    .dataframe tbody tr th {\n        vertical-align: top;\n    }\n\n    .dataframe thead th {\n        text-align: right;\n    }\n</style>\n<table border=\"1\" class=\"dataframe\">\n  <thead>\n    <tr style=\"text-align: right;\">\n      <th></th>\n      <th>상호명</th>\n      <th>지점명</th>\n      <th>시도명</th>\n      <th>시군구명</th>\n      <th>도로명주소</th>\n      <th>경도</th>\n      <th>위도</th>\n    </tr>\n  </thead>\n  <tbody>\n    <tr>\n      <th>12</th>\n      <td>버거킹오션월드</td>\n      <td>NaN</td>\n      <td>강원도</td>\n      <td>홍천군</td>\n      <td>강원도 홍천군 서면 한치골길 262</td>\n      <td>127.687273</td>\n      <td>37.652324</td>\n    </tr>\n    <tr>\n      <th>196</th>\n      <td>로데오</td>\n      <td>NaN</td>\n      <td>강원도</td>\n      <td>강릉시</td>\n      <td>강원도 강릉시 경강로 2090-1</td>\n      <td>128.895743</td>\n      <td>37.754245</td>\n    </tr>\n    <tr>\n      <th>479</th>\n      <td>왕눈이도넛츠</td>\n      <td>NaN</td>\n      <td>강원도</td>\n      <td>영월군</td>\n      <td>강원도 영월군 영월읍 삼옥재길 2</td>\n      <td>128.476234</td>\n      <td>37.209981</td>\n    </tr>\n    <tr>\n      <th>618</th>\n      <td>씨지브이원주2</td>\n      <td>NaN</td>\n      <td>강원도</td>\n      <td>원주시</td>\n      <td>강원도 원주시 서원대로 171</td>\n      <td>127.930798</td>\n      <td>37.344816</td>\n    </tr>\n    <tr>\n      <th>643</th>\n      <td>베스킨라벤스</td>\n      <td>NaN</td>\n      <td>강원도</td>\n      <td>삼척시</td>\n      <td>강원도 삼척시 진주로 35</td>\n      <td>129.163718</td>\n      <td>37.443797</td>\n    </tr>\n  </tbody>\n</table>\n</div>"
     },
     "metadata": {},
     "execution_count": 11
    }
   ],
   "source": [
    "cafe = korea[korea.iloc[:,5]=='Q07']\n",
    "cafe = cafe[['상호명','지점명','시도명','시군구명','도로명주소','경도','위도']]\n",
    "cafe.head()"
   ]
  },
  {
   "cell_type": "code",
   "execution_count": 12,
   "metadata": {},
   "outputs": [],
   "source": [
    "cafe.to_csv('./result/전국 카페.csv',sep=',',encoding='utf8')"
   ]
  },
  {
   "cell_type": "code",
   "execution_count": 13,
   "metadata": {},
   "outputs": [],
   "source": [
    "cafe = pd.read_csv('./result/전국 카페.csv',sep=',',encoding='utf8')"
   ]
  },
  {
   "source": [
    "# 인덱스 재정비"
   ],
   "cell_type": "markdown",
   "metadata": {}
  },
  {
   "cell_type": "code",
   "execution_count": 14,
   "metadata": {},
   "outputs": [],
   "source": [
    "cafe.reset_index(inplace=True)"
   ]
  },
  {
   "cell_type": "code",
   "execution_count": 15,
   "metadata": {},
   "outputs": [],
   "source": [
    "del cafe['index']\n",
    "del cafe['Unnamed: 0']"
   ]
  },
  {
   "cell_type": "code",
   "execution_count": 16,
   "metadata": {},
   "outputs": [
    {
     "output_type": "execute_result",
     "data": {
      "text/plain": [
       "       상호명  지점명  시도명 시군구명                도로명주소          경도         위도\n",
       "0  버거킹오션월드  NaN  강원도  홍천군  강원도 홍천군 서면 한치골길 262  127.687273  37.652324\n",
       "1      로데오  NaN  강원도  강릉시   강원도 강릉시 경강로 2090-1  128.895743  37.754245"
      ],
      "text/html": "<div>\n<style scoped>\n    .dataframe tbody tr th:only-of-type {\n        vertical-align: middle;\n    }\n\n    .dataframe tbody tr th {\n        vertical-align: top;\n    }\n\n    .dataframe thead th {\n        text-align: right;\n    }\n</style>\n<table border=\"1\" class=\"dataframe\">\n  <thead>\n    <tr style=\"text-align: right;\">\n      <th></th>\n      <th>상호명</th>\n      <th>지점명</th>\n      <th>시도명</th>\n      <th>시군구명</th>\n      <th>도로명주소</th>\n      <th>경도</th>\n      <th>위도</th>\n    </tr>\n  </thead>\n  <tbody>\n    <tr>\n      <th>0</th>\n      <td>버거킹오션월드</td>\n      <td>NaN</td>\n      <td>강원도</td>\n      <td>홍천군</td>\n      <td>강원도 홍천군 서면 한치골길 262</td>\n      <td>127.687273</td>\n      <td>37.652324</td>\n    </tr>\n    <tr>\n      <th>1</th>\n      <td>로데오</td>\n      <td>NaN</td>\n      <td>강원도</td>\n      <td>강릉시</td>\n      <td>강원도 강릉시 경강로 2090-1</td>\n      <td>128.895743</td>\n      <td>37.754245</td>\n    </tr>\n  </tbody>\n</table>\n</div>"
     },
     "metadata": {},
     "execution_count": 16
    }
   ],
   "source": [
    "cafe.head(2)"
   ]
  },
  {
   "source": [
    "# 시도명, 시군구명 정비"
   ],
   "cell_type": "markdown",
   "metadata": {}
  },
  {
   "cell_type": "code",
   "execution_count": 17,
   "metadata": {},
   "outputs": [
    {
     "output_type": "execute_result",
     "data": {
      "text/plain": [
       "(0, 0)"
      ]
     },
     "metadata": {},
     "execution_count": 17
    }
   ],
   "source": [
    "cafe['시도명'].isnull().sum(), \\\n",
    "cafe['시군구명'].isnull().sum()"
   ]
  },
  {
   "cell_type": "code",
   "execution_count": 18,
   "metadata": {},
   "outputs": [],
   "source": [
    "cafe['시도명'] = cafe['시도명'].str.strip()\n",
    "cafe['시군구명'] = cafe['시군구명'].str.strip()"
   ]
  },
  {
   "cell_type": "code",
   "execution_count": 19,
   "metadata": {},
   "outputs": [
    {
     "output_type": "execute_result",
     "data": {
      "text/plain": [
       "array(['강원도', '경기도', '경상남도', '경상북도', '광주광역시', '대구광역시', '대전광역시', '부산광역시',\n",
       "       '서울특별시', '세종특별자치시', '울산광역시', '인천광역시', '전라남도', '전라북도', '제주특별자치도',\n",
       "       '충청남도', '충청북도'], dtype=object)"
      ]
     },
     "metadata": {},
     "execution_count": 19
    }
   ],
   "source": [
    "cafe['시도명'].unique()"
   ]
  },
  {
   "cell_type": "code",
   "execution_count": 20,
   "metadata": {},
   "outputs": [
    {
     "output_type": "execute_result",
     "data": {
      "text/plain": [
       "array(['홍천군', '강릉시', '영월군', '원주시', '삼척시', '춘천시', '태백시', '철원군', '화천군',\n",
       "       '동해시', '속초시', '정선군', '평창군', '인제군', '횡성군', '양구군', '양양군', '고성군',\n",
       "       '수원시 장안구', '고양시 덕양구', '안양시 동안구', '파주시', '연천군', '부천시', '용인시 수지구',\n",
       "       '의정부시', '안산시', '고양시 일산동구', '성남시 수정구', '평택시', '안양시 만안구', '군포시',\n",
       "       '시흥시', '고양시 일산서구', '화성시', '오산시', '용인시 기흥구', '수원시 팔달구', '성남시 분당구',\n",
       "       '이천시', '포천시', '용인시 처인구', '성남시 중원구', '양주시', '동두천시', '가평군',\n",
       "       '수원시 영통구', '안산시 단원구', '여주시', '남양주시', '하남시', '수원시 권선구', '광주시',\n",
       "       '김포시', '광명시', '의왕시', '안산시 상록구', '안성시', '양평군', '구리시', '과천시',\n",
       "       '창원시 성산구', '김해시', '진주시', '창원시 진해구', '거제시', '양산시', '산청군', '창원시 의창구',\n",
       "       '창원시 마산회원구', '창원시', '함안군', '통영시', '의령군', '합천군', '함양군', '창원시 마산합포구',\n",
       "       '사천시', '하동군', '창녕군', '거창군', '밀양시', '남해군', '구미시', '영덕군', '상주시',\n",
       "       '김천시', '경산시', '안동시', '포항시 남구', '경주시', '포항시 북구', '군위군', '영주시',\n",
       "       '영천시', '울진군', '봉화군', '칠곡군', '청송군', '청도군', '고령군', '문경시', '의성군',\n",
       "       '성주군', '영양군', '예천군', '울릉군', '광산구', '남구', '북구', '서구', '동구', '달서구',\n",
       "       '중구', '수성구', '달성군', '대덕구', '유성구', '사상구', '해운대구', '강서구', '동래구',\n",
       "       '사하구', '금정구', '수영구', '연제구', '영도구', '부산진구', '기장군', '광진구', '동대문구',\n",
       "       '관악구', '강동구', '성동구', '영등포구', '중랑구', '성북구', '서대문구', '양천구', '구로구',\n",
       "       '서초구', '마포구', '강남구', '금천구', '송파구', '용산구', '도봉구', '동작구', '종로구',\n",
       "       '은평구', '강북구', '노원구', '세종특별자치시', '울주군', '미추홀구', '계양구', '연수구', '부평구',\n",
       "       '옹진군', '남동구', '강화군', '여수시', '목포시', '장성군', '고흥군', '함평군', '영광군',\n",
       "       '순천시', '광양시', '화순군', '나주시', '영암군', '완도군', '보성군', '무안군', '담양군',\n",
       "       '해남군', '곡성군', '장흥군', '강진군', '구례군', '신안군', '진도군', '전주시 완산구', '군산시',\n",
       "       '전주시 덕진구', '정읍시', '남원시', '완주군', '익산시', '김제시', '진안군', '무주군', '장수군',\n",
       "       '고창군', '부안군', '순창군', '임실군', '서귀포시', '제주시', '아산시', '천안시 서북구', '계룡시',\n",
       "       '천안시 동남구', '금산군', '보령시', '부여군', '공주시', '당진시', '서산시', '홍성군', '논산시',\n",
       "       '청양군', '예산군', '서천군', '태안군', '옥천군', '충주시', '청주시 흥덕구', '청주시 청원구',\n",
       "       '청주시 상당구', '청주시 서원구', '진천군', '제천시', '음성군', '괴산군', '증평군', '영동군',\n",
       "       '단양군', '보은군'], dtype=object)"
      ]
     },
     "metadata": {},
     "execution_count": 20
    }
   ],
   "source": [
    "cafe['시군구명'].unique()"
   ]
  },
  {
   "source": [
    "# 시군구명 두 단어\n",
    "- 포항시 북구, 포항시 남구 등등...\n",
    "- 인구소멸위기지역 했을 때 시군구 / 행정구가 같이 나오던 꼴\n",
    "- 행정구 있는 행은 그 행을 시군구명으로, 시군구명을 시도명으로"
   ],
   "cell_type": "markdown",
   "metadata": {}
  },
  {
   "cell_type": "code",
   "execution_count": 21,
   "metadata": {},
   "outputs": [
    {
     "output_type": "execute_result",
     "data": {
      "text/plain": [
       "0             [홍천군]\n",
       "1             [강릉시]\n",
       "2             [영월군]\n",
       "3             [원주시]\n",
       "4             [삼척시]\n",
       "            ...    \n",
       "31164    [청주시, 흥덕구]\n",
       "31165         [충주시]\n",
       "31166         [충주시]\n",
       "31167    [청주시, 흥덕구]\n",
       "31168    [청주시, 흥덕구]\n",
       "Name: 시군구명, Length: 31169, dtype: object"
      ]
     },
     "metadata": {},
     "execution_count": 21
    }
   ],
   "source": [
    "cafe['시군구명'].str.split()"
   ]
  },
  {
   "cell_type": "code",
   "execution_count": 23,
   "metadata": {},
   "outputs": [],
   "source": [
    "# len(cafe['시군구명'][105091].split())\n",
    "# cafe['시군구명'][105098].split()[0]"
   ]
  },
  {
   "cell_type": "code",
   "execution_count": 24,
   "metadata": {},
   "outputs": [
    {
     "output_type": "execute_result",
     "data": {
      "text/plain": [
       "       상호명       지점명  시도명     시군구명                 도로명주소          경도  \\\n",
       "6486  쉐이크쉑  AK플라자분당점  경기도  성남시 분당구  경기도 성남시 분당구 성남대로 601  127.123421   \n",
       "\n",
       "             위도  \n",
       "6486  37.385003  "
      ],
      "text/html": "<div>\n<style scoped>\n    .dataframe tbody tr th:only-of-type {\n        vertical-align: middle;\n    }\n\n    .dataframe tbody tr th {\n        vertical-align: top;\n    }\n\n    .dataframe thead th {\n        text-align: right;\n    }\n</style>\n<table border=\"1\" class=\"dataframe\">\n  <thead>\n    <tr style=\"text-align: right;\">\n      <th></th>\n      <th>상호명</th>\n      <th>지점명</th>\n      <th>시도명</th>\n      <th>시군구명</th>\n      <th>도로명주소</th>\n      <th>경도</th>\n      <th>위도</th>\n    </tr>\n  </thead>\n  <tbody>\n    <tr>\n      <th>6486</th>\n      <td>쉐이크쉑</td>\n      <td>AK플라자분당점</td>\n      <td>경기도</td>\n      <td>성남시 분당구</td>\n      <td>경기도 성남시 분당구 성남대로 601</td>\n      <td>127.123421</td>\n      <td>37.385003</td>\n    </tr>\n  </tbody>\n</table>\n</div>"
     },
     "metadata": {},
     "execution_count": 24
    }
   ],
   "source": [
    "cafe.iloc[6486:6487,:]"
   ]
  },
  {
   "source": [
    "# 어떤 놈은 시군구명에 '경기도 수원시'가 아니라 '수원시'로 되어있음"
   ],
   "cell_type": "markdown",
   "metadata": {}
  },
  {
   "cell_type": "code",
   "execution_count": 25,
   "metadata": {},
   "outputs": [],
   "source": [
    "cafe['시도명'] = cafe.apply(lambda r: r['시군구명'].split()[0] if len(r['시군구명'].split()) == 2 else r['시도명'], axis = 1 )\n",
    "\n",
    "cafe['시군구명'] = cafe.apply(lambda r: r['시군구명'].split()[1] if len(r['시군구명'].split()) == 2 else r['시군구명'], axis = 1 )"
   ]
  },
  {
   "cell_type": "code",
   "execution_count": 26,
   "metadata": {},
   "outputs": [
    {
     "output_type": "execute_result",
     "data": {
      "text/plain": [
       "array(['홍천군', '강릉시', '영월군', '원주시', '삼척시', '춘천시', '태백시', '철원군', '화천군',\n",
       "       '동해시', '속초시', '정선군', '평창군', '인제군', '횡성군', '양구군', '양양군', '고성군',\n",
       "       '장안구', '덕양구', '동안구', '파주시', '연천군', '부천시', '수지구', '의정부시', '안산시',\n",
       "       '일산동구', '수정구', '평택시', '만안구', '군포시', '시흥시', '일산서구', '화성시', '오산시',\n",
       "       '기흥구', '팔달구', '분당구', '이천시', '포천시', '처인구', '중원구', '양주시', '동두천시',\n",
       "       '가평군', '영통구', '단원구', '여주시', '남양주시', '하남시', '권선구', '광주시', '김포시',\n",
       "       '광명시', '의왕시', '상록구', '안성시', '양평군', '구리시', '과천시', '성산구', '김해시',\n",
       "       '진주시', '진해구', '거제시', '양산시', '산청군', '의창구', '마산회원구', '창원시', '함안군',\n",
       "       '통영시', '의령군', '합천군', '함양군', '마산합포구', '사천시', '하동군', '창녕군', '거창군',\n",
       "       '밀양시', '남해군', '구미시', '영덕군', '상주시', '김천시', '경산시', '안동시', '남구',\n",
       "       '경주시', '북구', '군위군', '영주시', '영천시', '울진군', '봉화군', '칠곡군', '청송군',\n",
       "       '청도군', '고령군', '문경시', '의성군', '성주군', '영양군', '예천군', '울릉군', '광산구',\n",
       "       '서구', '동구', '달서구', '중구', '수성구', '달성군', '대덕구', '유성구', '사상구', '해운대구',\n",
       "       '강서구', '동래구', '사하구', '금정구', '수영구', '연제구', '영도구', '부산진구', '기장군',\n",
       "       '광진구', '동대문구', '관악구', '강동구', '성동구', '영등포구', '중랑구', '성북구', '서대문구',\n",
       "       '양천구', '구로구', '서초구', '마포구', '강남구', '금천구', '송파구', '용산구', '도봉구',\n",
       "       '동작구', '종로구', '은평구', '강북구', '노원구', '세종특별자치시', '울주군', '미추홀구', '계양구',\n",
       "       '연수구', '부평구', '옹진군', '남동구', '강화군', '여수시', '목포시', '장성군', '고흥군',\n",
       "       '함평군', '영광군', '순천시', '광양시', '화순군', '나주시', '영암군', '완도군', '보성군',\n",
       "       '무안군', '담양군', '해남군', '곡성군', '장흥군', '강진군', '구례군', '신안군', '진도군',\n",
       "       '완산구', '군산시', '덕진구', '정읍시', '남원시', '완주군', '익산시', '김제시', '진안군',\n",
       "       '무주군', '장수군', '고창군', '부안군', '순창군', '임실군', '서귀포시', '제주시', '아산시',\n",
       "       '서북구', '계룡시', '동남구', '금산군', '보령시', '부여군', '공주시', '당진시', '서산시',\n",
       "       '홍성군', '논산시', '청양군', '예산군', '서천군', '태안군', '옥천군', '충주시', '흥덕구',\n",
       "       '청원구', '상당구', '서원구', '진천군', '제천시', '음성군', '괴산군', '증평군', '영동군',\n",
       "       '단양군', '보은군'], dtype=object)"
      ]
     },
     "metadata": {},
     "execution_count": 26
    }
   ],
   "source": [
    "cafe['시군구명'].unique()"
   ]
  },
  {
   "cell_type": "code",
   "execution_count": 27,
   "metadata": {},
   "outputs": [
    {
     "output_type": "execute_result",
     "data": {
      "text/plain": [
       "(31169, 28, 228)"
      ]
     },
     "metadata": {},
     "execution_count": 27
    }
   ],
   "source": [
    "len(cafe['시도명']), \\\n",
    "len(cafe['시도명'].unique()) , \\\n",
    "len(cafe['시군구명'].unique())"
   ]
  },
  {
   "cell_type": "code",
   "execution_count": 28,
   "metadata": {},
   "outputs": [
    {
     "output_type": "execute_result",
     "data": {
      "text/plain": [
       "array(['강원도', '수원시', '고양시', '안양시', '경기도', '용인시', '성남시', '안산시', '창원시',\n",
       "       '경상남도', '경상북도', '포항시', '광주광역시', '대구광역시', '대전광역시', '부산광역시', '서울특별시',\n",
       "       '세종특별자치시', '울산광역시', '인천광역시', '전라남도', '전주시', '전라북도', '제주특별자치도',\n",
       "       '충청남도', '천안시', '충청북도', '청주시'], dtype=object)"
      ]
     },
     "metadata": {},
     "execution_count": 28
    }
   ],
   "source": [
    "cafe['시도명'].unique()"
   ]
  },
  {
   "cell_type": "code",
   "execution_count": 29,
   "metadata": {},
   "outputs": [],
   "source": [
    "cafe.to_csv('./result/전국 시군구 정리 카페.csv',sep=',',encoding='utf8')"
   ]
  },
  {
   "cell_type": "code",
   "execution_count": 30,
   "metadata": {},
   "outputs": [],
   "source": [
    "cafe = pd.read_csv('./result/전국 시군구 정리 카페.csv',sep=',',encoding='utf8') "
   ]
  },
  {
   "cell_type": "code",
   "execution_count": 31,
   "metadata": {},
   "outputs": [],
   "source": [
    "del cafe['Unnamed: 0']"
   ]
  },
  {
   "source": [
    "# 지역 ID"
   ],
   "cell_type": "markdown",
   "metadata": {}
  },
  {
   "cell_type": "code",
   "execution_count": 32,
   "metadata": {},
   "outputs": [],
   "source": [
    "from ID import ID"
   ]
  },
  {
   "cell_type": "code",
   "execution_count": 33,
   "metadata": {},
   "outputs": [],
   "source": [
    "tmp_gu_dict = {\n",
    "    '수원':['장안구', '권선구', '팔달구', '영통구'], \n",
    "    '성남':['수정구', '중원구', '분당구'], \n",
    "    '안양':['만안구', '동안구'], \n",
    "    '안산':['상록구', '단원구'], \n",
    "    '고양':['덕양구', '일산동구', '일산서구'], \n",
    "    '용인':['처인구', '기흥구', '수지구'], \n",
    "    '청주':['상당구', '서원구', '흥덕구', '청원구'], \n",
    "    '천안':['동남구', '서북구'], \n",
    "    '전주':['완산구', '덕진구'], \n",
    "    '포항':['남구', '북구'], \n",
    "    '창원':['의창구', '성산구', '진해구', '마산합포구', '마산회원구']\n",
    "}"
   ]
  },
  {
   "cell_type": "code",
   "execution_count": 34,
   "metadata": {},
   "outputs": [
    {
     "output_type": "execute_result",
     "data": {
      "text/plain": [
       "             상호명      지점명    시도명 시군구명                     도로명주소          경도  \\\n",
       "12477      썬샤인피자      NaN  광주광역시  광산구        광주광역시 광산구 첨단내촌로 29  126.837079   \n",
       "12478        나뚜루      봉선점  광주광역시   남구          광주광역시 남구 봉선로 172  126.913912   \n",
       "12479  임실치즈피자케이준      NaN  광주광역시   북구      광주광역시 북구 연양로7번길 23-5  126.867893   \n",
       "12480     프렌치크레페      NaN  광주광역시   북구         광주광역시 북구 동문대로 200  126.930442   \n",
       "12481        버거킹    광주상무점  광주광역시   서구          광주광역시 서구 치평로 106  126.847816   \n",
       "...          ...      ...    ...  ...                       ...         ...   \n",
       "25898       오구본가      NaN  인천광역시   서구       인천광역시 서구 검단로487번길 1  126.658317   \n",
       "25899      핫한핫도그      NaN  인천광역시   중구         인천광역시 중구 하늘달빛로 94  126.557465   \n",
       "25900     소문난도너츠      NaN  인천광역시   서구    인천광역시 서구 원창로229번길 11-1  126.674789   \n",
       "25901     노브랜드버거  인천스퀘어원점  인천광역시  연수구        인천광역시 연수구 청능대로 210  126.683609   \n",
       "25902      피자플레넷      부평점  인천광역시  부평구  인천광역시 부평구 주부토로146번길 13-1  126.726514   \n",
       "\n",
       "              위도  \n",
       "12477  35.209439  \n",
       "12478  35.122890  \n",
       "12479  35.207280  \n",
       "12480  35.179338  \n",
       "12481  35.156820  \n",
       "...          ...  \n",
       "25898  37.602662  \n",
       "25899  37.487288  \n",
       "25900  37.518594  \n",
       "25901  37.405983  \n",
       "25902  37.508225  \n",
       "\n",
       "[7611 rows x 7 columns]"
      ],
      "text/html": "<div>\n<style scoped>\n    .dataframe tbody tr th:only-of-type {\n        vertical-align: middle;\n    }\n\n    .dataframe tbody tr th {\n        vertical-align: top;\n    }\n\n    .dataframe thead th {\n        text-align: right;\n    }\n</style>\n<table border=\"1\" class=\"dataframe\">\n  <thead>\n    <tr style=\"text-align: right;\">\n      <th></th>\n      <th>상호명</th>\n      <th>지점명</th>\n      <th>시도명</th>\n      <th>시군구명</th>\n      <th>도로명주소</th>\n      <th>경도</th>\n      <th>위도</th>\n    </tr>\n  </thead>\n  <tbody>\n    <tr>\n      <th>12477</th>\n      <td>썬샤인피자</td>\n      <td>NaN</td>\n      <td>광주광역시</td>\n      <td>광산구</td>\n      <td>광주광역시 광산구 첨단내촌로 29</td>\n      <td>126.837079</td>\n      <td>35.209439</td>\n    </tr>\n    <tr>\n      <th>12478</th>\n      <td>나뚜루</td>\n      <td>봉선점</td>\n      <td>광주광역시</td>\n      <td>남구</td>\n      <td>광주광역시 남구 봉선로 172</td>\n      <td>126.913912</td>\n      <td>35.122890</td>\n    </tr>\n    <tr>\n      <th>12479</th>\n      <td>임실치즈피자케이준</td>\n      <td>NaN</td>\n      <td>광주광역시</td>\n      <td>북구</td>\n      <td>광주광역시 북구 연양로7번길 23-5</td>\n      <td>126.867893</td>\n      <td>35.207280</td>\n    </tr>\n    <tr>\n      <th>12480</th>\n      <td>프렌치크레페</td>\n      <td>NaN</td>\n      <td>광주광역시</td>\n      <td>북구</td>\n      <td>광주광역시 북구 동문대로 200</td>\n      <td>126.930442</td>\n      <td>35.179338</td>\n    </tr>\n    <tr>\n      <th>12481</th>\n      <td>버거킹</td>\n      <td>광주상무점</td>\n      <td>광주광역시</td>\n      <td>서구</td>\n      <td>광주광역시 서구 치평로 106</td>\n      <td>126.847816</td>\n      <td>35.156820</td>\n    </tr>\n    <tr>\n      <th>...</th>\n      <td>...</td>\n      <td>...</td>\n      <td>...</td>\n      <td>...</td>\n      <td>...</td>\n      <td>...</td>\n      <td>...</td>\n    </tr>\n    <tr>\n      <th>25898</th>\n      <td>오구본가</td>\n      <td>NaN</td>\n      <td>인천광역시</td>\n      <td>서구</td>\n      <td>인천광역시 서구 검단로487번길 1</td>\n      <td>126.658317</td>\n      <td>37.602662</td>\n    </tr>\n    <tr>\n      <th>25899</th>\n      <td>핫한핫도그</td>\n      <td>NaN</td>\n      <td>인천광역시</td>\n      <td>중구</td>\n      <td>인천광역시 중구 하늘달빛로 94</td>\n      <td>126.557465</td>\n      <td>37.487288</td>\n    </tr>\n    <tr>\n      <th>25900</th>\n      <td>소문난도너츠</td>\n      <td>NaN</td>\n      <td>인천광역시</td>\n      <td>서구</td>\n      <td>인천광역시 서구 원창로229번길 11-1</td>\n      <td>126.674789</td>\n      <td>37.518594</td>\n    </tr>\n    <tr>\n      <th>25901</th>\n      <td>노브랜드버거</td>\n      <td>인천스퀘어원점</td>\n      <td>인천광역시</td>\n      <td>연수구</td>\n      <td>인천광역시 연수구 청능대로 210</td>\n      <td>126.683609</td>\n      <td>37.405983</td>\n    </tr>\n    <tr>\n      <th>25902</th>\n      <td>피자플레넷</td>\n      <td>부평점</td>\n      <td>인천광역시</td>\n      <td>부평구</td>\n      <td>인천광역시 부평구 주부토로146번길 13-1</td>\n      <td>126.726514</td>\n      <td>37.508225</td>\n    </tr>\n  </tbody>\n</table>\n<p>7611 rows × 7 columns</p>\n</div>"
     },
     "metadata": {},
     "execution_count": 34
    }
   ],
   "source": [
    "cafe[cafe['시도명'].str.find('광역시') >= 0]"
   ]
  },
  {
   "cell_type": "code",
   "execution_count": 35,
   "metadata": {},
   "outputs": [
    {
     "output_type": "execute_result",
     "data": {
      "text/plain": [
       "              상호명      지점명  시도명 시군구명                        도로명주소          경도  \\\n",
       "1188     피자사랑치킨사랑      NaN  수원시  장안구       경기도 수원시 장안구 만석로20번길 28  126.984399   \n",
       "1207     피자스쿨5000      NaN  수원시  장안구           경기도 수원시 장안구 대평로 86  126.993281   \n",
       "1211      씨지브이북수원      NaN  수원시  장안구         경기도 수원시 장안구 경수대로 950  127.007494   \n",
       "1216         맥도날드   북수원DT점  수원시  장안구         경기도 수원시 장안구 경수대로 991  127.002712   \n",
       "1224      빨라쪼델프레도  수원갤러리아점  수원시  팔달구          경기도 수원시 팔달구 효원로 282  127.032258   \n",
       "...           ...      ...  ...  ...                          ...         ...   \n",
       "8965        봉수아피자      NaN  수원시  권선구           경기도 수원시 권선구 세권로 20  127.006501   \n",
       "8976        아이스박스  광교카페거리점  수원시  영통구  경기도 수원시 영통구 센트럴파크로127번길 127  127.054448   \n",
       "8977  픽미픽미아이스할인매장      NaN  수원시  영통구      경기도 수원시 영통구 영통로90번길 4-9  127.060076   \n",
       "8978      아이스박스태장      자이점  수원시  영통구       경기도 수원시 영통구 태장로54번길 70  127.051851   \n",
       "8980        응응스크르    수원매현점  수원시  영통구           경기도 수원시 영통구 매탄로 69  127.041560   \n",
       "\n",
       "             위도  \n",
       "1188  37.293846  \n",
       "1207  37.295940  \n",
       "1211  37.303539  \n",
       "1216  37.305193  \n",
       "1224  37.260979  \n",
       "...         ...  \n",
       "8965  37.259837  \n",
       "8976  37.294030  \n",
       "8977  37.237793  \n",
       "8978  37.235826  \n",
       "8980  37.257324  \n",
       "\n",
       "[796 rows x 7 columns]"
      ],
      "text/html": "<div>\n<style scoped>\n    .dataframe tbody tr th:only-of-type {\n        vertical-align: middle;\n    }\n\n    .dataframe tbody tr th {\n        vertical-align: top;\n    }\n\n    .dataframe thead th {\n        text-align: right;\n    }\n</style>\n<table border=\"1\" class=\"dataframe\">\n  <thead>\n    <tr style=\"text-align: right;\">\n      <th></th>\n      <th>상호명</th>\n      <th>지점명</th>\n      <th>시도명</th>\n      <th>시군구명</th>\n      <th>도로명주소</th>\n      <th>경도</th>\n      <th>위도</th>\n    </tr>\n  </thead>\n  <tbody>\n    <tr>\n      <th>1188</th>\n      <td>피자사랑치킨사랑</td>\n      <td>NaN</td>\n      <td>수원시</td>\n      <td>장안구</td>\n      <td>경기도 수원시 장안구 만석로20번길 28</td>\n      <td>126.984399</td>\n      <td>37.293846</td>\n    </tr>\n    <tr>\n      <th>1207</th>\n      <td>피자스쿨5000</td>\n      <td>NaN</td>\n      <td>수원시</td>\n      <td>장안구</td>\n      <td>경기도 수원시 장안구 대평로 86</td>\n      <td>126.993281</td>\n      <td>37.295940</td>\n    </tr>\n    <tr>\n      <th>1211</th>\n      <td>씨지브이북수원</td>\n      <td>NaN</td>\n      <td>수원시</td>\n      <td>장안구</td>\n      <td>경기도 수원시 장안구 경수대로 950</td>\n      <td>127.007494</td>\n      <td>37.303539</td>\n    </tr>\n    <tr>\n      <th>1216</th>\n      <td>맥도날드</td>\n      <td>북수원DT점</td>\n      <td>수원시</td>\n      <td>장안구</td>\n      <td>경기도 수원시 장안구 경수대로 991</td>\n      <td>127.002712</td>\n      <td>37.305193</td>\n    </tr>\n    <tr>\n      <th>1224</th>\n      <td>빨라쪼델프레도</td>\n      <td>수원갤러리아점</td>\n      <td>수원시</td>\n      <td>팔달구</td>\n      <td>경기도 수원시 팔달구 효원로 282</td>\n      <td>127.032258</td>\n      <td>37.260979</td>\n    </tr>\n    <tr>\n      <th>...</th>\n      <td>...</td>\n      <td>...</td>\n      <td>...</td>\n      <td>...</td>\n      <td>...</td>\n      <td>...</td>\n      <td>...</td>\n    </tr>\n    <tr>\n      <th>8965</th>\n      <td>봉수아피자</td>\n      <td>NaN</td>\n      <td>수원시</td>\n      <td>권선구</td>\n      <td>경기도 수원시 권선구 세권로 20</td>\n      <td>127.006501</td>\n      <td>37.259837</td>\n    </tr>\n    <tr>\n      <th>8976</th>\n      <td>아이스박스</td>\n      <td>광교카페거리점</td>\n      <td>수원시</td>\n      <td>영통구</td>\n      <td>경기도 수원시 영통구 센트럴파크로127번길 127</td>\n      <td>127.054448</td>\n      <td>37.294030</td>\n    </tr>\n    <tr>\n      <th>8977</th>\n      <td>픽미픽미아이스할인매장</td>\n      <td>NaN</td>\n      <td>수원시</td>\n      <td>영통구</td>\n      <td>경기도 수원시 영통구 영통로90번길 4-9</td>\n      <td>127.060076</td>\n      <td>37.237793</td>\n    </tr>\n    <tr>\n      <th>8978</th>\n      <td>아이스박스태장</td>\n      <td>자이점</td>\n      <td>수원시</td>\n      <td>영통구</td>\n      <td>경기도 수원시 영통구 태장로54번길 70</td>\n      <td>127.051851</td>\n      <td>37.235826</td>\n    </tr>\n    <tr>\n      <th>8980</th>\n      <td>응응스크르</td>\n      <td>수원매현점</td>\n      <td>수원시</td>\n      <td>영통구</td>\n      <td>경기도 수원시 영통구 매탄로 69</td>\n      <td>127.041560</td>\n      <td>37.257324</td>\n    </tr>\n  </tbody>\n</table>\n<p>796 rows × 7 columns</p>\n</div>"
     },
     "metadata": {},
     "execution_count": 35
    }
   ],
   "source": [
    "cafe[cafe['시도명'].str.find('수원') >= 0]"
   ]
  },
  {
   "cell_type": "code",
   "execution_count": 36,
   "metadata": {},
   "outputs": [
    {
     "output_type": "error",
     "ename": "KeyError",
     "evalue": "41511",
     "traceback": [
      "\u001b[1;31m---------------------------------------------------------------------------\u001b[0m",
      "\u001b[1;31mValueError\u001b[0m                                Traceback (most recent call last)",
      "\u001b[1;32m~\\.conda\\envs\\prophet\\lib\\site-packages\\pandas\\core\\indexes\\range.py\u001b[0m in \u001b[0;36mget_loc\u001b[1;34m(self, key, method, tolerance)\u001b[0m\n\u001b[0;32m    354\u001b[0m                 \u001b[1;32mtry\u001b[0m\u001b[1;33m:\u001b[0m\u001b[1;33m\u001b[0m\u001b[1;33m\u001b[0m\u001b[0m\n\u001b[1;32m--> 355\u001b[1;33m                     \u001b[1;32mreturn\u001b[0m \u001b[0mself\u001b[0m\u001b[1;33m.\u001b[0m\u001b[0m_range\u001b[0m\u001b[1;33m.\u001b[0m\u001b[0mindex\u001b[0m\u001b[1;33m(\u001b[0m\u001b[0mnew_key\u001b[0m\u001b[1;33m)\u001b[0m\u001b[1;33m\u001b[0m\u001b[1;33m\u001b[0m\u001b[0m\n\u001b[0m\u001b[0;32m    356\u001b[0m                 \u001b[1;32mexcept\u001b[0m \u001b[0mValueError\u001b[0m \u001b[1;32mas\u001b[0m \u001b[0merr\u001b[0m\u001b[1;33m:\u001b[0m\u001b[1;33m\u001b[0m\u001b[1;33m\u001b[0m\u001b[0m\n",
      "\u001b[1;31mValueError\u001b[0m: 41511 is not in range",
      "\nThe above exception was the direct cause of the following exception:\n",
      "\u001b[1;31mKeyError\u001b[0m                                  Traceback (most recent call last)",
      "\u001b[1;32m<ipython-input-36-4a7e71268213>\u001b[0m in \u001b[0;36m<module>\u001b[1;34m\u001b[0m\n\u001b[1;32m----> 1\u001b[1;33m \u001b[0mcafe\u001b[0m\u001b[1;33m[\u001b[0m\u001b[1;34m'시도명'\u001b[0m\u001b[1;33m]\u001b[0m\u001b[1;33m[\u001b[0m\u001b[1;36m41511\u001b[0m\u001b[1;33m]\u001b[0m\u001b[1;33m[\u001b[0m\u001b[1;33m-\u001b[0m\u001b[1;36m3\u001b[0m\u001b[1;33m:\u001b[0m\u001b[1;33m]\u001b[0m\u001b[1;33m\u001b[0m\u001b[1;33m\u001b[0m\u001b[0m\n\u001b[0m",
      "\u001b[1;32m~\\.conda\\envs\\prophet\\lib\\site-packages\\pandas\\core\\series.py\u001b[0m in \u001b[0;36m__getitem__\u001b[1;34m(self, key)\u001b[0m\n\u001b[0;32m    880\u001b[0m \u001b[1;33m\u001b[0m\u001b[0m\n\u001b[0;32m    881\u001b[0m         \u001b[1;32melif\u001b[0m \u001b[0mkey_is_scalar\u001b[0m\u001b[1;33m:\u001b[0m\u001b[1;33m\u001b[0m\u001b[1;33m\u001b[0m\u001b[0m\n\u001b[1;32m--> 882\u001b[1;33m             \u001b[1;32mreturn\u001b[0m \u001b[0mself\u001b[0m\u001b[1;33m.\u001b[0m\u001b[0m_get_value\u001b[0m\u001b[1;33m(\u001b[0m\u001b[0mkey\u001b[0m\u001b[1;33m)\u001b[0m\u001b[1;33m\u001b[0m\u001b[1;33m\u001b[0m\u001b[0m\n\u001b[0m\u001b[0;32m    883\u001b[0m \u001b[1;33m\u001b[0m\u001b[0m\n\u001b[0;32m    884\u001b[0m         \u001b[1;32mif\u001b[0m \u001b[0mis_hashable\u001b[0m\u001b[1;33m(\u001b[0m\u001b[0mkey\u001b[0m\u001b[1;33m)\u001b[0m\u001b[1;33m:\u001b[0m\u001b[1;33m\u001b[0m\u001b[1;33m\u001b[0m\u001b[0m\n",
      "\u001b[1;32m~\\.conda\\envs\\prophet\\lib\\site-packages\\pandas\\core\\series.py\u001b[0m in \u001b[0;36m_get_value\u001b[1;34m(self, label, takeable)\u001b[0m\n\u001b[0;32m    988\u001b[0m \u001b[1;33m\u001b[0m\u001b[0m\n\u001b[0;32m    989\u001b[0m         \u001b[1;31m# Similar to Index.get_value, but we do not fall back to positional\u001b[0m\u001b[1;33m\u001b[0m\u001b[1;33m\u001b[0m\u001b[1;33m\u001b[0m\u001b[0m\n\u001b[1;32m--> 990\u001b[1;33m         \u001b[0mloc\u001b[0m \u001b[1;33m=\u001b[0m \u001b[0mself\u001b[0m\u001b[1;33m.\u001b[0m\u001b[0mindex\u001b[0m\u001b[1;33m.\u001b[0m\u001b[0mget_loc\u001b[0m\u001b[1;33m(\u001b[0m\u001b[0mlabel\u001b[0m\u001b[1;33m)\u001b[0m\u001b[1;33m\u001b[0m\u001b[1;33m\u001b[0m\u001b[0m\n\u001b[0m\u001b[0;32m    991\u001b[0m         \u001b[1;32mreturn\u001b[0m \u001b[0mself\u001b[0m\u001b[1;33m.\u001b[0m\u001b[0mindex\u001b[0m\u001b[1;33m.\u001b[0m\u001b[0m_get_values_for_loc\u001b[0m\u001b[1;33m(\u001b[0m\u001b[0mself\u001b[0m\u001b[1;33m,\u001b[0m \u001b[0mloc\u001b[0m\u001b[1;33m,\u001b[0m \u001b[0mlabel\u001b[0m\u001b[1;33m)\u001b[0m\u001b[1;33m\u001b[0m\u001b[1;33m\u001b[0m\u001b[0m\n\u001b[0;32m    992\u001b[0m \u001b[1;33m\u001b[0m\u001b[0m\n",
      "\u001b[1;32m~\\.conda\\envs\\prophet\\lib\\site-packages\\pandas\\core\\indexes\\range.py\u001b[0m in \u001b[0;36mget_loc\u001b[1;34m(self, key, method, tolerance)\u001b[0m\n\u001b[0;32m    355\u001b[0m                     \u001b[1;32mreturn\u001b[0m \u001b[0mself\u001b[0m\u001b[1;33m.\u001b[0m\u001b[0m_range\u001b[0m\u001b[1;33m.\u001b[0m\u001b[0mindex\u001b[0m\u001b[1;33m(\u001b[0m\u001b[0mnew_key\u001b[0m\u001b[1;33m)\u001b[0m\u001b[1;33m\u001b[0m\u001b[1;33m\u001b[0m\u001b[0m\n\u001b[0;32m    356\u001b[0m                 \u001b[1;32mexcept\u001b[0m \u001b[0mValueError\u001b[0m \u001b[1;32mas\u001b[0m \u001b[0merr\u001b[0m\u001b[1;33m:\u001b[0m\u001b[1;33m\u001b[0m\u001b[1;33m\u001b[0m\u001b[0m\n\u001b[1;32m--> 357\u001b[1;33m                     \u001b[1;32mraise\u001b[0m \u001b[0mKeyError\u001b[0m\u001b[1;33m(\u001b[0m\u001b[0mkey\u001b[0m\u001b[1;33m)\u001b[0m \u001b[1;32mfrom\u001b[0m \u001b[0merr\u001b[0m\u001b[1;33m\u001b[0m\u001b[1;33m\u001b[0m\u001b[0m\n\u001b[0m\u001b[0;32m    358\u001b[0m             \u001b[1;32mraise\u001b[0m \u001b[0mKeyError\u001b[0m\u001b[1;33m(\u001b[0m\u001b[0mkey\u001b[0m\u001b[1;33m)\u001b[0m\u001b[1;33m\u001b[0m\u001b[1;33m\u001b[0m\u001b[0m\n\u001b[0;32m    359\u001b[0m         \u001b[1;32mreturn\u001b[0m \u001b[0msuper\u001b[0m\u001b[1;33m(\u001b[0m\u001b[1;33m)\u001b[0m\u001b[1;33m.\u001b[0m\u001b[0mget_loc\u001b[0m\u001b[1;33m(\u001b[0m\u001b[0mkey\u001b[0m\u001b[1;33m,\u001b[0m \u001b[0mmethod\u001b[0m\u001b[1;33m=\u001b[0m\u001b[0mmethod\u001b[0m\u001b[1;33m,\u001b[0m \u001b[0mtolerance\u001b[0m\u001b[1;33m=\u001b[0m\u001b[0mtolerance\u001b[0m\u001b[1;33m)\u001b[0m\u001b[1;33m\u001b[0m\u001b[1;33m\u001b[0m\u001b[0m\n",
      "\u001b[1;31mKeyError\u001b[0m: 41511"
     ]
    }
   ],
   "source": [
    "# cafe['시도명'][41511][-3:]"
   ]
  },
  {
   "cell_type": "code",
   "execution_count": 102,
   "metadata": {},
   "outputs": [
    {
     "output_type": "stream",
     "name": "stderr",
     "text": [
      "100%|██████████| 105101/105101 [00:24<00:00, 4279.05it/s]\n"
     ]
    }
   ],
   "source": [
    "si_name = [None] * len(cafe)\n",
    "\n",
    "# 광주광역시,대구광역시,대전광역시,부산광역시,서울특별시,울산광역시,인천광역시\n",
    "for i in tqdm(cafe.index):\n",
    "    if cafe['시도명'][i][-3:] in ['광역시','특별시']:\n",
    "        if len(cafe['시군구명'][i]) == 2:\n",
    "            si_name[i] = cafe['시도명'][i][:2]  + ' ' + cafe['시군구명'][i]\n",
    "        else:\n",
    "            si_name[i] = cafe['시도명'][i][:2]  + ' ' + cafe['시군구명'][i][:-1]\n",
    "\n",
    "    # 세종특별자치시\n",
    "    elif cafe['시도명'][i] == '세종특별자치시':\n",
    "        si_name[i] = '세종'\n",
    "    # 제주특별자치도\n",
    "    elif cafe['시도명'][i] == '제주특별자치도':\n",
    "        # 요거 잘못함. '제주' 가 아니라 '제주시'로 들어가 있음\n",
    "        if len(cafe['시군구명'][i]) == 3:\n",
    "            si_name[i] = '제주'\n",
    "        else:\n",
    "            si_name[i] = '서귀포'\n",
    "\n",
    "\n",
    "    # 강원도, 경기도 \n",
    "    elif cafe['시도명'][i][:-1] == '도' and len(cafe['시도명'][i]) == 3:\n",
    "        if len(cafe['시군구명'][i]) == 2:\n",
    "            si_name[i] = cafe['시도명'][i][:-1]  + ' ' + cafe['시군구명'][i]\n",
    "        else:\n",
    "            si_name[i] = cafe['시도명'][i][:-1]  + ' ' + cafe['시군구명'][i][:-1]\n",
    "\n",
    "    # 경상남도, 경상북도, 전라남도, 전라북도, 충청남도, 충청북도\n",
    "    elif cafe['시도명'][i][:-1] == '도' and len(cafe['시도명'][i]) == 4:\n",
    "        if len(cafe['시군구명'][i]) == 2:\n",
    "            si_name[i] = cafe['시도명'][i][::2]  + ' ' + cafe['시군구명'][i]\n",
    "        else:\n",
    "            si_name[i] = cafe['시도명'][i][::2]  + ' ' + cafe['시군구명'][i][:-1]\n",
    "\n",
    "\n",
    "    # 그 외 안산시, 수원시, 고양시, 성남시, 안양시, 용인시, 창원시,포항시,전주시,천안시, 청주시\n",
    "    # 딕셔너리\n",
    "\n",
    "\n",
    "        # 강원 고성, 경남 고성, 덮어씌워지므로 조건문 위치 문제 없음\n",
    "    else:\n",
    "        if cafe['시군구명'][i][:-1] == '고성':\n",
    "            if cafe['시도명'][i][:-1]  == '강원':\n",
    "                si_name[i] = '고성(강원)'\n",
    "            else:\n",
    "                si_name[i] = '고성(경남)'\n",
    "        # 요거 잘못함\n",
    "        else:\n",
    "            si_name[i] = cafe['시군구명'][i][:-1]\n",
    "\n",
    "        for key, value in tmp_gu_dict.items():\n",
    "            if cafe['시군구명'][i] in value:\n",
    "                if len(cafe['시군구명'][i]) == 2:\n",
    "                    si_name[i] = key + ' ' + cafe['시군구명'][i]\n",
    "                elif cafe['시군구명'][i] in ['마산합포구', '마산회원구']:\n",
    "                    si_name[i] = key + ' ' + cafe['시군구명'][i][2:-1]\n",
    "                else:\n",
    "                    si_name[i] = key + ' ' + cafe['시군구명'][i][:-1]\n"
   ]
  },
  {
   "cell_type": "code",
   "execution_count": 103,
   "metadata": {},
   "outputs": [
    {
     "output_type": "execute_result",
     "data": {
      "text/plain": [
       "105101"
      ]
     },
     "metadata": {},
     "execution_count": 103
    }
   ],
   "source": [
    "len(si_name)"
   ]
  },
  {
   "cell_type": "code",
   "execution_count": 104,
   "metadata": {},
   "outputs": [
    {
     "output_type": "execute_result",
     "data": {
      "text/plain": [
       "['강릉', '강릉', '정선', '원주', '영월', '태백', '영월', '강릉', '춘천', '춘천']"
      ]
     },
     "metadata": {},
     "execution_count": 104
    }
   ],
   "source": [
    "si_name[:10]"
   ]
  },
  {
   "cell_type": "code",
   "execution_count": 105,
   "metadata": {},
   "outputs": [
    {
     "output_type": "execute_result",
     "data": {
      "text/plain": [
       "255"
      ]
     },
     "metadata": {},
     "execution_count": 105
    }
   ],
   "source": [
    "# 1차시도: 용인, 수원 이런게 들어가 있어서 5개가 더 들어감\n",
    "# 제주 제주, 제주 서귀포\n",
    "sr_si_name = pd.Series(si_name)\n",
    "len(sr_si_name.unique())"
   ]
  },
  {
   "cell_type": "code",
   "execution_count": 106,
   "metadata": {},
   "outputs": [
    {
     "output_type": "execute_result",
     "data": {
      "text/plain": [
       "array(['강릉', '정선', '원주', '영월', '태백', '춘천', '삼척', '철원', '속초', '동해', '화천',\n",
       "       '양구', '횡성', '양양', '홍천', '평창', '고성(강원)', '인제', '안산 상록', '여주', '부천',\n",
       "       '남양주', '수원 영통', '광주', '시흥', '평택', '포천', '화성', '파주', '군포', '수원 권선',\n",
       "       '김포', '고양 일산동', '성남 분당', '안양 만안', '용인 기흥', '성남 중원', '수원 팔달',\n",
       "       '용인 처인', '의정부', '구리', '고양 일산서', '용인 수지', '성남 수정', '안성', '안산', '광명',\n",
       "       '고양 덕양', '의왕', '수원 장안', '안양 동안', '안산 단원', '이천', '오산', '가평', '하남',\n",
       "       '과천', '양주', '양평', '동두천', '용인', '연천', '수원', '창원 성산', '창원 합포',\n",
       "       '창원 회원', '사천', '함안', '창원 의창', '함양', '의령', '하동', '밀양', '김해', '진주',\n",
       "       '통영', '거제', '창원 진해', '창원', '양산', '고성(경남)', '산청', '창녕', '거창', '합천',\n",
       "       '남해', '경주', '경산', '영주', '구미', '포항 남구', '영덕', '상주', '안동', '의성',\n",
       "       '문경', '칠곡', '영천', '울진', '포항 북구', '울릉', '김천', '청도', '성주', '청송',\n",
       "       '군위', '영양', '봉화', '예천', '고령', '광주 서구', '광주 광산', '광주 동구', '광주 북구',\n",
       "       '광주 남구', '대구 수성', '대구 중구', '대구 북구', '대구 서구', '대구 남구', '대구 달성',\n",
       "       '대구 동구', '대구 달서', '대전 서구', '대전 중구', '대전 동구', '대전 유성', '대전 대덕',\n",
       "       '부산 기장', '부산 북구', '부산 해운대', '부산 사상', '부산 사하', '부산 남구', '부산 금정',\n",
       "       '부산 중구', '부산 수영', '부산 연제', '부산 부산진', '부산 동래', '부산 동구', '부산 강서',\n",
       "       '부산 영도', '부산 서구', '서울 강남', '서울 성북', '서울 영등포', '서울 중구', '서울 서초',\n",
       "       '서울 구로', '서울 종로', '서울 마포', '서울 도봉', '서울 은평', '서울 서대문', '서울 양천',\n",
       "       '서울 광진', '서울 용산', '서울 관악', '서울 성동', '서울 송파', '서울 금천', '서울 동대문',\n",
       "       '서울 강서', '서울 동작', '서울 중랑', '서울 강동', '서울 강북', '서울 노원', '세종',\n",
       "       '울산 남구', '울산 울주', '울산 동구', '울산 중구', '울산 북구', '인천 미추홀', '인천 남동',\n",
       "       '인천 계양', '인천 부평', '인천 연수', '인천 서구', '인천 중구', '인천 동구', '인천 강화',\n",
       "       '인천 옹진', '순천', '함평', '목포', '여수', '광양', '나주', '장성', '담양', '보성',\n",
       "       '화순', '영암', '영광', '장흥', '무안', '구례', '고흥', '진도', '완도', '해남', '곡성',\n",
       "       '신안', '강진', '임실', '익산', '전주 완산', '군산', '부안', '김제', '남원', '전주 덕진',\n",
       "       '완주', '정읍', '순창', '고창', '장수', '무주', '진안', '전주', '제주', '서귀포', '아산',\n",
       "       '공주', '당진', '천안 동남', '금산', '태안', '서천', '서산', '홍성', '보령', '천안 서북',\n",
       "       '예산', '계룡', '청양', '논산', '부여', '충주', '제천', '청주 상당', '청주 흥덕',\n",
       "       '청주 서원', '음성', '청주 청원', '괴산', '영동', '진천', '단양', '옥천', '보은', '증평'],\n",
       "      dtype=object)"
      ]
     },
     "metadata": {},
     "execution_count": 106
    }
   ],
   "source": [
    "sr_si_name.unique()"
   ]
  },
  {
   "cell_type": "code",
   "execution_count": 107,
   "metadata": {},
   "outputs": [
    {
     "output_type": "execute_result",
     "data": {
      "text/plain": [
       "(6486    수원\n",
       " dtype: object, 4822     용인\n",
       " 6184     용인\n",
       " 14261    용인\n",
       " 14521    용인\n",
       " 15058    용인\n",
       " 19354    용인\n",
       " 21226    용인\n",
       " 23825    용인\n",
       " 24918    용인\n",
       " 25040    용인\n",
       " 25232    용인\n",
       " 26322    용인\n",
       " dtype: object)"
      ]
     },
     "metadata": {},
     "execution_count": 107
    }
   ],
   "source": [
    "sr_si_name[sr_si_name == '수원'],\\\n",
    "sr_si_name[sr_si_name == '용인']"
   ]
  },
  {
   "cell_type": "code",
   "execution_count": 108,
   "metadata": {},
   "outputs": [
    {
     "output_type": "execute_result",
     "data": {
      "text/plain": [
       "        상호명   지점명  시도명 시군구명                도로명주소          경도         위도\n",
       "6486  이디야커피  망포역점  경기도  수원시  경기도 수원시 영통구 영통로 195  127.055792  37.245175"
      ],
      "text/html": "<div>\n<style scoped>\n    .dataframe tbody tr th:only-of-type {\n        vertical-align: middle;\n    }\n\n    .dataframe tbody tr th {\n        vertical-align: top;\n    }\n\n    .dataframe thead th {\n        text-align: right;\n    }\n</style>\n<table border=\"1\" class=\"dataframe\">\n  <thead>\n    <tr style=\"text-align: right;\">\n      <th></th>\n      <th>상호명</th>\n      <th>지점명</th>\n      <th>시도명</th>\n      <th>시군구명</th>\n      <th>도로명주소</th>\n      <th>경도</th>\n      <th>위도</th>\n    </tr>\n  </thead>\n  <tbody>\n    <tr>\n      <td>6486</td>\n      <td>이디야커피</td>\n      <td>망포역점</td>\n      <td>경기도</td>\n      <td>수원시</td>\n      <td>경기도 수원시 영통구 영통로 195</td>\n      <td>127.055792</td>\n      <td>37.245175</td>\n    </tr>\n  </tbody>\n</table>\n</div>"
     },
     "metadata": {},
     "execution_count": 108
    }
   ],
   "source": [
    "cafe.iloc[6486:6487,:]"
   ]
  },
  {
   "source": [
    "- 파이썬에서는 인덱스가 0부터 시작하므로 >= 0, 0을 포함해야 함\n",
    "# string의 find()는 특정 단어의 개수를 찾아주는 게 아니라 단어가 시작하는 인덱스를 찾아준다."
   ],
   "cell_type": "markdown",
   "metadata": {}
  },
  {
   "cell_type": "code",
   "execution_count": 109,
   "metadata": {},
   "outputs": [
    {
     "output_type": "execute_result",
     "data": {
      "text/plain": [
       "58626    서울 영등포\n",
       "58657    서울 영등포\n",
       "58674    서울 영등포\n",
       "58676    서울 영등포\n",
       "58695    서울 영등포\n",
       "          ...  \n",
       "78842    서울 영등포\n",
       "78852    서울 영등포\n",
       "78862    서울 영등포\n",
       "78867    서울 영등포\n",
       "78873    서울 영등포\n",
       "Length: 1075, dtype: object"
      ]
     },
     "metadata": {},
     "execution_count": 109
    }
   ],
   "source": [
    "sr_si_name[sr_si_name.str.find('영등포') >= 0]"
   ]
  },
  {
   "cell_type": "code",
   "execution_count": 110,
   "metadata": {},
   "outputs": [],
   "source": [
    "cafe['ID'] = si_name\n",
    "del cafe['시군구명']\n",
    "del cafe['시도명']\n",
    "cafe.to_csv('./result/고유 ID.csv',sep=',',encoding='utf8')"
   ]
  },
  {
   "cell_type": "code",
   "execution_count": 111,
   "metadata": {},
   "outputs": [
    {
     "output_type": "execute_result",
     "data": {
      "text/plain": [
       "           상호명       지점명                       도로명주소          경도         위도  \\\n",
       "105096    커피팜스       NaN  충청북도 청주시 서원구 사운로174번길 35-1  127.480678  36.645616   \n",
       "105097  커피랩KBS       NaN          충청북도 청주시 상당구 용담로 7  127.492144  36.633175   \n",
       "105098    군밤카페       NaN    충청북도 청주시 흥덕구 풍년로180번길 19  127.432589  36.628652   \n",
       "105099      카페    라벨르디저트      충청북도 청주시 서원구 수곡로 112-1  127.469841  36.621037   \n",
       "105100      카페  벧엘무인신용카드      충청북도 영동군 양강면 묘동4길 9-11  127.749886  36.146793   \n",
       "\n",
       "           ID  \n",
       "105096  청주 서원  \n",
       "105097  청주 상당  \n",
       "105098  청주 흥덕  \n",
       "105099  청주 서원  \n",
       "105100     영동  "
      ],
      "text/html": "<div>\n<style scoped>\n    .dataframe tbody tr th:only-of-type {\n        vertical-align: middle;\n    }\n\n    .dataframe tbody tr th {\n        vertical-align: top;\n    }\n\n    .dataframe thead th {\n        text-align: right;\n    }\n</style>\n<table border=\"1\" class=\"dataframe\">\n  <thead>\n    <tr style=\"text-align: right;\">\n      <th></th>\n      <th>상호명</th>\n      <th>지점명</th>\n      <th>도로명주소</th>\n      <th>경도</th>\n      <th>위도</th>\n      <th>ID</th>\n    </tr>\n  </thead>\n  <tbody>\n    <tr>\n      <td>105096</td>\n      <td>커피팜스</td>\n      <td>NaN</td>\n      <td>충청북도 청주시 서원구 사운로174번길 35-1</td>\n      <td>127.480678</td>\n      <td>36.645616</td>\n      <td>청주 서원</td>\n    </tr>\n    <tr>\n      <td>105097</td>\n      <td>커피랩KBS</td>\n      <td>NaN</td>\n      <td>충청북도 청주시 상당구 용담로 7</td>\n      <td>127.492144</td>\n      <td>36.633175</td>\n      <td>청주 상당</td>\n    </tr>\n    <tr>\n      <td>105098</td>\n      <td>군밤카페</td>\n      <td>NaN</td>\n      <td>충청북도 청주시 흥덕구 풍년로180번길 19</td>\n      <td>127.432589</td>\n      <td>36.628652</td>\n      <td>청주 흥덕</td>\n    </tr>\n    <tr>\n      <td>105099</td>\n      <td>카페</td>\n      <td>라벨르디저트</td>\n      <td>충청북도 청주시 서원구 수곡로 112-1</td>\n      <td>127.469841</td>\n      <td>36.621037</td>\n      <td>청주 서원</td>\n    </tr>\n    <tr>\n      <td>105100</td>\n      <td>카페</td>\n      <td>벧엘무인신용카드</td>\n      <td>충청북도 영동군 양강면 묘동4길 9-11</td>\n      <td>127.749886</td>\n      <td>36.146793</td>\n      <td>영동</td>\n    </tr>\n  </tbody>\n</table>\n</div>"
     },
     "metadata": {},
     "execution_count": 111
    }
   ],
   "source": [
    "cafe.tail()"
   ]
  }
 ]
}