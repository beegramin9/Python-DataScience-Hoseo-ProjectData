{
 "metadata": {
  "language_info": {
   "codemirror_mode": {
    "name": "ipython",
    "version": 3
   },
   "file_extension": ".py",
   "mimetype": "text/x-python",
   "name": "python",
   "nbconvert_exporter": "python",
   "pygments_lexer": "ipython3",
   "version": "3.8.5-final"
  },
  "orig_nbformat": 2,
  "kernelspec": {
   "name": "python3",
   "display_name": "Python 3",
   "language": "python"
  }
 },
 "nbformat": 4,
 "nbformat_minor": 2,
 "cells": [
  {
   "cell_type": "code",
   "execution_count": 47,
   "metadata": {},
   "outputs": [],
   "source": [
    "import requests\n",
    "import pandas as pd\n",
    "import numpy as np\n",
    "from bs4 import BeautifulSoup\n",
    "\n",
    "from datetime import datetime\n",
    "from dateutil.parser import parse\n",
    "from tqdm import tqdm"
   ]
  },
  {
   "cell_type": "code",
   "execution_count": 18,
   "metadata": {},
   "outputs": [],
   "source": [
    "key_fd = open('../keys/gov_data_api_key.txt', mode='r')\n",
    "govapi_key = key_fd.read(100)\n",
    "key_fd.close()"
   ]
  },
  {
   "cell_type": "code",
   "execution_count": 84,
   "metadata": {},
   "outputs": [],
   "source": [
    "# datetime객체에서 문자열로 전처리해줘야 받아옴\n",
    "start_date = '20201121'\n",
    "end_date = '20201121'"
   ]
  },
  {
   "cell_type": "code",
   "execution_count": 87,
   "metadata": {},
   "outputs": [],
   "source": [
    "corona_url = \"http://openapi.data.go.kr/openapi/service/rest/Covid19/getCovid19NatInfStateJson\"\n",
    "url = f\"{corona_url}?serviceKey={govapi_key}&pageNo=1&numOfRows=1&startCreateDt={start_date}&endCreateDt={end_date}\""
   ]
  },
  {
   "cell_type": "code",
   "execution_count": 88,
   "metadata": {},
   "outputs": [],
   "source": [
    "result = requests.get(url)\n",
    "soup = BeautifulSoup(result.text, 'xml')"
   ]
  },
  {
   "cell_type": "code",
   "execution_count": 89,
   "metadata": {},
   "outputs": [
    {
     "output_type": "execute_result",
     "data": {
      "text/plain": [
       "'189'"
      ]
     },
     "metadata": {},
     "execution_count": 89
    }
   ],
   "source": [
    "# 한 번 요청할 때 들어오는 결과 수\n",
    "totalCount = soup.select_one('totalCount').text\n",
    "totalCount"
   ]
  },
  {
   "cell_type": "code",
   "execution_count": 69,
   "metadata": {},
   "outputs": [],
   "source": [
    "# 일자\n",
    "date = soup.select('createDt')\n",
    "# 지역명\n",
    "continent = soup.select('areaNm')\n",
    "# 국가명\n",
    "country = soup.select('nationNm')\n",
    "# 확진자 수\n",
    "case = soup.select('natDefCnt')\n",
    "# 사망자 수\n",
    "death = soup.select('natDeathCnt')\n",
    "# 치사률(확진자 대비 사망률)\n",
    "death_rate = soup.select('natDeathRate')"
   ]
  },
  {
   "cell_type": "code",
   "execution_count": 70,
   "metadata": {},
   "outputs": [
    {
     "output_type": "execute_result",
     "data": {
      "text/plain": [
       "'2020- 11- 21- 00-'"
      ]
     },
     "metadata": {},
     "execution_count": 70
    }
   ],
   "source": [
    "# stdDay로 잘못 가져왔을 때\n",
    "import re\n",
    "a = '2020년 11월 21일 00시'\n",
    "a = re.sub('[가-힣]+','-',a,0).strip()\n",
    "a"
   ]
  },
  {
   "cell_type": "code",
   "execution_count": 71,
   "metadata": {},
   "outputs": [],
   "source": [
    "date_list = [] ; continent_list = [] ; country_list = [] ;case_list = [] ; death_list = [] ; death_rate_list = []\n",
    "\n",
    "for i in date:\n",
    "    date_list.append(parse(i.text).date())\n",
    "for i in continent:\n",
    "    continent_list.append(i.text)\n",
    "for i in country:\n",
    "    country_list.append(i.text)\n",
    "for i in case:\n",
    "    case_list.append(int(i.text))\n",
    "for i in death:\n",
    "    death_list.append(int(i.text))\n",
    "for i in death_rate:\n",
    "    death_rate_list.append(float(i.text))"
   ]
  },
  {
   "cell_type": "code",
   "execution_count": 72,
   "metadata": {},
   "outputs": [
    {
     "output_type": "execute_result",
     "data": {
      "text/plain": [
       "             일자    대륙       국가     확진자   사망자       사망률\n",
       "0    2020-11-21    기타  기타지역 영토  194632  2371  1.218196\n",
       "1    2020-11-21  아프리카      레소토    2058    44  2.137998\n",
       "2    2020-11-21  아프리카      코모로     592     7  1.182432\n",
       "3    2020-11-21  아프리카  상투메프린시페     974    16  1.642710\n",
       "4    2020-11-21  아프리카      남수단    3016    59  1.956233\n",
       "..          ...   ...      ...     ...   ...       ...\n",
       "184  2020-11-21   아시아      마카오      46     0  0.000000\n",
       "185  2020-11-21   아시아       대만     611     7  1.145663\n",
       "186  2020-11-21   아시아       홍콩    5517   108  1.957586\n",
       "187  2020-11-21   아시아       중국   86414  4634  5.362557\n",
       "188  2020-11-21   아시아       한국   30403   503  1.654442\n",
       "\n",
       "[189 rows x 6 columns]"
      ],
      "text/html": "<div>\n<style scoped>\n    .dataframe tbody tr th:only-of-type {\n        vertical-align: middle;\n    }\n\n    .dataframe tbody tr th {\n        vertical-align: top;\n    }\n\n    .dataframe thead th {\n        text-align: right;\n    }\n</style>\n<table border=\"1\" class=\"dataframe\">\n  <thead>\n    <tr style=\"text-align: right;\">\n      <th></th>\n      <th>일자</th>\n      <th>대륙</th>\n      <th>국가</th>\n      <th>확진자</th>\n      <th>사망자</th>\n      <th>사망률</th>\n    </tr>\n  </thead>\n  <tbody>\n    <tr>\n      <th>0</th>\n      <td>2020-11-21</td>\n      <td>기타</td>\n      <td>기타지역 영토</td>\n      <td>194632</td>\n      <td>2371</td>\n      <td>1.218196</td>\n    </tr>\n    <tr>\n      <th>1</th>\n      <td>2020-11-21</td>\n      <td>아프리카</td>\n      <td>레소토</td>\n      <td>2058</td>\n      <td>44</td>\n      <td>2.137998</td>\n    </tr>\n    <tr>\n      <th>2</th>\n      <td>2020-11-21</td>\n      <td>아프리카</td>\n      <td>코모로</td>\n      <td>592</td>\n      <td>7</td>\n      <td>1.182432</td>\n    </tr>\n    <tr>\n      <th>3</th>\n      <td>2020-11-21</td>\n      <td>아프리카</td>\n      <td>상투메프린시페</td>\n      <td>974</td>\n      <td>16</td>\n      <td>1.642710</td>\n    </tr>\n    <tr>\n      <th>4</th>\n      <td>2020-11-21</td>\n      <td>아프리카</td>\n      <td>남수단</td>\n      <td>3016</td>\n      <td>59</td>\n      <td>1.956233</td>\n    </tr>\n    <tr>\n      <th>...</th>\n      <td>...</td>\n      <td>...</td>\n      <td>...</td>\n      <td>...</td>\n      <td>...</td>\n      <td>...</td>\n    </tr>\n    <tr>\n      <th>184</th>\n      <td>2020-11-21</td>\n      <td>아시아</td>\n      <td>마카오</td>\n      <td>46</td>\n      <td>0</td>\n      <td>0.000000</td>\n    </tr>\n    <tr>\n      <th>185</th>\n      <td>2020-11-21</td>\n      <td>아시아</td>\n      <td>대만</td>\n      <td>611</td>\n      <td>7</td>\n      <td>1.145663</td>\n    </tr>\n    <tr>\n      <th>186</th>\n      <td>2020-11-21</td>\n      <td>아시아</td>\n      <td>홍콩</td>\n      <td>5517</td>\n      <td>108</td>\n      <td>1.957586</td>\n    </tr>\n    <tr>\n      <th>187</th>\n      <td>2020-11-21</td>\n      <td>아시아</td>\n      <td>중국</td>\n      <td>86414</td>\n      <td>4634</td>\n      <td>5.362557</td>\n    </tr>\n    <tr>\n      <th>188</th>\n      <td>2020-11-21</td>\n      <td>아시아</td>\n      <td>한국</td>\n      <td>30403</td>\n      <td>503</td>\n      <td>1.654442</td>\n    </tr>\n  </tbody>\n</table>\n<p>189 rows × 6 columns</p>\n</div>"
     },
     "metadata": {},
     "execution_count": 72
    }
   ],
   "source": [
    "df = pd.DataFrame({\n",
    "    '일자':date_list,\n",
    "    '대륙':continent_list, '국가':country_list,\n",
    "    '확진자':case_list, '사망자':death_list, '사망률':death_rate_list\n",
    "})\n",
    "df"
   ]
  },
  {
   "source": [
    "# 시작일"
   ],
   "cell_type": "markdown",
   "metadata": {}
  },
  {
   "cell_type": "code",
   "execution_count": 96,
   "metadata": {},
   "outputs": [
    {
     "output_type": "execute_result",
     "data": {
      "text/plain": [
       "294"
      ]
     },
     "metadata": {},
     "execution_count": 96
    }
   ],
   "source": [
    "# 오늘 날짜\n",
    "today = datetime.today()\n",
    "march_2nd = datetime(2020,3,2)\n",
    "\n",
    "# 날짜끼리의 사칙연산은 timedelta 클래스로 return됨, where properties such as days, seconds are available.\n",
    "elapsed_count = (today - march_2nd).days\n",
    "elapsed_count"
   ]
  },
  {
   "cell_type": "code",
   "execution_count": 97,
   "metadata": {},
   "outputs": [
    {
     "output_type": "execute_result",
     "data": {
      "text/plain": [
       "DatetimeIndex(['2020-03-02', '2020-03-03', '2020-03-04', '2020-03-05',\n",
       "               '2020-03-06', '2020-03-07', '2020-03-08', '2020-03-09',\n",
       "               '2020-03-10', '2020-03-11',\n",
       "               ...\n",
       "               '2020-12-11', '2020-12-12', '2020-12-13', '2020-12-14',\n",
       "               '2020-12-15', '2020-12-16', '2020-12-17', '2020-12-18',\n",
       "               '2020-12-19', '2020-12-20'],\n",
       "              dtype='datetime64[ns]', length=294, freq='D')"
      ]
     },
     "metadata": {},
     "execution_count": 97
    }
   ],
   "source": [
    "elapsed_series = pd.date_range(march_2nd, periods= elapsed_count)\n",
    "elapsed_series"
   ]
  },
  {
   "source": [
    "# 요건 아직 트래픽 1000"
   ],
   "cell_type": "markdown",
   "metadata": {}
  },
  {
   "cell_type": "code",
   "execution_count": 98,
   "metadata": {},
   "outputs": [
    {
     "output_type": "stream",
     "name": "stderr",
     "text": [
      "100%|██████████| 1/1 [00:00<00:00,  1.00it/s]\n"
     ]
    }
   ],
   "source": [
    "date_list = [] ; continent_list = [] ; country_list = [] ;case_list = [] ; death_list = [] ; death_rate_list = []\n",
    "\n",
    "\n",
    "corona_url = \"http://openapi.data.go.kr/openapi/service/rest/Covid19/getCovid19NatInfStateJson\"\n",
    "    \n",
    "for date in tqdm(elapsed_series):\n",
    "    date =  date.strftime('%Y%m%d')\n",
    "\n",
    "\n",
    "    url = f\"{corona_url}?serviceKey={govapi_key}&pageNo=1&numOfRows=1&startCreateDt={start_date}&endCreateDt={end_date}\"\n",
    "\n",
    "    result = requests.get(url)\n",
    "    soup = BeautifulSoup(result.text, 'xml')\n",
    "    \n",
    "    # 일자\n",
    "    date = soup.select('createDt')\n",
    "    # 지역명\n",
    "    continent = soup.select('areaNm')\n",
    "    # 국가명\n",
    "    country = soup.select('nationNm')\n",
    "    # 확진자 수\n",
    "    case = soup.select('natDefCnt')\n",
    "    # 사망자 수\n",
    "    death = soup.select('natDeathCnt')\n",
    "    # 치사률(확진자 대비 사망률)\n",
    "    death_rate = soup.select('natDeathRate')\n",
    "\n",
    "    for i in date:\n",
    "        date_list.append(parse(i.text).date())\n",
    "    for i in continent:\n",
    "        continent_list.append(i.text)\n",
    "    for i in country:\n",
    "        country_list.append(i.text)\n",
    "    for i in case:\n",
    "        case_list.append(int(i.text))\n",
    "    for i in death:\n",
    "        death_list.append(int(i.text))\n",
    "    for i in death_rate:\n",
    "        death_rate_list.append(float(i.text))"
   ]
  },
  {
   "cell_type": "code",
   "execution_count": 100,
   "metadata": {},
   "outputs": [
    {
     "output_type": "stream",
     "name": "stdout",
     "text": [
      "189\n189\n189\n189\n189\n189\n"
     ]
    }
   ],
   "source": [
    "print(len(date_list))\n",
    "print(len(continent_list))\n",
    "print(len(country_list))\n",
    "print(len(case_list))\n",
    "print(len(death_list))\n",
    "print(len(death_rate_list))"
   ]
  },
  {
   "cell_type": "code",
   "execution_count": 101,
   "metadata": {},
   "outputs": [
    {
     "output_type": "execute_result",
     "data": {
      "text/plain": [
       "             일자    대륙       국가     확진자   사망자       사망률\n",
       "0    2020-11-21    기타  기타지역 영토  194632  2371  1.218196\n",
       "1    2020-11-21  아프리카      레소토    2058    44  2.137998\n",
       "2    2020-11-21  아프리카      코모로     592     7  1.182432\n",
       "3    2020-11-21  아프리카  상투메프린시페     974    16  1.642710\n",
       "4    2020-11-21  아프리카      남수단    3016    59  1.956233\n",
       "..          ...   ...      ...     ...   ...       ...\n",
       "184  2020-11-21   아시아      마카오      46     0  0.000000\n",
       "185  2020-11-21   아시아       대만     611     7  1.145663\n",
       "186  2020-11-21   아시아       홍콩    5517   108  1.957586\n",
       "187  2020-11-21   아시아       중국   86414  4634  5.362557\n",
       "188  2020-11-21   아시아       한국   30403   503  1.654442\n",
       "\n",
       "[189 rows x 6 columns]"
      ],
      "text/html": "<div>\n<style scoped>\n    .dataframe tbody tr th:only-of-type {\n        vertical-align: middle;\n    }\n\n    .dataframe tbody tr th {\n        vertical-align: top;\n    }\n\n    .dataframe thead th {\n        text-align: right;\n    }\n</style>\n<table border=\"1\" class=\"dataframe\">\n  <thead>\n    <tr style=\"text-align: right;\">\n      <th></th>\n      <th>일자</th>\n      <th>대륙</th>\n      <th>국가</th>\n      <th>확진자</th>\n      <th>사망자</th>\n      <th>사망률</th>\n    </tr>\n  </thead>\n  <tbody>\n    <tr>\n      <th>0</th>\n      <td>2020-11-21</td>\n      <td>기타</td>\n      <td>기타지역 영토</td>\n      <td>194632</td>\n      <td>2371</td>\n      <td>1.218196</td>\n    </tr>\n    <tr>\n      <th>1</th>\n      <td>2020-11-21</td>\n      <td>아프리카</td>\n      <td>레소토</td>\n      <td>2058</td>\n      <td>44</td>\n      <td>2.137998</td>\n    </tr>\n    <tr>\n      <th>2</th>\n      <td>2020-11-21</td>\n      <td>아프리카</td>\n      <td>코모로</td>\n      <td>592</td>\n      <td>7</td>\n      <td>1.182432</td>\n    </tr>\n    <tr>\n      <th>3</th>\n      <td>2020-11-21</td>\n      <td>아프리카</td>\n      <td>상투메프린시페</td>\n      <td>974</td>\n      <td>16</td>\n      <td>1.642710</td>\n    </tr>\n    <tr>\n      <th>4</th>\n      <td>2020-11-21</td>\n      <td>아프리카</td>\n      <td>남수단</td>\n      <td>3016</td>\n      <td>59</td>\n      <td>1.956233</td>\n    </tr>\n    <tr>\n      <th>...</th>\n      <td>...</td>\n      <td>...</td>\n      <td>...</td>\n      <td>...</td>\n      <td>...</td>\n      <td>...</td>\n    </tr>\n    <tr>\n      <th>184</th>\n      <td>2020-11-21</td>\n      <td>아시아</td>\n      <td>마카오</td>\n      <td>46</td>\n      <td>0</td>\n      <td>0.000000</td>\n    </tr>\n    <tr>\n      <th>185</th>\n      <td>2020-11-21</td>\n      <td>아시아</td>\n      <td>대만</td>\n      <td>611</td>\n      <td>7</td>\n      <td>1.145663</td>\n    </tr>\n    <tr>\n      <th>186</th>\n      <td>2020-11-21</td>\n      <td>아시아</td>\n      <td>홍콩</td>\n      <td>5517</td>\n      <td>108</td>\n      <td>1.957586</td>\n    </tr>\n    <tr>\n      <th>187</th>\n      <td>2020-11-21</td>\n      <td>아시아</td>\n      <td>중국</td>\n      <td>86414</td>\n      <td>4634</td>\n      <td>5.362557</td>\n    </tr>\n    <tr>\n      <th>188</th>\n      <td>2020-11-21</td>\n      <td>아시아</td>\n      <td>한국</td>\n      <td>30403</td>\n      <td>503</td>\n      <td>1.654442</td>\n    </tr>\n  </tbody>\n</table>\n<p>189 rows × 6 columns</p>\n</div>"
     },
     "metadata": {},
     "execution_count": 101
    }
   ],
   "source": [
    "df = pd.DataFrame({\n",
    "    '일자':date_list,\n",
    "    '대륙':continent_list, '국가':country_list,\n",
    "    '확진자':case_list, '사망자':death_list, '사망률':death_rate_list\n",
    "})\n",
    "df"
   ]
  },
  {
   "cell_type": "code",
   "execution_count": null,
   "metadata": {},
   "outputs": [],
   "source": [
    "df.to_csv('./result/해외.csv',sep=',',encoding='utf8')"
   ]
  }
 ]
}