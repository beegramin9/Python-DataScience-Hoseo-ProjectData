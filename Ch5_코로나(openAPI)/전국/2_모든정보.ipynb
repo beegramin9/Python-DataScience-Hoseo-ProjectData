{
 "metadata": {
  "language_info": {
   "codemirror_mode": {
    "name": "ipython",
    "version": 3
   },
   "file_extension": ".py",
   "mimetype": "text/x-python",
   "name": "python",
   "nbconvert_exporter": "python",
   "pygments_lexer": "ipython3",
   "version": "3.8.5-final"
  },
  "orig_nbformat": 2,
  "kernelspec": {
   "name": "python3",
   "display_name": "Python 3",
   "language": "python"
  }
 },
 "nbformat": 4,
 "nbformat_minor": 2,
 "cells": [
  {
   "cell_type": "code",
   "execution_count": 164,
   "metadata": {},
   "outputs": [],
   "source": [
    "import requests\n",
    "import pandas as pd\n",
    "import numpy as np\n",
    "from bs4 import BeautifulSoup\n",
    "from datetime import datetime\n",
    "from dateutil.parser import parse\n",
    "from tqdm import tqdm"
   ]
  },
  {
   "cell_type": "code",
   "execution_count": 179,
   "metadata": {},
   "outputs": [],
   "source": [
    "key_fd = open('../keys/gov_data_api_key.txt', mode='r')\n",
    "govapi_key = key_fd.read(100)\n",
    "key_fd.close()"
   ]
  },
  {
   "cell_type": "code",
   "execution_count": 180,
   "metadata": {},
   "outputs": [],
   "source": [
    "# datetime객체에서 문자열로 전처리해줘야 받아옴\n",
    "start_date = '20201121'\n",
    "end_date = '20201121'"
   ]
  },
  {
   "cell_type": "code",
   "execution_count": 181,
   "metadata": {},
   "outputs": [],
   "source": [
    "corona_url = \"http://openapi.data.go.kr/openapi/service/rest/Covid19/getCovid19SidoInfStateJson\"\n",
    "url = f\"{corona_url}?serviceKey={govapi_key}&pageNo=1&numOfRows=1&startCreateDt={start_date}&endCreateDt={end_date}\""
   ]
  },
  {
   "cell_type": "code",
   "execution_count": 182,
   "metadata": {},
   "outputs": [],
   "source": [
    "result = requests.get(url)\n",
    "soup = BeautifulSoup(result.text, 'xml')"
   ]
  },
  {
   "cell_type": "code",
   "execution_count": 183,
   "metadata": {},
   "outputs": [
    {
     "output_type": "execute_result",
     "data": {
      "text/plain": [
       "'19'"
      ]
     },
     "metadata": {},
     "execution_count": 183
    }
   ],
   "source": [
    "# 한 번 요청할 때 들어오는 결과 수\n",
    "totalCount = soup.select_one('totalCount').text\n",
    "totalCount"
   ]
  },
  {
   "cell_type": "code",
   "execution_count": 184,
   "metadata": {},
   "outputs": [],
   "source": [
    "# 날짜\n",
    "date = soup.select('createDt')\n",
    "# 도시\n",
    "city = soup.select('gubun')\n",
    "# 사망자 수\n",
    "death_toll = soup.select('deathCnt')\n",
    "# 전일대비 증감 수\n",
    "increase = soup.select('incDec')\n",
    "# 일일 확진자 수\n",
    "case = soup.select('defCnt')\n",
    "# 지역발생 수\n",
    "local = soup.select('localOccCnt')\n",
    "# 해외유입 수\n",
    "inflow = soup.select('overFlowCnt')\n",
    "# 격리중 확진자 수\n",
    "isolation = soup.select('isolIngCnt')\n",
    "# 일일 격리 해제 수\n",
    "release = soup.select('isolClearCnt')\n",
    "# 10만명당 발생률\n",
    "per100k = soup.select('qurRate')"
   ]
  },
  {
   "cell_type": "code",
   "execution_count": 185,
   "metadata": {},
   "outputs": [],
   "source": [
    "date_list = [] ; city_list = [] ; death_toll_list = [] ; increase_list = [] ; case_list = [] ; local_list = [] ; inflow_list = [] ; isolation_list = [] ; release_list = [] ; per100k_list = []\n",
    "\n",
    "for i in date:\n",
    "    date_list.append(parse(i.text).date())\n",
    "for i in city:\n",
    "    city_list.append(i.text)\n",
    "for i in death_toll:\n",
    "    death_toll_list.append(int(i.text))\n",
    "for i in increase:\n",
    "    increase_list.append(int(i.text))\n",
    "for i in case:\n",
    "    case_list.append(int(i.text))\n",
    "for i in local:\n",
    "    local_list.append(int(i.text))\n",
    "for i in inflow:\n",
    "    inflow_list.append(int(i.text))\n",
    "for i in isolation:\n",
    "    isolation_list.append(int(i.text))\n",
    "for i in release:\n",
    "    release_list.append(int(i.text))\n",
    "for i in per100k:\n",
    "    per100k_list.append(float(i.text) if i.text != '-' else 0.00)\n"
   ]
  },
  {
   "cell_type": "code",
   "execution_count": 186,
   "metadata": {},
   "outputs": [
    {
     "output_type": "execute_result",
     "data": {
      "text/plain": [
       "            일자  지역  사망자    확진자  전일대비   격리해제   격리중  지역발생  해외유입   10만명당\n",
       "0   2020-11-21  검역    0   2090     9   1556   534     0     9    0.00\n",
       "1   2020-11-21  제주    0     65     0     59     6     0     0    9.69\n",
       "2   2020-11-21  경남    0    457    11    342   115    11     0   13.60\n",
       "3   2020-11-21  경북   57   1657     8   1535    65     8     0   62.23\n",
       "4   2020-11-21  전남    2    340    19    189   149    18     1   18.23\n",
       "5   2020-11-21  전북    1    208    14    165    42    13     1   11.45\n",
       "6   2020-11-21  충남    8    769    21    598   163    19     2   36.23\n",
       "7   2020-11-21  충북    3    225     1    194    28     1     0   14.07\n",
       "8   2020-11-21  강원    5    491    15    295   191    14     1   31.87\n",
       "9   2020-11-21  경기  108   6367    93   5486   773    86     7   48.05\n",
       "10  2020-11-21  세종    0     86     0     82     4     0     0   25.12\n",
       "11  2020-11-21  울산    2    171     1    163     6     1     0   14.91\n",
       "12  2020-11-21  대전    6    457     1    437    14     1     0   31.00\n",
       "13  2020-11-21  광주    3    606     7    514    89     6     1   41.60\n",
       "14  2020-11-21  인천   11   1179    22   1051   117    22     0   39.88\n",
       "15  2020-11-21  대구  197   7212     1   6983    32     0     1  296.00\n",
       "16  2020-11-21  부산   15    631     7    580    36     7     0   18.49\n",
       "17  2020-11-21  서울   85   7392   156   6136  1171   154     2   75.94\n",
       "18  2020-11-21  합계  503  30403   386  26365  3535   361    25   58.64"
      ],
      "text/html": "<div>\n<style scoped>\n    .dataframe tbody tr th:only-of-type {\n        vertical-align: middle;\n    }\n\n    .dataframe tbody tr th {\n        vertical-align: top;\n    }\n\n    .dataframe thead th {\n        text-align: right;\n    }\n</style>\n<table border=\"1\" class=\"dataframe\">\n  <thead>\n    <tr style=\"text-align: right;\">\n      <th></th>\n      <th>일자</th>\n      <th>지역</th>\n      <th>사망자</th>\n      <th>확진자</th>\n      <th>전일대비</th>\n      <th>격리해제</th>\n      <th>격리중</th>\n      <th>지역발생</th>\n      <th>해외유입</th>\n      <th>10만명당</th>\n    </tr>\n  </thead>\n  <tbody>\n    <tr>\n      <th>0</th>\n      <td>2020-11-21</td>\n      <td>검역</td>\n      <td>0</td>\n      <td>2090</td>\n      <td>9</td>\n      <td>1556</td>\n      <td>534</td>\n      <td>0</td>\n      <td>9</td>\n      <td>0.00</td>\n    </tr>\n    <tr>\n      <th>1</th>\n      <td>2020-11-21</td>\n      <td>제주</td>\n      <td>0</td>\n      <td>65</td>\n      <td>0</td>\n      <td>59</td>\n      <td>6</td>\n      <td>0</td>\n      <td>0</td>\n      <td>9.69</td>\n    </tr>\n    <tr>\n      <th>2</th>\n      <td>2020-11-21</td>\n      <td>경남</td>\n      <td>0</td>\n      <td>457</td>\n      <td>11</td>\n      <td>342</td>\n      <td>115</td>\n      <td>11</td>\n      <td>0</td>\n      <td>13.60</td>\n    </tr>\n    <tr>\n      <th>3</th>\n      <td>2020-11-21</td>\n      <td>경북</td>\n      <td>57</td>\n      <td>1657</td>\n      <td>8</td>\n      <td>1535</td>\n      <td>65</td>\n      <td>8</td>\n      <td>0</td>\n      <td>62.23</td>\n    </tr>\n    <tr>\n      <th>4</th>\n      <td>2020-11-21</td>\n      <td>전남</td>\n      <td>2</td>\n      <td>340</td>\n      <td>19</td>\n      <td>189</td>\n      <td>149</td>\n      <td>18</td>\n      <td>1</td>\n      <td>18.23</td>\n    </tr>\n    <tr>\n      <th>5</th>\n      <td>2020-11-21</td>\n      <td>전북</td>\n      <td>1</td>\n      <td>208</td>\n      <td>14</td>\n      <td>165</td>\n      <td>42</td>\n      <td>13</td>\n      <td>1</td>\n      <td>11.45</td>\n    </tr>\n    <tr>\n      <th>6</th>\n      <td>2020-11-21</td>\n      <td>충남</td>\n      <td>8</td>\n      <td>769</td>\n      <td>21</td>\n      <td>598</td>\n      <td>163</td>\n      <td>19</td>\n      <td>2</td>\n      <td>36.23</td>\n    </tr>\n    <tr>\n      <th>7</th>\n      <td>2020-11-21</td>\n      <td>충북</td>\n      <td>3</td>\n      <td>225</td>\n      <td>1</td>\n      <td>194</td>\n      <td>28</td>\n      <td>1</td>\n      <td>0</td>\n      <td>14.07</td>\n    </tr>\n    <tr>\n      <th>8</th>\n      <td>2020-11-21</td>\n      <td>강원</td>\n      <td>5</td>\n      <td>491</td>\n      <td>15</td>\n      <td>295</td>\n      <td>191</td>\n      <td>14</td>\n      <td>1</td>\n      <td>31.87</td>\n    </tr>\n    <tr>\n      <th>9</th>\n      <td>2020-11-21</td>\n      <td>경기</td>\n      <td>108</td>\n      <td>6367</td>\n      <td>93</td>\n      <td>5486</td>\n      <td>773</td>\n      <td>86</td>\n      <td>7</td>\n      <td>48.05</td>\n    </tr>\n    <tr>\n      <th>10</th>\n      <td>2020-11-21</td>\n      <td>세종</td>\n      <td>0</td>\n      <td>86</td>\n      <td>0</td>\n      <td>82</td>\n      <td>4</td>\n      <td>0</td>\n      <td>0</td>\n      <td>25.12</td>\n    </tr>\n    <tr>\n      <th>11</th>\n      <td>2020-11-21</td>\n      <td>울산</td>\n      <td>2</td>\n      <td>171</td>\n      <td>1</td>\n      <td>163</td>\n      <td>6</td>\n      <td>1</td>\n      <td>0</td>\n      <td>14.91</td>\n    </tr>\n    <tr>\n      <th>12</th>\n      <td>2020-11-21</td>\n      <td>대전</td>\n      <td>6</td>\n      <td>457</td>\n      <td>1</td>\n      <td>437</td>\n      <td>14</td>\n      <td>1</td>\n      <td>0</td>\n      <td>31.00</td>\n    </tr>\n    <tr>\n      <th>13</th>\n      <td>2020-11-21</td>\n      <td>광주</td>\n      <td>3</td>\n      <td>606</td>\n      <td>7</td>\n      <td>514</td>\n      <td>89</td>\n      <td>6</td>\n      <td>1</td>\n      <td>41.60</td>\n    </tr>\n    <tr>\n      <th>14</th>\n      <td>2020-11-21</td>\n      <td>인천</td>\n      <td>11</td>\n      <td>1179</td>\n      <td>22</td>\n      <td>1051</td>\n      <td>117</td>\n      <td>22</td>\n      <td>0</td>\n      <td>39.88</td>\n    </tr>\n    <tr>\n      <th>15</th>\n      <td>2020-11-21</td>\n      <td>대구</td>\n      <td>197</td>\n      <td>7212</td>\n      <td>1</td>\n      <td>6983</td>\n      <td>32</td>\n      <td>0</td>\n      <td>1</td>\n      <td>296.00</td>\n    </tr>\n    <tr>\n      <th>16</th>\n      <td>2020-11-21</td>\n      <td>부산</td>\n      <td>15</td>\n      <td>631</td>\n      <td>7</td>\n      <td>580</td>\n      <td>36</td>\n      <td>7</td>\n      <td>0</td>\n      <td>18.49</td>\n    </tr>\n    <tr>\n      <th>17</th>\n      <td>2020-11-21</td>\n      <td>서울</td>\n      <td>85</td>\n      <td>7392</td>\n      <td>156</td>\n      <td>6136</td>\n      <td>1171</td>\n      <td>154</td>\n      <td>2</td>\n      <td>75.94</td>\n    </tr>\n    <tr>\n      <th>18</th>\n      <td>2020-11-21</td>\n      <td>합계</td>\n      <td>503</td>\n      <td>30403</td>\n      <td>386</td>\n      <td>26365</td>\n      <td>3535</td>\n      <td>361</td>\n      <td>25</td>\n      <td>58.64</td>\n    </tr>\n  </tbody>\n</table>\n</div>"
     },
     "metadata": {},
     "execution_count": 186
    }
   ],
   "source": [
    "df = pd.DataFrame({\n",
    "    '일자':date_list,\n",
    "    '지역':city_list, '사망자':death_toll_list,\n",
    "    '확진자':case_list, '전일대비':increase_list, '격리해제':release_list, \n",
    "    '격리중':isolation_list, '지역발생':local_list,'해외유입':inflow_list,\n",
    "    '10만명당':per100k_list\n",
    "})\n",
    "df"
   ]
  },
  {
   "cell_type": "code",
   "execution_count": 187,
   "metadata": {},
   "outputs": [
    {
     "output_type": "error",
     "ename": "NameError",
     "evalue": "name 'ᄁ' is not defined",
     "traceback": [
      "\u001b[1;31m---------------------------------------------------------------------------\u001b[0m",
      "\u001b[1;31mNameError\u001b[0m                                 Traceback (most recent call last)",
      "\u001b[1;32m<ipython-input-187-b12ea5d4a906>\u001b[0m in \u001b[0;36m<module>\u001b[1;34m\u001b[0m\n\u001b[1;32m----> 1\u001b[1;33m \u001b[0mㄲ\u001b[0m\u001b[1;33m\u001b[0m\u001b[1;33m\u001b[0m\u001b[0m\n\u001b[0m",
      "\u001b[1;31mNameError\u001b[0m: name 'ᄁ' is not defined"
     ]
    }
   ],
   "source": [
    "ㄲ"
   ]
  },
  {
   "source": [
    "## 전체 데이터"
   ],
   "cell_type": "markdown",
   "metadata": {}
  },
  {
   "cell_type": "code",
   "execution_count": 190,
   "metadata": {},
   "outputs": [
    {
     "output_type": "execute_result",
     "data": {
      "text/plain": [
       "292"
      ]
     },
     "metadata": {},
     "execution_count": 190
    }
   ],
   "source": [
    "# 오늘 날짜\n",
    "today = datetime.today()\n",
    "march_2nd = datetime(2020,3,4)\n",
    "\n",
    "# 날짜끼리의 사칙연산은 timedelta 클래스로 return됨, where properties such as days, seconds are available.\n",
    "elapsed_count = (today - march_2nd).days\n",
    "elapsed_count"
   ]
  },
  {
   "cell_type": "code",
   "execution_count": 191,
   "metadata": {},
   "outputs": [
    {
     "output_type": "execute_result",
     "data": {
      "text/plain": [
       "DatetimeIndex(['2020-03-04', '2020-03-05', '2020-03-06', '2020-03-07',\n",
       "               '2020-03-08', '2020-03-09', '2020-03-10', '2020-03-11',\n",
       "               '2020-03-12', '2020-03-13',\n",
       "               ...\n",
       "               '2020-12-11', '2020-12-12', '2020-12-13', '2020-12-14',\n",
       "               '2020-12-15', '2020-12-16', '2020-12-17', '2020-12-18',\n",
       "               '2020-12-19', '2020-12-20'],\n",
       "              dtype='datetime64[ns]', length=292, freq='D')"
      ]
     },
     "metadata": {},
     "execution_count": 191
    }
   ],
   "source": [
    "elapsed_series = pd.date_range(march_2nd, periods= elapsed_count)\n",
    "elapsed_series"
   ]
  },
  {
   "cell_type": "code",
   "execution_count": 216,
   "metadata": {
    "tags": []
   },
   "outputs": [
    {
     "output_type": "stream",
     "name": "stderr",
     "text": [
      " 83%|████████▎ | 241/292 [00:38<00:08,  6.18it/s]\n"
     ]
    },
    {
     "output_type": "error",
     "ename": "ValueError",
     "evalue": "could not convert string to float: '51.13.'",
     "traceback": [
      "\u001b[1;31m---------------------------------------------------------------------------\u001b[0m",
      "\u001b[1;31mValueError\u001b[0m                                Traceback (most recent call last)",
      "\u001b[1;32m<ipython-input-216-f681033547a2>\u001b[0m in \u001b[0;36m<module>\u001b[1;34m\u001b[0m\n\u001b[0;32m     80\u001b[0m \u001b[1;33m\u001b[0m\u001b[0m\n\u001b[0;32m     81\u001b[0m     \u001b[1;32mfor\u001b[0m \u001b[0mi\u001b[0m \u001b[1;32min\u001b[0m \u001b[0mper100k\u001b[0m\u001b[1;33m:\u001b[0m\u001b[1;33m\u001b[0m\u001b[1;33m\u001b[0m\u001b[0m\n\u001b[1;32m---> 82\u001b[1;33m         \u001b[0mper100k_list\u001b[0m\u001b[1;33m.\u001b[0m\u001b[0mappend\u001b[0m\u001b[1;33m(\u001b[0m\u001b[0mfloat\u001b[0m\u001b[1;33m(\u001b[0m\u001b[0mi\u001b[0m\u001b[1;33m.\u001b[0m\u001b[0mtext\u001b[0m\u001b[1;33m)\u001b[0m \u001b[1;32mif\u001b[0m \u001b[0mi\u001b[0m\u001b[1;33m.\u001b[0m\u001b[0mtext\u001b[0m\u001b[1;33m.\u001b[0m\u001b[0mfind\u001b[0m\u001b[1;33m(\u001b[0m\u001b[1;34m'.'\u001b[0m\u001b[1;33m)\u001b[0m \u001b[1;33m>=\u001b[0m \u001b[1;36m0\u001b[0m \u001b[1;32melse\u001b[0m \u001b[1;36m0.00\u001b[0m\u001b[1;33m)\u001b[0m\u001b[1;33m\u001b[0m\u001b[1;33m\u001b[0m\u001b[0m\n\u001b[0m",
      "\u001b[1;31mValueError\u001b[0m: could not convert string to float: '51.13.'"
     ]
    }
   ],
   "source": [
    "date_list = [] ; city_list = [] ; death_toll_list = [] ; increase_list = [] ; case_list = [] ; local_list = [] ; inflow_list = [] ; isolation_list = [] ; release_list = [] ; per100k_list = []\n",
    "\n",
    "corona_url = \"http://openapi.data.go.kr/openapi/service/rest/Covid19/getCovid19SidoInfStateJson\"\n",
    "\n",
    "for date in tqdm(elapsed_series):\n",
    "    date =  date.strftime('%Y%m%d')\n",
    "\n",
    "    url = f\"{corona_url}?serviceKey={govapi_key}&pageNo=1&numOfRows=1&startCreateDt={date}&endCreateDt={date}\"\n",
    "\n",
    "    result = requests.get(url)\n",
    "    soup = BeautifulSoup(result.text, 'xml')\n",
    "\n",
    "    # 날짜\n",
    "    date = soup.select('createDt')\n",
    "    # 도시\n",
    "    city = soup.select('gubun')\n",
    "    # 사망자 수\n",
    "    death_toll = soup.select('deathCnt')\n",
    "    # 전일대비 증감 수\n",
    "    increase = soup.select('incDec')\n",
    "    # 일일 확진자 수\n",
    "    case = soup.select('defCnt')\n",
    "    # 지역발생 수\n",
    "    local = soup.select('localOccCnt')\n",
    "    # 해외유입 수\n",
    "    inflow = soup.select('overFlowCnt')\n",
    "    # 격리중 확진자 수\n",
    "    isolation = soup.select('isolIngCnt')\n",
    "    # 일일 격리 해제 수\n",
    "    release = soup.select('isolClearCnt')\n",
    "    # 10만명당 발생률\n",
    "    per100k = soup.select('qurRate')\n",
    "\n",
    "    # 초반에 아직 해외유입이 없다거나, 사망자가 없다거나 해서 누락되는 데이터들이 있으므로 삼항연산자 혹은 오류처리를 해줘야 함\n",
    "    for i in date:\n",
    "        date_list.append(parse(i.text).date())\n",
    "    for i in city:\n",
    "        city_list.append(i.text)\n",
    "    for i in death_toll:\n",
    "        death_toll_list.append(int(i.text))\n",
    "    for i in increase:\n",
    "        increase_list.append(int(i.text))\n",
    "    # 아무것도 없을 때에는 빈 리스트로 받아옴\n",
    "    # 삼항연산자로 해결못함. i가 없음\n",
    "    # try-except로도 해결못함. 값이 없을 뿐이지, 빈 리스트로 들어오긴 해서 오류가 아니기 때문임\n",
    "    if len(case) != 0:\n",
    "        for i in case:\n",
    "            case_list.append(int(i.text))\n",
    "    else:\n",
    "        # 일자 length를 기준으로\n",
    "        for i in range(len(date)):\n",
    "            case_list.append(0)\n",
    "\n",
    "    if len(local) != 0:\n",
    "        for i in local:\n",
    "            local_list.append(int(i.text))\n",
    "    else:\n",
    "        for i in range(len(date)):\n",
    "            local_list.append(0)\n",
    "\n",
    "    if len(inflow) != 0:\n",
    "        for i in inflow:\n",
    "            inflow_list.append(int(i.text))\n",
    "    else:\n",
    "        for i in range(len(date)):\n",
    "            inflow_list.append(0)\n",
    "  \n",
    "    if len(isolation) != 0:\n",
    "        for i in isolation:\n",
    "            isolation_list.append(int(i.text))\n",
    "    else:\n",
    "        for i in range(len(date)):\n",
    "            isolation_list.append(0)\n",
    "    if len(isolation) != 0:\n",
    "        for i in release:\n",
    "            release_list.append(int(i.text))\n",
    "    else:\n",
    "        for i in range(len(date)):\n",
    "            release_list.append(0)\n",
    "\n",
    "    for i in per100k:\n",
    "        try:\n",
    "            per100k_list.append(float(i.text) if i.text.find('.') >= 0 else 0.00)\n",
    "        # 51.13. 같은 이상한 값이 껴있음\n",
    "        except:\n",
    "            per100k_list.append(float(i.text[:-1]) if i.text.find('.') >= 0 else 0.00)\n"
   ]
  },
  {
   "cell_type": "code",
   "execution_count": 213,
   "metadata": {},
   "outputs": [
    {
     "output_type": "stream",
     "name": "stdout",
     "text": [
      "18\n18\n18\n18\n18\n18\n18\n18\n18\n18\n"
     ]
    }
   ],
   "source": [
    "print(len(date_list))\n",
    "print(len(city_list))\n",
    "print(len(death_toll_list))\n",
    "print(len(case_list))\n",
    "print(len(increase_list))\n",
    "print(len(release_list))\n",
    "print(len(isolation_list))\n",
    "print(len(local_list))\n",
    "print(len(inflow_list))\n",
    "print(len(per100k_list))"
   ]
  },
  {
   "cell_type": "code",
   "execution_count": 214,
   "metadata": {},
   "outputs": [
    {
     "output_type": "execute_result",
     "data": {
      "text/plain": [
       "            일자  지역  사망자   확진자  전일대비  격리해제  격리중  지역발생  해외유입  10만명당\n",
       "0   2020-03-04  제주    0     3     0     0    0     0     0    0.4\n",
       "1   2020-03-04  경남    0    65     1     0    0     0     0    1.9\n",
       "2   2020-03-04  경북    6   774    89     0    0     0     0   29.1\n",
       "3   2020-03-04  전남    0     5     0     0    0     0     0    0.3\n",
       "4   2020-03-04  전북    0     7     0     0    0     0     0    0.4\n",
       "5   2020-03-04  충남    0    82     1     0    0     0     0    3.9\n",
       "6   2020-03-04  충북    0    11     0     0    0     0     0    0.7\n",
       "7   2020-03-04  강원    0    21     1     0    0     0     0    1.4\n",
       "8   2020-03-04  경기    1   101     7     0    0     0     0    0.8\n",
       "9   2020-03-04  세종    0     1     0     0    0     0     0    0.3\n",
       "10  2020-03-04  울산    0    23     3     0    0     0     0    0.0\n",
       "11  2020-03-04  대전    0    15     1     0    0     0     0    0.0\n",
       "12  2020-03-04  광주    0    13     2     0    0     0     0    0.9\n",
       "13  2020-03-04  인천    0     9     2     0    0     0     0    0.3\n",
       "14  2020-03-04  대구   24  4006   405     0    0     0     0  164.4\n",
       "15  2020-03-04  부산    1    93     3     0    0     0     0    2.7\n",
       "16  2020-03-04  서울    0    99     1     0    0     0     0    0.0\n",
       "17  2020-03-04  합계   32  5328   516     0    0     0     0   10.3"
      ],
      "text/html": "<div>\n<style scoped>\n    .dataframe tbody tr th:only-of-type {\n        vertical-align: middle;\n    }\n\n    .dataframe tbody tr th {\n        vertical-align: top;\n    }\n\n    .dataframe thead th {\n        text-align: right;\n    }\n</style>\n<table border=\"1\" class=\"dataframe\">\n  <thead>\n    <tr style=\"text-align: right;\">\n      <th></th>\n      <th>일자</th>\n      <th>지역</th>\n      <th>사망자</th>\n      <th>확진자</th>\n      <th>전일대비</th>\n      <th>격리해제</th>\n      <th>격리중</th>\n      <th>지역발생</th>\n      <th>해외유입</th>\n      <th>10만명당</th>\n    </tr>\n  </thead>\n  <tbody>\n    <tr>\n      <th>0</th>\n      <td>2020-03-04</td>\n      <td>제주</td>\n      <td>0</td>\n      <td>3</td>\n      <td>0</td>\n      <td>0</td>\n      <td>0</td>\n      <td>0</td>\n      <td>0</td>\n      <td>0.4</td>\n    </tr>\n    <tr>\n      <th>1</th>\n      <td>2020-03-04</td>\n      <td>경남</td>\n      <td>0</td>\n      <td>65</td>\n      <td>1</td>\n      <td>0</td>\n      <td>0</td>\n      <td>0</td>\n      <td>0</td>\n      <td>1.9</td>\n    </tr>\n    <tr>\n      <th>2</th>\n      <td>2020-03-04</td>\n      <td>경북</td>\n      <td>6</td>\n      <td>774</td>\n      <td>89</td>\n      <td>0</td>\n      <td>0</td>\n      <td>0</td>\n      <td>0</td>\n      <td>29.1</td>\n    </tr>\n    <tr>\n      <th>3</th>\n      <td>2020-03-04</td>\n      <td>전남</td>\n      <td>0</td>\n      <td>5</td>\n      <td>0</td>\n      <td>0</td>\n      <td>0</td>\n      <td>0</td>\n      <td>0</td>\n      <td>0.3</td>\n    </tr>\n    <tr>\n      <th>4</th>\n      <td>2020-03-04</td>\n      <td>전북</td>\n      <td>0</td>\n      <td>7</td>\n      <td>0</td>\n      <td>0</td>\n      <td>0</td>\n      <td>0</td>\n      <td>0</td>\n      <td>0.4</td>\n    </tr>\n    <tr>\n      <th>5</th>\n      <td>2020-03-04</td>\n      <td>충남</td>\n      <td>0</td>\n      <td>82</td>\n      <td>1</td>\n      <td>0</td>\n      <td>0</td>\n      <td>0</td>\n      <td>0</td>\n      <td>3.9</td>\n    </tr>\n    <tr>\n      <th>6</th>\n      <td>2020-03-04</td>\n      <td>충북</td>\n      <td>0</td>\n      <td>11</td>\n      <td>0</td>\n      <td>0</td>\n      <td>0</td>\n      <td>0</td>\n      <td>0</td>\n      <td>0.7</td>\n    </tr>\n    <tr>\n      <th>7</th>\n      <td>2020-03-04</td>\n      <td>강원</td>\n      <td>0</td>\n      <td>21</td>\n      <td>1</td>\n      <td>0</td>\n      <td>0</td>\n      <td>0</td>\n      <td>0</td>\n      <td>1.4</td>\n    </tr>\n    <tr>\n      <th>8</th>\n      <td>2020-03-04</td>\n      <td>경기</td>\n      <td>1</td>\n      <td>101</td>\n      <td>7</td>\n      <td>0</td>\n      <td>0</td>\n      <td>0</td>\n      <td>0</td>\n      <td>0.8</td>\n    </tr>\n    <tr>\n      <th>9</th>\n      <td>2020-03-04</td>\n      <td>세종</td>\n      <td>0</td>\n      <td>1</td>\n      <td>0</td>\n      <td>0</td>\n      <td>0</td>\n      <td>0</td>\n      <td>0</td>\n      <td>0.3</td>\n    </tr>\n    <tr>\n      <th>10</th>\n      <td>2020-03-04</td>\n      <td>울산</td>\n      <td>0</td>\n      <td>23</td>\n      <td>3</td>\n      <td>0</td>\n      <td>0</td>\n      <td>0</td>\n      <td>0</td>\n      <td>0.0</td>\n    </tr>\n    <tr>\n      <th>11</th>\n      <td>2020-03-04</td>\n      <td>대전</td>\n      <td>0</td>\n      <td>15</td>\n      <td>1</td>\n      <td>0</td>\n      <td>0</td>\n      <td>0</td>\n      <td>0</td>\n      <td>0.0</td>\n    </tr>\n    <tr>\n      <th>12</th>\n      <td>2020-03-04</td>\n      <td>광주</td>\n      <td>0</td>\n      <td>13</td>\n      <td>2</td>\n      <td>0</td>\n      <td>0</td>\n      <td>0</td>\n      <td>0</td>\n      <td>0.9</td>\n    </tr>\n    <tr>\n      <th>13</th>\n      <td>2020-03-04</td>\n      <td>인천</td>\n      <td>0</td>\n      <td>9</td>\n      <td>2</td>\n      <td>0</td>\n      <td>0</td>\n      <td>0</td>\n      <td>0</td>\n      <td>0.3</td>\n    </tr>\n    <tr>\n      <th>14</th>\n      <td>2020-03-04</td>\n      <td>대구</td>\n      <td>24</td>\n      <td>4006</td>\n      <td>405</td>\n      <td>0</td>\n      <td>0</td>\n      <td>0</td>\n      <td>0</td>\n      <td>164.4</td>\n    </tr>\n    <tr>\n      <th>15</th>\n      <td>2020-03-04</td>\n      <td>부산</td>\n      <td>1</td>\n      <td>93</td>\n      <td>3</td>\n      <td>0</td>\n      <td>0</td>\n      <td>0</td>\n      <td>0</td>\n      <td>2.7</td>\n    </tr>\n    <tr>\n      <th>16</th>\n      <td>2020-03-04</td>\n      <td>서울</td>\n      <td>0</td>\n      <td>99</td>\n      <td>1</td>\n      <td>0</td>\n      <td>0</td>\n      <td>0</td>\n      <td>0</td>\n      <td>0.0</td>\n    </tr>\n    <tr>\n      <th>17</th>\n      <td>2020-03-04</td>\n      <td>합계</td>\n      <td>32</td>\n      <td>5328</td>\n      <td>516</td>\n      <td>0</td>\n      <td>0</td>\n      <td>0</td>\n      <td>0</td>\n      <td>10.3</td>\n    </tr>\n  </tbody>\n</table>\n</div>"
     },
     "metadata": {},
     "execution_count": 214
    }
   ],
   "source": [
    "df = pd.DataFrame({\n",
    "    '일자':date_list,\n",
    "    '지역':city_list, '사망자':death_toll_list,\n",
    "    '확진자':case_list, '전일대비':increase_list, '격리해제':release_list, \n",
    "    '격리중':isolation_list, '지역발생':local_list,'해외유입':inflow_list,\n",
    "    '10만명당':per100k_list\n",
    "})\n",
    "df"
   ]
  },
  {
   "cell_type": "code",
   "execution_count": null,
   "metadata": {},
   "outputs": [],
   "source": []
  },
  {
   "cell_type": "code",
   "execution_count": null,
   "metadata": {},
   "outputs": [],
   "source": []
  },
  {
   "cell_type": "code",
   "execution_count": null,
   "metadata": {},
   "outputs": [],
   "source": []
  },
  {
   "cell_type": "code",
   "execution_count": null,
   "metadata": {},
   "outputs": [],
   "source": []
  },
  {
   "cell_type": "code",
   "execution_count": null,
   "metadata": {},
   "outputs": [],
   "source": []
  },
  {
   "cell_type": "code",
   "execution_count": null,
   "metadata": {},
   "outputs": [],
   "source": [
    "ㄱ"
   ]
  }
 ]
}