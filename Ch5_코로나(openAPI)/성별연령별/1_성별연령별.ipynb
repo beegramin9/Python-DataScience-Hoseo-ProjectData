{
 "metadata": {
  "language_info": {
   "codemirror_mode": {
    "name": "ipython",
    "version": 3
   },
   "file_extension": ".py",
   "mimetype": "text/x-python",
   "name": "python",
   "nbconvert_exporter": "python",
   "pygments_lexer": "ipython3",
   "version": "3.8.5-final"
  },
  "orig_nbformat": 2,
  "kernelspec": {
   "name": "python3",
   "display_name": "Python 3",
   "language": "python"
  }
 },
 "nbformat": 4,
 "nbformat_minor": 2,
 "cells": [
  {
   "cell_type": "code",
   "execution_count": 81,
   "metadata": {},
   "outputs": [],
   "source": [
    "import requests\n",
    "import pandas as pd\n",
    "import numpy as np\n",
    "from bs4 import BeautifulSoup\n",
    "from datetime import datetime, timedelta\n",
    "from dateutil.parser import parse\n",
    "from tqdm import tqdm"
   ]
  },
  {
   "cell_type": "code",
   "execution_count": 2,
   "metadata": {},
   "outputs": [],
   "source": [
    "key_fd = open('../keys/gov_data_api_key.txt', mode='r')\n",
    "govapi_key = key_fd.read(100)\n",
    "key_fd.close()"
   ]
  },
  {
   "cell_type": "code",
   "execution_count": 37,
   "metadata": {},
   "outputs": [],
   "source": [
    "# datetime객체에서 문자열로 전처리해줘야 받아옴\n",
    "start_date = '20201121'\n",
    "end_date = '20201121'"
   ]
  },
  {
   "cell_type": "code",
   "execution_count": 38,
   "metadata": {},
   "outputs": [],
   "source": [
    "corona_url = \"http://openapi.data.go.kr/openapi/service/rest/Covid19/getCovid19GenAgeCaseInfJson\"\n",
    "url = f\"{corona_url}?serviceKey={govapi_key}&pageNo=1&numOfRows=1&startCreateDt={start_date}&endCreateDt={end_date}\""
   ]
  },
  {
   "cell_type": "code",
   "execution_count": 39,
   "metadata": {},
   "outputs": [],
   "source": [
    "result = requests.get(url)\n",
    "soup = BeautifulSoup(result.text, 'xml')"
   ]
  },
  {
   "cell_type": "code",
   "execution_count": 40,
   "metadata": {},
   "outputs": [
    {
     "output_type": "execute_result",
     "data": {
      "text/plain": [
       "<?xml version=\"1.0\" encoding=\"utf-8\"?>\n",
       "<response><header><resultCode>00</resultCode><resultMsg>NORMAL SERVICE.</resultMsg></header><body><items><item><confCase>837</confCase><confCaseRate>2.75</confCaseRate><createDt>2020-11-21 14:27:19.271</createDt><criticalRate>0</criticalRate><death>0</death><deathRate>0.00</deathRate><gubun>0-9</gubun><seq>4875</seq><updateDt>null</updateDt></item><item><confCase>1735</confCase><confCaseRate>5.71</confCaseRate><createDt>2020-11-21 14:27:19.271</createDt><criticalRate>0</criticalRate><death>0</death><deathRate>0.00</deathRate><gubun>10-19</gubun><seq>4874</seq><updateDt>null</updateDt></item><item><confCase>5815</confCase><confCaseRate>19.13</confCaseRate><createDt>2020-11-21 14:27:19.271</createDt><criticalRate>0</criticalRate><death>0</death><deathRate>0.00</deathRate><gubun>20-29</gubun><seq>4873</seq><updateDt>null</updateDt></item><item><confCase>3842</confCase><confCaseRate>12.64</confCaseRate><createDt>2020-11-21 14:27:19.271</createDt><criticalRate>0.05</criticalRate><death>2</death><deathRate>0.40</deathRate><gubun>30-39</gubun><seq>4872</seq><updateDt>null</updateDt></item><item><confCase>4158</confCase><confCaseRate>13.68</confCaseRate><createDt>2020-11-21 14:27:19.271</createDt><criticalRate>0.1</criticalRate><death>4</death><deathRate>0.80</deathRate><gubun>40-49</gubun><seq>4871</seq><updateDt>null</updateDt></item><item><confCase>5532</confCase><confCaseRate>18.2</confCaseRate><createDt>2020-11-21 14:27:19.271</createDt><criticalRate>0.42</criticalRate><death>23</death><deathRate>4.57</deathRate><gubun>50-59</gubun><seq>4870</seq><updateDt>null</updateDt></item><item><confCase>4774</confCase><confCaseRate>15.7</confCaseRate><createDt>2020-11-21 14:27:19.27</createDt><criticalRate>1.28</criticalRate><death>61</death><deathRate>12.13</deathRate><gubun>60-69</gubun><seq>4869</seq><updateDt>null</updateDt></item><item><confCase>2403</confCase><confCaseRate>7.9</confCaseRate><createDt>2020-11-21 14:27:19.27</createDt><criticalRate>6.66</criticalRate><death>160</death><deathRate>31.81</deathRate><gubun>70-79</gubun><seq>4868</seq><updateDt>null</updateDt></item><item><confCase>1307</confCase><confCaseRate>4.3</confCaseRate><createDt>2020-11-21 14:27:19.27</createDt><criticalRate>19.36</criticalRate><death>253</death><deathRate>50.30</deathRate><gubun>80 이상</gubun><seq>4867</seq><updateDt>null</updateDt></item><item><confCase>16021</confCase><confCaseRate>52.7</confCaseRate><createDt>2020-11-21 14:27:19.27</createDt><criticalRate>1.49</criticalRate><death>239</death><deathRate>47.51</deathRate><gubun>여성</gubun><seq>4866</seq><updateDt>null</updateDt></item><item><confCase>14382</confCase><confCaseRate>47.3</confCaseRate><createDt>2020-11-21 14:27:19.27</createDt><criticalRate>1.84</criticalRate><death>264</death><deathRate>52.49</deathRate><gubun>남성</gubun><seq>4865</seq><updateDt>null</updateDt></item></items><numOfRows>1</numOfRows><pageNo>1</pageNo><totalCount>11</totalCount></body></response>"
      ]
     },
     "metadata": {},
     "execution_count": 40
    }
   ],
   "source": [
    "soup"
   ]
  },
  {
   "cell_type": "code",
   "execution_count": 6,
   "metadata": {},
   "outputs": [
    {
     "output_type": "execute_result",
     "data": {
      "text/plain": [
       "'11'"
      ]
     },
     "metadata": {},
     "execution_count": 6
    }
   ],
   "source": [
    "# 한 번 요청할 때 들어오는 결과 수\n",
    "totalCount = soup.select_one('totalCount').text\n",
    "totalCount"
   ]
  },
  {
   "cell_type": "code",
   "execution_count": 9,
   "metadata": {},
   "outputs": [],
   "source": [
    "# 일자\n",
    "date = soup.select('createDt')\n",
    "# 구분(성별, 연령별)\n",
    "gubun = soup.select('gubun')\n",
    "# 확진자 수\n",
    "case = soup.select('confCase')\n",
    "# 확진률\n",
    "case_rate = soup.select('confCaseRate')\n",
    "# 사망자 수\n",
    "death = soup.select('death')\n",
    "# 사망률\n",
    "death_rate = soup.select('deathRate')"
   ]
  },
  {
   "cell_type": "code",
   "execution_count": 10,
   "metadata": {},
   "outputs": [],
   "source": [
    "date_list = [] ; gubun_list = [] ; death_list = [] ; death_rate_list = [] ; case_list = [] ; case_rate_list = []\n",
    "\n",
    "for i in date:\n",
    "    date_list.append(parse(i.text).date())\n",
    "for i in gubun:\n",
    "    gubun_list.append(i.text)\n",
    "for i in case:\n",
    "    case_list.append(int(i.text))\n",
    "for i in case_rate:\n",
    "    case_rate_list.append(float(i.text))\n",
    "for i in death:\n",
    "    death_list.append(int(i.text))\n",
    "for i in death_rate:\n",
    "    death_rate_list.append(float(i.text))"
   ]
  },
  {
   "cell_type": "code",
   "execution_count": 11,
   "metadata": {},
   "outputs": [
    {
     "output_type": "execute_result",
     "data": {
      "text/plain": [
       "            일자     구분    확진자    확진률  사망자    사망률\n",
       "0   2020-11-21    0-9    837   2.75    0   0.00\n",
       "1   2020-11-21  10-19   1735   5.71    0   0.00\n",
       "2   2020-11-21  20-29   5815  19.13    0   0.00\n",
       "3   2020-11-21  30-39   3842  12.64    2   0.40\n",
       "4   2020-11-21  40-49   4158  13.68    4   0.80\n",
       "5   2020-11-21  50-59   5532  18.20   23   4.57\n",
       "6   2020-11-21  60-69   4774  15.70   61  12.13\n",
       "7   2020-11-21  70-79   2403   7.90  160  31.81\n",
       "8   2020-11-21  80 이상   1307   4.30  253  50.30\n",
       "9   2020-11-21     여성  16021  52.70  239  47.51\n",
       "10  2020-11-21     남성  14382  47.30  264  52.49"
      ],
      "text/html": "<div>\n<style scoped>\n    .dataframe tbody tr th:only-of-type {\n        vertical-align: middle;\n    }\n\n    .dataframe tbody tr th {\n        vertical-align: top;\n    }\n\n    .dataframe thead th {\n        text-align: right;\n    }\n</style>\n<table border=\"1\" class=\"dataframe\">\n  <thead>\n    <tr style=\"text-align: right;\">\n      <th></th>\n      <th>일자</th>\n      <th>구분</th>\n      <th>확진자</th>\n      <th>확진률</th>\n      <th>사망자</th>\n      <th>사망률</th>\n    </tr>\n  </thead>\n  <tbody>\n    <tr>\n      <th>0</th>\n      <td>2020-11-21</td>\n      <td>0-9</td>\n      <td>837</td>\n      <td>2.75</td>\n      <td>0</td>\n      <td>0.00</td>\n    </tr>\n    <tr>\n      <th>1</th>\n      <td>2020-11-21</td>\n      <td>10-19</td>\n      <td>1735</td>\n      <td>5.71</td>\n      <td>0</td>\n      <td>0.00</td>\n    </tr>\n    <tr>\n      <th>2</th>\n      <td>2020-11-21</td>\n      <td>20-29</td>\n      <td>5815</td>\n      <td>19.13</td>\n      <td>0</td>\n      <td>0.00</td>\n    </tr>\n    <tr>\n      <th>3</th>\n      <td>2020-11-21</td>\n      <td>30-39</td>\n      <td>3842</td>\n      <td>12.64</td>\n      <td>2</td>\n      <td>0.40</td>\n    </tr>\n    <tr>\n      <th>4</th>\n      <td>2020-11-21</td>\n      <td>40-49</td>\n      <td>4158</td>\n      <td>13.68</td>\n      <td>4</td>\n      <td>0.80</td>\n    </tr>\n    <tr>\n      <th>5</th>\n      <td>2020-11-21</td>\n      <td>50-59</td>\n      <td>5532</td>\n      <td>18.20</td>\n      <td>23</td>\n      <td>4.57</td>\n    </tr>\n    <tr>\n      <th>6</th>\n      <td>2020-11-21</td>\n      <td>60-69</td>\n      <td>4774</td>\n      <td>15.70</td>\n      <td>61</td>\n      <td>12.13</td>\n    </tr>\n    <tr>\n      <th>7</th>\n      <td>2020-11-21</td>\n      <td>70-79</td>\n      <td>2403</td>\n      <td>7.90</td>\n      <td>160</td>\n      <td>31.81</td>\n    </tr>\n    <tr>\n      <th>8</th>\n      <td>2020-11-21</td>\n      <td>80 이상</td>\n      <td>1307</td>\n      <td>4.30</td>\n      <td>253</td>\n      <td>50.30</td>\n    </tr>\n    <tr>\n      <th>9</th>\n      <td>2020-11-21</td>\n      <td>여성</td>\n      <td>16021</td>\n      <td>52.70</td>\n      <td>239</td>\n      <td>47.51</td>\n    </tr>\n    <tr>\n      <th>10</th>\n      <td>2020-11-21</td>\n      <td>남성</td>\n      <td>14382</td>\n      <td>47.30</td>\n      <td>264</td>\n      <td>52.49</td>\n    </tr>\n  </tbody>\n</table>\n</div>"
     },
     "metadata": {},
     "execution_count": 11
    }
   ],
   "source": [
    "df = pd.DataFrame({\n",
    "    '일자':date_list,\n",
    "    '구분':gubun_list, '확진자':case_list,\n",
    "    '확진률':case_rate_list, '사망자':death_list, '사망률':death_rate_list\n",
    "})\n",
    "df"
   ]
  },
  {
   "source": [
    "## 시작일 3월 2일"
   ],
   "cell_type": "markdown",
   "metadata": {}
  },
  {
   "cell_type": "code",
   "execution_count": 78,
   "metadata": {},
   "outputs": [
    {
     "output_type": "execute_result",
     "data": {
      "text/plain": [
       "294"
      ]
     },
     "metadata": {},
     "execution_count": 78
    }
   ],
   "source": [
    "# 오늘 날짜\n",
    "today = datetime.today()\n",
    "march_2nd = datetime(2020,3,2)\n",
    "\n",
    "# 날짜끼리의 사칙연산은 timedelta 클래스로 return됨, where properties such as days, seconds are available.\n",
    "elapsed_count = (today - march_2nd).days\n",
    "elapsed_count"
   ]
  },
  {
   "cell_type": "code",
   "execution_count": 79,
   "metadata": {},
   "outputs": [],
   "source": [
    "elapsed_series\n",
    "elapsed_series = pd.date_range(march_2nd, periods= elapsed_count)"
   ]
  },
  {
   "source": [
    "# 원래는 반복문으로 안해도 되는데 정부가 제대로 하는게 없어서"
   ],
   "cell_type": "markdown",
   "metadata": {}
  },
  {
   "cell_type": "code",
   "execution_count": 80,
   "metadata": {},
   "outputs": [],
   "source": [
    "date_list = [] ; gubun_list = [] ; death_list = [] ; death_rate_list = [] ; case_list = [] ; case_rate_list = []\n",
    "\n",
    "corona_url = \"http://openapi.data.go.kr/openapi/service/rest/Covid19/getCovid19GenAgeCaseInfJson\"\n",
    "for date in elapsed_series:\n",
    "    date =  date.strftime('%Y%m%d')\n",
    "\n",
    "    url = f\"{corona_url}?serviceKey={govapi_key}&pageNo=1&numOfRows=1&startCreateDt={date}&endCreateDt={date}\"\n",
    "\n",
    "    result = requests.get(url)\n",
    "    soup = BeautifulSoup(result.text, 'xml')\n",
    "\n",
    "    # 일자\n",
    "    date = soup.select('createDt')\n",
    "    # 구분(성별, 연령별)\n",
    "    gubun = soup.select('gubun')\n",
    "    # 확진자 수\n",
    "    case = soup.select('confCase')\n",
    "    # 확진률\n",
    "    case_rate = soup.select('confCaseRate')\n",
    "    # 사망자 수\n",
    "    death = soup.select('death')\n",
    "    # 사망률\n",
    "    death_rate = soup.select('deathRate')\n",
    "\n",
    "    for i in date:\n",
    "        date_list.append(parse(i.text).date())\n",
    "    for i in gubun:\n",
    "        gubun_list.append(i.text)\n",
    "    for i in case:\n",
    "        case_list.append(int(i.text))\n",
    "    for i in case_rate:\n",
    "        case_rate_list.append(float(i.text))\n",
    "    for i in death:\n",
    "        death_list.append(int(i.text))\n",
    "    for i in death_rate:\n",
    "        death_rate_list.append(float(i.text))\n"
   ]
  },
  {
   "cell_type": "code",
   "execution_count": 82,
   "metadata": {},
   "outputs": [
    {
     "output_type": "execute_result",
     "data": {
      "text/plain": [
       "              일자     구분    확진자    확진률  사망자    사망률\n",
       "0     2020-04-02    0-9    112   1.14    0   0.00\n",
       "1     2020-04-02  10-19    515   5.26    0   0.00\n",
       "2     2020-04-02  20-29   2656  27.14    0   0.00\n",
       "3     2020-04-02  30-39   1012  10.34    1   0.62\n",
       "4     2020-04-02  40-49   1312  13.41    1   0.62\n",
       "...          ...    ...    ...    ...  ...    ...\n",
       "2812  2020-12-20  60-69   7722  15.55   81  12.02\n",
       "2813  2020-12-20  70-79   3892   7.84  200  29.67\n",
       "2814  2020-12-20  80 이상   2374   4.78  357  52.97\n",
       "2815  2020-12-20     여성  25797  51.94  329  48.81\n",
       "2816  2020-12-20     남성  23868  48.06  345  51.19\n",
       "\n",
       "[2817 rows x 6 columns]"
      ],
      "text/html": "<div>\n<style scoped>\n    .dataframe tbody tr th:only-of-type {\n        vertical-align: middle;\n    }\n\n    .dataframe tbody tr th {\n        vertical-align: top;\n    }\n\n    .dataframe thead th {\n        text-align: right;\n    }\n</style>\n<table border=\"1\" class=\"dataframe\">\n  <thead>\n    <tr style=\"text-align: right;\">\n      <th></th>\n      <th>일자</th>\n      <th>구분</th>\n      <th>확진자</th>\n      <th>확진률</th>\n      <th>사망자</th>\n      <th>사망률</th>\n    </tr>\n  </thead>\n  <tbody>\n    <tr>\n      <th>0</th>\n      <td>2020-04-02</td>\n      <td>0-9</td>\n      <td>112</td>\n      <td>1.14</td>\n      <td>0</td>\n      <td>0.00</td>\n    </tr>\n    <tr>\n      <th>1</th>\n      <td>2020-04-02</td>\n      <td>10-19</td>\n      <td>515</td>\n      <td>5.26</td>\n      <td>0</td>\n      <td>0.00</td>\n    </tr>\n    <tr>\n      <th>2</th>\n      <td>2020-04-02</td>\n      <td>20-29</td>\n      <td>2656</td>\n      <td>27.14</td>\n      <td>0</td>\n      <td>0.00</td>\n    </tr>\n    <tr>\n      <th>3</th>\n      <td>2020-04-02</td>\n      <td>30-39</td>\n      <td>1012</td>\n      <td>10.34</td>\n      <td>1</td>\n      <td>0.62</td>\n    </tr>\n    <tr>\n      <th>4</th>\n      <td>2020-04-02</td>\n      <td>40-49</td>\n      <td>1312</td>\n      <td>13.41</td>\n      <td>1</td>\n      <td>0.62</td>\n    </tr>\n    <tr>\n      <th>...</th>\n      <td>...</td>\n      <td>...</td>\n      <td>...</td>\n      <td>...</td>\n      <td>...</td>\n      <td>...</td>\n    </tr>\n    <tr>\n      <th>2812</th>\n      <td>2020-12-20</td>\n      <td>60-69</td>\n      <td>7722</td>\n      <td>15.55</td>\n      <td>81</td>\n      <td>12.02</td>\n    </tr>\n    <tr>\n      <th>2813</th>\n      <td>2020-12-20</td>\n      <td>70-79</td>\n      <td>3892</td>\n      <td>7.84</td>\n      <td>200</td>\n      <td>29.67</td>\n    </tr>\n    <tr>\n      <th>2814</th>\n      <td>2020-12-20</td>\n      <td>80 이상</td>\n      <td>2374</td>\n      <td>4.78</td>\n      <td>357</td>\n      <td>52.97</td>\n    </tr>\n    <tr>\n      <th>2815</th>\n      <td>2020-12-20</td>\n      <td>여성</td>\n      <td>25797</td>\n      <td>51.94</td>\n      <td>329</td>\n      <td>48.81</td>\n    </tr>\n    <tr>\n      <th>2816</th>\n      <td>2020-12-20</td>\n      <td>남성</td>\n      <td>23868</td>\n      <td>48.06</td>\n      <td>345</td>\n      <td>51.19</td>\n    </tr>\n  </tbody>\n</table>\n<p>2817 rows × 6 columns</p>\n</div>"
     },
     "metadata": {},
     "execution_count": 82
    }
   ],
   "source": [
    "df = pd.DataFrame({\n",
    "    '일자':date_list,\n",
    "    '구분':gubun_list, '확진자':case_list,\n",
    "    '확진률':case_rate_list, '사망자':death_list, '사망률':death_rate_list\n",
    "})\n",
    "df"
   ]
  },
  {
   "cell_type": "code",
   "execution_count": 84,
   "metadata": {},
   "outputs": [],
   "source": [
    "df.to_csv('./result/성별연령별.csv',sep=',',encoding='utf8')"
   ]
  },
  {
   "cell_type": "code",
   "execution_count": 85,
   "metadata": {},
   "outputs": [
    {
     "output_type": "execute_result",
     "data": {
      "text/plain": [
       "              일자     구분    확진자    확진률  사망자    사망률\n",
       "0     2020-04-02    0-9    112   1.14    0   0.00\n",
       "1     2020-04-02  10-19    515   5.26    0   0.00\n",
       "2     2020-04-02  20-29   2656  27.14    0   0.00\n",
       "3     2020-04-02  30-39   1012  10.34    1   0.62\n",
       "4     2020-04-02  40-49   1312  13.41    1   0.62\n",
       "...          ...    ...    ...    ...  ...    ...\n",
       "2812  2020-12-20  60-69   7722  15.55   81  12.02\n",
       "2813  2020-12-20  70-79   3892   7.84  200  29.67\n",
       "2814  2020-12-20  80 이상   2374   4.78  357  52.97\n",
       "2815  2020-12-20     여성  25797  51.94  329  48.81\n",
       "2816  2020-12-20     남성  23868  48.06  345  51.19\n",
       "\n",
       "[2817 rows x 6 columns]"
      ],
      "text/html": "<div>\n<style scoped>\n    .dataframe tbody tr th:only-of-type {\n        vertical-align: middle;\n    }\n\n    .dataframe tbody tr th {\n        vertical-align: top;\n    }\n\n    .dataframe thead th {\n        text-align: right;\n    }\n</style>\n<table border=\"1\" class=\"dataframe\">\n  <thead>\n    <tr style=\"text-align: right;\">\n      <th></th>\n      <th>일자</th>\n      <th>구분</th>\n      <th>확진자</th>\n      <th>확진률</th>\n      <th>사망자</th>\n      <th>사망률</th>\n    </tr>\n  </thead>\n  <tbody>\n    <tr>\n      <th>0</th>\n      <td>2020-04-02</td>\n      <td>0-9</td>\n      <td>112</td>\n      <td>1.14</td>\n      <td>0</td>\n      <td>0.00</td>\n    </tr>\n    <tr>\n      <th>1</th>\n      <td>2020-04-02</td>\n      <td>10-19</td>\n      <td>515</td>\n      <td>5.26</td>\n      <td>0</td>\n      <td>0.00</td>\n    </tr>\n    <tr>\n      <th>2</th>\n      <td>2020-04-02</td>\n      <td>20-29</td>\n      <td>2656</td>\n      <td>27.14</td>\n      <td>0</td>\n      <td>0.00</td>\n    </tr>\n    <tr>\n      <th>3</th>\n      <td>2020-04-02</td>\n      <td>30-39</td>\n      <td>1012</td>\n      <td>10.34</td>\n      <td>1</td>\n      <td>0.62</td>\n    </tr>\n    <tr>\n      <th>4</th>\n      <td>2020-04-02</td>\n      <td>40-49</td>\n      <td>1312</td>\n      <td>13.41</td>\n      <td>1</td>\n      <td>0.62</td>\n    </tr>\n    <tr>\n      <th>...</th>\n      <td>...</td>\n      <td>...</td>\n      <td>...</td>\n      <td>...</td>\n      <td>...</td>\n      <td>...</td>\n    </tr>\n    <tr>\n      <th>2812</th>\n      <td>2020-12-20</td>\n      <td>60-69</td>\n      <td>7722</td>\n      <td>15.55</td>\n      <td>81</td>\n      <td>12.02</td>\n    </tr>\n    <tr>\n      <th>2813</th>\n      <td>2020-12-20</td>\n      <td>70-79</td>\n      <td>3892</td>\n      <td>7.84</td>\n      <td>200</td>\n      <td>29.67</td>\n    </tr>\n    <tr>\n      <th>2814</th>\n      <td>2020-12-20</td>\n      <td>80 이상</td>\n      <td>2374</td>\n      <td>4.78</td>\n      <td>357</td>\n      <td>52.97</td>\n    </tr>\n    <tr>\n      <th>2815</th>\n      <td>2020-12-20</td>\n      <td>여성</td>\n      <td>25797</td>\n      <td>51.94</td>\n      <td>329</td>\n      <td>48.81</td>\n    </tr>\n    <tr>\n      <th>2816</th>\n      <td>2020-12-20</td>\n      <td>남성</td>\n      <td>23868</td>\n      <td>48.06</td>\n      <td>345</td>\n      <td>51.19</td>\n    </tr>\n  </tbody>\n</table>\n<p>2817 rows × 6 columns</p>\n</div>"
     },
     "metadata": {},
     "execution_count": 85
    }
   ],
   "source": [
    "df = pd.read_csv('./result/성별연령별.csv',sep=',',encoding='utf8')\n",
    "del df['Unnamed: 0']\n",
    "df"
   ]
  },
  {
   "cell_type": "code",
   "execution_count": null,
   "metadata": {},
   "outputs": [],
   "source": []
  },
  {
   "cell_type": "code",
   "execution_count": null,
   "metadata": {},
   "outputs": [],
   "source": []
  },
  {
   "cell_type": "code",
   "execution_count": null,
   "metadata": {},
   "outputs": [],
   "source": []
  }
 ]
}