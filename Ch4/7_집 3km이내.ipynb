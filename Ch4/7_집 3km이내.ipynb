{
 "metadata": {
  "language_info": {
   "codemirror_mode": {
    "name": "ipython",
    "version": 3
   },
   "file_extension": ".py",
   "mimetype": "text/x-python",
   "name": "python",
   "nbconvert_exporter": "python",
   "pygments_lexer": "ipython3",
   "version": "3.7.4-final"
  },
  "orig_nbformat": 2,
  "kernelspec": {
   "name": "python3",
   "display_name": "Python 3"
  }
 },
 "nbformat": 4,
 "nbformat_minor": 2,
 "cells": [
  {
   "source": [
    "# 집 근처 주유소 가격 확인\n",
    "### 하는데 위도, 경도를 Googlemap이 아니라 Kakao에서 가져오기"
   ],
   "cell_type": "markdown",
   "metadata": {}
  },
  {
   "cell_type": "code",
   "execution_count": 2,
   "metadata": {},
   "outputs": [],
   "source": [
    "import requests\n",
    "from urllib.parse import quote\n",
    "import numpy as np\n",
    "import pandas as pd\n",
    "import warnings\n",
    "from tqdm import tqdm\n",
    "warnings.simplefilter(action = 'ignore', category = FutureWarning)"
   ]
  },
  {
   "cell_type": "code",
   "execution_count": 3,
   "metadata": {},
   "outputs": [],
   "source": [
    "key_fd = open(\"./keys/kakaomapkey.txt\", mode = \"r\", encoding = \"utf8\")\n",
    "kmap_key = key_fd.read(100)\n",
    "key_fd.close()"
   ]
  },
  {
   "cell_type": "code",
   "execution_count": 4,
   "metadata": {},
   "outputs": [],
   "source": [
    "stations = pd.read_csv('04. stations.csv' , sep=\",\" , encoding='utf8')\n",
    "del stations['Unnamed: 0']"
   ]
  },
  {
   "cell_type": "code",
   "execution_count": 5,
   "metadata": {},
   "outputs": [
    {
     "output_type": "execute_result",
     "data": {
      "text/plain": [
       "                        이름                         주소      가격 셀프      상표    구\n",
       "0            지에스칼텍스㈜ 신월주유소     서울 강동구 양재대로 1323 (성내동)  1415.0  N   GS칼텍스  강동구\n",
       "1           지에스칼텍스㈜ 동서울주유소     서울 강동구 천호대로 1456 (상일동)  1415.0  Y   GS칼텍스  강동구\n",
       "2                   구천면주유소      서울 강동구 구천면로 357 (암사동)  1424.0  N  현대오일뱅크  강동구\n",
       "3                  방아다리주유소       서울 강동구 동남로 811 (명일동)  1435.0  Y   SK에너지  강동구\n",
       "4          대성석유(주)직영 길동주유소           서울 강동구 천호대로 1168  1448.0  N   GS칼텍스  강동구\n",
       "..                     ...                        ...     ... ..     ...  ...\n",
       "488                갤러리아주유소      서울 강남구 압구정로 426 (청담동)  1848.0  N   SK에너지  강남구\n",
       "489                 학여울주유소  서울 강남구  남부순환로 3170 (일원2동)  1868.0  N   GS칼텍스  강남구\n",
       "490               (주)만정에너지      서울 강남구 봉은사로 433 (삼성동)  1869.0  N   GS칼텍스  강남구\n",
       "491  (주)소모에너지엔테크놀러지 쎈트럴주유소       서울 강남구 삼성로 335 (대치동)  1883.0  N   GS칼텍스  강남구\n",
       "492                뉴서울(강남)       서울 강남구 언주로 716 (논현동)  2025.0  N   SK에너지  강남구\n",
       "\n",
       "[493 rows x 6 columns]"
      ],
      "text/html": "<div>\n<style scoped>\n    .dataframe tbody tr th:only-of-type {\n        vertical-align: middle;\n    }\n\n    .dataframe tbody tr th {\n        vertical-align: top;\n    }\n\n    .dataframe thead th {\n        text-align: right;\n    }\n</style>\n<table border=\"1\" class=\"dataframe\">\n  <thead>\n    <tr style=\"text-align: right;\">\n      <th></th>\n      <th>이름</th>\n      <th>주소</th>\n      <th>가격</th>\n      <th>셀프</th>\n      <th>상표</th>\n      <th>구</th>\n    </tr>\n  </thead>\n  <tbody>\n    <tr>\n      <th>0</th>\n      <td>지에스칼텍스㈜ 신월주유소</td>\n      <td>서울 강동구 양재대로 1323 (성내동)</td>\n      <td>1415.0</td>\n      <td>N</td>\n      <td>GS칼텍스</td>\n      <td>강동구</td>\n    </tr>\n    <tr>\n      <th>1</th>\n      <td>지에스칼텍스㈜ 동서울주유소</td>\n      <td>서울 강동구 천호대로 1456 (상일동)</td>\n      <td>1415.0</td>\n      <td>Y</td>\n      <td>GS칼텍스</td>\n      <td>강동구</td>\n    </tr>\n    <tr>\n      <th>2</th>\n      <td>구천면주유소</td>\n      <td>서울 강동구 구천면로 357 (암사동)</td>\n      <td>1424.0</td>\n      <td>N</td>\n      <td>현대오일뱅크</td>\n      <td>강동구</td>\n    </tr>\n    <tr>\n      <th>3</th>\n      <td>방아다리주유소</td>\n      <td>서울 강동구 동남로 811 (명일동)</td>\n      <td>1435.0</td>\n      <td>Y</td>\n      <td>SK에너지</td>\n      <td>강동구</td>\n    </tr>\n    <tr>\n      <th>4</th>\n      <td>대성석유(주)직영 길동주유소</td>\n      <td>서울 강동구 천호대로 1168</td>\n      <td>1448.0</td>\n      <td>N</td>\n      <td>GS칼텍스</td>\n      <td>강동구</td>\n    </tr>\n    <tr>\n      <th>...</th>\n      <td>...</td>\n      <td>...</td>\n      <td>...</td>\n      <td>...</td>\n      <td>...</td>\n      <td>...</td>\n    </tr>\n    <tr>\n      <th>488</th>\n      <td>갤러리아주유소</td>\n      <td>서울 강남구 압구정로 426 (청담동)</td>\n      <td>1848.0</td>\n      <td>N</td>\n      <td>SK에너지</td>\n      <td>강남구</td>\n    </tr>\n    <tr>\n      <th>489</th>\n      <td>학여울주유소</td>\n      <td>서울 강남구  남부순환로 3170 (일원2동)</td>\n      <td>1868.0</td>\n      <td>N</td>\n      <td>GS칼텍스</td>\n      <td>강남구</td>\n    </tr>\n    <tr>\n      <th>490</th>\n      <td>(주)만정에너지</td>\n      <td>서울 강남구 봉은사로 433 (삼성동)</td>\n      <td>1869.0</td>\n      <td>N</td>\n      <td>GS칼텍스</td>\n      <td>강남구</td>\n    </tr>\n    <tr>\n      <th>491</th>\n      <td>(주)소모에너지엔테크놀러지 쎈트럴주유소</td>\n      <td>서울 강남구 삼성로 335 (대치동)</td>\n      <td>1883.0</td>\n      <td>N</td>\n      <td>GS칼텍스</td>\n      <td>강남구</td>\n    </tr>\n    <tr>\n      <th>492</th>\n      <td>뉴서울(강남)</td>\n      <td>서울 강남구 언주로 716 (논현동)</td>\n      <td>2025.0</td>\n      <td>N</td>\n      <td>SK에너지</td>\n      <td>강남구</td>\n    </tr>\n  </tbody>\n</table>\n<p>493 rows × 6 columns</p>\n</div>"
     },
     "metadata": {},
     "execution_count": 5
    }
   ],
   "source": [
    "stations"
   ]
  },
  {
   "source": [
    "카카오에서 집 주소 가져오기"
   ],
   "cell_type": "markdown",
   "metadata": {}
  },
  {
   "cell_type": "code",
   "execution_count": 40,
   "metadata": {},
   "outputs": [],
   "source": [
    "home_addr = '서울특별시 영등포구 당산로 214'\n",
    "url = 'https://dapi.kakao.com/v2/local/search/address.json?query='+quote(addr)"
   ]
  },
  {
   "cell_type": "code",
   "execution_count": 7,
   "metadata": {},
   "outputs": [
    {
     "output_type": "execute_result",
     "data": {
      "text/plain": [
       "{'documents': [{'address': {'address_name': '서울 영등포구 당산동5가 42',\n",
       "    'b_code': '1156011500',\n",
       "    'h_code': '1156056000',\n",
       "    'main_address_no': '42',\n",
       "    'mountain_yn': 'N',\n",
       "    'region_1depth_name': '서울',\n",
       "    'region_2depth_name': '영등포구',\n",
       "    'region_3depth_h_name': '당산2동',\n",
       "    'region_3depth_name': '당산동5가',\n",
       "    'sub_address_no': '',\n",
       "    'x': '126.902834034778',\n",
       "    'y': '37.5329312320335'},\n",
       "   'address_name': '서울 영등포구 당산로 214',\n",
       "   'address_type': 'ROAD_ADDR',\n",
       "   'road_address': {'address_name': '서울 영등포구 당산로 214',\n",
       "    'building_name': '당산 삼성 래미안',\n",
       "    'main_building_no': '214',\n",
       "    'region_1depth_name': '서울',\n",
       "    'region_2depth_name': '영등포구',\n",
       "    'region_3depth_name': '당산동5가',\n",
       "    'road_name': '당산로',\n",
       "    'sub_building_no': '',\n",
       "    'underground_yn': 'N',\n",
       "    'x': '126.902834034778',\n",
       "    'y': '37.5329312320335',\n",
       "    'zone_no': '07214'},\n",
       "   'x': '126.902834034778',\n",
       "   'y': '37.5329312320335'}],\n",
       " 'meta': {'is_end': True, 'pageable_count': 1, 'total_count': 1}}"
      ]
     },
     "metadata": {},
     "execution_count": 7
    }
   ],
   "source": [
    "result = requests.get(url, headers={'Authorization':'KakaoAK '+kmap_key}).json()\n",
    "result"
   ]
  },
  {
   "cell_type": "code",
   "execution_count": 8,
   "metadata": {},
   "outputs": [
    {
     "output_type": "execute_result",
     "data": {
      "text/plain": [
       "{'address_name': '서울 영등포구 당산동5가 42',\n",
       " 'b_code': '1156011500',\n",
       " 'h_code': '1156056000',\n",
       " 'main_address_no': '42',\n",
       " 'mountain_yn': 'N',\n",
       " 'region_1depth_name': '서울',\n",
       " 'region_2depth_name': '영등포구',\n",
       " 'region_3depth_h_name': '당산2동',\n",
       " 'region_3depth_name': '당산동5가',\n",
       " 'sub_address_no': '',\n",
       " 'x': '126.902834034778',\n",
       " 'y': '37.5329312320335'}"
      ]
     },
     "metadata": {},
     "execution_count": 8
    }
   ],
   "source": [
    "result['documents'][0]['address']"
   ]
  },
  {
   "cell_type": "code",
   "execution_count": 9,
   "metadata": {},
   "outputs": [],
   "source": [
    "home_lat = float(result['documents'][0]['address']['y'])\n",
    "home_lng = float(result['documents'][0]['address']['x'])"
   ]
  },
  {
   "cell_type": "code",
   "execution_count": 10,
   "metadata": {},
   "outputs": [
    {
     "output_type": "execute_result",
     "data": {
      "text/plain": [
       "RangeIndex(start=0, stop=493, step=1)"
      ]
     },
     "metadata": {},
     "execution_count": 10
    }
   ],
   "source": [
    "stations.index"
   ]
  },
  {
   "source": [
    "데이터프레임에 위도, 경도 추가하기\n",
    " - 안 나오는 값이 있어서 index에러 발생. nan값으로 바꾸고 처리"
   ],
   "cell_type": "markdown",
   "metadata": {}
  },
  {
   "cell_type": "code",
   "execution_count": 11,
   "metadata": {},
   "outputs": [
    {
     "output_type": "stream",
     "name": "stderr",
     "text": [
      "100%|██████████| 493/493 [00:58<00:00,  8.44it/s]\n"
     ]
    }
   ],
   "source": [
    "lat = [] ; lng = []\n",
    "\n",
    "for i in tqdm(stations.index):\n",
    "    try:\n",
    "        addr = stations['주소'][i]\n",
    "        url = 'https://dapi.kakao.com/v2/local/search/address.json?query='+quote(addr)\n",
    "        result = requests.get(url, headers={'Authorization':'KakaoAK '+kmap_key}).json()\n",
    "\n",
    "        lat.append(float(result['documents'][0]['address']['y']))\n",
    "        lng.append(float(result['documents'][0]['address']['x']))\n",
    "    except:\n",
    "        lat.append(np.nan)\n",
    "        lng.append(np.nan)\n",
    "\n",
    "stations['lat'] = lat\n",
    "stations['lng'] = lng\n"
   ]
  },
  {
   "cell_type": "code",
   "execution_count": 44,
   "metadata": {},
   "outputs": [],
   "source": [
    "stations.to_csv('05_stations.csv',sep=',',encoding='utf8')"
   ]
  },
  {
   "cell_type": "code",
   "execution_count": 59,
   "metadata": {},
   "outputs": [],
   "source": [
    "stations = pd.read_csv('05_stations.csv')\n",
    "del stations['Unnamed: 0']"
   ]
  },
  {
   "source": [
    "- nan값 있는 행 빼고 가져오기"
   ],
   "cell_type": "markdown",
   "metadata": {}
  },
  {
   "cell_type": "code",
   "execution_count": 60,
   "metadata": {},
   "outputs": [
    {
     "output_type": "execute_result",
     "data": {
      "text/plain": [
       "이름     False\n",
       "주소     False\n",
       "가격     False\n",
       "셀프     False\n",
       "상표     False\n",
       "구      False\n",
       "lat    False\n",
       "lng    False\n",
       "거리     False\n",
       "dtype: bool"
      ]
     },
     "metadata": {},
     "execution_count": 60
    }
   ],
   "source": [
    "stations.isnull().any()"
   ]
  },
  {
   "cell_type": "code",
   "execution_count": 61,
   "metadata": {},
   "outputs": [],
   "source": [
    "stations = stations[stations.lat.isnull() == False]\n",
    "stations = stations[stations.lng.isnull() == False]"
   ]
  },
  {
   "cell_type": "code",
   "execution_count": 62,
   "metadata": {},
   "outputs": [
    {
     "output_type": "execute_result",
     "data": {
      "text/plain": [
       "489"
      ]
     },
     "metadata": {},
     "execution_count": 62
    }
   ],
   "source": [
    "len(stations)"
   ]
  },
  {
   "source": [
    "# 위도, 경도 간 거리재기"
   ],
   "cell_type": "markdown",
   "metadata": {}
  },
  {
   "cell_type": "code",
   "execution_count": 63,
   "metadata": {},
   "outputs": [],
   "source": [
    "from haversine import haversine"
   ]
  },
  {
   "cell_type": "code",
   "execution_count": 64,
   "metadata": {},
   "outputs": [],
   "source": [
    "home = (home_lat, home_lng)"
   ]
  },
  {
   "cell_type": "code",
   "execution_count": 65,
   "metadata": {},
   "outputs": [],
   "source": [
    "stations['거리'] = stations.apply(lambda r: haversine(home, (r.lat,r.lng), unit='km'),axis=1)"
   ]
  },
  {
   "cell_type": "code",
   "execution_count": 66,
   "metadata": {},
   "outputs": [
    {
     "output_type": "execute_result",
     "data": {
      "text/plain": [
       "0      20.443404\n",
       "1      23.615182\n",
       "2      20.845347\n",
       "3      22.324986\n",
       "4      21.017290\n",
       "         ...    \n",
       "484    12.425625\n",
       "485    15.881400\n",
       "486    12.944388\n",
       "487    14.218185\n",
       "488    11.850029\n",
       "Name: 거리, Length: 489, dtype: float64"
      ]
     },
     "metadata": {},
     "execution_count": 66
    }
   ],
   "source": [
    "stations['거리']"
   ]
  },
  {
   "cell_type": "code",
   "execution_count": 67,
   "metadata": {},
   "outputs": [
    {
     "output_type": "execute_result",
     "data": {
      "text/plain": [
       "                        이름                         주소      가격 셀프     상표    구  \\\n",
       "484                갤러리아주유소      서울 강남구 압구정로 426 (청담동)  1848.0  N  SK에너지  강남구   \n",
       "485                 학여울주유소  서울 강남구  남부순환로 3170 (일원2동)  1868.0  N  GS칼텍스  강남구   \n",
       "486               (주)만정에너지      서울 강남구 봉은사로 433 (삼성동)  1869.0  N  GS칼텍스  강남구   \n",
       "487  (주)소모에너지엔테크놀러지 쎈트럴주유소       서울 강남구 삼성로 335 (대치동)  1883.0  N  GS칼텍스  강남구   \n",
       "488                뉴서울(강남)       서울 강남구 언주로 716 (논현동)  2025.0  N  SK에너지  강남구   \n",
       "\n",
       "           lat         lng         거리  \n",
       "484  37.526817  127.043532  12.425625  \n",
       "485  37.498448  127.077572  15.881400  \n",
       "486  37.511551  127.047115  12.944388  \n",
       "487  37.501426  127.059074  14.218185  \n",
       "488  37.517669  127.035823  11.850029  "
      ],
      "text/html": "<div>\n<style scoped>\n    .dataframe tbody tr th:only-of-type {\n        vertical-align: middle;\n    }\n\n    .dataframe tbody tr th {\n        vertical-align: top;\n    }\n\n    .dataframe thead th {\n        text-align: right;\n    }\n</style>\n<table border=\"1\" class=\"dataframe\">\n  <thead>\n    <tr style=\"text-align: right;\">\n      <th></th>\n      <th>이름</th>\n      <th>주소</th>\n      <th>가격</th>\n      <th>셀프</th>\n      <th>상표</th>\n      <th>구</th>\n      <th>lat</th>\n      <th>lng</th>\n      <th>거리</th>\n    </tr>\n  </thead>\n  <tbody>\n    <tr>\n      <th>484</th>\n      <td>갤러리아주유소</td>\n      <td>서울 강남구 압구정로 426 (청담동)</td>\n      <td>1848.0</td>\n      <td>N</td>\n      <td>SK에너지</td>\n      <td>강남구</td>\n      <td>37.526817</td>\n      <td>127.043532</td>\n      <td>12.425625</td>\n    </tr>\n    <tr>\n      <th>485</th>\n      <td>학여울주유소</td>\n      <td>서울 강남구  남부순환로 3170 (일원2동)</td>\n      <td>1868.0</td>\n      <td>N</td>\n      <td>GS칼텍스</td>\n      <td>강남구</td>\n      <td>37.498448</td>\n      <td>127.077572</td>\n      <td>15.881400</td>\n    </tr>\n    <tr>\n      <th>486</th>\n      <td>(주)만정에너지</td>\n      <td>서울 강남구 봉은사로 433 (삼성동)</td>\n      <td>1869.0</td>\n      <td>N</td>\n      <td>GS칼텍스</td>\n      <td>강남구</td>\n      <td>37.511551</td>\n      <td>127.047115</td>\n      <td>12.944388</td>\n    </tr>\n    <tr>\n      <th>487</th>\n      <td>(주)소모에너지엔테크놀러지 쎈트럴주유소</td>\n      <td>서울 강남구 삼성로 335 (대치동)</td>\n      <td>1883.0</td>\n      <td>N</td>\n      <td>GS칼텍스</td>\n      <td>강남구</td>\n      <td>37.501426</td>\n      <td>127.059074</td>\n      <td>14.218185</td>\n    </tr>\n    <tr>\n      <th>488</th>\n      <td>뉴서울(강남)</td>\n      <td>서울 강남구 언주로 716 (논현동)</td>\n      <td>2025.0</td>\n      <td>N</td>\n      <td>SK에너지</td>\n      <td>강남구</td>\n      <td>37.517669</td>\n      <td>127.035823</td>\n      <td>11.850029</td>\n    </tr>\n  </tbody>\n</table>\n</div>"
     },
     "metadata": {},
     "execution_count": 67
    }
   ],
   "source": [
    "stations.tail()"
   ]
  },
  {
   "source": [
    "# 3km 이내 비싼 곳 10곳, 싼 곳 10곳 가져오기"
   ],
   "cell_type": "markdown",
   "metadata": {}
  },
  {
   "cell_type": "code",
   "execution_count": 68,
   "metadata": {},
   "outputs": [
    {
     "output_type": "execute_result",
     "data": {
      "text/plain": [
       "                     이름                         주소      가격 셀프      상표     구  \\\n",
       "236      SJ오일(주) 여의도주유소             서울 영등포구 은행로 64  1939.0  N   GS칼텍스  영등포구   \n",
       "235            KH여의도주유소    서울 영등포구 국회대로 794 (여의도동)  1929.0  N   SK에너지  영등포구   \n",
       "234   지에스칼텍스(주) 국회대로주유소    서울 영등포구 국회대로 746 (여의도동)  1919.0  N   GS칼텍스  영등포구   \n",
       "233  현대오일뱅크㈜직영 여의도현대주유소   서울 영등포구 의사당대로 154 (여의도동)  1919.0  N  현대오일뱅크  영등포구   \n",
       "232            버드나룻길주유소    서울 영등포구 버드나루로 111 (당산동)  1890.0  N   SK에너지  영등포구   \n",
       "231             sk여명주유소   서울 영등포구 국회대로62길 7 (여의도동)  1688.0  N   SK에너지  영등포구   \n",
       "56       SK에너지(주) 안국주유소        서울 마포구 양화로 33 (합정동)  1584.0  N   SK에너지   마포구   \n",
       "54               망원동주유소      서울 마포구 월드컵로 119 (망원동)  1448.0  N   SK에너지   마포구   \n",
       "230               대영주유소  서울 영등포구 국회대로 632 (영등포동7가)  1430.0  Y   GS칼텍스  영등포구   \n",
       "229      SK에너지(주) 양평주유소    서울 영등포구 선유로 195 (양평동3가)  1418.0  Y   SK에너지  영등포구   \n",
       "\n",
       "           lat         lng        거리  \n",
       "236  37.530376  126.925570  2.024884  \n",
       "235  37.530739  126.920299  1.559254  \n",
       "234  37.527989  126.916029  1.286819  \n",
       "233  37.517680  126.927479  2.756699  \n",
       "232  37.527974  126.907873  0.707988  \n",
       "231  37.527612  126.916271  1.324295  \n",
       "56   37.549331  126.912557  2.015005  \n",
       "54   37.558741  126.907182  2.895413  \n",
       "230  37.525459  126.904114  0.838462  \n",
       "229  37.531048  126.893507  0.848709  "
      ],
      "text/html": "<div>\n<style scoped>\n    .dataframe tbody tr th:only-of-type {\n        vertical-align: middle;\n    }\n\n    .dataframe tbody tr th {\n        vertical-align: top;\n    }\n\n    .dataframe thead th {\n        text-align: right;\n    }\n</style>\n<table border=\"1\" class=\"dataframe\">\n  <thead>\n    <tr style=\"text-align: right;\">\n      <th></th>\n      <th>이름</th>\n      <th>주소</th>\n      <th>가격</th>\n      <th>셀프</th>\n      <th>상표</th>\n      <th>구</th>\n      <th>lat</th>\n      <th>lng</th>\n      <th>거리</th>\n    </tr>\n  </thead>\n  <tbody>\n    <tr>\n      <th>236</th>\n      <td>SJ오일(주) 여의도주유소</td>\n      <td>서울 영등포구 은행로 64</td>\n      <td>1939.0</td>\n      <td>N</td>\n      <td>GS칼텍스</td>\n      <td>영등포구</td>\n      <td>37.530376</td>\n      <td>126.925570</td>\n      <td>2.024884</td>\n    </tr>\n    <tr>\n      <th>235</th>\n      <td>KH여의도주유소</td>\n      <td>서울 영등포구 국회대로 794 (여의도동)</td>\n      <td>1929.0</td>\n      <td>N</td>\n      <td>SK에너지</td>\n      <td>영등포구</td>\n      <td>37.530739</td>\n      <td>126.920299</td>\n      <td>1.559254</td>\n    </tr>\n    <tr>\n      <th>234</th>\n      <td>지에스칼텍스(주) 국회대로주유소</td>\n      <td>서울 영등포구 국회대로 746 (여의도동)</td>\n      <td>1919.0</td>\n      <td>N</td>\n      <td>GS칼텍스</td>\n      <td>영등포구</td>\n      <td>37.527989</td>\n      <td>126.916029</td>\n      <td>1.286819</td>\n    </tr>\n    <tr>\n      <th>233</th>\n      <td>현대오일뱅크㈜직영 여의도현대주유소</td>\n      <td>서울 영등포구 의사당대로 154 (여의도동)</td>\n      <td>1919.0</td>\n      <td>N</td>\n      <td>현대오일뱅크</td>\n      <td>영등포구</td>\n      <td>37.517680</td>\n      <td>126.927479</td>\n      <td>2.756699</td>\n    </tr>\n    <tr>\n      <th>232</th>\n      <td>버드나룻길주유소</td>\n      <td>서울 영등포구 버드나루로 111 (당산동)</td>\n      <td>1890.0</td>\n      <td>N</td>\n      <td>SK에너지</td>\n      <td>영등포구</td>\n      <td>37.527974</td>\n      <td>126.907873</td>\n      <td>0.707988</td>\n    </tr>\n    <tr>\n      <th>231</th>\n      <td>sk여명주유소</td>\n      <td>서울 영등포구 국회대로62길 7 (여의도동)</td>\n      <td>1688.0</td>\n      <td>N</td>\n      <td>SK에너지</td>\n      <td>영등포구</td>\n      <td>37.527612</td>\n      <td>126.916271</td>\n      <td>1.324295</td>\n    </tr>\n    <tr>\n      <th>56</th>\n      <td>SK에너지(주) 안국주유소</td>\n      <td>서울 마포구 양화로 33 (합정동)</td>\n      <td>1584.0</td>\n      <td>N</td>\n      <td>SK에너지</td>\n      <td>마포구</td>\n      <td>37.549331</td>\n      <td>126.912557</td>\n      <td>2.015005</td>\n    </tr>\n    <tr>\n      <th>54</th>\n      <td>망원동주유소</td>\n      <td>서울 마포구 월드컵로 119 (망원동)</td>\n      <td>1448.0</td>\n      <td>N</td>\n      <td>SK에너지</td>\n      <td>마포구</td>\n      <td>37.558741</td>\n      <td>126.907182</td>\n      <td>2.895413</td>\n    </tr>\n    <tr>\n      <th>230</th>\n      <td>대영주유소</td>\n      <td>서울 영등포구 국회대로 632 (영등포동7가)</td>\n      <td>1430.0</td>\n      <td>Y</td>\n      <td>GS칼텍스</td>\n      <td>영등포구</td>\n      <td>37.525459</td>\n      <td>126.904114</td>\n      <td>0.838462</td>\n    </tr>\n    <tr>\n      <th>229</th>\n      <td>SK에너지(주) 양평주유소</td>\n      <td>서울 영등포구 선유로 195 (양평동3가)</td>\n      <td>1418.0</td>\n      <td>Y</td>\n      <td>SK에너지</td>\n      <td>영등포구</td>\n      <td>37.531048</td>\n      <td>126.893507</td>\n      <td>0.848709</td>\n    </tr>\n  </tbody>\n</table>\n</div>"
     },
     "metadata": {},
     "execution_count": 68
    }
   ],
   "source": [
    "top10 = stations[stations['거리'] < 3].sort_values(by='가격',ascending=False).head(10)\n",
    "top10"
   ]
  },
  {
   "cell_type": "code",
   "execution_count": 69,
   "metadata": {},
   "outputs": [
    {
     "output_type": "execute_result",
     "data": {
      "text/plain": [
       "                 이름                      주소      가격 셀프      상표     구  \\\n",
       "207           행촌주유소   서울 영등포구 도신로 130 (신길동)  1319.0  N   SK에너지  영등포구   \n",
       "208         (주)강서오일         서울 영등포구 도신로 151  1319.0  N  현대오일뱅크  영등포구   \n",
       "209           매봉주유소   서울 영등포구 도신로 248 (신길동)  1329.0  Y  현대오일뱅크  영등포구   \n",
       "212           도림주유소   서울 영등포구 도림로 343 (도림동)  1329.0  Y   알뜰주유소  영등포구   \n",
       "214  ㈜지에스이앤알 모드니주유소         서울 영등포구 경인로 789  1359.0  N   GS칼텍스  영등포구   \n",
       "190   지에스칼텍스㈜ 건지주유소   서울 양천구 안양천로 1171 (목동)  1365.0  Y   GS칼텍스   양천구   \n",
       "215           보라주유소  서울 영등포구 영등포로 399 (신길동)  1368.0  N   GS칼텍스  영등포구   \n",
       "216   지에스칼텍스㈜ 화일주유소         서울 영등포구 도림로 415  1369.0  Y   GS칼텍스  영등포구   \n",
       "192  (주)삼표에너지 목동주유소    서울 양천구 목동서로 129 (목동)  1375.0  N   GS칼텍스   양천구   \n",
       "193           목동주유소   서울 양천구 목동중앙로 125 (목동)  1375.0  Y   SK에너지   양천구   \n",
       "\n",
       "           lat         lng        거리  \n",
       "207  37.508497  126.905985  2.731197  \n",
       "208  37.510015  126.908252  2.592597  \n",
       "209  37.513041  126.918333  2.600020  \n",
       "212  37.507770  126.900257  2.807040  \n",
       "214  37.514671  126.900728  2.038893  \n",
       "190  37.545316  126.882153  2.285081  \n",
       "215  37.513582  126.922725  2.775990  \n",
       "216  37.513257  126.896482  2.258271  \n",
       "192  37.532164  126.875540  2.408229  \n",
       "193  37.539601  126.874553  2.601613  "
      ],
      "text/html": "<div>\n<style scoped>\n    .dataframe tbody tr th:only-of-type {\n        vertical-align: middle;\n    }\n\n    .dataframe tbody tr th {\n        vertical-align: top;\n    }\n\n    .dataframe thead th {\n        text-align: right;\n    }\n</style>\n<table border=\"1\" class=\"dataframe\">\n  <thead>\n    <tr style=\"text-align: right;\">\n      <th></th>\n      <th>이름</th>\n      <th>주소</th>\n      <th>가격</th>\n      <th>셀프</th>\n      <th>상표</th>\n      <th>구</th>\n      <th>lat</th>\n      <th>lng</th>\n      <th>거리</th>\n    </tr>\n  </thead>\n  <tbody>\n    <tr>\n      <th>207</th>\n      <td>행촌주유소</td>\n      <td>서울 영등포구 도신로 130 (신길동)</td>\n      <td>1319.0</td>\n      <td>N</td>\n      <td>SK에너지</td>\n      <td>영등포구</td>\n      <td>37.508497</td>\n      <td>126.905985</td>\n      <td>2.731197</td>\n    </tr>\n    <tr>\n      <th>208</th>\n      <td>(주)강서오일</td>\n      <td>서울 영등포구 도신로 151</td>\n      <td>1319.0</td>\n      <td>N</td>\n      <td>현대오일뱅크</td>\n      <td>영등포구</td>\n      <td>37.510015</td>\n      <td>126.908252</td>\n      <td>2.592597</td>\n    </tr>\n    <tr>\n      <th>209</th>\n      <td>매봉주유소</td>\n      <td>서울 영등포구 도신로 248 (신길동)</td>\n      <td>1329.0</td>\n      <td>Y</td>\n      <td>현대오일뱅크</td>\n      <td>영등포구</td>\n      <td>37.513041</td>\n      <td>126.918333</td>\n      <td>2.600020</td>\n    </tr>\n    <tr>\n      <th>212</th>\n      <td>도림주유소</td>\n      <td>서울 영등포구 도림로 343 (도림동)</td>\n      <td>1329.0</td>\n      <td>Y</td>\n      <td>알뜰주유소</td>\n      <td>영등포구</td>\n      <td>37.507770</td>\n      <td>126.900257</td>\n      <td>2.807040</td>\n    </tr>\n    <tr>\n      <th>214</th>\n      <td>㈜지에스이앤알 모드니주유소</td>\n      <td>서울 영등포구 경인로 789</td>\n      <td>1359.0</td>\n      <td>N</td>\n      <td>GS칼텍스</td>\n      <td>영등포구</td>\n      <td>37.514671</td>\n      <td>126.900728</td>\n      <td>2.038893</td>\n    </tr>\n    <tr>\n      <th>190</th>\n      <td>지에스칼텍스㈜ 건지주유소</td>\n      <td>서울 양천구 안양천로 1171 (목동)</td>\n      <td>1365.0</td>\n      <td>Y</td>\n      <td>GS칼텍스</td>\n      <td>양천구</td>\n      <td>37.545316</td>\n      <td>126.882153</td>\n      <td>2.285081</td>\n    </tr>\n    <tr>\n      <th>215</th>\n      <td>보라주유소</td>\n      <td>서울 영등포구 영등포로 399 (신길동)</td>\n      <td>1368.0</td>\n      <td>N</td>\n      <td>GS칼텍스</td>\n      <td>영등포구</td>\n      <td>37.513582</td>\n      <td>126.922725</td>\n      <td>2.775990</td>\n    </tr>\n    <tr>\n      <th>216</th>\n      <td>지에스칼텍스㈜ 화일주유소</td>\n      <td>서울 영등포구 도림로 415</td>\n      <td>1369.0</td>\n      <td>Y</td>\n      <td>GS칼텍스</td>\n      <td>영등포구</td>\n      <td>37.513257</td>\n      <td>126.896482</td>\n      <td>2.258271</td>\n    </tr>\n    <tr>\n      <th>192</th>\n      <td>(주)삼표에너지 목동주유소</td>\n      <td>서울 양천구 목동서로 129 (목동)</td>\n      <td>1375.0</td>\n      <td>N</td>\n      <td>GS칼텍스</td>\n      <td>양천구</td>\n      <td>37.532164</td>\n      <td>126.875540</td>\n      <td>2.408229</td>\n    </tr>\n    <tr>\n      <th>193</th>\n      <td>목동주유소</td>\n      <td>서울 양천구 목동중앙로 125 (목동)</td>\n      <td>1375.0</td>\n      <td>Y</td>\n      <td>SK에너지</td>\n      <td>양천구</td>\n      <td>37.539601</td>\n      <td>126.874553</td>\n      <td>2.601613</td>\n    </tr>\n  </tbody>\n</table>\n</div>"
     },
     "metadata": {},
     "execution_count": 69
    }
   ],
   "source": [
    "bot10 = stations[stations['거리'] < 3].sort_values(by='가격',ascending=True).head(10)\n",
    "bot10"
   ]
  },
  {
   "source": [
    "Folium으로 지도 그리기"
   ],
   "cell_type": "markdown",
   "metadata": {}
  },
  {
   "cell_type": "code",
   "execution_count": null,
   "metadata": {},
   "outputs": [],
   "source": [
    "import folium"
   ]
  },
  {
   "cell_type": "code",
   "execution_count": 74,
   "metadata": {},
   "outputs": [
    {
     "output_type": "execute_result",
     "data": {
      "text/plain": [
       "<folium.folium.Map at 0x1161e0a0>"
      ],
      "text/html": "<div style=\"width:100%;\"><div style=\"position:relative;width:100%;height:0;padding-bottom:60%;\"><span style=\"color:#565656\">Make this Notebook Trusted to load map: File -> Trust Notebook</span><iframe src=\"about:blank\" style=\"position:absolute;width:100%;height:100%;left:0;top:0;border:none !important;\" data-html=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 onload=\"this.contentDocument.open();this.contentDocument.write(atob(this.getAttribute('data-html')));this.contentDocument.close();\" allowfullscreen webkitallowfullscreen mozallowfullscreen></iframe></div></div>"
     },
     "metadata": {},
     "execution_count": 74
    }
   ],
   "source": [
    "mapping = folium.Map( [home_lat, home_lng], zoom_start = 13)\n",
    "\n",
    "# 아이콘 https://getbootstrap.com/docs/3.4/components/\n",
    "\n",
    "# 집\n",
    "folium.Marker( [home_lat, home_lng], \n",
    "    popup = home_addr , tooltip =  home_addr,\n",
    "    icon=folium.Icon(color = 'blue', icon='home')).add_to(mapping)\n",
    "\n",
    "folium.CircleMarker( [home_lat, home_lng] , radius = 15, color = 'white', fill_color = 'white').add_to(mapping)\n",
    "\n",
    "\n",
    "for i in top10.index:\n",
    "    folium.Marker( [top10.lat[i], top10.lng[i]], \n",
    "    popup = top10['주소'][i], tooltip = f\"{top10['이름'][i]} 셀프: {top10['셀프'][i]}, {top10['가격']}\",\n",
    "    icon=folium.Icon(color = 'red', icon='remove')).add_to(mapping)\n",
    "\n",
    "    folium.CircleMarker( [top10.lat[i], top10.lng[i]] , radius = 15, color = 'red', fill_color = 'purple').add_to(mapping)\n",
    "\n",
    "for i in bot10.index:\n",
    "    folium.Marker( [bot10.lat[i], bot10.lng[i]], \n",
    "    popup = bot10['주소'][i], tooltip =  f\"{bot10['이름'][i]} 셀프: {bot10['셀프'][i]}, {bot10['가격']}\",\n",
    "    icon=folium.Icon(color = 'green', icon='heart')).add_to(mapping)\n",
    "\n",
    "    folium.CircleMarker( [bot10.lat[i], bot10.lng[i]] , radius = 15, color = 'green', fill_color = 'blue').add_to(mapping)\n",
    "\n",
    "mapping\n"
   ]
  },
  {
   "cell_type": "code",
   "execution_count": 73,
   "metadata": {},
   "outputs": [],
   "source": [
    "# 한글이 나오기도 하고 안 나오기도 함\n",
    "mapping.save('집 주변 주유소.html')"
   ]
  }
 ]
}